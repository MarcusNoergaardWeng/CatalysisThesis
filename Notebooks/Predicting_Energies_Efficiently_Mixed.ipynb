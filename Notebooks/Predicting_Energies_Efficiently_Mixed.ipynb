{
 "cells": [
  {
   "attachments": {},
   "cell_type": "markdown",
   "metadata": {},
   "source": [
    "# Predicting energies efficiently and on mixed-sites"
   ]
  },
  {
   "cell_type": "code",
   "execution_count": 136,
   "metadata": {},
   "outputs": [],
   "source": [
    "import xgboost as xgb\n",
    "import numpy as np\n",
    "import pandas as pd\n",
    "from tqdm.notebook import tqdm\n",
    "from xgboost import XGBRegressor\n",
    "import warnings\n",
    "warnings.simplefilter(action='ignore', category=FutureWarning)\n",
    "import time\n",
    "import matplotlib.pyplot as plt"
   ]
  },
  {
   "cell_type": "code",
   "execution_count": 137,
   "metadata": {},
   "outputs": [],
   "source": [
    "#Load H binding energy prediction model\n",
    "H_DFT_model = xgb.Booster({'nthread': 8})\n",
    "H_DFT_model.load_model(\"../models/\"+\"H_DFT.model\")\n",
    "\n",
    "#Load COOH binding energy prediction model\n",
    "COOH_DFT_model = xgb.Booster({'nthread': 8})\n",
    "COOH_DFT_model.load_model(\"../models/\"+\"COOH_DFT.model\")\n",
    "\n",
    "#Load mixed site energy prediction model\n",
    "mixed_DFT_model = xgb.Booster({'nthread': 8})\n",
    "mixed_DFT_model.load_model(\"../models/\"+\"COOH_H.model\")\n",
    "\n",
    "models = {\"H\": H_DFT_model, \"COOH\": COOH_DFT_model, \"mixed\": mixed_DFT_model}"
   ]
  },
  {
   "cell_type": "code",
   "execution_count": 138,
   "metadata": {},
   "outputs": [
    {
     "name": "stdout",
     "output_type": "stream",
     "text": [
      "55\n",
      "20\n",
      "75\n",
      "{'best_iteration': '18', 'best_ntree_limit': '19', 'best_score': '0.150929', 'scikit_learn': '{\"n_estimators\": 500, \"objective\": \"reg:squarederror\", \"max_depth\": 5, \"learning_rate\": 0.1, \"verbosity\": null, \"booster\": null, \"tree_method\": null, \"gamma\": null, \"min_child_weight\": null, \"max_delta_step\": null, \"subsample\": null, \"colsample_bytree\": null, \"colsample_bylevel\": null, \"colsample_bynode\": null, \"reg_alpha\": null, \"reg_lambda\": null, \"scale_pos_weight\": null, \"base_score\": null, \"missing\": NaN, \"num_parallel_tree\": null, \"random_state\": null, \"n_jobs\": 8, \"monotone_constraints\": null, \"interaction_constraints\": null, \"importance_type\": null, \"gpu_id\": null, \"validate_parameters\": null, \"predictor\": null, \"enable_categorical\": false, \"kwargs\": {\"use_label_encoder\": false}, \"evals_result_\": {\"validation_0\": {\"mae\": [0.593315, 0.537968, 0.487932, 0.442318, 0.401622, 0.365934, 0.332539, 0.302993, 0.276135, 0.250841, 0.229254, 0.20982, 0.191445, 0.174601, 0.159716, 0.146139, 0.133887, 0.122421, 0.112256, 0.102825, 0.094677, 0.087148, 0.080087, 0.07393]}, \"validation_1\": {\"mae\": [0.740198, 0.66302, 0.590172, 0.526898, 0.472717, 0.428025, 0.377267, 0.338236, 0.305361, 0.269592, 0.240739, 0.215094, 0.189904, 0.173319, 0.161938, 0.154958, 0.155119, 0.153315, 0.150929, 0.152122, 0.15401, 0.156271, 0.156319, 0.159427]}}, \"_estimator_type\": \"regressor\"}'}\n"
     ]
    }
   ],
   "source": [
    "print(models[\"H\"].num_features())\n",
    "print(models[\"COOH\"].num_features())\n",
    "print(models[\"mixed\"].num_features())\n",
    "print(models[\"mixed\"].attributes())"
   ]
  },
  {
   "attachments": {},
   "cell_type": "markdown",
   "metadata": {},
   "source": [
    "### Compare time to make predictions of COOH and H on a 100 by 100 surface with the new way to predict energies"
   ]
  },
  {
   "attachments": {},
   "cell_type": "markdown",
   "metadata": {},
   "source": [
    "#### Old method:"
   ]
  },
  {
   "cell_type": "code",
   "execution_count": 139,
   "metadata": {},
   "outputs": [
    {
     "data": {
      "application/vnd.jupyter.widget-view+json": {
       "model_id": "eaf8c7654d314825831190e65cb1b0e2",
       "version_major": 2,
       "version_minor": 0
      },
      "text/plain": [
       "Predicting all ΔG:   0%|          | 0/10000 [00:00<?, ?it/s]"
      ]
     },
     "metadata": {},
     "output_type": "display_data"
    }
   ],
   "source": [
    "dim_x, dim_y, split = 100, 100, [1, 1, 1, 1, 1]\n",
    "\n",
    "# Note the stochiometry - used for plotting\n",
    "stochiometry = dict(zip(metals, np.array(split)/np.sum(split)))\n",
    "# Make the surface (empty surface)\n",
    "surface = initialize_surface(dim_x, dim_y, metals, split)\n",
    "\n",
    "# Predict energies on all sites for both adsorbates\n",
    "surface = precompute_binding_energies_TQDM(surface, dim_x, dim_y, models, predict_G)\n"
   ]
  },
  {
   "attachments": {},
   "cell_type": "markdown",
   "metadata": {},
   "source": [
    "#### New method:"
   ]
  },
  {
   "cell_type": "code",
   "execution_count": 141,
   "metadata": {},
   "outputs": [],
   "source": [
    "dim_x, dim_y, split = 1000, 100, [1, 1, 1, 1, 1]\n",
    "\n",
    "# Note the stochiometry - used for plotting\n",
    "stochiometry = dict(zip(metals, np.array(split)/np.sum(split)))\n",
    "# Make the surface (empty surface)\n",
    "surface = initialize_surface(dim_x, dim_y, metals, split)\n",
    "\n",
    "# Predict energies on all sites for both adsorbates\n",
    "surface = precompute_binding_energies_SPEED(surface, dim_x, dim_y, models)"
   ]
  },
  {
   "attachments": {},
   "cell_type": "markdown",
   "metadata": {},
   "source": [
    "### With mixed-site energies"
   ]
  },
  {
   "cell_type": "code",
   "execution_count": 133,
   "metadata": {},
   "outputs": [],
   "source": [
    "dim_x, dim_y, split = 100, 100, [1, 1, 1, 1, 1]\n",
    "\n",
    "# Note the stochiometry - used for plotting\n",
    "stochiometry = dict(zip(metals, np.array(split)/np.sum(split)))\n",
    "# Make the surface (empty surface)\n",
    "surface = initialize_surface(dim_x, dim_y, metals, split)\n",
    "\n",
    "# Predict energies on all sites for both adsorbates\n",
    "surface = precompute_binding_energies_SPEED(surface, dim_x, dim_y, models)\n",
    "\n",
    "# Predict energies on the mixed-sites\n",
    "surface = predict_mixed_energies(surface, dim_x, dim_y, models)"
   ]
  },
  {
   "cell_type": "code",
   "execution_count": 109,
   "metadata": {},
   "outputs": [],
   "source": [
    "# Efter man har fundet den mixed energi, så kan man både få \"COOH givet H\" energien ud og \"H givet COOH\" energien"
   ]
  },
  {
   "attachments": {},
   "cell_type": "markdown",
   "metadata": {},
   "source": [
    "$$ \\Delta G(*COOH(*H)) = \\Delta G(*COOH + *H) -  \\Delta G(*H) $$"
   ]
  },
  {
   "attachments": {},
   "cell_type": "markdown",
   "metadata": {},
   "source": [
    "$$ \\Delta G(*H(*COOH)) = \\Delta G(*COOH + *H) -  \\Delta G(*COOH) $$"
   ]
  },
  {
   "attachments": {},
   "cell_type": "markdown",
   "metadata": {},
   "source": [
    "**Down**\n",
    "\n",
    "COOH(*H) is equal to the mixed energy subtracted the H energy with y = -1\n",
    "\n",
    "H(*COOH) is equal to the mixed energy subtracted the COOH energy with y = +1\n",
    "\n",
    "**Up right**\n",
    "\n",
    "COOH(*H) is equal to the mixed energy subtracted the H energy with the *same index*\n",
    "\n",
    "H(*COOH) is equal to the mixed energy subtracted the COOH energy with the *same index*\n",
    "\n",
    "**Up left**\n",
    "\n",
    "COOH(*H) is equal to the mixed energy subtracted the H energy with x = -1\n",
    "\n",
    "H(*COOH) is equal to the mixed energy subtracted the COOH energy with x = +1"
   ]
  },
  {
   "attachments": {},
   "cell_type": "markdown",
   "metadata": {},
   "source": [
    "I up right situationen skal man trække den rene H energi fra som har samme index\n",
    "\n",
    "Med up left skulle man måske roll'e H energierne, så deres x-værdi bliver rykket én ned."
   ]
  }
 ],
 "metadata": {
  "kernelspec": {
   "display_name": "PUK",
   "language": "python",
   "name": "python3"
  },
  "language_info": {
   "codemirror_mode": {
    "name": "ipython",
    "version": 3
   },
   "file_extension": ".py",
   "mimetype": "text/x-python",
   "name": "python",
   "nbconvert_exporter": "python",
   "pygments_lexer": "ipython3",
   "version": "3.10.8"
  },
  "orig_nbformat": 4
 },
 "nbformat": 4,
 "nbformat_minor": 2
}
