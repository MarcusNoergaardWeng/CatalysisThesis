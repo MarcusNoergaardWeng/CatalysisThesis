{
 "cells": [
  {
   "cell_type": "markdown",
   "id": "b39aff24",
   "metadata": {},
   "source": [
    "# H + COOH Coverage"
   ]
  },
  {
   "cell_type": "markdown",
   "id": "5c72b1a4",
   "metadata": {},
   "source": [
    "#### Imports"
   ]
  },
  {
   "cell_type": "code",
   "execution_count": 19,
   "id": "35b873ff",
   "metadata": {},
   "outputs": [],
   "source": [
    "import numpy as np\n",
    "import matplotlib.pyplot as plt\n",
    "import xgboost as xgb\n",
    "import csv\n",
    "import time\n",
    "\n",
    "np.random.seed(1)"
   ]
  },
  {
   "cell_type": "markdown",
   "id": "1e509b34",
   "metadata": {},
   "source": [
    "#### Load energy prediction models"
   ]
  },
  {
   "cell_type": "code",
   "execution_count": 19,
   "id": "9481cdad",
   "metadata": {},
   "outputs": [],
   "source": [
    "#### Load models\n",
    "#hollow_site_model = xgb.Booster({'nthread': 8})\n",
    "#hollow_site_model.load_model(\"../models/\"+\"Hollow_site.model\")\n",
    "\n",
    "#on_top_site_model = xgb.Booster({'nthread': 8})\n",
    "#on_top_site_model.load_model(\"../models/\"+\"on_top_site.model\")\n",
    "\n",
    "#models = {\"H\": hollow_site_model, \"COOH\": on_top_site_model}"
   ]
  },
  {
   "cell_type": "markdown",
   "id": "b76097fc",
   "metadata": {},
   "source": [
    "#### Setup"
   ]
  },
  {
   "cell_type": "code",
   "execution_count": 3,
   "id": "61719a3c",
   "metadata": {},
   "outputs": [],
   "source": [
    "# Size of the surface\n",
    "dim_x, dim_y = 100, 100\n",
    "\n",
    "# Metals\n",
    "metals = ['Ag', 'Au', 'Cu', 'Pd', 'Pt']\n",
    "\n",
    "# Other parameters (Coming)\n",
    "# Voltages\n",
    "start = 0.025\n",
    "end = 1.05\n",
    "scan_rate = 0.010"
   ]
  },
  {
   "cell_type": "markdown",
   "id": "30a91896",
   "metadata": {},
   "source": [
    "### Run the simulation\n",
    "#### Seperate H and COOH - Precompute all binding energies "
   ]
  },
  {
   "cell_type": "code",
   "execution_count": 11,
   "id": "2fa410c0",
   "metadata": {},
   "outputs": [
    {
     "data": {
      "text/plain": [
       "array([['empty', 'empty', 'empty', ..., 'empty', 'empty', 'empty'],\n",
       "       ['empty', 'empty', 'empty', ..., 'empty', 'empty', 'empty'],\n",
       "       ['empty', 'empty', 'empty', ..., 'empty', 'empty', 'empty'],\n",
       "       ...,\n",
       "       ['empty', 'empty', 'empty', ..., 'empty', 'empty', 'empty'],\n",
       "       ['empty', 'empty', 'empty', ..., 'empty', 'empty', 'empty'],\n",
       "       ['empty', 'empty', 'empty', ..., 'empty', 'empty', 'empty']],\n",
       "      dtype='<U5')"
      ]
     },
     "execution_count": 11,
     "metadata": {},
     "output_type": "execute_result"
    }
   ],
   "source": [
    "surface = initialize_surface(dim_x, dim_y) # I should combine this with the occupance matrix in a dictionary\n",
    "\n",
    "surface[\"ads_hol\"]"
   ]
  },
  {
   "cell_type": "code",
   "execution_count": 44,
   "id": "55c786b5",
   "metadata": {},
   "outputs": [
    {
     "data": {
      "text/plain": [
       "nan"
      ]
     },
     "execution_count": 44,
     "metadata": {},
     "output_type": "execute_result"
    }
   ],
   "source": [
    "surface[\"H_V\"][3][12]"
   ]
  },
  {
   "cell_type": "code",
   "execution_count": 33,
   "id": "27c994e0",
   "metadata": {},
   "outputs": [],
   "source": [
    "log_folder = \"../Coverage_logs/\"\n",
    "simulation_name = \"test_log\" + \".csv\"\n",
    "\n",
    "column_names = ['Adsorbate', 'Action', 'Gibbs E', 'Border_voltage', 'Voltage', 'Index x', 'Index y', 'Timestamp']\n",
    "create_log_file(log_folder + simulation_name + \".csv\", column_names)\n",
    "\n",
    "data = ['Adsorbate1', 'Action1', 1.23, 4.56, 7.89, 2, 3, time.time()]\n",
    "append_to_log_file(log_folder + simulation_name + \".csv\", data)"
   ]
  },
  {
   "cell_type": "code",
   "execution_count": 41,
   "id": "b43975d7",
   "metadata": {},
   "outputs": [],
   "source": [
    "## Define the simulation name for the log file\n",
    "log_folder = \"../Coverage_logs/\"\n",
    "simulation_name = \"test_log\"\n",
    "\n",
    "## Create the log file with column names\n",
    "column_names = ['Adsorbate', 'Action', 'Gibbs E', 'Border_voltage', 'Voltage', 'Index x', 'Index y', 'Timestamp']\n",
    "create_log_file(log_folder + simulation_name + \".csv\", column_names)\n",
    "\n",
    "## Create the surface with: 'atoms', 'ads_top', 'ads_hol', 'COOH_G', 'H_G', 'COOH_V', 'H_V'\n",
    "surface = initialize_surface(dim_x, dim_y) # Combined with the occupance matrix in a dictionary\n",
    "\n",
    "## Precompute all binding energies\n",
    "models = \"_\" #Put this here, when just using the quick and easy random guesses for G's. Now we can continue on the simulation!\n",
    "surface = precompute_binding_energies(surface, dim_x, dim_y, models, predict_G_TEST)\n",
    "start_time = time.time()\n",
    "## Set a voltage\n",
    "for voltage in voltage_sweep(start, end, scan_rate): # Approximates the desired scan rate\n",
    "    \n",
    "    ## Look through all sites\n",
    "    \n",
    "    surface = decision_to_leave(G = G, site_x = x, site_y = y, surface = surface) ## I could REMOVE or ADD stuff right here for simplicity. I guess ideally I would add the most negative energy first, but if I just do small steps in voltage it shouldn't matter. I can avoid a huge complication by doing it like this\n",
    "        # So decision_to_leave goes through both adsorbates, but not all sites. Maybe it should either go through all sites and both adsorbates or none. I'll go with both\n",
    "## and predict all adsorbtion energies\n",
    "\n",
    "## Log stats of the surface"
   ]
  },
  {
   "cell_type": "code",
   "execution_count": null,
   "id": "1bd7794b",
   "metadata": {},
   "outputs": [],
   "source": [
    "## I should probably have a log that saves for each voltage: the voltage, the number of adsorbates, number of neighbours "
   ]
  },
  {
   "cell_type": "code",
   "execution_count": 40,
   "id": "ebd67a89",
   "metadata": {},
   "outputs": [
    {
     "data": {
      "text/plain": [
       "{'atoms': array([[['Ag', 'Pd', 'Pd'],\n",
       "         ['Pd', 'Pd', 'Ag'],\n",
       "         ['Pd', 'Pt', 'Pd'],\n",
       "         ...,\n",
       "         ['Au', 'Cu', 'Cu'],\n",
       "         ['Ag', 'Pd', 'Ag'],\n",
       "         ['Pd', 'Au', 'Au']],\n",
       " \n",
       "        [['Au', 'Pd', 'Pt'],\n",
       "         ['Pt', 'Pt', 'Cu'],\n",
       "         ['Au', 'Ag', 'Ag'],\n",
       "         ...,\n",
       "         ['Au', 'Ag', 'Pt'],\n",
       "         ['Pt', 'Pd', 'Ag'],\n",
       "         ['Cu', 'Pd', 'Cu']],\n",
       " \n",
       "        [['Pt', 'Pd', 'Au'],\n",
       "         ['Pt', 'Cu', 'Cu'],\n",
       "         ['Pt', 'Pt', 'Pd'],\n",
       "         ...,\n",
       "         ['Au', 'Cu', 'Cu'],\n",
       "         ['Au', 'Pd', 'Pd'],\n",
       "         ['Pt', 'Au', 'Pt']],\n",
       " \n",
       "        ...,\n",
       " \n",
       "        [['Ag', 'Pt', 'Au'],\n",
       "         ['Cu', 'Pt', 'Au'],\n",
       "         ['Ag', 'Pt', 'Pt'],\n",
       "         ...,\n",
       "         ['Pt', 'Au', 'Ag'],\n",
       "         ['Cu', 'Pt', 'Cu'],\n",
       "         ['Pt', 'Pt', 'Pt']],\n",
       " \n",
       "        [['Ag', 'Pt', 'Cu'],\n",
       "         ['Pd', 'Ag', 'Cu'],\n",
       "         ['Pd', 'Pt', 'Cu'],\n",
       "         ...,\n",
       "         ['Ag', 'Pt', 'Pd'],\n",
       "         ['Au', 'Cu', 'Pt'],\n",
       "         ['Au', 'Pd', 'Cu']],\n",
       " \n",
       "        [['Au', 'Pt', 'Au'],\n",
       "         ['Ag', 'Au', 'Ag'],\n",
       "         ['Ag', 'Pd', 'Cu'],\n",
       "         ...,\n",
       "         ['Pt', 'Cu', 'Ag'],\n",
       "         ['Pd', 'Pt', 'Pd'],\n",
       "         ['Cu', 'Pt', 'Ag']]], dtype='<U2'),\n",
       " 'ads_top': array([['empty', 'empty', 'empty', ..., 'empty', 'empty', 'empty'],\n",
       "        ['empty', 'empty', 'empty', ..., 'empty', 'empty', 'empty'],\n",
       "        ['empty', 'empty', 'empty', ..., 'empty', 'empty', 'empty'],\n",
       "        ...,\n",
       "        ['empty', 'empty', 'empty', ..., 'empty', 'empty', 'empty'],\n",
       "        ['empty', 'empty', 'empty', ..., 'empty', 'empty', 'empty'],\n",
       "        ['empty', 'empty', 'empty', ..., 'empty', 'empty', 'empty']],\n",
       "       dtype='<U5'),\n",
       " 'ads_hol': array([['empty', 'empty', 'empty', ..., 'empty', 'empty', 'empty'],\n",
       "        ['empty', 'empty', 'empty', ..., 'empty', 'empty', 'empty'],\n",
       "        ['empty', 'empty', 'empty', ..., 'empty', 'empty', 'empty'],\n",
       "        ...,\n",
       "        ['empty', 'empty', 'empty', ..., 'empty', 'empty', 'empty'],\n",
       "        ['empty', 'empty', 'empty', ..., 'empty', 'empty', 'empty'],\n",
       "        ['empty', 'empty', 'empty', ..., 'empty', 'empty', 'empty']],\n",
       "       dtype='<U5'),\n",
       " 'COOH_G': array([[2.10626289, 1.03934409, 1.76084909, ..., 1.52855184, 1.76439275,\n",
       "         1.51822367],\n",
       "        [1.6244435 , 1.46772794, 2.29431093, ..., 1.13226956, 1.35718273,\n",
       "         2.07489803],\n",
       "        [2.24532191, 1.03175445, 1.30258462, ..., 1.54379935, 0.8006609 ,\n",
       "         0.85935655],\n",
       "        ...,\n",
       "        [1.83057734, 1.74558744, 1.56289827, ..., 1.42643844, 1.71052722,\n",
       "         1.30326164],\n",
       "        [1.89140129, 1.37082856, 1.08507454, ..., 2.00363224, 1.99658937,\n",
       "         1.41705361],\n",
       "        [1.32305833, 1.94207916, 2.01858684, ..., 1.50347599, 1.68780109,\n",
       "         2.1752157 ]]),\n",
       " 'H_G': array([[ 5.58862548e-01, -2.33119804e-01, -3.60390893e-01, ...,\n",
       "          9.22529390e-02,  3.28454524e-01,  5.24748444e-01],\n",
       "        [ 9.84818023e-01,  4.13042011e-01,  8.16554155e-02, ...,\n",
       "          6.89349174e-01,  2.24949600e-01,  4.21611760e-01],\n",
       "        [ 4.57552201e-01,  5.90049142e-01, -8.85336512e-02, ...,\n",
       "         -4.55751524e-01,  1.62364911e-01, -3.00298038e-01],\n",
       "        ...,\n",
       "        [ 3.18669067e-02, -6.92771962e-02, -8.61856331e-05, ...,\n",
       "         -3.22390808e-01,  4.71185846e-01,  2.46588748e-01],\n",
       "        [ 1.16839841e-01,  6.40929525e-01,  9.54540901e-01, ...,\n",
       "          5.34072291e-01,  3.93051985e-01,  5.14973390e-01],\n",
       "        [ 1.55650993e-01, -1.43687278e-02, -4.19461137e-01, ...,\n",
       "         -1.91116809e-01, -7.22942923e-01,  1.24508418e+00]]),\n",
       " 'COOH_V': array([[2.10626289, 1.03934409, 1.76084909, ..., 1.52855184, 1.76439275,\n",
       "         1.51822367],\n",
       "        [1.6244435 , 1.46772794, 2.29431093, ..., 1.13226956, 1.35718273,\n",
       "         2.07489803],\n",
       "        [2.24532191, 1.03175445, 1.30258462, ..., 1.54379935, 0.8006609 ,\n",
       "         0.85935655],\n",
       "        ...,\n",
       "        [1.83057734, 1.74558744, 1.56289827, ..., 1.42643844, 1.71052722,\n",
       "         1.30326164],\n",
       "        [1.89140129, 1.37082856, 1.08507454, ..., 2.00363224, 1.99658937,\n",
       "         1.41705361],\n",
       "        [1.32305833, 1.94207916, 2.01858684, ..., 1.50347599, 1.68780109,\n",
       "         2.1752157 ]]),\n",
       " 'H_V': array([[-5.58862548e-01,  2.33119804e-01,  3.60390893e-01, ...,\n",
       "         -9.22529390e-02, -3.28454524e-01, -5.24748444e-01],\n",
       "        [-9.84818023e-01, -4.13042011e-01, -8.16554155e-02, ...,\n",
       "         -6.89349174e-01, -2.24949600e-01, -4.21611760e-01],\n",
       "        [-4.57552201e-01, -5.90049142e-01,  8.85336512e-02, ...,\n",
       "          4.55751524e-01, -1.62364911e-01,  3.00298038e-01],\n",
       "        ...,\n",
       "        [-3.18669067e-02,  6.92771962e-02,  8.61856331e-05, ...,\n",
       "          3.22390808e-01, -4.71185846e-01, -2.46588748e-01],\n",
       "        [-1.16839841e-01, -6.40929525e-01, -9.54540901e-01, ...,\n",
       "         -5.34072291e-01, -3.93051985e-01, -5.14973390e-01],\n",
       "        [-1.55650993e-01,  1.43687278e-02,  4.19461137e-01, ...,\n",
       "          1.91116809e-01,  7.22942923e-01, -1.24508418e+00]])}"
      ]
     },
     "execution_count": 40,
     "metadata": {},
     "output_type": "execute_result"
    }
   ],
   "source": [
    "surface"
   ]
  },
  {
   "cell_type": "markdown",
   "id": "9d064ff7",
   "metadata": {},
   "source": [
    "#### Plot the statistics"
   ]
  },
  {
   "cell_type": "code",
   "execution_count": null,
   "id": "0ca5d560",
   "metadata": {},
   "outputs": [],
   "source": [
    "# Make a nice plot showing how many neighbours, etc. there are at each voltage"
   ]
  },
  {
   "cell_type": "markdown",
   "id": "9bb2e0d7",
   "metadata": {},
   "source": [
    "#### Functions (To be moved to seperate .py file)"
   ]
  },
  {
   "cell_type": "code",
   "execution_count": 37,
   "id": "2c8c6750",
   "metadata": {},
   "outputs": [],
   "source": [
    "def initialize_surface(dim_x, dim_y): #Is still random - could be used with a seed in the name of reproduceability\n",
    "    dim_z = 3\n",
    "    surface_list = np.array([int(dim_x*dim_y*dim_z/len(metals))*[metals[metal_number]] for metal_number in range(len(metals))]).flatten() #Jack had a way shorter way of doing this, but I think it was random drawing instead of ensuring a perfectly even split\n",
    "    np.random.shuffle(surface_list) #Shuffle list\n",
    "    surf_atoms = np.reshape(surface_list, (dim_x, dim_y, dim_z)) #Reshape list to the\n",
    "    \n",
    "    # Adsorbates\n",
    "    surf_ads_top = np.reshape([\"empty\"]*dim_x*dim_y, (dim_x, dim_y))\n",
    "    surf_ads_hol = np.reshape([\"empty\"]*dim_x*dim_y, (dim_x, dim_y))\n",
    "    \n",
    "    # Binding energies\n",
    "    surf_COOH_G = np.reshape([np.nan]*dim_x*dim_y, (dim_x, dim_y))# On-top sites\n",
    "    surf_H_G    = np.reshape([np.nan]*dim_x*dim_y, (dim_x, dim_y))# On-top sites# Hollow sites\n",
    "    \n",
    "    # Ad/desorbs at voltage (At which voltage is the binding energy 0?)\n",
    "    surf_COOH_V = np.reshape([np.nan]*dim_x*dim_y, (dim_x, dim_y))# On-top sites\n",
    "    surf_H_V    = np.reshape([np.nan]*dim_x*dim_y, (dim_x, dim_y))# On-top sites# Hollow sites\n",
    "    \n",
    "    surf = {\"atoms\": surf_atoms, \"ads_top\": surf_ads_top, \"ads_hol\": surf_ads_top, \"COOH_G\": surf_COOH_G, \"H_G\": surf_H_G, \"COOH_V\": surf_COOH_V, \"H_V\": surf_H_V}\n",
    "    return surf\n",
    "\n",
    "def voltage_sweep(start, end, scan_rate):\n",
    "    return np.linspace(start, end, int(np.abs(start - end) / scan_rate))\n",
    "\n",
    "#def voltage_circle\n",
    "#def voltage_up_down (All these could be worked into a single function)\n",
    "\n",
    "def predict_G(ads, site_x, site_y, surface, models):\n",
    "    \"\"\"This function returns the predicted binding energy without taking the voltage into account\"\"\"\n",
    "    # Make vectors from the surface structure\n",
    "    if ads == \"H\":\n",
    "        input_vector = hollow_site_vector(surface[\"atoms\"], site_x, site_y)\n",
    "    if ads == \"COOH\":\n",
    "        input_vector = on_top_site_vector(surface[\"atoms\"], site_x, site_y)\n",
    "    \n",
    "    # Use the gibbs free energy prediction model\n",
    "    G = models[ads].predict(input_vector) #Check out, that this is the way to input\n",
    "\n",
    "    return G\n",
    "\n",
    "def predict_G_TEST(ads, site_x, site_y, surface, models):\n",
    "    if ads == \"H\":\n",
    "        G = np.random.normal(0.25, 0.5) #mean 0.25 eV 1 sigma spread omkring 0.5 eV\n",
    "    if ads == \"COOH\":\n",
    "        G = np.random.normal(1.53, 0.44)\n",
    "    return G\n",
    "\n",
    "def calc_V_border(ads, G):\n",
    "    \"\"\"This function returns the border-voltage, at which the adsorbate adsorbs or desorbs\"\"\"\n",
    "    \n",
    "    if ads == \"H\":\n",
    "        V_border = - G\n",
    "    if ads == \"COOH\":\n",
    "        V_border = G\n",
    "    \n",
    "    return V_border\n",
    "\n",
    "def decision_to_leave(voltage, V_border, dim_x, dim_y, surface):\n",
    "    ## Look through all sites (not bridge sites yet) by index\n",
    "    for site_x, site_y in [(x, y) for x in range(dim_x) for y in range(dim_y)]:\n",
    "        \n",
    "        ## Look at both adsorbates\n",
    "        for ads in [\"H\", \"COOH\"]:\n",
    "            if ads == \"H\":\n",
    "                site_type = \"ads_hol\"\n",
    "            if ads == \"COOH\":\n",
    "                site_type = \"ads_top\"\n",
    "                \n",
    "            ## What is sitting at the site currently?\n",
    "            ads_current = surface[site_type][site_x][site_y] #OOPS - We need to look at the appropriate site, hence the \"site_type\" variable\n",
    "\n",
    "            ## Is the adsorbant there?\n",
    "            is_ads_there = surface[site_type][site_x][site_y] != \"empty\"\n",
    "            # Is something supposed to be there?\n",
    "            if ads == \"H\":\n",
    "                supposed_to  = voltage < V_border\n",
    "            if ads == \"COOH\":\n",
    "                supposed_to  = voltage > V_border\n",
    "            \n",
    "            # Now there is four options\n",
    "            ## The two, where everything is, as it is supposed to be: #if is_ads_there == supposed_to: do nothing\n",
    "            \n",
    "            # The option where the adsorbate is not there, but it should be:\n",
    "            if (is_ads_there == False) and (supposed_to == True):\n",
    "                # Adsorb the adsorbates\n",
    "                surface[site_type][site_x][site_y] = ads\n",
    "                ## Write to log:\n",
    "                # column_names = ['Adsorbate', 'Action',    'Gibbs E',                          'Border_voltage',                 'Voltage','Index x', 'Index y', 'Timestamp']\n",
    "                data =           [ads,         \"adsorption\", surface[ads+\"_G\"][site_x, site_y], surface[ads+\"_V\"][site_x, site_y], voltage,  site_x,    site_y, start_time - time.time()]\n",
    "                append_to_log_file(log_folder + simulation_name + \".csv\", data)\n",
    "            \n",
    "            # The option where the adsorbate is there, and it should not be:\n",
    "            if (is_ads_there == True) and (supposed_to == False):\n",
    "                # Adsorb the adsorbates\n",
    "                surface[site_type][site_x][site_y] = ads\n",
    "                # Write to log:\n",
    "                 # column_names = ['Adsorbate', 'Action',    'Gibbs E',                          'Border_voltage',                 'Voltage','Index x', 'Index y', 'Timestamp']\n",
    "                data =           [ads,         \"desorption\", surface[ads+\"_G\"][site_x, site_y], surface[ads+\"_V\"][site_x, site_y], voltage,  site_x,    site_y, start_time - time.time()]\n",
    "                append_to_log_file(log_folder + simulation_name + \".csv\", data)\n",
    "    \n",
    "    return surface\n",
    "\n",
    "def precompute_binding_energies(surface, dim_x, dim_y, models, predict_G_function):\n",
    "    for x, y in [(x, y) for x in range(dim_x) for y in range(dim_y)]: # I could randomise this, so I go through all sites in a random order\n",
    "        ## What is the binding energy # With more adsorbates in future can be exchanged for a loop through the adsorbates\n",
    "        ads = \"H\"\n",
    "        surface[\"H_G\"][x][y] = predict_G_function(ads = ads, site_x = x, site_y = y, surface = surface, models = models) ## A new function that wraps/uses the XGBoost model\n",
    "        surface[\"H_V\"][x][y] = calc_V_border(ads = ads, G = surface[\"H_G\"][x][y])\n",
    "        \n",
    "    for x, y in [(x, y) for x in range(dim_x) for y in range(dim_y)]:\n",
    "        ads = \"COOH\"\n",
    "        surface[\"COOH_G\"][x][y] = predict_G_function(ads = ads, site_x = x, site_y = y, surface = surface, models = models) ## A new function that wraps/uses the XGBoost model\n",
    "        surface[\"COOH_V\"][x][y] = calc_V_border(ads = ads, G = surface[\"COOH_G\"][x][y])\n",
    "\n",
    "    return surface\n",
    "\n",
    "def count_pairs(surface):\n",
    "    \n",
    "    return pairs\n",
    "\n",
    "def create_log_file(file_name, column_names):\n",
    "    with open(file_name, 'w', newline='') as csvfile:\n",
    "        writer = csv.writer(csvfile)\n",
    "        writer.writerow(column_names)\n",
    "    return None\n",
    "\n",
    "def append_to_log_file(file_name, data):\n",
    "    with open(file_name, 'a', newline='') as csvfile:\n",
    "        writer = csv.writer(csvfile)\n",
    "        writer.writerow(data)\n",
    "    return None"
   ]
  },
  {
   "cell_type": "code",
   "execution_count": 45,
   "id": "ab50c984",
   "metadata": {},
   "outputs": [
    {
     "name": "stdout",
     "output_type": "stream",
     "text": [
      "[[ 0.17280566 -0.19968336  0.42750619 ...  0.79594875 -0.04074284\n",
      "   0.55083234]\n",
      " [ 0.38837039 -0.1737978   0.52458573 ...  0.85998104 -0.16502527\n",
      "  -0.01095899]\n",
      " [-0.22112595  0.52970486 -0.14779448 ...  0.54425517  0.15235065\n",
      "   0.87593994]\n",
      " ...\n",
      " [-0.03961668  0.13187917  0.30173726 ... -0.11850723  1.5944644\n",
      "   0.49193473]\n",
      " [ 0.45507857  0.93111877  0.06668144 ...  0.22764701  1.08070272\n",
      "   0.0991517 ]\n",
      " [ 0.6149974  -0.17856406  0.78286791 ... -1.81847171  0.00651988\n",
      "   1.5217975 ]]\n"
     ]
    },
    {
     "data": {
      "text/plain": [
       "dict_keys(['atoms', 'ads_top', 'ads_hol', 'COOH_G', 'H_G', 'COOH_V', 'H_V'])"
      ]
     },
     "execution_count": 45,
     "metadata": {},
     "output_type": "execute_result"
    }
   ],
   "source": [
    "ads = \"H\"\n",
    "print(surface[ads+\"_G\"])\n",
    "surface.keys()"
   ]
  },
  {
   "cell_type": "markdown",
   "id": "7e00a6d1",
   "metadata": {},
   "source": [
    "#### Just quickly checking how the energies look"
   ]
  },
  {
   "cell_type": "code",
   "execution_count": 30,
   "id": "2c56b6d1",
   "metadata": {},
   "outputs": [
    {
     "name": "stdout",
     "output_type": "stream",
     "text": [
      "Mean: 1.5326902202380952\n",
      "Spread (Standard Deviation): 0.4410240645509031\n"
     ]
    }
   ],
   "source": [
    "import csv\n",
    "import statistics\n",
    "\n",
    "# Specify the file path and name\n",
    "csv_file = '../csv_features/COOH_features.csv'\n",
    "\n",
    "# Specify the target column header\n",
    "target_column = \"G_ads (eV)\"\n",
    "\n",
    "# Open the .csv file and read its contents using list comprehension\n",
    "with open(csv_file, 'r') as file:\n",
    "    # Create a CSV reader object\n",
    "    reader = csv.DictReader(file)\n",
    "    \n",
    "    # Extract the values of the target column using list comprehension\n",
    "    target_values = [float(row[target_column]) for row in reader]\n",
    "\n",
    "# Calculate the mean and spread (standard deviation) of the target values\n",
    "mean = statistics.mean(target_values)\n",
    "spread = statistics.stdev(target_values)\n",
    "\n",
    "# Print the mean and spread\n",
    "print(\"Mean:\", mean)\n",
    "print(\"Spread (Standard Deviation):\", spread)"
   ]
  },
  {
   "cell_type": "code",
   "execution_count": 28,
   "id": "279f108b",
   "metadata": {},
   "outputs": [],
   "source": [
    "import csv\n",
    "\n",
    "# Specify the file path and name\n",
    "csv_file = '../csv_features/COOH_features.csv'\n",
    "\n",
    "# Open the .csv file and read its contents\n",
    "with open(csv_file, 'r') as file:\n",
    "    # Create a CSV reader object\n",
    "    reader = csv.DictReader(file)\n",
    "    \n",
    "    # Extract the header names\n",
    "    header_names = reader.fieldnames\n",
    "\n",
    "# Now you have the header names in the header_names list\n"
   ]
  },
  {
   "cell_type": "code",
   "execution_count": 29,
   "id": "776a12ab",
   "metadata": {},
   "outputs": [
    {
     "data": {
      "text/plain": [
       "['feature0',\n",
       " 'feature1',\n",
       " 'feature2',\n",
       " 'feature3',\n",
       " 'feature4',\n",
       " 'feature5',\n",
       " 'feature6',\n",
       " 'feature7',\n",
       " 'feature8',\n",
       " 'feature9',\n",
       " 'feature10',\n",
       " 'feature11',\n",
       " 'feature12',\n",
       " 'feature13',\n",
       " 'feature14',\n",
       " 'feature15',\n",
       " 'feature16',\n",
       " 'feature17',\n",
       " 'feature18',\n",
       " 'feature19',\n",
       " 'G_ads(eV)',\n",
       " 'slab db row',\n",
       " 'COOH_C_adsorbed_out.dbrow']"
      ]
     },
     "execution_count": 29,
     "metadata": {},
     "output_type": "execute_result"
    }
   ],
   "source": [
    "header_names"
   ]
  },
  {
   "cell_type": "markdown",
   "id": "f92d06ad",
   "metadata": {},
   "source": [
    "#### Logik\n",
    "\n",
    "Oh shit, kunne man ikke bare predicte alle energier én gang? Det er simpelt i den model, hvor ingen nabointeraktioner tages med. Der skal også komme en model, som tager højde for H og COOH ved siden af hinanden. Men der kunne alle sites og så vinkel i alle retninger gemmes i et look-up table. Så predicter man først alle energier én gang, og så har man bare gemt en matrix med de spændinger, som ville få et adsorbat til at hoppe på/af.\n",
    "\n",
    "Måske gem alle.\n",
    "\n",
    "I surface dict kan jeg bare gemme ekstra lag, som hedder H_G, H_Voltage (hvor hvis voltage er UNDER hopper den på) og samme med COOH_G og COOH_Voltage (Hvor hvis voltage er OVER hopper den på) Så kan alt det preprocessing laves inden man \"kører simulationen\", som så bliver utroligt simpelt. Oh shit et speedup det kan blive til.\n",
    "\n",
    "Hvad er logikken når man sætter en *H ved siden af en *COOH eller en *COOH ved siden af en *H?\n",
    "Skal man for hver H der allerede sidder se, om der gerne vil sætte sig en COOH ved siden af, med den model der tager højde for begge?\n",
    "ELLER\n",
    "Skal sitet til en COOH ved siden af en *H som allerede sidder der først være favorabelt for en COOH, og så tjekker man med *H+*COOH-modellen om det er favorabelt, når man tager højde for nabointeraktion gennem modellen?"
   ]
  },
  {
   "cell_type": "code",
   "execution_count": 30,
   "id": "e880fdca",
   "metadata": {
    "collapsed": true
   },
   "outputs": [
    {
     "data": {
      "text/plain": [
       "0.20500000000000002"
      ]
     },
     "execution_count": 30,
     "metadata": {},
     "output_type": "execute_result"
    }
   ],
   "source": [
    "np.abs(start - end) / number of numbers = scan_rate"
   ]
  }
 ],
 "metadata": {
  "kernelspec": {
   "display_name": "Python 3 (ipykernel)",
   "language": "python",
   "name": "python3"
  },
  "language_info": {
   "codemirror_mode": {
    "name": "ipython",
    "version": 3
   },
   "file_extension": ".py",
   "mimetype": "text/x-python",
   "name": "python",
   "nbconvert_exporter": "python",
   "pygments_lexer": "ipython3",
   "version": "3.10.8"
  }
 },
 "nbformat": 4,
 "nbformat_minor": 5
}
