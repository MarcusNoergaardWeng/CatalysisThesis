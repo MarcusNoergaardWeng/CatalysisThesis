{
 "cells": [
  {
   "cell_type": "markdown",
   "id": "51d84135",
   "metadata": {},
   "source": [
    "## Training energy-prediction models for all adsorbants\n",
    "\n",
    "**Features**: Adsorbant, Surface\n",
    "\n",
    "**Target**: The energy associated with both the slab and the adsorbant"
   ]
  },
  {
   "cell_type": "code",
   "execution_count": 1,
   "id": "afcc785c",
   "metadata": {},
   "outputs": [],
   "source": [
    "import pandas as pd\n",
    "import numpy as np\n",
    "import matplotlib.pyplot as plt\n",
    "import ase\n",
    "from ase.db import connect\n",
    "import sys\n",
    "import os"
   ]
  },
  {
   "cell_type": "code",
   "execution_count": 2,
   "id": "3d456ce3",
   "metadata": {},
   "outputs": [
    {
     "name": "stdout",
     "output_type": "stream",
     "text": [
      "Single element: \n",
      "['single_element_H_out.db', 'single_element_COOH_COH_adsorbed_out.db', 'single_element_COOH_H_CO_adsorbed_out.db', 'single_element_COOH_C_adsorbed_out.db', 'single_element_COOH_CO_adsorbed_out.db', 'single_element_CO_out.db', 'single_elements_COOH_CO_adsorbed_out.db', 'single_element_COOH_H_on_O_OO_adsorbed_out.db', 'single_element_slabs_out.db', 'single_elements_COOH_COH_adsorbed_out.db', 'single_element_COOH_H_CO_and_H2O_like_out.db', 'single_element_HCOOH_O_adsorbed_out.db', 'single_element_COOH_O_adsorbed_out.db', 'single_element_COOH_H_COH_adsorbed_out.db']\n",
      "\n",
      "HEA: \n",
      "['HCOOH_O_adsorbed_out.db', 'H_out.db', 'COOH_H_on_O_OO_adsorbed_out.db', 'COOH_O_adsorbed_out.db', 'CO_out.db', 'COOH_CO_adsorbed_out.db', 'COOH_H_on_C_OO_adsorbed_out.db', 'COOH_C_adsorbed_out.db', 'COOH_COH_adsorbed_out.db']\n"
     ]
    }
   ],
   "source": [
    "# Attach Jacks formic acid data\n",
    "formic_acid_data_path = \"../Experiments/AgAuCuPdPt_data/1_databases/relaxed/\"\n",
    "\n",
    "single_element_dbs = []\n",
    "HEA_dbs = []\n",
    "\n",
    "for filename in os.listdir(formic_acid_data_path):\n",
    "    if filename[-3:] == \".db\":\n",
    "        if filename[0:14] == \"single_element\":\n",
    "            single_element_dbs.append(filename)\n",
    "        if filename[0] == \"H\" or filename[0] == \"C\":\n",
    "            HEA_dbs.append(filename)\n",
    "\n",
    "print(f\"Single element: \\n{single_element_dbs}\\n\")\n",
    "print(f\"HEA: \\n{HEA_dbs}\")"
   ]
  },
  {
   "cell_type": "code",
   "execution_count": 3,
   "id": "9d636b93",
   "metadata": {},
   "outputs": [
    {
     "name": "stdout",
     "output_type": "stream",
     "text": [
      "Adsorbant dataset: HCOOH_O_adsorbed_out.db\n",
      "Adsorbant dataset: H_out.db\n",
      "Adsorbant dataset: COOH_H_on_O_OO_adsorbed_out.db\n",
      "Adsorbant dataset: COOH_O_adsorbed_out.db\n",
      "Adsorbant dataset: CO_out.db\n",
      "Adsorbant dataset: COOH_CO_adsorbed_out.db\n",
      "Adsorbant dataset: COOH_H_on_C_OO_adsorbed_out.db\n",
      "Adsorbant dataset: COOH_C_adsorbed_out.db\n",
      "Adsorbant dataset: COOH_COH_adsorbed_out.db\n"
     ]
    }
   ],
   "source": [
    "# Make some kind of training loop, which trains and saves a model for each dataset\n",
    "# I could start with an XGBoost model, but the \n",
    "\n",
    "for adsorbant_db in HEA_dbs:\n",
    "    print(f\"Adsorbant dataset: {adsorbant_db}\")\n",
    "    \n",
    "    # Any preprocessing?\n",
    "    \n",
    "    # Train model here\n",
    "    \n",
    "    # Test model here and show performance\n",
    "    \n",
    "    # Save a parity plot\n",
    "    \n",
    "    # Save model \n",
    "    \n",
    "    \n",
    "# Maybe save them in a dictionary, such that one could just utilize a single E_models dictionary, that contains all models\n"
   ]
  },
  {
   "cell_type": "code",
   "execution_count": 4,
   "id": "21b51313",
   "metadata": {},
   "outputs": [],
   "source": [
    "# I am interested in energy prediction models of the following adsorbates:\n",
    "## *COOH ## On-top\n",
    "##  *CO  ## On-top"
   ]
  },
  {
   "cell_type": "markdown",
   "id": "4e746886",
   "metadata": {},
   "source": [
    "## Using the Graph Convolutional Network that CMC worked on"
   ]
  },
  {
   "cell_type": "markdown",
   "id": "85ded3ea",
   "metadata": {},
   "source": [
    "### Step 1: Make graphs from all slabs"
   ]
  },
  {
   "cell_type": "code",
   "execution_count": 5,
   "id": "2094ee47",
   "metadata": {},
   "outputs": [],
   "source": [
    "sys.path.append('../utils')"
   ]
  },
  {
   "cell_type": "code",
   "execution_count": 9,
   "id": "4088a173",
   "metadata": {},
   "outputs": [],
   "source": [
    "from features import db_to_graphs"
   ]
  },
  {
   "cell_type": "code",
   "execution_count": 10,
   "id": "59240d03",
   "metadata": {},
   "outputs": [
    {
     "data": {
      "text/plain": [
       "<function features.db_to_graphs(surface_elements, adsorbate_elements, n_neighbors, fmax, db, ref_dict)>"
      ]
     },
     "execution_count": 10,
     "metadata": {},
     "output_type": "execute_result"
    }
   ],
   "source": [
    "db_to_graphs"
   ]
  },
  {
   "cell_type": "code",
   "execution_count": 57,
   "id": "9ef00f70",
   "metadata": {},
   "outputs": [],
   "source": [
    "project_name = 'Formic_Acid'\n",
    "\n",
    "site_list = ['ontop']\n",
    "ads_list = ['COOH','CO']\n",
    "\n",
    "surface_elements = ['Ag','Au','Cu','Pd','Pt']\n",
    "adsorbate_elements = ['C','C']\n",
    "\n",
    "n_neighbours = 2\n",
    "fmax = 0.1\n",
    "\n",
    "db = connect(\"../Database_files/COOH_C_adsorbed_out.db\")\n",
    "\n",
    "ref_dict = {'ontop_COOH':connect(formic_acid_data_path + 'single_element_COOH_C_adsorbed_out.db').get(id = \"5\").energy,\n",
    "        'ontop_CO':connect(\"../Database_files/single_element_CO_out.db\").get(id = \"5\").energy,\n",
    "        'slab':connect(\"../Database_files/slabs_out.db\").get(id = \"5\").energy}\n",
    "\n"
   ]
  },
  {
   "cell_type": "markdown",
   "id": "b0971470",
   "metadata": {},
   "source": [
    "### Bugfixing"
   ]
  },
  {
   "cell_type": "code",
   "execution_count": 53,
   "id": "09b0f1e6",
   "metadata": {},
   "outputs": [
    {
     "data": {
      "text/plain": [
       "-271.5086386023385"
      ]
     },
     "execution_count": 53,
     "metadata": {},
     "output_type": "execute_result"
    }
   ],
   "source": [
    "connect(formic_acid_data_path + 'single_element_COOH_C_adsorbed_out.db').get(id = \"5\").energy"
   ]
  },
  {
   "cell_type": "code",
   "execution_count": 54,
   "id": "ba0800b8",
   "metadata": {},
   "outputs": [
    {
     "data": {
      "text/plain": [
       "-263.30312496328355"
      ]
     },
     "execution_count": 54,
     "metadata": {},
     "output_type": "execute_result"
    }
   ],
   "source": [
    "connect(\"../Database_files/single_element_CO_out.db\").get(id = \"5\").energy"
   ]
  },
  {
   "cell_type": "code",
   "execution_count": 55,
   "id": "9c5281f9",
   "metadata": {},
   "outputs": [
    {
     "data": {
      "text/plain": [
       "-143.3025635473736"
      ]
     },
     "execution_count": 55,
     "metadata": {},
     "output_type": "execute_result"
    }
   ],
   "source": [
    "connect(\"../Database_files/slabs_out.db\").get(id = \"5\").energy"
   ]
  },
  {
   "cell_type": "code",
   "execution_count": 43,
   "id": "073cfb0e",
   "metadata": {},
   "outputs": [
    {
     "name": "stdout",
     "output_type": "stream",
     "text": [
      "True\n",
      "True\n"
     ]
    }
   ],
   "source": [
    "import os.path\n",
    "print(os.path.exists(formic_acid_data_path+\"single_element_CO.db\"))\n",
    "print(os.path.isfile(formic_acid_data_path+\"single_element_CO.db\"))"
   ]
  },
  {
   "cell_type": "code",
   "execution_count": 31,
   "id": "bc14de07",
   "metadata": {
    "collapsed": true
   },
   "outputs": [
    {
     "ename": "KeyError",
     "evalue": "'no match'",
     "output_type": "error",
     "traceback": [
      "\u001b[0;31m---------------------------------------------------------------------------\u001b[0m",
      "\u001b[0;31mKeyError\u001b[0m                                  Traceback (most recent call last)",
      "Cell \u001b[0;32mIn [31], line 1\u001b[0m\n\u001b[0;32m----> 1\u001b[0m \u001b[43mconnect\u001b[49m\u001b[43m(\u001b[49m\u001b[43mformic_acid_data_path\u001b[49m\u001b[43m \u001b[49m\u001b[38;5;241;43m+\u001b[39;49m\u001b[43m \u001b[49m\u001b[38;5;124;43m'\u001b[39;49m\u001b[38;5;124;43msingle_element_CO.db\u001b[39;49m\u001b[38;5;124;43m'\u001b[39;49m\u001b[43m)\u001b[49m\u001b[38;5;241;43m.\u001b[39;49m\u001b[43mget\u001b[49m\u001b[43m(\u001b[49m\u001b[38;5;28;43mid\u001b[39;49m\u001b[43m \u001b[49m\u001b[38;5;241;43m=\u001b[39;49m\u001b[43m \u001b[49m\u001b[38;5;124;43m\"\u001b[39;49m\u001b[38;5;124;43m5\u001b[39;49m\u001b[38;5;124;43m\"\u001b[39;49m\u001b[43m)\u001b[49m\n",
      "File \u001b[0;32m~/miniforge3/envs/PUK/lib/python3.10/site-packages/ase/db/core.py:432\u001b[0m, in \u001b[0;36mDatabase.get\u001b[0;34m(self, selection, **kwargs)\u001b[0m\n\u001b[1;32m    430\u001b[0m rows \u001b[38;5;241m=\u001b[39m \u001b[38;5;28mlist\u001b[39m(\u001b[38;5;28mself\u001b[39m\u001b[38;5;241m.\u001b[39mselect(selection, limit\u001b[38;5;241m=\u001b[39m\u001b[38;5;241m2\u001b[39m, \u001b[38;5;241m*\u001b[39m\u001b[38;5;241m*\u001b[39mkwargs))\n\u001b[1;32m    431\u001b[0m \u001b[38;5;28;01mif\u001b[39;00m \u001b[38;5;129;01mnot\u001b[39;00m rows:\n\u001b[0;32m--> 432\u001b[0m     \u001b[38;5;28;01mraise\u001b[39;00m \u001b[38;5;167;01mKeyError\u001b[39;00m(\u001b[38;5;124m'\u001b[39m\u001b[38;5;124mno match\u001b[39m\u001b[38;5;124m'\u001b[39m)\n\u001b[1;32m    433\u001b[0m \u001b[38;5;28;01massert\u001b[39;00m \u001b[38;5;28mlen\u001b[39m(rows) \u001b[38;5;241m==\u001b[39m \u001b[38;5;241m1\u001b[39m, \u001b[38;5;124m'\u001b[39m\u001b[38;5;124mmore than one row matched\u001b[39m\u001b[38;5;124m'\u001b[39m\n\u001b[1;32m    434\u001b[0m \u001b[38;5;28;01mreturn\u001b[39;00m rows[\u001b[38;5;241m0\u001b[39m]\n",
      "\u001b[0;31mKeyError\u001b[0m: 'no match'"
     ]
    }
   ],
   "source": [
    "connect(formic_acid_data_path + 'single_element_CO.db').get(id = \"5\")#.energy"
   ]
  },
  {
   "cell_type": "code",
   "execution_count": 32,
   "id": "4d0cefe7",
   "metadata": {},
   "outputs": [
    {
     "ename": "KeyError",
     "evalue": "'no match'",
     "output_type": "error",
     "traceback": [
      "\u001b[0;31m---------------------------------------------------------------------------\u001b[0m",
      "\u001b[0;31mKeyError\u001b[0m                                  Traceback (most recent call last)",
      "Cell \u001b[0;32mIn [32], line 1\u001b[0m\n\u001b[0;32m----> 1\u001b[0m \u001b[43mconnect\u001b[49m\u001b[43m(\u001b[49m\u001b[43mformic_acid_data_path\u001b[49m\u001b[43m \u001b[49m\u001b[38;5;241;43m+\u001b[39;49m\u001b[43m \u001b[49m\u001b[38;5;124;43m'\u001b[39;49m\u001b[38;5;124;43msingle_element_CO.db\u001b[39;49m\u001b[38;5;124;43m'\u001b[39;49m\u001b[43m)\u001b[49m\u001b[38;5;241;43m.\u001b[39;49m\u001b[43mget\u001b[49m\u001b[43m(\u001b[49m\u001b[43msymbol\u001b[49m\u001b[43m \u001b[49m\u001b[38;5;241;43m=\u001b[39;49m\u001b[43m \u001b[49m\u001b[38;5;124;43m\"\u001b[39;49m\u001b[38;5;124;43mPt\u001b[39;49m\u001b[38;5;124;43m\"\u001b[39;49m\u001b[43m)\u001b[49m\n",
      "File \u001b[0;32m~/miniforge3/envs/PUK/lib/python3.10/site-packages/ase/db/core.py:432\u001b[0m, in \u001b[0;36mDatabase.get\u001b[0;34m(self, selection, **kwargs)\u001b[0m\n\u001b[1;32m    430\u001b[0m rows \u001b[38;5;241m=\u001b[39m \u001b[38;5;28mlist\u001b[39m(\u001b[38;5;28mself\u001b[39m\u001b[38;5;241m.\u001b[39mselect(selection, limit\u001b[38;5;241m=\u001b[39m\u001b[38;5;241m2\u001b[39m, \u001b[38;5;241m*\u001b[39m\u001b[38;5;241m*\u001b[39mkwargs))\n\u001b[1;32m    431\u001b[0m \u001b[38;5;28;01mif\u001b[39;00m \u001b[38;5;129;01mnot\u001b[39;00m rows:\n\u001b[0;32m--> 432\u001b[0m     \u001b[38;5;28;01mraise\u001b[39;00m \u001b[38;5;167;01mKeyError\u001b[39;00m(\u001b[38;5;124m'\u001b[39m\u001b[38;5;124mno match\u001b[39m\u001b[38;5;124m'\u001b[39m)\n\u001b[1;32m    433\u001b[0m \u001b[38;5;28;01massert\u001b[39;00m \u001b[38;5;28mlen\u001b[39m(rows) \u001b[38;5;241m==\u001b[39m \u001b[38;5;241m1\u001b[39m, \u001b[38;5;124m'\u001b[39m\u001b[38;5;124mmore than one row matched\u001b[39m\u001b[38;5;124m'\u001b[39m\n\u001b[1;32m    434\u001b[0m \u001b[38;5;28;01mreturn\u001b[39;00m rows[\u001b[38;5;241m0\u001b[39m]\n",
      "\u001b[0;31mKeyError\u001b[0m: 'no match'"
     ]
    }
   ],
   "source": [
    "connect(formic_acid_data_path + 'single_element_CO.db').get(symbol = \"Pt\")#.energy"
   ]
  },
  {
   "cell_type": "code",
   "execution_count": 34,
   "id": "d19560e1",
   "metadata": {},
   "outputs": [
    {
     "ename": "AttributeError",
     "evalue": "'generator' object has no attribute 'energy'",
     "output_type": "error",
     "traceback": [
      "\u001b[0;31m---------------------------------------------------------------------------\u001b[0m",
      "\u001b[0;31mAttributeError\u001b[0m                            Traceback (most recent call last)",
      "Cell \u001b[0;32mIn [34], line 1\u001b[0m\n\u001b[0;32m----> 1\u001b[0m \u001b[43mconnect\u001b[49m\u001b[43m(\u001b[49m\u001b[43mformic_acid_data_path\u001b[49m\u001b[43m \u001b[49m\u001b[38;5;241;43m+\u001b[39;49m\u001b[43m \u001b[49m\u001b[38;5;124;43m'\u001b[39;49m\u001b[38;5;124;43msingle_element_CO.db\u001b[39;49m\u001b[38;5;124;43m'\u001b[39;49m\u001b[43m)\u001b[49m\u001b[38;5;241;43m.\u001b[39;49m\u001b[43mselect\u001b[49m\u001b[43m(\u001b[49m\u001b[43msymbol\u001b[49m\u001b[43m \u001b[49m\u001b[38;5;241;43m=\u001b[39;49m\u001b[43m \u001b[49m\u001b[38;5;124;43m\"\u001b[39;49m\u001b[38;5;124;43mPt\u001b[39;49m\u001b[38;5;124;43m\"\u001b[39;49m\u001b[43m)\u001b[49m\u001b[38;5;241;43m.\u001b[39;49m\u001b[43menergy\u001b[49m\n",
      "\u001b[0;31mAttributeError\u001b[0m: 'generator' object has no attribute 'energy'"
     ]
    }
   ],
   "source": [
    "connect(formic_acid_data_path + 'single_element_CO.db').select(symbol = \"Pt\").energy"
   ]
  },
  {
   "cell_type": "code",
   "execution_count": null,
   "id": "3cfc03ce",
   "metadata": {},
   "outputs": [],
   "source": []
  },
  {
   "cell_type": "code",
   "execution_count": null,
   "id": "9f837193",
   "metadata": {},
   "outputs": [],
   "source": [
    "\n",
    "db_to_graphs(surface_elements, adsorbate_elements, n_neighbours, fmax, db, ref_dict)"
   ]
  },
  {
   "cell_type": "code",
   "execution_count": 20,
   "id": "f3d27727",
   "metadata": {
    "collapsed": true
   },
   "outputs": [
    {
     "ename": "KeyError",
     "evalue": "'no match'",
     "output_type": "error",
     "traceback": [
      "\u001b[0;31m---------------------------------------------------------------------------\u001b[0m",
      "\u001b[0;31mKeyError\u001b[0m                                  Traceback (most recent call last)",
      "Cell \u001b[0;32mIn [20], line 1\u001b[0m\n\u001b[0;32m----> 1\u001b[0m \u001b[43mconnect\u001b[49m\u001b[43m(\u001b[49m\u001b[43mformic_acid_data_path\u001b[49m\u001b[43m \u001b[49m\u001b[38;5;241;43m+\u001b[39;49m\u001b[43m \u001b[49m\u001b[38;5;124;43m'\u001b[39;49m\u001b[38;5;124;43msingle_element_COOH_C_adsorbed_out.db\u001b[39;49m\u001b[38;5;124;43m'\u001b[39;49m\u001b[43m)\u001b[49m\u001b[38;5;241;43m.\u001b[39;49m\u001b[43mget\u001b[49m\u001b[43m(\u001b[49m\u001b[43msymbol\u001b[49m\u001b[43m \u001b[49m\u001b[38;5;241;43m=\u001b[39;49m\u001b[43m \u001b[49m\u001b[38;5;124;43m\"\u001b[39;49m\u001b[38;5;124;43mPt\u001b[39;49m\u001b[38;5;124;43m\"\u001b[39;49m\u001b[43m)\u001b[49m\u001b[38;5;241m.\u001b[39menergy\n",
      "File \u001b[0;32m~/miniforge3/envs/PUK/lib/python3.10/site-packages/ase/db/core.py:432\u001b[0m, in \u001b[0;36mDatabase.get\u001b[0;34m(self, selection, **kwargs)\u001b[0m\n\u001b[1;32m    430\u001b[0m rows \u001b[38;5;241m=\u001b[39m \u001b[38;5;28mlist\u001b[39m(\u001b[38;5;28mself\u001b[39m\u001b[38;5;241m.\u001b[39mselect(selection, limit\u001b[38;5;241m=\u001b[39m\u001b[38;5;241m2\u001b[39m, \u001b[38;5;241m*\u001b[39m\u001b[38;5;241m*\u001b[39mkwargs))\n\u001b[1;32m    431\u001b[0m \u001b[38;5;28;01mif\u001b[39;00m \u001b[38;5;129;01mnot\u001b[39;00m rows:\n\u001b[0;32m--> 432\u001b[0m     \u001b[38;5;28;01mraise\u001b[39;00m \u001b[38;5;167;01mKeyError\u001b[39;00m(\u001b[38;5;124m'\u001b[39m\u001b[38;5;124mno match\u001b[39m\u001b[38;5;124m'\u001b[39m)\n\u001b[1;32m    433\u001b[0m \u001b[38;5;28;01massert\u001b[39;00m \u001b[38;5;28mlen\u001b[39m(rows) \u001b[38;5;241m==\u001b[39m \u001b[38;5;241m1\u001b[39m, \u001b[38;5;124m'\u001b[39m\u001b[38;5;124mmore than one row matched\u001b[39m\u001b[38;5;124m'\u001b[39m\n\u001b[1;32m    434\u001b[0m \u001b[38;5;28;01mreturn\u001b[39;00m rows[\u001b[38;5;241m0\u001b[39m]\n",
      "\u001b[0;31mKeyError\u001b[0m: 'no match'"
     ]
    }
   ],
   "source": [
    "connect(formic_acid_data_path + 'single_element_COOH_C_adsorbed_out.db').get(symbol = \"Pt\").energy"
   ]
  },
  {
   "cell_type": "code",
   "execution_count": 21,
   "id": "9d1650bf",
   "metadata": {},
   "outputs": [
    {
     "data": {
      "text/plain": [
       "-271.5086386023385"
      ]
     },
     "execution_count": 21,
     "metadata": {},
     "output_type": "execute_result"
    }
   ],
   "source": [
    "connect(formic_acid_data_path + 'single_element_COOH_C_adsorbed_out.db').get(id = \"5\").energy"
   ]
  },
  {
   "cell_type": "code",
   "execution_count": 19,
   "id": "2672f25b",
   "metadata": {},
   "outputs": [
    {
     "data": {
      "text/plain": [
       "<generator object Database.select at 0x1628d5a10>"
      ]
     },
     "execution_count": 19,
     "metadata": {},
     "output_type": "execute_result"
    }
   ],
   "source": [
    "connect(formic_acid_data_path + 'single_element_COOH_C_adsorbed_out.db').select(symbol=\"Pt\")"
   ]
  },
  {
   "cell_type": "markdown",
   "id": "bc9bc379",
   "metadata": {},
   "source": [
    "### Step 2: Load adsorbate binding energies for each slab"
   ]
  },
  {
   "cell_type": "markdown",
   "id": "3672ed04",
   "metadata": {},
   "source": [
    "### Step 3: Train model on graphs and adsorbate binding energies"
   ]
  },
  {
   "cell_type": "markdown",
   "id": "bcd78450",
   "metadata": {},
   "source": [
    "## Using the XGBoost method from the PUK"
   ]
  },
  {
   "cell_type": "code",
   "execution_count": 7,
   "id": "584e9e61",
   "metadata": {},
   "outputs": [],
   "source": [
    "import sys\n",
    "sys.path.append('../scripts')\n",
    "from Slab import expand_triangle, Slab, inside_triangle\n",
    "from FeatureReader import OntopStandard111, FccStandard111\n",
    "from ase.db import connect\n",
    "from ase.visualize import view\n",
    "import numpy as np"
   ]
  },
  {
   "cell_type": "code",
   "execution_count": 9,
   "id": "0dca9c98",
   "metadata": {},
   "outputs": [],
   "source": [
    "db_folder = \"../Database_files/\"\n",
    "features_folder = \"../csv_features/\""
   ]
  },
  {
   "cell_type": "code",
   "execution_count": 14,
   "id": "53905ed4",
   "metadata": {},
   "outputs": [
    {
     "ename": "ValueError",
     "evalue": "Number of atoms in site is 0 which is not recognized",
     "output_type": "error",
     "traceback": [
      "\u001b[0;31m---------------------------------------------------------------------------\u001b[0m",
      "\u001b[0;31mValueError\u001b[0m                                Traceback (most recent call last)",
      "Cell \u001b[0;32mIn [14], line 75\u001b[0m\n\u001b[1;32m     71\u001b[0m \u001b[38;5;66;03m# If the adsorbate is *COOH\u001b[39;00m\n\u001b[1;32m     72\u001b[0m \u001b[38;5;28;01mif\u001b[39;00m ads \u001b[38;5;241m==\u001b[39m \u001b[38;5;124m'\u001b[39m\u001b[38;5;124mCOOH\u001b[39m\u001b[38;5;124m'\u001b[39m:\n\u001b[1;32m     73\u001b[0m \n\u001b[1;32m     74\u001b[0m     \u001b[38;5;66;03m# Get adsorption site elements as neighbors within a radius\u001b[39;00m\n\u001b[0;32m---> 75\u001b[0m     site_elems, site \u001b[38;5;241m=\u001b[39m \u001b[43mslab\u001b[49m\u001b[38;5;241;43m.\u001b[39;49m\u001b[43mget_adsorption_site\u001b[49m\u001b[43m(\u001b[49m\u001b[43mradius\u001b[49m\u001b[38;5;241;43m=\u001b[39;49m\u001b[38;5;241;43m2.6\u001b[39;49m\u001b[43m,\u001b[49m\u001b[43m \u001b[49m\u001b[43mhollow_radius\u001b[49m\u001b[38;5;241;43m=\u001b[39;49m\u001b[38;5;241;43m2.6\u001b[39;49m\u001b[43m)\u001b[49m\n\u001b[1;32m     77\u001b[0m     \u001b[38;5;66;03m# If the site does not consist of exactly one atom, then skip this sample\u001b[39;00m\n\u001b[1;32m     78\u001b[0m     \u001b[38;5;66;03m# as the *OH has moved too far away from an on-top site\u001b[39;00m\n\u001b[1;32m     79\u001b[0m     \u001b[38;5;28;01mtry\u001b[39;00m:\n",
      "File \u001b[0;32m~/Documents/Kurser/Speciale/CatalysisThesis/Notebooks/../scripts/Slab.py:177\u001b[0m, in \u001b[0;36mSlab.get_adsorption_site\u001b[0;34m(self, radius, hollow_radius)\u001b[0m\n\u001b[1;32m    175\u001b[0m \t\u001b[38;5;28;01mreturn\u001b[39;00m site_elems, site\n\u001b[1;32m    176\u001b[0m \u001b[38;5;28;01melse\u001b[39;00m:\n\u001b[0;32m--> 177\u001b[0m \t\u001b[38;5;28;01mraise\u001b[39;00m \u001b[38;5;167;01mValueError\u001b[39;00m(\u001b[38;5;124mf\u001b[39m\u001b[38;5;124m'\u001b[39m\u001b[38;5;124mNumber of atoms in site is \u001b[39m\u001b[38;5;132;01m{\u001b[39;00mn_atoms_site\u001b[38;5;132;01m}\u001b[39;00m\u001b[38;5;124m which is not recognized\u001b[39m\u001b[38;5;124m'\u001b[39m)\n",
      "\u001b[0;31mValueError\u001b[0m: Number of atoms in site is 0 which is not recognized"
     ]
    }
   ],
   "source": [
    "# Specify metals\n",
    "metals = ['Ag', 'Au', 'Cu', 'Pd', 'Pt']\n",
    "alloy = ''.join(metals)\n",
    "\n",
    "# Specify name of databases\n",
    "db_name_COOH = 'COOH_C_adsorbed_out.db'\n",
    "db_name_CO = 'CO_out.db'\n",
    "\n",
    "# Initiate feature readers\n",
    "reader_COOH = OntopStandard111(metals)\n",
    "reader_CO   = OntopStandard111(metals)\n",
    "\n",
    "site_ids_COOH = [16, 17, 18]\n",
    "site_ids_CO = [16, 17, 18]\n",
    "\n",
    "# Initiate counters of rejected samples\n",
    "rejected_COOH = 0\n",
    "rejected_CO = 0\n",
    "\n",
    "# Writer headers to files\n",
    "with open(f'{features_folder}COOH_features.csv', 'w') as file_COOH:\n",
    "    file_COOH.write(f'Features, G_ads (eV), slab db row, {db_name_COOH} row')\n",
    "\n",
    "with open(f'{features_folder}CO_features.csv', 'w') as file_CO:\n",
    "    file_CO.write(f'Features, G_ads (eV), slab db row, {db_name_CO} row')\n",
    "\n",
    "# Load HEA(111) databases\n",
    "with connect(f'{db_folder}{db_name_COOH}') as db_COOH,\\\n",
    "     connect(f'{db_folder}{db_name_CO}') as db_CO,\\\n",
    "     connect(f'{db_folder}slabs_out.db') as db_slab,\\\n",
    "     open('COOH_features.csv', 'a') as file_COOH,\\\n",
    "     open('CO_features.csv', 'a') as file_CO:\n",
    "\n",
    "    # Iterate through slabs without adsorbates\n",
    "    for row_slab in db_slab.select('energy', H=0, C=0, O=0):\n",
    "\n",
    "        # Iterate through the two adsorbates\n",
    "        for ads in ['COOH', 'CO']:\n",
    "\n",
    "            # Set adsorbate-specific parameters\n",
    "            if ads == 'COOH':\n",
    "                db = db_COOH\n",
    "                kw = {'C':1, 'O': 2, 'H': 1}\n",
    "                db_name = db_name_COOH\n",
    "                out_file = file_COOH\n",
    "\n",
    "            elif ads == 'CO':\n",
    "                db = db_O\n",
    "                kw = {'C':1, 'O': 1, 'H': 0}\n",
    "                db_name = db_name_CO\n",
    "                out_file = file_CO\n",
    "\n",
    "            # Set counter of matched slabs between the databases to zero\n",
    "            n_matched = 0\n",
    "\n",
    "            # Get the corresponding slab with adsorbate\n",
    "            for row in db.select('energy', **kw, **row_slab.count_atoms()):\n",
    "\n",
    "                # If symbols match up\n",
    "                if row.symbols[:-len(ads)] == row_slab.symbols:\n",
    "\n",
    "                    # Increment the counter of matched structures\n",
    "                    n_matched += 1\n",
    "\n",
    "                    # Get atoms object\n",
    "                    atoms = db.get_atoms(row.id)\n",
    "\n",
    "                    # Make slab instance\n",
    "                    slab = Slab(atoms, ads=ads, ads_atom='O')\n",
    "\n",
    "                    # If the adsorbate is *COOH\n",
    "                    if ads == 'COOH':\n",
    "\n",
    "                        # Get adsorption site elements as neighbors within a radius\n",
    "                        site_elems, site = slab.get_adsorption_site(radius=2.6, hollow_radius=2.6)\n",
    "\n",
    "                        # If the site does not consist of exactly one atom, then skip this sample\n",
    "                        # as the *OH has moved too far away from an on-top site\n",
    "                        try:\n",
    "                            if len(site_elems) !=1:\n",
    "                                rejected_COOH += 1\n",
    "                                #slab.view()\n",
    "                                continue\n",
    "                        except TypeError:\n",
    "                            print(site_elems, site)\n",
    "                            print(row_slab.id, row.id)\n",
    "                            slab.view()\n",
    "                            exit()\n",
    "\n",
    "                        # Get features of structure\n",
    "                        features = reader_COOH.get_features(slab, radius=2.6)\n",
    "                        \n",
    "\n",
    "                    # Else, if the adsorbate is O*\n",
    "                    elif ads == 'CO':\n",
    "\n",
    "                        # Get hollow site planar corner coordinates\n",
    "                        site_atoms_pos_orig = atoms.positions[site_ids_CO, :2]\n",
    "\n",
    "                        # Get expanded triangle vertices\n",
    "                        site_atoms_pos = expand_triangle(site_atoms_pos_orig, expansion=1.45)\n",
    "\n",
    "                        # Get position of adsorbate atom (with atom index XXX 20 XXX)\n",
    "                        ads_pos = atoms.positions[20][:2]\n",
    "\n",
    "                        # If the oxygen is outside the expanded fcc triangle,\n",
    "                        # then it is most likely in an hcp site, that is not\n",
    "                        # being modeled\n",
    "                        if not inside_triangle(ads_pos, site_atoms_pos):\n",
    "                            rejected_CO += 1\n",
    "                            continue\n",
    "\n",
    "                        # Get features of structure\n",
    "                        features = reader_O.get_features(slab, radius=2.6, site_ids=site_ids_CO)\n",
    "\n",
    "                    # Get adsorption energy\n",
    "                    E_ads = row.energy - row_slab.energy + ref[ads]\n",
    "\n",
    "                    # Write output to file\n",
    "                    features = ','.join(map(str, features))\n",
    "                    out_file.write(f'\\n{features},{E_ads:.6f},{row_slab.id},{row.id}')\n",
    "\n",
    "            # Print a message if more than one slabs were matched. This probably means that\n",
    "            # the same slab has accidentally been saved multiple to the database\n",
    "            if n_matched > 1:\n",
    "                print(f'[INFO] {n_matched} {ads} and slab matched for row {row_slab.id} in {db_name_slab}')\n",
    "\n",
    "            # Print a message if no slabs were matched. This probably means that the DFT calculation\n",
    "            # did not converge and was left out\n",
    "            #elif n_matched == 0:\n",
    "                #print(f'[INFO] No match found in {db_name} for row {row_slab.id} in {db_name_slab}')\n",
    "\n",
    "# Print the number of rejected samples to screen\n",
    "print('rejected COOH samples: ', rejected_COOH)\n",
    "print('rejected CO samples: ', rejected_CO)"
   ]
  },
  {
   "cell_type": "code",
   "execution_count": null,
   "id": "7dedf266",
   "metadata": {},
   "outputs": [],
   "source": [
    "# I am not going to figure this bullshit out without Dr. Jekyll"
   ]
  }
 ],
 "metadata": {
  "kernelspec": {
   "display_name": "Python 3 (ipykernel)",
   "language": "python",
   "name": "python3"
  },
  "language_info": {
   "codemirror_mode": {
    "name": "ipython",
    "version": 3
   },
   "file_extension": ".py",
   "mimetype": "text/x-python",
   "name": "python",
   "nbconvert_exporter": "python",
   "pygments_lexer": "ipython3",
   "version": "3.10.8"
  }
 },
 "nbformat": 4,
 "nbformat_minor": 5
}
