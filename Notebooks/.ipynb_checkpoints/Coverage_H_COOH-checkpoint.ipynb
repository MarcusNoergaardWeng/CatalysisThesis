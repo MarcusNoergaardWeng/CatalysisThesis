{
 "cells": [
  {
   "cell_type": "markdown",
   "id": "6f128729",
   "metadata": {},
   "source": [
    "# H + COOH Coverage"
   ]
  },
  {
   "cell_type": "markdown",
   "id": "4b962970",
   "metadata": {},
   "source": [
    "#### Imports"
   ]
  },
  {
   "cell_type": "code",
   "execution_count": 1,
   "id": "e523847f",
   "metadata": {},
   "outputs": [],
   "source": [
    "import numpy as np\n",
    "import matplotlib.pyplot as plt\n",
    "import xgboost as xgb\n",
    "\n",
    "np.random.seed(1)"
   ]
  },
  {
   "cell_type": "markdown",
   "id": "c80a5c8e",
   "metadata": {},
   "source": [
    "#### Load energy prediction models"
   ]
  },
  {
   "cell_type": "code",
   "execution_count": 19,
   "id": "008bc5ee",
   "metadata": {},
   "outputs": [],
   "source": [
    "#### Load models\n",
    "#hollow_site_model = xgb.Booster({'nthread': 8})\n",
    "#hollow_site_model.load_model(\"../models/\"+\"Hollow_site.model\")\n",
    "\n",
    "#on_top_site_model = xgb.Booster({'nthread': 8})\n",
    "#on_top_site_model.load_model(\"../models/\"+\"on_top_site.model\")\n",
    "\n",
    "#models = {\"H\": hollow_site_model, \"COOH\": on_top_site_model}"
   ]
  },
  {
   "cell_type": "markdown",
   "id": "f2d77116",
   "metadata": {},
   "source": [
    "#### Setup"
   ]
  },
  {
   "cell_type": "code",
   "execution_count": 11,
   "id": "2bac7d4f",
   "metadata": {},
   "outputs": [],
   "source": [
    "# Size of the surface\n",
    "dim_x, dim_y = 100, 100\n",
    "\n",
    "# Metals\n",
    "metals = ['Ag', 'Au', 'Cu', 'Pd', 'Pt']\n",
    "\n",
    "# Other parameters (Coming)\n",
    "# Voltages\n",
    "start = 0.025\n",
    "end = 1.05\n",
    "scan_rate = 0.010"
   ]
  },
  {
   "cell_type": "markdown",
   "id": "93acd072",
   "metadata": {},
   "source": [
    "### Run the simulation\n",
    "#### Seperate H and COOH - Precompute all binding energies "
   ]
  },
  {
   "cell_type": "code",
   "execution_count": 46,
   "id": "d590a980",
   "metadata": {},
   "outputs": [
    {
     "data": {
      "text/plain": [
       "array([['empty', 'empty', 'empty', ..., 'empty', 'empty', 'empty'],\n",
       "       ['empty', 'empty', 'empty', ..., 'empty', 'empty', 'empty'],\n",
       "       ['empty', 'empty', 'empty', ..., 'empty', 'empty', 'empty'],\n",
       "       ...,\n",
       "       ['empty', 'empty', 'empty', ..., 'empty', 'empty', 'empty'],\n",
       "       ['empty', 'empty', 'empty', ..., 'empty', 'empty', 'empty'],\n",
       "       ['empty', 'empty', 'empty', ..., 'empty', 'empty', 'empty']],\n",
       "      dtype='<U5')"
      ]
     },
     "execution_count": 46,
     "metadata": {},
     "output_type": "execute_result"
    }
   ],
   "source": [
    "surface = initialize_surface(dim_x, dim_y) # I should combine this with the occupance matrix in a dictionary\n",
    "\n",
    "surface[\"ads_hol\"]"
   ]
  },
  {
   "cell_type": "code",
   "execution_count": 44,
   "id": "f6aa0ae5",
   "metadata": {},
   "outputs": [
    {
     "data": {
      "text/plain": [
       "nan"
      ]
     },
     "execution_count": 44,
     "metadata": {},
     "output_type": "execute_result"
    }
   ],
   "source": [
    "surface[\"H_V\"][3][12]"
   ]
  },
  {
   "cell_type": "code",
   "execution_count": 7,
   "id": "694084c2",
   "metadata": {
    "collapsed": true
   },
   "outputs": [
    {
     "name": "stdout",
     "output_type": "stream",
     "text": [
      "Voltage: 0.025\n",
      "Voltage: 0.03514851485148515\n",
      "Voltage: 0.0452970297029703\n",
      "Voltage: 0.05544554455445545\n",
      "Voltage: 0.0655940594059406\n",
      "Voltage: 0.07574257425742575\n",
      "Voltage: 0.08589108910891091\n",
      "Voltage: 0.09603960396039604\n",
      "Voltage: 0.1061881188118812\n",
      "Voltage: 0.11633663366336636\n",
      "Voltage: 0.12648514851485151\n",
      "Voltage: 0.13663366336633664\n",
      "Voltage: 0.1467821782178218\n",
      "Voltage: 0.15693069306930696\n",
      "Voltage: 0.1670792079207921\n",
      "Voltage: 0.17722772277227725\n",
      "Voltage: 0.1873762376237624\n",
      "Voltage: 0.19752475247524756\n",
      "Voltage: 0.20767326732673272\n",
      "Voltage: 0.21782178217821785\n",
      "Voltage: 0.227970297029703\n",
      "Voltage: 0.23811881188118816\n",
      "Voltage: 0.2482673267326733\n",
      "Voltage: 0.2584158415841585\n",
      "Voltage: 0.26856435643564364\n",
      "Voltage: 0.2787128712871288\n",
      "Voltage: 0.28886138613861395\n",
      "Voltage: 0.2990099009900991\n",
      "Voltage: 0.3091584158415842\n",
      "Voltage: 0.31930693069306937\n",
      "Voltage: 0.3294554455445545\n",
      "Voltage: 0.3396039603960397\n",
      "Voltage: 0.34975247524752484\n",
      "Voltage: 0.35990099009901\n",
      "Voltage: 0.37004950495049516\n",
      "Voltage: 0.3801980198019803\n",
      "Voltage: 0.39034653465346547\n",
      "Voltage: 0.4004950495049506\n",
      "Voltage: 0.41064356435643573\n",
      "Voltage: 0.4207920792079209\n",
      "Voltage: 0.43094059405940605\n",
      "Voltage: 0.4410891089108912\n",
      "Voltage: 0.45123762376237636\n",
      "Voltage: 0.4613861386138615\n",
      "Voltage: 0.4715346534653466\n",
      "Voltage: 0.4816831683168318\n",
      "Voltage: 0.49183168316831694\n",
      "Voltage: 0.5019801980198021\n",
      "Voltage: 0.5121287128712873\n",
      "Voltage: 0.5222772277227724\n",
      "Voltage: 0.5324257425742576\n",
      "Voltage: 0.5425742574257427\n",
      "Voltage: 0.5527227722772279\n",
      "Voltage: 0.562871287128713\n",
      "Voltage: 0.5730198019801982\n",
      "Voltage: 0.5831683168316834\n",
      "Voltage: 0.5933168316831684\n",
      "Voltage: 0.6034653465346536\n",
      "Voltage: 0.6136138613861387\n",
      "Voltage: 0.6237623762376239\n",
      "Voltage: 0.633910891089109\n",
      "Voltage: 0.6440594059405942\n",
      "Voltage: 0.6542079207920793\n",
      "Voltage: 0.6643564356435645\n",
      "Voltage: 0.6745049504950497\n",
      "Voltage: 0.6846534653465348\n",
      "Voltage: 0.69480198019802\n",
      "Voltage: 0.7049504950495051\n",
      "Voltage: 0.7150990099009903\n",
      "Voltage: 0.7252475247524754\n",
      "Voltage: 0.7353960396039606\n",
      "Voltage: 0.7455445544554458\n",
      "Voltage: 0.7556930693069309\n",
      "Voltage: 0.765841584158416\n",
      "Voltage: 0.7759900990099011\n",
      "Voltage: 0.7861386138613863\n",
      "Voltage: 0.7962871287128714\n",
      "Voltage: 0.8064356435643566\n",
      "Voltage: 0.8165841584158418\n",
      "Voltage: 0.8267326732673269\n",
      "Voltage: 0.8368811881188121\n",
      "Voltage: 0.8470297029702972\n",
      "Voltage: 0.8571782178217824\n",
      "Voltage: 0.8673267326732675\n",
      "Voltage: 0.8774752475247527\n",
      "Voltage: 0.8876237623762379\n",
      "Voltage: 0.897772277227723\n",
      "Voltage: 0.9079207920792082\n",
      "Voltage: 0.9180693069306932\n",
      "Voltage: 0.9282178217821784\n",
      "Voltage: 0.9383663366336635\n",
      "Voltage: 0.9485148514851487\n",
      "Voltage: 0.9586633663366338\n",
      "Voltage: 0.968811881188119\n",
      "Voltage: 0.9789603960396042\n",
      "Voltage: 0.9891089108910893\n",
      "Voltage: 0.9992574257425745\n",
      "Voltage: 1.0094059405940596\n",
      "Voltage: 1.0195544554455447\n",
      "Voltage: 1.0297029702970297\n",
      "Voltage: 1.039851485148515\n",
      "Voltage: 1.05\n"
     ]
    }
   ],
   "source": [
    "surface = initialize_surface(dim_x, dim_y) # I should combine this with the occupance matrix in a dictionary\n",
    "\n",
    "## Precompute all binding energies\n",
    "for x, y in [(x, y) for x in range(dim_x) for y in range(dim_y)]: # I could randomise this, so I go through all sites in a random order\n",
    "    ## What is the binding energy # With more adsorbates in future can be exchanged for a loop through the adsorbates\n",
    "    ads = \"H\"\n",
    "    surface[\"H_G\"][x][y] = predict_G(ads = ads, site_x = x, site_y = y, surface = surface, voltage = voltage, models = models) ## A new function that wraps/uses the XGBoost model\n",
    "    surface[\"H_V\"][x][y] = calc_V_border(ads = ads, G = surface[\"H_G\"][x][y])\n",
    "    \n",
    "for x, y in [(x, y) for x in range(dim_x) for y in range(dim_y)]:\n",
    "    ads = \"COOH\"\n",
    "    surface[\"COOH_G\"][x][y] = predict_G(ads = ads, site_x = x, site_y = y, surface = surface, voltage = voltage, models = models) ## A new function that wraps/uses the XGBoost model\n",
    "    surface[\"COOH_V\"][x][y] = calc_V_border(ads = ads, G = surface[\"COOH_G\"][x][y])    \n",
    "    \n",
    "    # G = predict_G(ads = ads, site_x = x, site_y = y, surface = surface, voltage = voltage, models = models)\n",
    "        \n",
    "        ## I could REMOVE or ADD stuff right here for simplicity. I guess ideally I would add the most negative energy first, but if I just do small steps in voltage it shouldn't matter. I can avoid a huge complication by doing it like this\n",
    "        #surface = decision_to_leave(ads = ads, G = G, site_x = x, site_y = y, surface = surface)\n",
    "    ## Look through all combined neighbour sites (Figure out the logic behind it)\n",
    "    \n",
    "    \n",
    "\n",
    "## Set a voltage\n",
    "for voltage in voltage_sweep(start, end, scan_rate): # Approximates the desired scan rate\n",
    "    \n",
    "    ## Look through all sites\n",
    "    \n",
    "    ## I could REMOVE or ADD stuff right here for simplicity. I guess ideally I would add the most negative energy first, but if I just do small steps in voltage it shouldn't matter. I can avoid a huge complication by doing it like this\n",
    "    #surface = decision_to_leave(ads = ads, G = G, site_x = x, site_y = y, surface = surface)\n",
    "    ## Look through all hollow sites:\n",
    "    \n",
    "    ## Look through all on top sites:\n",
    "    \n",
    "## and predict all adsorbtion energies\n",
    "\n",
    "## Log stats of the surface"
   ]
  },
  {
   "cell_type": "markdown",
   "id": "ad8a08ce",
   "metadata": {},
   "source": [
    "#### Plot the statistics"
   ]
  },
  {
   "cell_type": "code",
   "execution_count": null,
   "id": "4efa573d",
   "metadata": {},
   "outputs": [],
   "source": [
    "# Make a nice plot showing how many neighbours, etc. there are at each voltage"
   ]
  },
  {
   "cell_type": "markdown",
   "id": "babc964b",
   "metadata": {},
   "source": [
    "#### Functions (To be moved to seperate .py file)"
   ]
  },
  {
   "cell_type": "code",
   "execution_count": 24,
   "id": "0da49f7e",
   "metadata": {},
   "outputs": [],
   "source": [
    "def initialize_surface(dim_x, dim_y): #Is still random - could be used with a seed in the name of reproduceability\n",
    "    dim_z = 3\n",
    "    surface_list = np.array([int(dim_x*dim_y*dim_z/len(metals))*[metals[metal_number]] for metal_number in range(len(metals))]).flatten() #Jack had a way shorter way of doing this, but I think it was random drawing instead of ensuring a perfectly even split\n",
    "    np.random.shuffle(surface_list) #Shuffle list\n",
    "    surf_atoms = np.reshape(surface_list, (dim_x, dim_y, dim_z)) #Reshape list to the\n",
    "    \n",
    "    # Adsorbates\n",
    "    surf_ads_top = np.reshape([\"empty\"]*dim_x*dim_y, (dim_x, dim_y))\n",
    "    surf_ads_hol = np.reshape([\"empty\"]*dim_x*dim_y, (dim_x, dim_y))\n",
    "    \n",
    "    # Binding energies\n",
    "    surf_COOH_G = np.reshape([np.nan]*dim_x*dim_y, (dim_x, dim_y))# On-top sites\n",
    "    surf_H_G    = np.reshape([np.nan]*dim_x*dim_y, (dim_x, dim_y))# On-top sites# Hollow sites\n",
    "    \n",
    "    # Ad/desorbs at voltage (At which voltage is the binding energy 0?)\n",
    "    surf_COOH_V = np.reshape([np.nan]*dim_x*dim_y, (dim_x, dim_y))# On-top sites\n",
    "    surf_H_V    = np.reshape([np.nan]*dim_x*dim_y, (dim_x, dim_y))# On-top sites# Hollow sites\n",
    "    \n",
    "    surf = {\"atoms\": surf_atoms, \"ads_top\": surf_ads_top, \"ads_hol\": surf_ads_top, \"COOH_G\": surf_COOH_G, \"H_G\": surf_H_G, \"COOH_V\": surf_COOH_V, \"H_V\": surf_H_V}\n",
    "    return surf\n",
    "\n",
    "def voltage_sweep(start, end, scan_rate):\n",
    "    return np.linspace(start, end, int(np.abs(start - end) / scan_rate))\n",
    "\n",
    "#def voltage_circle\n",
    "#def voltage_up_down (All these could be worked into a single function)\n",
    "\n",
    "def predict_G(ads, site_x, site_y, surface, voltage, models):\n",
    "    \"\"\"This function returns the predicted binding energy without taking the voltage into account\"\"\"\n",
    "    # Make vectors from the surface structure\n",
    "    if ads == \"H\":\n",
    "        input_vector = hollow_site_vector(surface[\"atoms\"], site_x, site_y)\n",
    "    if ads == \"COOH\":\n",
    "        input_vector = on_top_site_vector(surface[\"atoms\"], site_x, site_y)\n",
    "    \n",
    "    # Use the gibbs free energy prediction model\n",
    "    G = models[ads].predict(input_vector) #Check out, that this is the way to input\n",
    "\n",
    "    return G \n",
    "\n",
    "def calc_V_border(ads, G):\n",
    "    \"\"\"This function returns the border-voltage, at which the adsorbate adsorbs or desorbs\"\"\"\n",
    "    \n",
    "    if ads == \"H\":\n",
    "        V_border = - G\n",
    "    if ads == \"COOH\":\n",
    "        V_border = G\n",
    "    \n",
    "    return V_border\n",
    "\n",
    "def decision_to_leave(ads, voltage, V_border, site_x, site_y, surface):\n",
    "    \n",
    "    for ads in [\"H\", \"COOH\"]:\n",
    "        # What is sitting at the site currently?\n",
    "        ads_current = surface[\"ads_hol\"][site_x][site_y]\n",
    "        # Is the adsorbant there?\n",
    "        is_ads_there = surface[\"ads_hol\"][site_x][site_y] != \"empty\"\n",
    "        # Is something supposed to be there?\n",
    "        if ads == \"H\":\n",
    "            supposed_to  = voltage < V_border\n",
    "        if ads == \"COOH\":\n",
    "            supposed_to  = voltage > V_border\n",
    "        \n",
    "        # Now there is four options\n",
    "        ## The two, where everything is, as it is supposed to be: #if is_ads_there == supposed_to: do nothing\n",
    "        \n",
    "        # The option where the adsorbate is not there, but it should be:\n",
    "        if (is_ads_there == False) and (supposed_to == True):\n",
    "            # Adsorb the adsorbates\n",
    "            surface[\"ads_hol\"][site_x][site_y] = ads\n",
    "            # Write to log:\n",
    "            \n",
    "        \n",
    "        # The option where the adsorbate is there, and it should not be:\n",
    "         if (is_ads_there == True) and (supposed_to == False):\n",
    "            # Adsorb the adsorbates\n",
    "            surface[\"ads_hol\"][site_x][site_y] = ads\n",
    "            # Write to log:\n",
    "            \n",
    "            \n",
    "        \n",
    "            \n",
    "        \n",
    "        \n",
    "    if ads == \"COOH\":\n",
    "        ads_current = surface[\"ads_top\"][site_x][site_y]\n",
    "    # If the adsorbate is already there and the energy is negative, remain and return\n",
    "    \n",
    "    # If the adsorbate is already there and the energy is positive, remove and return\n",
    "    \n",
    "    # If the adsorbate is not there and the site is empty and the energy is negative, adsorb and return\n",
    "    \n",
    "    # If the adsorbate is not there and the energy is positive\n",
    "    \n",
    "    # Write to log? Or return a log entry, that can then be appended to the log?\n",
    "    # Adsorbate / Action / Gibbs E / Border_voltage / Voltage / Index x / Index y / time.time?\n",
    "    return surface\n",
    "\n",
    "def count_pairs(surface):\n",
    "    \n",
    "    return pairs"
   ]
  },
  {
   "cell_type": "markdown",
   "id": "9fea3629",
   "metadata": {},
   "source": [
    "#### Logik\n",
    "\n",
    "Oh shit, kunne man ikke bare predicte alle energier én gang? Det er simpelt i den model, hvor ingen nabointeraktioner tages med. Der skal også komme en model, som tager højde for H og COOH ved siden af hinanden. Men der kunne alle sites og så vinkel i alle retninger gemmes i et look-up table. Så predicter man først alle energier én gang, og så har man bare gemt en matrix med de spændinger, som ville få et adsorbat til at hoppe på/af.\n",
    "\n",
    "Måske gem alle.\n",
    "\n",
    "I surface dict kan jeg bare gemme ekstra lag, som hedder H_G, H_Voltage (hvor hvis voltage er UNDER hopper den på) og samme med COOH_G og COOH_Voltage (Hvor hvis voltage er OVER hopper den på) Så kan alt det preprocessing laves inden man \"kører simulationen\", som så bliver utroligt simpelt. Oh shit et speedup det kan blive til.\n",
    "\n",
    "Hvad er logikken når man sætter en *H ved siden af en *COOH eller en *COOH ved siden af en *H?\n",
    "Skal man for hver H der allerede sidder se, om der gerne vil sætte sig en COOH ved siden af, med den model der tager højde for begge?\n",
    "ELLER\n",
    "Skal sitet til en COOH ved siden af en *H som allerede sidder der først være favorabelt for en COOH, og så tjekker man med *H+*COOH-modellen om det er favorabelt, når man tager højde for nabointeraktion gennem modellen?"
   ]
  },
  {
   "cell_type": "code",
   "execution_count": 30,
   "id": "b58a594a",
   "metadata": {
    "collapsed": true
   },
   "outputs": [
    {
     "data": {
      "text/plain": [
       "0.20500000000000002"
      ]
     },
     "execution_count": 30,
     "metadata": {},
     "output_type": "execute_result"
    }
   ],
   "source": [
    "np.abs(start - end) / number of numbers = scan_rate"
   ]
  }
 ],
 "metadata": {
  "kernelspec": {
   "display_name": "Python 3 (ipykernel)",
   "language": "python",
   "name": "python3"
  },
  "language_info": {
   "codemirror_mode": {
    "name": "ipython",
    "version": 3
   },
   "file_extension": ".py",
   "mimetype": "text/x-python",
   "name": "python",
   "nbconvert_exporter": "python",
   "pygments_lexer": "ipython3",
   "version": "3.10.8"
  }
 },
 "nbformat": 4,
 "nbformat_minor": 5
}
