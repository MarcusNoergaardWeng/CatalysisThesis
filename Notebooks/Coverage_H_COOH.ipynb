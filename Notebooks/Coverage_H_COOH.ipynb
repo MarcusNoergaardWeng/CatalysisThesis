{
 "cells": [
  {
   "cell_type": "markdown",
   "id": "d86ddf7f",
   "metadata": {},
   "source": [
    "# H + COOH Coverage"
   ]
  },
  {
   "cell_type": "markdown",
   "id": "20af7471",
   "metadata": {},
   "source": [
    "#### Imports"
   ]
  },
  {
   "cell_type": "code",
   "execution_count": 3,
   "id": "60d7d5b2",
   "metadata": {},
   "outputs": [],
   "source": [
    "import numpy as np\n",
    "import matplotlib.pyplot as plt\n",
    "\n",
    "np.random.seed(1)"
   ]
  },
  {
   "cell_type": "markdown",
   "id": "0b7a8071",
   "metadata": {},
   "source": [
    "#### Setup"
   ]
  },
  {
   "cell_type": "code",
   "execution_count": 7,
   "id": "75d3ad58",
   "metadata": {},
   "outputs": [],
   "source": [
    "# Size of the surface\n",
    "dim_x, dim_y = 100, 100\n",
    "\n",
    "# Metals\n",
    "metals = ['Ag', 'Au', 'Cu', 'Pd', 'Pt']\n",
    "\n",
    "# Other parameters (Coming)"
   ]
  },
  {
   "cell_type": "markdown",
   "id": "513eb3e7",
   "metadata": {},
   "source": [
    "#### Run the simulation"
   ]
  },
  {
   "cell_type": "code",
   "execution_count": 34,
   "id": "49533f55",
   "metadata": {},
   "outputs": [
    {
     "name": "stdout",
     "output_type": "stream",
     "text": [
      "Voltage: 0.025\n",
      "Voltage: 0.03514851485148515\n",
      "Voltage: 0.0452970297029703\n",
      "Voltage: 0.05544554455445545\n",
      "Voltage: 0.0655940594059406\n",
      "Voltage: 0.07574257425742575\n",
      "Voltage: 0.08589108910891091\n",
      "Voltage: 0.09603960396039604\n",
      "Voltage: 0.1061881188118812\n",
      "Voltage: 0.11633663366336636\n",
      "Voltage: 0.12648514851485151\n",
      "Voltage: 0.13663366336633664\n",
      "Voltage: 0.1467821782178218\n",
      "Voltage: 0.15693069306930696\n",
      "Voltage: 0.1670792079207921\n",
      "Voltage: 0.17722772277227725\n",
      "Voltage: 0.1873762376237624\n",
      "Voltage: 0.19752475247524756\n",
      "Voltage: 0.20767326732673272\n",
      "Voltage: 0.21782178217821785\n",
      "Voltage: 0.227970297029703\n",
      "Voltage: 0.23811881188118816\n",
      "Voltage: 0.2482673267326733\n",
      "Voltage: 0.2584158415841585\n",
      "Voltage: 0.26856435643564364\n",
      "Voltage: 0.2787128712871288\n",
      "Voltage: 0.28886138613861395\n",
      "Voltage: 0.2990099009900991\n",
      "Voltage: 0.3091584158415842\n",
      "Voltage: 0.31930693069306937\n",
      "Voltage: 0.3294554455445545\n",
      "Voltage: 0.3396039603960397\n",
      "Voltage: 0.34975247524752484\n",
      "Voltage: 0.35990099009901\n",
      "Voltage: 0.37004950495049516\n",
      "Voltage: 0.3801980198019803\n",
      "Voltage: 0.39034653465346547\n",
      "Voltage: 0.4004950495049506\n",
      "Voltage: 0.41064356435643573\n",
      "Voltage: 0.4207920792079209\n",
      "Voltage: 0.43094059405940605\n",
      "Voltage: 0.4410891089108912\n",
      "Voltage: 0.45123762376237636\n",
      "Voltage: 0.4613861386138615\n",
      "Voltage: 0.4715346534653466\n",
      "Voltage: 0.4816831683168318\n",
      "Voltage: 0.49183168316831694\n",
      "Voltage: 0.5019801980198021\n",
      "Voltage: 0.5121287128712873\n",
      "Voltage: 0.5222772277227724\n",
      "Voltage: 0.5324257425742576\n",
      "Voltage: 0.5425742574257427\n",
      "Voltage: 0.5527227722772279\n",
      "Voltage: 0.562871287128713\n",
      "Voltage: 0.5730198019801982\n",
      "Voltage: 0.5831683168316834\n",
      "Voltage: 0.5933168316831684\n",
      "Voltage: 0.6034653465346536\n",
      "Voltage: 0.6136138613861387\n",
      "Voltage: 0.6237623762376239\n",
      "Voltage: 0.633910891089109\n",
      "Voltage: 0.6440594059405942\n",
      "Voltage: 0.6542079207920793\n",
      "Voltage: 0.6643564356435645\n",
      "Voltage: 0.6745049504950497\n",
      "Voltage: 0.6846534653465348\n",
      "Voltage: 0.69480198019802\n",
      "Voltage: 0.7049504950495051\n",
      "Voltage: 0.7150990099009903\n",
      "Voltage: 0.7252475247524754\n",
      "Voltage: 0.7353960396039606\n",
      "Voltage: 0.7455445544554458\n",
      "Voltage: 0.7556930693069309\n",
      "Voltage: 0.765841584158416\n",
      "Voltage: 0.7759900990099011\n",
      "Voltage: 0.7861386138613863\n",
      "Voltage: 0.7962871287128714\n",
      "Voltage: 0.8064356435643566\n",
      "Voltage: 0.8165841584158418\n",
      "Voltage: 0.8267326732673269\n",
      "Voltage: 0.8368811881188121\n",
      "Voltage: 0.8470297029702972\n",
      "Voltage: 0.8571782178217824\n",
      "Voltage: 0.8673267326732675\n",
      "Voltage: 0.8774752475247527\n",
      "Voltage: 0.8876237623762379\n",
      "Voltage: 0.897772277227723\n",
      "Voltage: 0.9079207920792082\n",
      "Voltage: 0.9180693069306932\n",
      "Voltage: 0.9282178217821784\n",
      "Voltage: 0.9383663366336635\n",
      "Voltage: 0.9485148514851487\n",
      "Voltage: 0.9586633663366338\n",
      "Voltage: 0.968811881188119\n",
      "Voltage: 0.9789603960396042\n",
      "Voltage: 0.9891089108910893\n",
      "Voltage: 0.9992574257425745\n",
      "Voltage: 1.0094059405940596\n",
      "Voltage: 1.0195544554455447\n",
      "Voltage: 1.0297029702970297\n",
      "Voltage: 1.039851485148515\n",
      "Voltage: 1.05\n"
     ]
    }
   ],
   "source": [
    "surface = initialize_surface(dim_x, dim_y) # I should combine this with the occupance matrix in a dictionary\n",
    "\n",
    "# Set a voltage\n",
    "for voltage in voltage_sweep(start = 0.025, end = 1.05, scan_rate = 0.010): # Approximates the desired scan rate\n",
    "    print(f\"Voltage: {voltage}\")\n",
    "# Look through all sites \n",
    "\n",
    "# and predict all adsorbtion energies\n",
    "\n",
    "# Log stats of the surface"
   ]
  },
  {
   "cell_type": "code",
   "execution_count": 17,
   "id": "457d5e8d",
   "metadata": {},
   "outputs": [
    {
     "data": {
      "text/plain": [
       "array([['empty', 'empty', 'empty', ..., 'empty', 'empty', 'empty'],\n",
       "       ['empty', 'empty', 'empty', ..., 'empty', 'empty', 'empty'],\n",
       "       ['empty', 'empty', 'empty', ..., 'empty', 'empty', 'empty'],\n",
       "       ...,\n",
       "       ['empty', 'empty', 'empty', ..., 'empty', 'empty', 'empty'],\n",
       "       ['empty', 'empty', 'empty', ..., 'empty', 'empty', 'empty'],\n",
       "       ['empty', 'empty', 'empty', ..., 'empty', 'empty', 'empty']],\n",
       "      dtype='<U5')"
      ]
     },
     "execution_count": 17,
     "metadata": {},
     "output_type": "execute_result"
    }
   ],
   "source": [
    "surface[\"adsorbants\"]"
   ]
  },
  {
   "cell_type": "markdown",
   "id": "9080b704",
   "metadata": {},
   "source": [
    "#### Plot the statistics"
   ]
  },
  {
   "cell_type": "code",
   "execution_count": null,
   "id": "77090d33",
   "metadata": {},
   "outputs": [],
   "source": [
    "# Make a nice plot showing how many neighbours, etc. there are at each voltage"
   ]
  },
  {
   "cell_type": "markdown",
   "id": "1542d150",
   "metadata": {},
   "source": [
    "#### Functions (To be moved to seperate .py file)"
   ]
  },
  {
   "cell_type": "code",
   "execution_count": 31,
   "id": "f9dbe041",
   "metadata": {},
   "outputs": [],
   "source": [
    "def initialize_surface(dim_x, dim_y): #Is still random - could be used with a seed in the name of reproduceability\n",
    "    dim_z = 3\n",
    "    surface_list = np.array([int(dim_x*dim_y*dim_z/len(metals))*[metals[metal_number]] for metal_number in range(len(metals))]).flatten() #Jack had a way shorter way of doing this, but I think it was random drawing instead of ensuring a perfectly even split\n",
    "    np.random.shuffle(surface_list) #Shuffle list\n",
    "    surf_atoms = np.reshape(surface_list, (dim_x, dim_y, dim_z)) #Reshape list to the\n",
    "    surf_ads_ontop = np.reshape([\"empty\"]*dim_x*dim_y, (dim_x, dim_y))\n",
    "    surf_ads_hollow = np.reshape([\"empty\"]*dim_x*dim_y, (dim_x, dim_y))\n",
    "    surf = {\"atoms\": surf_atoms, \"ads_top\": surf_ads_ontop, \"ads_hollow\": surf_ads_ontop}\n",
    "    return surface\n",
    "\n",
    "def voltage_sweep(start, end, scan_rate):\n",
    "    return np.linspace(start, end, int(np.abs(start - end) / scan_rate))\n",
    "\n",
    "#def voltage_circle\n",
    "\n",
    "#def voltage_up_down (All these could be worked into a single function)"
   ]
  },
  {
   "cell_type": "code",
   "execution_count": 28,
   "id": "8670c7cd",
   "metadata": {},
   "outputs": [
    {
     "data": {
      "text/plain": [
       "array([0.025  , 0.28125, 0.5375 , 0.79375, 1.05   ])"
      ]
     },
     "execution_count": 28,
     "metadata": {},
     "output_type": "execute_result"
    }
   ],
   "source": []
  },
  {
   "cell_type": "code",
   "execution_count": 30,
   "id": "02a82e6d",
   "metadata": {
    "collapsed": true
   },
   "outputs": [
    {
     "data": {
      "text/plain": [
       "0.20500000000000002"
      ]
     },
     "execution_count": 30,
     "metadata": {},
     "output_type": "execute_result"
    }
   ],
   "source": [
    "np.abs(start - end) / number of numbers = scan_rate"
   ]
  },
  {
   "cell_type": "code",
   "execution_count": null,
   "id": "4fa9a294",
   "metadata": {},
   "outputs": [],
   "source": []
  },
  {
   "cell_type": "code",
   "execution_count": null,
   "id": "2ada43f1",
   "metadata": {},
   "outputs": [],
   "source": []
  }
 ],
 "metadata": {
  "kernelspec": {
   "display_name": "Python 3 (ipykernel)",
   "language": "python",
   "name": "python3"
  },
  "language_info": {
   "codemirror_mode": {
    "name": "ipython",
    "version": 3
   },
   "file_extension": ".py",
   "mimetype": "text/x-python",
   "name": "python",
   "nbconvert_exporter": "python",
   "pygments_lexer": "ipython3",
   "version": "3.10.8"
  }
 },
 "nbformat": 4,
 "nbformat_minor": 5
}
