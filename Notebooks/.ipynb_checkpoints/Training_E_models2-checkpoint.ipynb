{
 "cells": [
  {
   "cell_type": "markdown",
   "id": "0fa7ba3a",
   "metadata": {},
   "source": [
    "## Training Binding Energy Models for -H, -COOH and -H + -COOH"
   ]
  },
  {
   "cell_type": "code",
   "execution_count": 1,
   "id": "3487750e",
   "metadata": {},
   "outputs": [],
   "source": [
    "import pandas as pd\n",
    "import numpy as np\n",
    "import matplotlib.pyplot as plt\n",
    "import ase\n",
    "from ase.db import connect\n",
    "import sys\n",
    "import os"
   ]
  },
  {
   "cell_type": "code",
   "execution_count": 2,
   "id": "2e5ced5c",
   "metadata": {},
   "outputs": [],
   "source": [
    "import sys\n",
    "sys.path.append('../scripts')\n",
    "from Slab import expand_triangle, Slab, inside_triangle\n",
    "from FeatureReader import OntopStandard111, FccStandard111\n",
    "from ase.db import connect\n",
    "from ase.visualize import view\n",
    "import numpy as np"
   ]
  },
  {
   "cell_type": "code",
   "execution_count": 3,
   "id": "ed4b8a8b",
   "metadata": {},
   "outputs": [],
   "source": [
    "db_folder = \"../DFT_data/\"\n",
    "features_folder = \"../csv_features/\""
   ]
  },
  {
   "cell_type": "code",
   "execution_count": 19,
   "id": "168c5efe",
   "metadata": {},
   "outputs": [
    {
     "ename": "NameError",
     "evalue": "name 'db_name_slab' is not defined",
     "output_type": "error",
     "traceback": [
      "\u001b[0;31m---------------------------------------------------------------------------\u001b[0m",
      "\u001b[0;31mNameError\u001b[0m                                 Traceback (most recent call last)",
      "Cell \u001b[0;32mIn [19], line 105\u001b[0m\n\u001b[1;32m    102\u001b[0m             \u001b[38;5;66;03m# Print a message if more than one slabs were matched. This probably means that\u001b[39;00m\n\u001b[1;32m    103\u001b[0m             \u001b[38;5;66;03m# the same slab has accidentally been saved multiple to the database\u001b[39;00m\n\u001b[1;32m    104\u001b[0m             \u001b[38;5;28;01mif\u001b[39;00m n_matched \u001b[38;5;241m>\u001b[39m \u001b[38;5;241m1\u001b[39m:\n\u001b[0;32m--> 105\u001b[0m                 \u001b[38;5;28mprint\u001b[39m(\u001b[38;5;124mf\u001b[39m\u001b[38;5;124m'\u001b[39m\u001b[38;5;124m[INFO] \u001b[39m\u001b[38;5;132;01m{\u001b[39;00mn_matched\u001b[38;5;132;01m}\u001b[39;00m\u001b[38;5;124m \u001b[39m\u001b[38;5;132;01m{\u001b[39;00mads\u001b[38;5;132;01m}\u001b[39;00m\u001b[38;5;124m and slab matched for row \u001b[39m\u001b[38;5;132;01m{\u001b[39;00mrow_slab\u001b[38;5;241m.\u001b[39mid\u001b[38;5;132;01m}\u001b[39;00m\u001b[38;5;124m in \u001b[39m\u001b[38;5;132;01m{\u001b[39;00mdb_name_slab\u001b[38;5;132;01m}\u001b[39;00m\u001b[38;5;124m'\u001b[39m)\n\u001b[1;32m    107\u001b[0m             \u001b[38;5;66;03m# Print a message if no slabs were matched. This probably means that the DFT calculation\u001b[39;00m\n\u001b[1;32m    108\u001b[0m             \u001b[38;5;66;03m# did not converge and was left out\u001b[39;00m\n\u001b[1;32m    109\u001b[0m             \u001b[38;5;66;03m#elif n_matched == 0:\u001b[39;00m\n\u001b[1;32m    110\u001b[0m                 \u001b[38;5;66;03m#print(f'[INFO] No match found in {db_name} for row {row_slab.id} in {db_name_slab}')\u001b[39;00m\n\u001b[1;32m    111\u001b[0m \n\u001b[1;32m    112\u001b[0m \u001b[38;5;66;03m# Print the number of rejected samples to screen\u001b[39;00m\n\u001b[1;32m    113\u001b[0m \u001b[38;5;28mprint\u001b[39m(\u001b[38;5;124m'\u001b[39m\u001b[38;5;124mrejected COOH samples: \u001b[39m\u001b[38;5;124m'\u001b[39m, rejected_COOH)\n",
      "\u001b[0;31mNameError\u001b[0m: name 'db_name_slab' is not defined"
     ]
    }
   ],
   "source": [
    "# Specify metals\n",
    "metals = ['Ag', 'Au', 'Cu', 'Pd', 'Pt']\n",
    "alloy = ''.join(metals)\n",
    "\n",
    "# Specify name of databases\n",
    "db_name_COOH = 'COOH_C_adsorbed_out.db'\n",
    "\n",
    "# Set free energies of Pt(111) *OH and O* adsorption\n",
    "G_COOH_Pt111 = \n",
    "\n",
    "# Initiate dictionary with to convert DFT adsorption energies to free energies\n",
    "ref = {}\n",
    "\n",
    "# Load Pt(111) databases\n",
    "with connect(db_folder + f'single_element_slabs_out.db') as db_slab,\\\n",
    "     connect(db_folder + f'single_element_COOH_C_adsorbed_out.db') as db_COOH: #pure_metals hedder single_element nu\n",
    "\n",
    "    # Get DFT energies of pure slab, slab with *COOH\n",
    "    E_slab = db_slab.get('energy', Pt=45, C=0, H=0, O=0).energy\n",
    "    E_COOH = db_COOH.get('energy', Pt=45).energy\n",
    "\n",
    "    # Set references for each adsorbate\n",
    "    ref['COOH'] = -(E_COOH - E_slab) + G_COOH_Pt111\n",
    "\n",
    "# Initiate feature readers\n",
    "reader_COOH = OntopStandard111(metals)\n",
    "\n",
    "site_ids_COOH = [16, 17, 18]\n",
    "\n",
    "# Initiate counters of rejected samples\n",
    "rejected_COOH = 0\n",
    "\n",
    "# Writer headers to files\n",
    "with open(f'{features_folder}COOH_features.csv', 'w') as file_COOH:\n",
    "    file_COOH.write(f'Features, G_ads (eV), slab db row, {db_name_COOH} row')\n",
    "\n",
    "# Load HEA(111) databases\n",
    "with connect(f'{db_folder}{db_name_COOH}') as db_COOH,\\\n",
    "     connect(f'{db_folder}slabs_17_out.db') as db_slab,\\\n",
    "     open('COOH_features.csv', 'a') as file_COOH:\n",
    "\n",
    "    # Iterate through slabs without adsorbates\n",
    "    for row_slab in db_slab.select('energy', H=0, C=0, O=0):\n",
    "\n",
    "        # Iterate through the two adsorbates\n",
    "        for ads in ['COOH']:\n",
    "\n",
    "            # Set adsorbate-specific parameters\n",
    "            if ads == 'COOH':\n",
    "                db = db_COOH\n",
    "                kw = {'C':1, 'O': 2, 'H': 1}\n",
    "                db_name = db_name_COOH\n",
    "                out_file = file_COOH\n",
    "\n",
    "            # Set counter of matched slabs between the databases to zero\n",
    "            n_matched = 0\n",
    "\n",
    "            # Get the corresponding slab with adsorbate\n",
    "            for row in db.select('energy', **kw, **row_slab.count_atoms()):\n",
    "\n",
    "                # If symbols match up\n",
    "                if row.symbols[:-len(ads)] == row_slab.symbols:\n",
    "\n",
    "                    # Increment the counter of matched structures\n",
    "                    n_matched += 1\n",
    "\n",
    "                    # Get atoms object\n",
    "                    atoms = db.get_atoms(row.id)\n",
    "\n",
    "                    # Make slab instance\n",
    "                    slab = Slab(atoms, ads=ads, ads_atom='C')\n",
    "\n",
    "                    # If the adsorbate is *COOH\n",
    "                    if ads == 'COOH':\n",
    "\n",
    "                        # Get adsorption site elements as neighbors within a radius\n",
    "                        site_elems, site = slab.get_adsorption_site(radius=2.6, hollow_radius=2.6)\n",
    "\n",
    "                        # If the site does not consist of exactly one atom, then skip this sample\n",
    "                        # as the *OH has moved too far away from an on-top site\n",
    "                        try:\n",
    "                            if len(site_elems) !=1:\n",
    "                                rejected_COOH += 1\n",
    "                                #slab.view()\n",
    "                                continue\n",
    "                        except TypeError:\n",
    "                            print(site_elems, site)\n",
    "                            print(row_slab.id, row.id)\n",
    "                            slab.view()\n",
    "                            exit()\n",
    "\n",
    "                        # Get features of structure\n",
    "                        features = reader_COOH.get_features(slab, radius=2.6)\n",
    "\n",
    "                    # Get adsorption energy\n",
    "                    E_ads = row.energy - row_slab.energy + ref[ads]\n",
    "\n",
    "                    # Write output to file\n",
    "                    features = ','.join(map(str, features))\n",
    "                    out_file.write(f'\\n{features},{E_ads:.6f},{row_slab.id},{row.id}')\n",
    "\n",
    "            # Print a message if more than one slabs were matched. This probably means that\n",
    "            # the same slab has accidentally been saved multiple to the database\n",
    "            if n_matched > 1:\n",
    "                print(f'[INFO] {n_matched} {ads} and slab matched for row {row_slab.id} in {db_name_slab}')\n",
    "\n",
    "            # Print a message if no slabs were matched. This probably means that the DFT calculation\n",
    "            # did not converge and was left out\n",
    "            #elif n_matched == 0:\n",
    "                #print(f'[INFO] No match found in {db_name} for row {row_slab.id} in {db_name_slab}')\n",
    "\n",
    "# Print the number of rejected samples to screen\n",
    "print('rejected COOH samples: ', rejected_COOH)"
   ]
  },
  {
   "cell_type": "code",
   "execution_count": 18,
   "id": "204555b2",
   "metadata": {},
   "outputs": [
    {
     "name": "stdout",
     "output_type": "stream",
     "text": [
      "<ase.db.sqlite.SQLite3Database object at 0x1250f2e60>\n"
     ]
    }
   ],
   "source": [
    "with connect(db_folder + f'single_element_slabs_out.db') as db_slab,\\\n",
    "     connect(db_folder + f'single_element_COOH_C_adsorbed_out.db') as db_COOH: #pure_metals hedder single_element nu\n",
    "    \n",
    "    print(db_slab)\n",
    "    #for row in db_slab:\n",
    "    #    row.energy\n",
    "    # Get DFT energies of pure slab, slab with *COOH\n",
    "    #E_slab = db_slab.get('energy', Pt=20, C=0, H=0, O=0).energy\n",
    "    #E_COOH = db_COOH.get('energy', Pt=20).energy\n"
   ]
  },
  {
   "cell_type": "code",
   "execution_count": null,
   "id": "6e436d31",
   "metadata": {},
   "outputs": [],
   "source": [
    "Hvad er ref? Kig i PUK notebooks"
   ]
  }
 ],
 "metadata": {
  "kernelspec": {
   "display_name": "Python 3 (ipykernel)",
   "language": "python",
   "name": "python3"
  },
  "language_info": {
   "codemirror_mode": {
    "name": "ipython",
    "version": 3
   },
   "file_extension": ".py",
   "mimetype": "text/x-python",
   "name": "python",
   "nbconvert_exporter": "python",
   "pygments_lexer": "ipython3",
   "version": "3.10.8"
  }
 },
 "nbformat": 4,
 "nbformat_minor": 5
}
