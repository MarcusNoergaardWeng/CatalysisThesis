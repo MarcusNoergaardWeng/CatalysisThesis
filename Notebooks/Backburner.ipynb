{
 "cells": [
  {
   "attachments": {},
   "cell_type": "markdown",
   "metadata": {},
   "source": [
    "# First"
   ]
  },
  {
   "cell_type": "code",
   "execution_count": 18,
   "metadata": {},
   "outputs": [
    {
     "data": {
      "application/vnd.jupyter.widget-view+json": {
       "model_id": "3ccfe012b88047acb1df43f37c4f3496",
       "version_major": 2,
       "version_minor": 0
      },
      "text/plain": [
       "  0%|          | 0/10626 [00:00<?, ?it/s]"
      ]
     },
     "metadata": {},
     "output_type": "display_data"
    }
   ],
   "source": [
    "import warnings\n",
    "warnings.simplefilter(action='ignore', category=FutureWarning)\n",
    "\n",
    "import sys\n",
    "sys.path.append('../scripts')\n",
    "from functions import *\n",
    "\n",
    "from tqdm.notebook import tqdm\n",
    "\n",
    "molar_fractions_005 = get_molar_fractions(0.05, 5)\n",
    "\n",
    "active_list_list = []\n",
    "inactive_list_list = []\n",
    "blocked_list_list = []\n",
    "\n",
    "molar_fractions = molar_fractions_005\n",
    "Vmin, Vmax, n_points = 0.1, 0.4, 13\n",
    "\n",
    "for stoichiometry in tqdm(molar_fractions):\n",
    "    \n",
    "    HEA_surface = initialize_surface(dim_x, dim_y, metals, stoichiometry)\n",
    "    \n",
    "    # Predict energies on all sites for both adsorbates + mixed_sites\n",
    "    HEA_surface = precompute_binding_energies_SPEED2(HEA_surface, dim_x, dim_y, models)\n",
    "    \n",
    "    # Calculate\n",
    "    potential_range, active_list, inactive_list, blocked_list = counting_activity_scan(HEA_surface, Vmin, Vmax, n_points)\n",
    "    active_list_list.append(active_list)\n",
    "    inactive_list_list.append(inactive_list)\n",
    "    blocked_list_list.append(blocked_list)"
   ]
  },
  {
   "cell_type": "code",
   "execution_count": 19,
   "metadata": {},
   "outputs": [
    {
     "name": "stdout",
     "output_type": "stream",
     "text": [
      "Data has been written to ../Counting_Activity/All_Fracs005_eU0.1.csv\n",
      "Data has been written to ../Counting_Activity/All_Fracs005_eU0.125.csv\n",
      "Data has been written to ../Counting_Activity/All_Fracs005_eU0.15000000000000002.csv\n",
      "Data has been written to ../Counting_Activity/All_Fracs005_eU0.17500000000000002.csv\n",
      "Data has been written to ../Counting_Activity/All_Fracs005_eU0.2.csv\n",
      "Data has been written to ../Counting_Activity/All_Fracs005_eU0.22500000000000003.csv\n",
      "Data has been written to ../Counting_Activity/All_Fracs005_eU0.25.csv\n",
      "Data has been written to ../Counting_Activity/All_Fracs005_eU0.275.csv\n",
      "Data has been written to ../Counting_Activity/All_Fracs005_eU0.30000000000000004.csv\n",
      "Data has been written to ../Counting_Activity/All_Fracs005_eU0.32500000000000007.csv\n",
      "Data has been written to ../Counting_Activity/All_Fracs005_eU0.3500000000000001.csv\n",
      "Data has been written to ../Counting_Activity/All_Fracs005_eU0.3750000000000001.csv\n",
      "Data has been written to ../Counting_Activity/All_Fracs005_eU0.4.csv\n"
     ]
    }
   ],
   "source": [
    "column_names = metals + [\"Active\", \"Inactive\", \"Blocked\"]\n",
    "Ag_content = molar_fractions_005.T[0]\n",
    "Au_content = molar_fractions_005.T[1]\n",
    "Cu_content = molar_fractions_005.T[2]\n",
    "Pd_content = molar_fractions_005.T[3]\n",
    "Pt_content = molar_fractions_005.T[4]\n",
    "\n",
    "for n, eU_string in enumerate([str(eU) for eU in np.linspace(Vmin, Vmax, n_points)]):\n",
    "    write_to_csv(\"../Counting_Activity/All_Fracs005_eU\"+eU_string+\".csv\", column_names, Ag_content, Au_content, Cu_content, Pd_content, Pt_content, np.array(active_list_list).T[n], np.array(inactive_list_list).T[n], np.array(blocked_list_list).T[n])"
   ]
  },
  {
   "cell_type": "code",
   "execution_count": 17,
   "metadata": {},
   "outputs": [
    {
     "data": {
      "text/plain": [
       "array([0.1  , 0.125, 0.15 , 0.175, 0.2  , 0.225, 0.25 , 0.275, 0.3  ,\n",
       "       0.325, 0.35 , 0.375, 0.4  ])"
      ]
     },
     "execution_count": 17,
     "metadata": {},
     "output_type": "execute_result"
    }
   ],
   "source": [
    "Vmin, Vmax, n_points = 0.1, 0.4, 13\n",
    "np.linspace(Vmin, Vmax, n_points)"
   ]
  },
  {
   "attachments": {},
   "cell_type": "markdown",
   "metadata": {},
   "source": [
    "# Highly detailed version"
   ]
  },
  {
   "cell_type": "code",
   "execution_count": 7,
   "metadata": {},
   "outputs": [
    {
     "data": {
      "application/vnd.jupyter.widget-view+json": {
       "model_id": "5349ef95111349d79449ec5801fae6f6",
       "version_major": 2,
       "version_minor": 0
      },
      "text/plain": [
       "  0%|          | 0/10626 [00:00<?, ?it/s]"
      ]
     },
     "metadata": {},
     "output_type": "display_data"
    }
   ],
   "source": [
    "import warnings\n",
    "warnings.simplefilter(action='ignore', category=FutureWarning)\n",
    "\n",
    "import sys\n",
    "sys.path.append('../scripts')\n",
    "from functions import *\n",
    "\n",
    "from tqdm.notebook import tqdm\n",
    "\n",
    "molar_fractions_005 = get_molar_fractions(0.05, 5)\n",
    "\n",
    "active_list_list = []\n",
    "inactive_list_list = []\n",
    "blocked_list_list = []\n",
    "\n",
    "molar_fractions = molar_fractions_005\n",
    "Vmin, Vmax, n_points = 0.1, 0.35, 26\n",
    "\n",
    "for stoichiometry in tqdm(molar_fractions):\n",
    "    \n",
    "    HEA_surface = initialize_surface(dim_x, dim_y, metals, stoichiometry)\n",
    "    \n",
    "    # Predict energies on all sites for both adsorbates + mixed_sites\n",
    "    HEA_surface = precompute_binding_energies_SPEED2(HEA_surface, dim_x, dim_y, models)\n",
    "    \n",
    "    # Calculate\n",
    "    potential_range, active_list, inactive_list, blocked_list = counting_activity_scan(HEA_surface, Vmin, Vmax, n_points)\n",
    "    active_list_list.append(active_list)\n",
    "    inactive_list_list.append(inactive_list)\n",
    "    blocked_list_list.append(blocked_list)"
   ]
  },
  {
   "cell_type": "code",
   "execution_count": null,
   "metadata": {},
   "outputs": [],
   "source": [
    "column_names = metals + [\"Active\", \"Inactive\", \"Blocked\"]\n",
    "Ag_content = molar_fractions_005.T[0]\n",
    "Au_content = molar_fractions_005.T[1]\n",
    "Cu_content = molar_fractions_005.T[2]\n",
    "Pd_content = molar_fractions_005.T[3]\n",
    "Pt_content = molar_fractions_005.T[4]\n",
    "\n",
    "for n, eU_string in enumerate([str(eU) for eU in np.linspace(Vmin, Vmax, n_points)]):\n",
    "    write_to_csv(\"../Counting_Activity/HighRes_All_Fracs005_eU\"+eU_string+\".csv\", column_names, Ag_content, Au_content, Cu_content, Pd_content, Pt_content, np.array(active_list_list).T[n], np.array(inactive_list_list).T[n], np.array(blocked_list_list).T[n])"
   ]
  },
  {
   "cell_type": "code",
   "execution_count": 26,
   "metadata": {},
   "outputs": [
    {
     "data": {
      "text/plain": [
       "array([0.1   , 0.1125, 0.125 , 0.1375, 0.15  , 0.1625, 0.175 , 0.1875,\n",
       "       0.2   , 0.2125, 0.225 , 0.2375, 0.25  , 0.2625, 0.275 , 0.2875,\n",
       "       0.3   , 0.3125, 0.325 , 0.3375, 0.35  ])"
      ]
     },
     "execution_count": 26,
     "metadata": {},
     "output_type": "execute_result"
    }
   ],
   "source": [
    "Vmin, Vmax, n_points = 0.1, 0.35, 21\n",
    "np.linspace(Vmin, Vmax, n_points)"
   ]
  },
  {
   "cell_type": "code",
   "execution_count": 6,
   "metadata": {},
   "outputs": [
    {
     "data": {
      "text/plain": [
       "array([0.1 , 0.11, 0.12, 0.13, 0.14, 0.15, 0.16, 0.17, 0.18, 0.19, 0.2 ,\n",
       "       0.21, 0.22, 0.23, 0.24, 0.25, 0.26, 0.27, 0.28, 0.29, 0.3 , 0.31,\n",
       "       0.32, 0.33, 0.34, 0.35])"
      ]
     },
     "execution_count": 6,
     "metadata": {},
     "output_type": "execute_result"
    }
   ],
   "source": [
    "Vmin, Vmax, n_points = 0.1, 0.35, 26\n",
    "np.linspace(Vmin, Vmax, n_points)"
   ]
  },
  {
   "cell_type": "code",
   "execution_count": 24,
   "metadata": {},
   "outputs": [
    {
     "data": {
      "text/plain": [
       "19.999999999999996"
      ]
     },
     "execution_count": 24,
     "metadata": {},
     "output_type": "execute_result"
    }
   ],
   "source": [
    "(0.35-0.1)/0.0125"
   ]
  },
  {
   "cell_type": "code",
   "execution_count": 31,
   "metadata": {},
   "outputs": [
    {
     "name": "stdout",
     "output_type": "stream",
     "text": [
      "10626\n"
     ]
    }
   ],
   "source": [
    "molar_fractions_005 = get_molar_fractions(0.05, 5)\n",
    "print(len(molar_fractions_005))"
   ]
  }
 ],
 "metadata": {
  "kernelspec": {
   "display_name": "PUK",
   "language": "python",
   "name": "python3"
  },
  "language_info": {
   "codemirror_mode": {
    "name": "ipython",
    "version": 3
   },
   "file_extension": ".py",
   "mimetype": "text/x-python",
   "name": "python",
   "nbconvert_exporter": "python",
   "pygments_lexer": "ipython3",
   "version": "3.10.8"
  },
  "orig_nbformat": 4
 },
 "nbformat": 4,
 "nbformat_minor": 2
}
