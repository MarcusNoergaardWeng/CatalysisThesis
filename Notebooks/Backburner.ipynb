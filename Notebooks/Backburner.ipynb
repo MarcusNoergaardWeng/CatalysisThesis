{
 "cells": [
  {
   "attachments": {},
   "cell_type": "markdown",
   "metadata": {},
   "source": [
    "# First"
   ]
  },
  {
   "cell_type": "code",
   "execution_count": 2,
   "metadata": {},
   "outputs": [],
   "source": [
    "import warnings\n",
    "warnings.simplefilter(action='ignore', category=FutureWarning)\n",
    "\n",
    "import sys\n",
    "sys.path.append('../scripts')\n",
    "from functions import *\n",
    "\n",
    "from tqdm.notebook import tqdm"
   ]
  },
  {
   "cell_type": "code",
   "execution_count": null,
   "metadata": {},
   "outputs": [],
   "source": [
    "\n",
    "molar_fractions_005 = get_molar_fractions(0.05, 5)\n",
    "\n",
    "active_list_list = []\n",
    "inactive_list_list = []\n",
    "blocked_list_list = []\n",
    "\n",
    "molar_fractions = molar_fractions_005\n",
    "Vmin, Vmax, n_points = 0.1, 0.4, 13\n",
    "\n",
    "for stoichiometry in tqdm(molar_fractions):\n",
    "    \n",
    "    HEA_surface = initialize_surface(dim_x, dim_y, metals, stoichiometry)\n",
    "    \n",
    "    # Predict energies on all sites for both adsorbates + mixed_sites\n",
    "    HEA_surface = precompute_binding_energies_SPEED2(HEA_surface, dim_x, dim_y, models)\n",
    "    \n",
    "    # Calculate\n",
    "    potential_range, active_list, inactive_list, blocked_list = counting_activity_scan(HEA_surface, Vmin, Vmax, n_points)\n",
    "    active_list_list.append(active_list)\n",
    "    inactive_list_list.append(inactive_list)\n",
    "    blocked_list_list.append(blocked_list)"
   ]
  },
  {
   "cell_type": "code",
   "execution_count": 19,
   "metadata": {},
   "outputs": [
    {
     "name": "stdout",
     "output_type": "stream",
     "text": [
      "Data has been written to ../Counting_Activity/All_Fracs005_eU0.1.csv\n",
      "Data has been written to ../Counting_Activity/All_Fracs005_eU0.125.csv\n",
      "Data has been written to ../Counting_Activity/All_Fracs005_eU0.15000000000000002.csv\n",
      "Data has been written to ../Counting_Activity/All_Fracs005_eU0.17500000000000002.csv\n",
      "Data has been written to ../Counting_Activity/All_Fracs005_eU0.2.csv\n",
      "Data has been written to ../Counting_Activity/All_Fracs005_eU0.22500000000000003.csv\n",
      "Data has been written to ../Counting_Activity/All_Fracs005_eU0.25.csv\n",
      "Data has been written to ../Counting_Activity/All_Fracs005_eU0.275.csv\n",
      "Data has been written to ../Counting_Activity/All_Fracs005_eU0.30000000000000004.csv\n",
      "Data has been written to ../Counting_Activity/All_Fracs005_eU0.32500000000000007.csv\n",
      "Data has been written to ../Counting_Activity/All_Fracs005_eU0.3500000000000001.csv\n",
      "Data has been written to ../Counting_Activity/All_Fracs005_eU0.3750000000000001.csv\n",
      "Data has been written to ../Counting_Activity/All_Fracs005_eU0.4.csv\n"
     ]
    }
   ],
   "source": [
    "column_names = metals + [\"Active\", \"Inactive\", \"Blocked\"]\n",
    "Ag_content = molar_fractions_005.T[0]\n",
    "Au_content = molar_fractions_005.T[1]\n",
    "Cu_content = molar_fractions_005.T[2]\n",
    "Pd_content = molar_fractions_005.T[3]\n",
    "Pt_content = molar_fractions_005.T[4]\n",
    "\n",
    "for n, eU_string in enumerate([str(eU) for eU in np.linspace(Vmin, Vmax, n_points)]):\n",
    "    write_to_csv(\"../Counting_Activity/All_Fracs005_eU\"+eU_string+\".csv\", column_names, Ag_content, Au_content, Cu_content, Pd_content, Pt_content, np.array(active_list_list).T[n], np.array(inactive_list_list).T[n], np.array(blocked_list_list).T[n])"
   ]
  },
  {
   "cell_type": "code",
   "execution_count": 17,
   "metadata": {},
   "outputs": [
    {
     "data": {
      "text/plain": [
       "array([0.1  , 0.125, 0.15 , 0.175, 0.2  , 0.225, 0.25 , 0.275, 0.3  ,\n",
       "       0.325, 0.35 , 0.375, 0.4  ])"
      ]
     },
     "execution_count": 17,
     "metadata": {},
     "output_type": "execute_result"
    }
   ],
   "source": [
    "Vmin, Vmax, n_points = 0.1, 0.4, 13\n",
    "np.linspace(Vmin, Vmax, n_points)"
   ]
  },
  {
   "attachments": {},
   "cell_type": "markdown",
   "metadata": {},
   "source": [
    "# Highly detailed version"
   ]
  },
  {
   "cell_type": "code",
   "execution_count": 7,
   "metadata": {},
   "outputs": [
    {
     "data": {
      "application/vnd.jupyter.widget-view+json": {
       "model_id": "5349ef95111349d79449ec5801fae6f6",
       "version_major": 2,
       "version_minor": 0
      },
      "text/plain": [
       "  0%|          | 0/10626 [00:00<?, ?it/s]"
      ]
     },
     "metadata": {},
     "output_type": "display_data"
    }
   ],
   "source": [
    "import warnings\n",
    "warnings.simplefilter(action='ignore', category=FutureWarning)\n",
    "\n",
    "import sys\n",
    "sys.path.append('../scripts')\n",
    "from functions import *\n",
    "\n",
    "from tqdm.notebook import tqdm\n",
    "\n",
    "molar_fractions_005 = get_molar_fractions(0.05, 5)\n",
    "\n",
    "active_list_list = []\n",
    "inactive_list_list = []\n",
    "blocked_list_list = []\n",
    "\n",
    "molar_fractions = molar_fractions_005\n",
    "Vmin, Vmax, n_points = 0.1, 0.35, 26\n",
    "\n",
    "for stoichiometry in tqdm(molar_fractions):\n",
    "    \n",
    "    HEA_surface = initialize_surface(dim_x, dim_y, metals, stoichiometry)\n",
    "    \n",
    "    # Predict energies on all sites for both adsorbates + mixed_sites\n",
    "    HEA_surface = precompute_binding_energies_SPEED2(HEA_surface, dim_x, dim_y, models)\n",
    "    \n",
    "    # Calculate\n",
    "    potential_range, active_list, inactive_list, blocked_list = counting_activity_scan(HEA_surface, Vmin, Vmax, n_points)\n",
    "    active_list_list.append(active_list)\n",
    "    inactive_list_list.append(inactive_list)\n",
    "    blocked_list_list.append(blocked_list)"
   ]
  },
  {
   "cell_type": "code",
   "execution_count": 8,
   "metadata": {},
   "outputs": [
    {
     "name": "stdout",
     "output_type": "stream",
     "text": [
      "Data has been written to ../Counting_Activity/HighRes_All_Fracs005_eU0.1.csv\n",
      "Data has been written to ../Counting_Activity/HighRes_All_Fracs005_eU0.11.csv\n",
      "Data has been written to ../Counting_Activity/HighRes_All_Fracs005_eU0.12.csv\n",
      "Data has been written to ../Counting_Activity/HighRes_All_Fracs005_eU0.13.csv\n",
      "Data has been written to ../Counting_Activity/HighRes_All_Fracs005_eU0.14.csv\n",
      "Data has been written to ../Counting_Activity/HighRes_All_Fracs005_eU0.15.csv\n",
      "Data has been written to ../Counting_Activity/HighRes_All_Fracs005_eU0.16.csv\n",
      "Data has been written to ../Counting_Activity/HighRes_All_Fracs005_eU0.16999999999999998.csv\n",
      "Data has been written to ../Counting_Activity/HighRes_All_Fracs005_eU0.18.csv\n",
      "Data has been written to ../Counting_Activity/HighRes_All_Fracs005_eU0.19.csv\n",
      "Data has been written to ../Counting_Activity/HighRes_All_Fracs005_eU0.19999999999999998.csv\n",
      "Data has been written to ../Counting_Activity/HighRes_All_Fracs005_eU0.21.csv\n",
      "Data has been written to ../Counting_Activity/HighRes_All_Fracs005_eU0.21999999999999997.csv\n",
      "Data has been written to ../Counting_Activity/HighRes_All_Fracs005_eU0.22999999999999998.csv\n",
      "Data has been written to ../Counting_Activity/HighRes_All_Fracs005_eU0.24.csv\n",
      "Data has been written to ../Counting_Activity/HighRes_All_Fracs005_eU0.24999999999999997.csv\n",
      "Data has been written to ../Counting_Activity/HighRes_All_Fracs005_eU0.26.csv\n",
      "Data has been written to ../Counting_Activity/HighRes_All_Fracs005_eU0.27.csv\n",
      "Data has been written to ../Counting_Activity/HighRes_All_Fracs005_eU0.27999999999999997.csv\n",
      "Data has been written to ../Counting_Activity/HighRes_All_Fracs005_eU0.29.csv\n",
      "Data has been written to ../Counting_Activity/HighRes_All_Fracs005_eU0.29999999999999993.csv\n",
      "Data has been written to ../Counting_Activity/HighRes_All_Fracs005_eU0.30999999999999994.csv\n",
      "Data has been written to ../Counting_Activity/HighRes_All_Fracs005_eU0.31999999999999995.csv\n",
      "Data has been written to ../Counting_Activity/HighRes_All_Fracs005_eU0.32999999999999996.csv\n",
      "Data has been written to ../Counting_Activity/HighRes_All_Fracs005_eU0.33999999999999997.csv\n",
      "Data has been written to ../Counting_Activity/HighRes_All_Fracs005_eU0.35.csv\n"
     ]
    }
   ],
   "source": [
    "column_names = metals + [\"Active\", \"Inactive\", \"Blocked\"]\n",
    "Ag_content = molar_fractions_005.T[0]\n",
    "Au_content = molar_fractions_005.T[1]\n",
    "Cu_content = molar_fractions_005.T[2]\n",
    "Pd_content = molar_fractions_005.T[3]\n",
    "Pt_content = molar_fractions_005.T[4]\n",
    "\n",
    "for n, eU_string in enumerate([str(eU) for eU in np.linspace(Vmin, Vmax, n_points)]):\n",
    "    write_to_csv(\"../Counting_Activity/HighRes_All_Fracs005_eU\"+eU_string+\".csv\", column_names, Ag_content, Au_content, Cu_content, Pd_content, Pt_content, np.array(active_list_list).T[n], np.array(inactive_list_list).T[n], np.array(blocked_list_list).T[n])"
   ]
  },
  {
   "cell_type": "code",
   "execution_count": 26,
   "metadata": {},
   "outputs": [
    {
     "data": {
      "text/plain": [
       "array([0.1   , 0.1125, 0.125 , 0.1375, 0.15  , 0.1625, 0.175 , 0.1875,\n",
       "       0.2   , 0.2125, 0.225 , 0.2375, 0.25  , 0.2625, 0.275 , 0.2875,\n",
       "       0.3   , 0.3125, 0.325 , 0.3375, 0.35  ])"
      ]
     },
     "execution_count": 26,
     "metadata": {},
     "output_type": "execute_result"
    }
   ],
   "source": [
    "Vmin, Vmax, n_points = 0.1, 0.35, 21\n",
    "np.linspace(Vmin, Vmax, n_points)"
   ]
  },
  {
   "cell_type": "code",
   "execution_count": 6,
   "metadata": {},
   "outputs": [
    {
     "data": {
      "text/plain": [
       "array([0.1 , 0.11, 0.12, 0.13, 0.14, 0.15, 0.16, 0.17, 0.18, 0.19, 0.2 ,\n",
       "       0.21, 0.22, 0.23, 0.24, 0.25, 0.26, 0.27, 0.28, 0.29, 0.3 , 0.31,\n",
       "       0.32, 0.33, 0.34, 0.35])"
      ]
     },
     "execution_count": 6,
     "metadata": {},
     "output_type": "execute_result"
    }
   ],
   "source": [
    "Vmin, Vmax, n_points = 0.1, 0.35, 26\n",
    "np.linspace(Vmin, Vmax, n_points)"
   ]
  },
  {
   "cell_type": "code",
   "execution_count": 31,
   "metadata": {},
   "outputs": [
    {
     "name": "stdout",
     "output_type": "stream",
     "text": [
      "10626\n"
     ]
    }
   ],
   "source": [
    "molar_fractions_005 = get_molar_fractions(0.05, 5)\n",
    "print(len(molar_fractions_005))"
   ]
  },
  {
   "attachments": {},
   "cell_type": "markdown",
   "metadata": {},
   "source": [
    "# Run super high resolution JUST at the four potentials with big surfaces\n",
    "\n",
    "For the first three, I can just use three metals at 1% molar fractions. The scaling is really forgiving at only 3 metals. "
   ]
  },
  {
   "cell_type": "code",
   "execution_count": 1,
   "metadata": {},
   "outputs": [],
   "source": [
    "import warnings\n",
    "warnings.simplefilter(action='ignore', category=FutureWarning)\n",
    "\n",
    "import sys\n",
    "sys.path.append('../scripts')\n",
    "from functions import *\n",
    "\n",
    "from tqdm.notebook import tqdm"
   ]
  },
  {
   "cell_type": "code",
   "execution_count": 3,
   "metadata": {},
   "outputs": [],
   "source": [
    "potential_range = np.array([0.31, 0.27, 0.21, 0.16])\n",
    "\n",
    "molar_fractions_001_PtCuAu = get_molar_fractions(0.01, 3) # Put empty Pd and Ag columns/rows in here\n",
    "# I have to add in a list of zeros at index 0 and 3\n",
    "molar_fractions_001_PtCuAu = np.array([\n",
    "    np.zeros(len(molar_fractions_001_PtCuAu)), # Ag, there is none of that\n",
    "    molar_fractions_001_PtCuAu.T[0],           # Au\n",
    "    molar_fractions_001_PtCuAu.T[1],           # Cu\n",
    "    np.zeros(len(molar_fractions_001_PtCuAu)), # Pd, there is none of that\n",
    "    molar_fractions_001_PtCuAu.T[2],           # Pt\n",
    "]).T\n",
    "\n",
    "molar_fractions_001_PtCuAg = get_molar_fractions(0.01, 3)\n",
    "molar_fractions_001_PtCuAg = np.array([\n",
    "    molar_fractions_001_PtCuAg.T[0],           # Ag\n",
    "    np.zeros(len(molar_fractions_001_PtCuAg)), # Au, there is none of that\n",
    "    molar_fractions_001_PtCuAg.T[1],           # Cu\n",
    "    np.zeros(len(molar_fractions_001_PtCuAg)), # Pd, there is none of that\n",
    "    molar_fractions_001_PtCuAg.T[2],           # Pt\n",
    "]).T\n",
    "\n",
    "molar_fractions_003_PtCuAgAu = get_molar_fractions(0.03, 4)\n",
    "molar_fractions_003_PtCuAgAu = np.array([\n",
    "    molar_fractions_003_PtCuAgAu.T[0],           # Ag\n",
    "    molar_fractions_003_PtCuAgAu.T[1], # Au\n",
    "    molar_fractions_003_PtCuAgAu.T[2],           # Cu\n",
    "    np.zeros(len(molar_fractions_003_PtCuAgAu)), # Pd, there is none of that\n",
    "    molar_fractions_003_PtCuAgAu.T[3],           # Pt\n",
    "]).T"
   ]
  },
  {
   "attachments": {},
   "cell_type": "markdown",
   "metadata": {},
   "source": [
    "# 0.31 Optimum"
   ]
  },
  {
   "cell_type": "code",
   "execution_count": 4,
   "metadata": {},
   "outputs": [
    {
     "data": {
      "application/vnd.jupyter.widget-view+json": {
       "model_id": "9d74f4825a83421db37070a2857f24ce",
       "version_major": 2,
       "version_minor": 0
      },
      "text/plain": [
       "  0%|          | 0/5151 [00:00<?, ?it/s]"
      ]
     },
     "metadata": {},
     "output_type": "display_data"
    },
    {
     "name": "stdout",
     "output_type": "stream",
     "text": [
      "Data has been written to ../Counting_Activity/SUPERHighRes_031_optimum.csv\n"
     ]
    }
   ],
   "source": [
    "active_list   = []\n",
    "inactive_list = []\n",
    "blocked_list  = []\n",
    "\n",
    "for stoichiometry in tqdm(molar_fractions_001_PtCuAu):\n",
    "    \n",
    "    HEA_surface = initialize_surface(dim_x, dim_y, metals, stoichiometry)\n",
    "    \n",
    "    # Predict energies on all sites for both adsorbates + mixed_sites\n",
    "    HEA_surface = precompute_binding_energies_SPEED2(HEA_surface, dim_x, dim_y, models)\n",
    "    \n",
    "    # Calculate\n",
    "    active, inactive, blocked = counting_activity(HEA_surface, potential_range[0])\n",
    "    active_list.append(active)\n",
    "    inactive_list.append(inactive)\n",
    "    blocked_list.append(blocked)\n",
    "\n",
    "column_names = metals + [\"Active\", \"Inactive\", \"Blocked\"]\n",
    "Ag_content = molar_fractions_001_PtCuAu.T[0]\n",
    "Au_content = molar_fractions_001_PtCuAu.T[1]\n",
    "Cu_content = molar_fractions_001_PtCuAu.T[2]\n",
    "Pd_content = molar_fractions_001_PtCuAu.T[3]\n",
    "Pt_content = molar_fractions_001_PtCuAu.T[4]\n",
    "\n",
    "write_to_csv(\"../Counting_Activity/SUPERHighRes_031_optimum.csv\", column_names, Ag_content, Au_content, Cu_content, Pd_content, Pt_content, active_list, inactive_list, blocked_list)"
   ]
  },
  {
   "attachments": {},
   "cell_type": "markdown",
   "metadata": {},
   "source": [
    "# 0.27 Optimum"
   ]
  },
  {
   "cell_type": "code",
   "execution_count": 5,
   "metadata": {},
   "outputs": [
    {
     "data": {
      "application/vnd.jupyter.widget-view+json": {
       "model_id": "0e4aee9eb5c34837a4170d2d7f2fea3c",
       "version_major": 2,
       "version_minor": 0
      },
      "text/plain": [
       "  0%|          | 0/5151 [00:00<?, ?it/s]"
      ]
     },
     "metadata": {},
     "output_type": "display_data"
    },
    {
     "name": "stdout",
     "output_type": "stream",
     "text": [
      "Data has been written to ../Counting_Activity/SUPERHighRes_027_optimum.csv\n"
     ]
    }
   ],
   "source": [
    "active_list   = []\n",
    "inactive_list = []\n",
    "blocked_list  = []\n",
    "\n",
    "for stoichiometry in tqdm(molar_fractions_001_PtCuAu):\n",
    "    \n",
    "    HEA_surface = initialize_surface(dim_x, dim_y, metals, stoichiometry)\n",
    "    \n",
    "    # Predict energies on all sites for both adsorbates + mixed_sites\n",
    "    HEA_surface = precompute_binding_energies_SPEED2(HEA_surface, dim_x, dim_y, models)\n",
    "    \n",
    "    # Calculate\n",
    "    active, inactive, blocked = counting_activity(HEA_surface, potential_range[1])\n",
    "    active_list.append(active)\n",
    "    inactive_list.append(inactive)\n",
    "    blocked_list.append(blocked)\n",
    "\n",
    "column_names = metals + [\"Active\", \"Inactive\", \"Blocked\"]\n",
    "Ag_content = molar_fractions_001_PtCuAu.T[0]\n",
    "Au_content = molar_fractions_001_PtCuAu.T[1]\n",
    "Cu_content = molar_fractions_001_PtCuAu.T[2]\n",
    "Pd_content = molar_fractions_001_PtCuAu.T[3]\n",
    "Pt_content = molar_fractions_001_PtCuAu.T[4]\n",
    "\n",
    "write_to_csv(\"../Counting_Activity/SUPERHighRes_027_optimum.csv\", column_names, Ag_content, Au_content, Cu_content, Pd_content, Pt_content, active_list, inactive_list, blocked_list)"
   ]
  },
  {
   "attachments": {},
   "cell_type": "markdown",
   "metadata": {},
   "source": [
    "# 0.21 Optimum"
   ]
  },
  {
   "cell_type": "code",
   "execution_count": 6,
   "metadata": {},
   "outputs": [
    {
     "data": {
      "application/vnd.jupyter.widget-view+json": {
       "model_id": "0b049ca467fb468181a718600371426b",
       "version_major": 2,
       "version_minor": 0
      },
      "text/plain": [
       "  0%|          | 0/5151 [00:00<?, ?it/s]"
      ]
     },
     "metadata": {},
     "output_type": "display_data"
    },
    {
     "name": "stdout",
     "output_type": "stream",
     "text": [
      "Data has been written to ../Counting_Activity/SUPERHighRes_021_optimum.csv\n"
     ]
    }
   ],
   "source": [
    "active_list   = []\n",
    "inactive_list = []\n",
    "blocked_list  = []\n",
    "\n",
    "for stoichiometry in tqdm(molar_fractions_001_PtCuAg):\n",
    "    \n",
    "    HEA_surface = initialize_surface(dim_x, dim_y, metals, stoichiometry)\n",
    "    \n",
    "    # Predict energies on all sites for both adsorbates + mixed_sites\n",
    "    HEA_surface = precompute_binding_energies_SPEED2(HEA_surface, dim_x, dim_y, models)\n",
    "    \n",
    "    # Calculate\n",
    "    active, inactive, blocked = counting_activity(HEA_surface, potential_range[2])\n",
    "    active_list.append(active)\n",
    "    inactive_list.append(inactive)\n",
    "    blocked_list.append(blocked)\n",
    "\n",
    "column_names = metals + [\"Active\", \"Inactive\", \"Blocked\"]\n",
    "Ag_content = molar_fractions_001_PtCuAg.T[0]\n",
    "Au_content = molar_fractions_001_PtCuAg.T[1]\n",
    "Cu_content = molar_fractions_001_PtCuAg.T[2]\n",
    "Pd_content = molar_fractions_001_PtCuAg.T[3]\n",
    "Pt_content = molar_fractions_001_PtCuAg.T[4]\n",
    "\n",
    "write_to_csv(\"../Counting_Activity/SUPERHighRes_021_optimum.csv\", column_names, Ag_content, Au_content, Cu_content, Pd_content, Pt_content, active_list, inactive_list, blocked_list)"
   ]
  },
  {
   "attachments": {},
   "cell_type": "markdown",
   "metadata": {},
   "source": [
    "# 0.16 Optimum"
   ]
  },
  {
   "cell_type": "code",
   "execution_count": 7,
   "metadata": {},
   "outputs": [
    {
     "data": {
      "application/vnd.jupyter.widget-view+json": {
       "model_id": "f35dddccd79c4d679d99d0ab47310130",
       "version_major": 2,
       "version_minor": 0
      },
      "text/plain": [
       "  0%|          | 0/7140 [00:00<?, ?it/s]"
      ]
     },
     "metadata": {},
     "output_type": "display_data"
    },
    {
     "name": "stdout",
     "output_type": "stream",
     "text": [
      "Data has been written to ../Counting_Activity/SUPERHighRes_016_optimum.csv\n"
     ]
    }
   ],
   "source": [
    "active_list   = []\n",
    "inactive_list = []\n",
    "blocked_list  = []\n",
    "\n",
    "for stoichiometry in tqdm(molar_fractions_003_PtCuAgAu):\n",
    "    \n",
    "    HEA_surface = initialize_surface(dim_x, dim_y, metals, stoichiometry)\n",
    "    \n",
    "    # Predict energies on all sites for both adsorbates + mixed_sites\n",
    "    HEA_surface = precompute_binding_energies_SPEED2(HEA_surface, dim_x, dim_y, models)\n",
    "    \n",
    "    # Calculate\n",
    "    active, inactive, blocked = counting_activity(HEA_surface, potential_range[3])\n",
    "    active_list.append(active)\n",
    "    inactive_list.append(inactive)\n",
    "    blocked_list.append(blocked)\n",
    "\n",
    "column_names = metals + [\"Active\", \"Inactive\", \"Blocked\"]\n",
    "Ag_content = molar_fractions_003_PtCuAgAu.T[0]\n",
    "Au_content = molar_fractions_003_PtCuAgAu.T[1]\n",
    "Cu_content = molar_fractions_003_PtCuAgAu.T[2]\n",
    "Pd_content = molar_fractions_003_PtCuAgAu.T[3]\n",
    "Pt_content = molar_fractions_003_PtCuAgAu.T[4]\n",
    "\n",
    "write_to_csv(\"../Counting_Activity/SUPERHighRes_016_optimum.csv\", column_names, Ag_content, Au_content, Cu_content, Pd_content, Pt_content, active_list, inactive_list, blocked_list)"
   ]
  },
  {
   "cell_type": "code",
   "execution_count": 16,
   "metadata": {},
   "outputs": [
    {
     "name": "stdout",
     "output_type": "stream",
     "text": [
      "10626\n"
     ]
    }
   ],
   "source": [
    "molar_fractions_005 = get_molar_fractions(0.05, 5)\n",
    "print(len(molar_fractions_005))"
   ]
  }
 ],
 "metadata": {
  "kernelspec": {
   "display_name": "PUK",
   "language": "python",
   "name": "python3"
  },
  "language_info": {
   "codemirror_mode": {
    "name": "ipython",
    "version": 3
   },
   "file_extension": ".py",
   "mimetype": "text/x-python",
   "name": "python",
   "nbconvert_exporter": "python",
   "pygments_lexer": "ipython3",
   "version": "3.10.8"
  },
  "orig_nbformat": 4
 },
 "nbformat": 4,
 "nbformat_minor": 2
}
