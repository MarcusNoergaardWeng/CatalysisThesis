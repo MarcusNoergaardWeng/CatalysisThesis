{
 "cells": [
  {
   "cell_type": "markdown",
   "id": "ed378c55",
   "metadata": {},
   "source": [
    "# DFT calculated energies"
   ]
  },
  {
   "cell_type": "markdown",
   "id": "1f632684",
   "metadata": {},
   "source": [
    "#### Imports"
   ]
  },
  {
   "cell_type": "code",
   "execution_count": 211,
   "id": "d7f1f23d",
   "metadata": {},
   "outputs": [],
   "source": [
    "import matplotlib.pyplot as plt\n",
    "import matplotlib.ticker as ticker\n",
    "import matplotlib.patches as patches\n",
    "import numpy as np\n",
    "from ase.db import connect\n",
    "import sys\n",
    "import pandas as pd\n",
    "from sklearn.model_selection import train_test_split;\n",
    "import xgboost as xgb\n",
    "from xgboost import XGBRegressor;\n",
    "import time\n",
    "from tqdm.notebook import tqdm\n",
    "import warnings\n",
    "warnings.simplefilter(action='ignore', category=FutureWarning)\n",
    "from collections import Counter\n",
    "\n",
    "figure_folder = \"../figures/DFT_calc_energies/\"\n",
    "DFT_folder = \"../DFT_data/\"\n",
    "db_folder = \"../DFT_data/\"\n",
    "# The COOH Pt data is in \"single_element_COOH_C_adsorbed_out.db\"\n",
    "db_name_SE_COOH = \"single_element_COOH_C_adsorbed_out.db\"\n",
    "# THe H data is in \"single_element_H_out.db\"\n",
    "db_name_SE_H = \"single_element_H_out.db\"\n",
    "db_name_SE = \"single_element_slabs_out.db\"\n",
    "\n",
    "sys.path.append('../scripts')\n",
    "from Slab import expand_triangle, Slab, inside_triangle\n",
    "from FeatureReader import OntopStandard111, FccStandard111\n",
    "from ase.db import connect\n",
    "from ase.visualize import view\n",
    "\n",
    "features_folder = \"../csv_features/\"\n",
    "\n",
    "import sys\n",
    "import os\n",
    "\n",
    "# Define the path to the folder containing the functions.py file\n",
    "path_to_functions = \"../scripts/functions.py\"\n",
    "\n",
    "# Get the absolute path of the functions.py file\n",
    "absolute_path = os.path.abspath(path_to_functions)\n",
    "\n",
    "# Add the folder containing the functions.py file to the module search path\n",
    "sys.path.append(os.path.dirname(absolute_path))\n",
    "\n",
    "# Now you can import the learning_curve function from functions.py\n",
    "from functions import learning_curve, single_parity_plot\n",
    "\n",
    "#Load H binding energy prediction model\n",
    "H_DFT_model = xgb.Booster({'nthread': 8})\n",
    "H_DFT_model.load_model(\"../models/\"+\"H_DFT.model\")\n",
    "\n",
    "#Load COOH binding energy prediction model\n",
    "COOH_DFT_model = xgb.Booster({'nthread': 8})\n",
    "COOH_DFT_model.load_model(\"../models/\"+\"COOH_DFT.model\")\n",
    "\n",
    "models = {\"H\": H_DFT_model, \"COOH\": COOH_DFT_model}\n",
    "\n",
    "# Specify metal colors\n",
    "metal_colors = dict(Pt = '#babbcb',\n",
    "                    Ru = '#f4973a',\n",
    "                    Rh = '#1797d3',\n",
    "                    Ir = '#a5bc16',\n",
    "                    Re = '#901e64',\n",
    "                    Os = '#154c72',\n",
    "                    Pd = '#1f8685',\n",
    "                    Ag = '#c3cdd6',\n",
    "                    Cu = '#B87333',\n",
    "                    Au = '#fdd766')"
   ]
  },
  {
   "cell_type": "markdown",
   "id": "2286dce0",
   "metadata": {},
   "source": [
    "#### Chan numbers"
   ]
  },
  {
   "cell_type": "code",
   "execution_count": 2,
   "id": "524e4d78",
   "metadata": {},
   "outputs": [],
   "source": [
    "# Free (eV)\n",
    "CO2   = {\"ZPE\": 0.31, \"CpdT\": 0.10, \"minusTS\": -0.66, \"TS\": 0.66}\n",
    "CO    = {\"ZPE\": 0.13, \"CpdT\": 0.09, \"minusTS\": -0.61, \"TS\": 0.61}\n",
    "H2    = {\"ZPE\": 0.28, \"CpdT\": 0.09, \"minusTS\": -0.40, \"TS\": 0.40}\n",
    "H2O   = {\"ZPE\": 0.57, \"CpdT\": 0.10, \"minusTS\": -0.67, \"TS\": 0.67}\n",
    "HCOOH = {\"ZPE\": 0.90, \"CpdT\": 0.11, \"minusTS\": -0.99, \"TS\": 0.99}\n",
    "#Slab = {\"ZPE\": 0.00, \"CpdT\": 0.00, \"minusTS\": -0.00} #Holy moly, den her overskrev Slab funktionen\n",
    "\n",
    "# *Bound to the surface (eV)\n",
    "# Bidentate *OOCH?\n",
    "bound_CO   = {\"ZPE\": 0.19, \"CpdT\": 0.08, \"minusTS\": -0.16, \"TS\": 0.16}\n",
    "bound_OH   = {\"ZPE\": 0.36, \"CpdT\": 0.05, \"minusTS\": -0.08, \"TS\": 0.08}\n",
    "bound_OCHO = {\"ZPE\": 0.62, \"CpdT\": 0.11, \"minusTS\": -0.24, \"TS\": 0.24} #Either bidentate or monodentate. Use for both for now\n",
    "bound_O    = {\"ZPE\": 0.07, \"CpdT\": 0.03, \"minusTS\": -0.04, \"TS\": 0.04}\n",
    "bound_COOH = {\"ZPE\": 0.62, \"CpdT\": 0.10, \"minusTS\": -0.19, \"TS\": 0.19}\n",
    "bound_H    = {\"ZPE\": 0.23, \"CpdT\": 0.01, \"minusTS\": -0.01, \"TS\": 0.01}\n",
    "\n",
    "# Approximation Factors (FA)\n",
    "AF = {\"CO2\": CO2, \"CO\": CO, \"H2\": H2, \"H2O\": H2O, \"HCOOH\": HCOOH, \\\n",
    "      \"bound_CO\": bound_CO, \"bound_OH\": bound_OH, \"bound_OCHO\": bound_OCHO, \\\n",
    "      \"bound_O\": bound_O, \"bound_COOH\": bound_COOH, \"bound_H\": bound_H}\n",
    "\n",
    "# This is from the molecules_out.db file\n",
    "molecules_dict = {'CO': -12.848598765234707,\\\n",
    " 'CO2': -19.15168636258064,\\\n",
    " 'CH2O2': -25.7548327798152,\\\n",
    " 'C2H4O2': -41.95993780269195,\\\n",
    " 'H2': -6.67878491734772,\\\n",
    " 'H2O': -12.225511685485456,\\\n",
    " 'CH2O': -19.92286258910958,\\\n",
    " 'CH4O': -27.652189372849637,\\\n",
    " 'C2H6O': -43.67355392866396,\\\n",
    " 'C2H2O2': -32.92328015484662,\\\n",
    " 'C2H2O4': -44.117581976029946}"
   ]
  },
  {
   "cell_type": "markdown",
   "id": "3e88c76b",
   "metadata": {},
   "source": [
    "#### Plotting"
   ]
  },
  {
   "cell_type": "markdown",
   "id": "42e1c742",
   "metadata": {},
   "source": [
    "#### Fetching DFT data"
   ]
  },
  {
   "cell_type": "code",
   "execution_count": 3,
   "id": "95027e90",
   "metadata": {},
   "outputs": [],
   "source": [
    "SE_COOH_metals = []\n",
    "SE_COOH_energies = []\n",
    "\n",
    "with connect(f'{DFT_folder}{db_name_SE_COOH}') as db_COOH:\n",
    "    for row_slab in db_COOH.select('energy'):\n",
    "        SE_COOH_energies.append(row_slab.energy)\n",
    "        SE_COOH_metals.append(row_slab.formula[0:2])\n",
    "\n",
    "SE_H_metals = []\n",
    "SE_H_energies = []\n",
    "\n",
    "with connect(f'{DFT_folder}{db_name_SE_H}') as db_H:\n",
    "    for row_slab in db_H.select('energy'):\n",
    "        SE_H_energies.append(row_slab.energy)\n",
    "        SE_H_metals.append(row_slab.formula[0:2])\n",
    "           \n",
    "SE_slab_metals = []\n",
    "SE_slab_energies = []\n",
    "\n",
    "with connect(f'{DFT_folder}{db_name_SE}') as db_slab:\n",
    "    for row_slab in db_slab.select('energy'):\n",
    "        SE_slab_energies.append(row_slab.energy)\n",
    "        SE_slab_metals.append(row_slab.formula[0:2])"
   ]
  },
  {
   "cell_type": "markdown",
   "id": "05d3b083",
   "metadata": {},
   "source": [
    "#### Subtracting the slabs"
   ]
  },
  {
   "cell_type": "code",
   "execution_count": 4,
   "id": "478f86ee",
   "metadata": {},
   "outputs": [],
   "source": [
    "DeltaE_COOH = np.array(SE_COOH_energies) - np.array(SE_slab_energies) - molecules_dict[\"CO2\"] - 1/2*molecules_dict[\"H2\"]\n",
    "DeltaE_H = np.array(SE_H_energies) - np.array(SE_slab_energies) - 1/2*molecules_dict[\"H2\"]"
   ]
  },
  {
   "cell_type": "markdown",
   "id": "e378a6d8",
   "metadata": {},
   "source": [
    "#### Plotting energies from single elements"
   ]
  },
  {
   "cell_type": "code",
   "execution_count": 240,
   "id": "df536c5c",
   "metadata": {},
   "outputs": [
    {
     "data": {
      "image/png": "[encoded data removed]",
      "text/plain": [
       "<Figure size 600x600 with 1 Axes>"
      ]
     },
     "metadata": {},
     "output_type": "display_data"
    }
   ],
   "source": [
    "# Create a figure and axes\n",
    "fig, ax = plt.subplots(figsize = (6, 6))\n",
    "\n",
    "# Set the limits for both x and y axes\n",
    "ax.set_xlim(-0.6, 1.1)\n",
    "ax.set_ylim(-0.6, 1.1)\n",
    "\n",
    "## Set the major ticks and tick labels\n",
    "#ax.set_xticks([-0.5, -0.25, 0, 0.25, 0.5, 0.75, 1.0])\n",
    "#ax.set_xticklabels([-0.5, '', 0, '', 0.5, '', 1.0])\n",
    "#ax.set_yticks([-0.5, -0.25, 0, 0.25, 0.5, 0.75, 1.0])\n",
    "#ax.set_yticklabels([-0.5, '', 0, '', 0.5, '', 1.0])\n",
    "\n",
    "# Set the major ticks and tick labels\n",
    "ax.set_xticks([-0.5, 0, 0.5, 1.0])\n",
    "ax.set_xticklabels([-0.5, 0, 0.5, 1.0])\n",
    "ax.set_yticks([-0.5, 0, 0.5, 1.0])\n",
    "ax.set_yticklabels([-0.5, 0, 0.5, 1.0])\n",
    "\n",
    "# Set the grid lines\n",
    "ax.grid(which='both', linestyle=':', linewidth=0.5, color='gray')\n",
    "\n",
    "ax.set_title(\"DFT calculated energies for single metals fcc(111)\")\n",
    "ax.set_xlabel(\"$\\Delta E_{^*H}$ [eV]\")\n",
    "ax.set_ylabel(\"$\\Delta E_{^*COOH}$ [eV]\")\n",
    "\n",
    "for i, metal in enumerate(SE_slab_metals):\n",
    "        ax.scatter(DeltaE_H[i], DeltaE_COOH[i], label = \"Pure \"+metal, marker = \"o\", c = metal_colors[metal], edgecolors='black')\n",
    "    \n",
    "if True:\n",
    "    # Create a rectangle patch\n",
    "    rect = patches.Rectangle((0, 0), 1.1, -0.6, linewidth=1, edgecolor='none', facecolor='green', alpha = 0.1)\n",
    "\n",
    "    # Add the rectangle to the plot\n",
    "    ax.add_patch(rect)\n",
    "    \n",
    "    label_text = f'Optimal area' #This can show how many points are in there as well\n",
    "    label_x = 0.55\n",
    "    label_y = -0.3\n",
    "    ax.text(label_x, label_y, label_text, ha='center', va='center', fontsize=12)\n",
    "\n",
    "ax.legend()\n",
    "\n",
    "# Show the plot\n",
    "plt.show()"
   ]
  },
  {
   "cell_type": "markdown",
   "id": "8e21b175",
   "metadata": {},
   "source": [
    "### Plotting predicted energies from custom surface"
   ]
  },
  {
   "cell_type": "code",
   "execution_count": 267,
   "id": "2bf431fe",
   "metadata": {},
   "outputs": [
    {
     "data": {
      "application/vnd.jupyter.widget-view+json": {
       "model_id": "a716607f1f704300b38f45d46fb1b338",
       "version_major": 2,
       "version_minor": 0
      },
      "text/plain": [
       "Predicting all ΔG:   0%|          | 0/10000 [00:00<?, ?it/s]"
      ]
     },
     "metadata": {},
     "output_type": "display_data"
    }
   ],
   "source": [
    "# Maybe I should have a smart kind of plot, where, when you hover over it, it shows the xy coordinates and you can go check what it looks like. I even have a function from the swimming ring thing that can plot nice circles from a 2by2 surface\n",
    "\n",
    "## This routine includes: \n",
    "\n",
    "# Initialize a surface from a given stochiometry\n",
    "dim_x, dim_y, metals, split = 100, 100, ['Ag', 'Au', 'Cu', 'Pd', 'Pt'], [0.2 , 0.2 , 0.2 , 0.2 , 0.2 ]\n",
    "#dim_x, dim_y, metals, split = 100, 100, ['Ag', 'Au', 'Cu', 'Pd', 'Pt'], [0.25 , 0.25 , 0.25 , 0.0 , 0.25 ]\n",
    "#dim_x, dim_y, metals, split = 100, 100, ['Ag', 'Au', 'Cu', 'Pd', 'Pt'], [0.0 , 6/7 , 0.0 , 0.0 , 1/7 ]\n",
    "#dim_x, dim_y, metals, split = 100, 100, ['Ag', 'Au', 'Cu', 'Pd', 'Pt'], [0.1 , 0.9/4 , 0.9/4 , 0.9/4 , 0.9/4 ]\n",
    "#dim_x, dim_y, metals, split = 100, 100, ['Ag', 'Au', 'Cu', 'Pd', 'Pt'], [0.1 , 0.1 , 0.1 , 0.1 , 0.6 ]\n",
    "dim_x, dim_y, metals, split = 100, 100, ['Ag', 'Au', 'Cu', 'Pd', 'Pt'], np.array([0.6622070729215169, 1.0, 0.0, 0.5082185800752432, 0.491848345744174])/np.sum([0.6622070729215169, 1.0, 0.0, 0.5082185800752432, 0.491848345744174])\n",
    "\n",
    "stochiometry = dict(zip(metals, split))\n",
    "surface = initialize_surface(dim_x, dim_y, metals, split)\n",
    "\n",
    "# Predict energies on all sites for both adsorbates\n",
    "surface = precompute_binding_energies_TQDM(surface, dim_x, dim_y, models, predict_G)"
   ]
  },
  {
   "cell_type": "markdown",
   "id": "55817273",
   "metadata": {},
   "source": [
    "#### Sort the energies into piles that come from the same top-site metal\n",
    "\n",
    "The \\*COOH adsorbates sit on top-sites, where a single atom is the primary influence on the binding energy. They are surrounded by \\*H adsorbates in hollow-sites, where three atoms are the primary influence on the binding energy.\n",
    "\n",
    "In the following plot, two energies have to be paired. All pairs between on-top site and hollow site will be plotted. This will result in 3 points per on-top site, one with each neighbour.\n",
    "\n",
    "Uhh jeg kunne sortere alle hollow sites der ligger godt energi-mæssigt fra og lave plots over hvilke metaller der er rundt om dem. Måske ville man opdage, at det typisk er Pt, Ag-sites? Something, something, baderinge.\n",
    "\n",
    "Der er garanteret andre måder at plotte ting på."
   ]
  },
  {
   "cell_type": "code",
   "execution_count": 268,
   "id": "512613ce",
   "metadata": {},
   "outputs": [
    {
     "data": {
      "image/png": "[encoded data removed]",
      "text/plain": [
       "<Figure size 600x600 with 1 Axes>"
      ]
     },
     "metadata": {},
     "output_type": "display_data"
    }
   ],
   "source": [
    "E_top_dict, E_hol_dict, n_ratio, n_good = sort_energies(surface)\n",
    "deltaEdeltaE_plot(\"BO_dim50_it100_guess\", E_hol_dict, E_top_dict, SE_slab_metals)"
   ]
  },
  {
   "cell_type": "code",
   "execution_count": 259,
   "id": "a2e12b67",
   "metadata": {},
   "outputs": [],
   "source": [
    "def sort_energies(surface):\n",
    "    # Sort the energies into \n",
    "    all_E_top = []\n",
    "    all_E_hol = []\n",
    "    \n",
    "    # So this could quite nicely be a dictionary\n",
    "    \n",
    "    E_top_dict = {\"Pt\": [], \"Pd\": [], \"Cu\": [], \"Ag\": [], \"Au\": []}\n",
    "    E_hol_dict = {\"Pt\": [], \"Pd\": [], \"Cu\": [], \"Ag\": [], \"Au\": []} # Hollow sites that have a neighbour of that atom type and their index match up with the adsorbate on the top-site of that atom.\n",
    "    \n",
    "    # Which atoms are around the GOOD hollow sites?\n",
    "    good_hol_sites = []\n",
    "    n_good = 0\n",
    "    n_sites = 0\n",
    "    \n",
    "    for x_top, y_top in [(x, y) for x in range(dim_x) for y in range(dim_y)]: # Mixed order\n",
    "        for x_diff, y_diff in [(0, 0), (0, -1), (-1, 0)]:                     # Mixed order\n",
    "            n_sites += 1\n",
    "            # What are the indices?\n",
    "            x_hollow = (x_top + x_diff) % dim_x\n",
    "            y_hollow = (y_top + y_diff) % dim_y\n",
    "            \n",
    "            # What are the energies?\n",
    "            on_top_E = surface[\"COOH_E\"][x_top][y_top]\n",
    "            hollow_E = surface[\"H_E\"][x_hollow][y_hollow]\n",
    "            \n",
    "            # Which atom is the top-site?\n",
    "            top_site_atom = surface[\"atoms\"][x_top, y_top, 0]\n",
    "            \n",
    "            # Append the information to the dicts and lists\n",
    "            E_top_dict[top_site_atom].append(on_top_E)\n",
    "            E_hol_dict[top_site_atom].append(hollow_E)\n",
    "            \n",
    "            # Find GOOD sites:\n",
    "            if (on_top_E < 0) and (hollow_E > 0): # Wait have a think about the loops\n",
    "                # Here is a good site!\n",
    "                n_good += 1\n",
    "                # I am interested in knowing which metals are around the hollow sites except for Pt\n",
    "                atom1 = surface[\"atoms\"][(x_hollow+0)%dim_x, (y_hollow+0)%dim_y, 0]\n",
    "                atom2 = surface[\"atoms\"][(x_hollow+1)%dim_x, (y_hollow+0)%dim_y, 0]\n",
    "                atom3 = surface[\"atoms\"][(x_hollow+0)%dim_x, (y_hollow+1)%dim_y, 0]\n",
    "                good_hol_sites.append([atom1, atom2, atom3])\n",
    "            \n",
    "    n_ratio = n_good / n_sites\n",
    "    return E_top_dict, E_hol_dict, n_ratio, n_good\n",
    "\n",
    "# Make this into a function! And make it save a nice plot. Perhaps ask for a name directly in the function-call\n",
    "def deltaEdeltaE_plot(filename, E_hol_dict, E_top_dict, SE_slab_metals):\n",
    "\n",
    "    fig, ax = plt.subplots(figsize = (6, 6))\n",
    "    \n",
    "    # Set the limits for both x and y axes\n",
    "    ax.set_xlim(-0.6, 1.1)\n",
    "    ax.set_ylim(-0.6, 1.1)\n",
    "    \n",
    "    # Set the major ticks and tick labels\n",
    "    ax.set_xticks([-0.5, 0, 0.5, 1.0])\n",
    "    ax.set_xticklabels([-0.5, 0, 0.5, 1.0])\n",
    "    ax.set_yticks([-0.5, 0, 0.5, 1.0])\n",
    "    ax.set_yticklabels([-0.5, 0, 0.5, 1.0])\n",
    "    \n",
    "    # Set the grid lines\n",
    "    ax.grid(which='both', linestyle=':', linewidth=0.5, color='gray')\n",
    "    \n",
    "    ax.set_title(\"Predicted energies for $^*COOH$ and $^*H$ for whole surface\")\n",
    "    ax.set_xlabel(\"$\\Delta E_{^*H}$ [eV]\")\n",
    "    ax.set_ylabel(\"$\\Delta E_{^*COOH}$ [eV]\")\n",
    "    \n",
    "    if True:\n",
    "        # Create a rectangle patch\n",
    "        rect = patches.Rectangle((0, 0), 1.1, -0.6, linewidth=1, edgecolor='none', facecolor='green', alpha = 0.1)\n",
    "    \n",
    "        # Add the rectangle to the plot\n",
    "        ax.add_patch(rect)\n",
    "        \n",
    "        label_text = f'Optimal area \\n$n_{{optimal}} / n_{{sites}} = {100*n_ratio:.2f} \\%$' #This can show how many points are in there as well\n",
    "        label_x = 0.55\n",
    "        label_y = -0.3\n",
    "        ax.text(label_x, label_y, label_text, ha='center', va='center', fontsize=12)\n",
    "    \n",
    "    \n",
    "    for metal in ['Ag', 'Au', 'Cu', 'Pd', 'Pt']:\n",
    "        ax.scatter(E_hol_dict[metal], E_top_dict[metal], label = f\"{metal}$_{{{stochiometry[metal]:.2f}}}$\", s = 0.5, alpha = 0.8, c = metal_colors[metal]) # edgecolor = \"black\", linewidth = 0.05, \n",
    "    \n",
    "    if True:\n",
    "        for i, metal in enumerate(SE_slab_metals):\n",
    "            ax.scatter(DeltaE_H[i], DeltaE_COOH[i], label = \"Pure \"+metal, marker = \"o\", c = metal_colors[metal], edgecolors='black')\n",
    "        \n",
    "    ax.legend()\n",
    "    \n",
    "    plt.savefig(\"../figures/DFT_calc_energies/\"+filename+\".png\", dpi = 600, bbox_inches = \"tight\")\n",
    "    plt.show()\n",
    "    return None\n"
   ]
  },
  {
   "cell_type": "code",
   "execution_count": 145,
   "id": "59b0dadd",
   "metadata": {},
   "outputs": [
    {
     "data": {
      "image/png": "[encoded data removed]",
      "text/plain": [
       "<Figure size 800x600 with 1 Axes>"
      ]
     },
     "metadata": {},
     "output_type": "display_data"
    }
   ],
   "source": [
    "good_hol_sites_sorted = sorted([\"\".join(sorted(x, reverse = True)) for x in good_hol_sites])\n",
    "good_hol_sites_dict = Counter(good_hol_sites_sorted)\n",
    "\n",
    "## Plot\n",
    "fig, ax = plt.subplots(figsize = (8, 6))\n",
    "\n",
    "labels = good_hol_sites_dict.keys()\n",
    "values = good_hol_sites_dict.values()\n",
    "\n",
    "ax.bar(labels, values)\n",
    "ax.set_xlabel('Combinations')\n",
    "ax.set_ylabel('Count')\n",
    "ax.set_title('Frequency of Combinations')\n",
    "\n",
    "plt.show()"
   ]
  },
  {
   "cell_type": "code",
   "execution_count": 161,
   "id": "9a47188f",
   "metadata": {},
   "outputs": [
    {
     "data": {
      "image/png": "[encoded data removed]",
      "text/plain": [
       "<Figure size 500x600 with 1 Axes>"
      ]
     },
     "metadata": {},
     "output_type": "display_data"
    }
   ],
   "source": [
    "good_hol_sites_flat_dict = Counter(np.array(good_hol_sites).flatten())\n",
    "\n",
    "## Plot\n",
    "fig, ax = plt.subplots(figsize = (5, 6))\n",
    "\n",
    "labels = good_hol_sites_flat_dict.keys()\n",
    "values = good_hol_sites_flat_dict.values()\n",
    "\n",
    "ax.bar(labels, values)\n",
    "ax.set_xlabel('Combinations')\n",
    "ax.set_ylabel('Count')\n",
    "ax.set_title('Frequency of each metal')\n",
    "\n",
    "plt.show()"
   ]
  },
  {
   "cell_type": "code",
   "execution_count": 150,
   "id": "580ec1f0",
   "metadata": {},
   "outputs": [
    {
     "data": {
      "image/png": "[encoded data removed]",
      "text/plain": [
       "<Figure size 1000x500 with 2 Axes>"
      ]
     },
     "metadata": {},
     "output_type": "display_data"
    }
   ],
   "source": [
    "import matplotlib.pyplot as plt\n",
    "import matplotlib.gridspec as gridspec\n",
    "\n",
    "# Create the figure and gridspec\n",
    "fig = plt.figure(figsize=(10, 5))\n",
    "gs = gridspec.GridSpec(1, 2, width_ratios=[6, 3])\n",
    "\n",
    "# Plot on the left subplot\n",
    "ax1 = plt.subplot(gs[0])\n",
    "ax1.plot([1, 2, 3, 4, 5], [1, 4, 9, 16, 25])\n",
    "ax1.set_title('Left Subplot')\n",
    "\n",
    "# Plot on the right subplot\n",
    "ax2 = plt.subplot(gs[1])\n",
    "ax2.plot([1, 2, 3, 4, 5], [5, 4, 3, 2, 1])\n",
    "ax2.set_title('Right Subplot')\n",
    "\n",
    "# Adjust the spacing between subplots\n",
    "plt.subplots_adjust(wspace=0.3)\n",
    "\n",
    "# Show the plot\n",
    "plt.show()\n"
   ]
  },
  {
   "cell_type": "markdown",
   "id": "341a9446",
   "metadata": {},
   "source": [
    "## Bayesian Optimization - Best composition for $n_{optimal}$"
   ]
  },
  {
   "cell_type": "code",
   "execution_count": 263,
   "id": "7a7eb653",
   "metadata": {},
   "outputs": [],
   "source": [
    "def simulate_loss(surface_stochiometry):\n",
    "    ## surface_stochiometry is a 5-len list of probabilities to draw each metal\n",
    "    surface_stochiometry = np.array(surface_stochiometry) / np.sum(surface_stochiometry)\n",
    "    dim_x, dim_y, metals = 50, 50, ['Ag', 'Au', 'Cu', 'Pd', 'Pt']\n",
    "    surface = initialize_surface(dim_x, dim_y, metals, surface_stochiometry)\n",
    "    \n",
    "    # Predict energies on all sites for both adsorbates\n",
    "    surface = precompute_binding_energies_TQDM(surface, dim_x, dim_y, models, predict_G)\n",
    "    #n_sites = 0\n",
    "    n_good  = 0\n",
    "    for x_top, y_top in [(x, y) for x in range(dim_x) for y in range(dim_y)]: # Mixed order\n",
    "        for x_diff, y_diff in [(0, 0), (0, -1), (-1, 0)]:                     # Mixed order\n",
    "            #n_sites += 1\n",
    "            # What are the indices?\n",
    "            x_hollow = (x_top + x_diff) % dim_x\n",
    "            y_hollow = (y_top + y_diff) % dim_y\n",
    "            \n",
    "            # What are the energies?\n",
    "            on_top_E = surface[\"COOH_E\"][x_top][y_top]\n",
    "            hollow_E = surface[\"H_E\"][x_hollow][y_hollow]\n",
    "            \n",
    "            # Find GOOD sites:\n",
    "            if (on_top_E < 0) and (hollow_E > 0): # Wait have a think about the loops\n",
    "                # Here is a good site!\n",
    "                n_good += 1\n",
    "                \n",
    "    return -n_good"
   ]
  },
  {
   "cell_type": "code",
   "execution_count": 266,
   "id": "791dd63c",
   "metadata": {},
   "outputs": [
    {
     "data": {
      "application/vnd.jupyter.widget-view+json": {
       "model_id": "8fee3d6e48c04a41aff9c69226118aa8",
       "version_major": 2,
       "version_minor": 0
      },
      "text/plain": [
       "Predicting all ΔG:   0%|          | 0/2500 [00:00<?, ?it/s]"
      ]
     },
     "metadata": {},
     "output_type": "display_data"
    },
    {
     "data": {
      "application/vnd.jupyter.widget-view+json": {
       "model_id": "f0617e9a365944b89eee3f21d8354065",
       "version_major": 2,
       "version_minor": 0
      },
      "text/plain": [
       "Predicting all ΔG:   0%|          | 0/2500 [00:00<?, ?it/s]"
      ]
     },
     "metadata": {},
     "output_type": "display_data"
    },
    {
     "data": {
      "application/vnd.jupyter.widget-view+json": {
       "model_id": "b8b67424ade347f4918206c555d6e321",
       "version_major": 2,
       "version_minor": 0
      },
      "text/plain": [
       "Predicting all ΔG:   0%|          | 0/2500 [00:00<?, ?it/s]"
      ]
     },
     "metadata": {},
     "output_type": "display_data"
    },
    {
     "data": {
      "application/vnd.jupyter.widget-view+json": {
       "model_id": "950aa49544474af9b00d9bd0290f5cb4",
       "version_major": 2,
       "version_minor": 0
      },
      "text/plain": [
       "Predicting all ΔG:   0%|          | 0/2500 [00:00<?, ?it/s]"
      ]
     },
     "metadata": {},
     "output_type": "display_data"
    },
    {
     "data": {
      "application/vnd.jupyter.widget-view+json": {
       "model_id": "9c585c875d5d405588653f7cb4885bdd",
       "version_major": 2,
       "version_minor": 0
      },
      "text/plain": [
       "Predicting all ΔG:   0%|          | 0/2500 [00:00<?, ?it/s]"
      ]
     },
     "metadata": {},
     "output_type": "display_data"
    },
    {
     "data": {
      "application/vnd.jupyter.widget-view+json": {
       "model_id": "daaa23f1e5064f64aa25173e6172ee83",
       "version_major": 2,
       "version_minor": 0
      },
      "text/plain": [
       "Predicting all ΔG:   0%|          | 0/2500 [00:00<?, ?it/s]"
      ]
     },
     "metadata": {},
     "output_type": "display_data"
    },
    {
     "data": {
      "application/vnd.jupyter.widget-view+json": {
       "model_id": "8f220d1b4cb64dcd97fded74f3115ff7",
       "version_major": 2,
       "version_minor": 0
      },
      "text/plain": [
       "Predicting all ΔG:   0%|          | 0/2500 [00:00<?, ?it/s]"
      ]
     },
     "metadata": {},
     "output_type": "display_data"
    },
    {
     "data": {
      "application/vnd.jupyter.widget-view+json": {
       "model_id": "a1190c687b694464b670ca0b22e102e0",
       "version_major": 2,
       "version_minor": 0
      },
      "text/plain": [
       "Predicting all ΔG:   0%|          | 0/2500 [00:00<?, ?it/s]"
      ]
     },
     "metadata": {},
     "output_type": "display_data"
    },
    {
     "data": {
      "application/vnd.jupyter.widget-view+json": {
       "model_id": "9e4a57ab048f4256ad0cdc1992670ef5",
       "version_major": 2,
       "version_minor": 0
      },
      "text/plain": [
       "Predicting all ΔG:   0%|          | 0/2500 [00:00<?, ?it/s]"
      ]
     },
     "metadata": {},
     "output_type": "display_data"
    },
    {
     "data": {
      "application/vnd.jupyter.widget-view+json": {
       "model_id": "b66e34fc6ee9471ca82700c9fbb49764",
       "version_major": 2,
       "version_minor": 0
      },
      "text/plain": [
       "Predicting all ΔG:   0%|          | 0/2500 [00:00<?, ?it/s]"
      ]
     },
     "metadata": {},
     "output_type": "display_data"
    },
    {
     "data": {
      "application/vnd.jupyter.widget-view+json": {
       "model_id": "d37d87a9dceb414bbbc3009900fb4cf4",
       "version_major": 2,
       "version_minor": 0
      },
      "text/plain": [
       "Predicting all ΔG:   0%|          | 0/2500 [00:00<?, ?it/s]"
      ]
     },
     "metadata": {},
     "output_type": "display_data"
    },
    {
     "data": {
      "application/vnd.jupyter.widget-view+json": {
       "model_id": "1f06805c3f774ed592776ef44de4aac2",
       "version_major": 2,
       "version_minor": 0
      },
      "text/plain": [
       "Predicting all ΔG:   0%|          | 0/2500 [00:00<?, ?it/s]"
      ]
     },
     "metadata": {},
     "output_type": "display_data"
    },
    {
     "data": {
      "application/vnd.jupyter.widget-view+json": {
       "model_id": "82fa2b6cd2ea4a73b0c215bca05d22e1",
       "version_major": 2,
       "version_minor": 0
      },
      "text/plain": [
       "Predicting all ΔG:   0%|          | 0/2500 [00:00<?, ?it/s]"
      ]
     },
     "metadata": {},
     "output_type": "display_data"
    },
    {
     "data": {
      "application/vnd.jupyter.widget-view+json": {
       "model_id": "fe101da32ab5445f93fd4ba8aa67fae2",
       "version_major": 2,
       "version_minor": 0
      },
      "text/plain": [
       "Predicting all ΔG:   0%|          | 0/2500 [00:00<?, ?it/s]"
      ]
     },
     "metadata": {},
     "output_type": "display_data"
    },
    {
     "data": {
      "application/vnd.jupyter.widget-view+json": {
       "model_id": "2785893a27ed4ba89d9aa50f4ddc6464",
       "version_major": 2,
       "version_minor": 0
      },
      "text/plain": [
       "Predicting all ΔG:   0%|          | 0/2500 [00:00<?, ?it/s]"
      ]
     },
     "metadata": {},
     "output_type": "display_data"
    },
    {
     "data": {
      "application/vnd.jupyter.widget-view+json": {
       "model_id": "280142493b8841e8b2370922a04ef2b6",
       "version_major": 2,
       "version_minor": 0
      },
      "text/plain": [
       "Predicting all ΔG:   0%|          | 0/2500 [00:00<?, ?it/s]"
      ]
     },
     "metadata": {},
     "output_type": "display_data"
    },
    {
     "data": {
      "application/vnd.jupyter.widget-view+json": {
       "model_id": "51669fc2710548bea28b677806bbcf65",
       "version_major": 2,
       "version_minor": 0
      },
      "text/plain": [
       "Predicting all ΔG:   0%|          | 0/2500 [00:00<?, ?it/s]"
      ]
     },
     "metadata": {},
     "output_type": "display_data"
    },
    {
     "data": {
      "application/vnd.jupyter.widget-view+json": {
       "model_id": "676d240c81404d7aa4b6555c03c1b02d",
       "version_major": 2,
       "version_minor": 0
      },
      "text/plain": [
       "Predicting all ΔG:   0%|          | 0/2500 [00:00<?, ?it/s]"
      ]
     },
     "metadata": {},
     "output_type": "display_data"
    },
    {
     "data": {
      "application/vnd.jupyter.widget-view+json": {
       "model_id": "c3e5c1ddd7004a52b13daba6c785bef2",
       "version_major": 2,
       "version_minor": 0
      },
      "text/plain": [
       "Predicting all ΔG:   0%|          | 0/2500 [00:00<?, ?it/s]"
      ]
     },
     "metadata": {},
     "output_type": "display_data"
    },
    {
     "data": {
      "application/vnd.jupyter.widget-view+json": {
       "model_id": "55c751c64e54448397f426af886717a9",
       "version_major": 2,
       "version_minor": 0
      },
      "text/plain": [
       "Predicting all ΔG:   0%|          | 0/2500 [00:00<?, ?it/s]"
      ]
     },
     "metadata": {},
     "output_type": "display_data"
    },
    {
     "data": {
      "application/vnd.jupyter.widget-view+json": {
       "model_id": "165ddce1831946e28d4c4ca700aa1fc4",
       "version_major": 2,
       "version_minor": 0
      },
      "text/plain": [
       "Predicting all ΔG:   0%|          | 0/2500 [00:00<?, ?it/s]"
      ]
     },
     "metadata": {},
     "output_type": "display_data"
    },
    {
     "data": {
      "application/vnd.jupyter.widget-view+json": {
       "model_id": "0e8b5a11a2cf484b8e29840e9c18f02a",
       "version_major": 2,
       "version_minor": 0
      },
      "text/plain": [
       "Predicting all ΔG:   0%|          | 0/2500 [00:00<?, ?it/s]"
      ]
     },
     "metadata": {},
     "output_type": "display_data"
    },
    {
     "data": {
      "application/vnd.jupyter.widget-view+json": {
       "model_id": "534086d406d144d0abaa86f59c5dc089",
       "version_major": 2,
       "version_minor": 0
      },
      "text/plain": [
       "Predicting all ΔG:   0%|          | 0/2500 [00:00<?, ?it/s]"
      ]
     },
     "metadata": {},
     "output_type": "display_data"
    },
    {
     "data": {
      "application/vnd.jupyter.widget-view+json": {
       "model_id": "14a745bcc27a4fc5a5df2ece78f60001",
       "version_major": 2,
       "version_minor": 0
      },
      "text/plain": [
       "Predicting all ΔG:   0%|          | 0/2500 [00:00<?, ?it/s]"
      ]
     },
     "metadata": {},
     "output_type": "display_data"
    },
    {
     "data": {
      "application/vnd.jupyter.widget-view+json": {
       "model_id": "265b2b4dc6f9461586289fd4909701a1",
       "version_major": 2,
       "version_minor": 0
      },
      "text/plain": [
       "Predicting all ΔG:   0%|          | 0/2500 [00:00<?, ?it/s]"
      ]
     },
     "metadata": {},
     "output_type": "display_data"
    },
    {
     "data": {
      "application/vnd.jupyter.widget-view+json": {
       "model_id": "f40bc4ccb0be41f19ee838375995d157",
       "version_major": 2,
       "version_minor": 0
      },
      "text/plain": [
       "Predicting all ΔG:   0%|          | 0/2500 [00:00<?, ?it/s]"
      ]
     },
     "metadata": {},
     "output_type": "display_data"
    },
    {
     "data": {
      "application/vnd.jupyter.widget-view+json": {
       "model_id": "984b182f62064fa0bb5532a372849305",
       "version_major": 2,
       "version_minor": 0
      },
      "text/plain": [
       "Predicting all ΔG:   0%|          | 0/2500 [00:00<?, ?it/s]"
      ]
     },
     "metadata": {},
     "output_type": "display_data"
    },
    {
     "data": {
      "application/vnd.jupyter.widget-view+json": {
       "model_id": "08dd917e030046b1ad0f129128ffe067",
       "version_major": 2,
       "version_minor": 0
      },
      "text/plain": [
       "Predicting all ΔG:   0%|          | 0/2500 [00:00<?, ?it/s]"
      ]
     },
     "metadata": {},
     "output_type": "display_data"
    },
    {
     "data": {
      "application/vnd.jupyter.widget-view+json": {
       "model_id": "3b06073a06724301ae32b8625c21574d",
       "version_major": 2,
       "version_minor": 0
      },
      "text/plain": [
       "Predicting all ΔG:   0%|          | 0/2500 [00:00<?, ?it/s]"
      ]
     },
     "metadata": {},
     "output_type": "display_data"
    },
    {
     "data": {
      "application/vnd.jupyter.widget-view+json": {
       "model_id": "26c39142ab39473abccc748e31f3750b",
       "version_major": 2,
       "version_minor": 0
      },
      "text/plain": [
       "Predicting all ΔG:   0%|          | 0/2500 [00:00<?, ?it/s]"
      ]
     },
     "metadata": {},
     "output_type": "display_data"
    },
    {
     "data": {
      "application/vnd.jupyter.widget-view+json": {
       "model_id": "5f252da26c03457fbec1ed8e95f97124",
       "version_major": 2,
       "version_minor": 0
      },
      "text/plain": [
       "Predicting all ΔG:   0%|          | 0/2500 [00:00<?, ?it/s]"
      ]
     },
     "metadata": {},
     "output_type": "display_data"
    },
    {
     "data": {
      "application/vnd.jupyter.widget-view+json": {
       "model_id": "66cd5f55fccc4a5f914d885e929c92b4",
       "version_major": 2,
       "version_minor": 0
      },
      "text/plain": [
       "Predicting all ΔG:   0%|          | 0/2500 [00:00<?, ?it/s]"
      ]
     },
     "metadata": {},
     "output_type": "display_data"
    },
    {
     "data": {
      "application/vnd.jupyter.widget-view+json": {
       "model_id": "2bf0187aa978433c998668c61a4cffda",
       "version_major": 2,
       "version_minor": 0
      },
      "text/plain": [
       "Predicting all ΔG:   0%|          | 0/2500 [00:00<?, ?it/s]"
      ]
     },
     "metadata": {},
     "output_type": "display_data"
    },
    {
     "data": {
      "application/vnd.jupyter.widget-view+json": {
       "model_id": "67de9681dd504a2bb3c39c85feb9fad8",
       "version_major": 2,
       "version_minor": 0
      },
      "text/plain": [
       "Predicting all ΔG:   0%|          | 0/2500 [00:00<?, ?it/s]"
      ]
     },
     "metadata": {},
     "output_type": "display_data"
    },
    {
     "data": {
      "application/vnd.jupyter.widget-view+json": {
       "model_id": "2da7f3352f0d41aeb6d5cdb9e587a390",
       "version_major": 2,
       "version_minor": 0
      },
      "text/plain": [
       "Predicting all ΔG:   0%|          | 0/2500 [00:00<?, ?it/s]"
      ]
     },
     "metadata": {},
     "output_type": "display_data"
    },
    {
     "data": {
      "application/vnd.jupyter.widget-view+json": {
       "model_id": "f1e2afdaa8cc41f18dbfaee8e008f9ed",
       "version_major": 2,
       "version_minor": 0
      },
      "text/plain": [
       "Predicting all ΔG:   0%|          | 0/2500 [00:00<?, ?it/s]"
      ]
     },
     "metadata": {},
     "output_type": "display_data"
    },
    {
     "data": {
      "application/vnd.jupyter.widget-view+json": {
       "model_id": "de44f6e80edd4774acf6a2b305b4aef5",
       "version_major": 2,
       "version_minor": 0
      },
      "text/plain": [
       "Predicting all ΔG:   0%|          | 0/2500 [00:00<?, ?it/s]"
      ]
     },
     "metadata": {},
     "output_type": "display_data"
    },
    {
     "data": {
      "application/vnd.jupyter.widget-view+json": {
       "model_id": "1dd973054aaf4029929df58c127064ed",
       "version_major": 2,
       "version_minor": 0
      },
      "text/plain": [
       "Predicting all ΔG:   0%|          | 0/2500 [00:00<?, ?it/s]"
      ]
     },
     "metadata": {},
     "output_type": "display_data"
    },
    {
     "data": {
      "application/vnd.jupyter.widget-view+json": {
       "model_id": "068e5d9c4cea41fb8811a3d30c0e5bd3",
       "version_major": 2,
       "version_minor": 0
      },
      "text/plain": [
       "Predicting all ΔG:   0%|          | 0/2500 [00:00<?, ?it/s]"
      ]
     },
     "metadata": {},
     "output_type": "display_data"
    },
    {
     "data": {
      "application/vnd.jupyter.widget-view+json": {
       "model_id": "86b6197c880947deb95ca68398651141",
       "version_major": 2,
       "version_minor": 0
      },
      "text/plain": [
       "Predicting all ΔG:   0%|          | 0/2500 [00:00<?, ?it/s]"
      ]
     },
     "metadata": {},
     "output_type": "display_data"
    },
    {
     "data": {
      "application/vnd.jupyter.widget-view+json": {
       "model_id": "6ae66f640ab84ed19940b2f869c23938",
       "version_major": 2,
       "version_minor": 0
      },
      "text/plain": [
       "Predicting all ΔG:   0%|          | 0/2500 [00:00<?, ?it/s]"
      ]
     },
     "metadata": {},
     "output_type": "display_data"
    },
    {
     "data": {
      "application/vnd.jupyter.widget-view+json": {
       "model_id": "6a23da530628463dbcb2945fd0d764a9",
       "version_major": 2,
       "version_minor": 0
      },
      "text/plain": [
       "Predicting all ΔG:   0%|          | 0/2500 [00:00<?, ?it/s]"
      ]
     },
     "metadata": {},
     "output_type": "display_data"
    },
    {
     "data": {
      "application/vnd.jupyter.widget-view+json": {
       "model_id": "2047ec5a61304498a3602aa33dc3ea65",
       "version_major": 2,
       "version_minor": 0
      },
      "text/plain": [
       "Predicting all ΔG:   0%|          | 0/2500 [00:00<?, ?it/s]"
      ]
     },
     "metadata": {},
     "output_type": "display_data"
    },
    {
     "data": {
      "application/vnd.jupyter.widget-view+json": {
       "model_id": "8e7b811fe5244afb9182ce3af4e4113c",
       "version_major": 2,
       "version_minor": 0
      },
      "text/plain": [
       "Predicting all ΔG:   0%|          | 0/2500 [00:00<?, ?it/s]"
      ]
     },
     "metadata": {},
     "output_type": "display_data"
    },
    {
     "data": {
      "application/vnd.jupyter.widget-view+json": {
       "model_id": "9cba793eaf3e41ed856477709c5ec1f7",
       "version_major": 2,
       "version_minor": 0
      },
      "text/plain": [
       "Predicting all ΔG:   0%|          | 0/2500 [00:00<?, ?it/s]"
      ]
     },
     "metadata": {},
     "output_type": "display_data"
    },
    {
     "data": {
      "application/vnd.jupyter.widget-view+json": {
       "model_id": "22315da7fdaa486197f174abef8448c6",
       "version_major": 2,
       "version_minor": 0
      },
      "text/plain": [
       "Predicting all ΔG:   0%|          | 0/2500 [00:00<?, ?it/s]"
      ]
     },
     "metadata": {},
     "output_type": "display_data"
    },
    {
     "data": {
      "application/vnd.jupyter.widget-view+json": {
       "model_id": "c2db2b2856b54028a8c4303d5a9b91fc",
       "version_major": 2,
       "version_minor": 0
      },
      "text/plain": [
       "Predicting all ΔG:   0%|          | 0/2500 [00:00<?, ?it/s]"
      ]
     },
     "metadata": {},
     "output_type": "display_data"
    },
    {
     "data": {
      "application/vnd.jupyter.widget-view+json": {
       "model_id": "c8d9f4b040a344acab0cbadc107a8951",
       "version_major": 2,
       "version_minor": 0
      },
      "text/plain": [
       "Predicting all ΔG:   0%|          | 0/2500 [00:00<?, ?it/s]"
      ]
     },
     "metadata": {},
     "output_type": "display_data"
    },
    {
     "data": {
      "application/vnd.jupyter.widget-view+json": {
       "model_id": "c738102e0e01447191395995b708e018",
       "version_major": 2,
       "version_minor": 0
      },
      "text/plain": [
       "Predicting all ΔG:   0%|          | 0/2500 [00:00<?, ?it/s]"
      ]
     },
     "metadata": {},
     "output_type": "display_data"
    },
    {
     "data": {
      "application/vnd.jupyter.widget-view+json": {
       "model_id": "283eb349b0a54d608947dd65560b0d21",
       "version_major": 2,
       "version_minor": 0
      },
      "text/plain": [
       "Predicting all ΔG:   0%|          | 0/2500 [00:00<?, ?it/s]"
      ]
     },
     "metadata": {},
     "output_type": "display_data"
    },
    {
     "data": {
      "application/vnd.jupyter.widget-view+json": {
       "model_id": "ed56c4d8867a478cbabbb4e3cbbac823",
       "version_major": 2,
       "version_minor": 0
      },
      "text/plain": [
       "Predicting all ΔG:   0%|          | 0/2500 [00:00<?, ?it/s]"
      ]
     },
     "metadata": {},
     "output_type": "display_data"
    },
    {
     "data": {
      "application/vnd.jupyter.widget-view+json": {
       "model_id": "58583c1a65b044039b48fbfaaeb3035d",
       "version_major": 2,
       "version_minor": 0
      },
      "text/plain": [
       "Predicting all ΔG:   0%|          | 0/2500 [00:00<?, ?it/s]"
      ]
     },
     "metadata": {},
     "output_type": "display_data"
    },
    {
     "data": {
      "application/vnd.jupyter.widget-view+json": {
       "model_id": "813eb2fa30b049338feea8c31841a24c",
       "version_major": 2,
       "version_minor": 0
      },
      "text/plain": [
       "Predicting all ΔG:   0%|          | 0/2500 [00:00<?, ?it/s]"
      ]
     },
     "metadata": {},
     "output_type": "display_data"
    },
    {
     "data": {
      "application/vnd.jupyter.widget-view+json": {
       "model_id": "872b5a507d2d40349d0668ad54fe9da2",
       "version_major": 2,
       "version_minor": 0
      },
      "text/plain": [
       "Predicting all ΔG:   0%|          | 0/2500 [00:00<?, ?it/s]"
      ]
     },
     "metadata": {},
     "output_type": "display_data"
    },
    {
     "data": {
      "application/vnd.jupyter.widget-view+json": {
       "model_id": "35f1ed6cb93f4aaeb0a37b484833ff37",
       "version_major": 2,
       "version_minor": 0
      },
      "text/plain": [
       "Predicting all ΔG:   0%|          | 0/2500 [00:00<?, ?it/s]"
      ]
     },
     "metadata": {},
     "output_type": "display_data"
    },
    {
     "data": {
      "application/vnd.jupyter.widget-view+json": {
       "model_id": "2731b024b1e34923897c2cfc81d1cd78",
       "version_major": 2,
       "version_minor": 0
      },
      "text/plain": [
       "Predicting all ΔG:   0%|          | 0/2500 [00:00<?, ?it/s]"
      ]
     },
     "metadata": {},
     "output_type": "display_data"
    },
    {
     "data": {
      "application/vnd.jupyter.widget-view+json": {
       "model_id": "1525c989f2264aa599a779b8122edffb",
       "version_major": 2,
       "version_minor": 0
      },
      "text/plain": [
       "Predicting all ΔG:   0%|          | 0/2500 [00:00<?, ?it/s]"
      ]
     },
     "metadata": {},
     "output_type": "display_data"
    },
    {
     "data": {
      "application/vnd.jupyter.widget-view+json": {
       "model_id": "a41c3ce439d34b56a0e5cd6e25d55901",
       "version_major": 2,
       "version_minor": 0
      },
      "text/plain": [
       "Predicting all ΔG:   0%|          | 0/2500 [00:00<?, ?it/s]"
      ]
     },
     "metadata": {},
     "output_type": "display_data"
    },
    {
     "data": {
      "application/vnd.jupyter.widget-view+json": {
       "model_id": "7572efeb1711400388428f538b5cfaa0",
       "version_major": 2,
       "version_minor": 0
      },
      "text/plain": [
       "Predicting all ΔG:   0%|          | 0/2500 [00:00<?, ?it/s]"
      ]
     },
     "metadata": {},
     "output_type": "display_data"
    },
    {
     "data": {
      "application/vnd.jupyter.widget-view+json": {
       "model_id": "34a579d94e354aa29658705fd154ff77",
       "version_major": 2,
       "version_minor": 0
      },
      "text/plain": [
       "Predicting all ΔG:   0%|          | 0/2500 [00:00<?, ?it/s]"
      ]
     },
     "metadata": {},
     "output_type": "display_data"
    },
    {
     "data": {
      "application/vnd.jupyter.widget-view+json": {
       "model_id": "f849b57a2f8f450fa6d3c2b220b489b7",
       "version_major": 2,
       "version_minor": 0
      },
      "text/plain": [
       "Predicting all ΔG:   0%|          | 0/2500 [00:00<?, ?it/s]"
      ]
     },
     "metadata": {},
     "output_type": "display_data"
    },
    {
     "data": {
      "application/vnd.jupyter.widget-view+json": {
       "model_id": "758d9c282bbd43438fa1e34d36feb99c",
       "version_major": 2,
       "version_minor": 0
      },
      "text/plain": [
       "Predicting all ΔG:   0%|          | 0/2500 [00:00<?, ?it/s]"
      ]
     },
     "metadata": {},
     "output_type": "display_data"
    },
    {
     "data": {
      "application/vnd.jupyter.widget-view+json": {
       "model_id": "935cca65995c4790986e319e17b1183b",
       "version_major": 2,
       "version_minor": 0
      },
      "text/plain": [
       "Predicting all ΔG:   0%|          | 0/2500 [00:00<?, ?it/s]"
      ]
     },
     "metadata": {},
     "output_type": "display_data"
    },
    {
     "data": {
      "application/vnd.jupyter.widget-view+json": {
       "model_id": "f2aebc8077124295b9d64073e72c271f",
       "version_major": 2,
       "version_minor": 0
      },
      "text/plain": [
       "Predicting all ΔG:   0%|          | 0/2500 [00:00<?, ?it/s]"
      ]
     },
     "metadata": {},
     "output_type": "display_data"
    },
    {
     "data": {
      "application/vnd.jupyter.widget-view+json": {
       "model_id": "b4f3e1aaa7d743b9befbf28f202e0adb",
       "version_major": 2,
       "version_minor": 0
      },
      "text/plain": [
       "Predicting all ΔG:   0%|          | 0/2500 [00:00<?, ?it/s]"
      ]
     },
     "metadata": {},
     "output_type": "display_data"
    },
    {
     "data": {
      "application/vnd.jupyter.widget-view+json": {
       "model_id": "23ebc416229c4df19c7f56ecbcf4aefa",
       "version_major": 2,
       "version_minor": 0
      },
      "text/plain": [
       "Predicting all ΔG:   0%|          | 0/2500 [00:00<?, ?it/s]"
      ]
     },
     "metadata": {},
     "output_type": "display_data"
    },
    {
     "data": {
      "application/vnd.jupyter.widget-view+json": {
       "model_id": "62cb80ac7a5b440ebb9458ce0593daab",
       "version_major": 2,
       "version_minor": 0
      },
      "text/plain": [
       "Predicting all ΔG:   0%|          | 0/2500 [00:00<?, ?it/s]"
      ]
     },
     "metadata": {},
     "output_type": "display_data"
    },
    {
     "data": {
      "application/vnd.jupyter.widget-view+json": {
       "model_id": "81f38beb460447e18055485649ac5aa1",
       "version_major": 2,
       "version_minor": 0
      },
      "text/plain": [
       "Predicting all ΔG:   0%|          | 0/2500 [00:00<?, ?it/s]"
      ]
     },
     "metadata": {},
     "output_type": "display_data"
    },
    {
     "data": {
      "application/vnd.jupyter.widget-view+json": {
       "model_id": "0f65dbd9f64c4ad4a8565be1442ad6d4",
       "version_major": 2,
       "version_minor": 0
      },
      "text/plain": [
       "Predicting all ΔG:   0%|          | 0/2500 [00:00<?, ?it/s]"
      ]
     },
     "metadata": {},
     "output_type": "display_data"
    },
    {
     "data": {
      "application/vnd.jupyter.widget-view+json": {
       "model_id": "bcc24cb6091c4dd6ab54286f87886e37",
       "version_major": 2,
       "version_minor": 0
      },
      "text/plain": [
       "Predicting all ΔG:   0%|          | 0/2500 [00:00<?, ?it/s]"
      ]
     },
     "metadata": {},
     "output_type": "display_data"
    },
    {
     "data": {
      "application/vnd.jupyter.widget-view+json": {
       "model_id": "9edefe0764514f2ba0e1789926324a22",
       "version_major": 2,
       "version_minor": 0
      },
      "text/plain": [
       "Predicting all ΔG:   0%|          | 0/2500 [00:00<?, ?it/s]"
      ]
     },
     "metadata": {},
     "output_type": "display_data"
    },
    {
     "data": {
      "application/vnd.jupyter.widget-view+json": {
       "model_id": "0748a965481f4c6b9c5068ed7ac1b400",
       "version_major": 2,
       "version_minor": 0
      },
      "text/plain": [
       "Predicting all ΔG:   0%|          | 0/2500 [00:00<?, ?it/s]"
      ]
     },
     "metadata": {},
     "output_type": "display_data"
    },
    {
     "data": {
      "application/vnd.jupyter.widget-view+json": {
       "model_id": "244592814c4047c689f0b2a197163d23",
       "version_major": 2,
       "version_minor": 0
      },
      "text/plain": [
       "Predicting all ΔG:   0%|          | 0/2500 [00:00<?, ?it/s]"
      ]
     },
     "metadata": {},
     "output_type": "display_data"
    },
    {
     "data": {
      "application/vnd.jupyter.widget-view+json": {
       "model_id": "46a727348af94e83969524bce05ba170",
       "version_major": 2,
       "version_minor": 0
      },
      "text/plain": [
       "Predicting all ΔG:   0%|          | 0/2500 [00:00<?, ?it/s]"
      ]
     },
     "metadata": {},
     "output_type": "display_data"
    },
    {
     "data": {
      "application/vnd.jupyter.widget-view+json": {
       "model_id": "6640357a611f4896a0d4754bd2e1e70b",
       "version_major": 2,
       "version_minor": 0
      },
      "text/plain": [
       "Predicting all ΔG:   0%|          | 0/2500 [00:00<?, ?it/s]"
      ]
     },
     "metadata": {},
     "output_type": "display_data"
    },
    {
     "data": {
      "application/vnd.jupyter.widget-view+json": {
       "model_id": "675da4d298764b1d8c4e51b1f6d4caf0",
       "version_major": 2,
       "version_minor": 0
      },
      "text/plain": [
       "Predicting all ΔG:   0%|          | 0/2500 [00:00<?, ?it/s]"
      ]
     },
     "metadata": {},
     "output_type": "display_data"
    },
    {
     "data": {
      "application/vnd.jupyter.widget-view+json": {
       "model_id": "61234cf4d2e9486a90bf5bd363a88e05",
       "version_major": 2,
       "version_minor": 0
      },
      "text/plain": [
       "Predicting all ΔG:   0%|          | 0/2500 [00:00<?, ?it/s]"
      ]
     },
     "metadata": {},
     "output_type": "display_data"
    },
    {
     "data": {
      "application/vnd.jupyter.widget-view+json": {
       "model_id": "31e6d76777984428a4b3c36bde8c7dd7",
       "version_major": 2,
       "version_minor": 0
      },
      "text/plain": [
       "Predicting all ΔG:   0%|          | 0/2500 [00:00<?, ?it/s]"
      ]
     },
     "metadata": {},
     "output_type": "display_data"
    },
    {
     "data": {
      "application/vnd.jupyter.widget-view+json": {
       "model_id": "e68f5ad65cc64a91bc94ad85f7055b72",
       "version_major": 2,
       "version_minor": 0
      },
      "text/plain": [
       "Predicting all ΔG:   0%|          | 0/2500 [00:00<?, ?it/s]"
      ]
     },
     "metadata": {},
     "output_type": "display_data"
    },
    {
     "data": {
      "application/vnd.jupyter.widget-view+json": {
       "model_id": "ae78717bb8764980afb0ef4c57d74999",
       "version_major": 2,
       "version_minor": 0
      },
      "text/plain": [
       "Predicting all ΔG:   0%|          | 0/2500 [00:00<?, ?it/s]"
      ]
     },
     "metadata": {},
     "output_type": "display_data"
    },
    {
     "data": {
      "application/vnd.jupyter.widget-view+json": {
       "model_id": "6d23520d3328403fa05b875faba2aebe",
       "version_major": 2,
       "version_minor": 0
      },
      "text/plain": [
       "Predicting all ΔG:   0%|          | 0/2500 [00:00<?, ?it/s]"
      ]
     },
     "metadata": {},
     "output_type": "display_data"
    },
    {
     "data": {
      "application/vnd.jupyter.widget-view+json": {
       "model_id": "7123bf0348db420085162b163ce79056",
       "version_major": 2,
       "version_minor": 0
      },
      "text/plain": [
       "Predicting all ΔG:   0%|          | 0/2500 [00:00<?, ?it/s]"
      ]
     },
     "metadata": {},
     "output_type": "display_data"
    },
    {
     "data": {
      "application/vnd.jupyter.widget-view+json": {
       "model_id": "b1fbad477ed54d5ab160e8a6c337e44d",
       "version_major": 2,
       "version_minor": 0
      },
      "text/plain": [
       "Predicting all ΔG:   0%|          | 0/2500 [00:00<?, ?it/s]"
      ]
     },
     "metadata": {},
     "output_type": "display_data"
    },
    {
     "data": {
      "application/vnd.jupyter.widget-view+json": {
       "model_id": "856e93dda7534bedb1e6d9bb61116c11",
       "version_major": 2,
       "version_minor": 0
      },
      "text/plain": [
       "Predicting all ΔG:   0%|          | 0/2500 [00:00<?, ?it/s]"
      ]
     },
     "metadata": {},
     "output_type": "display_data"
    },
    {
     "data": {
      "application/vnd.jupyter.widget-view+json": {
       "model_id": "a8fb4e75ef6a4ff184cb0356e82e4a75",
       "version_major": 2,
       "version_minor": 0
      },
      "text/plain": [
       "Predicting all ΔG:   0%|          | 0/2500 [00:00<?, ?it/s]"
      ]
     },
     "metadata": {},
     "output_type": "display_data"
    },
    {
     "data": {
      "application/vnd.jupyter.widget-view+json": {
       "model_id": "6005b2756dcb413da49bc5d4bbc558d2",
       "version_major": 2,
       "version_minor": 0
      },
      "text/plain": [
       "Predicting all ΔG:   0%|          | 0/2500 [00:00<?, ?it/s]"
      ]
     },
     "metadata": {},
     "output_type": "display_data"
    },
    {
     "data": {
      "application/vnd.jupyter.widget-view+json": {
       "model_id": "0d6e6ad42bc44f618e1b1ee255e765f3",
       "version_major": 2,
       "version_minor": 0
      },
      "text/plain": [
       "Predicting all ΔG:   0%|          | 0/2500 [00:00<?, ?it/s]"
      ]
     },
     "metadata": {},
     "output_type": "display_data"
    },
    {
     "data": {
      "application/vnd.jupyter.widget-view+json": {
       "model_id": "a9f8d49bec6847549f1c437de42a1987",
       "version_major": 2,
       "version_minor": 0
      },
      "text/plain": [
       "Predicting all ΔG:   0%|          | 0/2500 [00:00<?, ?it/s]"
      ]
     },
     "metadata": {},
     "output_type": "display_data"
    },
    {
     "data": {
      "application/vnd.jupyter.widget-view+json": {
       "model_id": "a0b5b498419b4b0685be5b150ae212de",
       "version_major": 2,
       "version_minor": 0
      },
      "text/plain": [
       "Predicting all ΔG:   0%|          | 0/2500 [00:00<?, ?it/s]"
      ]
     },
     "metadata": {},
     "output_type": "display_data"
    },
    {
     "data": {
      "application/vnd.jupyter.widget-view+json": {
       "model_id": "fab7099d650f4646a95f5129fa5116ce",
       "version_major": 2,
       "version_minor": 0
      },
      "text/plain": [
       "Predicting all ΔG:   0%|          | 0/2500 [00:00<?, ?it/s]"
      ]
     },
     "metadata": {},
     "output_type": "display_data"
    },
    {
     "data": {
      "application/vnd.jupyter.widget-view+json": {
       "model_id": "f533c972f51945c4bb0ef953f4940657",
       "version_major": 2,
       "version_minor": 0
      },
      "text/plain": [
       "Predicting all ΔG:   0%|          | 0/2500 [00:00<?, ?it/s]"
      ]
     },
     "metadata": {},
     "output_type": "display_data"
    },
    {
     "data": {
      "application/vnd.jupyter.widget-view+json": {
       "model_id": "3c00316a3ce547719cfb9face0e783c6",
       "version_major": 2,
       "version_minor": 0
      },
      "text/plain": [
       "Predicting all ΔG:   0%|          | 0/2500 [00:00<?, ?it/s]"
      ]
     },
     "metadata": {},
     "output_type": "display_data"
    },
    {
     "data": {
      "application/vnd.jupyter.widget-view+json": {
       "model_id": "1068ff7ca7324164aa8ba48880f3fbcb",
       "version_major": 2,
       "version_minor": 0
      },
      "text/plain": [
       "Predicting all ΔG:   0%|          | 0/2500 [00:00<?, ?it/s]"
      ]
     },
     "metadata": {},
     "output_type": "display_data"
    },
    {
     "data": {
      "application/vnd.jupyter.widget-view+json": {
       "model_id": "50d64186309b42f7a2683d45b4e19a42",
       "version_major": 2,
       "version_minor": 0
      },
      "text/plain": [
       "Predicting all ΔG:   0%|          | 0/2500 [00:00<?, ?it/s]"
      ]
     },
     "metadata": {},
     "output_type": "display_data"
    },
    {
     "data": {
      "application/vnd.jupyter.widget-view+json": {
       "model_id": "68b2bc5c132b44fc99fbe907bed53295",
       "version_major": 2,
       "version_minor": 0
      },
      "text/plain": [
       "Predicting all ΔG:   0%|          | 0/2500 [00:00<?, ?it/s]"
      ]
     },
     "metadata": {},
     "output_type": "display_data"
    },
    {
     "data": {
      "application/vnd.jupyter.widget-view+json": {
       "model_id": "36b6819387694f848ef20174568a8e14",
       "version_major": 2,
       "version_minor": 0
      },
      "text/plain": [
       "Predicting all ΔG:   0%|          | 0/2500 [00:00<?, ?it/s]"
      ]
     },
     "metadata": {},
     "output_type": "display_data"
    },
    {
     "data": {
      "application/vnd.jupyter.widget-view+json": {
       "model_id": "f815a9e9891545f39a9247e562d9c2d6",
       "version_major": 2,
       "version_minor": 0
      },
      "text/plain": [
       "Predicting all ΔG:   0%|          | 0/2500 [00:00<?, ?it/s]"
      ]
     },
     "metadata": {},
     "output_type": "display_data"
    },
    {
     "data": {
      "application/vnd.jupyter.widget-view+json": {
       "model_id": "9b36d760760c4b59bd3e762b83bd44f3",
       "version_major": 2,
       "version_minor": 0
      },
      "text/plain": [
       "Predicting all ΔG:   0%|          | 0/2500 [00:00<?, ?it/s]"
      ]
     },
     "metadata": {},
     "output_type": "display_data"
    },
    {
     "data": {
      "application/vnd.jupyter.widget-view+json": {
       "model_id": "6e177fd5e4294d41ae97c92599b783a3",
       "version_major": 2,
       "version_minor": 0
      },
      "text/plain": [
       "Predicting all ΔG:   0%|          | 0/2500 [00:00<?, ?it/s]"
      ]
     },
     "metadata": {},
     "output_type": "display_data"
    },
    {
     "data": {
      "application/vnd.jupyter.widget-view+json": {
       "model_id": "4280e08bc4db4ed7a3ac3d91c0050022",
       "version_major": 2,
       "version_minor": 0
      },
      "text/plain": [
       "Predicting all ΔG:   0%|          | 0/2500 [00:00<?, ?it/s]"
      ]
     },
     "metadata": {},
     "output_type": "display_data"
    },
    {
     "name": "stdout",
     "output_type": "stream",
     "text": [
      "Optimal Surface Stochiometry: [0.6622070729215169, 1.0, 0.0, 0.5082185800752432, 0.491848345744174]\n",
      "Optimal Loss: 45\n"
     ]
    }
   ],
   "source": [
    "import numpy as np\n",
    "from skopt import gp_minimize\n",
    "dim_x, dim_y = 50, 50\n",
    "# Define the Search Space\n",
    "space = [(0.0, 1.0)] * 5  # Assuming each element is in the range [0, 1]\n",
    "\n",
    "# Initialize the Bayesian Optimizer\n",
    "optimizer = gp_minimize(\n",
    "    simulate_loss,\n",
    "    space,\n",
    "    n_calls=100,  # Number of evaluations of the loss function\n",
    "    random_state=42)  # Set a random seed for reproducibility\n",
    "\n",
    "# Retrieve the intermediate results\n",
    "results = optimizer.x_iters\n",
    "losses = optimizer.func_vals\n",
    "\n",
    "# Print the intermediate results\n",
    "for i, result in enumerate(results):\n",
    "    loss = losses[i]\n",
    "    print(f\"Iteration {i+1}: Surface Stochiometry: {result}, Loss: {loss}\")\n",
    "\n",
    "# Retrieve the optimal solution\n",
    "optimal_surface_stochiometry = optimizer.x\n",
    "optimal_loss = -optimizer.fun  # Negate the loss to retrieve the maximized value\n",
    "\n",
    "print(\"Optimal Surface Stochiometry:\", optimal_surface_stochiometry)\n",
    "print(\"Optimal Loss:\", optimal_loss)\n"
   ]
  },
  {
   "cell_type": "code",
   "execution_count": 63,
   "id": "1cf85392",
   "metadata": {},
   "outputs": [
    {
     "data": {
      "text/plain": [
       "array([['Au', 'Cu', 'Au', ..., 'Pd', 'Au', 'Pd'],\n",
       "       ['Pt', 'Pd', 'Cu', ..., 'Ag', 'Pt', 'Pd'],\n",
       "       ['Pd', 'Pt', 'Ag', ..., 'Ag', 'Au', 'Pd'],\n",
       "       ...,\n",
       "       ['Pt', 'Au', 'Cu', ..., 'Ag', 'Pt', 'Au'],\n",
       "       ['Pt', 'Pt', 'Au', ..., 'Pd', 'Au', 'Pt'],\n",
       "       ['Ag', 'Au', 'Pd', ..., 'Ag', 'Cu', 'Cu']], dtype='<U2')"
      ]
     },
     "execution_count": 63,
     "metadata": {},
     "output_type": "execute_result"
    }
   ],
   "source": [
    "surface[\"atoms\"][:, :, 0]"
   ]
  },
  {
   "cell_type": "markdown",
   "id": "a8367d4e",
   "metadata": {},
   "source": [
    "#### Findings\n",
    "\n",
    "It seems like Pd might be useless, because it's not good enough to make good COOH top-sites and it's not bad anough to make shitty hollow sites. Pd was not useless lmao."
   ]
  },
  {
   "cell_type": "markdown",
   "id": "389abc2d",
   "metadata": {},
   "source": [
    "#### Functions"
   ]
  },
  {
   "cell_type": "code",
   "execution_count": 30,
   "id": "217d3d21",
   "metadata": {},
   "outputs": [],
   "source": [
    "def initialize_surface(dim_x, dim_y, metals, split): #Is still random - could be used with a seed in the name of reproduceability\n",
    "    dim_z = 3\n",
    "    \n",
    "    surf_atoms = create_surface(dim_x, dim_y, metals, split)\n",
    "    \n",
    "    # Binding energies\n",
    "    surf_COOH_E = np.reshape([np.nan]*dim_x*dim_y, (dim_x, dim_y))# On-top sites\n",
    "    surf_H_E    = np.reshape([np.nan]*dim_x*dim_y, (dim_x, dim_y))# Hollow sites\n",
    "    \n",
    "    surf = {\"atoms\": surf_atoms,\\\n",
    "            \"COOH_E\": surf_COOH_E, \"H_E\": surf_H_E}\n",
    "    return surf\n",
    "\n",
    "def create_surface(dim_x, dim_y, metals, split):\n",
    "    dim_z = 3\n",
    "    num_atoms = dim_x*dim_y*dim_z\n",
    "    if split == \"Even\":\n",
    "        proba = [1.0 / len(metals) for n in range(len(metals))] \n",
    "        surface = np.random.choice(metals, num_atoms, p=proba)\n",
    "    else:\n",
    "        surface = np.random.choice(metals, num_atoms, p=split)\n",
    "    surface = np.reshape(surface, (dim_x, dim_y, dim_z)) #Reshape list to the\n",
    "    return surface\n",
    "\n",
    "def precompute_binding_energies_TQDM(surface, dim_x, dim_y, models, predict_G_function):\n",
    "    for x, y in tqdm([(x, y) for x in range(dim_x) for y in range(dim_y)], desc = r\"Predicting all ΔG\", leave = True): # I could randomise this, so I go through all sites in a random order\n",
    "        \n",
    "        ads = \"H\"\n",
    "        surface[\"H_E\"][x][y] = predict_G_function(surface[\"atoms\"], x, y, ads, models) ## A new function that wraps/uses the XGBoost model\n",
    "        \n",
    "        ads = \"COOH\"\n",
    "        surface[\"COOH_E\"][x][y] = predict_G_function(surface[\"atoms\"], x, y, ads, models) ## A new function that wraps/uses the XGBoost model\n",
    "\n",
    "    return surface\n",
    "\n",
    "def predict_G(surface, site_x, site_y, adsorbate, models):\n",
    "    if adsorbate == \"H\":\n",
    "        vector_df = pd.DataFrame([hollow_site_vector(surface, site_x, site_y)], columns = [f\"feature{n}\" for n in range(55)])\n",
    "        vector_DM = pandas_to_DMatrix(vector_df)\n",
    "        G = models[\"H\"].predict(vector_DM)[0]\n",
    "        return G\n",
    "    \n",
    "    if adsorbate == \"COOH\":\n",
    "        vector_df = pd.DataFrame([on_top_site_vector(surface, site_x, site_y)], columns = [f\"feature{n}\" for n in range(20)]) # Tjek - er det ikke \"adsorbate\" + features?\n",
    "        vector_DM = pandas_to_DMatrix(vector_df)\n",
    "        G = models[\"COOH\"].predict(vector_DM)[0]\n",
    "        return G\n",
    "    \n",
    "def on_top_site_vector(surface, site_x, site_y): # I should have done modulo to dim_x and dim_y\n",
    "    dim_x, dim_y = np.shape(surface)[0], np.shape(surface)[1]\n",
    "    site1 = [surface[site_x, site_y, 0]]# Make a one-hot encoded vector of the very site here! Add at the beginning \n",
    "    site1_count = [site1.count(metals[n]) for n in range(len(metals))]\n",
    "    \n",
    "    top6 = [surface[site_x % dim_x, (site_y-1) % dim_y, 0], surface[site_x % dim_x, (site_y+1) % dim_y, 0], surface[(site_x-1) % dim_x, site_y % dim_y, 0], surface[(site_x+1) % dim_x, site_y % dim_y, 0], surface[(site_x-1) % dim_x, (site_y+1) % dim_y, 0], surface[(site_x+1) % dim_x, (site_y-1) % dim_y, 0]]\n",
    "    top6_count = [top6.count(metals[n]) for n in range(len(metals))]\n",
    "    \n",
    "    mid3 = [surface[(site_x-1) % dim_x, (site_y-1) % dim_y,1], surface[site_x % dim_x, (site_y-1) % dim_y,1], surface[(site_x-1) % dim_x, site_y % dim_y,1]]\n",
    "    mid3_count = [mid3.count(metals[n]) for n in range(len(metals))]\n",
    "    \n",
    "    bot3 = [surface[(site_x-1) % dim_x, (site_y-1) % dim_y, 2], surface[(site_x-1) % dim_x, (site_y+1) % dim_y, 2], surface[(site_x+1) % dim_x, (site_y-1) % dim_y, 2]]\n",
    "    bot3_count = [bot3.count(metals[n]) for n in range(len(metals))]\n",
    "    \n",
    "    return site1_count + top6_count + mid3_count + bot3_count\n",
    "\n",
    "metals = ['Ag', 'Au', 'Cu', 'Pd', 'Pt']\n",
    "three_metals_combinations = [] #List of possible combinations of the three\n",
    "# Der skal være 35, ikke 125\n",
    "\n",
    "for a in metals:\n",
    "    for b in metals:\n",
    "        for c in metals:\n",
    "            three_metals_combinations.append(''.join(sorted([a, b, c])))\n",
    "            \n",
    "# Remove duplicates\n",
    "three_metals_combinations = list(dict.fromkeys(three_metals_combinations)) # Let's encode it in a better way later\n",
    "\n",
    "def hollow_site_vector(surface, site_x, site_y): #Now with adsorbate encoding\n",
    "    \n",
    "    # First encode the 3 neighbours\n",
    "    blues = [surface[(site_x+1) % dim_x, site_y, 0], surface[site_x, (site_y+1) % dim_y, 0], surface[(site_x+1) % dim_x, (site_y+1) % dim_y, 0]]\n",
    "    blues = \"\".join(sorted(blues))\n",
    "    idx = three_metals_combinations.index(blues)\n",
    "    blues = 35*[0]\n",
    "    blues[idx] = 1\n",
    "    \n",
    "    # Then the next neighbours (green)\n",
    "    greens = [surface[(site_x+2) % dim_x, site_y, 0], surface[site_x, (site_y+2) % dim_y, 0], surface[site_x, site_y, 0]]\n",
    "    greens_count = [greens.count(metals[n]) for n in range(len(metals))]\n",
    "    \n",
    "    # Then the next neighbours (brown) # Kunne gøres smartere med list comprehension og to lister med +- zipped\n",
    "    browns = [surface[(site_x + a) % dim_x, (site_y + b) % dim_y, c] for a, b, c in zip([1, 2, 2, 1, -1, -1], [2, 1, -1, -1, 1, 2], [0, 0, 0, 0, 0, 0])]\n",
    "    browns_count = [browns.count(metals[n]) for n in range(len(metals))]\n",
    "    \n",
    "    # Then the three downstairs neighbours\n",
    "    yellows = [surface[(site_x + a) % dim_x, (site_y + b) % dim_y, c] for a, b, c in zip([0, 1, 0], [0, 0, 1], [1, 1, 1])]\n",
    "    yellows_count = [yellows.count(metals[n]) for n in range(len(metals))]\n",
    "    \n",
    "    # Then the purples downstairs\n",
    "    purples = [surface[(site_x + a) % dim_x, (site_y + b) % dim_y, c] for a, b, c in zip([1, -1, 1], [-1, 1, 1], [1, 1, 1])]\n",
    "    purples_count = [purples.count(metals[n]) for n in range(len(metals))]\n",
    "    \n",
    "    return blues + greens_count + browns_count + yellows_count + purples_count\n",
    "\n",
    "def pandas_to_DMatrix(df):#, label):\n",
    "    label = pd.DataFrame(np.random.randint(2, size=len(df)))\n",
    "    DMatrix = xgb.DMatrix(df)#, label=label)\n",
    "    return DMatrix"
   ]
  },
  {
   "cell_type": "markdown",
   "id": "95f7d6c4",
   "metadata": {},
   "source": [
    "#### Training models for COOH and H"
   ]
  },
  {
   "cell_type": "code",
   "execution_count": 6,
   "id": "700dd716",
   "metadata": {},
   "outputs": [],
   "source": [
    "def correct_DFT_energy_COOH_DFT(molecules_dict, E_COOH, E_slab):\n",
    "    return E_COOH - E_slab - molecules_dict[\"CO2\"] - 1/2*molecules_dict[\"H2\"]\n",
    "\n",
    "def correct_DFT_energy_H_DFT(molecules_dict, E_H, E_slab):\n",
    "    return E_H - E_slab - 1/2*molecules_dict[\"H2\"]"
   ]
  },
  {
   "cell_type": "markdown",
   "id": "8b82f110",
   "metadata": {},
   "source": [
    "##### Making features"
   ]
  },
  {
   "cell_type": "code",
   "execution_count": 20,
   "id": "feee9970",
   "metadata": {
    "collapsed": true
   },
   "outputs": [
    {
     "name": "stdout",
     "output_type": "stream",
     "text": [
      "[INFO] 9 COOH and slab matched for row 1 in slabs_out.db\n",
      "[INFO] 9 H and slab matched for row 1 in slabs_out.db\n",
      "[INFO] 9 COOH and slab matched for row 2 in slabs_out.db\n",
      "[INFO] 9 H and slab matched for row 2 in slabs_out.db\n",
      "[INFO] 9 COOH and slab matched for row 3 in slabs_out.db\n",
      "[INFO] 9 H and slab matched for row 3 in slabs_out.db\n",
      "[INFO] 9 COOH and slab matched for row 4 in slabs_out.db\n",
      "[INFO] 8 H and slab matched for row 4 in slabs_out.db\n",
      "[INFO] 9 COOH and slab matched for row 5 in slabs_out.db\n",
      "[INFO] 9 H and slab matched for row 5 in slabs_out.db\n",
      "[INFO] 9 COOH and slab matched for row 6 in slabs_out.db\n",
      "[INFO] 9 H and slab matched for row 6 in slabs_out.db\n",
      "[INFO] 9 COOH and slab matched for row 7 in slabs_out.db\n",
      "[INFO] 9 H and slab matched for row 7 in slabs_out.db\n",
      "[INFO] 9 COOH and slab matched for row 8 in slabs_out.db\n",
      "[INFO] 9 H and slab matched for row 8 in slabs_out.db\n",
      "[INFO] 9 COOH and slab matched for row 9 in slabs_out.db\n",
      "[INFO] 9 H and slab matched for row 9 in slabs_out.db\n",
      "[INFO] 9 COOH and slab matched for row 10 in slabs_out.db\n",
      "[INFO] 9 H and slab matched for row 10 in slabs_out.db\n",
      "[INFO] 9 COOH and slab matched for row 11 in slabs_out.db\n",
      "[INFO] 9 H and slab matched for row 11 in slabs_out.db\n",
      "[INFO] 9 COOH and slab matched for row 12 in slabs_out.db\n",
      "[INFO] 9 H and slab matched for row 12 in slabs_out.db\n",
      "[INFO] 9 COOH and slab matched for row 13 in slabs_out.db\n",
      "[INFO] 8 H and slab matched for row 13 in slabs_out.db\n",
      "[INFO] 9 COOH and slab matched for row 14 in slabs_out.db\n",
      "[INFO] 9 H and slab matched for row 14 in slabs_out.db\n",
      "[INFO] 9 COOH and slab matched for row 15 in slabs_out.db\n",
      "[INFO] 9 H and slab matched for row 15 in slabs_out.db\n",
      "[INFO] 9 COOH and slab matched for row 16 in slabs_out.db\n",
      "[INFO] 9 H and slab matched for row 16 in slabs_out.db\n",
      "[INFO] 9 COOH and slab matched for row 17 in slabs_out.db\n",
      "[INFO] 9 H and slab matched for row 17 in slabs_out.db\n",
      "[INFO] 9 COOH and slab matched for row 18 in slabs_out.db\n",
      "[INFO] 9 H and slab matched for row 18 in slabs_out.db\n",
      "[INFO] 9 COOH and slab matched for row 19 in slabs_out.db\n",
      "[INFO] 8 H and slab matched for row 19 in slabs_out.db\n",
      "[INFO] 9 COOH and slab matched for row 20 in slabs_out.db\n",
      "[INFO] 9 H and slab matched for row 20 in slabs_out.db\n",
      "[INFO] 9 COOH and slab matched for row 21 in slabs_out.db\n",
      "[INFO] 9 H and slab matched for row 21 in slabs_out.db\n",
      "[INFO] 9 COOH and slab matched for row 22 in slabs_out.db\n",
      "[INFO] 9 H and slab matched for row 22 in slabs_out.db\n",
      "[INFO] 9 COOH and slab matched for row 23 in slabs_out.db\n",
      "[INFO] 9 H and slab matched for row 23 in slabs_out.db\n",
      "[INFO] 9 COOH and slab matched for row 24 in slabs_out.db\n",
      "[INFO] 9 H and slab matched for row 24 in slabs_out.db\n",
      "[INFO] 9 COOH and slab matched for row 25 in slabs_out.db\n",
      "[INFO] 9 H and slab matched for row 25 in slabs_out.db\n",
      "[INFO] 9 COOH and slab matched for row 26 in slabs_out.db\n",
      "[INFO] 9 H and slab matched for row 26 in slabs_out.db\n",
      "[INFO] 9 COOH and slab matched for row 27 in slabs_out.db\n",
      "[INFO] 8 H and slab matched for row 27 in slabs_out.db\n",
      "[INFO] 9 COOH and slab matched for row 28 in slabs_out.db\n",
      "[INFO] 9 H and slab matched for row 28 in slabs_out.db\n",
      "[INFO] 9 COOH and slab matched for row 29 in slabs_out.db\n",
      "[INFO] 8 H and slab matched for row 29 in slabs_out.db\n",
      "[INFO] 9 COOH and slab matched for row 30 in slabs_out.db\n",
      "[INFO] 9 H and slab matched for row 30 in slabs_out.db\n",
      "[INFO] 9 COOH and slab matched for row 31 in slabs_out.db\n",
      "[INFO] 9 H and slab matched for row 31 in slabs_out.db\n",
      "[INFO] 9 COOH and slab matched for row 32 in slabs_out.db\n",
      "[INFO] 9 H and slab matched for row 32 in slabs_out.db\n",
      "[INFO] 9 COOH and slab matched for row 33 in slabs_out.db\n",
      "[INFO] 9 H and slab matched for row 33 in slabs_out.db\n",
      "[INFO] 9 COOH and slab matched for row 34 in slabs_out.db\n",
      "[INFO] 8 H and slab matched for row 34 in slabs_out.db\n",
      "[INFO] 9 COOH and slab matched for row 35 in slabs_out.db\n",
      "[INFO] 9 H and slab matched for row 35 in slabs_out.db\n",
      "[INFO] 9 COOH and slab matched for row 36 in slabs_out.db\n",
      "[INFO] 9 H and slab matched for row 36 in slabs_out.db\n",
      "[INFO] 9 COOH and slab matched for row 37 in slabs_out.db\n",
      "[INFO] 9 H and slab matched for row 37 in slabs_out.db\n",
      "[INFO] 9 COOH and slab matched for row 38 in slabs_out.db\n",
      "[INFO] 8 H and slab matched for row 38 in slabs_out.db\n",
      "[INFO] 9 COOH and slab matched for row 39 in slabs_out.db\n",
      "[INFO] 8 H and slab matched for row 39 in slabs_out.db\n",
      "[INFO] 9 COOH and slab matched for row 40 in slabs_out.db\n",
      "[INFO] 9 H and slab matched for row 40 in slabs_out.db\n",
      "[INFO] 9 COOH and slab matched for row 41 in slabs_out.db\n",
      "[INFO] 9 H and slab matched for row 41 in slabs_out.db\n",
      "[INFO] 9 COOH and slab matched for row 42 in slabs_out.db\n",
      "[INFO] 8 H and slab matched for row 42 in slabs_out.db\n",
      "[INFO] 9 COOH and slab matched for row 43 in slabs_out.db\n",
      "[INFO] 9 H and slab matched for row 43 in slabs_out.db\n",
      "[INFO] 9 COOH and slab matched for row 44 in slabs_out.db\n",
      "[INFO] 9 H and slab matched for row 44 in slabs_out.db\n",
      "[INFO] 9 COOH and slab matched for row 45 in slabs_out.db\n",
      "[INFO] 7 H and slab matched for row 45 in slabs_out.db\n",
      "[INFO] 9 COOH and slab matched for row 46 in slabs_out.db\n",
      "[INFO] 8 H and slab matched for row 46 in slabs_out.db\n",
      "[INFO] 9 COOH and slab matched for row 47 in slabs_out.db\n",
      "[INFO] 9 H and slab matched for row 47 in slabs_out.db\n",
      "[INFO] 9 COOH and slab matched for row 48 in slabs_out.db\n",
      "[INFO] 9 H and slab matched for row 48 in slabs_out.db\n",
      "[INFO] 9 COOH and slab matched for row 49 in slabs_out.db\n",
      "[INFO] 9 H and slab matched for row 49 in slabs_out.db\n",
      "[INFO] 9 COOH and slab matched for row 50 in slabs_out.db\n",
      "[INFO] 9 H and slab matched for row 50 in slabs_out.db\n",
      "[INFO] 9 COOH and slab matched for row 51 in slabs_out.db\n",
      "[INFO] 9 H and slab matched for row 51 in slabs_out.db\n",
      "[INFO] 9 COOH and slab matched for row 52 in slabs_out.db\n",
      "[INFO] 9 H and slab matched for row 52 in slabs_out.db\n",
      "[INFO] 9 COOH and slab matched for row 53 in slabs_out.db\n",
      "[INFO] 7 H and slab matched for row 53 in slabs_out.db\n",
      "[INFO] 9 COOH and slab matched for row 54 in slabs_out.db\n",
      "[INFO] 9 H and slab matched for row 54 in slabs_out.db\n",
      "[INFO] 9 COOH and slab matched for row 55 in slabs_out.db\n",
      "[INFO] 9 H and slab matched for row 55 in slabs_out.db\n",
      "[INFO] 9 COOH and slab matched for row 56 in slabs_out.db\n",
      "[INFO] 9 H and slab matched for row 56 in slabs_out.db\n",
      "rejected COOH samples:  0\n",
      "rejected H samples:  0\n"
     ]
    }
   ],
   "source": [
    "# Specify metals\n",
    "metals = ['Ag', 'Au', 'Cu', 'Pd', 'Pt']\n",
    "alloy = ''.join(metals)\n",
    "\n",
    "# Specify name of databases\n",
    "db_name_H = 'H_out.db'\n",
    "db_name_COOH = 'COOH_C_adsorbed_out.db'\n",
    "db_name_slab = \"slabs_out.db\"\n",
    "\n",
    "# Initiate feature readers\n",
    "reader_H = FccStandard111(metals)\n",
    "reader_COOH = OntopStandard111(metals)\n",
    "\n",
    "site_ids_H = [16, 17, 18]\n",
    "\n",
    "# Initiate counters of rejected samples\n",
    "rejected_H = 0\n",
    "rejected_COOH = 0\n",
    "\n",
    "# Writer headers to files\n",
    "with open(f'{features_folder}H_DFT_features.csv', 'w') as file_H:\n",
    "    column_names = [f\"feature{n}\" for n in range(55)]\n",
    "    column_names.append('G_ads (eV)')\n",
    "    column_names.append('slab db row')\n",
    "    column_names.append(f'{db_name_H}row')\n",
    "    file_H.write(\",\".join(column_names))\n",
    "    \n",
    "# Writer headers to files\n",
    "with open(f'{features_folder}COOH_DFT_features.csv', 'w') as file_COOH:\n",
    "    column_names = [f\"feature{n}\" for n in range(20)]\n",
    "    column_names.append('G_ads (eV)')\n",
    "    column_names.append('slab db row')\n",
    "    column_names.append(f'{db_name_COOH}row')\n",
    "    file_COOH.write(\",\".join(column_names))\n",
    "    \n",
    "# Load HEA(111) databases\n",
    "with connect(f'{db_folder}{db_name_H}') as db_H,\\\n",
    "     connect(f'{db_folder}{db_name_COOH}') as db_COOH,\\\n",
    "     connect(f'{db_folder}{db_name_slab}') as db_slab,\\\n",
    "     open(f'{features_folder}H_DFT_features.csv', 'a') as file_H,\\\n",
    "     open(f'{features_folder}COOH_DFT_features.csv', 'a') as file_COOH:\n",
    "    #print(\"A1\")\n",
    "    # Iterate through slabs without adsorbates\n",
    "    for row_slab in db_slab.select('energy', H=0, C=0, O=0): # This doesn't even trigger lmao\n",
    "        #print(\"A2\")\n",
    "        # Iterate through the two adsorbates\n",
    "        for ads in ['COOH', 'H']:\n",
    "            #print(\"A3\")\n",
    "            # Set adsorbate-specific parameters\n",
    "            if ads == 'COOH':\n",
    "                db = db_COOH\n",
    "                kw = {'C': 1,'O': 2, 'H': 1}\n",
    "                db_name = db_name_COOH\n",
    "                out_file = file_COOH\n",
    "\n",
    "            elif ads == 'H':\n",
    "                db = db_H\n",
    "                kw = {'O': 0, 'H': 1}\n",
    "                db_name = db_name_H\n",
    "                out_file = file_H\n",
    "                ads_atom = \"H\"\n",
    "\n",
    "            # Set counter of matched slabs between the databases to zero\n",
    "            n_matched = 0\n",
    "\n",
    "            # Get the corresponding slab with adsorbate\n",
    "            for row in db.select('energy', **kw, **row_slab.count_atoms()):\n",
    "                #print(\"A4\")\n",
    "                # If symbols match up\n",
    "                if row.symbols[:-len(ads)] == row_slab.symbols:\n",
    "                    #print(\"A5\")\n",
    "                    # Increment the counter of matched structures\n",
    "                    n_matched += 1\n",
    "\n",
    "                    # Get atoms object\n",
    "                    atoms = db.get_atoms(row.id)\n",
    "\n",
    "                    # If the adsorbate is *COOH\n",
    "                    if ads == 'COOH':\n",
    "                        # Make slab instance\n",
    "                        slab = Slab(atoms, ads=ads, ads_atom='C')\n",
    "\n",
    "                        # Get adsorption site elements as neighbors within a radius\n",
    "                        site_elems, site = slab.get_adsorption_site(radius=2.6, hollow_radius=2.6)\n",
    "\n",
    "                        # If the site does not consist of exactly one atom, then skip this sample\n",
    "                        # as the *OH has moved too far away from an on-top site\n",
    "                        try:\n",
    "                            if len(site_elems) !=1:\n",
    "                                rejected_COOH += 1\n",
    "                                #slab.view()\n",
    "                                continue\n",
    "                        except TypeError:\n",
    "                            print(site_elems, site)\n",
    "                            print(row_slab.id, row.id)\n",
    "                            slab.view()\n",
    "                            exit()\n",
    "\n",
    "                        # Get features of structure\n",
    "                        features = reader_COOH.get_features(slab, radius=2.6)\n",
    "                        \n",
    "                        ### This part is now adsorbate-specific ###\n",
    "                        # Get adsorption energy\n",
    "                        E_ads = correct_DFT_energy_COOH_DFT(molecules_dict, row.energy, row_slab.energy) # This is the new formula\n",
    "\n",
    "                        # Write output to file\n",
    "                        features = ','.join(map(str, features))\n",
    "                        out_file.write(f'\\n{features},{E_ads:.6f},{row_slab.id},{row.id}')\n",
    "\n",
    "                    # Else, if the adsorbate is H*\n",
    "                    elif ads == 'H':\n",
    "                        \n",
    "                        atoms = atoms.repeat((3, 3, 1))\n",
    "                        slab = Slab(atoms, ads=ads, ads_atom=ads_atom)\n",
    "                        chemical_symbols = atoms.get_chemical_symbols()\n",
    "                        #view(atoms)\n",
    "                        H_index = [i for i, x in enumerate(chemical_symbols) if x == \"H\"][4]\n",
    "                        \n",
    "                        all_distances = atoms.get_distances([n for n in list(range(len(chemical_symbols))) if n != H_index], H_index)\n",
    "                        site_ids_H = np.argpartition(all_distances, 2)[0:3]\n",
    "                        site_ids_H = [x+1 if x>229 else x for x in site_ids_H] #Compensates for the removal of an H, so that the indices above 229 are not one too small\n",
    "                        #print(\"site_ids_H: \", site_ids_H)\n",
    "                        # Get hollow site planar corner coordinates\n",
    "                        site_atoms_pos_orig = atoms.positions[site_ids_H, :2]\n",
    "\n",
    "                        # Get expanded triangle vertices\n",
    "                        site_atoms_pos = expand_triangle(site_atoms_pos_orig, expansion=1.45)\n",
    "\n",
    "                        # Get position of adsorbate atom (with atom index XXX 20 XXX)\n",
    "                        ads_pos = atoms.positions[H_index][:2]\n",
    "\n",
    "                        # If the H is outside the expanded fcc triangle,\n",
    "                        # then it is most likely in an hcp site, that is not\n",
    "                        # being modeled\n",
    "                        if not inside_triangle(ads_pos, site_atoms_pos):\n",
    "                            rejected_H += 1\n",
    "                            continue\n",
    "\n",
    "                        # Get features of structure\n",
    "                        features = reader_H.get_features(slab, radius=2.6, site_ids=site_ids_H)\n",
    "\n",
    "                        ### This part is now adsorbate-specific ###\n",
    "                        # Get adsorption energy\n",
    "                        E_ads = correct_DFT_energy_H_DFT(molecules_dict, row.energy, row_slab.energy) # This is the new formula\n",
    "                        \n",
    "                        # Write output to file\n",
    "                        features = ','.join(map(str, features))\n",
    "                        out_file.write(f'\\n{features},{E_ads:.6f},{row_slab.id},{row.id}')\n",
    "\n",
    "            if n_matched > 1:\n",
    "                print(f'[INFO] {n_matched} {ads} and slab matched for row {row_slab.id} in {db_name_slab}')\n",
    "\n",
    "# Print the number of rejected samples to screen\n",
    "print('rejected COOH samples: ', rejected_COOH)\n",
    "print('rejected H samples: ', rejected_H)"
   ]
  },
  {
   "cell_type": "markdown",
   "id": "b28527eb",
   "metadata": {},
   "source": [
    "##### Training models"
   ]
  },
  {
   "cell_type": "code",
   "execution_count": 11,
   "id": "1027fcf4",
   "metadata": {},
   "outputs": [
    {
     "name": "stderr",
     "output_type": "stream",
     "text": [
      "/Users/marcusnorgaardweng/miniforge3/envs/PUK/lib/python3.10/site-packages/xgboost/data.py:250: FutureWarning: pandas.Int64Index is deprecated and will be removed from pandas in a future version. Use pandas.Index with the appropriate dtype instead.\n",
      "  elif isinstance(data.columns, (pd.Int64Index, pd.RangeIndex)):\n"
     ]
    },
    {
     "data": {
      "image/png": "[encoded data removed]",
      "text/plain": [
       "<Figure size 1000x400 with 1 Axes>"
      ]
     },
     "metadata": {},
     "output_type": "display_data"
    },
    {
     "name": "stdout",
     "output_type": "stream",
     "text": [
      "Training score:  0.9911966093244539\n",
      "Validation score:  0.9764931285341023\n"
     ]
    },
    {
     "data": {
      "image/png": "[encoded data removed]",
      "text/plain": [
       "<Figure size 640x480 with 2 Axes>"
      ]
     },
     "metadata": {},
     "output_type": "display_data"
    }
   ],
   "source": [
    "feature_folder = \"../csv_features/\"\n",
    "filename = \"COOH_DFT_features.csv\"\n",
    "\n",
    "COOH_df = pd.read_csv(feature_folder + filename)\n",
    "full_df = pd.concat([COOH_df], axis = 0)\n",
    "all_cols = full_df.columns\n",
    "#Seperate the energies and remove the useless columns\n",
    "\n",
    "X = full_df.loc[:, :all_cols[-4]]\n",
    "y = full_df[[\"G_ads (eV)\"]]\n",
    "\n",
    "# Prepare data for XGBoost\n",
    "\n",
    "#shuffle and split\n",
    "X_train, X_val_test, y_train, y_val_test = train_test_split(X, y, test_size = 0.2)\n",
    "X_val, X_test, y_val, y_test = train_test_split(X_val_test, y_val_test, test_size = 0.5)\n",
    "\n",
    "# Prepare XGBoost \n",
    "eval_set = [(X_train, y_train), (X_val, y_val)]\n",
    "XGBModel_COOH =  XGBRegressor(learning_rate = 0.1 #learning rate\n",
    "                                , max_depth = 5     #maximum tree depth\n",
    "                                , n_estimators = 500 #number of boosting rounds\n",
    "                                , n_jobs = 8 #number of threads\n",
    "                                , use_label_encoder = False)\n",
    "\n",
    "XGBModel_COOH.fit(X_train, y_train\n",
    "                       , eval_set = eval_set\n",
    "                       , early_stopping_rounds = 5\n",
    "                       , eval_metric = [\"mae\"]\n",
    "                       , verbose = False) #evals\n",
    "\n",
    "# Save model in the /models folder\n",
    "XGBModel_COOH.save_model(\"../models/\"+\"COOH_DFT.model\")\n",
    "\n",
    "learning_curve(XGBModel_COOH)\n",
    "\n",
    "score = XGBModel_COOH.score(X_train, y_train) #Det må man ikke før den er blevet trænet\n",
    "print(\"Training score: \", score)\n",
    "\n",
    "score = XGBModel_COOH.score(X_val, y_val) #Det må man ikke før den er blevet trænet\n",
    "print(\"Validation score: \", score)\n",
    "figure_folder = \"../figures/DeltaG_models\"\n",
    "single_parity_plot(XGBModel_COOH, X_test, y_test, \"COOH\", \"COOH\") ## Maybe I should make a new line with MAE_avg\n",
    "#single_parity_plot(XGBModel_H_Pro, X_test, y_test, \"H\", \"H\")"
   ]
  },
  {
   "cell_type": "code",
   "execution_count": 21,
   "id": "fa915174",
   "metadata": {},
   "outputs": [
    {
     "name": "stderr",
     "output_type": "stream",
     "text": [
      "/Users/marcusnorgaardweng/miniforge3/envs/PUK/lib/python3.10/site-packages/xgboost/data.py:250: FutureWarning: pandas.Int64Index is deprecated and will be removed from pandas in a future version. Use pandas.Index with the appropriate dtype instead.\n",
      "  elif isinstance(data.columns, (pd.Int64Index, pd.RangeIndex)):\n"
     ]
    },
    {
     "data": {
      "image/png": "[encoded data removed]",
      "text/plain": [
       "<Figure size 1000x400 with 1 Axes>"
      ]
     },
     "metadata": {},
     "output_type": "display_data"
    },
    {
     "name": "stdout",
     "output_type": "stream",
     "text": [
      "Training score:  0.9831760140145627\n",
      "Validation score:  0.925897438789119\n"
     ]
    },
    {
     "data": {
      "image/png": "[encoded data removed]",
      "text/plain": [
       "<Figure size 640x480 with 2 Axes>"
      ]
     },
     "metadata": {},
     "output_type": "display_data"
    }
   ],
   "source": [
    "feature_folder = \"../csv_features/\"\n",
    "filename = \"H_DFT_features.csv\"\n",
    "\n",
    "H_df = pd.read_csv(feature_folder + filename)\n",
    "full_df = pd.concat([H_df], axis = 0)\n",
    "all_cols = full_df.columns\n",
    "#Seperate the energies and remove the useless columns\n",
    "\n",
    "X = full_df.loc[:, :all_cols[-4]]\n",
    "y = full_df[[\"G_ads (eV)\"]]\n",
    "\n",
    "# Prepare data for XGBoost\n",
    "\n",
    "#shuffle and split\n",
    "X_train, X_val_test, y_train, y_val_test = train_test_split(X, y, test_size = 0.2)\n",
    "X_val, X_test, y_val, y_test = train_test_split(X_val_test, y_val_test, test_size = 0.5)\n",
    "\n",
    "# Prepare XGBoost \n",
    "eval_set = [(X_train, y_train), (X_val, y_val)]\n",
    "XGBModel_H =  XGBRegressor(learning_rate = 0.1 #learning rate\n",
    "                                , max_depth = 5     #maximum tree depth\n",
    "                                , n_estimators = 500 #number of boosting rounds\n",
    "                                , n_jobs = 8 #number of threads\n",
    "                                , use_label_encoder = False)\n",
    "\n",
    "XGBModel_H.fit(X_train, y_train\n",
    "                       , eval_set = eval_set\n",
    "                       , early_stopping_rounds = 5\n",
    "                       , eval_metric = [\"mae\"]\n",
    "                       , verbose = False) #evals\n",
    "\n",
    "# Save model in the /models folder\n",
    "XGBModel_H.save_model(\"../models/\"+\"H_DFT.model\")\n",
    "\n",
    "learning_curve(XGBModel_H)\n",
    "\n",
    "score = XGBModel_H.score(X_train, y_train) #Det må man ikke før den er blevet trænet\n",
    "print(\"Training score: \", score)\n",
    "\n",
    "score = XGBModel_H.score(X_val, y_val) #Det må man ikke før den er blevet trænet\n",
    "print(\"Validation score: \", score)\n",
    "figure_folder = \"../figures/DeltaG_models\"\n",
    "single_parity_plot(XGBModel_H, X_test, y_test, \"H\", \"H\") ## Maybe I should make a new line with MAE_avg\n",
    "#single_parity_plot(XGBModel_H_Pro, X_test, y_test, \"H\", \"H\")"
   ]
  },
  {
   "cell_type": "code",
   "execution_count": null,
   "id": "bf95bb80",
   "metadata": {},
   "outputs": [],
   "source": []
  }
 ],
 "metadata": {
  "kernelspec": {
   "display_name": "Python 3 (ipykernel)",
   "language": "python",
   "name": "python3"
  },
  "language_info": {
   "codemirror_mode": {
    "name": "ipython",
    "version": 3
   },
   "file_extension": ".py",
   "mimetype": "text/x-python",
   "name": "python",
   "nbconvert_exporter": "python",
   "pygments_lexer": "ipython3",
   "version": "3.10.8"
  }
 },
 "nbformat": 4,
 "nbformat_minor": 5
}
