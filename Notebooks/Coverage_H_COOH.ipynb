{
 "cells": [
  {
   "cell_type": "markdown",
   "id": "322c29fc",
   "metadata": {},
   "source": [
    "# H + COOH Coverage"
   ]
  },
  {
   "cell_type": "markdown",
   "id": "4b869679",
   "metadata": {},
   "source": [
    "#### Imports"
   ]
  },
  {
   "cell_type": "code",
   "execution_count": 19,
   "id": "e11fd22b",
   "metadata": {},
   "outputs": [],
   "source": [
    "import numpy as np\n",
    "import matplotlib.pyplot as plt\n",
    "import xgboost as xgb\n",
    "import csv\n",
    "import time\n",
    "\n",
    "np.random.seed(1)"
   ]
  },
  {
   "cell_type": "markdown",
   "id": "82957ebe",
   "metadata": {},
   "source": [
    "#### Load energy prediction models"
   ]
  },
  {
   "cell_type": "code",
   "execution_count": 19,
   "id": "0a00a4fd",
   "metadata": {},
   "outputs": [],
   "source": [
    "#### Load models\n",
    "#hollow_site_model = xgb.Booster({'nthread': 8})\n",
    "#hollow_site_model.load_model(\"../models/\"+\"Hollow_site.model\")\n",
    "\n",
    "#on_top_site_model = xgb.Booster({'nthread': 8})\n",
    "#on_top_site_model.load_model(\"../models/\"+\"on_top_site.model\")\n",
    "\n",
    "#models = {\"H\": hollow_site_model, \"COOH\": on_top_site_model}"
   ]
  },
  {
   "cell_type": "markdown",
   "id": "2dc690c5",
   "metadata": {},
   "source": [
    "#### Setup"
   ]
  },
  {
   "cell_type": "code",
   "execution_count": 48,
   "id": "19474bc0",
   "metadata": {},
   "outputs": [],
   "source": [
    "# Size of the surface\n",
    "dim_x, dim_y = 100, 100\n",
    "\n",
    "# Metals\n",
    "metals = ['Ag', 'Au', 'Cu', 'Pd', 'Pt']\n",
    "\n",
    "# Other parameters (Coming)\n",
    "# Voltages\n",
    "start = 0.025\n",
    "end = 1.05\n",
    "scan_rate = 0.010\n",
    "\n",
    "## Define the simulation name for the log file\n",
    "log_folder = \"../Coverage_logs/\"\n",
    "simulation_name = \"test_log\""
   ]
  },
  {
   "cell_type": "markdown",
   "id": "53ef2570",
   "metadata": {},
   "source": [
    "### Run the simulation\n",
    "#### Seperate H and COOH - Precompute all binding energies "
   ]
  },
  {
   "cell_type": "code",
   "execution_count": 55,
   "id": "ab21c3f7",
   "metadata": {},
   "outputs": [],
   "source": [
    "## Create the log file with column names\n",
    "column_names = ['Adsorbate', 'Action', 'Gibbs E', 'Border_voltage', 'Voltage', 'Index x', 'Index y', 'Timestamp']\n",
    "create_log_file(log_folder + simulation_name + \".csv\", column_names)\n",
    "\n",
    "## Create the surface with: 'atoms', 'ads_top', 'ads_hol', 'COOH_G', 'H_G', 'COOH_V', 'H_V'\n",
    "surface = initialize_surface(dim_x, dim_y) # Combined with the occupance matrix in a dictionary\n",
    "\n",
    "## Precompute all binding energies\n",
    "models = \"_\" #Put this here, when just using the quick and easy random guesses for G's. Now we can continue on the simulation!\n",
    "surface = precompute_binding_energies(surface, dim_x, dim_y, models, predict_G_TEST)\n",
    "\n",
    "start_time = time.time()\n",
    "\n",
    "## Set a voltage\n",
    "for voltage in voltage_sweep(start, end, scan_rate): # Approximates the desired scan rate\n",
    "    \n",
    "    ## Look through the whole surface, both adsorbates, and ad/desorb as it should.\n",
    "    surface = decision_to_leave(voltage, dim_x, dim_y, surface) ## I could REMOVE or ADD stuff right here for simplicity. I guess ideally I would add the most negative energy first, but if I just do small steps in voltage it shouldn't matter. I can avoid a huge complication by doing it like this\n",
    "    \n",
    "    ## Log stats of the surface\n",
    "    \n",
    "    "
   ]
  },
  {
   "cell_type": "code",
   "execution_count": null,
   "id": "966015c5",
   "metadata": {},
   "outputs": [],
   "source": [
    "## I should probably have a log that saves for each voltage: the voltage, the number of adsorbates, number of neighbours "
   ]
  },
  {
   "cell_type": "markdown",
   "id": "4652e9e0",
   "metadata": {},
   "source": [
    "#### Plot the statistics"
   ]
  },
  {
   "cell_type": "code",
   "execution_count": null,
   "id": "4fda0875",
   "metadata": {},
   "outputs": [],
   "source": [
    "# Make a nice plot showing how many neighbours, etc. there are at each voltage"
   ]
  },
  {
   "cell_type": "markdown",
   "id": "88194a1e",
   "metadata": {},
   "source": [
    "#### Functions (To be moved to seperate .py file)"
   ]
  },
  {
   "cell_type": "code",
   "execution_count": 54,
   "id": "000977fa",
   "metadata": {},
   "outputs": [],
   "source": [
    "def initialize_surface(dim_x, dim_y): #Is still random - could be used with a seed in the name of reproduceability\n",
    "    dim_z = 3\n",
    "    surface_list = np.array([int(dim_x*dim_y*dim_z/len(metals))*[metals[metal_number]] for metal_number in range(len(metals))]).flatten() #Jack had a way shorter way of doing this, but I think it was random drawing instead of ensuring a perfectly even split\n",
    "    np.random.shuffle(surface_list) #Shuffle list\n",
    "    surf_atoms = np.reshape(surface_list, (dim_x, dim_y, dim_z)) #Reshape list to the\n",
    "    \n",
    "    # Adsorbates\n",
    "    surf_ads_top = np.reshape([\"empty\"]*dim_x*dim_y, (dim_x, dim_y))\n",
    "    surf_ads_hol = np.reshape([\"empty\"]*dim_x*dim_y, (dim_x, dim_y))\n",
    "    \n",
    "    # Binding energies\n",
    "    surf_COOH_G = np.reshape([np.nan]*dim_x*dim_y, (dim_x, dim_y))# On-top sites\n",
    "    surf_H_G    = np.reshape([np.nan]*dim_x*dim_y, (dim_x, dim_y))# On-top sites# Hollow sites\n",
    "    \n",
    "    # Ad/desorbs at voltage (At which voltage is the binding energy 0?)\n",
    "    surf_COOH_V = np.reshape([np.nan]*dim_x*dim_y, (dim_x, dim_y))# On-top sites\n",
    "    surf_H_V    = np.reshape([np.nan]*dim_x*dim_y, (dim_x, dim_y))# On-top sites# Hollow sites\n",
    "    \n",
    "    surf = {\"atoms\": surf_atoms, \"ads_top\": surf_ads_top, \"ads_hol\": surf_ads_top, \"COOH_G\": surf_COOH_G, \"H_G\": surf_H_G, \"COOH_V\": surf_COOH_V, \"H_V\": surf_H_V}\n",
    "    return surf\n",
    "\n",
    "def voltage_sweep(start, end, scan_rate):\n",
    "    return np.linspace(start, end, int(np.abs(start - end) / scan_rate))\n",
    "\n",
    "#def voltage_circle\n",
    "#def voltage_up_down (All these could be worked into a single function)\n",
    "\n",
    "def predict_G(ads, site_x, site_y, surface, models):\n",
    "    \"\"\"This function returns the predicted binding energy without taking the voltage into account\"\"\"\n",
    "    # Make vectors from the surface structure\n",
    "    if ads == \"H\":\n",
    "        input_vector = hollow_site_vector(surface[\"atoms\"], site_x, site_y)\n",
    "    if ads == \"COOH\":\n",
    "        input_vector = on_top_site_vector(surface[\"atoms\"], site_x, site_y)\n",
    "    \n",
    "    # Use the gibbs free energy prediction model\n",
    "    G = models[ads].predict(input_vector) #Check out, that this is the way to input\n",
    "\n",
    "    return G\n",
    "\n",
    "def predict_G_TEST(ads, site_x, site_y, surface, models):\n",
    "    if ads == \"H\":\n",
    "        G = np.random.normal(0.25, 0.5) #mean 0.25 eV 1 sigma spread omkring 0.5 eV\n",
    "    if ads == \"COOH\":\n",
    "        G = np.random.normal(1.53, 0.44)\n",
    "    return G\n",
    "\n",
    "def calc_V_border(ads, G):\n",
    "    \"\"\"This function returns the border-voltage, at which the adsorbate adsorbs or desorbs\"\"\"\n",
    "    \n",
    "    if ads == \"H\":\n",
    "        V_border = - G\n",
    "    if ads == \"COOH\":\n",
    "        V_border = G\n",
    "    \n",
    "    return V_border\n",
    "\n",
    "def decision_to_leave(voltage, dim_x, dim_y, surface):\n",
    "    \"\"\"This function looks through all sites and both adsorbates and determines, based on the precomputed binding energies and border voltages\n",
    "       The function also adsorbs and desorbs or does nothing, whichever is appropriate, and returns the surface.\n",
    "       When an adsorbate is adsorbed or desorbed, a line is written to a log file. This is done in order to make debugging possible later, if needed\"\"\"\n",
    "    \n",
    "    ## Look through all sites (not bridge sites yet) by index\n",
    "    for site_x, site_y in [(x, y) for x in range(dim_x) for y in range(dim_y)]:\n",
    "        \n",
    "        ## Look at both adsorbates\n",
    "        for ads in [\"H\", \"COOH\"]: #These 5 lines could actually be done in 1 line (with zip), but this is more readable\n",
    "            if ads == \"H\":\n",
    "                site_type = \"ads_hol\"\n",
    "            if ads == \"COOH\":\n",
    "                site_type = \"ads_top\"\n",
    "                \n",
    "            ## What is sitting at the site currently?\n",
    "            ads_current = surface[site_type][site_x][site_y] #OOPS - We need to look at the appropriate site, hence the \"site_type\" variable\n",
    "\n",
    "            ## Is the adsorbant there?\n",
    "            is_ads_there = surface[site_type][site_x][site_y] != \"empty\"\n",
    "            # Is something supposed to be there?\n",
    "            if ads == \"H\":\n",
    "                V_border = surface[\"H_V\"][site_x][site_y]\n",
    "                supposed_to  = voltage < V_border\n",
    "            if ads == \"COOH\":\n",
    "                V_border = surface[\"COOH_V\"][site_x][site_y]\n",
    "                supposed_to  = voltage > V_border\n",
    "            \n",
    "            # Now there is four options\n",
    "            ## The two, where everything is, as it is supposed to be: #if is_ads_there == supposed_to: do nothing\n",
    "            \n",
    "            # The option where the adsorbate is not there, but it should be:\n",
    "            if (is_ads_there == False) and (supposed_to == True):\n",
    "                # Adsorb the adsorbates\n",
    "                surface[site_type][site_x][site_y] = ads\n",
    "                ## Write to log:\n",
    "                # column_names = ['Adsorbate', 'Action',    'Gibbs E',                          'Border_voltage',                 'Voltage','Index x', 'Index y', 'Timestamp']\n",
    "                data =           [ads,         \"adsorption\", surface[ads+\"_G\"][site_x, site_y], surface[ads+\"_V\"][site_x, site_y], voltage,  site_x,    site_y, start_time - time.time()]\n",
    "                append_to_log_file(log_folder + simulation_name + \".csv\", data)\n",
    "            \n",
    "            # The option where the adsorbate is there, and it should not be:\n",
    "            if (is_ads_there == True) and (supposed_to == False):\n",
    "                # Adsorb the adsorbates\n",
    "                surface[site_type][site_x][site_y] = ads\n",
    "                # Write to log:\n",
    "                 # column_names = ['Adsorbate', 'Action',    'Gibbs E',                          'Border_voltage',                 'Voltage','Index x', 'Index y', 'Timestamp']\n",
    "                data =           [ads,         \"desorption\", surface[ads+\"_G\"][site_x, site_y], surface[ads+\"_V\"][site_x, site_y], voltage,  site_x,    site_y, start_time - time.time()]\n",
    "                append_to_log_file(log_folder + simulation_name + \".csv\", data)\n",
    "    \n",
    "    return surface\n",
    "\n",
    "def precompute_binding_energies(surface, dim_x, dim_y, models, predict_G_function):\n",
    "    for x, y in [(x, y) for x in range(dim_x) for y in range(dim_y)]: # I could randomise this, so I go through all sites in a random order\n",
    "        ## What is the binding energy # With more adsorbates in future can be exchanged for a loop through the adsorbates\n",
    "        ads = \"H\"\n",
    "        surface[\"H_G\"][x][y] = predict_G_function(ads = ads, site_x = x, site_y = y, surface = surface, models = models) ## A new function that wraps/uses the XGBoost model\n",
    "        surface[\"H_V\"][x][y] = calc_V_border(ads = ads, G = surface[\"H_G\"][x][y])\n",
    "        \n",
    "    for x, y in [(x, y) for x in range(dim_x) for y in range(dim_y)]:\n",
    "        ads = \"COOH\"\n",
    "        surface[\"COOH_G\"][x][y] = predict_G_function(ads = ads, site_x = x, site_y = y, surface = surface, models = models) ## A new function that wraps/uses the XGBoost model\n",
    "        surface[\"COOH_V\"][x][y] = calc_V_border(ads = ads, G = surface[\"COOH_G\"][x][y])\n",
    "\n",
    "    return surface\n",
    "\n",
    "def count_pairs(surface):\n",
    "    \n",
    "    return pairs\n",
    "\n",
    "def create_log_file(file_name, column_names):\n",
    "    with open(file_name, 'w', newline='') as csvfile:\n",
    "        writer = csv.writer(csvfile)\n",
    "        writer.writerow(column_names)\n",
    "    return None\n",
    "\n",
    "def append_to_log_file(file_name, data):\n",
    "    with open(file_name, 'a', newline='') as csvfile:\n",
    "        writer = csv.writer(csvfile)\n",
    "        writer.writerow(data)\n",
    "    return None"
   ]
  },
  {
   "cell_type": "code",
   "execution_count": 45,
   "id": "9c7f3c1a",
   "metadata": {},
   "outputs": [
    {
     "name": "stdout",
     "output_type": "stream",
     "text": [
      "[[ 0.17280566 -0.19968336  0.42750619 ...  0.79594875 -0.04074284\n",
      "   0.55083234]\n",
      " [ 0.38837039 -0.1737978   0.52458573 ...  0.85998104 -0.16502527\n",
      "  -0.01095899]\n",
      " [-0.22112595  0.52970486 -0.14779448 ...  0.54425517  0.15235065\n",
      "   0.87593994]\n",
      " ...\n",
      " [-0.03961668  0.13187917  0.30173726 ... -0.11850723  1.5944644\n",
      "   0.49193473]\n",
      " [ 0.45507857  0.93111877  0.06668144 ...  0.22764701  1.08070272\n",
      "   0.0991517 ]\n",
      " [ 0.6149974  -0.17856406  0.78286791 ... -1.81847171  0.00651988\n",
      "   1.5217975 ]]\n"
     ]
    },
    {
     "data": {
      "text/plain": [
       "dict_keys(['atoms', 'ads_top', 'ads_hol', 'COOH_G', 'H_G', 'COOH_V', 'H_V'])"
      ]
     },
     "execution_count": 45,
     "metadata": {},
     "output_type": "execute_result"
    }
   ],
   "source": [
    "ads = \"H\"\n",
    "print(surface[ads+\"_G\"])\n",
    "surface.keys()"
   ]
  },
  {
   "cell_type": "markdown",
   "id": "ff02b5ec",
   "metadata": {},
   "source": [
    "#### Just quickly checking how the energies look"
   ]
  },
  {
   "cell_type": "code",
   "execution_count": 30,
   "id": "74e6d133",
   "metadata": {},
   "outputs": [
    {
     "name": "stdout",
     "output_type": "stream",
     "text": [
      "Mean: 1.5326902202380952\n",
      "Spread (Standard Deviation): 0.4410240645509031\n"
     ]
    }
   ],
   "source": [
    "import csv\n",
    "import statistics\n",
    "\n",
    "# Specify the file path and name\n",
    "csv_file = '../csv_features/COOH_features.csv'\n",
    "\n",
    "# Specify the target column header\n",
    "target_column = \"G_ads (eV)\"\n",
    "\n",
    "# Open the .csv file and read its contents using list comprehension\n",
    "with open(csv_file, 'r') as file:\n",
    "    # Create a CSV reader object\n",
    "    reader = csv.DictReader(file)\n",
    "    \n",
    "    # Extract the values of the target column using list comprehension\n",
    "    target_values = [float(row[target_column]) for row in reader]\n",
    "\n",
    "# Calculate the mean and spread (standard deviation) of the target values\n",
    "mean = statistics.mean(target_values)\n",
    "spread = statistics.stdev(target_values)\n",
    "\n",
    "# Print the mean and spread\n",
    "print(\"Mean:\", mean)\n",
    "print(\"Spread (Standard Deviation):\", spread)"
   ]
  },
  {
   "cell_type": "code",
   "execution_count": 28,
   "id": "b3da8a56",
   "metadata": {},
   "outputs": [],
   "source": [
    "import csv\n",
    "\n",
    "# Specify the file path and name\n",
    "csv_file = '../csv_features/COOH_features.csv'\n",
    "\n",
    "# Open the .csv file and read its contents\n",
    "with open(csv_file, 'r') as file:\n",
    "    # Create a CSV reader object\n",
    "    reader = csv.DictReader(file)\n",
    "    \n",
    "    # Extract the header names\n",
    "    header_names = reader.fieldnames\n",
    "\n",
    "# Now you have the header names in the header_names list\n"
   ]
  },
  {
   "cell_type": "code",
   "execution_count": 29,
   "id": "8d6fd9e6",
   "metadata": {},
   "outputs": [
    {
     "data": {
      "text/plain": [
       "['feature0',\n",
       " 'feature1',\n",
       " 'feature2',\n",
       " 'feature3',\n",
       " 'feature4',\n",
       " 'feature5',\n",
       " 'feature6',\n",
       " 'feature7',\n",
       " 'feature8',\n",
       " 'feature9',\n",
       " 'feature10',\n",
       " 'feature11',\n",
       " 'feature12',\n",
       " 'feature13',\n",
       " 'feature14',\n",
       " 'feature15',\n",
       " 'feature16',\n",
       " 'feature17',\n",
       " 'feature18',\n",
       " 'feature19',\n",
       " 'G_ads(eV)',\n",
       " 'slab db row',\n",
       " 'COOH_C_adsorbed_out.dbrow']"
      ]
     },
     "execution_count": 29,
     "metadata": {},
     "output_type": "execute_result"
    }
   ],
   "source": [
    "header_names"
   ]
  },
  {
   "cell_type": "markdown",
   "id": "6d7b8dab",
   "metadata": {},
   "source": [
    "#### Logik\n",
    "\n",
    "Oh shit, kunne man ikke bare predicte alle energier én gang? Det er simpelt i den model, hvor ingen nabointeraktioner tages med. Der skal også komme en model, som tager højde for H og COOH ved siden af hinanden. Men der kunne alle sites og så vinkel i alle retninger gemmes i et look-up table. Så predicter man først alle energier én gang, og så har man bare gemt en matrix med de spændinger, som ville få et adsorbat til at hoppe på/af.\n",
    "\n",
    "Måske gem alle.\n",
    "\n",
    "I surface dict kan jeg bare gemme ekstra lag, som hedder H_G, H_Voltage (hvor hvis voltage er UNDER hopper den på) og samme med COOH_G og COOH_Voltage (Hvor hvis voltage er OVER hopper den på) Så kan alt det preprocessing laves inden man \"kører simulationen\", som så bliver utroligt simpelt. Oh shit et speedup det kan blive til.\n",
    "\n",
    "Hvad er logikken når man sætter en *H ved siden af en *COOH eller en *COOH ved siden af en *H?\n",
    "Skal man for hver H der allerede sidder se, om der gerne vil sætte sig en COOH ved siden af, med den model der tager højde for begge?\n",
    "ELLER\n",
    "Skal sitet til en COOH ved siden af en *H som allerede sidder der først være favorabelt for en COOH, og så tjekker man med *H+*COOH-modellen om det er favorabelt, når man tager højde for nabointeraktion gennem modellen?"
   ]
  },
  {
   "cell_type": "code",
   "execution_count": 30,
   "id": "52cc4a6b",
   "metadata": {
    "collapsed": true
   },
   "outputs": [
    {
     "data": {
      "text/plain": [
       "0.20500000000000002"
      ]
     },
     "execution_count": 30,
     "metadata": {},
     "output_type": "execute_result"
    }
   ],
   "source": [
    "np.abs(start - end) / number of numbers = scan_rate"
   ]
  }
 ],
 "metadata": {
  "kernelspec": {
   "display_name": "Python 3 (ipykernel)",
   "language": "python",
   "name": "python3"
  },
  "language_info": {
   "codemirror_mode": {
    "name": "ipython",
    "version": 3
   },
   "file_extension": ".py",
   "mimetype": "text/x-python",
   "name": "python",
   "nbconvert_exporter": "python",
   "pygments_lexer": "ipython3",
   "version": "3.10.8"
  }
 },
 "nbformat": 4,
 "nbformat_minor": 5
}
