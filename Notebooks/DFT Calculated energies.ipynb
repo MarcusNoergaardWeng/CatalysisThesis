{
 "cells": [
  {
   "attachments": {},
   "cell_type": "markdown",
   "id": "ed378c55",
   "metadata": {},
   "source": [
    "# DFT calculated energies"
   ]
  },
  {
   "attachments": {},
   "cell_type": "markdown",
   "id": "1f632684",
   "metadata": {},
   "source": [
    "#### Imports"
   ]
  },
  {
   "cell_type": "code",
   "execution_count": 46,
   "id": "d7f1f23d",
   "metadata": {},
   "outputs": [],
   "source": [
    "import matplotlib.pyplot as plt\n",
    "import matplotlib.ticker as ticker\n",
    "import matplotlib.patches as patches\n",
    "import numpy as np\n",
    "from ase.db import connect\n",
    "import sys\n",
    "import pandas as pd\n",
    "from sklearn.model_selection import train_test_split;\n",
    "import xgboost as xgb\n",
    "from xgboost import XGBRegressor;\n",
    "import time\n",
    "from tqdm.notebook import tqdm\n",
    "import warnings\n",
    "warnings.simplefilter(action='ignore', category=FutureWarning)\n",
    "from collections import Counter\n",
    "\n",
    "figure_folder = \"../figures/DFT_calc_energies/\"\n",
    "DFT_folder = \"../DFT_data/\"\n",
    "db_folder = \"../DFT_data/\"\n",
    "# The COOH Pt data is in \"single_element_COOH_C_adsorbed_out.db\"\n",
    "db_name_SE_COOH = \"single_element_COOH_C_adsorbed_out.db\"\n",
    "# THe H data is in \"single_element_H_out.db\"\n",
    "db_name_SE_H = \"single_element_H_out.db\"\n",
    "db_name_SE = \"single_element_slabs_out.db\"\n",
    "\n",
    "sys.path.append('../scripts')\n",
    "from Slab import expand_triangle, Slab, inside_triangle\n",
    "from FeatureReader import OntopStandard111, FccStandard111\n",
    "from ase.db import connect\n",
    "from ase.visualize import view\n",
    "\n",
    "features_folder = \"../csv_features/\"\n",
    "\n",
    "import sys\n",
    "import os\n",
    "\n",
    "# Define the path to the folder containing the functions.py file\n",
    "path_to_functions = \"../scripts/functions.py\"\n",
    "\n",
    "# Get the absolute path of the functions.py file\n",
    "absolute_path = os.path.abspath(path_to_functions)\n",
    "\n",
    "# Add the folder containing the functions.py file to the module search path\n",
    "sys.path.append(os.path.dirname(absolute_path))\n",
    "\n",
    "# Now you can import the learning_curve function from functions.py\n",
    "from functions import learning_curve, single_parity_plot\n",
    "\n",
    "#Load H binding energy prediction model\n",
    "H_DFT_model = xgb.Booster({'nthread': 8})\n",
    "H_DFT_model.load_model(\"../models/\"+\"H_DFT.model\")\n",
    "\n",
    "#Load COOH binding energy prediction model\n",
    "COOH_DFT_model = xgb.Booster({'nthread': 8})\n",
    "COOH_DFT_model.load_model(\"../models/\"+\"COOH_DFT.model\")\n",
    "\n",
    "models = {\"H\": H_DFT_model, \"COOH\": COOH_DFT_model}\n",
    "\n",
    "# Specify metal colors\n",
    "metal_colors = dict(Pt = '#babbcb',\n",
    "                    #Ru = '#f4973a',\n",
    "                    #Rh = '#1797d3',\n",
    "                    #Ir = '#a5bc16',\n",
    "                    #Re = '#901e64',\n",
    "                    #Os = '#154c72',\n",
    "                    Pd = '#1f8685',\n",
    "                    Ag = '#c3cdd6',\n",
    "                    Cu = '#B87333',\n",
    "                    Au = '#fdd766')"
   ]
  },
  {
   "attachments": {},
   "cell_type": "markdown",
   "id": "2286dce0",
   "metadata": {},
   "source": [
    "#### Chan numbers"
   ]
  },
  {
   "cell_type": "code",
   "execution_count": 11,
   "id": "524e4d78",
   "metadata": {},
   "outputs": [],
   "source": [
    "# Free (eV)\n",
    "CO2   = {\"ZPE\": 0.31, \"CpdT\": 0.10, \"minusTS\": -0.66, \"TS\": 0.66}\n",
    "CO    = {\"ZPE\": 0.13, \"CpdT\": 0.09, \"minusTS\": -0.61, \"TS\": 0.61}\n",
    "H2    = {\"ZPE\": 0.28, \"CpdT\": 0.09, \"minusTS\": -0.40, \"TS\": 0.40}\n",
    "H2O   = {\"ZPE\": 0.57, \"CpdT\": 0.10, \"minusTS\": -0.67, \"TS\": 0.67}\n",
    "HCOOH = {\"ZPE\": 0.90, \"CpdT\": 0.11, \"minusTS\": -0.99, \"TS\": 0.99}\n",
    "#Slab = {\"ZPE\": 0.00, \"CpdT\": 0.00, \"minusTS\": -0.00} #Holy moly, den her overskrev Slab funktionen\n",
    "\n",
    "# *Bound to the surface (eV)\n",
    "# Bidentate *OOCH?\n",
    "bound_CO   = {\"ZPE\": 0.19, \"CpdT\": 0.08, \"minusTS\": -0.16, \"TS\": 0.16}\n",
    "bound_OH   = {\"ZPE\": 0.36, \"CpdT\": 0.05, \"minusTS\": -0.08, \"TS\": 0.08}\n",
    "bound_OCHO = {\"ZPE\": 0.62, \"CpdT\": 0.11, \"minusTS\": -0.24, \"TS\": 0.24} #Either bidentate or monodentate. Use for both for now\n",
    "bound_O    = {\"ZPE\": 0.07, \"CpdT\": 0.03, \"minusTS\": -0.04, \"TS\": 0.04}\n",
    "bound_COOH = {\"ZPE\": 0.62, \"CpdT\": 0.10, \"minusTS\": -0.19, \"TS\": 0.19}\n",
    "bound_H    = {\"ZPE\": 0.23, \"CpdT\": 0.01, \"minusTS\": -0.01, \"TS\": 0.01}\n",
    "\n",
    "# Approximation Factors (FA)\n",
    "AF = {\"CO2\": CO2, \"CO\": CO, \"H2\": H2, \"H2O\": H2O, \"HCOOH\": HCOOH, \\\n",
    "      \"bound_CO\": bound_CO, \"bound_OH\": bound_OH, \"bound_OCHO\": bound_OCHO, \\\n",
    "      \"bound_O\": bound_O, \"bound_COOH\": bound_COOH, \"bound_H\": bound_H}\n",
    "\n",
    "# This is from the molecules_out.db file\n",
    "molecules_dict = {'CO': -12.848598765234707,\\\n",
    " 'CO2': -19.15168636258064,\\\n",
    " 'CH2O2': -25.7548327798152,\\\n",
    " 'C2H4O2': -41.95993780269195,\\\n",
    " 'H2': -6.67878491734772,\\\n",
    " 'H2O': -12.225511685485456,\\\n",
    " 'CH2O': -19.92286258910958,\\\n",
    " 'CH4O': -27.652189372849637,\\\n",
    " 'C2H6O': -43.67355392866396,\\\n",
    " 'C2H2O2': -32.92328015484662,\\\n",
    " 'C2H2O4': -44.117581976029946}"
   ]
  },
  {
   "attachments": {},
   "cell_type": "markdown",
   "id": "3e88c76b",
   "metadata": {},
   "source": [
    "#### Plotting"
   ]
  },
  {
   "attachments": {},
   "cell_type": "markdown",
   "id": "42e1c742",
   "metadata": {},
   "source": [
    "#### Fetching DFT data"
   ]
  },
  {
   "cell_type": "code",
   "execution_count": 5,
   "id": "95027e90",
   "metadata": {},
   "outputs": [],
   "source": [
    "SE_COOH_metals = []\n",
    "SE_COOH_energies = []\n",
    "\n",
    "with connect(f'{DFT_folder}{db_name_SE_COOH}') as db_COOH:\n",
    "    for row_slab in db_COOH.select('energy'):\n",
    "        SE_COOH_energies.append(row_slab.energy)\n",
    "        SE_COOH_metals.append(row_slab.formula[0:2])\n",
    "\n",
    "SE_H_metals = []\n",
    "SE_H_energies = []\n",
    "\n",
    "with connect(f'{DFT_folder}{db_name_SE_H}') as db_H:\n",
    "    for row_slab in db_H.select('energy'):\n",
    "        SE_H_energies.append(row_slab.energy)\n",
    "        SE_H_metals.append(row_slab.formula[0:2])\n",
    "           \n",
    "SE_slab_metals = []\n",
    "SE_slab_energies = []\n",
    "\n",
    "with connect(f'{DFT_folder}{db_name_SE}') as db_slab:\n",
    "    for row_slab in db_slab.select('energy'):\n",
    "        SE_slab_energies.append(row_slab.energy)\n",
    "        SE_slab_metals.append(row_slab.formula[0:2])"
   ]
  },
  {
   "attachments": {},
   "cell_type": "markdown",
   "id": "05d3b083",
   "metadata": {},
   "source": [
    "#### Subtracting the slabs"
   ]
  },
  {
   "cell_type": "code",
   "execution_count": 6,
   "id": "478f86ee",
   "metadata": {},
   "outputs": [],
   "source": [
    "DeltaE_COOH = np.array(SE_COOH_energies) - np.array(SE_slab_energies) - molecules_dict[\"CO2\"] - 1/2*molecules_dict[\"H2\"]\n",
    "DeltaE_H = np.array(SE_H_energies) - np.array(SE_slab_energies) - 1/2*molecules_dict[\"H2\"]"
   ]
  },
  {
   "attachments": {},
   "cell_type": "markdown",
   "id": "e378a6d8",
   "metadata": {},
   "source": [
    "#### Plotting energies from single elements"
   ]
  },
  {
   "cell_type": "code",
   "execution_count": 7,
   "id": "df536c5c",
   "metadata": {},
   "outputs": [
    {
     "data": {
      "image/png": "[encoded data removed]",
      "text/plain": [
       "<Figure size 600x600 with 1 Axes>"
      ]
     },
     "metadata": {},
     "output_type": "display_data"
    }
   ],
   "source": [
    "# Create a figure and axes\n",
    "fig, ax = plt.subplots(figsize = (6, 6))\n",
    "\n",
    "# Set the limits for both x and y axes\n",
    "ax.set_xlim(-0.6, 1.1)\n",
    "ax.set_ylim(-0.6, 1.1)\n",
    "\n",
    "## Set the major ticks and tick labels\n",
    "#ax.set_xticks([-0.5, -0.25, 0, 0.25, 0.5, 0.75, 1.0])\n",
    "#ax.set_xticklabels([-0.5, '', 0, '', 0.5, '', 1.0])\n",
    "#ax.set_yticks([-0.5, -0.25, 0, 0.25, 0.5, 0.75, 1.0])\n",
    "#ax.set_yticklabels([-0.5, '', 0, '', 0.5, '', 1.0])\n",
    "\n",
    "# Set the major ticks and tick labels\n",
    "ax.set_xticks([-0.5, 0, 0.5, 1.0])\n",
    "ax.set_xticklabels([-0.5, 0, 0.5, 1.0])\n",
    "ax.set_yticks([-0.5, 0, 0.5, 1.0])\n",
    "ax.set_yticklabels([-0.5, 0, 0.5, 1.0])\n",
    "\n",
    "# Set the grid lines\n",
    "ax.grid(which='both', linestyle=':', linewidth=0.5, color='gray')\n",
    "\n",
    "ax.set_title(\"DFT calculated energies for single metals fcc(111)\")\n",
    "ax.set_xlabel(\"$\\Delta E_{^*H}$ [eV]\")\n",
    "ax.set_ylabel(\"$\\Delta E_{^*COOH}$ [eV]\")\n",
    "\n",
    "for i, metal in enumerate(SE_slab_metals):\n",
    "        ax.scatter(DeltaE_H[i], DeltaE_COOH[i], label = \"Pure \"+metal, marker = \"o\", c = metal_colors[metal], edgecolors='black')\n",
    "    \n",
    "if True:\n",
    "    # Create a rectangle patch\n",
    "    rect = patches.Rectangle((0, 0), 1.1, -0.6, linewidth=1, edgecolor='none', facecolor='green', alpha = 0.1)\n",
    "\n",
    "    # Add the rectangle to the plot\n",
    "    ax.add_patch(rect)\n",
    "    \n",
    "    label_text = f'Optimal area' #This can show how many points are in there as well\n",
    "    label_x = 0.55\n",
    "    label_y = -0.3\n",
    "    ax.text(label_x, label_y, label_text, ha='center', va='center', fontsize=12)\n",
    "\n",
    "ax.legend()\n",
    "plt.savefig(\"../figures/DFT_calc_energies/\"+\"Single_Metals\"+\".png\", dpi = 600, bbox_inches = \"tight\")\n",
    "plt.show()"
   ]
  },
  {
   "attachments": {},
   "cell_type": "markdown",
   "id": "8e21b175",
   "metadata": {},
   "source": [
    "### Plotting predicted energies from custom surface"
   ]
  },
  {
   "cell_type": "code",
   "execution_count": 83,
   "id": "2bf431fe",
   "metadata": {},
   "outputs": [
    {
     "data": {
      "application/vnd.jupyter.widget-view+json": {
       "model_id": "12db1f3818bd47faa8eba349fda91464",
       "version_major": 2,
       "version_minor": 0
      },
      "text/plain": [
       "Predicting all ΔG:   0%|          | 0/10000 [00:00<?, ?it/s]"
      ]
     },
     "metadata": {},
     "output_type": "display_data"
    }
   ],
   "source": [
    "# Maybe I should have a smart kind of plot, where, when you hover over it, it shows the xy coordinates and you can go check what it looks like. I even have a function from the swimming ring thing that can plot nice circles from a 2by2 surface\n",
    "\n",
    "## This routine includes: \n",
    "\n",
    "# Initialize a surface from a given stochiometry\n",
    "dim_x, dim_y, metals, split = 100, 100, ['Ag', 'Au', 'Cu', 'Pd', 'Pt'], [0.2 , 0.2 , 0.2 , 0.2 , 0.2 ]\n",
    "#dim_x, dim_y, metals, split = 100, 100, ['Ag', 'Au', 'Cu', 'Pd', 'Pt'], [0.25 , 0.25 , 0.25 , 0.0 , 0.25 ]\n",
    "#dim_x, dim_y, metals, split = 100, 100, ['Ag', 'Au', 'Cu', 'Pd', 'Pt'], [0.0 , 6/7 , 0.0 , 0.0 , 1/7 ]\n",
    "#dim_x, dim_y, metals, split = 100, 100, ['Ag', 'Au', 'Cu', 'Pd', 'Pt'], [0.1 , 0.9/4 , 0.9/4 , 0.9/4 , 0.9/4 ]\n",
    "#dim_x, dim_y, metals, split = 100, 100, ['Ag', 'Au', 'Cu', 'Pd', 'Pt'], [0.1 , 0.1 , 0.1 , 0.1 , 0.6 ]\n",
    "#dim_x, dim_y, metals, split = 100, 100, ['Ag', 'Au', 'Cu', 'Pd', 'Pt'], np.array([0.6622070729215169, 1.0, 0.0, 0.5082185800752432, 0.491848345744174])/np.sum([0.6622070729215169, 1.0, 0.0, 0.5082185800752432, 0.491848345744174])\n",
    "# Stochiometry from 360 its of 50x50 surface\n",
    "dim_x, dim_y, metals, split = 100, 100, ['Ag', 'Au', 'Cu', 'Pd', 'Pt'], np.array([1.0, 1.0, 0.0, 0.7950849480735558, 0.6924853871907949])/np.sum([1.0, 1.0, 0.0, 0.7950849480735558, 0.6924853871907949])\n",
    "\n",
    "stochiometry = dict(zip(metals, split))\n",
    "surface = initialize_surface(dim_x, dim_y, metals, split)\n",
    "\n",
    "# Predict energies on all sites for both adsorbates\n",
    "surface = precompute_binding_energies_TQDM(surface, dim_x, dim_y, models, predict_G)"
   ]
  },
  {
   "attachments": {},
   "cell_type": "markdown",
   "id": "55817273",
   "metadata": {},
   "source": [
    "#### Sort the energies into piles that come from the same top-site metal\n",
    "\n",
    "The \\*COOH adsorbates sit on top-sites, where a single atom is the primary influence on the binding energy. They are surrounded by \\*H adsorbates in hollow-sites, where three atoms are the primary influence on the binding energy.\n",
    "\n",
    "In the following plot, two energies have to be paired. All pairs between on-top site and hollow site will be plotted. This will result in 3 points per on-top site, one with each neighbour.\n",
    "\n",
    "Uhh jeg kunne sortere alle hollow sites der ligger godt energi-mæssigt fra og lave plots over hvilke metaller der er rundt om dem. Måske ville man opdage, at det typisk er Pt, Ag-sites? Something, something, baderinge.\n",
    "\n",
    "Der er garanteret andre måder at plotte ting på."
   ]
  },
  {
   "cell_type": "code",
   "execution_count": 84,
   "id": "512613ce",
   "metadata": {},
   "outputs": [
    {
     "data": {
      "image/png": "[encoded data removed]",
      "text/plain": [
       "<Figure size 600x600 with 1 Axes>"
      ]
     },
     "metadata": {},
     "output_type": "display_data"
    }
   ],
   "source": [
    "E_top_dict, E_hol_dict, n_ratio, n_good, good_hol_sites = sort_energies(surface)\n",
    "deltaEdeltaE_plot(\"360its50by50\", E_hol_dict, E_top_dict, SE_slab_metals)"
   ]
  },
  {
   "cell_type": "code",
   "execution_count": 17,
   "id": "a2e12b67",
   "metadata": {},
   "outputs": [],
   "source": [
    "def sort_energies(surface):\n",
    "    # Sort the energies into \n",
    "    all_E_top = []\n",
    "    all_E_hol = []\n",
    "    \n",
    "    # So this could quite nicely be a dictionary\n",
    "    \n",
    "    E_top_dict = {\"Pt\": [], \"Pd\": [], \"Cu\": [], \"Ag\": [], \"Au\": []}\n",
    "    E_hol_dict = {\"Pt\": [], \"Pd\": [], \"Cu\": [], \"Ag\": [], \"Au\": []} # Hollow sites that have a neighbour of that atom type and their index match up with the adsorbate on the top-site of that atom.\n",
    "    \n",
    "    # Which atoms are around the GOOD hollow sites?\n",
    "    good_hol_sites = []\n",
    "    n_good = 0\n",
    "    n_sites = 0\n",
    "    \n",
    "    for x_top, y_top in [(x, y) for x in range(dim_x) for y in range(dim_y)]: # Mixed order\n",
    "        for x_diff, y_diff in [(0, 0), (0, -1), (-1, 0)]:                     # Mixed order\n",
    "            n_sites += 1\n",
    "            # What are the indices?\n",
    "            x_hollow = (x_top + x_diff) % dim_x\n",
    "            y_hollow = (y_top + y_diff) % dim_y\n",
    "            \n",
    "            # What are the energies?\n",
    "            on_top_E = surface[\"COOH_E\"][x_top][y_top]\n",
    "            hollow_E = surface[\"H_E\"][x_hollow][y_hollow]\n",
    "            \n",
    "            # Which atom is the top-site?\n",
    "            top_site_atom = surface[\"atoms\"][x_top, y_top, 0]\n",
    "            \n",
    "            # Append the information to the dicts and lists\n",
    "            E_top_dict[top_site_atom].append(on_top_E)\n",
    "            E_hol_dict[top_site_atom].append(hollow_E)\n",
    "            \n",
    "            # Find GOOD sites:\n",
    "            if (on_top_E < 0) and (hollow_E > 0): # Wait have a think about the loops\n",
    "                # Here is a good site!\n",
    "                n_good += 1\n",
    "                # I am interested in knowing which metals are around the hollow sites except for Pt\n",
    "                atom1 = surface[\"atoms\"][(x_hollow+0)%dim_x, (y_hollow+0)%dim_y, 0]\n",
    "                atom2 = surface[\"atoms\"][(x_hollow+1)%dim_x, (y_hollow+0)%dim_y, 0]\n",
    "                atom3 = surface[\"atoms\"][(x_hollow+0)%dim_x, (y_hollow+1)%dim_y, 0]\n",
    "                good_hol_sites.append([atom1, atom2, atom3])\n",
    "            \n",
    "    n_ratio = n_good / n_sites\n",
    "    return E_top_dict, E_hol_dict, n_ratio, n_good, good_hol_sites\n",
    "\n",
    "# Make this into a function! And make it save a nice plot. Perhaps ask for a name directly in the function-call\n",
    "def deltaEdeltaE_plot(filename, E_hol_dict, E_top_dict, SE_slab_metals):\n",
    "\n",
    "    fig, ax = plt.subplots(figsize = (6, 6))\n",
    "    \n",
    "    # Set the limits for both x and y axes\n",
    "    ax.set_xlim(-0.6, 1.1)\n",
    "    ax.set_ylim(-0.6, 1.1)\n",
    "    \n",
    "    # Set the major ticks and tick labels\n",
    "    ax.set_xticks([-0.5, 0, 0.5, 1.0])\n",
    "    ax.set_xticklabels([-0.5, 0, 0.5, 1.0])\n",
    "    ax.set_yticks([-0.5, 0, 0.5, 1.0])\n",
    "    ax.set_yticklabels([-0.5, 0, 0.5, 1.0])\n",
    "    \n",
    "    # Set the grid lines\n",
    "    ax.grid(which='both', linestyle=':', linewidth=0.5, color='gray')\n",
    "    \n",
    "    ax.set_title(\"Predicted energies for $^*COOH$ and $^*H$ for whole surface\")\n",
    "    ax.set_xlabel(\"$\\Delta E_{^*H}$ [eV]\")\n",
    "    ax.set_ylabel(\"$\\Delta E_{^*COOH}$ [eV]\")\n",
    "    \n",
    "    if True:\n",
    "        # Create a rectangle patch\n",
    "        rect = patches.Rectangle((0, 0), 1.1, -0.6, linewidth=1, edgecolor='none', facecolor='green', alpha = 0.1)\n",
    "    \n",
    "        # Add the rectangle to the plot\n",
    "        ax.add_patch(rect)\n",
    "        \n",
    "        label_text = f'Optimal area \\n$n_{{optimal}} / n_{{sites}} = {100*n_ratio:.2f} \\%$' #This can show how many points are in there as well\n",
    "        label_x = 0.55\n",
    "        label_y = -0.3\n",
    "        ax.text(label_x, label_y, label_text, ha='center', va='center', fontsize=12)\n",
    "    \n",
    "    \n",
    "    for metal in ['Ag', 'Au', 'Cu', 'Pd', 'Pt']:\n",
    "        ax.scatter(E_hol_dict[metal], E_top_dict[metal], label = f\"{metal}$_{{{stochiometry[metal]:.2f}}}$\", s = 0.5, alpha = 0.8, c = metal_colors[metal]) # edgecolor = \"black\", linewidth = 0.05, \n",
    "    \n",
    "    if True:\n",
    "        for i, metal in enumerate(SE_slab_metals):\n",
    "            ax.scatter(DeltaE_H[i], DeltaE_COOH[i], label = \"Pure \"+metal, marker = \"o\", c = metal_colors[metal], edgecolors='black')\n",
    "        \n",
    "    ax.legend()\n",
    "    \n",
    "    plt.savefig(\"../figures/DFT_calc_energies/\"+filename+\".png\", dpi = 600, bbox_inches = \"tight\")\n",
    "    plt.show()\n",
    "    return None"
   ]
  },
  {
   "cell_type": "code",
   "execution_count": 37,
   "id": "580ec1f0",
   "metadata": {},
   "outputs": [
    {
     "name": "stderr",
     "output_type": "stream",
     "text": [
      "/var/folders/_6/524tslys67zcg0hskf43h2y40000gn/T/ipykernel_2266/1338297920.py:17: UserWarning: FixedFormatter should only be used together with FixedLocator\n",
      "  ax1.set_xticklabels(labels, rotation=45)\n"
     ]
    },
    {
     "data": {
      "image/png": "[encoded data removed]",
      "text/plain": [
       "<Figure size 1000x500 with 2 Axes>"
      ]
     },
     "metadata": {},
     "output_type": "display_data"
    }
   ],
   "source": [
    "import matplotlib.pyplot as plt\n",
    "import matplotlib.gridspec as gridspec\n",
    "\n",
    "# Create the figure and gridspec\n",
    "fig = plt.figure(figsize=(10, 5))\n",
    "gs = gridspec.GridSpec(1, 2, width_ratios=[6, 3])\n",
    "\n",
    "# Plot on the left subplot\n",
    "good_hol_sites_sorted = sorted([\"\".join(sorted(x, reverse = True)) for x in good_hol_sites])\n",
    "good_hol_sites_dict = Counter(good_hol_sites_sorted)\n",
    "\n",
    "labels = good_hol_sites_dict.keys()\n",
    "values = good_hol_sites_dict.values()\n",
    "\n",
    "ax1 = plt.subplot(gs[0])\n",
    "ax1.bar(labels, values)\n",
    "ax1.set_xticklabels(labels, rotation=45)\n",
    "ax1.set_xlabel('Combinations')\n",
    "ax1.set_ylabel('Count')\n",
    "ax1.set_title('Frequency of combinations of metals in good hollow sites')\n",
    "\n",
    "# Plot on the right subplot\n",
    "ax2 = plt.subplot(gs[1])\n",
    "good_hol_sites_flat_dict = Counter(np.array(good_hol_sites).flatten())\n",
    "labels = good_hol_sites_flat_dict.keys()\n",
    "values = good_hol_sites_flat_dict.values()\n",
    "\n",
    "colors = [metal_colors[metal] for metal in labels]\n",
    "\n",
    "ax2.bar(labels, values, color = colors)\n",
    "ax2.set_xlabel('Metals')\n",
    "ax2.set_ylabel('Count')\n",
    "ax2.set_title('Frequency of each metal')\n",
    "\n",
    "# Adjust the spacing between subplots\n",
    "plt.subplots_adjust(wspace=0.3)\n",
    "\n",
    "# Show the plot\n",
    "plt.show()"
   ]
  },
  {
   "attachments": {},
   "cell_type": "markdown",
   "id": "341a9446",
   "metadata": {},
   "source": [
    "## Bayesian Optimization - Best composition for $n_{optimal}$"
   ]
  },
  {
   "cell_type": "code",
   "execution_count": 40,
   "id": "7a7eb653",
   "metadata": {},
   "outputs": [],
   "source": [
    "def simulate_loss(surface_stochiometry):\n",
    "    ## surface_stochiometry is a 5-len list of probabilities to draw each metal\n",
    "    surface_stochiometry = np.array(surface_stochiometry) / np.sum(surface_stochiometry)\n",
    "    dim_x, dim_y, metals = 50, 50, ['Ag', 'Au', 'Cu', 'Pd', 'Pt']\n",
    "    surface = initialize_surface(dim_x, dim_y, metals, surface_stochiometry)\n",
    "    \n",
    "    # Predict energies on all sites for both adsorbates\n",
    "    surface = precompute_binding_energies_TQDM(surface, dim_x, dim_y, models, predict_G)\n",
    "    #n_sites = 0\n",
    "    n_good  = 0\n",
    "    for x_top, y_top in [(x, y) for x in range(dim_x) for y in range(dim_y)]: # Mixed order\n",
    "        for x_diff, y_diff in [(0, 0), (0, -1), (-1, 0)]:                     # Mixed order\n",
    "            #n_sites += 1\n",
    "            # What are the indices?\n",
    "            x_hollow = (x_top + x_diff) % dim_x\n",
    "            y_hollow = (y_top + y_diff) % dim_y\n",
    "            \n",
    "            # What are the energies?\n",
    "            on_top_E = surface[\"COOH_E\"][x_top][y_top]\n",
    "            hollow_E = surface[\"H_E\"][x_hollow][y_hollow]\n",
    "            \n",
    "            # Find GOOD sites:\n",
    "            if (on_top_E < 0) and (hollow_E > 0): # Wait have a think about the loops\n",
    "                # Here is a good site!\n",
    "                n_good += 1\n",
    "                \n",
    "    return -n_good"
   ]
  },
  {
   "cell_type": "code",
   "execution_count": 53,
   "id": "83989b77",
   "metadata": {},
   "outputs": [
    {
     "data": {
      "text/plain": [
       "[<function __main__.sum_constraint(surface_stochiometry)>]"
      ]
     },
     "execution_count": 53,
     "metadata": {},
     "output_type": "execute_result"
    }
   ],
   "source": [
    "#[(0.0, 1.0)] * 5\n",
    "[sum_constraint]"
   ]
  },
  {
   "cell_type": "code",
   "execution_count": 79,
   "id": "791dd63c",
   "metadata": {},
   "outputs": [
    {
     "data": {
      "application/vnd.jupyter.widget-view+json": {
       "model_id": "926ec9ae447f4e029adaaf6f4f53a983",
       "version_major": 2,
       "version_minor": 0
      },
      "text/plain": [
       "Predicting all ΔG:   0%|          | 0/2500 [00:00<?, ?it/s]"
      ]
     },
     "metadata": {},
     "output_type": "display_data"
    },
    {
     "data": {
      "application/vnd.jupyter.widget-view+json": {
       "model_id": "f6371d09b90743ff8e7141a951db782e",
       "version_major": 2,
       "version_minor": 0
      },
      "text/plain": [
       "Predicting all ΔG:   0%|          | 0/2500 [00:00<?, ?it/s]"
      ]
     },
     "metadata": {},
     "output_type": "display_data"
    },
    {
     "data": {
      "application/vnd.jupyter.widget-view+json": {
       "model_id": "3d4c4a8d22f74f80b70fd2623e3d6178",
       "version_major": 2,
       "version_minor": 0
      },
      "text/plain": [
       "Predicting all ΔG:   0%|          | 0/2500 [00:00<?, ?it/s]"
      ]
     },
     "metadata": {},
     "output_type": "display_data"
    },
    {
     "data": {
      "application/vnd.jupyter.widget-view+json": {
       "model_id": "f6f9edbc38d640989e572328fec2f047",
       "version_major": 2,
       "version_minor": 0
      },
      "text/plain": [
       "Predicting all ΔG:   0%|          | 0/2500 [00:00<?, ?it/s]"
      ]
     },
     "metadata": {},
     "output_type": "display_data"
    },
    {
     "data": {
      "application/vnd.jupyter.widget-view+json": {
       "model_id": "0d469b049e38412b9b62422f5a2956d4",
       "version_major": 2,
       "version_minor": 0
      },
      "text/plain": [
       "Predicting all ΔG:   0%|          | 0/2500 [00:00<?, ?it/s]"
      ]
     },
     "metadata": {},
     "output_type": "display_data"
    },
    {
     "data": {
      "application/vnd.jupyter.widget-view+json": {
       "model_id": "eb109629938744cebfe7e969ff197aa5",
       "version_major": 2,
       "version_minor": 0
      },
      "text/plain": [
       "Predicting all ΔG:   0%|          | 0/2500 [00:00<?, ?it/s]"
      ]
     },
     "metadata": {},
     "output_type": "display_data"
    },
    {
     "data": {
      "application/vnd.jupyter.widget-view+json": {
       "model_id": "42a29a1654ff457baef9da8baad48e0c",
       "version_major": 2,
       "version_minor": 0
      },
      "text/plain": [
       "Predicting all ΔG:   0%|          | 0/2500 [00:00<?, ?it/s]"
      ]
     },
     "metadata": {},
     "output_type": "display_data"
    },
    {
     "data": {
      "application/vnd.jupyter.widget-view+json": {
       "model_id": "0fe14b43598349749621cb137ef29eba",
       "version_major": 2,
       "version_minor": 0
      },
      "text/plain": [
       "Predicting all ΔG:   0%|          | 0/2500 [00:00<?, ?it/s]"
      ]
     },
     "metadata": {},
     "output_type": "display_data"
    },
    {
     "data": {
      "application/vnd.jupyter.widget-view+json": {
       "model_id": "9f9d524d3a8b4ab1893dd9028f393b93",
       "version_major": 2,
       "version_minor": 0
      },
      "text/plain": [
       "Predicting all ΔG:   0%|          | 0/2500 [00:00<?, ?it/s]"
      ]
     },
     "metadata": {},
     "output_type": "display_data"
    },
    {
     "data": {
      "application/vnd.jupyter.widget-view+json": {
       "model_id": "8a66ef83a7a3474aa43f17a8136522aa",
       "version_major": 2,
       "version_minor": 0
      },
      "text/plain": [
       "Predicting all ΔG:   0%|          | 0/2500 [00:00<?, ?it/s]"
      ]
     },
     "metadata": {},
     "output_type": "display_data"
    },
    {
     "data": {
      "application/vnd.jupyter.widget-view+json": {
       "model_id": "48a5d83dc5474fc1aba6b9f0b41ed018",
       "version_major": 2,
       "version_minor": 0
      },
      "text/plain": [
       "Predicting all ΔG:   0%|          | 0/2500 [00:00<?, ?it/s]"
      ]
     },
     "metadata": {},
     "output_type": "display_data"
    },
    {
     "data": {
      "application/vnd.jupyter.widget-view+json": {
       "model_id": "704215c1fc5448e3aed2c244927e33b5",
       "version_major": 2,
       "version_minor": 0
      },
      "text/plain": [
       "Predicting all ΔG:   0%|          | 0/2500 [00:00<?, ?it/s]"
      ]
     },
     "metadata": {},
     "output_type": "display_data"
    },
    {
     "data": {
      "application/vnd.jupyter.widget-view+json": {
       "model_id": "5efe776ef3f6424c8a26f2f49823a23c",
       "version_major": 2,
       "version_minor": 0
      },
      "text/plain": [
       "Predicting all ΔG:   0%|          | 0/2500 [00:00<?, ?it/s]"
      ]
     },
     "metadata": {},
     "output_type": "display_data"
    },
    {
     "data": {
      "application/vnd.jupyter.widget-view+json": {
       "model_id": "875a1b97d6384a3fb8766dee22e862d0",
       "version_major": 2,
       "version_minor": 0
      },
      "text/plain": [
       "Predicting all ΔG:   0%|          | 0/2500 [00:00<?, ?it/s]"
      ]
     },
     "metadata": {},
     "output_type": "display_data"
    },
    {
     "data": {
      "application/vnd.jupyter.widget-view+json": {
       "model_id": "0905a795ae624e59a34a471fd8a45fae",
       "version_major": 2,
       "version_minor": 0
      },
      "text/plain": [
       "Predicting all ΔG:   0%|          | 0/2500 [00:00<?, ?it/s]"
      ]
     },
     "metadata": {},
     "output_type": "display_data"
    },
    {
     "data": {
      "application/vnd.jupyter.widget-view+json": {
       "model_id": "7b59041626034a62af8f5b22abedd6ea",
       "version_major": 2,
       "version_minor": 0
      },
      "text/plain": [
       "Predicting all ΔG:   0%|          | 0/2500 [00:00<?, ?it/s]"
      ]
     },
     "metadata": {},
     "output_type": "display_data"
    },
    {
     "data": {
      "application/vnd.jupyter.widget-view+json": {
       "model_id": "2ee260466bd744f09e3aa07e44b8f8b6",
       "version_major": 2,
       "version_minor": 0
      },
      "text/plain": [
       "Predicting all ΔG:   0%|          | 0/2500 [00:00<?, ?it/s]"
      ]
     },
     "metadata": {},
     "output_type": "display_data"
    },
    {
     "data": {
      "application/vnd.jupyter.widget-view+json": {
       "model_id": "fc12ed64c77e48c9b0c3c24744d0a886",
       "version_major": 2,
       "version_minor": 0
      },
      "text/plain": [
       "Predicting all ΔG:   0%|          | 0/2500 [00:00<?, ?it/s]"
      ]
     },
     "metadata": {},
     "output_type": "display_data"
    },
    {
     "data": {
      "application/vnd.jupyter.widget-view+json": {
       "model_id": "30202a49c5e14a108624112fb2dada11",
       "version_major": 2,
       "version_minor": 0
      },
      "text/plain": [
       "Predicting all ΔG:   0%|          | 0/2500 [00:00<?, ?it/s]"
      ]
     },
     "metadata": {},
     "output_type": "display_data"
    },
    {
     "data": {
      "application/vnd.jupyter.widget-view+json": {
       "model_id": "0a5ae27fdb9f459caffb8913a43733d5",
       "version_major": 2,
       "version_minor": 0
      },
      "text/plain": [
       "Predicting all ΔG:   0%|          | 0/2500 [00:00<?, ?it/s]"
      ]
     },
     "metadata": {},
     "output_type": "display_data"
    },
    {
     "data": {
      "application/vnd.jupyter.widget-view+json": {
       "model_id": "ba25cb3c4ed3488b938bc521b7cfa73d",
       "version_major": 2,
       "version_minor": 0
      },
      "text/plain": [
       "Predicting all ΔG:   0%|          | 0/2500 [00:00<?, ?it/s]"
      ]
     },
     "metadata": {},
     "output_type": "display_data"
    },
    {
     "data": {
      "application/vnd.jupyter.widget-view+json": {
       "model_id": "04b594eb2bbd40cea420039266b70eea",
       "version_major": 2,
       "version_minor": 0
      },
      "text/plain": [
       "Predicting all ΔG:   0%|          | 0/2500 [00:00<?, ?it/s]"
      ]
     },
     "metadata": {},
     "output_type": "display_data"
    },
    {
     "data": {
      "application/vnd.jupyter.widget-view+json": {
       "model_id": "53603e9e250f4443ab359165e7dbf7b8",
       "version_major": 2,
       "version_minor": 0
      },
      "text/plain": [
       "Predicting all ΔG:   0%|          | 0/2500 [00:00<?, ?it/s]"
      ]
     },
     "metadata": {},
     "output_type": "display_data"
    },
    {
     "data": {
      "application/vnd.jupyter.widget-view+json": {
       "model_id": "fe27e43c8f4b413ca69cfcdbbcf0de5c",
       "version_major": 2,
       "version_minor": 0
      },
      "text/plain": [
       "Predicting all ΔG:   0%|          | 0/2500 [00:00<?, ?it/s]"
      ]
     },
     "metadata": {},
     "output_type": "display_data"
    },
    {
     "data": {
      "application/vnd.jupyter.widget-view+json": {
       "model_id": "7c591cc36d1c45098a8b83966efec52d",
       "version_major": 2,
       "version_minor": 0
      },
      "text/plain": [
       "Predicting all ΔG:   0%|          | 0/2500 [00:00<?, ?it/s]"
      ]
     },
     "metadata": {},
     "output_type": "display_data"
    },
    {
     "data": {
      "application/vnd.jupyter.widget-view+json": {
       "model_id": "29a25ce73b854a71b9e33738680c3c98",
       "version_major": 2,
       "version_minor": 0
      },
      "text/plain": [
       "Predicting all ΔG:   0%|          | 0/2500 [00:00<?, ?it/s]"
      ]
     },
     "metadata": {},
     "output_type": "display_data"
    },
    {
     "data": {
      "application/vnd.jupyter.widget-view+json": {
       "model_id": "8b43be74fd474b6eacb797cb6573065c",
       "version_major": 2,
       "version_minor": 0
      },
      "text/plain": [
       "Predicting all ΔG:   0%|          | 0/2500 [00:00<?, ?it/s]"
      ]
     },
     "metadata": {},
     "output_type": "display_data"
    },
    {
     "data": {
      "application/vnd.jupyter.widget-view+json": {
       "model_id": "6584a31eb9c445bf92b07a006da9e5dd",
       "version_major": 2,
       "version_minor": 0
      },
      "text/plain": [
       "Predicting all ΔG:   0%|          | 0/2500 [00:00<?, ?it/s]"
      ]
     },
     "metadata": {},
     "output_type": "display_data"
    },
    {
     "data": {
      "application/vnd.jupyter.widget-view+json": {
       "model_id": "8c468373503c4c7d9424378c7dac3f6a",
       "version_major": 2,
       "version_minor": 0
      },
      "text/plain": [
       "Predicting all ΔG:   0%|          | 0/2500 [00:00<?, ?it/s]"
      ]
     },
     "metadata": {},
     "output_type": "display_data"
    },
    {
     "data": {
      "application/vnd.jupyter.widget-view+json": {
       "model_id": "96d59b6a34454d4fa9e38ba0c6741677",
       "version_major": 2,
       "version_minor": 0
      },
      "text/plain": [
       "Predicting all ΔG:   0%|          | 0/2500 [00:00<?, ?it/s]"
      ]
     },
     "metadata": {},
     "output_type": "display_data"
    },
    {
     "data": {
      "application/vnd.jupyter.widget-view+json": {
       "model_id": "730e135cec814ddc8d779f264bc347e2",
       "version_major": 2,
       "version_minor": 0
      },
      "text/plain": [
       "Predicting all ΔG:   0%|          | 0/2500 [00:00<?, ?it/s]"
      ]
     },
     "metadata": {},
     "output_type": "display_data"
    },
    {
     "data": {
      "application/vnd.jupyter.widget-view+json": {
       "model_id": "387ff297a26e4e78802927dec241828b",
       "version_major": 2,
       "version_minor": 0
      },
      "text/plain": [
       "Predicting all ΔG:   0%|          | 0/2500 [00:00<?, ?it/s]"
      ]
     },
     "metadata": {},
     "output_type": "display_data"
    },
    {
     "data": {
      "application/vnd.jupyter.widget-view+json": {
       "model_id": "7697e508057d4300903f2f7360566a6d",
       "version_major": 2,
       "version_minor": 0
      },
      "text/plain": [
       "Predicting all ΔG:   0%|          | 0/2500 [00:00<?, ?it/s]"
      ]
     },
     "metadata": {},
     "output_type": "display_data"
    },
    {
     "data": {
      "application/vnd.jupyter.widget-view+json": {
       "model_id": "9585f6885f52427d9b0847102e421a5b",
       "version_major": 2,
       "version_minor": 0
      },
      "text/plain": [
       "Predicting all ΔG:   0%|          | 0/2500 [00:00<?, ?it/s]"
      ]
     },
     "metadata": {},
     "output_type": "display_data"
    },
    {
     "data": {
      "application/vnd.jupyter.widget-view+json": {
       "model_id": "ae724b26def74a5b88b083497d6ec1b1",
       "version_major": 2,
       "version_minor": 0
      },
      "text/plain": [
       "Predicting all ΔG:   0%|          | 0/2500 [00:00<?, ?it/s]"
      ]
     },
     "metadata": {},
     "output_type": "display_data"
    },
    {
     "data": {
      "application/vnd.jupyter.widget-view+json": {
       "model_id": "5bb98f57bdee4d989f9137b065263962",
       "version_major": 2,
       "version_minor": 0
      },
      "text/plain": [
       "Predicting all ΔG:   0%|          | 0/2500 [00:00<?, ?it/s]"
      ]
     },
     "metadata": {},
     "output_type": "display_data"
    },
    {
     "data": {
      "application/vnd.jupyter.widget-view+json": {
       "model_id": "d5e7ae9627c4403383a92d5c05726865",
       "version_major": 2,
       "version_minor": 0
      },
      "text/plain": [
       "Predicting all ΔG:   0%|          | 0/2500 [00:00<?, ?it/s]"
      ]
     },
     "metadata": {},
     "output_type": "display_data"
    },
    {
     "data": {
      "application/vnd.jupyter.widget-view+json": {
       "model_id": "b95d0f85374a4d7d859561ef999fd3f3",
       "version_major": 2,
       "version_minor": 0
      },
      "text/plain": [
       "Predicting all ΔG:   0%|          | 0/2500 [00:00<?, ?it/s]"
      ]
     },
     "metadata": {},
     "output_type": "display_data"
    },
    {
     "data": {
      "application/vnd.jupyter.widget-view+json": {
       "model_id": "e4dddfd4dbb749c186eb22ee01219680",
       "version_major": 2,
       "version_minor": 0
      },
      "text/plain": [
       "Predicting all ΔG:   0%|          | 0/2500 [00:00<?, ?it/s]"
      ]
     },
     "metadata": {},
     "output_type": "display_data"
    },
    {
     "data": {
      "application/vnd.jupyter.widget-view+json": {
       "model_id": "d148323082104c379fabee7dcd2d70ea",
       "version_major": 2,
       "version_minor": 0
      },
      "text/plain": [
       "Predicting all ΔG:   0%|          | 0/2500 [00:00<?, ?it/s]"
      ]
     },
     "metadata": {},
     "output_type": "display_data"
    },
    {
     "data": {
      "application/vnd.jupyter.widget-view+json": {
       "model_id": "be14642eb0d244198d0d8d8e59d8e4f0",
       "version_major": 2,
       "version_minor": 0
      },
      "text/plain": [
       "Predicting all ΔG:   0%|          | 0/2500 [00:00<?, ?it/s]"
      ]
     },
     "metadata": {},
     "output_type": "display_data"
    },
    {
     "data": {
      "application/vnd.jupyter.widget-view+json": {
       "model_id": "bac31dbff7514805a9c00962f4d1bdf4",
       "version_major": 2,
       "version_minor": 0
      },
      "text/plain": [
       "Predicting all ΔG:   0%|          | 0/2500 [00:00<?, ?it/s]"
      ]
     },
     "metadata": {},
     "output_type": "display_data"
    },
    {
     "data": {
      "application/vnd.jupyter.widget-view+json": {
       "model_id": "8355fd7d83fc457faedc1d36c9b53c3e",
       "version_major": 2,
       "version_minor": 0
      },
      "text/plain": [
       "Predicting all ΔG:   0%|          | 0/2500 [00:00<?, ?it/s]"
      ]
     },
     "metadata": {},
     "output_type": "display_data"
    },
    {
     "data": {
      "application/vnd.jupyter.widget-view+json": {
       "model_id": "97d61b5ccc2b492082d194bcd12dbcbe",
       "version_major": 2,
       "version_minor": 0
      },
      "text/plain": [
       "Predicting all ΔG:   0%|          | 0/2500 [00:00<?, ?it/s]"
      ]
     },
     "metadata": {},
     "output_type": "display_data"
    },
    {
     "data": {
      "application/vnd.jupyter.widget-view+json": {
       "model_id": "a55eb758fd114374bc5eaf356a97f751",
       "version_major": 2,
       "version_minor": 0
      },
      "text/plain": [
       "Predicting all ΔG:   0%|          | 0/2500 [00:00<?, ?it/s]"
      ]
     },
     "metadata": {},
     "output_type": "display_data"
    },
    {
     "data": {
      "application/vnd.jupyter.widget-view+json": {
       "model_id": "3732f4b2c0a1458cb93dbb27c02e1160",
       "version_major": 2,
       "version_minor": 0
      },
      "text/plain": [
       "Predicting all ΔG:   0%|          | 0/2500 [00:00<?, ?it/s]"
      ]
     },
     "metadata": {},
     "output_type": "display_data"
    },
    {
     "data": {
      "application/vnd.jupyter.widget-view+json": {
       "model_id": "63a39066bfba4f0492a5d534533a907b",
       "version_major": 2,
       "version_minor": 0
      },
      "text/plain": [
       "Predicting all ΔG:   0%|          | 0/2500 [00:00<?, ?it/s]"
      ]
     },
     "metadata": {},
     "output_type": "display_data"
    },
    {
     "data": {
      "application/vnd.jupyter.widget-view+json": {
       "model_id": "3819b24570c644a4b687cfb2f758e867",
       "version_major": 2,
       "version_minor": 0
      },
      "text/plain": [
       "Predicting all ΔG:   0%|          | 0/2500 [00:00<?, ?it/s]"
      ]
     },
     "metadata": {},
     "output_type": "display_data"
    },
    {
     "data": {
      "application/vnd.jupyter.widget-view+json": {
       "model_id": "4880b5b3b98b4422851875b608e0236f",
       "version_major": 2,
       "version_minor": 0
      },
      "text/plain": [
       "Predicting all ΔG:   0%|          | 0/2500 [00:00<?, ?it/s]"
      ]
     },
     "metadata": {},
     "output_type": "display_data"
    },
    {
     "data": {
      "application/vnd.jupyter.widget-view+json": {
       "model_id": "1477c962bba147afae5894a172ce0122",
       "version_major": 2,
       "version_minor": 0
      },
      "text/plain": [
       "Predicting all ΔG:   0%|          | 0/2500 [00:00<?, ?it/s]"
      ]
     },
     "metadata": {},
     "output_type": "display_data"
    },
    {
     "data": {
      "application/vnd.jupyter.widget-view+json": {
       "model_id": "06793d8dad774b59940aca37731f416f",
       "version_major": 2,
       "version_minor": 0
      },
      "text/plain": [
       "Predicting all ΔG:   0%|          | 0/2500 [00:00<?, ?it/s]"
      ]
     },
     "metadata": {},
     "output_type": "display_data"
    },
    {
     "data": {
      "application/vnd.jupyter.widget-view+json": {
       "model_id": "29d41f7e414944beb9834ac64ea50dd3",
       "version_major": 2,
       "version_minor": 0
      },
      "text/plain": [
       "Predicting all ΔG:   0%|          | 0/2500 [00:00<?, ?it/s]"
      ]
     },
     "metadata": {},
     "output_type": "display_data"
    },
    {
     "data": {
      "application/vnd.jupyter.widget-view+json": {
       "model_id": "9cb57354fc774f89a021d31c55eb6bcb",
       "version_major": 2,
       "version_minor": 0
      },
      "text/plain": [
       "Predicting all ΔG:   0%|          | 0/2500 [00:00<?, ?it/s]"
      ]
     },
     "metadata": {},
     "output_type": "display_data"
    },
    {
     "data": {
      "application/vnd.jupyter.widget-view+json": {
       "model_id": "fef3ec2f70b340b58a56a4124fe70439",
       "version_major": 2,
       "version_minor": 0
      },
      "text/plain": [
       "Predicting all ΔG:   0%|          | 0/2500 [00:00<?, ?it/s]"
      ]
     },
     "metadata": {},
     "output_type": "display_data"
    },
    {
     "data": {
      "application/vnd.jupyter.widget-view+json": {
       "model_id": "2f89a8f8f4a94b15b36acc7e8c4d78a5",
       "version_major": 2,
       "version_minor": 0
      },
      "text/plain": [
       "Predicting all ΔG:   0%|          | 0/2500 [00:00<?, ?it/s]"
      ]
     },
     "metadata": {},
     "output_type": "display_data"
    },
    {
     "data": {
      "application/vnd.jupyter.widget-view+json": {
       "model_id": "21ef2da574164a329395e34c637c760b",
       "version_major": 2,
       "version_minor": 0
      },
      "text/plain": [
       "Predicting all ΔG:   0%|          | 0/2500 [00:00<?, ?it/s]"
      ]
     },
     "metadata": {},
     "output_type": "display_data"
    },
    {
     "data": {
      "application/vnd.jupyter.widget-view+json": {
       "model_id": "36edbb34160c4645b124ca16f6c133d6",
       "version_major": 2,
       "version_minor": 0
      },
      "text/plain": [
       "Predicting all ΔG:   0%|          | 0/2500 [00:00<?, ?it/s]"
      ]
     },
     "metadata": {},
     "output_type": "display_data"
    },
    {
     "data": {
      "application/vnd.jupyter.widget-view+json": {
       "model_id": "f572349654fe48979951825c7eab7b8b",
       "version_major": 2,
       "version_minor": 0
      },
      "text/plain": [
       "Predicting all ΔG:   0%|          | 0/2500 [00:00<?, ?it/s]"
      ]
     },
     "metadata": {},
     "output_type": "display_data"
    },
    {
     "data": {
      "application/vnd.jupyter.widget-view+json": {
       "model_id": "daa36a9af68e4f908c0d902b628cb7c8",
       "version_major": 2,
       "version_minor": 0
      },
      "text/plain": [
       "Predicting all ΔG:   0%|          | 0/2500 [00:00<?, ?it/s]"
      ]
     },
     "metadata": {},
     "output_type": "display_data"
    },
    {
     "data": {
      "application/vnd.jupyter.widget-view+json": {
       "model_id": "385649ab12de462cbc8b6a2cf80e5e09",
       "version_major": 2,
       "version_minor": 0
      },
      "text/plain": [
       "Predicting all ΔG:   0%|          | 0/2500 [00:00<?, ?it/s]"
      ]
     },
     "metadata": {},
     "output_type": "display_data"
    },
    {
     "data": {
      "application/vnd.jupyter.widget-view+json": {
       "model_id": "40eca399f49e4f638239742f9ac8c536",
       "version_major": 2,
       "version_minor": 0
      },
      "text/plain": [
       "Predicting all ΔG:   0%|          | 0/2500 [00:00<?, ?it/s]"
      ]
     },
     "metadata": {},
     "output_type": "display_data"
    },
    {
     "data": {
      "application/vnd.jupyter.widget-view+json": {
       "model_id": "b0fa7ef07baa46029a4f3bb8f97dbe10",
       "version_major": 2,
       "version_minor": 0
      },
      "text/plain": [
       "Predicting all ΔG:   0%|          | 0/2500 [00:00<?, ?it/s]"
      ]
     },
     "metadata": {},
     "output_type": "display_data"
    },
    {
     "data": {
      "application/vnd.jupyter.widget-view+json": {
       "model_id": "945e11f6a4154773af09b8406a8d639a",
       "version_major": 2,
       "version_minor": 0
      },
      "text/plain": [
       "Predicting all ΔG:   0%|          | 0/2500 [00:00<?, ?it/s]"
      ]
     },
     "metadata": {},
     "output_type": "display_data"
    },
    {
     "data": {
      "application/vnd.jupyter.widget-view+json": {
       "model_id": "9c8ae2f427334489984ba39911ae8e2e",
       "version_major": 2,
       "version_minor": 0
      },
      "text/plain": [
       "Predicting all ΔG:   0%|          | 0/2500 [00:00<?, ?it/s]"
      ]
     },
     "metadata": {},
     "output_type": "display_data"
    },
    {
     "data": {
      "application/vnd.jupyter.widget-view+json": {
       "model_id": "21c808b70c414f9b9a5725f4a2bc4475",
       "version_major": 2,
       "version_minor": 0
      },
      "text/plain": [
       "Predicting all ΔG:   0%|          | 0/2500 [00:00<?, ?it/s]"
      ]
     },
     "metadata": {},
     "output_type": "display_data"
    },
    {
     "data": {
      "application/vnd.jupyter.widget-view+json": {
       "model_id": "f8a339f1d377400f8dcc1f63042c51bc",
       "version_major": 2,
       "version_minor": 0
      },
      "text/plain": [
       "Predicting all ΔG:   0%|          | 0/2500 [00:00<?, ?it/s]"
      ]
     },
     "metadata": {},
     "output_type": "display_data"
    },
    {
     "data": {
      "application/vnd.jupyter.widget-view+json": {
       "model_id": "dde360cefe9b48938d6214ae34216281",
       "version_major": 2,
       "version_minor": 0
      },
      "text/plain": [
       "Predicting all ΔG:   0%|          | 0/2500 [00:00<?, ?it/s]"
      ]
     },
     "metadata": {},
     "output_type": "display_data"
    },
    {
     "data": {
      "application/vnd.jupyter.widget-view+json": {
       "model_id": "984d5bb94a434ab1a98225d856300f90",
       "version_major": 2,
       "version_minor": 0
      },
      "text/plain": [
       "Predicting all ΔG:   0%|          | 0/2500 [00:00<?, ?it/s]"
      ]
     },
     "metadata": {},
     "output_type": "display_data"
    },
    {
     "data": {
      "application/vnd.jupyter.widget-view+json": {
       "model_id": "9177ae19079247519a00dc31ff091261",
       "version_major": 2,
       "version_minor": 0
      },
      "text/plain": [
       "Predicting all ΔG:   0%|          | 0/2500 [00:00<?, ?it/s]"
      ]
     },
     "metadata": {},
     "output_type": "display_data"
    },
    {
     "data": {
      "application/vnd.jupyter.widget-view+json": {
       "model_id": "37362ea0bbe340b99f866d9235a8d988",
       "version_major": 2,
       "version_minor": 0
      },
      "text/plain": [
       "Predicting all ΔG:   0%|          | 0/2500 [00:00<?, ?it/s]"
      ]
     },
     "metadata": {},
     "output_type": "display_data"
    },
    {
     "data": {
      "application/vnd.jupyter.widget-view+json": {
       "model_id": "26cd4310f6d343b7b837c6ec4b4eaa1c",
       "version_major": 2,
       "version_minor": 0
      },
      "text/plain": [
       "Predicting all ΔG:   0%|          | 0/2500 [00:00<?, ?it/s]"
      ]
     },
     "metadata": {},
     "output_type": "display_data"
    },
    {
     "data": {
      "application/vnd.jupyter.widget-view+json": {
       "model_id": "6237c45a409d487488d3827149444245",
       "version_major": 2,
       "version_minor": 0
      },
      "text/plain": [
       "Predicting all ΔG:   0%|          | 0/2500 [00:00<?, ?it/s]"
      ]
     },
     "metadata": {},
     "output_type": "display_data"
    },
    {
     "data": {
      "application/vnd.jupyter.widget-view+json": {
       "model_id": "ed0338acd62a4eb698cb3dbfc7329bff",
       "version_major": 2,
       "version_minor": 0
      },
      "text/plain": [
       "Predicting all ΔG:   0%|          | 0/2500 [00:00<?, ?it/s]"
      ]
     },
     "metadata": {},
     "output_type": "display_data"
    },
    {
     "data": {
      "application/vnd.jupyter.widget-view+json": {
       "model_id": "6d1915f8057c4dc3abedf8e81a98dd1a",
       "version_major": 2,
       "version_minor": 0
      },
      "text/plain": [
       "Predicting all ΔG:   0%|          | 0/2500 [00:00<?, ?it/s]"
      ]
     },
     "metadata": {},
     "output_type": "display_data"
    },
    {
     "data": {
      "application/vnd.jupyter.widget-view+json": {
       "model_id": "970f406a33824440bba360eef164de9c",
       "version_major": 2,
       "version_minor": 0
      },
      "text/plain": [
       "Predicting all ΔG:   0%|          | 0/2500 [00:00<?, ?it/s]"
      ]
     },
     "metadata": {},
     "output_type": "display_data"
    },
    {
     "data": {
      "application/vnd.jupyter.widget-view+json": {
       "model_id": "1d0e783b3cee4d0997de86f7d3063d1d",
       "version_major": 2,
       "version_minor": 0
      },
      "text/plain": [
       "Predicting all ΔG:   0%|          | 0/2500 [00:00<?, ?it/s]"
      ]
     },
     "metadata": {},
     "output_type": "display_data"
    },
    {
     "data": {
      "application/vnd.jupyter.widget-view+json": {
       "model_id": "d7c26de8750d498892e2b33a91c6a22f",
       "version_major": 2,
       "version_minor": 0
      },
      "text/plain": [
       "Predicting all ΔG:   0%|          | 0/2500 [00:00<?, ?it/s]"
      ]
     },
     "metadata": {},
     "output_type": "display_data"
    },
    {
     "data": {
      "application/vnd.jupyter.widget-view+json": {
       "model_id": "6f69f02cc49a4d3888682eb52732fd4f",
       "version_major": 2,
       "version_minor": 0
      },
      "text/plain": [
       "Predicting all ΔG:   0%|          | 0/2500 [00:00<?, ?it/s]"
      ]
     },
     "metadata": {},
     "output_type": "display_data"
    },
    {
     "data": {
      "application/vnd.jupyter.widget-view+json": {
       "model_id": "61fa5938ce594542a813ada8b2384e5c",
       "version_major": 2,
       "version_minor": 0
      },
      "text/plain": [
       "Predicting all ΔG:   0%|          | 0/2500 [00:00<?, ?it/s]"
      ]
     },
     "metadata": {},
     "output_type": "display_data"
    },
    {
     "data": {
      "application/vnd.jupyter.widget-view+json": {
       "model_id": "bd1f18f30478460697f595929f787140",
       "version_major": 2,
       "version_minor": 0
      },
      "text/plain": [
       "Predicting all ΔG:   0%|          | 0/2500 [00:00<?, ?it/s]"
      ]
     },
     "metadata": {},
     "output_type": "display_data"
    },
    {
     "data": {
      "application/vnd.jupyter.widget-view+json": {
       "model_id": "86b7b236738e41abb0940ab68d570823",
       "version_major": 2,
       "version_minor": 0
      },
      "text/plain": [
       "Predicting all ΔG:   0%|          | 0/2500 [00:00<?, ?it/s]"
      ]
     },
     "metadata": {},
     "output_type": "display_data"
    },
    {
     "data": {
      "application/vnd.jupyter.widget-view+json": {
       "model_id": "db1235a11a5e4b8e90d33e6ae1320511",
       "version_major": 2,
       "version_minor": 0
      },
      "text/plain": [
       "Predicting all ΔG:   0%|          | 0/2500 [00:00<?, ?it/s]"
      ]
     },
     "metadata": {},
     "output_type": "display_data"
    },
    {
     "data": {
      "application/vnd.jupyter.widget-view+json": {
       "model_id": "7a705638d7b04511b46b6cdb62d4aee9",
       "version_major": 2,
       "version_minor": 0
      },
      "text/plain": [
       "Predicting all ΔG:   0%|          | 0/2500 [00:00<?, ?it/s]"
      ]
     },
     "metadata": {},
     "output_type": "display_data"
    },
    {
     "data": {
      "application/vnd.jupyter.widget-view+json": {
       "model_id": "4ee8c3e62c2a4b5f9928eb85864dd0dc",
       "version_major": 2,
       "version_minor": 0
      },
      "text/plain": [
       "Predicting all ΔG:   0%|          | 0/2500 [00:00<?, ?it/s]"
      ]
     },
     "metadata": {},
     "output_type": "display_data"
    },
    {
     "data": {
      "application/vnd.jupyter.widget-view+json": {
       "model_id": "d5db6133027c4404ba88141d8501b61b",
       "version_major": 2,
       "version_minor": 0
      },
      "text/plain": [
       "Predicting all ΔG:   0%|          | 0/2500 [00:00<?, ?it/s]"
      ]
     },
     "metadata": {},
     "output_type": "display_data"
    },
    {
     "data": {
      "application/vnd.jupyter.widget-view+json": {
       "model_id": "acceb1b3626f4dd196f0820a68aa693b",
       "version_major": 2,
       "version_minor": 0
      },
      "text/plain": [
       "Predicting all ΔG:   0%|          | 0/2500 [00:00<?, ?it/s]"
      ]
     },
     "metadata": {},
     "output_type": "display_data"
    },
    {
     "data": {
      "application/vnd.jupyter.widget-view+json": {
       "model_id": "22a836c867fe42cca86318a21bdfb296",
       "version_major": 2,
       "version_minor": 0
      },
      "text/plain": [
       "Predicting all ΔG:   0%|          | 0/2500 [00:00<?, ?it/s]"
      ]
     },
     "metadata": {},
     "output_type": "display_data"
    },
    {
     "data": {
      "application/vnd.jupyter.widget-view+json": {
       "model_id": "8fd21a6c96584df8b2eb8bdb6fa938c7",
       "version_major": 2,
       "version_minor": 0
      },
      "text/plain": [
       "Predicting all ΔG:   0%|          | 0/2500 [00:00<?, ?it/s]"
      ]
     },
     "metadata": {},
     "output_type": "display_data"
    },
    {
     "data": {
      "application/vnd.jupyter.widget-view+json": {
       "model_id": "5be0748ce7c3471d97b00ebecb2baf92",
       "version_major": 2,
       "version_minor": 0
      },
      "text/plain": [
       "Predicting all ΔG:   0%|          | 0/2500 [00:00<?, ?it/s]"
      ]
     },
     "metadata": {},
     "output_type": "display_data"
    },
    {
     "data": {
      "application/vnd.jupyter.widget-view+json": {
       "model_id": "1659f4560cc146ed934f21e046e231a8",
       "version_major": 2,
       "version_minor": 0
      },
      "text/plain": [
       "Predicting all ΔG:   0%|          | 0/2500 [00:00<?, ?it/s]"
      ]
     },
     "metadata": {},
     "output_type": "display_data"
    },
    {
     "data": {
      "application/vnd.jupyter.widget-view+json": {
       "model_id": "62c64770231e44c39e984b18faf696f9",
       "version_major": 2,
       "version_minor": 0
      },
      "text/plain": [
       "Predicting all ΔG:   0%|          | 0/2500 [00:00<?, ?it/s]"
      ]
     },
     "metadata": {},
     "output_type": "display_data"
    },
    {
     "data": {
      "application/vnd.jupyter.widget-view+json": {
       "model_id": "837ac69078294d839c53431e3a29f900",
       "version_major": 2,
       "version_minor": 0
      },
      "text/plain": [
       "Predicting all ΔG:   0%|          | 0/2500 [00:00<?, ?it/s]"
      ]
     },
     "metadata": {},
     "output_type": "display_data"
    },
    {
     "data": {
      "application/vnd.jupyter.widget-view+json": {
       "model_id": "cce2f11dffed43f4aebf60d1c9eac880",
       "version_major": 2,
       "version_minor": 0
      },
      "text/plain": [
       "Predicting all ΔG:   0%|          | 0/2500 [00:00<?, ?it/s]"
      ]
     },
     "metadata": {},
     "output_type": "display_data"
    },
    {
     "data": {
      "application/vnd.jupyter.widget-view+json": {
       "model_id": "46839b77b89e444f943e7d4bbfcd10d1",
       "version_major": 2,
       "version_minor": 0
      },
      "text/plain": [
       "Predicting all ΔG:   0%|          | 0/2500 [00:00<?, ?it/s]"
      ]
     },
     "metadata": {},
     "output_type": "display_data"
    },
    {
     "data": {
      "application/vnd.jupyter.widget-view+json": {
       "model_id": "7b4ea5127ed14563be0ac6468fea6a4c",
       "version_major": 2,
       "version_minor": 0
      },
      "text/plain": [
       "Predicting all ΔG:   0%|          | 0/2500 [00:00<?, ?it/s]"
      ]
     },
     "metadata": {},
     "output_type": "display_data"
    },
    {
     "data": {
      "application/vnd.jupyter.widget-view+json": {
       "model_id": "3e4cef1a8b98475abd2b14bbc17c94e9",
       "version_major": 2,
       "version_minor": 0
      },
      "text/plain": [
       "Predicting all ΔG:   0%|          | 0/2500 [00:00<?, ?it/s]"
      ]
     },
     "metadata": {},
     "output_type": "display_data"
    },
    {
     "data": {
      "application/vnd.jupyter.widget-view+json": {
       "model_id": "ddd46ee52d364822bc16dbe9b2efbbc6",
       "version_major": 2,
       "version_minor": 0
      },
      "text/plain": [
       "Predicting all ΔG:   0%|          | 0/2500 [00:00<?, ?it/s]"
      ]
     },
     "metadata": {},
     "output_type": "display_data"
    },
    {
     "data": {
      "application/vnd.jupyter.widget-view+json": {
       "model_id": "c0a3c167e6da4f54958ec0a0635a0eb3",
       "version_major": 2,
       "version_minor": 0
      },
      "text/plain": [
       "Predicting all ΔG:   0%|          | 0/2500 [00:00<?, ?it/s]"
      ]
     },
     "metadata": {},
     "output_type": "display_data"
    },
    {
     "data": {
      "application/vnd.jupyter.widget-view+json": {
       "model_id": "8f66c38a920e4eea9b78b533b8e05e29",
       "version_major": 2,
       "version_minor": 0
      },
      "text/plain": [
       "Predicting all ΔG:   0%|          | 0/2500 [00:00<?, ?it/s]"
      ]
     },
     "metadata": {},
     "output_type": "display_data"
    },
    {
     "data": {
      "application/vnd.jupyter.widget-view+json": {
       "model_id": "acfe37cd5845426a882009e323b3aef5",
       "version_major": 2,
       "version_minor": 0
      },
      "text/plain": [
       "Predicting all ΔG:   0%|          | 0/2500 [00:00<?, ?it/s]"
      ]
     },
     "metadata": {},
     "output_type": "display_data"
    },
    {
     "data": {
      "application/vnd.jupyter.widget-view+json": {
       "model_id": "3dc48f87fd7845d3a3f5354819296bc1",
       "version_major": 2,
       "version_minor": 0
      },
      "text/plain": [
       "Predicting all ΔG:   0%|          | 0/2500 [00:00<?, ?it/s]"
      ]
     },
     "metadata": {},
     "output_type": "display_data"
    },
    {
     "data": {
      "application/vnd.jupyter.widget-view+json": {
       "model_id": "b078701733654f8a901d8679a59f3365",
       "version_major": 2,
       "version_minor": 0
      },
      "text/plain": [
       "Predicting all ΔG:   0%|          | 0/2500 [00:00<?, ?it/s]"
      ]
     },
     "metadata": {},
     "output_type": "display_data"
    },
    {
     "data": {
      "application/vnd.jupyter.widget-view+json": {
       "model_id": "0dbf69bddd064ed799468ae7eb53b7c6",
       "version_major": 2,
       "version_minor": 0
      },
      "text/plain": [
       "Predicting all ΔG:   0%|          | 0/2500 [00:00<?, ?it/s]"
      ]
     },
     "metadata": {},
     "output_type": "display_data"
    },
    {
     "data": {
      "application/vnd.jupyter.widget-view+json": {
       "model_id": "2dfe7045ebfa4d48b60d4c420f401231",
       "version_major": 2,
       "version_minor": 0
      },
      "text/plain": [
       "Predicting all ΔG:   0%|          | 0/2500 [00:00<?, ?it/s]"
      ]
     },
     "metadata": {},
     "output_type": "display_data"
    },
    {
     "data": {
      "application/vnd.jupyter.widget-view+json": {
       "model_id": "76295f92580646d993daf08fb457fb88",
       "version_major": 2,
       "version_minor": 0
      },
      "text/plain": [
       "Predicting all ΔG:   0%|          | 0/2500 [00:00<?, ?it/s]"
      ]
     },
     "metadata": {},
     "output_type": "display_data"
    },
    {
     "data": {
      "application/vnd.jupyter.widget-view+json": {
       "model_id": "ee26d4fe2c8c4fb1a138969235f5ebbd",
       "version_major": 2,
       "version_minor": 0
      },
      "text/plain": [
       "Predicting all ΔG:   0%|          | 0/2500 [00:00<?, ?it/s]"
      ]
     },
     "metadata": {},
     "output_type": "display_data"
    },
    {
     "data": {
      "application/vnd.jupyter.widget-view+json": {
       "model_id": "5ee31cc7e4984b83a64c998604cab765",
       "version_major": 2,
       "version_minor": 0
      },
      "text/plain": [
       "Predicting all ΔG:   0%|          | 0/2500 [00:00<?, ?it/s]"
      ]
     },
     "metadata": {},
     "output_type": "display_data"
    },
    {
     "data": {
      "application/vnd.jupyter.widget-view+json": {
       "model_id": "8c7a2c9f54b141c6a438c89e688560e5",
       "version_major": 2,
       "version_minor": 0
      },
      "text/plain": [
       "Predicting all ΔG:   0%|          | 0/2500 [00:00<?, ?it/s]"
      ]
     },
     "metadata": {},
     "output_type": "display_data"
    },
    {
     "data": {
      "application/vnd.jupyter.widget-view+json": {
       "model_id": "4cdc5314a5c14069b81a7aa5b80751bf",
       "version_major": 2,
       "version_minor": 0
      },
      "text/plain": [
       "Predicting all ΔG:   0%|          | 0/2500 [00:00<?, ?it/s]"
      ]
     },
     "metadata": {},
     "output_type": "display_data"
    },
    {
     "data": {
      "application/vnd.jupyter.widget-view+json": {
       "model_id": "00f2e6d52d804b128999687cdbf4046a",
       "version_major": 2,
       "version_minor": 0
      },
      "text/plain": [
       "Predicting all ΔG:   0%|          | 0/2500 [00:00<?, ?it/s]"
      ]
     },
     "metadata": {},
     "output_type": "display_data"
    },
    {
     "data": {
      "application/vnd.jupyter.widget-view+json": {
       "model_id": "673a39413077429ea7a7db2815335bc2",
       "version_major": 2,
       "version_minor": 0
      },
      "text/plain": [
       "Predicting all ΔG:   0%|          | 0/2500 [00:00<?, ?it/s]"
      ]
     },
     "metadata": {},
     "output_type": "display_data"
    },
    {
     "data": {
      "application/vnd.jupyter.widget-view+json": {
       "model_id": "31f4f01f04de45ab81870a70cf415dcf",
       "version_major": 2,
       "version_minor": 0
      },
      "text/plain": [
       "Predicting all ΔG:   0%|          | 0/2500 [00:00<?, ?it/s]"
      ]
     },
     "metadata": {},
     "output_type": "display_data"
    },
    {
     "data": {
      "application/vnd.jupyter.widget-view+json": {
       "model_id": "3b7bfa91355b4d7eb470f14923fd11f0",
       "version_major": 2,
       "version_minor": 0
      },
      "text/plain": [
       "Predicting all ΔG:   0%|          | 0/2500 [00:00<?, ?it/s]"
      ]
     },
     "metadata": {},
     "output_type": "display_data"
    },
    {
     "data": {
      "application/vnd.jupyter.widget-view+json": {
       "model_id": "f5b4517bfbb64503b85e0ddbab88421f",
       "version_major": 2,
       "version_minor": 0
      },
      "text/plain": [
       "Predicting all ΔG:   0%|          | 0/2500 [00:00<?, ?it/s]"
      ]
     },
     "metadata": {},
     "output_type": "display_data"
    },
    {
     "data": {
      "application/vnd.jupyter.widget-view+json": {
       "model_id": "cbffa9b7152a4741946f7ce52d31a729",
       "version_major": 2,
       "version_minor": 0
      },
      "text/plain": [
       "Predicting all ΔG:   0%|          | 0/2500 [00:00<?, ?it/s]"
      ]
     },
     "metadata": {},
     "output_type": "display_data"
    },
    {
     "data": {
      "application/vnd.jupyter.widget-view+json": {
       "model_id": "97754467fabb4c5690c33b57f6331e25",
       "version_major": 2,
       "version_minor": 0
      },
      "text/plain": [
       "Predicting all ΔG:   0%|          | 0/2500 [00:00<?, ?it/s]"
      ]
     },
     "metadata": {},
     "output_type": "display_data"
    },
    {
     "data": {
      "application/vnd.jupyter.widget-view+json": {
       "model_id": "c00419fa1e0744398ef0375e46245483",
       "version_major": 2,
       "version_minor": 0
      },
      "text/plain": [
       "Predicting all ΔG:   0%|          | 0/2500 [00:00<?, ?it/s]"
      ]
     },
     "metadata": {},
     "output_type": "display_data"
    },
    {
     "data": {
      "application/vnd.jupyter.widget-view+json": {
       "model_id": "fc8adb37ea4c48aa85555bb29fe76850",
       "version_major": 2,
       "version_minor": 0
      },
      "text/plain": [
       "Predicting all ΔG:   0%|          | 0/2500 [00:00<?, ?it/s]"
      ]
     },
     "metadata": {},
     "output_type": "display_data"
    },
    {
     "data": {
      "application/vnd.jupyter.widget-view+json": {
       "model_id": "d2aa0fd0ce97416b9c71b7a65d4f1b18",
       "version_major": 2,
       "version_minor": 0
      },
      "text/plain": [
       "Predicting all ΔG:   0%|          | 0/2500 [00:00<?, ?it/s]"
      ]
     },
     "metadata": {},
     "output_type": "display_data"
    },
    {
     "data": {
      "application/vnd.jupyter.widget-view+json": {
       "model_id": "5feed7abc45e4b2094088910aa661467",
       "version_major": 2,
       "version_minor": 0
      },
      "text/plain": [
       "Predicting all ΔG:   0%|          | 0/2500 [00:00<?, ?it/s]"
      ]
     },
     "metadata": {},
     "output_type": "display_data"
    },
    {
     "data": {
      "application/vnd.jupyter.widget-view+json": {
       "model_id": "a0fde71bb7674b6aa4a815bc913b7610",
       "version_major": 2,
       "version_minor": 0
      },
      "text/plain": [
       "Predicting all ΔG:   0%|          | 0/2500 [00:00<?, ?it/s]"
      ]
     },
     "metadata": {},
     "output_type": "display_data"
    },
    {
     "data": {
      "application/vnd.jupyter.widget-view+json": {
       "model_id": "b0edbcd54e81440797616c447801fd7e",
       "version_major": 2,
       "version_minor": 0
      },
      "text/plain": [
       "Predicting all ΔG:   0%|          | 0/2500 [00:00<?, ?it/s]"
      ]
     },
     "metadata": {},
     "output_type": "display_data"
    },
    {
     "data": {
      "application/vnd.jupyter.widget-view+json": {
       "model_id": "e16b0e27c8a0451bac2e1ad24de2b569",
       "version_major": 2,
       "version_minor": 0
      },
      "text/plain": [
       "Predicting all ΔG:   0%|          | 0/2500 [00:00<?, ?it/s]"
      ]
     },
     "metadata": {},
     "output_type": "display_data"
    },
    {
     "data": {
      "application/vnd.jupyter.widget-view+json": {
       "model_id": "47f7b8ce82c04795ac28c9cf3483e0aa",
       "version_major": 2,
       "version_minor": 0
      },
      "text/plain": [
       "Predicting all ΔG:   0%|          | 0/2500 [00:00<?, ?it/s]"
      ]
     },
     "metadata": {},
     "output_type": "display_data"
    },
    {
     "data": {
      "application/vnd.jupyter.widget-view+json": {
       "model_id": "fe57049da3e845eabe9f011c6885ff10",
       "version_major": 2,
       "version_minor": 0
      },
      "text/plain": [
       "Predicting all ΔG:   0%|          | 0/2500 [00:00<?, ?it/s]"
      ]
     },
     "metadata": {},
     "output_type": "display_data"
    },
    {
     "data": {
      "application/vnd.jupyter.widget-view+json": {
       "model_id": "15c7cad0a9e745f193aa0292aaac6329",
       "version_major": 2,
       "version_minor": 0
      },
      "text/plain": [
       "Predicting all ΔG:   0%|          | 0/2500 [00:00<?, ?it/s]"
      ]
     },
     "metadata": {},
     "output_type": "display_data"
    },
    {
     "data": {
      "application/vnd.jupyter.widget-view+json": {
       "model_id": "a1a844881c174de7bf2f7ca06bbca3b9",
       "version_major": 2,
       "version_minor": 0
      },
      "text/plain": [
       "Predicting all ΔG:   0%|          | 0/2500 [00:00<?, ?it/s]"
      ]
     },
     "metadata": {},
     "output_type": "display_data"
    },
    {
     "data": {
      "application/vnd.jupyter.widget-view+json": {
       "model_id": "697d46f326814c55968b18627e87d325",
       "version_major": 2,
       "version_minor": 0
      },
      "text/plain": [
       "Predicting all ΔG:   0%|          | 0/2500 [00:00<?, ?it/s]"
      ]
     },
     "metadata": {},
     "output_type": "display_data"
    },
    {
     "data": {
      "application/vnd.jupyter.widget-view+json": {
       "model_id": "b23c6fb618d149eb8060c6ad244df7b1",
       "version_major": 2,
       "version_minor": 0
      },
      "text/plain": [
       "Predicting all ΔG:   0%|          | 0/2500 [00:00<?, ?it/s]"
      ]
     },
     "metadata": {},
     "output_type": "display_data"
    },
    {
     "data": {
      "application/vnd.jupyter.widget-view+json": {
       "model_id": "ad33652321b648fd83b034cde97c4db5",
       "version_major": 2,
       "version_minor": 0
      },
      "text/plain": [
       "Predicting all ΔG:   0%|          | 0/2500 [00:00<?, ?it/s]"
      ]
     },
     "metadata": {},
     "output_type": "display_data"
    },
    {
     "data": {
      "application/vnd.jupyter.widget-view+json": {
       "model_id": "094d46e33c054f69bc6f035d6b914070",
       "version_major": 2,
       "version_minor": 0
      },
      "text/plain": [
       "Predicting all ΔG:   0%|          | 0/2500 [00:00<?, ?it/s]"
      ]
     },
     "metadata": {},
     "output_type": "display_data"
    },
    {
     "data": {
      "application/vnd.jupyter.widget-view+json": {
       "model_id": "7ab0580cdbc34af5a85e22afc20d56a3",
       "version_major": 2,
       "version_minor": 0
      },
      "text/plain": [
       "Predicting all ΔG:   0%|          | 0/2500 [00:00<?, ?it/s]"
      ]
     },
     "metadata": {},
     "output_type": "display_data"
    },
    {
     "data": {
      "application/vnd.jupyter.widget-view+json": {
       "model_id": "605d625be7e84a828ea53f6bdfd43e40",
       "version_major": 2,
       "version_minor": 0
      },
      "text/plain": [
       "Predicting all ΔG:   0%|          | 0/2500 [00:00<?, ?it/s]"
      ]
     },
     "metadata": {},
     "output_type": "display_data"
    },
    {
     "data": {
      "application/vnd.jupyter.widget-view+json": {
       "model_id": "0ec8a010fa90411cbb80d7ebca6386de",
       "version_major": 2,
       "version_minor": 0
      },
      "text/plain": [
       "Predicting all ΔG:   0%|          | 0/2500 [00:00<?, ?it/s]"
      ]
     },
     "metadata": {},
     "output_type": "display_data"
    },
    {
     "data": {
      "application/vnd.jupyter.widget-view+json": {
       "model_id": "8d1f5413d46f491bacb3d17ea318499a",
       "version_major": 2,
       "version_minor": 0
      },
      "text/plain": [
       "Predicting all ΔG:   0%|          | 0/2500 [00:00<?, ?it/s]"
      ]
     },
     "metadata": {},
     "output_type": "display_data"
    },
    {
     "data": {
      "application/vnd.jupyter.widget-view+json": {
       "model_id": "0972e8ad74dc404380e24081e59e42c2",
       "version_major": 2,
       "version_minor": 0
      },
      "text/plain": [
       "Predicting all ΔG:   0%|          | 0/2500 [00:00<?, ?it/s]"
      ]
     },
     "metadata": {},
     "output_type": "display_data"
    },
    {
     "data": {
      "application/vnd.jupyter.widget-view+json": {
       "model_id": "020610d5837b4dadbc0c3228cf963ab0",
       "version_major": 2,
       "version_minor": 0
      },
      "text/plain": [
       "Predicting all ΔG:   0%|          | 0/2500 [00:00<?, ?it/s]"
      ]
     },
     "metadata": {},
     "output_type": "display_data"
    },
    {
     "data": {
      "application/vnd.jupyter.widget-view+json": {
       "model_id": "a71a9f0e5ab04fdabeec53dc895ecf3b",
       "version_major": 2,
       "version_minor": 0
      },
      "text/plain": [
       "Predicting all ΔG:   0%|          | 0/2500 [00:00<?, ?it/s]"
      ]
     },
     "metadata": {},
     "output_type": "display_data"
    },
    {
     "data": {
      "application/vnd.jupyter.widget-view+json": {
       "model_id": "a9750c0a96404619b76624f32f90fb6e",
       "version_major": 2,
       "version_minor": 0
      },
      "text/plain": [
       "Predicting all ΔG:   0%|          | 0/2500 [00:00<?, ?it/s]"
      ]
     },
     "metadata": {},
     "output_type": "display_data"
    },
    {
     "data": {
      "application/vnd.jupyter.widget-view+json": {
       "model_id": "4c36235698d842c2964f3469775bf65e",
       "version_major": 2,
       "version_minor": 0
      },
      "text/plain": [
       "Predicting all ΔG:   0%|          | 0/2500 [00:00<?, ?it/s]"
      ]
     },
     "metadata": {},
     "output_type": "display_data"
    },
    {
     "data": {
      "application/vnd.jupyter.widget-view+json": {
       "model_id": "031a0fb8f5b449459cb9f2e440edc415",
       "version_major": 2,
       "version_minor": 0
      },
      "text/plain": [
       "Predicting all ΔG:   0%|          | 0/2500 [00:00<?, ?it/s]"
      ]
     },
     "metadata": {},
     "output_type": "display_data"
    },
    {
     "data": {
      "application/vnd.jupyter.widget-view+json": {
       "model_id": "1636847b651f43189ce09a58ff464cbb",
       "version_major": 2,
       "version_minor": 0
      },
      "text/plain": [
       "Predicting all ΔG:   0%|          | 0/2500 [00:00<?, ?it/s]"
      ]
     },
     "metadata": {},
     "output_type": "display_data"
    },
    {
     "data": {
      "application/vnd.jupyter.widget-view+json": {
       "model_id": "11649be6de044b19ae60d4dcbd5d227d",
       "version_major": 2,
       "version_minor": 0
      },
      "text/plain": [
       "Predicting all ΔG:   0%|          | 0/2500 [00:00<?, ?it/s]"
      ]
     },
     "metadata": {},
     "output_type": "display_data"
    },
    {
     "data": {
      "application/vnd.jupyter.widget-view+json": {
       "model_id": "de3d468c133748d5b552d29b85486f61",
       "version_major": 2,
       "version_minor": 0
      },
      "text/plain": [
       "Predicting all ΔG:   0%|          | 0/2500 [00:00<?, ?it/s]"
      ]
     },
     "metadata": {},
     "output_type": "display_data"
    },
    {
     "data": {
      "application/vnd.jupyter.widget-view+json": {
       "model_id": "bfd3577e72114af9a9712fe4a0d71a68",
       "version_major": 2,
       "version_minor": 0
      },
      "text/plain": [
       "Predicting all ΔG:   0%|          | 0/2500 [00:00<?, ?it/s]"
      ]
     },
     "metadata": {},
     "output_type": "display_data"
    },
    {
     "data": {
      "application/vnd.jupyter.widget-view+json": {
       "model_id": "f10eb7c5d1064fd298d8fd062c4d4a5b",
       "version_major": 2,
       "version_minor": 0
      },
      "text/plain": [
       "Predicting all ΔG:   0%|          | 0/2500 [00:00<?, ?it/s]"
      ]
     },
     "metadata": {},
     "output_type": "display_data"
    },
    {
     "data": {
      "application/vnd.jupyter.widget-view+json": {
       "model_id": "c77e518a1e7b4e8c999f241ca8654ec8",
       "version_major": 2,
       "version_minor": 0
      },
      "text/plain": [
       "Predicting all ΔG:   0%|          | 0/2500 [00:00<?, ?it/s]"
      ]
     },
     "metadata": {},
     "output_type": "display_data"
    },
    {
     "data": {
      "application/vnd.jupyter.widget-view+json": {
       "model_id": "57ef7e4b79a54b4aaa1c87c20f13a156",
       "version_major": 2,
       "version_minor": 0
      },
      "text/plain": [
       "Predicting all ΔG:   0%|          | 0/2500 [00:00<?, ?it/s]"
      ]
     },
     "metadata": {},
     "output_type": "display_data"
    },
    {
     "data": {
      "application/vnd.jupyter.widget-view+json": {
       "model_id": "fedfbd522d0240969e0fbc4dc2662b21",
       "version_major": 2,
       "version_minor": 0
      },
      "text/plain": [
       "Predicting all ΔG:   0%|          | 0/2500 [00:00<?, ?it/s]"
      ]
     },
     "metadata": {},
     "output_type": "display_data"
    },
    {
     "data": {
      "application/vnd.jupyter.widget-view+json": {
       "model_id": "6e431ccb86444decafb9d181d2b16877",
       "version_major": 2,
       "version_minor": 0
      },
      "text/plain": [
       "Predicting all ΔG:   0%|          | 0/2500 [00:00<?, ?it/s]"
      ]
     },
     "metadata": {},
     "output_type": "display_data"
    },
    {
     "data": {
      "application/vnd.jupyter.widget-view+json": {
       "model_id": "b5d92f5458554119b521a397e43cd06d",
       "version_major": 2,
       "version_minor": 0
      },
      "text/plain": [
       "Predicting all ΔG:   0%|          | 0/2500 [00:00<?, ?it/s]"
      ]
     },
     "metadata": {},
     "output_type": "display_data"
    },
    {
     "data": {
      "application/vnd.jupyter.widget-view+json": {
       "model_id": "0167dc7bf1f1479fa0761831205d2513",
       "version_major": 2,
       "version_minor": 0
      },
      "text/plain": [
       "Predicting all ΔG:   0%|          | 0/2500 [00:00<?, ?it/s]"
      ]
     },
     "metadata": {},
     "output_type": "display_data"
    },
    {
     "data": {
      "application/vnd.jupyter.widget-view+json": {
       "model_id": "ca655c717e0643d98f23436246d21164",
       "version_major": 2,
       "version_minor": 0
      },
      "text/plain": [
       "Predicting all ΔG:   0%|          | 0/2500 [00:00<?, ?it/s]"
      ]
     },
     "metadata": {},
     "output_type": "display_data"
    },
    {
     "data": {
      "application/vnd.jupyter.widget-view+json": {
       "model_id": "2552bb5e9f0443e49d75ee26ec52dccc",
       "version_major": 2,
       "version_minor": 0
      },
      "text/plain": [
       "Predicting all ΔG:   0%|          | 0/2500 [00:00<?, ?it/s]"
      ]
     },
     "metadata": {},
     "output_type": "display_data"
    },
    {
     "data": {
      "application/vnd.jupyter.widget-view+json": {
       "model_id": "9bc7fcacd74847d4aea0536400da7bc7",
       "version_major": 2,
       "version_minor": 0
      },
      "text/plain": [
       "Predicting all ΔG:   0%|          | 0/2500 [00:00<?, ?it/s]"
      ]
     },
     "metadata": {},
     "output_type": "display_data"
    },
    {
     "data": {
      "application/vnd.jupyter.widget-view+json": {
       "model_id": "3465d5776858408caeb375f7159a4b67",
       "version_major": 2,
       "version_minor": 0
      },
      "text/plain": [
       "Predicting all ΔG:   0%|          | 0/2500 [00:00<?, ?it/s]"
      ]
     },
     "metadata": {},
     "output_type": "display_data"
    },
    {
     "data": {
      "application/vnd.jupyter.widget-view+json": {
       "model_id": "d39d0e06a9d546fb86e873cbfedc52b4",
       "version_major": 2,
       "version_minor": 0
      },
      "text/plain": [
       "Predicting all ΔG:   0%|          | 0/2500 [00:00<?, ?it/s]"
      ]
     },
     "metadata": {},
     "output_type": "display_data"
    },
    {
     "data": {
      "application/vnd.jupyter.widget-view+json": {
       "model_id": "f3586ec3168b47e8a28dec2aed8669ae",
       "version_major": 2,
       "version_minor": 0
      },
      "text/plain": [
       "Predicting all ΔG:   0%|          | 0/2500 [00:00<?, ?it/s]"
      ]
     },
     "metadata": {},
     "output_type": "display_data"
    },
    {
     "data": {
      "application/vnd.jupyter.widget-view+json": {
       "model_id": "83e23b8ba5fe481f8cc0b7fd434b2be2",
       "version_major": 2,
       "version_minor": 0
      },
      "text/plain": [
       "Predicting all ΔG:   0%|          | 0/2500 [00:00<?, ?it/s]"
      ]
     },
     "metadata": {},
     "output_type": "display_data"
    },
    {
     "data": {
      "application/vnd.jupyter.widget-view+json": {
       "model_id": "f43d000089c24046ab6ce431b21e2307",
       "version_major": 2,
       "version_minor": 0
      },
      "text/plain": [
       "Predicting all ΔG:   0%|          | 0/2500 [00:00<?, ?it/s]"
      ]
     },
     "metadata": {},
     "output_type": "display_data"
    },
    {
     "data": {
      "application/vnd.jupyter.widget-view+json": {
       "model_id": "7aef31c49d9946b489a884f740980f72",
       "version_major": 2,
       "version_minor": 0
      },
      "text/plain": [
       "Predicting all ΔG:   0%|          | 0/2500 [00:00<?, ?it/s]"
      ]
     },
     "metadata": {},
     "output_type": "display_data"
    },
    {
     "data": {
      "application/vnd.jupyter.widget-view+json": {
       "model_id": "86283fe931f14aba8f7f02268431ab0d",
       "version_major": 2,
       "version_minor": 0
      },
      "text/plain": [
       "Predicting all ΔG:   0%|          | 0/2500 [00:00<?, ?it/s]"
      ]
     },
     "metadata": {},
     "output_type": "display_data"
    },
    {
     "data": {
      "application/vnd.jupyter.widget-view+json": {
       "model_id": "0339e630f8d64ecfb65f372d866583d7",
       "version_major": 2,
       "version_minor": 0
      },
      "text/plain": [
       "Predicting all ΔG:   0%|          | 0/2500 [00:00<?, ?it/s]"
      ]
     },
     "metadata": {},
     "output_type": "display_data"
    },
    {
     "data": {
      "application/vnd.jupyter.widget-view+json": {
       "model_id": "91292bb0d2d54a4abd92832136d3ed2e",
       "version_major": 2,
       "version_minor": 0
      },
      "text/plain": [
       "Predicting all ΔG:   0%|          | 0/2500 [00:00<?, ?it/s]"
      ]
     },
     "metadata": {},
     "output_type": "display_data"
    },
    {
     "data": {
      "application/vnd.jupyter.widget-view+json": {
       "model_id": "d9ffa343de2440ae83407eeaf62bc456",
       "version_major": 2,
       "version_minor": 0
      },
      "text/plain": [
       "Predicting all ΔG:   0%|          | 0/2500 [00:00<?, ?it/s]"
      ]
     },
     "metadata": {},
     "output_type": "display_data"
    },
    {
     "data": {
      "application/vnd.jupyter.widget-view+json": {
       "model_id": "b7cf1abf205846be831e39d8e78f8c25",
       "version_major": 2,
       "version_minor": 0
      },
      "text/plain": [
       "Predicting all ΔG:   0%|          | 0/2500 [00:00<?, ?it/s]"
      ]
     },
     "metadata": {},
     "output_type": "display_data"
    },
    {
     "data": {
      "application/vnd.jupyter.widget-view+json": {
       "model_id": "7166abc7e9654c1f9d3400adbeaadf3d",
       "version_major": 2,
       "version_minor": 0
      },
      "text/plain": [
       "Predicting all ΔG:   0%|          | 0/2500 [00:00<?, ?it/s]"
      ]
     },
     "metadata": {},
     "output_type": "display_data"
    },
    {
     "data": {
      "application/vnd.jupyter.widget-view+json": {
       "model_id": "478e6624fa364f20a0ddbc6a6b5fc14e",
       "version_major": 2,
       "version_minor": 0
      },
      "text/plain": [
       "Predicting all ΔG:   0%|          | 0/2500 [00:00<?, ?it/s]"
      ]
     },
     "metadata": {},
     "output_type": "display_data"
    },
    {
     "data": {
      "application/vnd.jupyter.widget-view+json": {
       "model_id": "4bcbea16e9b94ba58e17244967776136",
       "version_major": 2,
       "version_minor": 0
      },
      "text/plain": [
       "Predicting all ΔG:   0%|          | 0/2500 [00:00<?, ?it/s]"
      ]
     },
     "metadata": {},
     "output_type": "display_data"
    },
    {
     "data": {
      "application/vnd.jupyter.widget-view+json": {
       "model_id": "b1b75d3cf05d4539a83a2cfdf2a31555",
       "version_major": 2,
       "version_minor": 0
      },
      "text/plain": [
       "Predicting all ΔG:   0%|          | 0/2500 [00:00<?, ?it/s]"
      ]
     },
     "metadata": {},
     "output_type": "display_data"
    },
    {
     "data": {
      "application/vnd.jupyter.widget-view+json": {
       "model_id": "2c597fc9668b431c8aa64931eed87eb0",
       "version_major": 2,
       "version_minor": 0
      },
      "text/plain": [
       "Predicting all ΔG:   0%|          | 0/2500 [00:00<?, ?it/s]"
      ]
     },
     "metadata": {},
     "output_type": "display_data"
    },
    {
     "data": {
      "application/vnd.jupyter.widget-view+json": {
       "model_id": "69a509d25c504eda946040bff4a920b1",
       "version_major": 2,
       "version_minor": 0
      },
      "text/plain": [
       "Predicting all ΔG:   0%|          | 0/2500 [00:00<?, ?it/s]"
      ]
     },
     "metadata": {},
     "output_type": "display_data"
    },
    {
     "data": {
      "application/vnd.jupyter.widget-view+json": {
       "model_id": "5e92b8c705054892b95f692eae2467ee",
       "version_major": 2,
       "version_minor": 0
      },
      "text/plain": [
       "Predicting all ΔG:   0%|          | 0/2500 [00:00<?, ?it/s]"
      ]
     },
     "metadata": {},
     "output_type": "display_data"
    },
    {
     "data": {
      "application/vnd.jupyter.widget-view+json": {
       "model_id": "ee919ed3704749669546cffd44c474e0",
       "version_major": 2,
       "version_minor": 0
      },
      "text/plain": [
       "Predicting all ΔG:   0%|          | 0/2500 [00:00<?, ?it/s]"
      ]
     },
     "metadata": {},
     "output_type": "display_data"
    },
    {
     "data": {
      "application/vnd.jupyter.widget-view+json": {
       "model_id": "8b16bee934fd499992a51b3080b7ecf0",
       "version_major": 2,
       "version_minor": 0
      },
      "text/plain": [
       "Predicting all ΔG:   0%|          | 0/2500 [00:00<?, ?it/s]"
      ]
     },
     "metadata": {},
     "output_type": "display_data"
    },
    {
     "data": {
      "application/vnd.jupyter.widget-view+json": {
       "model_id": "c0f66453851f44899f35fef83d7b5e15",
       "version_major": 2,
       "version_minor": 0
      },
      "text/plain": [
       "Predicting all ΔG:   0%|          | 0/2500 [00:00<?, ?it/s]"
      ]
     },
     "metadata": {},
     "output_type": "display_data"
    },
    {
     "data": {
      "application/vnd.jupyter.widget-view+json": {
       "model_id": "3c2fdd210aa046c3be86ab6ba679e57a",
       "version_major": 2,
       "version_minor": 0
      },
      "text/plain": [
       "Predicting all ΔG:   0%|          | 0/2500 [00:00<?, ?it/s]"
      ]
     },
     "metadata": {},
     "output_type": "display_data"
    },
    {
     "data": {
      "application/vnd.jupyter.widget-view+json": {
       "model_id": "a7d940dbf3fe4852a18730be8d2c3c1d",
       "version_major": 2,
       "version_minor": 0
      },
      "text/plain": [
       "Predicting all ΔG:   0%|          | 0/2500 [00:00<?, ?it/s]"
      ]
     },
     "metadata": {},
     "output_type": "display_data"
    },
    {
     "data": {
      "application/vnd.jupyter.widget-view+json": {
       "model_id": "f03c88699bd2447bb51fa58468514ea4",
       "version_major": 2,
       "version_minor": 0
      },
      "text/plain": [
       "Predicting all ΔG:   0%|          | 0/2500 [00:00<?, ?it/s]"
      ]
     },
     "metadata": {},
     "output_type": "display_data"
    },
    {
     "data": {
      "application/vnd.jupyter.widget-view+json": {
       "model_id": "3ed0c0ed166b4d72974aa64f0131c72b",
       "version_major": 2,
       "version_minor": 0
      },
      "text/plain": [
       "Predicting all ΔG:   0%|          | 0/2500 [00:00<?, ?it/s]"
      ]
     },
     "metadata": {},
     "output_type": "display_data"
    },
    {
     "data": {
      "application/vnd.jupyter.widget-view+json": {
       "model_id": "0e7edc540cdb46dd98b915f6b7bccf5b",
       "version_major": 2,
       "version_minor": 0
      },
      "text/plain": [
       "Predicting all ΔG:   0%|          | 0/2500 [00:00<?, ?it/s]"
      ]
     },
     "metadata": {},
     "output_type": "display_data"
    },
    {
     "data": {
      "application/vnd.jupyter.widget-view+json": {
       "model_id": "a375fa0fb37341b9af64fe81172b8921",
       "version_major": 2,
       "version_minor": 0
      },
      "text/plain": [
       "Predicting all ΔG:   0%|          | 0/2500 [00:00<?, ?it/s]"
      ]
     },
     "metadata": {},
     "output_type": "display_data"
    },
    {
     "data": {
      "application/vnd.jupyter.widget-view+json": {
       "model_id": "441faeeb89f3436fa9bec57506a89ebd",
       "version_major": 2,
       "version_minor": 0
      },
      "text/plain": [
       "Predicting all ΔG:   0%|          | 0/2500 [00:00<?, ?it/s]"
      ]
     },
     "metadata": {},
     "output_type": "display_data"
    },
    {
     "data": {
      "application/vnd.jupyter.widget-view+json": {
       "model_id": "a53780bda3bc4761934be64240cb0d60",
       "version_major": 2,
       "version_minor": 0
      },
      "text/plain": [
       "Predicting all ΔG:   0%|          | 0/2500 [00:00<?, ?it/s]"
      ]
     },
     "metadata": {},
     "output_type": "display_data"
    },
    {
     "data": {
      "application/vnd.jupyter.widget-view+json": {
       "model_id": "1fb015668f9d45509c67514b8eca1f25",
       "version_major": 2,
       "version_minor": 0
      },
      "text/plain": [
       "Predicting all ΔG:   0%|          | 0/2500 [00:00<?, ?it/s]"
      ]
     },
     "metadata": {},
     "output_type": "display_data"
    },
    {
     "data": {
      "application/vnd.jupyter.widget-view+json": {
       "model_id": "5cf30f3aea9d4a198a1274ee282adee3",
       "version_major": 2,
       "version_minor": 0
      },
      "text/plain": [
       "Predicting all ΔG:   0%|          | 0/2500 [00:00<?, ?it/s]"
      ]
     },
     "metadata": {},
     "output_type": "display_data"
    },
    {
     "data": {
      "application/vnd.jupyter.widget-view+json": {
       "model_id": "b0f44896109449ce8fdb81bc1ed1b76c",
       "version_major": 2,
       "version_minor": 0
      },
      "text/plain": [
       "Predicting all ΔG:   0%|          | 0/2500 [00:00<?, ?it/s]"
      ]
     },
     "metadata": {},
     "output_type": "display_data"
    },
    {
     "data": {
      "application/vnd.jupyter.widget-view+json": {
       "model_id": "2a982fc530934de788ab47ae680666c4",
       "version_major": 2,
       "version_minor": 0
      },
      "text/plain": [
       "Predicting all ΔG:   0%|          | 0/2500 [00:00<?, ?it/s]"
      ]
     },
     "metadata": {},
     "output_type": "display_data"
    },
    {
     "data": {
      "application/vnd.jupyter.widget-view+json": {
       "model_id": "2d51880beaaf4684aa46c039643ddc65",
       "version_major": 2,
       "version_minor": 0
      },
      "text/plain": [
       "Predicting all ΔG:   0%|          | 0/2500 [00:00<?, ?it/s]"
      ]
     },
     "metadata": {},
     "output_type": "display_data"
    },
    {
     "data": {
      "application/vnd.jupyter.widget-view+json": {
       "model_id": "e51dee40c4ab4e5799c5b34f06a8dfbb",
       "version_major": 2,
       "version_minor": 0
      },
      "text/plain": [
       "Predicting all ΔG:   0%|          | 0/2500 [00:00<?, ?it/s]"
      ]
     },
     "metadata": {},
     "output_type": "display_data"
    },
    {
     "data": {
      "application/vnd.jupyter.widget-view+json": {
       "model_id": "68dc8559cfca405abea30d846def90b4",
       "version_major": 2,
       "version_minor": 0
      },
      "text/plain": [
       "Predicting all ΔG:   0%|          | 0/2500 [00:00<?, ?it/s]"
      ]
     },
     "metadata": {},
     "output_type": "display_data"
    },
    {
     "data": {
      "application/vnd.jupyter.widget-view+json": {
       "model_id": "b4177b4014dc405a8ad9996f45a5470a",
       "version_major": 2,
       "version_minor": 0
      },
      "text/plain": [
       "Predicting all ΔG:   0%|          | 0/2500 [00:00<?, ?it/s]"
      ]
     },
     "metadata": {},
     "output_type": "display_data"
    },
    {
     "data": {
      "application/vnd.jupyter.widget-view+json": {
       "model_id": "8b81beccd4f8483cb202d9f0816c1f8d",
       "version_major": 2,
       "version_minor": 0
      },
      "text/plain": [
       "Predicting all ΔG:   0%|          | 0/2500 [00:00<?, ?it/s]"
      ]
     },
     "metadata": {},
     "output_type": "display_data"
    },
    {
     "data": {
      "application/vnd.jupyter.widget-view+json": {
       "model_id": "bb4002286be34da28f9eeb17f9bf859b",
       "version_major": 2,
       "version_minor": 0
      },
      "text/plain": [
       "Predicting all ΔG:   0%|          | 0/2500 [00:00<?, ?it/s]"
      ]
     },
     "metadata": {},
     "output_type": "display_data"
    },
    {
     "data": {
      "application/vnd.jupyter.widget-view+json": {
       "model_id": "65dc7983c5db4a3ca405771964aaf46b",
       "version_major": 2,
       "version_minor": 0
      },
      "text/plain": [
       "Predicting all ΔG:   0%|          | 0/2500 [00:00<?, ?it/s]"
      ]
     },
     "metadata": {},
     "output_type": "display_data"
    },
    {
     "data": {
      "application/vnd.jupyter.widget-view+json": {
       "model_id": "feebfd5a361a4051bf499ac8eeb3b992",
       "version_major": 2,
       "version_minor": 0
      },
      "text/plain": [
       "Predicting all ΔG:   0%|          | 0/2500 [00:00<?, ?it/s]"
      ]
     },
     "metadata": {},
     "output_type": "display_data"
    },
    {
     "data": {
      "application/vnd.jupyter.widget-view+json": {
       "model_id": "bbed25aa96184041bb1ba6650fb319e2",
       "version_major": 2,
       "version_minor": 0
      },
      "text/plain": [
       "Predicting all ΔG:   0%|          | 0/2500 [00:00<?, ?it/s]"
      ]
     },
     "metadata": {},
     "output_type": "display_data"
    },
    {
     "data": {
      "application/vnd.jupyter.widget-view+json": {
       "model_id": "f7d68b9e04364af7a0acf6c1840b955d",
       "version_major": 2,
       "version_minor": 0
      },
      "text/plain": [
       "Predicting all ΔG:   0%|          | 0/2500 [00:00<?, ?it/s]"
      ]
     },
     "metadata": {},
     "output_type": "display_data"
    },
    {
     "data": {
      "application/vnd.jupyter.widget-view+json": {
       "model_id": "0ef553c3a3d34da6bcf0b5af43cb022e",
       "version_major": 2,
       "version_minor": 0
      },
      "text/plain": [
       "Predicting all ΔG:   0%|          | 0/2500 [00:00<?, ?it/s]"
      ]
     },
     "metadata": {},
     "output_type": "display_data"
    },
    {
     "data": {
      "application/vnd.jupyter.widget-view+json": {
       "model_id": "684b5b7d4f364c3792e0edf29e56a152",
       "version_major": 2,
       "version_minor": 0
      },
      "text/plain": [
       "Predicting all ΔG:   0%|          | 0/2500 [00:00<?, ?it/s]"
      ]
     },
     "metadata": {},
     "output_type": "display_data"
    },
    {
     "data": {
      "application/vnd.jupyter.widget-view+json": {
       "model_id": "8d5024fd93a840c1a360b31750846491",
       "version_major": 2,
       "version_minor": 0
      },
      "text/plain": [
       "Predicting all ΔG:   0%|          | 0/2500 [00:00<?, ?it/s]"
      ]
     },
     "metadata": {},
     "output_type": "display_data"
    },
    {
     "data": {
      "application/vnd.jupyter.widget-view+json": {
       "model_id": "e9ea5a75cfea45f9a22b8eb7a45240d8",
       "version_major": 2,
       "version_minor": 0
      },
      "text/plain": [
       "Predicting all ΔG:   0%|          | 0/2500 [00:00<?, ?it/s]"
      ]
     },
     "metadata": {},
     "output_type": "display_data"
    },
    {
     "data": {
      "application/vnd.jupyter.widget-view+json": {
       "model_id": "3f9e4d05719d43c7850a7527132e80da",
       "version_major": 2,
       "version_minor": 0
      },
      "text/plain": [
       "Predicting all ΔG:   0%|          | 0/2500 [00:00<?, ?it/s]"
      ]
     },
     "metadata": {},
     "output_type": "display_data"
    },
    {
     "data": {
      "application/vnd.jupyter.widget-view+json": {
       "model_id": "530f4dafbefd4ab6831ba5c589d813a5",
       "version_major": 2,
       "version_minor": 0
      },
      "text/plain": [
       "Predicting all ΔG:   0%|          | 0/2500 [00:00<?, ?it/s]"
      ]
     },
     "metadata": {},
     "output_type": "display_data"
    },
    {
     "data": {
      "application/vnd.jupyter.widget-view+json": {
       "model_id": "0862b85b556348b19a350231ac5f0bc4",
       "version_major": 2,
       "version_minor": 0
      },
      "text/plain": [
       "Predicting all ΔG:   0%|          | 0/2500 [00:00<?, ?it/s]"
      ]
     },
     "metadata": {},
     "output_type": "display_data"
    },
    {
     "data": {
      "application/vnd.jupyter.widget-view+json": {
       "model_id": "9e574b9125084b4b99e534af0e70967c",
       "version_major": 2,
       "version_minor": 0
      },
      "text/plain": [
       "Predicting all ΔG:   0%|          | 0/2500 [00:00<?, ?it/s]"
      ]
     },
     "metadata": {},
     "output_type": "display_data"
    },
    {
     "data": {
      "application/vnd.jupyter.widget-view+json": {
       "model_id": "8230a4ea418345ffbd60187e2f24c793",
       "version_major": 2,
       "version_minor": 0
      },
      "text/plain": [
       "Predicting all ΔG:   0%|          | 0/2500 [00:00<?, ?it/s]"
      ]
     },
     "metadata": {},
     "output_type": "display_data"
    },
    {
     "data": {
      "application/vnd.jupyter.widget-view+json": {
       "model_id": "08fb5a8be98443a0913079f63d13b931",
       "version_major": 2,
       "version_minor": 0
      },
      "text/plain": [
       "Predicting all ΔG:   0%|          | 0/2500 [00:00<?, ?it/s]"
      ]
     },
     "metadata": {},
     "output_type": "display_data"
    },
    {
     "data": {
      "application/vnd.jupyter.widget-view+json": {
       "model_id": "141be4a424a746af85cda4bfae7a461e",
       "version_major": 2,
       "version_minor": 0
      },
      "text/plain": [
       "Predicting all ΔG:   0%|          | 0/2500 [00:00<?, ?it/s]"
      ]
     },
     "metadata": {},
     "output_type": "display_data"
    },
    {
     "data": {
      "application/vnd.jupyter.widget-view+json": {
       "model_id": "41ef000a68af4e24beb8982c8b18305c",
       "version_major": 2,
       "version_minor": 0
      },
      "text/plain": [
       "Predicting all ΔG:   0%|          | 0/2500 [00:00<?, ?it/s]"
      ]
     },
     "metadata": {},
     "output_type": "display_data"
    },
    {
     "data": {
      "application/vnd.jupyter.widget-view+json": {
       "model_id": "3cc265fe9512481197eaacb42cc46701",
       "version_major": 2,
       "version_minor": 0
      },
      "text/plain": [
       "Predicting all ΔG:   0%|          | 0/2500 [00:00<?, ?it/s]"
      ]
     },
     "metadata": {},
     "output_type": "display_data"
    },
    {
     "data": {
      "application/vnd.jupyter.widget-view+json": {
       "model_id": "9d6f7b21b1a0498c88399dd5d18c2645",
       "version_major": 2,
       "version_minor": 0
      },
      "text/plain": [
       "Predicting all ΔG:   0%|          | 0/2500 [00:00<?, ?it/s]"
      ]
     },
     "metadata": {},
     "output_type": "display_data"
    },
    {
     "data": {
      "application/vnd.jupyter.widget-view+json": {
       "model_id": "d9cfaa5fc6a94434a731a2782c0db4b7",
       "version_major": 2,
       "version_minor": 0
      },
      "text/plain": [
       "Predicting all ΔG:   0%|          | 0/2500 [00:00<?, ?it/s]"
      ]
     },
     "metadata": {},
     "output_type": "display_data"
    },
    {
     "data": {
      "application/vnd.jupyter.widget-view+json": {
       "model_id": "f38e6d9d9c0c474c9eafc766c8bdebb5",
       "version_major": 2,
       "version_minor": 0
      },
      "text/plain": [
       "Predicting all ΔG:   0%|          | 0/2500 [00:00<?, ?it/s]"
      ]
     },
     "metadata": {},
     "output_type": "display_data"
    },
    {
     "data": {
      "application/vnd.jupyter.widget-view+json": {
       "model_id": "f108e98db18d440882ed0359b29045c8",
       "version_major": 2,
       "version_minor": 0
      },
      "text/plain": [
       "Predicting all ΔG:   0%|          | 0/2500 [00:00<?, ?it/s]"
      ]
     },
     "metadata": {},
     "output_type": "display_data"
    },
    {
     "data": {
      "application/vnd.jupyter.widget-view+json": {
       "model_id": "b11a66720908476c89dc585470ee631a",
       "version_major": 2,
       "version_minor": 0
      },
      "text/plain": [
       "Predicting all ΔG:   0%|          | 0/2500 [00:00<?, ?it/s]"
      ]
     },
     "metadata": {},
     "output_type": "display_data"
    },
    {
     "data": {
      "application/vnd.jupyter.widget-view+json": {
       "model_id": "4d095b3c272d46fb85d8c6d546f04d9b",
       "version_major": 2,
       "version_minor": 0
      },
      "text/plain": [
       "Predicting all ΔG:   0%|          | 0/2500 [00:00<?, ?it/s]"
      ]
     },
     "metadata": {},
     "output_type": "display_data"
    },
    {
     "data": {
      "application/vnd.jupyter.widget-view+json": {
       "model_id": "fe036e1c9c544b00a7b80dac590054d8",
       "version_major": 2,
       "version_minor": 0
      },
      "text/plain": [
       "Predicting all ΔG:   0%|          | 0/2500 [00:00<?, ?it/s]"
      ]
     },
     "metadata": {},
     "output_type": "display_data"
    },
    {
     "data": {
      "application/vnd.jupyter.widget-view+json": {
       "model_id": "36ace996c38b4f9f843d54aed17fed6c",
       "version_major": 2,
       "version_minor": 0
      },
      "text/plain": [
       "Predicting all ΔG:   0%|          | 0/2500 [00:00<?, ?it/s]"
      ]
     },
     "metadata": {},
     "output_type": "display_data"
    },
    {
     "data": {
      "application/vnd.jupyter.widget-view+json": {
       "model_id": "7cc07268cd42471ba03d4f63fca70740",
       "version_major": 2,
       "version_minor": 0
      },
      "text/plain": [
       "Predicting all ΔG:   0%|          | 0/2500 [00:00<?, ?it/s]"
      ]
     },
     "metadata": {},
     "output_type": "display_data"
    },
    {
     "data": {
      "application/vnd.jupyter.widget-view+json": {
       "model_id": "06b34dd6a6a9429295ea707d79d948b2",
       "version_major": 2,
       "version_minor": 0
      },
      "text/plain": [
       "Predicting all ΔG:   0%|          | 0/2500 [00:00<?, ?it/s]"
      ]
     },
     "metadata": {},
     "output_type": "display_data"
    },
    {
     "data": {
      "application/vnd.jupyter.widget-view+json": {
       "model_id": "4530f079ab0e453eaae195267edac3a4",
       "version_major": 2,
       "version_minor": 0
      },
      "text/plain": [
       "Predicting all ΔG:   0%|          | 0/2500 [00:00<?, ?it/s]"
      ]
     },
     "metadata": {},
     "output_type": "display_data"
    },
    {
     "data": {
      "application/vnd.jupyter.widget-view+json": {
       "model_id": "006e795b7d574b50a6d771f0cd6cb8a8",
       "version_major": 2,
       "version_minor": 0
      },
      "text/plain": [
       "Predicting all ΔG:   0%|          | 0/2500 [00:00<?, ?it/s]"
      ]
     },
     "metadata": {},
     "output_type": "display_data"
    },
    {
     "data": {
      "application/vnd.jupyter.widget-view+json": {
       "model_id": "39c5973a46144cfd845bdf5757e2d3c8",
       "version_major": 2,
       "version_minor": 0
      },
      "text/plain": [
       "Predicting all ΔG:   0%|          | 0/2500 [00:00<?, ?it/s]"
      ]
     },
     "metadata": {},
     "output_type": "display_data"
    },
    {
     "data": {
      "application/vnd.jupyter.widget-view+json": {
       "model_id": "b23218a140dc45e6ae4ccad3120611e5",
       "version_major": 2,
       "version_minor": 0
      },
      "text/plain": [
       "Predicting all ΔG:   0%|          | 0/2500 [00:00<?, ?it/s]"
      ]
     },
     "metadata": {},
     "output_type": "display_data"
    },
    {
     "data": {
      "application/vnd.jupyter.widget-view+json": {
       "model_id": "a378783f2e464a4fa9f1f112057edd29",
       "version_major": 2,
       "version_minor": 0
      },
      "text/plain": [
       "Predicting all ΔG:   0%|          | 0/2500 [00:00<?, ?it/s]"
      ]
     },
     "metadata": {},
     "output_type": "display_data"
    },
    {
     "data": {
      "application/vnd.jupyter.widget-view+json": {
       "model_id": "8ab682226c704d678abb567a3085e523",
       "version_major": 2,
       "version_minor": 0
      },
      "text/plain": [
       "Predicting all ΔG:   0%|          | 0/2500 [00:00<?, ?it/s]"
      ]
     },
     "metadata": {},
     "output_type": "display_data"
    },
    {
     "data": {
      "application/vnd.jupyter.widget-view+json": {
       "model_id": "59fa79eb24e845b3bbe27b0f420cc8f4",
       "version_major": 2,
       "version_minor": 0
      },
      "text/plain": [
       "Predicting all ΔG:   0%|          | 0/2500 [00:00<?, ?it/s]"
      ]
     },
     "metadata": {},
     "output_type": "display_data"
    },
    {
     "data": {
      "application/vnd.jupyter.widget-view+json": {
       "model_id": "51f73b31d7414af6a6978685adff5e62",
       "version_major": 2,
       "version_minor": 0
      },
      "text/plain": [
       "Predicting all ΔG:   0%|          | 0/2500 [00:00<?, ?it/s]"
      ]
     },
     "metadata": {},
     "output_type": "display_data"
    },
    {
     "data": {
      "application/vnd.jupyter.widget-view+json": {
       "model_id": "eaf855b63e9b4982a8876bf2bf7a7d03",
       "version_major": 2,
       "version_minor": 0
      },
      "text/plain": [
       "Predicting all ΔG:   0%|          | 0/2500 [00:00<?, ?it/s]"
      ]
     },
     "metadata": {},
     "output_type": "display_data"
    },
    {
     "data": {
      "application/vnd.jupyter.widget-view+json": {
       "model_id": "9f1ec4b72e1f4e5299b0b64a1595810f",
       "version_major": 2,
       "version_minor": 0
      },
      "text/plain": [
       "Predicting all ΔG:   0%|          | 0/2500 [00:00<?, ?it/s]"
      ]
     },
     "metadata": {},
     "output_type": "display_data"
    },
    {
     "data": {
      "application/vnd.jupyter.widget-view+json": {
       "model_id": "f1a478d3cf9c4d6bb3cdbf8f62de0dd5",
       "version_major": 2,
       "version_minor": 0
      },
      "text/plain": [
       "Predicting all ΔG:   0%|          | 0/2500 [00:00<?, ?it/s]"
      ]
     },
     "metadata": {},
     "output_type": "display_data"
    },
    {
     "data": {
      "application/vnd.jupyter.widget-view+json": {
       "model_id": "fec7b5a582654abf989c55407c9aa260",
       "version_major": 2,
       "version_minor": 0
      },
      "text/plain": [
       "Predicting all ΔG:   0%|          | 0/2500 [00:00<?, ?it/s]"
      ]
     },
     "metadata": {},
     "output_type": "display_data"
    },
    {
     "data": {
      "application/vnd.jupyter.widget-view+json": {
       "model_id": "be9d840c835847c4b16729d4b06e5afb",
       "version_major": 2,
       "version_minor": 0
      },
      "text/plain": [
       "Predicting all ΔG:   0%|          | 0/2500 [00:00<?, ?it/s]"
      ]
     },
     "metadata": {},
     "output_type": "display_data"
    },
    {
     "data": {
      "application/vnd.jupyter.widget-view+json": {
       "model_id": "fc8cb5544de54d67814f5cd5dcdfbc85",
       "version_major": 2,
       "version_minor": 0
      },
      "text/plain": [
       "Predicting all ΔG:   0%|          | 0/2500 [00:00<?, ?it/s]"
      ]
     },
     "metadata": {},
     "output_type": "display_data"
    },
    {
     "data": {
      "application/vnd.jupyter.widget-view+json": {
       "model_id": "518b9b702abd4ecda7b6c4b6a7b063bb",
       "version_major": 2,
       "version_minor": 0
      },
      "text/plain": [
       "Predicting all ΔG:   0%|          | 0/2500 [00:00<?, ?it/s]"
      ]
     },
     "metadata": {},
     "output_type": "display_data"
    },
    {
     "data": {
      "application/vnd.jupyter.widget-view+json": {
       "model_id": "5764708eb9b7461d891577b06896406d",
       "version_major": 2,
       "version_minor": 0
      },
      "text/plain": [
       "Predicting all ΔG:   0%|          | 0/2500 [00:00<?, ?it/s]"
      ]
     },
     "metadata": {},
     "output_type": "display_data"
    },
    {
     "data": {
      "application/vnd.jupyter.widget-view+json": {
       "model_id": "b9464d3a03af49ffb0554cb4331dcecc",
       "version_major": 2,
       "version_minor": 0
      },
      "text/plain": [
       "Predicting all ΔG:   0%|          | 0/2500 [00:00<?, ?it/s]"
      ]
     },
     "metadata": {},
     "output_type": "display_data"
    },
    {
     "data": {
      "application/vnd.jupyter.widget-view+json": {
       "model_id": "69d7733704de4c228b1f86fcebe00a7e",
       "version_major": 2,
       "version_minor": 0
      },
      "text/plain": [
       "Predicting all ΔG:   0%|          | 0/2500 [00:00<?, ?it/s]"
      ]
     },
     "metadata": {},
     "output_type": "display_data"
    },
    {
     "data": {
      "application/vnd.jupyter.widget-view+json": {
       "model_id": "5fbd87fdf41741d4958a7d74c2db6e04",
       "version_major": 2,
       "version_minor": 0
      },
      "text/plain": [
       "Predicting all ΔG:   0%|          | 0/2500 [00:00<?, ?it/s]"
      ]
     },
     "metadata": {},
     "output_type": "display_data"
    },
    {
     "data": {
      "application/vnd.jupyter.widget-view+json": {
       "model_id": "13a44a59a52b40b3925c25565bcd3d04",
       "version_major": 2,
       "version_minor": 0
      },
      "text/plain": [
       "Predicting all ΔG:   0%|          | 0/2500 [00:00<?, ?it/s]"
      ]
     },
     "metadata": {},
     "output_type": "display_data"
    },
    {
     "data": {
      "application/vnd.jupyter.widget-view+json": {
       "model_id": "155d0fa9f53748b5911834630a62b869",
       "version_major": 2,
       "version_minor": 0
      },
      "text/plain": [
       "Predicting all ΔG:   0%|          | 0/2500 [00:00<?, ?it/s]"
      ]
     },
     "metadata": {},
     "output_type": "display_data"
    },
    {
     "data": {
      "application/vnd.jupyter.widget-view+json": {
       "model_id": "1d482aef7437483eb48f897e8c92afed",
       "version_major": 2,
       "version_minor": 0
      },
      "text/plain": [
       "Predicting all ΔG:   0%|          | 0/2500 [00:00<?, ?it/s]"
      ]
     },
     "metadata": {},
     "output_type": "display_data"
    },
    {
     "data": {
      "application/vnd.jupyter.widget-view+json": {
       "model_id": "c2ae9485d58d429b99ad683a909e42b0",
       "version_major": 2,
       "version_minor": 0
      },
      "text/plain": [
       "Predicting all ΔG:   0%|          | 0/2500 [00:00<?, ?it/s]"
      ]
     },
     "metadata": {},
     "output_type": "display_data"
    },
    {
     "data": {
      "application/vnd.jupyter.widget-view+json": {
       "model_id": "4bcb47d59eb34862b34eacd30a92b4c2",
       "version_major": 2,
       "version_minor": 0
      },
      "text/plain": [
       "Predicting all ΔG:   0%|          | 0/2500 [00:00<?, ?it/s]"
      ]
     },
     "metadata": {},
     "output_type": "display_data"
    },
    {
     "data": {
      "application/vnd.jupyter.widget-view+json": {
       "model_id": "5ad79b328fe5459f81b09f57f6d56572",
       "version_major": 2,
       "version_minor": 0
      },
      "text/plain": [
       "Predicting all ΔG:   0%|          | 0/2500 [00:00<?, ?it/s]"
      ]
     },
     "metadata": {},
     "output_type": "display_data"
    },
    {
     "data": {
      "application/vnd.jupyter.widget-view+json": {
       "model_id": "539d1616c70040d69cefa20e317d1f96",
       "version_major": 2,
       "version_minor": 0
      },
      "text/plain": [
       "Predicting all ΔG:   0%|          | 0/2500 [00:00<?, ?it/s]"
      ]
     },
     "metadata": {},
     "output_type": "display_data"
    },
    {
     "data": {
      "application/vnd.jupyter.widget-view+json": {
       "model_id": "1cd6dd2d3d3b4e749e7d6f3ee63b8e7d",
       "version_major": 2,
       "version_minor": 0
      },
      "text/plain": [
       "Predicting all ΔG:   0%|          | 0/2500 [00:00<?, ?it/s]"
      ]
     },
     "metadata": {},
     "output_type": "display_data"
    },
    {
     "data": {
      "application/vnd.jupyter.widget-view+json": {
       "model_id": "fb8e04e7aac14721867eb9411e0b3301",
       "version_major": 2,
       "version_minor": 0
      },
      "text/plain": [
       "Predicting all ΔG:   0%|          | 0/2500 [00:00<?, ?it/s]"
      ]
     },
     "metadata": {},
     "output_type": "display_data"
    },
    {
     "data": {
      "application/vnd.jupyter.widget-view+json": {
       "model_id": "e0c9d7e3735b4b5ea70c260063a6085e",
       "version_major": 2,
       "version_minor": 0
      },
      "text/plain": [
       "Predicting all ΔG:   0%|          | 0/2500 [00:00<?, ?it/s]"
      ]
     },
     "metadata": {},
     "output_type": "display_data"
    },
    {
     "data": {
      "application/vnd.jupyter.widget-view+json": {
       "model_id": "42c3eddcf5974119a79c7ea5c98817ac",
       "version_major": 2,
       "version_minor": 0
      },
      "text/plain": [
       "Predicting all ΔG:   0%|          | 0/2500 [00:00<?, ?it/s]"
      ]
     },
     "metadata": {},
     "output_type": "display_data"
    },
    {
     "data": {
      "application/vnd.jupyter.widget-view+json": {
       "model_id": "7538a5dcaa6649b88e10aff099a8095f",
       "version_major": 2,
       "version_minor": 0
      },
      "text/plain": [
       "Predicting all ΔG:   0%|          | 0/2500 [00:00<?, ?it/s]"
      ]
     },
     "metadata": {},
     "output_type": "display_data"
    },
    {
     "data": {
      "application/vnd.jupyter.widget-view+json": {
       "model_id": "c09a9ccdf5f94d88a09344a00b1e0b8e",
       "version_major": 2,
       "version_minor": 0
      },
      "text/plain": [
       "Predicting all ΔG:   0%|          | 0/2500 [00:00<?, ?it/s]"
      ]
     },
     "metadata": {},
     "output_type": "display_data"
    },
    {
     "data": {
      "application/vnd.jupyter.widget-view+json": {
       "model_id": "9704f23d18914544a3b24572906569a9",
       "version_major": 2,
       "version_minor": 0
      },
      "text/plain": [
       "Predicting all ΔG:   0%|          | 0/2500 [00:00<?, ?it/s]"
      ]
     },
     "metadata": {},
     "output_type": "display_data"
    },
    {
     "data": {
      "application/vnd.jupyter.widget-view+json": {
       "model_id": "87eaf7e12371483cac0b83d1c30b4e11",
       "version_major": 2,
       "version_minor": 0
      },
      "text/plain": [
       "Predicting all ΔG:   0%|          | 0/2500 [00:00<?, ?it/s]"
      ]
     },
     "metadata": {},
     "output_type": "display_data"
    },
    {
     "data": {
      "application/vnd.jupyter.widget-view+json": {
       "model_id": "54759280741042219a6d427e6e465bcb",
       "version_major": 2,
       "version_minor": 0
      },
      "text/plain": [
       "Predicting all ΔG:   0%|          | 0/2500 [00:00<?, ?it/s]"
      ]
     },
     "metadata": {},
     "output_type": "display_data"
    },
    {
     "data": {
      "application/vnd.jupyter.widget-view+json": {
       "model_id": "4a34cb2fe51f4e9f98ce579b4b635eeb",
       "version_major": 2,
       "version_minor": 0
      },
      "text/plain": [
       "Predicting all ΔG:   0%|          | 0/2500 [00:00<?, ?it/s]"
      ]
     },
     "metadata": {},
     "output_type": "display_data"
    },
    {
     "data": {
      "application/vnd.jupyter.widget-view+json": {
       "model_id": "86b34b92285c4e6a92ad3b5ec3be04f2",
       "version_major": 2,
       "version_minor": 0
      },
      "text/plain": [
       "Predicting all ΔG:   0%|          | 0/2500 [00:00<?, ?it/s]"
      ]
     },
     "metadata": {},
     "output_type": "display_data"
    },
    {
     "data": {
      "application/vnd.jupyter.widget-view+json": {
       "model_id": "09b51a4439c2475c8750044be2d82c78",
       "version_major": 2,
       "version_minor": 0
      },
      "text/plain": [
       "Predicting all ΔG:   0%|          | 0/2500 [00:00<?, ?it/s]"
      ]
     },
     "metadata": {},
     "output_type": "display_data"
    },
    {
     "data": {
      "application/vnd.jupyter.widget-view+json": {
       "model_id": "97f262435662481f9e91ee08815bd93b",
       "version_major": 2,
       "version_minor": 0
      },
      "text/plain": [
       "Predicting all ΔG:   0%|          | 0/2500 [00:00<?, ?it/s]"
      ]
     },
     "metadata": {},
     "output_type": "display_data"
    },
    {
     "data": {
      "application/vnd.jupyter.widget-view+json": {
       "model_id": "295ad8d6e92c4c2fb0d8e6375bce27e8",
       "version_major": 2,
       "version_minor": 0
      },
      "text/plain": [
       "Predicting all ΔG:   0%|          | 0/2500 [00:00<?, ?it/s]"
      ]
     },
     "metadata": {},
     "output_type": "display_data"
    },
    {
     "data": {
      "application/vnd.jupyter.widget-view+json": {
       "model_id": "fbe22ede91d14881a427cc126d4cf72e",
       "version_major": 2,
       "version_minor": 0
      },
      "text/plain": [
       "Predicting all ΔG:   0%|          | 0/2500 [00:00<?, ?it/s]"
      ]
     },
     "metadata": {},
     "output_type": "display_data"
    },
    {
     "data": {
      "application/vnd.jupyter.widget-view+json": {
       "model_id": "b2e3476b782d4c9cb1691e13863d0d53",
       "version_major": 2,
       "version_minor": 0
      },
      "text/plain": [
       "Predicting all ΔG:   0%|          | 0/2500 [00:00<?, ?it/s]"
      ]
     },
     "metadata": {},
     "output_type": "display_data"
    },
    {
     "data": {
      "application/vnd.jupyter.widget-view+json": {
       "model_id": "04bd31f9222a43cbb563e3e26ad8f7b7",
       "version_major": 2,
       "version_minor": 0
      },
      "text/plain": [
       "Predicting all ΔG:   0%|          | 0/2500 [00:00<?, ?it/s]"
      ]
     },
     "metadata": {},
     "output_type": "display_data"
    },
    {
     "data": {
      "application/vnd.jupyter.widget-view+json": {
       "model_id": "7b1b9b148c2445658dac57425dc171ae",
       "version_major": 2,
       "version_minor": 0
      },
      "text/plain": [
       "Predicting all ΔG:   0%|          | 0/2500 [00:00<?, ?it/s]"
      ]
     },
     "metadata": {},
     "output_type": "display_data"
    },
    {
     "data": {
      "application/vnd.jupyter.widget-view+json": {
       "model_id": "ea83f723f9b14fd99d401ed2e8e75f15",
       "version_major": 2,
       "version_minor": 0
      },
      "text/plain": [
       "Predicting all ΔG:   0%|          | 0/2500 [00:00<?, ?it/s]"
      ]
     },
     "metadata": {},
     "output_type": "display_data"
    },
    {
     "data": {
      "application/vnd.jupyter.widget-view+json": {
       "model_id": "be69ae0c772d4667bf8c67bb1d85d88c",
       "version_major": 2,
       "version_minor": 0
      },
      "text/plain": [
       "Predicting all ΔG:   0%|          | 0/2500 [00:00<?, ?it/s]"
      ]
     },
     "metadata": {},
     "output_type": "display_data"
    },
    {
     "data": {
      "application/vnd.jupyter.widget-view+json": {
       "model_id": "18f70f126c3d4736b3fbf20e04bec792",
       "version_major": 2,
       "version_minor": 0
      },
      "text/plain": [
       "Predicting all ΔG:   0%|          | 0/2500 [00:00<?, ?it/s]"
      ]
     },
     "metadata": {},
     "output_type": "display_data"
    },
    {
     "data": {
      "application/vnd.jupyter.widget-view+json": {
       "model_id": "a9458a7da4f34aa881ef976fb71254d7",
       "version_major": 2,
       "version_minor": 0
      },
      "text/plain": [
       "Predicting all ΔG:   0%|          | 0/2500 [00:00<?, ?it/s]"
      ]
     },
     "metadata": {},
     "output_type": "display_data"
    },
    {
     "data": {
      "application/vnd.jupyter.widget-view+json": {
       "model_id": "685d5848039747ddaad42cb0fd973f0c",
       "version_major": 2,
       "version_minor": 0
      },
      "text/plain": [
       "Predicting all ΔG:   0%|          | 0/2500 [00:00<?, ?it/s]"
      ]
     },
     "metadata": {},
     "output_type": "display_data"
    },
    {
     "data": {
      "application/vnd.jupyter.widget-view+json": {
       "model_id": "053a500c47464aa59b39a57bb3bf01c1",
       "version_major": 2,
       "version_minor": 0
      },
      "text/plain": [
       "Predicting all ΔG:   0%|          | 0/2500 [00:00<?, ?it/s]"
      ]
     },
     "metadata": {},
     "output_type": "display_data"
    },
    {
     "data": {
      "application/vnd.jupyter.widget-view+json": {
       "model_id": "52d848e1daf344eea271b4d1f228cfaf",
       "version_major": 2,
       "version_minor": 0
      },
      "text/plain": [
       "Predicting all ΔG:   0%|          | 0/2500 [00:00<?, ?it/s]"
      ]
     },
     "metadata": {},
     "output_type": "display_data"
    },
    {
     "data": {
      "application/vnd.jupyter.widget-view+json": {
       "model_id": "7b0dd26e9cca43c69ab5e4a5b73e2ed1",
       "version_major": 2,
       "version_minor": 0
      },
      "text/plain": [
       "Predicting all ΔG:   0%|          | 0/2500 [00:00<?, ?it/s]"
      ]
     },
     "metadata": {},
     "output_type": "display_data"
    },
    {
     "data": {
      "application/vnd.jupyter.widget-view+json": {
       "model_id": "987639f31c394098aa87236ee0ef0759",
       "version_major": 2,
       "version_minor": 0
      },
      "text/plain": [
       "Predicting all ΔG:   0%|          | 0/2500 [00:00<?, ?it/s]"
      ]
     },
     "metadata": {},
     "output_type": "display_data"
    },
    {
     "data": {
      "application/vnd.jupyter.widget-view+json": {
       "model_id": "fd901decf75e42d9bcc1be90b077b439",
       "version_major": 2,
       "version_minor": 0
      },
      "text/plain": [
       "Predicting all ΔG:   0%|          | 0/2500 [00:00<?, ?it/s]"
      ]
     },
     "metadata": {},
     "output_type": "display_data"
    },
    {
     "data": {
      "application/vnd.jupyter.widget-view+json": {
       "model_id": "22cc929303464815a8853e32f9cc079f",
       "version_major": 2,
       "version_minor": 0
      },
      "text/plain": [
       "Predicting all ΔG:   0%|          | 0/2500 [00:00<?, ?it/s]"
      ]
     },
     "metadata": {},
     "output_type": "display_data"
    },
    {
     "data": {
      "application/vnd.jupyter.widget-view+json": {
       "model_id": "6339ba8c23f14d6592fc5376bbad0b56",
       "version_major": 2,
       "version_minor": 0
      },
      "text/plain": [
       "Predicting all ΔG:   0%|          | 0/2500 [00:00<?, ?it/s]"
      ]
     },
     "metadata": {},
     "output_type": "display_data"
    },
    {
     "data": {
      "application/vnd.jupyter.widget-view+json": {
       "model_id": "96d528d9b717450fb51f13e1b965a524",
       "version_major": 2,
       "version_minor": 0
      },
      "text/plain": [
       "Predicting all ΔG:   0%|          | 0/2500 [00:00<?, ?it/s]"
      ]
     },
     "metadata": {},
     "output_type": "display_data"
    },
    {
     "data": {
      "application/vnd.jupyter.widget-view+json": {
       "model_id": "c7c1d436f6d04a3583780578aae4be92",
       "version_major": 2,
       "version_minor": 0
      },
      "text/plain": [
       "Predicting all ΔG:   0%|          | 0/2500 [00:00<?, ?it/s]"
      ]
     },
     "metadata": {},
     "output_type": "display_data"
    },
    {
     "data": {
      "application/vnd.jupyter.widget-view+json": {
       "model_id": "32342ac2f80c4f3598f49b4f119d736e",
       "version_major": 2,
       "version_minor": 0
      },
      "text/plain": [
       "Predicting all ΔG:   0%|          | 0/2500 [00:00<?, ?it/s]"
      ]
     },
     "metadata": {},
     "output_type": "display_data"
    },
    {
     "data": {
      "application/vnd.jupyter.widget-view+json": {
       "model_id": "09c999de5f55429e8d63f2c27eb7feca",
       "version_major": 2,
       "version_minor": 0
      },
      "text/plain": [
       "Predicting all ΔG:   0%|          | 0/2500 [00:00<?, ?it/s]"
      ]
     },
     "metadata": {},
     "output_type": "display_data"
    },
    {
     "data": {
      "application/vnd.jupyter.widget-view+json": {
       "model_id": "7bbbc8249cff471ba441e9389be23546",
       "version_major": 2,
       "version_minor": 0
      },
      "text/plain": [
       "Predicting all ΔG:   0%|          | 0/2500 [00:00<?, ?it/s]"
      ]
     },
     "metadata": {},
     "output_type": "display_data"
    },
    {
     "data": {
      "application/vnd.jupyter.widget-view+json": {
       "model_id": "e18954f3c63b4439b8d4630912939d91",
       "version_major": 2,
       "version_minor": 0
      },
      "text/plain": [
       "Predicting all ΔG:   0%|          | 0/2500 [00:00<?, ?it/s]"
      ]
     },
     "metadata": {},
     "output_type": "display_data"
    },
    {
     "data": {
      "application/vnd.jupyter.widget-view+json": {
       "model_id": "924f1be0f4194c21b33afa6c0d66e900",
       "version_major": 2,
       "version_minor": 0
      },
      "text/plain": [
       "Predicting all ΔG:   0%|          | 0/2500 [00:00<?, ?it/s]"
      ]
     },
     "metadata": {},
     "output_type": "display_data"
    },
    {
     "data": {
      "application/vnd.jupyter.widget-view+json": {
       "model_id": "0fb06ea608f64d8e9d113c5b16e928df",
       "version_major": 2,
       "version_minor": 0
      },
      "text/plain": [
       "Predicting all ΔG:   0%|          | 0/2500 [00:00<?, ?it/s]"
      ]
     },
     "metadata": {},
     "output_type": "display_data"
    },
    {
     "data": {
      "application/vnd.jupyter.widget-view+json": {
       "model_id": "11197648baf7457fbdb3e79d43733f74",
       "version_major": 2,
       "version_minor": 0
      },
      "text/plain": [
       "Predicting all ΔG:   0%|          | 0/2500 [00:00<?, ?it/s]"
      ]
     },
     "metadata": {},
     "output_type": "display_data"
    },
    {
     "data": {
      "application/vnd.jupyter.widget-view+json": {
       "model_id": "65f4a620a74e42d1be2de4b2e374a3e4",
       "version_major": 2,
       "version_minor": 0
      },
      "text/plain": [
       "Predicting all ΔG:   0%|          | 0/2500 [00:00<?, ?it/s]"
      ]
     },
     "metadata": {},
     "output_type": "display_data"
    },
    {
     "data": {
      "application/vnd.jupyter.widget-view+json": {
       "model_id": "b6262273cfc74edc93b5079328ad8e99",
       "version_major": 2,
       "version_minor": 0
      },
      "text/plain": [
       "Predicting all ΔG:   0%|          | 0/2500 [00:00<?, ?it/s]"
      ]
     },
     "metadata": {},
     "output_type": "display_data"
    },
    {
     "data": {
      "application/vnd.jupyter.widget-view+json": {
       "model_id": "51a11b8e29224e378b32bdc079a35e31",
       "version_major": 2,
       "version_minor": 0
      },
      "text/plain": [
       "Predicting all ΔG:   0%|          | 0/2500 [00:00<?, ?it/s]"
      ]
     },
     "metadata": {},
     "output_type": "display_data"
    },
    {
     "data": {
      "application/vnd.jupyter.widget-view+json": {
       "model_id": "d2fa3f6662144f40bc506c48f864c56b",
       "version_major": 2,
       "version_minor": 0
      },
      "text/plain": [
       "Predicting all ΔG:   0%|          | 0/2500 [00:00<?, ?it/s]"
      ]
     },
     "metadata": {},
     "output_type": "display_data"
    },
    {
     "data": {
      "application/vnd.jupyter.widget-view+json": {
       "model_id": "d5ab0913ad3e48b4884a81730815d01d",
       "version_major": 2,
       "version_minor": 0
      },
      "text/plain": [
       "Predicting all ΔG:   0%|          | 0/2500 [00:00<?, ?it/s]"
      ]
     },
     "metadata": {},
     "output_type": "display_data"
    },
    {
     "data": {
      "application/vnd.jupyter.widget-view+json": {
       "model_id": "2de3badde04846018d76123a70f100e4",
       "version_major": 2,
       "version_minor": 0
      },
      "text/plain": [
       "Predicting all ΔG:   0%|          | 0/2500 [00:00<?, ?it/s]"
      ]
     },
     "metadata": {},
     "output_type": "display_data"
    },
    {
     "data": {
      "application/vnd.jupyter.widget-view+json": {
       "model_id": "6754e43aa94144d5a2e112f76581e180",
       "version_major": 2,
       "version_minor": 0
      },
      "text/plain": [
       "Predicting all ΔG:   0%|          | 0/2500 [00:00<?, ?it/s]"
      ]
     },
     "metadata": {},
     "output_type": "display_data"
    },
    {
     "data": {
      "application/vnd.jupyter.widget-view+json": {
       "model_id": "2ce5cc62cadb44b59dfaaf03df78521c",
       "version_major": 2,
       "version_minor": 0
      },
      "text/plain": [
       "Predicting all ΔG:   0%|          | 0/2500 [00:00<?, ?it/s]"
      ]
     },
     "metadata": {},
     "output_type": "display_data"
    },
    {
     "data": {
      "application/vnd.jupyter.widget-view+json": {
       "model_id": "9861ea246c114d3c9e649b833496e3fc",
       "version_major": 2,
       "version_minor": 0
      },
      "text/plain": [
       "Predicting all ΔG:   0%|          | 0/2500 [00:00<?, ?it/s]"
      ]
     },
     "metadata": {},
     "output_type": "display_data"
    },
    {
     "data": {
      "application/vnd.jupyter.widget-view+json": {
       "model_id": "6bfb9e179478462b9014b1e3a0994d74",
       "version_major": 2,
       "version_minor": 0
      },
      "text/plain": [
       "Predicting all ΔG:   0%|          | 0/2500 [00:00<?, ?it/s]"
      ]
     },
     "metadata": {},
     "output_type": "display_data"
    },
    {
     "data": {
      "application/vnd.jupyter.widget-view+json": {
       "model_id": "8438d5dcd0cf455682a5769960c9a33e",
       "version_major": 2,
       "version_minor": 0
      },
      "text/plain": [
       "Predicting all ΔG:   0%|          | 0/2500 [00:00<?, ?it/s]"
      ]
     },
     "metadata": {},
     "output_type": "display_data"
    },
    {
     "data": {
      "application/vnd.jupyter.widget-view+json": {
       "model_id": "c85a493f65ec4e70be52aeede4df5a6e",
       "version_major": 2,
       "version_minor": 0
      },
      "text/plain": [
       "Predicting all ΔG:   0%|          | 0/2500 [00:00<?, ?it/s]"
      ]
     },
     "metadata": {},
     "output_type": "display_data"
    },
    {
     "data": {
      "application/vnd.jupyter.widget-view+json": {
       "model_id": "6772288e27dc4f1ab9b0df66e8c503dd",
       "version_major": 2,
       "version_minor": 0
      },
      "text/plain": [
       "Predicting all ΔG:   0%|          | 0/2500 [00:00<?, ?it/s]"
      ]
     },
     "metadata": {},
     "output_type": "display_data"
    },
    {
     "data": {
      "application/vnd.jupyter.widget-view+json": {
       "model_id": "1b7eebaa27bb471fae9006ca5e365fa9",
       "version_major": 2,
       "version_minor": 0
      },
      "text/plain": [
       "Predicting all ΔG:   0%|          | 0/2500 [00:00<?, ?it/s]"
      ]
     },
     "metadata": {},
     "output_type": "display_data"
    },
    {
     "data": {
      "application/vnd.jupyter.widget-view+json": {
       "model_id": "5a752ee6545e43748ff95dc9c1de2b64",
       "version_major": 2,
       "version_minor": 0
      },
      "text/plain": [
       "Predicting all ΔG:   0%|          | 0/2500 [00:00<?, ?it/s]"
      ]
     },
     "metadata": {},
     "output_type": "display_data"
    },
    {
     "data": {
      "application/vnd.jupyter.widget-view+json": {
       "model_id": "9769b9ba923d45159ac7584e53737e64",
       "version_major": 2,
       "version_minor": 0
      },
      "text/plain": [
       "Predicting all ΔG:   0%|          | 0/2500 [00:00<?, ?it/s]"
      ]
     },
     "metadata": {},
     "output_type": "display_data"
    },
    {
     "data": {
      "application/vnd.jupyter.widget-view+json": {
       "model_id": "9115a89996df4881815655335b3ee0e4",
       "version_major": 2,
       "version_minor": 0
      },
      "text/plain": [
       "Predicting all ΔG:   0%|          | 0/2500 [00:00<?, ?it/s]"
      ]
     },
     "metadata": {},
     "output_type": "display_data"
    },
    {
     "data": {
      "application/vnd.jupyter.widget-view+json": {
       "model_id": "7ca8e40511a34c2086a1b10383d03711",
       "version_major": 2,
       "version_minor": 0
      },
      "text/plain": [
       "Predicting all ΔG:   0%|          | 0/2500 [00:00<?, ?it/s]"
      ]
     },
     "metadata": {},
     "output_type": "display_data"
    },
    {
     "data": {
      "application/vnd.jupyter.widget-view+json": {
       "model_id": "7181e47cf0994d58b9c2bcfafa89f3e8",
       "version_major": 2,
       "version_minor": 0
      },
      "text/plain": [
       "Predicting all ΔG:   0%|          | 0/2500 [00:00<?, ?it/s]"
      ]
     },
     "metadata": {},
     "output_type": "display_data"
    },
    {
     "data": {
      "application/vnd.jupyter.widget-view+json": {
       "model_id": "9ef5f8acbf574d82be34fe51e9d9a91c",
       "version_major": 2,
       "version_minor": 0
      },
      "text/plain": [
       "Predicting all ΔG:   0%|          | 0/2500 [00:00<?, ?it/s]"
      ]
     },
     "metadata": {},
     "output_type": "display_data"
    },
    {
     "data": {
      "application/vnd.jupyter.widget-view+json": {
       "model_id": "f02562e4b44f4cb68691900ac7a75cc0",
       "version_major": 2,
       "version_minor": 0
      },
      "text/plain": [
       "Predicting all ΔG:   0%|          | 0/2500 [00:00<?, ?it/s]"
      ]
     },
     "metadata": {},
     "output_type": "display_data"
    },
    {
     "data": {
      "application/vnd.jupyter.widget-view+json": {
       "model_id": "9074392a81b74eb8b4120a0cda85e4d5",
       "version_major": 2,
       "version_minor": 0
      },
      "text/plain": [
       "Predicting all ΔG:   0%|          | 0/2500 [00:00<?, ?it/s]"
      ]
     },
     "metadata": {},
     "output_type": "display_data"
    },
    {
     "data": {
      "application/vnd.jupyter.widget-view+json": {
       "model_id": "c1ec809459704462ad6938467a46febf",
       "version_major": 2,
       "version_minor": 0
      },
      "text/plain": [
       "Predicting all ΔG:   0%|          | 0/2500 [00:00<?, ?it/s]"
      ]
     },
     "metadata": {},
     "output_type": "display_data"
    },
    {
     "data": {
      "application/vnd.jupyter.widget-view+json": {
       "model_id": "08324d6763c14c40b8c0238723464d14",
       "version_major": 2,
       "version_minor": 0
      },
      "text/plain": [
       "Predicting all ΔG:   0%|          | 0/2500 [00:00<?, ?it/s]"
      ]
     },
     "metadata": {},
     "output_type": "display_data"
    },
    {
     "data": {
      "application/vnd.jupyter.widget-view+json": {
       "model_id": "72ec2051825049019ed927c2a3403d2f",
       "version_major": 2,
       "version_minor": 0
      },
      "text/plain": [
       "Predicting all ΔG:   0%|          | 0/2500 [00:00<?, ?it/s]"
      ]
     },
     "metadata": {},
     "output_type": "display_data"
    },
    {
     "data": {
      "application/vnd.jupyter.widget-view+json": {
       "model_id": "d4dba49a07e24469b624c17572d25258",
       "version_major": 2,
       "version_minor": 0
      },
      "text/plain": [
       "Predicting all ΔG:   0%|          | 0/2500 [00:00<?, ?it/s]"
      ]
     },
     "metadata": {},
     "output_type": "display_data"
    },
    {
     "data": {
      "application/vnd.jupyter.widget-view+json": {
       "model_id": "bec59263977a4a2384243baeced2cf06",
       "version_major": 2,
       "version_minor": 0
      },
      "text/plain": [
       "Predicting all ΔG:   0%|          | 0/2500 [00:00<?, ?it/s]"
      ]
     },
     "metadata": {},
     "output_type": "display_data"
    },
    {
     "data": {
      "application/vnd.jupyter.widget-view+json": {
       "model_id": "1f1601a77a6540a781942e62389b5946",
       "version_major": 2,
       "version_minor": 0
      },
      "text/plain": [
       "Predicting all ΔG:   0%|          | 0/2500 [00:00<?, ?it/s]"
      ]
     },
     "metadata": {},
     "output_type": "display_data"
    },
    {
     "data": {
      "application/vnd.jupyter.widget-view+json": {
       "model_id": "2475570937f34f4bb8138ff134333808",
       "version_major": 2,
       "version_minor": 0
      },
      "text/plain": [
       "Predicting all ΔG:   0%|          | 0/2500 [00:00<?, ?it/s]"
      ]
     },
     "metadata": {},
     "output_type": "display_data"
    },
    {
     "data": {
      "application/vnd.jupyter.widget-view+json": {
       "model_id": "94fe94c1433942fa97768502e91f42fd",
       "version_major": 2,
       "version_minor": 0
      },
      "text/plain": [
       "Predicting all ΔG:   0%|          | 0/2500 [00:00<?, ?it/s]"
      ]
     },
     "metadata": {},
     "output_type": "display_data"
    },
    {
     "data": {
      "application/vnd.jupyter.widget-view+json": {
       "model_id": "f4f58fb7fd2d47d28f7d97554aa19726",
       "version_major": 2,
       "version_minor": 0
      },
      "text/plain": [
       "Predicting all ΔG:   0%|          | 0/2500 [00:00<?, ?it/s]"
      ]
     },
     "metadata": {},
     "output_type": "display_data"
    },
    {
     "data": {
      "application/vnd.jupyter.widget-view+json": {
       "model_id": "0259678952bc480495f72ed12fda7727",
       "version_major": 2,
       "version_minor": 0
      },
      "text/plain": [
       "Predicting all ΔG:   0%|          | 0/2500 [00:00<?, ?it/s]"
      ]
     },
     "metadata": {},
     "output_type": "display_data"
    },
    {
     "data": {
      "application/vnd.jupyter.widget-view+json": {
       "model_id": "04ec188cd4f342c19afb21112f737381",
       "version_major": 2,
       "version_minor": 0
      },
      "text/plain": [
       "Predicting all ΔG:   0%|          | 0/2500 [00:00<?, ?it/s]"
      ]
     },
     "metadata": {},
     "output_type": "display_data"
    },
    {
     "data": {
      "application/vnd.jupyter.widget-view+json": {
       "model_id": "fd50c6e2ee174e179ffab05c1f6e26e9",
       "version_major": 2,
       "version_minor": 0
      },
      "text/plain": [
       "Predicting all ΔG:   0%|          | 0/2500 [00:00<?, ?it/s]"
      ]
     },
     "metadata": {},
     "output_type": "display_data"
    },
    {
     "data": {
      "application/vnd.jupyter.widget-view+json": {
       "model_id": "999e0d47c1e542a3bab1c471a13f31c1",
       "version_major": 2,
       "version_minor": 0
      },
      "text/plain": [
       "Predicting all ΔG:   0%|          | 0/2500 [00:00<?, ?it/s]"
      ]
     },
     "metadata": {},
     "output_type": "display_data"
    },
    {
     "data": {
      "application/vnd.jupyter.widget-view+json": {
       "model_id": "478725622f114bd7aecfbc409a852c36",
       "version_major": 2,
       "version_minor": 0
      },
      "text/plain": [
       "Predicting all ΔG:   0%|          | 0/2500 [00:00<?, ?it/s]"
      ]
     },
     "metadata": {},
     "output_type": "display_data"
    },
    {
     "data": {
      "application/vnd.jupyter.widget-view+json": {
       "model_id": "d47788f0604e43ad95138db9e92fbb92",
       "version_major": 2,
       "version_minor": 0
      },
      "text/plain": [
       "Predicting all ΔG:   0%|          | 0/2500 [00:00<?, ?it/s]"
      ]
     },
     "metadata": {},
     "output_type": "display_data"
    },
    {
     "data": {
      "application/vnd.jupyter.widget-view+json": {
       "model_id": "9a92394d79e540a1966551967d180a42",
       "version_major": 2,
       "version_minor": 0
      },
      "text/plain": [
       "Predicting all ΔG:   0%|          | 0/2500 [00:00<?, ?it/s]"
      ]
     },
     "metadata": {},
     "output_type": "display_data"
    },
    {
     "data": {
      "application/vnd.jupyter.widget-view+json": {
       "model_id": "4c723cf660f943bda7558dbaf4b64713",
       "version_major": 2,
       "version_minor": 0
      },
      "text/plain": [
       "Predicting all ΔG:   0%|          | 0/2500 [00:00<?, ?it/s]"
      ]
     },
     "metadata": {},
     "output_type": "display_data"
    },
    {
     "data": {
      "application/vnd.jupyter.widget-view+json": {
       "model_id": "8c280981d54d43fda4b334ddfde6c855",
       "version_major": 2,
       "version_minor": 0
      },
      "text/plain": [
       "Predicting all ΔG:   0%|          | 0/2500 [00:00<?, ?it/s]"
      ]
     },
     "metadata": {},
     "output_type": "display_data"
    },
    {
     "data": {
      "application/vnd.jupyter.widget-view+json": {
       "model_id": "ce037af862b647618f9172be0df33641",
       "version_major": 2,
       "version_minor": 0
      },
      "text/plain": [
       "Predicting all ΔG:   0%|          | 0/2500 [00:00<?, ?it/s]"
      ]
     },
     "metadata": {},
     "output_type": "display_data"
    },
    {
     "data": {
      "application/vnd.jupyter.widget-view+json": {
       "model_id": "ea010fadd5f94d549e3169cfac9c225a",
       "version_major": 2,
       "version_minor": 0
      },
      "text/plain": [
       "Predicting all ΔG:   0%|          | 0/2500 [00:00<?, ?it/s]"
      ]
     },
     "metadata": {},
     "output_type": "display_data"
    },
    {
     "data": {
      "application/vnd.jupyter.widget-view+json": {
       "model_id": "4190286efac2401f82789a1f46d29a27",
       "version_major": 2,
       "version_minor": 0
      },
      "text/plain": [
       "Predicting all ΔG:   0%|          | 0/2500 [00:00<?, ?it/s]"
      ]
     },
     "metadata": {},
     "output_type": "display_data"
    },
    {
     "data": {
      "application/vnd.jupyter.widget-view+json": {
       "model_id": "9b87f9b7db8e46af9563cb67b7550a70",
       "version_major": 2,
       "version_minor": 0
      },
      "text/plain": [
       "Predicting all ΔG:   0%|          | 0/2500 [00:00<?, ?it/s]"
      ]
     },
     "metadata": {},
     "output_type": "display_data"
    },
    {
     "data": {
      "application/vnd.jupyter.widget-view+json": {
       "model_id": "63a854a81f084ed78b8b7e7c29c27e2e",
       "version_major": 2,
       "version_minor": 0
      },
      "text/plain": [
       "Predicting all ΔG:   0%|          | 0/2500 [00:00<?, ?it/s]"
      ]
     },
     "metadata": {},
     "output_type": "display_data"
    },
    {
     "data": {
      "application/vnd.jupyter.widget-view+json": {
       "model_id": "255abffdd9d84116bbdf2407e9208d65",
       "version_major": 2,
       "version_minor": 0
      },
      "text/plain": [
       "Predicting all ΔG:   0%|          | 0/2500 [00:00<?, ?it/s]"
      ]
     },
     "metadata": {},
     "output_type": "display_data"
    },
    {
     "data": {
      "application/vnd.jupyter.widget-view+json": {
       "model_id": "e9168516a09b4b66980c0f965d876292",
       "version_major": 2,
       "version_minor": 0
      },
      "text/plain": [
       "Predicting all ΔG:   0%|          | 0/2500 [00:00<?, ?it/s]"
      ]
     },
     "metadata": {},
     "output_type": "display_data"
    },
    {
     "data": {
      "application/vnd.jupyter.widget-view+json": {
       "model_id": "ee02b7463eee404cb236cefc302da6e4",
       "version_major": 2,
       "version_minor": 0
      },
      "text/plain": [
       "Predicting all ΔG:   0%|          | 0/2500 [00:00<?, ?it/s]"
      ]
     },
     "metadata": {},
     "output_type": "display_data"
    },
    {
     "data": {
      "application/vnd.jupyter.widget-view+json": {
       "model_id": "3945e8d6197e434083343742b51aa146",
       "version_major": 2,
       "version_minor": 0
      },
      "text/plain": [
       "Predicting all ΔG:   0%|          | 0/2500 [00:00<?, ?it/s]"
      ]
     },
     "metadata": {},
     "output_type": "display_data"
    },
    {
     "data": {
      "application/vnd.jupyter.widget-view+json": {
       "model_id": "9cc06a7c22be451383c394c3d60ffba4",
       "version_major": 2,
       "version_minor": 0
      },
      "text/plain": [
       "Predicting all ΔG:   0%|          | 0/2500 [00:00<?, ?it/s]"
      ]
     },
     "metadata": {},
     "output_type": "display_data"
    },
    {
     "data": {
      "application/vnd.jupyter.widget-view+json": {
       "model_id": "1b30402270ea4a168e65b598b4f08abc",
       "version_major": 2,
       "version_minor": 0
      },
      "text/plain": [
       "Predicting all ΔG:   0%|          | 0/2500 [00:00<?, ?it/s]"
      ]
     },
     "metadata": {},
     "output_type": "display_data"
    },
    {
     "data": {
      "application/vnd.jupyter.widget-view+json": {
       "model_id": "0865938a5c65446982bc1c9096921f8b",
       "version_major": 2,
       "version_minor": 0
      },
      "text/plain": [
       "Predicting all ΔG:   0%|          | 0/2500 [00:00<?, ?it/s]"
      ]
     },
     "metadata": {},
     "output_type": "display_data"
    },
    {
     "data": {
      "application/vnd.jupyter.widget-view+json": {
       "model_id": "5c1c72d384994ee1b0bef355aa488573",
       "version_major": 2,
       "version_minor": 0
      },
      "text/plain": [
       "Predicting all ΔG:   0%|          | 0/2500 [00:00<?, ?it/s]"
      ]
     },
     "metadata": {},
     "output_type": "display_data"
    },
    {
     "data": {
      "application/vnd.jupyter.widget-view+json": {
       "model_id": "520b901d6ed14630bea54f0da06c5a0a",
       "version_major": 2,
       "version_minor": 0
      },
      "text/plain": [
       "Predicting all ΔG:   0%|          | 0/2500 [00:00<?, ?it/s]"
      ]
     },
     "metadata": {},
     "output_type": "display_data"
    },
    {
     "data": {
      "application/vnd.jupyter.widget-view+json": {
       "model_id": "d6295140cc254bed961ebb4e919add9d",
       "version_major": 2,
       "version_minor": 0
      },
      "text/plain": [
       "Predicting all ΔG:   0%|          | 0/2500 [00:00<?, ?it/s]"
      ]
     },
     "metadata": {},
     "output_type": "display_data"
    },
    {
     "data": {
      "application/vnd.jupyter.widget-view+json": {
       "model_id": "0f8413255d3e49d18902f4b0654241d4",
       "version_major": 2,
       "version_minor": 0
      },
      "text/plain": [
       "Predicting all ΔG:   0%|          | 0/2500 [00:00<?, ?it/s]"
      ]
     },
     "metadata": {},
     "output_type": "display_data"
    },
    {
     "data": {
      "application/vnd.jupyter.widget-view+json": {
       "model_id": "e34ac22f80104822a09479fec63b0205",
       "version_major": 2,
       "version_minor": 0
      },
      "text/plain": [
       "Predicting all ΔG:   0%|          | 0/2500 [00:00<?, ?it/s]"
      ]
     },
     "metadata": {},
     "output_type": "display_data"
    },
    {
     "data": {
      "application/vnd.jupyter.widget-view+json": {
       "model_id": "62dc26426bd7478a845c611f47fe42c1",
       "version_major": 2,
       "version_minor": 0
      },
      "text/plain": [
       "Predicting all ΔG:   0%|          | 0/2500 [00:00<?, ?it/s]"
      ]
     },
     "metadata": {},
     "output_type": "display_data"
    },
    {
     "data": {
      "application/vnd.jupyter.widget-view+json": {
       "model_id": "6cf8195e1110403e8f486ae6eade85be",
       "version_major": 2,
       "version_minor": 0
      },
      "text/plain": [
       "Predicting all ΔG:   0%|          | 0/2500 [00:00<?, ?it/s]"
      ]
     },
     "metadata": {},
     "output_type": "display_data"
    },
    {
     "data": {
      "application/vnd.jupyter.widget-view+json": {
       "model_id": "288c1f7fc6614350b16686e3cb0e1ad8",
       "version_major": 2,
       "version_minor": 0
      },
      "text/plain": [
       "Predicting all ΔG:   0%|          | 0/2500 [00:00<?, ?it/s]"
      ]
     },
     "metadata": {},
     "output_type": "display_data"
    },
    {
     "data": {
      "application/vnd.jupyter.widget-view+json": {
       "model_id": "e0c2e3a45cf44b189d3e711927415d17",
       "version_major": 2,
       "version_minor": 0
      },
      "text/plain": [
       "Predicting all ΔG:   0%|          | 0/2500 [00:00<?, ?it/s]"
      ]
     },
     "metadata": {},
     "output_type": "display_data"
    },
    {
     "data": {
      "application/vnd.jupyter.widget-view+json": {
       "model_id": "385a5da43b2e4fd0a38b22e5974cf91e",
       "version_major": 2,
       "version_minor": 0
      },
      "text/plain": [
       "Predicting all ΔG:   0%|          | 0/2500 [00:00<?, ?it/s]"
      ]
     },
     "metadata": {},
     "output_type": "display_data"
    },
    {
     "data": {
      "application/vnd.jupyter.widget-view+json": {
       "model_id": "030c159aa34c491098aaa0fe2d2f5f1c",
       "version_major": 2,
       "version_minor": 0
      },
      "text/plain": [
       "Predicting all ΔG:   0%|          | 0/2500 [00:00<?, ?it/s]"
      ]
     },
     "metadata": {},
     "output_type": "display_data"
    },
    {
     "data": {
      "application/vnd.jupyter.widget-view+json": {
       "model_id": "dd42c39594024a7abef4038cbbca8e50",
       "version_major": 2,
       "version_minor": 0
      },
      "text/plain": [
       "Predicting all ΔG:   0%|          | 0/2500 [00:00<?, ?it/s]"
      ]
     },
     "metadata": {},
     "output_type": "display_data"
    },
    {
     "data": {
      "application/vnd.jupyter.widget-view+json": {
       "model_id": "9722872622b648fb8df06997bae78597",
       "version_major": 2,
       "version_minor": 0
      },
      "text/plain": [
       "Predicting all ΔG:   0%|          | 0/2500 [00:00<?, ?it/s]"
      ]
     },
     "metadata": {},
     "output_type": "display_data"
    },
    {
     "data": {
      "application/vnd.jupyter.widget-view+json": {
       "model_id": "10573b8b2d5340ab867915c9033c0895",
       "version_major": 2,
       "version_minor": 0
      },
      "text/plain": [
       "Predicting all ΔG:   0%|          | 0/2500 [00:00<?, ?it/s]"
      ]
     },
     "metadata": {},
     "output_type": "display_data"
    },
    {
     "data": {
      "application/vnd.jupyter.widget-view+json": {
       "model_id": "b58c302479d44b06ad669d8639f2ea9e",
       "version_major": 2,
       "version_minor": 0
      },
      "text/plain": [
       "Predicting all ΔG:   0%|          | 0/2500 [00:00<?, ?it/s]"
      ]
     },
     "metadata": {},
     "output_type": "display_data"
    },
    {
     "data": {
      "application/vnd.jupyter.widget-view+json": {
       "model_id": "5f40e6f0f0f54c0e997cc239a3356c41",
       "version_major": 2,
       "version_minor": 0
      },
      "text/plain": [
       "Predicting all ΔG:   0%|          | 0/2500 [00:00<?, ?it/s]"
      ]
     },
     "metadata": {},
     "output_type": "display_data"
    },
    {
     "data": {
      "application/vnd.jupyter.widget-view+json": {
       "model_id": "16deac6687044380b138c666112be016",
       "version_major": 2,
       "version_minor": 0
      },
      "text/plain": [
       "Predicting all ΔG:   0%|          | 0/2500 [00:00<?, ?it/s]"
      ]
     },
     "metadata": {},
     "output_type": "display_data"
    },
    {
     "data": {
      "application/vnd.jupyter.widget-view+json": {
       "model_id": "e76c5fd4ef244a8eb57218a1b44eaa59",
       "version_major": 2,
       "version_minor": 0
      },
      "text/plain": [
       "Predicting all ΔG:   0%|          | 0/2500 [00:00<?, ?it/s]"
      ]
     },
     "metadata": {},
     "output_type": "display_data"
    },
    {
     "data": {
      "application/vnd.jupyter.widget-view+json": {
       "model_id": "acfed12e3fab4485876d3cc0e8ba45e1",
       "version_major": 2,
       "version_minor": 0
      },
      "text/plain": [
       "Predicting all ΔG:   0%|          | 0/2500 [00:00<?, ?it/s]"
      ]
     },
     "metadata": {},
     "output_type": "display_data"
    },
    {
     "data": {
      "application/vnd.jupyter.widget-view+json": {
       "model_id": "b615814b1ab1456a973e26aa5b9f47ca",
       "version_major": 2,
       "version_minor": 0
      },
      "text/plain": [
       "Predicting all ΔG:   0%|          | 0/2500 [00:00<?, ?it/s]"
      ]
     },
     "metadata": {},
     "output_type": "display_data"
    },
    {
     "data": {
      "application/vnd.jupyter.widget-view+json": {
       "model_id": "2e2e83d11733417c8a011561d0afc327",
       "version_major": 2,
       "version_minor": 0
      },
      "text/plain": [
       "Predicting all ΔG:   0%|          | 0/2500 [00:00<?, ?it/s]"
      ]
     },
     "metadata": {},
     "output_type": "display_data"
    },
    {
     "data": {
      "application/vnd.jupyter.widget-view+json": {
       "model_id": "f955d31b0db7431f894d0df463066f74",
       "version_major": 2,
       "version_minor": 0
      },
      "text/plain": [
       "Predicting all ΔG:   0%|          | 0/2500 [00:00<?, ?it/s]"
      ]
     },
     "metadata": {},
     "output_type": "display_data"
    },
    {
     "name": "stdout",
     "output_type": "stream",
     "text": [
      "Iteration 1: Surface Stochiometry: [0.7965429868602331, 0.18343478986616382, 0.7796910002727695, 0.5968501579464871, 0.44583275285359125], Loss: -15\n",
      "Iteration 2: Surface Stochiometry: [0.09997491581800291, 0.45924889196586727, 0.3337086111390219, 0.1428668179219408, 0.650888472948853], Loss: -7\n",
      "Iteration 3: Surface Stochiometry: [0.05641157902710027, 0.7219987722668249, 0.9385527090157504, 0.0007787658410143285, 0.9922115592912177], Loss: 0\n",
      "Iteration 4: Surface Stochiometry: [0.6174815096277166, 0.611653160488281, 0.007066305219717408, 0.02306242504141576, 0.5247746602583893], Loss: -18\n",
      "Iteration 5: Surface Stochiometry: [0.3998609717152556, 0.046665663213615434, 0.9737555188414594, 0.23277134043030429, 0.09060643453282081], Loss: -1\n",
      "Iteration 6: Surface Stochiometry: [0.6183860093330874, 0.38246199126716285, 0.9832308858067884, 0.46676289324798004, 0.8599404067363208], Loss: -20\n",
      "Iteration 7: Surface Stochiometry: [0.6803075385877798, 0.4504992519695431, 0.013264961159866532, 0.942201755684853, 0.5632882178455394], Loss: -17\n",
      "Iteration 8: Surface Stochiometry: [0.3854165025399162, 0.015966252220214198, 0.23089382562214905, 0.24102546602601177, 0.6832635188254583], Loss: -14\n",
      "Iteration 9: Surface Stochiometry: [0.609996657782621, 0.8331949117361646, 0.1733646535077721, 0.3910606075732409, 0.18223608778806236], Loss: -24\n",
      "Iteration 10: Surface Stochiometry: [0.7553614103176527, 0.4251558744912448, 0.20794166286818888, 0.5677003278199916, 0.03131329245555859], Loss: -8\n",
      "Iteration 11: Surface Stochiometry: [0.6006032712658174, 0.7610648252902524, 0.9712182988546838, 0.6520357162338806, 0.009526279730111002], Loss: 0\n",
      "Iteration 12: Surface Stochiometry: [0.4650286301215597, 0.7493461832366279, 0.0, 0.6336192977874334, 0.28050041586275015], Loss: -28\n",
      "Iteration 13: Surface Stochiometry: [0.42968905070316105, 0.8669775084484322, 0.0, 0.9112276308223572, 0.5964384133039916], Loss: -19\n",
      "Iteration 14: Surface Stochiometry: [0.4716371371788053, 0.6518141059185054, 0.0022513848528818914, 0.6065499409886651, 0.2736390619468969], Loss: -29\n",
      "Iteration 15: Surface Stochiometry: [0.5048699119034957, 0.3168045612101764, 0.0, 0.6043235723651176, 0.24563540085047292], Loss: -18\n",
      "Iteration 16: Surface Stochiometry: [0.4602015190581597, 0.8643684237279701, 0.0, 0.8156445791360363, 0.26715107334220795], Loss: -26\n",
      "Iteration 17: Surface Stochiometry: [0.4736953271724719, 0.65213463291399, 0.0, 0.5620056562917146, 0.27014353203862307], Loss: -33\n",
      "Iteration 18: Surface Stochiometry: [0.6837308894314021, 0.7039903602899594, 0.0, 0.6829397338165122, 0.29694829391245176], Loss: -38\n",
      "Iteration 19: Surface Stochiometry: [0.7928157231356815, 0.7167367615962316, 0.0, 0.6937428644029954, 0.3029393122480299], Loss: -32\n",
      "Iteration 20: Surface Stochiometry: [0.6791964792278626, 0.7653475688974479, 0.5470248207353339, 0.30633221812703687, 0.32365575302148747], Loss: -13\n",
      "Iteration 21: Surface Stochiometry: [1.0, 0.9255134798035578, 0.0, 0.8830561138740834, 0.30563731793734356], Loss: -22\n",
      "Iteration 22: Surface Stochiometry: [0.02622198626413704, 0.6969512324487813, 0.12462247515845697, 0.7916530893702209, 0.5889333829566822], Loss: -1\n",
      "Iteration 23: Surface Stochiometry: [0.6563131150029393, 0.6812746452698403, 0.0, 0.0, 0.2792453774144921], Loss: -4\n",
      "Iteration 24: Surface Stochiometry: [0.6586791760880423, 0.8029919179581189, 0.0, 0.6221418329278591, 0.32559609030440667], Loss: -27\n",
      "Iteration 25: Surface Stochiometry: [0.8334474435599077, 0.6281781811730212, 0.0, 0.7966369247524382, 0.23257944250790138], Loss: -32\n",
      "Iteration 26: Surface Stochiometry: [0.15722418925322032, 0.6114577674000106, 0.0, 0.702440085931527, 0.45875778956880703], Loss: -11\n",
      "Iteration 27: Surface Stochiometry: [0.6785491867081549, 0.6111947221956944, 0.0, 0.8168419307779565, 0.2996591945025926], Loss: -30\n",
      "Iteration 28: Surface Stochiometry: [1.0, 0.0, 1.0, 0.9799369796554697, 1.0], Loss: -13\n",
      "Iteration 29: Surface Stochiometry: [1.0, 1.0, 0.0, 1.0, 0.8631604795422104], Loss: -39\n",
      "Iteration 30: Surface Stochiometry: [1.0, 1.0, 0.0, 1.0, 0.8880991350458369], Loss: -35\n",
      "Iteration 31: Surface Stochiometry: [1.0, 1.0, 0.0, 1.0, 0.7913796008657589], Loss: -29\n",
      "Iteration 32: Surface Stochiometry: [1.0, 1.0, 0.0, 1.0, 0.9859658705207835], Loss: -27\n",
      "Iteration 33: Surface Stochiometry: [1.0, 1.0, 0.5106308593170777, 1.0, 0.8728797890770877], Loss: -23\n",
      "Iteration 34: Surface Stochiometry: [1.0, 1.0, 0.0, 0.7624477026550527, 0.869819464510318], Loss: -31\n",
      "Iteration 35: Surface Stochiometry: [1.0, 0.7567050228986374, 0.0, 1.0, 0.872158320199424], Loss: -20\n",
      "Iteration 36: Surface Stochiometry: [0.6403558122475769, 1.0, 0.0, 1.0, 0.8759828434460811], Loss: -27\n",
      "Iteration 37: Surface Stochiometry: [1.0, 1.0, 0.0, 0.17455784423964385, 0.7956628395253721], Loss: -17\n",
      "Iteration 38: Surface Stochiometry: [1.0, 0.0, 1.0, 0.0, 1.0], Loss: 0\n",
      "Iteration 39: Surface Stochiometry: [1.0, 0.5838150795416844, 0.0, 0.6315229344831521, 0.3287227515057252], Loss: -30\n",
      "Iteration 40: Surface Stochiometry: [0.0, 1.0, 0.0, 1.0, 0.0], Loss: 0\n",
      "Iteration 41: Surface Stochiometry: [1.0, 1.0, 1.0, 1.0, 0.545769074518641], Loss: -26\n",
      "Iteration 42: Surface Stochiometry: [1.0, 0.6403096677235894, 1.0, 1.0, 0.3715937503808591], Loss: -11\n",
      "Iteration 43: Surface Stochiometry: [1.0, 1.0, 1.0, 0.5606687153313866, 0.6716698083576775], Loss: -14\n",
      "Iteration 44: Surface Stochiometry: [1.0, 0.7141537169786758, 0.0, 0.6115714466466007, 0.224853657648811], Loss: -16\n",
      "Iteration 45: Surface Stochiometry: [0.7075369403699665, 1.0, 0.0, 0.6155468177909772, 1.0], Loss: -32\n",
      "Iteration 46: Surface Stochiometry: [0.7087568922832657, 1.0, 0.0, 0.6154860349623882, 1.0], Loss: -32\n",
      "Iteration 47: Surface Stochiometry: [0.6905459809744784, 1.0, 0.0, 0.585986659856165, 1.0], Loss: -27\n",
      "Iteration 48: Surface Stochiometry: [0.734991688943657, 1.0, 0.0, 0.6667564513827214, 0.6046079715530693], Loss: -35\n",
      "Iteration 49: Surface Stochiometry: [0.730786391644974, 1.0, 0.0, 0.6607393918042325, 0.5958031635825202], Loss: -37\n",
      "Iteration 50: Surface Stochiometry: [0.7250547707102868, 1.0, 0.0, 0.6538038146431643, 0.585892853913403], Loss: -34\n",
      "Iteration 51: Surface Stochiometry: [0.7242991244218544, 1.0, 0.0, 0.6531245836033346, 0.5857630492462224], Loss: -33\n",
      "Iteration 52: Surface Stochiometry: [0.6584487810549183, 1.0, 0.0, 0.5883231968311677, 0.5932374624408846], Loss: -26\n",
      "Iteration 53: Surface Stochiometry: [0.8677856493057841, 0.0, 0.0, 0.6012110685594708, 1.0], Loss: -12\n",
      "Iteration 54: Surface Stochiometry: [0.7882814174551933, 1.0, 0.0, 0.7918615754778627, 0.5451491835234504], Loss: -27\n",
      "Iteration 55: Surface Stochiometry: [0.7820595717035367, 1.0, 0.0, 0.7431501996240681, 0.6023368498363366], Loss: -36\n",
      "Iteration 56: Surface Stochiometry: [0.7879187417972422, 1.0, 0.0, 0.74005797918486, 0.6036047374093679], Loss: -29\n",
      "Iteration 57: Surface Stochiometry: [0.7339571430105308, 1.0, 0.0, 0.7196018361525146, 0.523675765823215], Loss: -34\n",
      "Iteration 58: Surface Stochiometry: [0.8096493011200391, 1.0, 0.0, 0.7194004943751828, 0.6694715355151424], Loss: -36\n",
      "Iteration 59: Surface Stochiometry: [0.8331131191628977, 1.0, 0.0, 0.7148255953353087, 0.6995670668019249], Loss: -42\n",
      "Iteration 60: Surface Stochiometry: [0.8584474867486794, 1.0, 0.0, 0.7064379997781504, 0.7220174082742432], Loss: -43\n",
      "Iteration 61: Surface Stochiometry: [0.9025612701831838, 1.0, 0.0, 0.6928586141714628, 0.7607605551358593], Loss: -35\n",
      "Iteration 62: Surface Stochiometry: [0.9032984316074002, 1.0, 0.0, 0.6935934991080548, 0.7583812795913041], Loss: -32\n",
      "Iteration 63: Surface Stochiometry: [0.8616384742414229, 1.0, 0.0, 0.7073153603208469, 0.7159155267137324], Loss: -35\n",
      "Iteration 64: Surface Stochiometry: [0.8672032208425241, 1.0, 0.0, 0.7072851099388513, 0.7250384848435953], Loss: -33\n",
      "Iteration 65: Surface Stochiometry: [0.8522623907274424, 1.0, 0.0, 0.7168050703663622, 0.7157559358410156], Loss: -40\n",
      "Iteration 66: Surface Stochiometry: [0.7877063106744795, 0.8169121455077291, 0.0, 0.642853062807951, 0.6784413390128722], Loss: -29\n",
      "Iteration 67: Surface Stochiometry: [0.8490862411572314, 1.0, 0.0, 0.7528559598793039, 0.6505330824428958], Loss: -39\n",
      "Iteration 68: Surface Stochiometry: [0.8597154354559828, 1.0, 0.0, 0.7601229619988662, 0.6443229052181845], Loss: -38\n",
      "Iteration 69: Surface Stochiometry: [0.8739006259757544, 1.0, 0.0, 0.7624664371981034, 0.6440454848501711], Loss: -36\n",
      "Iteration 70: Surface Stochiometry: [0.8386230397834348, 1.0, 0.0, 0.8137607576676781, 0.7620455966998129], Loss: -24\n",
      "Iteration 71: Surface Stochiometry: [0.8084263571962642, 1.0, 0.0, 0.6599924019003299, 0.5689907994347913], Loss: -28\n",
      "Iteration 72: Surface Stochiometry: [1.0, 1.0, 0.0, 0.7138579594335499, 0.7688008563963811], Loss: -34\n",
      "Iteration 73: Surface Stochiometry: [0.8479326802587669, 1.0, 0.0, 0.7276734669687351, 0.5982005442817295], Loss: -42\n",
      "Iteration 74: Surface Stochiometry: [0.8619445949606767, 1.0, 0.0, 0.7419989571506627, 0.5791928971816901], Loss: -30\n",
      "Iteration 75: Surface Stochiometry: [0.7976024570635988, 1.0, 0.0, 0.6659582313368915, 0.6070960134995201], Loss: -29\n",
      "Iteration 76: Surface Stochiometry: [1.0, 1.0, 0.0, 0.7022692977757886, 1.0], Loss: -40\n",
      "Iteration 77: Surface Stochiometry: [1.0, 1.0, 0.0, 0.6851363964202652, 1.0], Loss: -42\n",
      "Iteration 78: Surface Stochiometry: [1.0, 1.0, 0.0, 0.6698896901496685, 1.0], Loss: -33\n",
      "Iteration 79: Surface Stochiometry: [1.0, 1.0, 0.0, 0.6845978105709217, 1.0], Loss: -35\n",
      "Iteration 80: Surface Stochiometry: [1.0, 1.0, 0.0, 0.6890621245288956, 1.0], Loss: -22\n",
      "Iteration 81: Surface Stochiometry: [0.8746670820760194, 1.0, 0.0, 0.7363982727583521, 1.0], Loss: -48\n",
      "Iteration 82: Surface Stochiometry: [0.808499423008468, 1.0, 0.0, 0.7519356228530003, 1.0], Loss: -24\n",
      "Iteration 83: Surface Stochiometry: [0.8862138196746018, 1.0, 0.0, 0.7248147356763439, 1.0], Loss: -35\n",
      "Iteration 84: Surface Stochiometry: [1.0, 1.0, 0.0, 0.7266642936160356, 1.0], Loss: -33\n",
      "Iteration 85: Surface Stochiometry: [0.8667739701277504, 1.0, 0.0, 0.7263792860218888, 1.0], Loss: -38\n",
      "Iteration 86: Surface Stochiometry: [0.8495786717648749, 1.0, 0.0, 0.7314349333401212, 1.0], Loss: -32\n",
      "Iteration 87: Surface Stochiometry: [0.8797687230165698, 1.0, 0.0, 0.7215150550541461, 1.0], Loss: -34\n",
      "Iteration 88: Surface Stochiometry: [1.0, 1.0, 0.0, 0.7240622472510526, 1.0], Loss: -33\n",
      "Iteration 89: Surface Stochiometry: [1.0, 1.0, 0.0, 0.7267095176733482, 1.0], Loss: -26\n",
      "Iteration 90: Surface Stochiometry: [0.8221973286512217, 1.0, 0.0, 0.7248028813399195, 1.0], Loss: -28\n",
      "Iteration 91: Surface Stochiometry: [0.8880068421475643, 1.0, 0.0, 0.7145718767159661, 0.6957391890805967], Loss: -28\n",
      "Iteration 92: Surface Stochiometry: [0.8299287807317364, 1.0, 0.0, 0.7080780331611213, 0.7387523292941985], Loss: -42\n",
      "Iteration 93: Surface Stochiometry: [0.8249416473360142, 1.0, 0.0, 0.6864432092695175, 0.7374867070854968], Loss: -32\n",
      "Iteration 94: Surface Stochiometry: [0.837146418749617, 1.0, 0.0, 0.724593480389912, 0.7208076719824671], Loss: -35\n",
      "Iteration 95: Surface Stochiometry: [0.8420378853139355, 1.0, 0.0, 0.7215501123027349, 0.7172595390521288], Loss: -30\n",
      "Iteration 96: Surface Stochiometry: [0.8173889167926537, 1.0, 0.0, 0.6664882863632846, 0.7654275676218636], Loss: -31\n",
      "Iteration 97: Surface Stochiometry: [0.8571058392643236, 1.0, 0.0, 0.7588152756045377, 0.6928799061064244], Loss: -27\n",
      "Iteration 98: Surface Stochiometry: [0.8274370327414842, 1.0, 0.0, 0.6584612102883685, 1.0], Loss: -34\n",
      "Iteration 99: Surface Stochiometry: [0.8376155300201162, 1.0, 0.0, 0.7280269091747195, 1.0], Loss: -30\n",
      "Iteration 100: Surface Stochiometry: [1.0, 1.0, 0.0, 0.7391847270567794, 0.7619016922749852], Loss: -44\n",
      "Iteration 101: Surface Stochiometry: [1.0, 1.0, 0.0, 0.7340304249047804, 0.7217042588768353], Loss: -31\n",
      "Iteration 102: Surface Stochiometry: [1.0, 1.0, 0.0, 0.736141190104619, 0.7389488281736706], Loss: -38\n",
      "Iteration 103: Surface Stochiometry: [1.0, 1.0, 0.0, 0.7331455858778654, 0.7284019562154614], Loss: -37\n",
      "Iteration 104: Surface Stochiometry: [1.0, 1.0, 0.0, 0.7306017532826166, 0.7239047987688477], Loss: -30\n",
      "Iteration 105: Surface Stochiometry: [1.0, 1.0, 0.0, 0.7348658080376158, 0.7418114148078042], Loss: -31\n",
      "Iteration 106: Surface Stochiometry: [1.0, 1.0, 0.0, 0.7363895623677899, 0.7589501285882995], Loss: -38\n",
      "Iteration 107: Surface Stochiometry: [1.0, 1.0, 0.0, 0.7334964378125934, 0.7487327523434818], Loss: -41\n",
      "Iteration 108: Surface Stochiometry: [1.0, 1.0, 0.0, 0.7277653714927069, 0.7336829864691878], Loss: -36\n",
      "Iteration 109: Surface Stochiometry: [1.0, 1.0, 0.0, 0.7254064478593121, 0.733999033132025], Loss: -44\n",
      "Iteration 110: Surface Stochiometry: [1.0, 1.0, 0.0, 0.711815379280555, 0.7188192450713106], Loss: -33\n",
      "Iteration 111: Surface Stochiometry: [1.0, 1.0, 0.0, 0.7197937287934512, 0.7232403814407371], Loss: -33\n",
      "Iteration 112: Surface Stochiometry: [1.0, 1.0, 0.0, 0.7259356155149564, 0.7284080282163562], Loss: -30\n",
      "Iteration 113: Surface Stochiometry: [1.0, 1.0, 0.0, 0.7383298658477883, 0.7378796442075417], Loss: -36\n",
      "Iteration 114: Surface Stochiometry: [1.0, 1.0, 0.0, 0.7356511046876969, 0.7394687757219376], Loss: -32\n",
      "Iteration 115: Surface Stochiometry: [1.0, 1.0, 0.0, 0.7168505256272012, 0.7630453092584834], Loss: -34\n",
      "Iteration 116: Surface Stochiometry: [1.0, 1.0, 0.0, 0.7546296537166695, 0.7415779965387865], Loss: -30\n",
      "Iteration 117: Surface Stochiometry: [1.0, 1.0, 0.0, 0.6662754646045581, 1.0], Loss: -32\n",
      "Iteration 118: Surface Stochiometry: [1.0, 1.0, 0.0, 0.7691534777246635, 0.7296213277011179], Loss: -31\n",
      "Iteration 119: Surface Stochiometry: [0.8824454616393154, 1.0, 0.0, 0.6376602228119255, 0.728039015168971], Loss: -37\n",
      "Iteration 120: Surface Stochiometry: [0.8817510525794408, 1.0, 0.0, 0.630828521257809, 0.7299236571552659], Loss: -33\n",
      "Iteration 121: Surface Stochiometry: [0.8835926740894728, 1.0, 0.0, 0.6385918628413713, 0.7293566849027194], Loss: -30\n",
      "Iteration 122: Surface Stochiometry: [1.0, 1.0, 0.0, 0.7555898312591791, 1.0], Loss: -33\n",
      "Iteration 123: Surface Stochiometry: [1.0, 1.0, 0.0, 0.7790481115058907, 0.7350868420952674], Loss: -43\n",
      "Iteration 124: Surface Stochiometry: [1.0, 1.0, 0.0, 0.7990470869492886, 0.6988014410691659], Loss: -38\n",
      "Iteration 125: Surface Stochiometry: [1.0, 1.0, 0.0, 0.8074597344601848, 0.684488710254412], Loss: -30\n",
      "Iteration 126: Surface Stochiometry: [1.0, 1.0, 0.0, 0.7847943880186437, 0.727147708194861], Loss: -44\n",
      "Iteration 127: Surface Stochiometry: [1.0, 1.0, 0.0, 0.8056394945250732, 0.6897333301163643], Loss: -41\n",
      "Iteration 128: Surface Stochiometry: [1.0, 1.0, 0.0, 0.8217934600283917, 0.6612067734556882], Loss: -26\n",
      "Iteration 129: Surface Stochiometry: [1.0, 1.0, 0.0, 0.775723796676163, 0.7438896349547047], Loss: -28\n",
      "Iteration 130: Surface Stochiometry: [1.0, 1.0, 0.0, 0.7291617309849359, 0.773827090587573], Loss: -40\n",
      "Iteration 131: Surface Stochiometry: [1.0, 1.0, 0.0, 0.7029745183637832, 0.7750198440699219], Loss: -28\n",
      "Iteration 132: Surface Stochiometry: [0.9107376328384899, 1.0, 0.0, 0.7737550565234433, 0.694466388164908], Loss: -35\n",
      "Iteration 133: Surface Stochiometry: [1.0, 1.0, 0.0, 0.7858670940121676, 0.7619017643869489], Loss: -40\n",
      "Iteration 134: Surface Stochiometry: [1.0, 1.0, 0.0, 0.79583611882463, 0.7477385101479267], Loss: -21\n",
      "Iteration 135: Surface Stochiometry: [0.8748355079288916, 1.0, 0.0, 0.6711035462882342, 0.7004350311357809], Loss: -36\n",
      "Iteration 136: Surface Stochiometry: [0.8752638142270874, 1.0, 0.0, 0.6662770401052905, 0.7025544232310986], Loss: -32\n",
      "Iteration 137: Surface Stochiometry: [1.0, 1.0, 0.0, 0.7649071253801696, 1.0], Loss: -36\n",
      "Iteration 138: Surface Stochiometry: [1.0, 1.0, 0.0, 0.7681404343247987, 1.0], Loss: -39\n",
      "Iteration 139: Surface Stochiometry: [1.0, 1.0, 0.0, 0.7779812750762425, 1.0], Loss: -39\n",
      "Iteration 140: Surface Stochiometry: [1.0, 1.0, 0.0, 0.7870302072698921, 1.0], Loss: -38\n",
      "Iteration 141: Surface Stochiometry: [1.0, 1.0, 0.0, 0.7932235712401496, 1.0], Loss: -32\n",
      "Iteration 142: Surface Stochiometry: [1.0, 1.0, 0.0, 0.78339270723422, 1.0], Loss: -35\n",
      "Iteration 143: Surface Stochiometry: [1.0, 1.0, 0.0, 0.7824088951516068, 1.0], Loss: -24\n",
      "Iteration 144: Surface Stochiometry: [1.0, 1.0, 0.0, 0.666614948306607, 1.0], Loss: -34\n",
      "Iteration 145: Surface Stochiometry: [1.0, 1.0, 0.0, 0.6724972420238011, 1.0], Loss: -34\n",
      "Iteration 146: Surface Stochiometry: [1.0, 1.0, 0.0, 0.6841608149895639, 0.8316400052846173], Loss: -39\n",
      "Iteration 147: Surface Stochiometry: [1.0, 1.0, 0.0, 0.6694454982858834, 0.8371982915096311], Loss: -37\n",
      "Iteration 148: Surface Stochiometry: [1.0, 1.0, 0.0, 0.6626905784579561, 0.8399439908930957], Loss: -27\n",
      "Iteration 149: Surface Stochiometry: [1.0, 1.0, 0.0, 0.7826127772765964, 1.0], Loss: -24\n",
      "Iteration 150: Surface Stochiometry: [0.8734042343447509, 1.0, 0.0, 0.7264342834213435, 0.6940413379405828], Loss: -34\n",
      "Iteration 151: Surface Stochiometry: [0.874445666749465, 1.0, 0.0, 0.7226601246286802, 0.6973663116823755], Loss: -32\n",
      "Iteration 152: Surface Stochiometry: [0.8793660691067873, 1.0, 0.0, 0.6799131708517295, 0.712466543865091], Loss: -25\n",
      "Iteration 153: Surface Stochiometry: [1.0, 1.0, 0.0, 0.791799058063553, 0.6969713429088291], Loss: -36\n",
      "Iteration 154: Surface Stochiometry: [1.0, 1.0, 0.0, 0.7950849480735558, 0.6924853871907949], Loss: -51\n",
      "Iteration 155: Surface Stochiometry: [1.0, 1.0, 0.0, 0.835561349326831, 0.597087295790184], Loss: -39\n",
      "Iteration 156: Surface Stochiometry: [1.0, 1.0, 0.0, 0.8587328571108157, 0.5482532952370591], Loss: -35\n",
      "Iteration 157: Surface Stochiometry: [1.0, 1.0, 0.0, 0.8585869227365395, 0.5483458871771293], Loss: -31\n",
      "Iteration 158: Surface Stochiometry: [1.0, 1.0, 0.0, 0.8255541708109551, 0.6211989219209733], Loss: -41\n",
      "Iteration 159: Surface Stochiometry: [1.0, 1.0, 0.0, 0.8482879151963099, 0.5737726782170012], Loss: -36\n",
      "Iteration 160: Surface Stochiometry: [1.0, 1.0, 0.0, 0.8536325322816559, 0.564310030286208], Loss: -30\n",
      "Iteration 161: Surface Stochiometry: [1.0, 1.0, 0.0, 0.8191841998282278, 0.6397274972505254], Loss: -30\n",
      "Iteration 162: Surface Stochiometry: [1.0, 1.0, 0.0, 0.8046439417766507, 0.668926406686444], Loss: -37\n",
      "Iteration 163: Surface Stochiometry: [1.0, 1.0, 0.0, 0.808012031598352, 0.6664034551679419], Loss: -34\n",
      "Iteration 164: Surface Stochiometry: [1.0, 1.0, 0.0, 0.8053743079986847, 0.6741004112930629], Loss: -36\n",
      "Iteration 165: Surface Stochiometry: [1.0, 1.0, 0.0, 0.8069087094073928, 0.6753339038866997], Loss: -31\n",
      "Iteration 166: Surface Stochiometry: [1.0, 1.0, 0.0, 0.7971885830914079, 0.6893351759522388], Loss: -34\n",
      "Iteration 167: Surface Stochiometry: [1.0, 1.0, 0.0, 0.7952220682983935, 0.6951517869935931], Loss: -29\n",
      "Iteration 168: Surface Stochiometry: [1.0, 1.0, 0.0, 0.7787842574283517, 0.7034986062786103], Loss: -36\n",
      "Iteration 169: Surface Stochiometry: [1.0, 1.0, 0.0, 0.7812028809401069, 0.7061667763973989], Loss: -36\n",
      "Iteration 170: Surface Stochiometry: [1.0, 1.0, 0.0, 0.7839241627592036, 0.7091354342407863], Loss: -45\n",
      "Iteration 171: Surface Stochiometry: [1.0, 1.0, 0.0, 0.7949780700770676, 0.6938326911584333], Loss: -33\n",
      "Iteration 172: Surface Stochiometry: [1.0, 1.0, 0.0, 0.790298116547271, 0.700290579906079], Loss: -38\n",
      "Iteration 173: Surface Stochiometry: [1.0, 1.0, 0.0, 0.7959367111085269, 0.7001815059368566], Loss: -38\n",
      "Iteration 174: Surface Stochiometry: [1.0, 1.0, 0.0, 0.8017173849082854, 0.7000137785389455], Loss: -31\n",
      "Iteration 175: Surface Stochiometry: [1.0, 1.0, 0.0, 0.78573707340557, 0.7024637819218935], Loss: -44\n",
      "Iteration 176: Surface Stochiometry: [1.0, 1.0, 0.0, 0.7968496221417936, 0.689039686208734], Loss: -44\n",
      "Iteration 177: Surface Stochiometry: [1.0, 1.0, 0.0, 0.8112926981660071, 0.6701452929605715], Loss: -42\n",
      "Iteration 178: Surface Stochiometry: [1.0, 1.0, 0.0, 0.8259880307050893, 0.6489458603514926], Loss: -36\n",
      "Iteration 179: Surface Stochiometry: [1.0, 1.0, 0.0, 0.827106112609367, 0.6506101383807995], Loss: -34\n",
      "Iteration 180: Surface Stochiometry: [1.0, 1.0, 0.0, 0.8214396903780943, 0.6631849706626471], Loss: -34\n",
      "Iteration 181: Surface Stochiometry: [1.0, 1.0, 0.0, 0.8163461235394803, 0.6737844532625865], Loss: -38\n",
      "Iteration 182: Surface Stochiometry: [1.0, 1.0, 0.0, 0.8227319249018933, 0.669741879824925], Loss: -31\n",
      "Iteration 183: Surface Stochiometry: [1.0, 1.0, 0.0, 0.8052316652333331, 0.6859013640201735], Loss: -32\n",
      "Iteration 184: Surface Stochiometry: [1.0, 1.0, 0.0, 0.7624778237789352, 0.6666103461368441], Loss: -35\n",
      "Iteration 185: Surface Stochiometry: [1.0, 1.0, 0.0, 0.803050735662846, 0.7051352120784548], Loss: -30\n",
      "Iteration 186: Surface Stochiometry: [1.0, 1.0, 0.0, 0.7434636272005994, 0.6694928387695712], Loss: -34\n",
      "Iteration 187: Surface Stochiometry: [1.0, 1.0, 0.0, 0.7495820621015009, 0.6788755324458937], Loss: -42\n",
      "Iteration 188: Surface Stochiometry: [1.0, 1.0, 0.0, 0.7360064795171609, 0.6583950844664048], Loss: -32\n",
      "Iteration 189: Surface Stochiometry: [1.0, 1.0, 0.0, 0.7476086995985878, 0.6764226552502685], Loss: -41\n",
      "Iteration 190: Surface Stochiometry: [1.0, 1.0, 0.0, 0.7358124861174472, 0.6591776954119855], Loss: -39\n",
      "Iteration 191: Surface Stochiometry: [1.0, 1.0, 0.0, 0.7298464743570391, 0.6488769770719344], Loss: -30\n",
      "Iteration 192: Surface Stochiometry: [1.0, 1.0, 0.0, 0.7997347946962986, 0.7187375140628475], Loss: -36\n",
      "Iteration 193: Surface Stochiometry: [1.0, 1.0, 0.0, 0.8008679980176749, 0.7213758902683398], Loss: -38\n",
      "Iteration 194: Surface Stochiometry: [1.0, 1.0, 0.0, 0.8059001445253009, 0.7245898910666114], Loss: -31\n",
      "Iteration 195: Surface Stochiometry: [1.0, 1.0, 0.0, 0.7363079452259784, 0.6750248439807309], Loss: -36\n",
      "Iteration 196: Surface Stochiometry: [1.0, 1.0, 0.0, 0.7355818265375382, 0.6756283770975906], Loss: -35\n",
      "Iteration 197: Surface Stochiometry: [1.0, 1.0, 0.0, 0.7377650320083265, 0.6802463322874168], Loss: -33\n",
      "Iteration 198: Surface Stochiometry: [1.0, 1.0, 0.0, 0.80601428675127, 0.7350057006568766], Loss: -38\n",
      "Iteration 199: Surface Stochiometry: [1.0, 1.0, 0.0, 0.8100285777641458, 0.7372191109488526], Loss: -37\n",
      "Iteration 200: Surface Stochiometry: [1.0, 1.0, 0.0, 0.812113580739448, 0.7388708773897221], Loss: -40\n",
      "Iteration 201: Surface Stochiometry: [1.0, 1.0, 0.0, 0.8187549913829257, 0.740498848158683], Loss: -37\n",
      "Iteration 202: Surface Stochiometry: [1.0, 1.0, 0.0, 0.8205733964825991, 0.7415979051354274], Loss: -34\n",
      "Iteration 203: Surface Stochiometry: [1.0, 1.0, 0.0, 0.8172433026768847, 0.742300333706853], Loss: -21\n",
      "Iteration 204: Surface Stochiometry: [1.0, 1.0, 0.0, 0.723237613640508, 0.6707033078660886], Loss: -34\n",
      "Iteration 205: Surface Stochiometry: [1.0, 1.0, 0.0, 0.7260733712973128, 0.6773879798562245], Loss: -33\n",
      "Iteration 206: Surface Stochiometry: [1.0, 1.0, 0.0, 0.7318487223074882, 0.6882575106196046], Loss: -27\n",
      "Iteration 207: Surface Stochiometry: [1.0, 1.0, 0.0, 0.8177954495235497, 0.7459107113173551], Loss: -37\n",
      "Iteration 208: Surface Stochiometry: [1.0, 1.0, 0.0, 0.8201711521937616, 0.7468276746239796], Loss: -25\n",
      "Iteration 209: Surface Stochiometry: [1.0, 1.0, 0.0, 0.7268413775833475, 0.6870270657613214], Loss: -39\n",
      "Iteration 210: Surface Stochiometry: [1.0, 1.0, 0.0, 0.7204790883849771, 0.6784181663778828], Loss: -34\n",
      "Iteration 211: Surface Stochiometry: [1.0, 1.0, 0.0, 0.7228157810062904, 0.685591837666804], Loss: -35\n",
      "Iteration 212: Surface Stochiometry: [1.0, 1.0, 0.0, 0.7234572530252446, 0.6895797543449557], Loss: -38\n",
      "Iteration 213: Surface Stochiometry: [1.0, 1.0, 0.0, 0.7187093499434338, 0.6843345334384786], Loss: -34\n",
      "Iteration 214: Surface Stochiometry: [1.0, 1.0, 0.0, 0.7212882697240924, 0.6915137965867625], Loss: -38\n",
      "Iteration 215: Surface Stochiometry: [1.0, 1.0, 0.0, 0.7165774047927426, 0.6865564708867601], Loss: -38\n",
      "Iteration 216: Surface Stochiometry: [1.0, 1.0, 0.0, 0.7122431599291041, 0.6813554094516882], Loss: -35\n",
      "Iteration 217: Surface Stochiometry: [1.0, 1.0, 0.0, 0.7128719394151947, 0.6848470338038394], Loss: -42\n",
      "Iteration 218: Surface Stochiometry: [1.0, 1.0, 0.0, 0.7032670085055088, 0.66912727719432], Loss: -41\n",
      "Iteration 219: Surface Stochiometry: [1.0, 1.0, 0.0, 0.6959060571178279, 0.6543611502512044], Loss: -33\n",
      "Iteration 220: Surface Stochiometry: [1.0, 1.0, 0.0, 0.6991197471221204, 0.6649289321729458], Loss: -36\n",
      "Iteration 221: Surface Stochiometry: [1.0, 1.0, 0.0, 0.6983883422588294, 0.6647732695315012], Loss: -38\n",
      "Iteration 222: Surface Stochiometry: [1.0, 1.0, 0.0, 0.6951824043402519, 0.6581517402826292], Loss: -34\n",
      "Iteration 223: Surface Stochiometry: [1.0, 1.0, 0.0, 0.6969677796034098, 0.6654190721395274], Loss: -28\n",
      "Iteration 224: Surface Stochiometry: [1.0, 1.0, 0.0, 0.7082381414916158, 0.6981694158848024], Loss: -31\n",
      "Iteration 225: Surface Stochiometry: [1.0, 1.0, 0.0, 0.7184453716249275, 0.7099294365009278], Loss: -30\n",
      "Iteration 226: Surface Stochiometry: [1.0, 1.0, 0.0, 0.7922458610360952, 0.5839184120641748], Loss: -26\n",
      "Iteration 227: Surface Stochiometry: [1.0, 1.0, 0.0, 0.7554499637270865, 0.7824779659124182], Loss: -31\n",
      "Iteration 228: Surface Stochiometry: [1.0, 1.0, 0.0, 0.7532052012265913, 0.7774662702471182], Loss: -30\n",
      "Iteration 229: Surface Stochiometry: [0.8976852681711294, 1.0, 0.0, 0.7685662538394846, 0.6656632922349525], Loss: -39\n",
      "Iteration 230: Surface Stochiometry: [0.8928213420272125, 1.0, 0.0, 0.7711070060626091, 0.6559766942325207], Loss: -25\n",
      "Iteration 231: Surface Stochiometry: [1.0, 1.0, 0.0, 0.7108270243109325, 0.7613943182222356], Loss: -39\n",
      "Iteration 232: Surface Stochiometry: [1.0, 1.0, 0.0, 0.7026111918430933, 0.7615865568940275], Loss: -29\n",
      "Iteration 233: Surface Stochiometry: [1.0, 1.0, 0.0, 0.7742869959150898, 0.7809089425728779], Loss: -33\n",
      "Iteration 234: Surface Stochiometry: [1.0, 1.0, 0.0, 0.7689889509454952, 0.7781277107486207], Loss: -40\n",
      "Iteration 235: Surface Stochiometry: [1.0, 1.0, 0.0, 0.7750476444433931, 0.7832754912593113], Loss: -35\n",
      "Iteration 236: Surface Stochiometry: [1.0, 1.0, 0.0, 0.7743151874188356, 0.7830084717294191], Loss: -33\n",
      "Iteration 237: Surface Stochiometry: [1.0, 1.0, 0.0, 0.7202861426910434, 0.7639323095776441], Loss: -36\n",
      "Iteration 238: Surface Stochiometry: [1.0, 1.0, 0.0, 0.7658142944979558, 0.7809418251261346], Loss: -31\n",
      "Iteration 239: Surface Stochiometry: [1.0, 1.0, 0.0, 0.7103730338895418, 0.7527203459190542], Loss: -32\n",
      "Iteration 240: Surface Stochiometry: [1.0, 1.0, 0.0, 0.7859145336778609, 0.7730075224799622], Loss: -32\n",
      "Iteration 241: Surface Stochiometry: [1.0, 1.0, 0.0, 0.712140953702663, 0.7449214432021201], Loss: -27\n",
      "Iteration 242: Surface Stochiometry: [0.891449310045713, 1.0, 0.0, 0.7719400256774903, 0.6291576780666776], Loss: -24\n",
      "Iteration 243: Surface Stochiometry: [1.0, 1.0, 0.0, 0.7909571630389414, 0.7915029547005442], Loss: -30\n",
      "Iteration 244: Surface Stochiometry: [1.0, 1.0, 0.0, 0.7804187587372774, 0.7858212152167591], Loss: -31\n",
      "Iteration 245: Surface Stochiometry: [1.0, 1.0, 0.0, 0.6985915246475802, 0.7409915085002962], Loss: -35\n",
      "Iteration 246: Surface Stochiometry: [0.8994427250383851, 1.0, 0.0, 0.7485737356043175, 0.6362875421296706], Loss: -40\n",
      "Iteration 247: Surface Stochiometry: [1.0, 1.0, 0.0, 0.7845594479932287, 0.561640049207068], Loss: -35\n",
      "Iteration 248: Surface Stochiometry: [1.0, 1.0, 0.0, 0.7846734962994814, 0.5606393450800833], Loss: -42\n",
      "Iteration 249: Surface Stochiometry: [1.0, 1.0, 0.0, 0.8104582018431838, 0.4889848992113189], Loss: -37\n",
      "Iteration 250: Surface Stochiometry: [1.0, 1.0, 0.0, 1.0, 0.1529838322785013], Loss: -11\n",
      "Iteration 251: Surface Stochiometry: [0.9110641831139435, 1.0, 0.0, 0.6907395223311459, 0.527789191158756], Loss: -37\n",
      "Iteration 252: Surface Stochiometry: [1.0, 1.0, 0.0, 0.697494539069418, 0.5587278282042236], Loss: -25\n",
      "Iteration 253: Surface Stochiometry: [0.8622198926708242, 1.0, 0.0, 0.7081586434887334, 0.5334618307389929], Loss: -38\n",
      "Iteration 254: Surface Stochiometry: [0.8481415460819943, 1.0, 0.0, 0.7005229102476446, 0.515708356532795], Loss: -36\n",
      "Iteration 255: Surface Stochiometry: [0.8426252774361312, 1.0, 0.0, 0.6977835701709905, 0.5086376792301494], Loss: -40\n",
      "Iteration 256: Surface Stochiometry: [0.8220323437353553, 1.0, 0.0, 0.6868965886068283, 0.4849961126642711], Loss: -35\n",
      "Iteration 257: Surface Stochiometry: [0.8222289564707131, 1.0, 0.0, 0.6873221480851551, 0.48456566340694907], Loss: -32\n",
      "Iteration 258: Surface Stochiometry: [0.8407037064776491, 1.0, 0.0, 0.6967617842158677, 0.5021472362472107], Loss: -44\n",
      "Iteration 259: Surface Stochiometry: [0.8119071316468722, 1.0, 0.0, 0.681046306558742, 0.4702332326256579], Loss: -27\n",
      "Iteration 260: Surface Stochiometry: [0.8612830651126477, 1.0, 0.0, 0.7054159845411336, 0.5182162501639933], Loss: -34\n",
      "Iteration 261: Surface Stochiometry: [0.8653829264192694, 1.0, 0.0, 0.7080097835949442, 0.5225061693860347], Loss: -33\n",
      "Iteration 262: Surface Stochiometry: [0.8726380343355621, 1.0, 0.0, 0.7125617803636453, 0.5310109138145943], Loss: -45\n",
      "Iteration 263: Surface Stochiometry: [0.8522827664393671, 1.0, 0.0, 0.6993280921376411, 0.5029525961670032], Loss: -31\n",
      "Iteration 264: Surface Stochiometry: [0.8680114793133302, 1.0, 0.0, 0.7084471424039022, 0.5206333852093806], Loss: -29\n",
      "Iteration 265: Surface Stochiometry: [0.8837443480014401, 1.0, 0.0, 0.7205855891327757, 0.5442082640588839], Loss: -39\n",
      "Iteration 266: Surface Stochiometry: [0.8790865951747926, 1.0, 0.0, 0.716264299328072, 0.5338310755633531], Loss: -36\n",
      "Iteration 267: Surface Stochiometry: [0.8786709416067148, 1.0, 0.0, 0.7157166396739231, 0.5315251052125284], Loss: -32\n",
      "Iteration 268: Surface Stochiometry: [0.885374492028243, 1.0, 0.0, 0.7216503358747504, 0.541872825894582], Loss: -29\n",
      "Iteration 269: Surface Stochiometry: [1.0, 1.0, 0.0, 0.7187825219907945, 0.5929961672564739], Loss: -30\n",
      "Iteration 270: Surface Stochiometry: [0.8766652296521068, 1.0, 0.0, 0.7604347077953412, 0.5816640218850221], Loss: -38\n",
      "Iteration 271: Surface Stochiometry: [0.8730723602755731, 1.0, 0.0, 0.7622444979846964, 0.5753863298866541], Loss: -35\n",
      "Iteration 272: Surface Stochiometry: [0.8738410585749168, 1.0, 0.0, 0.7623233553683209, 0.5749249824427691], Loss: -29\n",
      "Iteration 273: Surface Stochiometry: [0.8839759760662653, 1.0, 0.0, 0.7584069947362483, 0.5903585352963565], Loss: -37\n",
      "Iteration 274: Surface Stochiometry: [0.8820129078948741, 1.0, 0.0, 0.7595890700335686, 0.5859470709062414], Loss: -27\n",
      "Iteration 275: Surface Stochiometry: [1.0, 1.0, 0.0, 0.7155915110484333, 0.6176575547106701], Loss: -44\n",
      "Iteration 276: Surface Stochiometry: [1.0, 1.0, 0.0, 0.7016597883226298, 0.6002953035488159], Loss: -20\n",
      "Iteration 277: Surface Stochiometry: [0.8928420150822683, 1.0, 0.0, 0.7745558665495752, 0.6704488562687704], Loss: -48\n",
      "Iteration 278: Surface Stochiometry: [0.881556113983733, 1.0, 0.0, 0.7793082914735785, 0.6781289880054443], Loss: -34\n",
      "Iteration 279: Surface Stochiometry: [0.8828057662025312, 1.0, 0.0, 0.7788029393002613, 0.6771115279878982], Loss: -37\n",
      "Iteration 280: Surface Stochiometry: [0.8816898022775821, 1.0, 0.0, 0.7800273472495735, 0.6770003056997642], Loss: -30\n",
      "Iteration 281: Surface Stochiometry: [0.8859043760136474, 1.0, 0.0, 0.7766805779609186, 0.6756012245787786], Loss: -32\n",
      "Iteration 282: Surface Stochiometry: [0.8886371103153617, 1.0, 0.0, 0.7749651773075702, 0.6739151531541079], Loss: -32\n",
      "Iteration 283: Surface Stochiometry: [0.8913515802130184, 1.0, 0.0, 0.7732708628043888, 0.6720165222025051], Loss: -33\n",
      "Iteration 284: Surface Stochiometry: [0.8932775470544898, 1.0, 0.0, 0.7722889551289219, 0.6700119889555254], Loss: -33\n",
      "Iteration 285: Surface Stochiometry: [0.8951720881174033, 1.0, 0.0, 0.7712803528184158, 0.6677970202145135], Loss: -39\n",
      "Iteration 286: Surface Stochiometry: [0.8922692447248114, 1.0, 0.0, 0.7736351563130163, 0.6681793681042278], Loss: -33\n",
      "Iteration 287: Surface Stochiometry: [0.8941303204961785, 1.0, 0.0, 0.7725683088801292, 0.6661467772381713], Loss: -27\n",
      "Iteration 288: Surface Stochiometry: [1.0, 1.0, 0.0, 0.7961888631783094, 0.7542816173048957], Loss: -36\n",
      "Iteration 289: Surface Stochiometry: [0.9044636577060093, 1.0, 0.0, 0.7682020787478463, 0.6744396325743783], Loss: -39\n",
      "Iteration 290: Surface Stochiometry: [1.0, 1.0, 0.0, 0.8002548794891995, 0.7510692700667421], Loss: -43\n",
      "Iteration 291: Surface Stochiometry: [1.0, 1.0, 0.0, 0.8059853813152914, 0.7602263737200179], Loss: -38\n",
      "Iteration 292: Surface Stochiometry: [1.0, 1.0, 0.0, 0.8083623219152412, 0.7624707774064582], Loss: -35\n",
      "Iteration 293: Surface Stochiometry: [1.0, 1.0, 0.0, 0.808321663589584, 0.7615459952680814], Loss: -36\n",
      "Iteration 294: Surface Stochiometry: [1.0, 1.0, 0.0, 0.8091237782965612, 0.7615790811575858], Loss: -50\n",
      "Iteration 295: Surface Stochiometry: [1.0, 1.0, 0.0, 0.8190290934094792, 0.7754997857458779], Loss: -34\n",
      "Iteration 296: Surface Stochiometry: [1.0, 1.0, 0.0, 0.817863450692043, 0.7740318726114487], Loss: -35\n",
      "Iteration 297: Surface Stochiometry: [1.0, 1.0, 0.0, 0.8175931799941168, 0.7733067744258533], Loss: -37\n",
      "Iteration 298: Surface Stochiometry: [1.0, 1.0, 0.0, 0.8189863951530755, 0.7741263464647089], Loss: -30\n",
      "Iteration 299: Surface Stochiometry: [1.0, 1.0, 0.0, 0.8140681489262166, 0.7699343094642012], Loss: -41\n",
      "Iteration 300: Surface Stochiometry: [1.0, 1.0, 0.0, 0.8184120199998042, 0.7741354034332374], Loss: -36\n",
      "Iteration 301: Surface Stochiometry: [1.0, 1.0, 0.0, 0.818965671894957, 0.7741273530785507], Loss: -37\n",
      "Iteration 302: Surface Stochiometry: [1.0, 1.0, 0.0, 0.820313877841574, 0.7748577392575597], Loss: -38\n",
      "Iteration 303: Surface Stochiometry: [1.0, 1.0, 0.0, 0.8224283477703015, 0.7762905857184162], Loss: -29\n",
      "Iteration 304: Surface Stochiometry: [1.0, 1.0, 0.0, 0.8165237471465298, 0.7719229408809902], Loss: -47\n",
      "Iteration 305: Surface Stochiometry: [1.0, 1.0, 0.0, 0.8245899779201031, 0.7808813220430438], Loss: -25\n",
      "Iteration 306: Surface Stochiometry: [1.0, 1.0, 0.0, 0.8144520080709801, 0.7745495234963516], Loss: -36\n",
      "Iteration 307: Surface Stochiometry: [1.0, 1.0, 0.0, 0.8149824341468115, 0.7745198003257454], Loss: -35\n",
      "Iteration 308: Surface Stochiometry: [1.0, 1.0, 0.0, 0.8147235811021513, 0.7737486950201362], Loss: -29\n",
      "Iteration 309: Surface Stochiometry: [1.0, 1.0, 0.0, 0.809045026308851, 0.7691773589417448], Loss: -21\n",
      "Iteration 310: Surface Stochiometry: [1.0, 1.0, 0.0, 0.7895560624207507, 0.762530018789374], Loss: -27\n",
      "Iteration 311: Surface Stochiometry: [0.8982926141090617, 1.0, 0.0, 0.7667649505384414, 0.6956231654151278], Loss: -27\n",
      "Iteration 312: Surface Stochiometry: [1.0, 1.0, 0.0, 0.7262332906830449, 0.7338995738627005], Loss: -40\n",
      "Iteration 313: Surface Stochiometry: [1.0, 1.0, 0.0, 0.7179896574153226, 0.734637988204092], Loss: -39\n",
      "Iteration 314: Surface Stochiometry: [1.0, 1.0, 0.0, 0.7119615331973427, 0.735017740450284], Loss: -41\n",
      "Iteration 315: Surface Stochiometry: [1.0, 1.0, 0.0, 0.7031408157677638, 0.7360393961666788], Loss: -28\n",
      "Iteration 316: Surface Stochiometry: [1.0, 1.0, 0.0, 0.7175380755075322, 0.7367890318888284], Loss: -28\n",
      "Iteration 317: Surface Stochiometry: [1.0, 1.0, 0.0, 0.7803599769517483, 0.7533872582191075], Loss: -37\n",
      "Iteration 318: Surface Stochiometry: [1.0, 1.0, 0.0, 0.7833057641864815, 0.7544152097274238], Loss: -29\n",
      "Iteration 319: Surface Stochiometry: [0.9021742658100442, 1.0, 0.0, 0.7610245827750907, 0.6843298538508639], Loss: -35\n",
      "Iteration 320: Surface Stochiometry: [1.0, 1.0, 0.0, 0.7302558266988597, 0.6841821206765628], Loss: -33\n",
      "Iteration 321: Surface Stochiometry: [1.0, 1.0, 0.0, 0.8004824627944996, 0.6982390449876866], Loss: -32\n",
      "Iteration 322: Surface Stochiometry: [1.0, 1.0, 0.0, 0.7261884960422923, 0.7341147295908973], Loss: -43\n",
      "Iteration 323: Surface Stochiometry: [0.9057612441278587, 1.0, 0.0, 0.7422687493684352, 0.7016797620291454], Loss: -38\n",
      "Iteration 324: Surface Stochiometry: [0.9029579481554414, 1.0, 0.0, 0.7425793737504098, 0.7031317650558498], Loss: -34\n",
      "Iteration 325: Surface Stochiometry: [1.0, 1.0, 0.0, 0.714143157887489, 0.738534690573572], Loss: -38\n",
      "Iteration 326: Surface Stochiometry: [1.0, 1.0, 0.0, 0.7098249389545177, 0.7387949135949179], Loss: -39\n",
      "Iteration 327: Surface Stochiometry: [1.0, 1.0, 0.0, 0.7040877815950843, 0.7394199521293596], Loss: -44\n",
      "Iteration 328: Surface Stochiometry: [1.0, 1.0, 0.0, 0.691293419963768, 0.7415116525720632], Loss: -38\n",
      "Iteration 329: Surface Stochiometry: [1.0, 1.0, 0.0, 0.687241405323346, 0.7420116207202847], Loss: -32\n",
      "Iteration 330: Surface Stochiometry: [1.0, 1.0, 0.0, 0.6929269872166567, 0.7413022854496403], Loss: -44\n",
      "Iteration 331: Surface Stochiometry: [1.0, 1.0, 0.0, 0.6802158332788044, 0.7431369771604491], Loss: -34\n",
      "Iteration 332: Surface Stochiometry: [1.0, 1.0, 0.0, 0.6825888145458507, 0.742818447391807], Loss: -34\n",
      "Iteration 333: Surface Stochiometry: [1.0, 1.0, 0.0, 0.6849430116242137, 0.7424908055529], Loss: -32\n",
      "Iteration 334: Surface Stochiometry: [1.0, 1.0, 0.0, 0.6905365251143424, 0.7418481288460768], Loss: -36\n",
      "Iteration 335: Surface Stochiometry: [1.0, 1.0, 0.0, 0.6897093064102378, 0.7418774593272577], Loss: -39\n",
      "Iteration 336: Surface Stochiometry: [1.0, 1.0, 0.0, 0.684393391316862, 0.7425290761081728], Loss: -35\n",
      "Iteration 337: Surface Stochiometry: [1.0, 1.0, 0.0, 0.685134845464478, 0.7423862411880631], Loss: -43\n",
      "Iteration 338: Surface Stochiometry: [1.0, 1.0, 0.0, 0.6740782180228917, 0.7440326954108315], Loss: -33\n",
      "Iteration 339: Surface Stochiometry: [1.0, 1.0, 0.0, 0.6781312052188554, 0.7434500826010474], Loss: -36\n",
      "Iteration 340: Surface Stochiometry: [1.0, 1.0, 0.0, 0.6773693191196701, 0.7435589399874293], Loss: -38\n",
      "Iteration 341: Surface Stochiometry: [1.0, 1.0, 0.0, 0.6735603379059292, 0.7441657061415968], Loss: -29\n",
      "Iteration 342: Surface Stochiometry: [1.0, 1.0, 0.0, 0.6842425692544332, 0.7427356136343964], Loss: -21\n",
      "Iteration 343: Surface Stochiometry: [1.0, 1.0, 0.0, 0.7111777078270225, 0.7485357624737853], Loss: -36\n",
      "Iteration 344: Surface Stochiometry: [1.0, 1.0, 0.0, 0.7105466951679776, 0.748582609335629], Loss: -43\n",
      "Iteration 345: Surface Stochiometry: [1.0, 1.0, 0.0, 0.7005657678184036, 0.7497041296284424], Loss: -32\n",
      "Iteration 346: Surface Stochiometry: [1.0, 1.0, 0.0, 0.706097950516619, 0.7499157443520551], Loss: -32\n",
      "Iteration 347: Surface Stochiometry: [1.0, 1.0, 0.0, 0.7119116124282299, 0.7505695794729562], Loss: -30\n",
      "Iteration 348: Surface Stochiometry: [1.0, 1.0, 0.0, 0.7232964987360415, 0.7544436134954052], Loss: -33\n",
      "Iteration 349: Surface Stochiometry: [1.0, 1.0, 0.0, 0.7289015776063961, 0.7559062473953426], Loss: -19\n",
      "Iteration 350: Surface Stochiometry: [0.8936561841161901, 1.0, 0.0, 0.7250365151955573, 0.68472493783219], Loss: -35\n",
      "Iteration 351: Surface Stochiometry: [1.0, 1.0, 0.0, 0.7319968199764934, 0.6573179835650765], Loss: -32\n",
      "Iteration 352: Surface Stochiometry: [0.8943719286162759, 1.0, 0.0, 0.7319540606059646, 0.6932164651283423], Loss: -37\n",
      "Iteration 353: Surface Stochiometry: [0.8927781831659183, 1.0, 0.0, 0.7316005247578553, 0.6938679587101657], Loss: -31\n",
      "Iteration 354: Surface Stochiometry: [0.8976075184107889, 1.0, 0.0, 0.7335910991123649, 0.6917486626558346], Loss: -39\n",
      "Iteration 355: Surface Stochiometry: [0.8938643423204184, 1.0, 0.0, 0.7324786754005436, 0.6934600819143216], Loss: -38\n",
      "Iteration 356: Surface Stochiometry: [0.891317080518512, 1.0, 0.0, 0.731798525959454, 0.6945745984470242], Loss: -43\n",
      "Iteration 357: Surface Stochiometry: [0.8837666407662556, 1.0, 0.0, 0.7290544264553052, 0.6974515284957211], Loss: -30\n",
      "Iteration 358: Surface Stochiometry: [0.8891844601359729, 1.0, 0.0, 0.7312792013451918, 0.6957477218487478], Loss: -28\n",
      "Iteration 359: Surface Stochiometry: [1.0, 1.0, 0.0, 0.774656952345802, 0.7621548689087716], Loss: -39\n",
      "Iteration 360: Surface Stochiometry: [1.0, 1.0, 0.0, 0.7764998441785516, 0.7672910144517793], Loss: -36\n",
      "Optimal Surface Stochiometry: [1.0, 1.0, 0.0, 0.7950849480735558, 0.6924853871907949]\n",
      "Optimal Loss: 51\n"
     ]
    }
   ],
   "source": [
    "import numpy as np\n",
    "from skopt import gp_minimize\n",
    "from skopt.space import Space\n",
    "#from skopt.utils import normalize_dimensions\n",
    "\n",
    "dim_x, dim_y = 50, 50\n",
    "\n",
    "# Define the Search Space\n",
    "space = [(0.0, 1.0)] * 5\n",
    "\n",
    "## Normalize the search space dimensions\n",
    "#space = normalize_dimensions(space)\n",
    "\n",
    "# Initialize the Bayesian Optimizer\n",
    "optimizer = gp_minimize(\n",
    "    simulate_loss,\n",
    "    space,\n",
    "    n_calls=360, # Number of evaluations of the loss function\n",
    "    random_state=42, # Set a random seed for reproducibility\n",
    "    n_jobs = -1)\n",
    "\n",
    "# Retrieve the intermediate results\n",
    "results = optimizer.x_iters\n",
    "losses = optimizer.func_vals\n",
    "\n",
    "# Print the intermediate results\n",
    "for i, result in enumerate(results):\n",
    "    loss = losses[i]\n",
    "    print(f\"Iteration {i+1}: Surface Stochiometry: {result}, Loss: {loss}\")\n",
    "\n",
    "# Retrieve the optimal solution\n",
    "optimal_surface_stochiometry = optimizer.x\n",
    "optimal_loss = -optimizer.fun  # Negate the loss to retrieve the maximized value\n",
    "\n",
    "print(\"Optimal Surface Stochiometry:\", optimal_surface_stochiometry)\n",
    "print(\"Optimal Loss:\", optimal_loss)"
   ]
  },
  {
   "cell_type": "code",
   "execution_count": 86,
   "id": "debbed4a",
   "metadata": {},
   "outputs": [],
   "source": [
    "# Plain colors list\n",
    "colors_list = [metal_colors[metal] for metal in metals]"
   ]
  },
  {
   "cell_type": "code",
   "execution_count": 89,
   "id": "0d3f98c8",
   "metadata": {},
   "outputs": [
    {
     "data": {
      "text/plain": [
       "array([[2.84240907e-01, 5.92729260e-02, 2.08164389e-02, ...,\n",
       "        2.68132624e-01, 2.82740516e-01, 2.82183695e-01],\n",
       "       [6.54574480e-02, 2.72278555e-01, 2.66424794e-01, ...,\n",
       "        3.01548932e-01, 2.82740516e-01, 2.82183695e-01],\n",
       "       [2.78227392e-01, 1.97848487e-01, 3.46335370e-01, ...,\n",
       "        0.00000000e+00, 0.00000000e+00, 0.00000000e+00],\n",
       "       [2.12981890e-01, 8.47025902e-02, 2.87372412e-04, ...,\n",
       "        2.20516462e-01, 2.19026907e-01, 2.19115595e-01],\n",
       "       [1.59092363e-01, 3.85897442e-01, 3.66136025e-01, ...,\n",
       "        2.09801982e-01, 2.15492061e-01, 2.16517014e-01]])"
      ]
     },
     "execution_count": 89,
     "metadata": {},
     "output_type": "execute_result"
    }
   ],
   "source": [
    "np.array([stoch/np.sum(stoch) for stoch in results]).T"
   ]
  },
  {
   "cell_type": "code",
   "execution_count": 69,
   "id": "6f96aa72",
   "metadata": {},
   "outputs": [
    {
     "data": {
      "text/plain": [
       "(10, 5)"
      ]
     },
     "execution_count": 69,
     "metadata": {},
     "output_type": "execute_result"
    }
   ],
   "source": [
    "np.shape(results)"
   ]
  },
  {
   "cell_type": "code",
   "execution_count": 93,
   "id": "e81c77f4",
   "metadata": {},
   "outputs": [
    {
     "ename": "ValueError",
     "evalue": "too many values to unpack (expected 2)",
     "output_type": "error",
     "traceback": [
      "\u001b[0;31m---------------------------------------------------------------------------\u001b[0m",
      "\u001b[0;31mValueError\u001b[0m                                Traceback (most recent call last)",
      "\u001b[1;32m/Users/marcusnorgaardweng/Documents/Kurser/Speciale/CatalysisThesis/Notebooks/DFT Calculated energies.ipynb Cell 26\u001b[0m in \u001b[0;36m1\n\u001b[0;32m----> <a href='vscode-notebook-cell:/Users/marcusnorgaardweng/Documents/Kurser/Speciale/CatalysisThesis/Notebooks/DFT%20Calculated%20energies.ipynb#X66sZmlsZQ%3D%3D?line=0'>1</a>\u001b[0m \u001b[39mfor\u001b[39;00m i, stoch \u001b[39min\u001b[39;00m np\u001b[39m.\u001b[39marray([stoch\u001b[39m/\u001b[39mnp\u001b[39m.\u001b[39msum(stoch) \u001b[39mfor\u001b[39;00m stoch \u001b[39min\u001b[39;00m results])\u001b[39m.\u001b[39mT:\n\u001b[1;32m      <a href='vscode-notebook-cell:/Users/marcusnorgaardweng/Documents/Kurser/Speciale/CatalysisThesis/Notebooks/DFT%20Calculated%20energies.ipynb#X66sZmlsZQ%3D%3D?line=1'>2</a>\u001b[0m     \u001b[39mprint\u001b[39m(stoch)\n",
      "\u001b[0;31mValueError\u001b[0m: too many values to unpack (expected 2)"
     ]
    }
   ],
   "source": [
    "for i, stoch in np.array([stoch/np.sum(stoch) for stoch in results]).T:\n",
    "    print(stoch)"
   ]
  },
  {
   "cell_type": "code",
   "execution_count": 97,
   "id": "272faba3",
   "metadata": {},
   "outputs": [
    {
     "data": {
      "text/plain": [
       "360"
      ]
     },
     "execution_count": 97,
     "metadata": {},
     "output_type": "execute_result"
    }
   ],
   "source": [
    "np.shape(np.array([stoch/np.sum(stoch) for stoch in results]))[0]"
   ]
  },
  {
   "cell_type": "code",
   "execution_count": 99,
   "id": "7f3a49bc",
   "metadata": {},
   "outputs": [
    {
     "ename": "ValueError",
     "evalue": "x and y must have same first dimension, but have shapes (1,) and (5,)",
     "output_type": "error",
     "traceback": [
      "\u001b[0;31m---------------------------------------------------------------------------\u001b[0m",
      "\u001b[0;31mValueError\u001b[0m                                Traceback (most recent call last)",
      "\u001b[1;32m/Users/marcusnorgaardweng/Documents/Kurser/Speciale/CatalysisThesis/Notebooks/DFT Calculated energies.ipynb Cell 28\u001b[0m in \u001b[0;36m6\n\u001b[1;32m      <a href='vscode-notebook-cell:/Users/marcusnorgaardweng/Documents/Kurser/Speciale/CatalysisThesis/Notebooks/DFT%20Calculated%20energies.ipynb#X53sZmlsZQ%3D%3D?line=3'>4</a>\u001b[0m plt\u001b[39m.\u001b[39msubplot(\u001b[39m2\u001b[39m, \u001b[39m1\u001b[39m, \u001b[39m1\u001b[39m)\n\u001b[1;32m      <a href='vscode-notebook-cell:/Users/marcusnorgaardweng/Documents/Kurser/Speciale/CatalysisThesis/Notebooks/DFT%20Calculated%20energies.ipynb#X53sZmlsZQ%3D%3D?line=4'>5</a>\u001b[0m \u001b[39mfor\u001b[39;00m i, stoch \u001b[39min\u001b[39;00m \u001b[39menumerate\u001b[39m(np\u001b[39m.\u001b[39marray([stoch\u001b[39m/\u001b[39mnp\u001b[39m.\u001b[39msum(stoch) \u001b[39mfor\u001b[39;00m stoch \u001b[39min\u001b[39;00m results])):\n\u001b[0;32m----> <a href='vscode-notebook-cell:/Users/marcusnorgaardweng/Documents/Kurser/Speciale/CatalysisThesis/Notebooks/DFT%20Calculated%20energies.ipynb#X53sZmlsZQ%3D%3D?line=5'>6</a>\u001b[0m     plt\u001b[39m.\u001b[39;49mplot(i, stoch, c \u001b[39m=\u001b[39;49m colors_list[i])\n\u001b[1;32m      <a href='vscode-notebook-cell:/Users/marcusnorgaardweng/Documents/Kurser/Speciale/CatalysisThesis/Notebooks/DFT%20Calculated%20energies.ipynb#X53sZmlsZQ%3D%3D?line=6'>7</a>\u001b[0m plt\u001b[39m.\u001b[39mtitle(\u001b[39m'\u001b[39m\u001b[39mProgression of Surface Stochiometries\u001b[39m\u001b[39m'\u001b[39m)\n\u001b[1;32m      <a href='vscode-notebook-cell:/Users/marcusnorgaardweng/Documents/Kurser/Speciale/CatalysisThesis/Notebooks/DFT%20Calculated%20energies.ipynb#X53sZmlsZQ%3D%3D?line=7'>8</a>\u001b[0m plt\u001b[39m.\u001b[39mxlabel(\u001b[39m'\u001b[39m\u001b[39mIteration\u001b[39m\u001b[39m'\u001b[39m)\n",
      "File \u001b[0;32m~/miniforge3/envs/PUK/lib/python3.10/site-packages/matplotlib/pyplot.py:2767\u001b[0m, in \u001b[0;36mplot\u001b[0;34m(scalex, scaley, data, *args, **kwargs)\u001b[0m\n\u001b[1;32m   2765\u001b[0m \u001b[39m@_copy_docstring_and_deprecators\u001b[39m(Axes\u001b[39m.\u001b[39mplot)\n\u001b[1;32m   2766\u001b[0m \u001b[39mdef\u001b[39;00m \u001b[39mplot\u001b[39m(\u001b[39m*\u001b[39margs, scalex\u001b[39m=\u001b[39m\u001b[39mTrue\u001b[39;00m, scaley\u001b[39m=\u001b[39m\u001b[39mTrue\u001b[39;00m, data\u001b[39m=\u001b[39m\u001b[39mNone\u001b[39;00m, \u001b[39m*\u001b[39m\u001b[39m*\u001b[39mkwargs):\n\u001b[0;32m-> 2767\u001b[0m     \u001b[39mreturn\u001b[39;00m gca()\u001b[39m.\u001b[39;49mplot(\n\u001b[1;32m   2768\u001b[0m         \u001b[39m*\u001b[39;49margs, scalex\u001b[39m=\u001b[39;49mscalex, scaley\u001b[39m=\u001b[39;49mscaley,\n\u001b[1;32m   2769\u001b[0m         \u001b[39m*\u001b[39;49m\u001b[39m*\u001b[39;49m({\u001b[39m\"\u001b[39;49m\u001b[39mdata\u001b[39;49m\u001b[39m\"\u001b[39;49m: data} \u001b[39mif\u001b[39;49;00m data \u001b[39mis\u001b[39;49;00m \u001b[39mnot\u001b[39;49;00m \u001b[39mNone\u001b[39;49;00m \u001b[39melse\u001b[39;49;00m {}), \u001b[39m*\u001b[39;49m\u001b[39m*\u001b[39;49mkwargs)\n",
      "File \u001b[0;32m~/miniforge3/envs/PUK/lib/python3.10/site-packages/matplotlib/axes/_axes.py:1635\u001b[0m, in \u001b[0;36mAxes.plot\u001b[0;34m(self, scalex, scaley, data, *args, **kwargs)\u001b[0m\n\u001b[1;32m   1393\u001b[0m \u001b[39m\"\"\"\u001b[39;00m\n\u001b[1;32m   1394\u001b[0m \u001b[39mPlot y versus x as lines and/or markers.\u001b[39;00m\n\u001b[1;32m   1395\u001b[0m \n\u001b[0;32m   (...)\u001b[0m\n\u001b[1;32m   1632\u001b[0m \u001b[39m(``'green'``) or hex strings (``'#008000'``).\u001b[39;00m\n\u001b[1;32m   1633\u001b[0m \u001b[39m\"\"\"\u001b[39;00m\n\u001b[1;32m   1634\u001b[0m kwargs \u001b[39m=\u001b[39m cbook\u001b[39m.\u001b[39mnormalize_kwargs(kwargs, mlines\u001b[39m.\u001b[39mLine2D)\n\u001b[0;32m-> 1635\u001b[0m lines \u001b[39m=\u001b[39m [\u001b[39m*\u001b[39m\u001b[39mself\u001b[39m\u001b[39m.\u001b[39m_get_lines(\u001b[39m*\u001b[39margs, data\u001b[39m=\u001b[39mdata, \u001b[39m*\u001b[39m\u001b[39m*\u001b[39mkwargs)]\n\u001b[1;32m   1636\u001b[0m \u001b[39mfor\u001b[39;00m line \u001b[39min\u001b[39;00m lines:\n\u001b[1;32m   1637\u001b[0m     \u001b[39mself\u001b[39m\u001b[39m.\u001b[39madd_line(line)\n",
      "File \u001b[0;32m~/miniforge3/envs/PUK/lib/python3.10/site-packages/matplotlib/axes/_base.py:312\u001b[0m, in \u001b[0;36m_process_plot_var_args.__call__\u001b[0;34m(self, data, *args, **kwargs)\u001b[0m\n\u001b[1;32m    310\u001b[0m     this \u001b[39m+\u001b[39m\u001b[39m=\u001b[39m args[\u001b[39m0\u001b[39m],\n\u001b[1;32m    311\u001b[0m     args \u001b[39m=\u001b[39m args[\u001b[39m1\u001b[39m:]\n\u001b[0;32m--> 312\u001b[0m \u001b[39myield from\u001b[39;00m \u001b[39mself\u001b[39;49m\u001b[39m.\u001b[39;49m_plot_args(this, kwargs)\n",
      "File \u001b[0;32m~/miniforge3/envs/PUK/lib/python3.10/site-packages/matplotlib/axes/_base.py:498\u001b[0m, in \u001b[0;36m_process_plot_var_args._plot_args\u001b[0;34m(self, tup, kwargs, return_kwargs)\u001b[0m\n\u001b[1;32m    495\u001b[0m     \u001b[39mself\u001b[39m\u001b[39m.\u001b[39maxes\u001b[39m.\u001b[39myaxis\u001b[39m.\u001b[39mupdate_units(y)\n\u001b[1;32m    497\u001b[0m \u001b[39mif\u001b[39;00m x\u001b[39m.\u001b[39mshape[\u001b[39m0\u001b[39m] \u001b[39m!=\u001b[39m y\u001b[39m.\u001b[39mshape[\u001b[39m0\u001b[39m]:\n\u001b[0;32m--> 498\u001b[0m     \u001b[39mraise\u001b[39;00m \u001b[39mValueError\u001b[39;00m(\u001b[39mf\u001b[39m\u001b[39m\"\u001b[39m\u001b[39mx and y must have same first dimension, but \u001b[39m\u001b[39m\"\u001b[39m\n\u001b[1;32m    499\u001b[0m                      \u001b[39mf\u001b[39m\u001b[39m\"\u001b[39m\u001b[39mhave shapes \u001b[39m\u001b[39m{\u001b[39;00mx\u001b[39m.\u001b[39mshape\u001b[39m}\u001b[39;00m\u001b[39m and \u001b[39m\u001b[39m{\u001b[39;00my\u001b[39m.\u001b[39mshape\u001b[39m}\u001b[39;00m\u001b[39m\"\u001b[39m)\n\u001b[1;32m    500\u001b[0m \u001b[39mif\u001b[39;00m x\u001b[39m.\u001b[39mndim \u001b[39m>\u001b[39m \u001b[39m2\u001b[39m \u001b[39mor\u001b[39;00m y\u001b[39m.\u001b[39mndim \u001b[39m>\u001b[39m \u001b[39m2\u001b[39m:\n\u001b[1;32m    501\u001b[0m     \u001b[39mraise\u001b[39;00m \u001b[39mValueError\u001b[39;00m(\u001b[39mf\u001b[39m\u001b[39m\"\u001b[39m\u001b[39mx and y can be no greater than 2D, but have \u001b[39m\u001b[39m\"\u001b[39m\n\u001b[1;32m    502\u001b[0m                      \u001b[39mf\u001b[39m\u001b[39m\"\u001b[39m\u001b[39mshapes \u001b[39m\u001b[39m{\u001b[39;00mx\u001b[39m.\u001b[39mshape\u001b[39m}\u001b[39;00m\u001b[39m and \u001b[39m\u001b[39m{\u001b[39;00my\u001b[39m.\u001b[39mshape\u001b[39m}\u001b[39;00m\u001b[39m\"\u001b[39m)\n",
      "\u001b[0;31mValueError\u001b[0m: x and y must have same first dimension, but have shapes (1,) and (5,)"
     ]
    },
    {
     "data": {
      "image/png": "[encoded data removed]",
      "text/plain": [
       "<Figure size 640x480 with 1 Axes>"
      ]
     },
     "metadata": {},
     "output_type": "display_data"
    }
   ],
   "source": [
    "## I would like a plot that shows the progression in the predicted stochiometries and the resulting losses\n",
    "\n",
    "# Plot the progression of surface stochiometries #ChatGPT\n",
    "plt.subplot(2, 1, 1)\n",
    "for i, stoch in enumerate(np.array([stoch/np.sum(stoch) for stoch in results])):\n",
    "    plt.plot(i, stoch, c = colors_list[i]) # HERE - Trying to make it plot each line in the appropriate colors\n",
    "plt.title('Progression of Surface Stochiometries')\n",
    "plt.xlabel('Iteration')\n",
    "plt.ylabel('Surface Stochiometry')\n",
    "\n",
    "# Plot the losses as a function of iteration\n",
    "plt.subplot(2, 1, 2)\n",
    "plt.plot(-losses)\n",
    "plt.title('Loss as a Function of Iteration')\n",
    "plt.xlabel('Iteration')\n",
    "plt.ylabel('Loss')\n",
    "\n",
    "# Adjust the layout of the subplots\n",
    "plt.tight_layout()\n",
    "\n",
    "# Show the plot\n",
    "plt.show()"
   ]
  },
  {
   "attachments": {},
   "cell_type": "markdown",
   "id": "c645401f",
   "metadata": {},
   "source": [
    "It seems there is a lot of variation even on borderline the same stochiometry. That is probably no good, but there has to be a tradeoff between number of iterations and precision. "
   ]
  },
  {
   "cell_type": "code",
   "execution_count": 63,
   "id": "1cf85392",
   "metadata": {},
   "outputs": [
    {
     "data": {
      "text/plain": [
       "array([['Au', 'Cu', 'Au', ..., 'Pd', 'Au', 'Pd'],\n",
       "       ['Pt', 'Pd', 'Cu', ..., 'Ag', 'Pt', 'Pd'],\n",
       "       ['Pd', 'Pt', 'Ag', ..., 'Ag', 'Au', 'Pd'],\n",
       "       ...,\n",
       "       ['Pt', 'Au', 'Cu', ..., 'Ag', 'Pt', 'Au'],\n",
       "       ['Pt', 'Pt', 'Au', ..., 'Pd', 'Au', 'Pt'],\n",
       "       ['Ag', 'Au', 'Pd', ..., 'Ag', 'Cu', 'Cu']], dtype='<U2')"
      ]
     },
     "execution_count": 63,
     "metadata": {},
     "output_type": "execute_result"
    }
   ],
   "source": [
    "surface[\"atoms\"][:, :, 0]"
   ]
  },
  {
   "attachments": {},
   "cell_type": "markdown",
   "id": "a8367d4e",
   "metadata": {},
   "source": [
    "#### Findings\n",
    "\n",
    "It seems like Pd might be useless, because it's not good enough to make good COOH top-sites and it's not bad anough to make shitty hollow sites. Pd was not useless lmao."
   ]
  },
  {
   "attachments": {},
   "cell_type": "markdown",
   "id": "389abc2d",
   "metadata": {},
   "source": [
    "#### Functions"
   ]
  },
  {
   "cell_type": "code",
   "execution_count": 10,
   "id": "217d3d21",
   "metadata": {},
   "outputs": [],
   "source": [
    "def initialize_surface(dim_x, dim_y, metals, split): #Is still random - could be used with a seed in the name of reproduceability\n",
    "    dim_z = 3\n",
    "    \n",
    "    surf_atoms = create_surface(dim_x, dim_y, metals, split)\n",
    "    \n",
    "    # Binding energies\n",
    "    surf_COOH_E = np.reshape([np.nan]*dim_x*dim_y, (dim_x, dim_y))# On-top sites\n",
    "    surf_H_E    = np.reshape([np.nan]*dim_x*dim_y, (dim_x, dim_y))# Hollow sites\n",
    "    \n",
    "    surf = {\"atoms\": surf_atoms,\\\n",
    "            \"COOH_E\": surf_COOH_E, \"H_E\": surf_H_E}\n",
    "    return surf\n",
    "\n",
    "def create_surface(dim_x, dim_y, metals, split):\n",
    "    dim_z = 3\n",
    "    num_atoms = dim_x*dim_y*dim_z\n",
    "    if split == \"Even\":\n",
    "        proba = [1.0 / len(metals) for n in range(len(metals))] \n",
    "        surface = np.random.choice(metals, num_atoms, p=proba)\n",
    "    else:\n",
    "        surface = np.random.choice(metals, num_atoms, p=split)\n",
    "    surface = np.reshape(surface, (dim_x, dim_y, dim_z)) #Reshape list to the\n",
    "    return surface\n",
    "\n",
    "def precompute_binding_energies_TQDM(surface, dim_x, dim_y, models, predict_G_function):\n",
    "    for x, y in tqdm([(x, y) for x in range(dim_x) for y in range(dim_y)], desc = r\"Predicting all ΔG\", leave = True): # I could randomise this, so I go through all sites in a random order\n",
    "        \n",
    "        ads = \"H\"\n",
    "        surface[\"H_E\"][x][y] = predict_G_function(surface[\"atoms\"], x, y, ads, models) ## A new function that wraps/uses the XGBoost model\n",
    "        \n",
    "        ads = \"COOH\"\n",
    "        surface[\"COOH_E\"][x][y] = predict_G_function(surface[\"atoms\"], x, y, ads, models) ## A new function that wraps/uses the XGBoost model\n",
    "\n",
    "    return surface\n",
    "\n",
    "def predict_G(surface, site_x, site_y, adsorbate, models):\n",
    "    if adsorbate == \"H\":\n",
    "        vector_df = pd.DataFrame([hollow_site_vector(surface, site_x, site_y)], columns = [f\"feature{n}\" for n in range(55)])\n",
    "        vector_DM = pandas_to_DMatrix(vector_df)\n",
    "        G = models[\"H\"].predict(vector_DM)[0]\n",
    "        return G\n",
    "    \n",
    "    if adsorbate == \"COOH\":\n",
    "        vector_df = pd.DataFrame([on_top_site_vector(surface, site_x, site_y)], columns = [f\"feature{n}\" for n in range(20)]) # Tjek - er det ikke \"adsorbate\" + features?\n",
    "        vector_DM = pandas_to_DMatrix(vector_df)\n",
    "        G = models[\"COOH\"].predict(vector_DM)[0]\n",
    "        return G\n",
    "    \n",
    "def on_top_site_vector(surface, site_x, site_y): # I should have done modulo to dim_x and dim_y\n",
    "    dim_x, dim_y = np.shape(surface)[0], np.shape(surface)[1]\n",
    "    site1 = [surface[site_x, site_y, 0]]# Make a one-hot encoded vector of the very site here! Add at the beginning \n",
    "    site1_count = [site1.count(metals[n]) for n in range(len(metals))]\n",
    "    \n",
    "    top6 = [surface[site_x % dim_x, (site_y-1) % dim_y, 0], surface[site_x % dim_x, (site_y+1) % dim_y, 0], surface[(site_x-1) % dim_x, site_y % dim_y, 0], surface[(site_x+1) % dim_x, site_y % dim_y, 0], surface[(site_x-1) % dim_x, (site_y+1) % dim_y, 0], surface[(site_x+1) % dim_x, (site_y-1) % dim_y, 0]]\n",
    "    top6_count = [top6.count(metals[n]) for n in range(len(metals))]\n",
    "    \n",
    "    mid3 = [surface[(site_x-1) % dim_x, (site_y-1) % dim_y,1], surface[site_x % dim_x, (site_y-1) % dim_y,1], surface[(site_x-1) % dim_x, site_y % dim_y,1]]\n",
    "    mid3_count = [mid3.count(metals[n]) for n in range(len(metals))]\n",
    "    \n",
    "    bot3 = [surface[(site_x-1) % dim_x, (site_y-1) % dim_y, 2], surface[(site_x-1) % dim_x, (site_y+1) % dim_y, 2], surface[(site_x+1) % dim_x, (site_y-1) % dim_y, 2]]\n",
    "    bot3_count = [bot3.count(metals[n]) for n in range(len(metals))]\n",
    "    \n",
    "    return site1_count + top6_count + mid3_count + bot3_count\n",
    "\n",
    "metals = ['Ag', 'Au', 'Cu', 'Pd', 'Pt']\n",
    "three_metals_combinations = [] #List of possible combinations of the three\n",
    "# Der skal være 35, ikke 125\n",
    "\n",
    "for a in metals:\n",
    "    for b in metals:\n",
    "        for c in metals:\n",
    "            three_metals_combinations.append(''.join(sorted([a, b, c])))\n",
    "            \n",
    "# Remove duplicates\n",
    "three_metals_combinations = list(dict.fromkeys(three_metals_combinations)) # Let's encode it in a better way later\n",
    "\n",
    "def hollow_site_vector(surface, site_x, site_y): #Now with adsorbate encoding\n",
    "    \n",
    "    # First encode the 3 neighbours\n",
    "    blues = [surface[(site_x+1) % dim_x, site_y, 0], surface[site_x, (site_y+1) % dim_y, 0], surface[(site_x+1) % dim_x, (site_y+1) % dim_y, 0]]\n",
    "    blues = \"\".join(sorted(blues))\n",
    "    idx = three_metals_combinations.index(blues)\n",
    "    blues = 35*[0]\n",
    "    blues[idx] = 1\n",
    "    \n",
    "    # Then the next neighbours (green)\n",
    "    greens = [surface[(site_x+2) % dim_x, site_y, 0], surface[site_x, (site_y+2) % dim_y, 0], surface[site_x, site_y, 0]]\n",
    "    greens_count = [greens.count(metals[n]) for n in range(len(metals))]\n",
    "    \n",
    "    # Then the next neighbours (brown) # Kunne gøres smartere med list comprehension og to lister med +- zipped\n",
    "    browns = [surface[(site_x + a) % dim_x, (site_y + b) % dim_y, c] for a, b, c in zip([1, 2, 2, 1, -1, -1], [2, 1, -1, -1, 1, 2], [0, 0, 0, 0, 0, 0])]\n",
    "    browns_count = [browns.count(metals[n]) for n in range(len(metals))]\n",
    "    \n",
    "    # Then the three downstairs neighbours\n",
    "    yellows = [surface[(site_x + a) % dim_x, (site_y + b) % dim_y, c] for a, b, c in zip([0, 1, 0], [0, 0, 1], [1, 1, 1])]\n",
    "    yellows_count = [yellows.count(metals[n]) for n in range(len(metals))]\n",
    "    \n",
    "    # Then the purples downstairs\n",
    "    purples = [surface[(site_x + a) % dim_x, (site_y + b) % dim_y, c] for a, b, c in zip([1, -1, 1], [-1, 1, 1], [1, 1, 1])]\n",
    "    purples_count = [purples.count(metals[n]) for n in range(len(metals))]\n",
    "    \n",
    "    return blues + greens_count + browns_count + yellows_count + purples_count\n",
    "\n",
    "def pandas_to_DMatrix(df):#, label):\n",
    "    label = pd.DataFrame(np.random.randint(2, size=len(df)))\n",
    "    DMatrix = xgb.DMatrix(df)#, label=label)\n",
    "    return DMatrix"
   ]
  },
  {
   "attachments": {},
   "cell_type": "markdown",
   "id": "95f7d6c4",
   "metadata": {},
   "source": [
    "#### Training models for COOH and H"
   ]
  },
  {
   "cell_type": "code",
   "execution_count": 9,
   "id": "700dd716",
   "metadata": {},
   "outputs": [],
   "source": [
    "def correct_DFT_energy_COOH_DFT(molecules_dict, E_COOH, E_slab):\n",
    "    return E_COOH - E_slab - molecules_dict[\"CO2\"] - 1/2*molecules_dict[\"H2\"]\n",
    "\n",
    "def correct_DFT_energy_H_DFT(molecules_dict, E_H, E_slab):\n",
    "    return E_H - E_slab - 1/2*molecules_dict[\"H2\"]"
   ]
  },
  {
   "attachments": {},
   "cell_type": "markdown",
   "id": "8b82f110",
   "metadata": {},
   "source": [
    "##### Making features"
   ]
  },
  {
   "cell_type": "code",
   "execution_count": 20,
   "id": "feee9970",
   "metadata": {
    "collapsed": true
   },
   "outputs": [
    {
     "name": "stdout",
     "output_type": "stream",
     "text": [
      "[INFO] 9 COOH and slab matched for row 1 in slabs_out.db\n",
      "[INFO] 9 H and slab matched for row 1 in slabs_out.db\n",
      "[INFO] 9 COOH and slab matched for row 2 in slabs_out.db\n",
      "[INFO] 9 H and slab matched for row 2 in slabs_out.db\n",
      "[INFO] 9 COOH and slab matched for row 3 in slabs_out.db\n",
      "[INFO] 9 H and slab matched for row 3 in slabs_out.db\n",
      "[INFO] 9 COOH and slab matched for row 4 in slabs_out.db\n",
      "[INFO] 8 H and slab matched for row 4 in slabs_out.db\n",
      "[INFO] 9 COOH and slab matched for row 5 in slabs_out.db\n",
      "[INFO] 9 H and slab matched for row 5 in slabs_out.db\n",
      "[INFO] 9 COOH and slab matched for row 6 in slabs_out.db\n",
      "[INFO] 9 H and slab matched for row 6 in slabs_out.db\n",
      "[INFO] 9 COOH and slab matched for row 7 in slabs_out.db\n",
      "[INFO] 9 H and slab matched for row 7 in slabs_out.db\n",
      "[INFO] 9 COOH and slab matched for row 8 in slabs_out.db\n",
      "[INFO] 9 H and slab matched for row 8 in slabs_out.db\n",
      "[INFO] 9 COOH and slab matched for row 9 in slabs_out.db\n",
      "[INFO] 9 H and slab matched for row 9 in slabs_out.db\n",
      "[INFO] 9 COOH and slab matched for row 10 in slabs_out.db\n",
      "[INFO] 9 H and slab matched for row 10 in slabs_out.db\n",
      "[INFO] 9 COOH and slab matched for row 11 in slabs_out.db\n",
      "[INFO] 9 H and slab matched for row 11 in slabs_out.db\n",
      "[INFO] 9 COOH and slab matched for row 12 in slabs_out.db\n",
      "[INFO] 9 H and slab matched for row 12 in slabs_out.db\n",
      "[INFO] 9 COOH and slab matched for row 13 in slabs_out.db\n",
      "[INFO] 8 H and slab matched for row 13 in slabs_out.db\n",
      "[INFO] 9 COOH and slab matched for row 14 in slabs_out.db\n",
      "[INFO] 9 H and slab matched for row 14 in slabs_out.db\n",
      "[INFO] 9 COOH and slab matched for row 15 in slabs_out.db\n",
      "[INFO] 9 H and slab matched for row 15 in slabs_out.db\n",
      "[INFO] 9 COOH and slab matched for row 16 in slabs_out.db\n",
      "[INFO] 9 H and slab matched for row 16 in slabs_out.db\n",
      "[INFO] 9 COOH and slab matched for row 17 in slabs_out.db\n",
      "[INFO] 9 H and slab matched for row 17 in slabs_out.db\n",
      "[INFO] 9 COOH and slab matched for row 18 in slabs_out.db\n",
      "[INFO] 9 H and slab matched for row 18 in slabs_out.db\n",
      "[INFO] 9 COOH and slab matched for row 19 in slabs_out.db\n",
      "[INFO] 8 H and slab matched for row 19 in slabs_out.db\n",
      "[INFO] 9 COOH and slab matched for row 20 in slabs_out.db\n",
      "[INFO] 9 H and slab matched for row 20 in slabs_out.db\n",
      "[INFO] 9 COOH and slab matched for row 21 in slabs_out.db\n",
      "[INFO] 9 H and slab matched for row 21 in slabs_out.db\n",
      "[INFO] 9 COOH and slab matched for row 22 in slabs_out.db\n",
      "[INFO] 9 H and slab matched for row 22 in slabs_out.db\n",
      "[INFO] 9 COOH and slab matched for row 23 in slabs_out.db\n",
      "[INFO] 9 H and slab matched for row 23 in slabs_out.db\n",
      "[INFO] 9 COOH and slab matched for row 24 in slabs_out.db\n",
      "[INFO] 9 H and slab matched for row 24 in slabs_out.db\n",
      "[INFO] 9 COOH and slab matched for row 25 in slabs_out.db\n",
      "[INFO] 9 H and slab matched for row 25 in slabs_out.db\n",
      "[INFO] 9 COOH and slab matched for row 26 in slabs_out.db\n",
      "[INFO] 9 H and slab matched for row 26 in slabs_out.db\n",
      "[INFO] 9 COOH and slab matched for row 27 in slabs_out.db\n",
      "[INFO] 8 H and slab matched for row 27 in slabs_out.db\n",
      "[INFO] 9 COOH and slab matched for row 28 in slabs_out.db\n",
      "[INFO] 9 H and slab matched for row 28 in slabs_out.db\n",
      "[INFO] 9 COOH and slab matched for row 29 in slabs_out.db\n",
      "[INFO] 8 H and slab matched for row 29 in slabs_out.db\n",
      "[INFO] 9 COOH and slab matched for row 30 in slabs_out.db\n",
      "[INFO] 9 H and slab matched for row 30 in slabs_out.db\n",
      "[INFO] 9 COOH and slab matched for row 31 in slabs_out.db\n",
      "[INFO] 9 H and slab matched for row 31 in slabs_out.db\n",
      "[INFO] 9 COOH and slab matched for row 32 in slabs_out.db\n",
      "[INFO] 9 H and slab matched for row 32 in slabs_out.db\n",
      "[INFO] 9 COOH and slab matched for row 33 in slabs_out.db\n",
      "[INFO] 9 H and slab matched for row 33 in slabs_out.db\n",
      "[INFO] 9 COOH and slab matched for row 34 in slabs_out.db\n",
      "[INFO] 8 H and slab matched for row 34 in slabs_out.db\n",
      "[INFO] 9 COOH and slab matched for row 35 in slabs_out.db\n",
      "[INFO] 9 H and slab matched for row 35 in slabs_out.db\n",
      "[INFO] 9 COOH and slab matched for row 36 in slabs_out.db\n",
      "[INFO] 9 H and slab matched for row 36 in slabs_out.db\n",
      "[INFO] 9 COOH and slab matched for row 37 in slabs_out.db\n",
      "[INFO] 9 H and slab matched for row 37 in slabs_out.db\n",
      "[INFO] 9 COOH and slab matched for row 38 in slabs_out.db\n",
      "[INFO] 8 H and slab matched for row 38 in slabs_out.db\n",
      "[INFO] 9 COOH and slab matched for row 39 in slabs_out.db\n",
      "[INFO] 8 H and slab matched for row 39 in slabs_out.db\n",
      "[INFO] 9 COOH and slab matched for row 40 in slabs_out.db\n",
      "[INFO] 9 H and slab matched for row 40 in slabs_out.db\n",
      "[INFO] 9 COOH and slab matched for row 41 in slabs_out.db\n",
      "[INFO] 9 H and slab matched for row 41 in slabs_out.db\n",
      "[INFO] 9 COOH and slab matched for row 42 in slabs_out.db\n",
      "[INFO] 8 H and slab matched for row 42 in slabs_out.db\n",
      "[INFO] 9 COOH and slab matched for row 43 in slabs_out.db\n",
      "[INFO] 9 H and slab matched for row 43 in slabs_out.db\n",
      "[INFO] 9 COOH and slab matched for row 44 in slabs_out.db\n",
      "[INFO] 9 H and slab matched for row 44 in slabs_out.db\n",
      "[INFO] 9 COOH and slab matched for row 45 in slabs_out.db\n",
      "[INFO] 7 H and slab matched for row 45 in slabs_out.db\n",
      "[INFO] 9 COOH and slab matched for row 46 in slabs_out.db\n",
      "[INFO] 8 H and slab matched for row 46 in slabs_out.db\n",
      "[INFO] 9 COOH and slab matched for row 47 in slabs_out.db\n",
      "[INFO] 9 H and slab matched for row 47 in slabs_out.db\n",
      "[INFO] 9 COOH and slab matched for row 48 in slabs_out.db\n",
      "[INFO] 9 H and slab matched for row 48 in slabs_out.db\n",
      "[INFO] 9 COOH and slab matched for row 49 in slabs_out.db\n",
      "[INFO] 9 H and slab matched for row 49 in slabs_out.db\n",
      "[INFO] 9 COOH and slab matched for row 50 in slabs_out.db\n",
      "[INFO] 9 H and slab matched for row 50 in slabs_out.db\n",
      "[INFO] 9 COOH and slab matched for row 51 in slabs_out.db\n",
      "[INFO] 9 H and slab matched for row 51 in slabs_out.db\n",
      "[INFO] 9 COOH and slab matched for row 52 in slabs_out.db\n",
      "[INFO] 9 H and slab matched for row 52 in slabs_out.db\n",
      "[INFO] 9 COOH and slab matched for row 53 in slabs_out.db\n",
      "[INFO] 7 H and slab matched for row 53 in slabs_out.db\n",
      "[INFO] 9 COOH and slab matched for row 54 in slabs_out.db\n",
      "[INFO] 9 H and slab matched for row 54 in slabs_out.db\n",
      "[INFO] 9 COOH and slab matched for row 55 in slabs_out.db\n",
      "[INFO] 9 H and slab matched for row 55 in slabs_out.db\n",
      "[INFO] 9 COOH and slab matched for row 56 in slabs_out.db\n",
      "[INFO] 9 H and slab matched for row 56 in slabs_out.db\n",
      "rejected COOH samples:  0\n",
      "rejected H samples:  0\n"
     ]
    }
   ],
   "source": [
    "# Specify metals\n",
    "metals = ['Ag', 'Au', 'Cu', 'Pd', 'Pt']\n",
    "alloy = ''.join(metals)\n",
    "\n",
    "# Specify name of databases\n",
    "db_name_H = 'H_out.db'\n",
    "db_name_COOH = 'COOH_C_adsorbed_out.db'\n",
    "db_name_slab = \"slabs_out.db\"\n",
    "\n",
    "# Initiate feature readers\n",
    "reader_H = FccStandard111(metals)\n",
    "reader_COOH = OntopStandard111(metals)\n",
    "\n",
    "site_ids_H = [16, 17, 18]\n",
    "\n",
    "# Initiate counters of rejected samples\n",
    "rejected_H = 0\n",
    "rejected_COOH = 0\n",
    "\n",
    "# Writer headers to files\n",
    "with open(f'{features_folder}H_DFT_features.csv', 'w') as file_H:\n",
    "    column_names = [f\"feature{n}\" for n in range(55)]\n",
    "    column_names.append('G_ads (eV)')\n",
    "    column_names.append('slab db row')\n",
    "    column_names.append(f'{db_name_H}row')\n",
    "    file_H.write(\",\".join(column_names))\n",
    "    \n",
    "# Writer headers to files\n",
    "with open(f'{features_folder}COOH_DFT_features.csv', 'w') as file_COOH:\n",
    "    column_names = [f\"feature{n}\" for n in range(20)]\n",
    "    column_names.append('G_ads (eV)')\n",
    "    column_names.append('slab db row')\n",
    "    column_names.append(f'{db_name_COOH}row')\n",
    "    file_COOH.write(\",\".join(column_names))\n",
    "    \n",
    "# Load HEA(111) databases\n",
    "with connect(f'{db_folder}{db_name_H}') as db_H,\\\n",
    "     connect(f'{db_folder}{db_name_COOH}') as db_COOH,\\\n",
    "     connect(f'{db_folder}{db_name_slab}') as db_slab,\\\n",
    "     open(f'{features_folder}H_DFT_features.csv', 'a') as file_H,\\\n",
    "     open(f'{features_folder}COOH_DFT_features.csv', 'a') as file_COOH:\n",
    "    #print(\"A1\")\n",
    "    # Iterate through slabs without adsorbates\n",
    "    for row_slab in db_slab.select('energy', H=0, C=0, O=0): # This doesn't even trigger lmao\n",
    "        #print(\"A2\")\n",
    "        # Iterate through the two adsorbates\n",
    "        for ads in ['COOH', 'H']:\n",
    "            #print(\"A3\")\n",
    "            # Set adsorbate-specific parameters\n",
    "            if ads == 'COOH':\n",
    "                db = db_COOH\n",
    "                kw = {'C': 1,'O': 2, 'H': 1}\n",
    "                db_name = db_name_COOH\n",
    "                out_file = file_COOH\n",
    "\n",
    "            elif ads == 'H':\n",
    "                db = db_H\n",
    "                kw = {'O': 0, 'H': 1}\n",
    "                db_name = db_name_H\n",
    "                out_file = file_H\n",
    "                ads_atom = \"H\"\n",
    "\n",
    "            # Set counter of matched slabs between the databases to zero\n",
    "            n_matched = 0\n",
    "\n",
    "            # Get the corresponding slab with adsorbate\n",
    "            for row in db.select('energy', **kw, **row_slab.count_atoms()):\n",
    "                #print(\"A4\")\n",
    "                # If symbols match up\n",
    "                if row.symbols[:-len(ads)] == row_slab.symbols:\n",
    "                    #print(\"A5\")\n",
    "                    # Increment the counter of matched structures\n",
    "                    n_matched += 1\n",
    "\n",
    "                    # Get atoms object\n",
    "                    atoms = db.get_atoms(row.id)\n",
    "\n",
    "                    # If the adsorbate is *COOH\n",
    "                    if ads == 'COOH':\n",
    "                        # Make slab instance\n",
    "                        slab = Slab(atoms, ads=ads, ads_atom='C')\n",
    "\n",
    "                        # Get adsorption site elements as neighbors within a radius\n",
    "                        site_elems, site = slab.get_adsorption_site(radius=2.6, hollow_radius=2.6)\n",
    "\n",
    "                        # If the site does not consist of exactly one atom, then skip this sample\n",
    "                        # as the *OH has moved too far away from an on-top site\n",
    "                        try:\n",
    "                            if len(site_elems) !=1:\n",
    "                                rejected_COOH += 1\n",
    "                                #slab.view()\n",
    "                                continue\n",
    "                        except TypeError:\n",
    "                            print(site_elems, site)\n",
    "                            print(row_slab.id, row.id)\n",
    "                            slab.view()\n",
    "                            exit()\n",
    "\n",
    "                        # Get features of structure\n",
    "                        features = reader_COOH.get_features(slab, radius=2.6)\n",
    "                        \n",
    "                        ### This part is now adsorbate-specific ###\n",
    "                        # Get adsorption energy\n",
    "                        E_ads = correct_DFT_energy_COOH_DFT(molecules_dict, row.energy, row_slab.energy) # This is the new formula\n",
    "\n",
    "                        # Write output to file\n",
    "                        features = ','.join(map(str, features))\n",
    "                        out_file.write(f'\\n{features},{E_ads:.6f},{row_slab.id},{row.id}')\n",
    "\n",
    "                    # Else, if the adsorbate is H*\n",
    "                    elif ads == 'H':\n",
    "                        \n",
    "                        atoms = atoms.repeat((3, 3, 1))\n",
    "                        slab = Slab(atoms, ads=ads, ads_atom=ads_atom)\n",
    "                        chemical_symbols = atoms.get_chemical_symbols()\n",
    "                        #view(atoms)\n",
    "                        H_index = [i for i, x in enumerate(chemical_symbols) if x == \"H\"][4]\n",
    "                        \n",
    "                        all_distances = atoms.get_distances([n for n in list(range(len(chemical_symbols))) if n != H_index], H_index)\n",
    "                        site_ids_H = np.argpartition(all_distances, 2)[0:3]\n",
    "                        site_ids_H = [x+1 if x>229 else x for x in site_ids_H] #Compensates for the removal of an H, so that the indices above 229 are not one too small\n",
    "                        #print(\"site_ids_H: \", site_ids_H)\n",
    "                        # Get hollow site planar corner coordinates\n",
    "                        site_atoms_pos_orig = atoms.positions[site_ids_H, :2]\n",
    "\n",
    "                        # Get expanded triangle vertices\n",
    "                        site_atoms_pos = expand_triangle(site_atoms_pos_orig, expansion=1.45)\n",
    "\n",
    "                        # Get position of adsorbate atom (with atom index XXX 20 XXX)\n",
    "                        ads_pos = atoms.positions[H_index][:2]\n",
    "\n",
    "                        # If the H is outside the expanded fcc triangle,\n",
    "                        # then it is most likely in an hcp site, that is not\n",
    "                        # being modeled\n",
    "                        if not inside_triangle(ads_pos, site_atoms_pos):\n",
    "                            rejected_H += 1\n",
    "                            continue\n",
    "\n",
    "                        # Get features of structure\n",
    "                        features = reader_H.get_features(slab, radius=2.6, site_ids=site_ids_H)\n",
    "\n",
    "                        ### This part is now adsorbate-specific ###\n",
    "                        # Get adsorption energy\n",
    "                        E_ads = correct_DFT_energy_H_DFT(molecules_dict, row.energy, row_slab.energy) # This is the new formula\n",
    "                        \n",
    "                        # Write output to file\n",
    "                        features = ','.join(map(str, features))\n",
    "                        out_file.write(f'\\n{features},{E_ads:.6f},{row_slab.id},{row.id}')\n",
    "\n",
    "            if n_matched > 1:\n",
    "                print(f'[INFO] {n_matched} {ads} and slab matched for row {row_slab.id} in {db_name_slab}')\n",
    "\n",
    "# Print the number of rejected samples to screen\n",
    "print('rejected COOH samples: ', rejected_COOH)\n",
    "print('rejected H samples: ', rejected_H)"
   ]
  },
  {
   "attachments": {},
   "cell_type": "markdown",
   "id": "b28527eb",
   "metadata": {},
   "source": [
    "##### Training models"
   ]
  },
  {
   "cell_type": "code",
   "execution_count": 11,
   "id": "1027fcf4",
   "metadata": {},
   "outputs": [
    {
     "name": "stderr",
     "output_type": "stream",
     "text": [
      "/Users/marcusnorgaardweng/miniforge3/envs/PUK/lib/python3.10/site-packages/xgboost/data.py:250: FutureWarning: pandas.Int64Index is deprecated and will be removed from pandas in a future version. Use pandas.Index with the appropriate dtype instead.\n",
      "  elif isinstance(data.columns, (pd.Int64Index, pd.RangeIndex)):\n"
     ]
    },
    {
     "data": {
      "image/png": "[encoded data removed]",
      "text/plain": [
       "<Figure size 1000x400 with 1 Axes>"
      ]
     },
     "metadata": {},
     "output_type": "display_data"
    },
    {
     "name": "stdout",
     "output_type": "stream",
     "text": [
      "Training score:  0.9911966093244539\n",
      "Validation score:  0.9764931285341023\n"
     ]
    },
    {
     "data": {
      "image/png": "[encoded data removed]",
      "text/plain": [
       "<Figure size 640x480 with 2 Axes>"
      ]
     },
     "metadata": {},
     "output_type": "display_data"
    }
   ],
   "source": [
    "feature_folder = \"../csv_features/\"\n",
    "filename = \"COOH_DFT_features.csv\"\n",
    "\n",
    "COOH_df = pd.read_csv(feature_folder + filename)\n",
    "full_df = pd.concat([COOH_df], axis = 0)\n",
    "all_cols = full_df.columns\n",
    "#Seperate the energies and remove the useless columns\n",
    "\n",
    "X = full_df.loc[:, :all_cols[-4]]\n",
    "y = full_df[[\"G_ads (eV)\"]]\n",
    "\n",
    "# Prepare data for XGBoost\n",
    "\n",
    "#shuffle and split\n",
    "X_train, X_val_test, y_train, y_val_test = train_test_split(X, y, test_size = 0.2)\n",
    "X_val, X_test, y_val, y_test = train_test_split(X_val_test, y_val_test, test_size = 0.5)\n",
    "\n",
    "# Prepare XGBoost \n",
    "eval_set = [(X_train, y_train), (X_val, y_val)]\n",
    "XGBModel_COOH =  XGBRegressor(learning_rate = 0.1 #learning rate\n",
    "                                , max_depth = 5     #maximum tree depth\n",
    "                                , n_estimators = 500 #number of boosting rounds\n",
    "                                , n_jobs = 8 #number of threads\n",
    "                                , use_label_encoder = False)\n",
    "\n",
    "XGBModel_COOH.fit(X_train, y_train\n",
    "                       , eval_set = eval_set\n",
    "                       , early_stopping_rounds = 5\n",
    "                       , eval_metric = [\"mae\"]\n",
    "                       , verbose = False) #evals\n",
    "\n",
    "# Save model in the /models folder\n",
    "XGBModel_COOH.save_model(\"../models/\"+\"COOH_DFT.model\")\n",
    "\n",
    "learning_curve(XGBModel_COOH)\n",
    "\n",
    "score = XGBModel_COOH.score(X_train, y_train) #Det må man ikke før den er blevet trænet\n",
    "print(\"Training score: \", score)\n",
    "\n",
    "score = XGBModel_COOH.score(X_val, y_val) #Det må man ikke før den er blevet trænet\n",
    "print(\"Validation score: \", score)\n",
    "figure_folder = \"../figures/DeltaG_models\"\n",
    "single_parity_plot(XGBModel_COOH, X_test, y_test, \"COOH\", \"COOH\") ## Maybe I should make a new line with MAE_avg\n",
    "#single_parity_plot(XGBModel_H_Pro, X_test, y_test, \"H\", \"H\")"
   ]
  },
  {
   "cell_type": "code",
   "execution_count": 21,
   "id": "fa915174",
   "metadata": {},
   "outputs": [
    {
     "name": "stderr",
     "output_type": "stream",
     "text": [
      "/Users/marcusnorgaardweng/miniforge3/envs/PUK/lib/python3.10/site-packages/xgboost/data.py:250: FutureWarning: pandas.Int64Index is deprecated and will be removed from pandas in a future version. Use pandas.Index with the appropriate dtype instead.\n",
      "  elif isinstance(data.columns, (pd.Int64Index, pd.RangeIndex)):\n"
     ]
    },
    {
     "data": {
      "image/png": "[encoded data removed]",
      "text/plain": [
       "<Figure size 1000x400 with 1 Axes>"
      ]
     },
     "metadata": {},
     "output_type": "display_data"
    },
    {
     "name": "stdout",
     "output_type": "stream",
     "text": [
      "Training score:  0.9831760140145627\n",
      "Validation score:  0.925897438789119\n"
     ]
    },
    {
     "data": {
      "image/png": "[encoded data removed]",
      "text/plain": [
       "<Figure size 640x480 with 2 Axes>"
      ]
     },
     "metadata": {},
     "output_type": "display_data"
    }
   ],
   "source": [
    "feature_folder = \"../csv_features/\"\n",
    "filename = \"H_DFT_features.csv\"\n",
    "\n",
    "H_df = pd.read_csv(feature_folder + filename)\n",
    "full_df = pd.concat([H_df], axis = 0)\n",
    "all_cols = full_df.columns\n",
    "#Seperate the energies and remove the useless columns\n",
    "\n",
    "X = full_df.loc[:, :all_cols[-4]]\n",
    "y = full_df[[\"G_ads (eV)\"]]\n",
    "\n",
    "# Prepare data for XGBoost\n",
    "\n",
    "#shuffle and split\n",
    "X_train, X_val_test, y_train, y_val_test = train_test_split(X, y, test_size = 0.2)\n",
    "X_val, X_test, y_val, y_test = train_test_split(X_val_test, y_val_test, test_size = 0.5)\n",
    "\n",
    "# Prepare XGBoost \n",
    "eval_set = [(X_train, y_train), (X_val, y_val)]\n",
    "XGBModel_H =  XGBRegressor(learning_rate = 0.1 #learning rate\n",
    "                                , max_depth = 5     #maximum tree depth\n",
    "                                , n_estimators = 500 #number of boosting rounds\n",
    "                                , n_jobs = 8 #number of threads\n",
    "                                , use_label_encoder = False)\n",
    "\n",
    "XGBModel_H.fit(X_train, y_train\n",
    "                       , eval_set = eval_set\n",
    "                       , early_stopping_rounds = 5\n",
    "                       , eval_metric = [\"mae\"]\n",
    "                       , verbose = False) #evals\n",
    "\n",
    "# Save model in the /models folder\n",
    "XGBModel_H.save_model(\"../models/\"+\"H_DFT.model\")\n",
    "\n",
    "learning_curve(XGBModel_H)\n",
    "\n",
    "score = XGBModel_H.score(X_train, y_train) #Det må man ikke før den er blevet trænet\n",
    "print(\"Training score: \", score)\n",
    "\n",
    "score = XGBModel_H.score(X_val, y_val) #Det må man ikke før den er blevet trænet\n",
    "print(\"Validation score: \", score)\n",
    "figure_folder = \"../figures/DeltaG_models\"\n",
    "single_parity_plot(XGBModel_H, X_test, y_test, \"H\", \"H\") ## Maybe I should make a new line with MAE_avg\n",
    "#single_parity_plot(XGBModel_H_Pro, X_test, y_test, \"H\", \"H\")"
   ]
  },
  {
   "cell_type": "code",
   "execution_count": null,
   "id": "bf95bb80",
   "metadata": {},
   "outputs": [],
   "source": []
  }
 ],
 "metadata": {
  "kernelspec": {
   "display_name": "Python 3 (ipykernel)",
   "language": "python",
   "name": "python3"
  },
  "language_info": {
   "codemirror_mode": {
    "name": "ipython",
    "version": 3
   },
   "file_extension": ".py",
   "mimetype": "text/x-python",
   "name": "python",
   "nbconvert_exporter": "python",
   "pygments_lexer": "ipython3",
   "version": "3.10.8"
  }
 },
 "nbformat": 4,
 "nbformat_minor": 5
}
