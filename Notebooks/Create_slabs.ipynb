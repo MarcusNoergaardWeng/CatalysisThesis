{
 "cells": [
  {
   "cell_type": "markdown",
   "id": "daa6ef2c",
   "metadata": {},
   "source": [
    "## Create data for the two $^*CO$ pathways that we don't have data on yet"
   ]
  },
  {
   "cell_type": "markdown",
   "id": "6721d510",
   "metadata": {},
   "source": [
    "### H on the side-reaction\n",
    "\n",
    "In this reaction, I need "
   ]
  }
 ],
 "metadata": {
  "kernelspec": {
   "display_name": "Python 3 (ipykernel)",
   "language": "python",
   "name": "python3"
  },
  "language_info": {
   "codemirror_mode": {
    "name": "ipython",
    "version": 3
   },
   "file_extension": ".py",
   "mimetype": "text/x-python",
   "name": "python",
   "nbconvert_exporter": "python",
   "pygments_lexer": "ipython3",
   "version": "3.10.8"
  }
 },
 "nbformat": 4,
 "nbformat_minor": 5
}
