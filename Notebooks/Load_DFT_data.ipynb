{
 "cells": [
  {
   "cell_type": "markdown",
   "id": "5171ca74",
   "metadata": {},
   "source": [
    "# Load DFT data into a more manageable format"
   ]
  },
  {
   "cell_type": "markdown",
   "id": "01a6a984",
   "metadata": {},
   "source": [
    "#### Import packages"
   ]
  },
  {
   "cell_type": "code",
   "execution_count": 7,
   "id": "aa207bda",
   "metadata": {},
   "outputs": [],
   "source": [
    "import pandas as pd\n",
    "import numpy as np\n",
    "import matplotlib.pyplot as plt\n",
    "import ase\n",
    "from ase.db import connect\n",
    "import sys\n",
    "import os"
   ]
  },
  {
   "cell_type": "code",
   "execution_count": 47,
   "id": "ff35f42d",
   "metadata": {},
   "outputs": [],
   "source": [
    "# Attach Jacks formic acid data\n",
    "formic_acid_data_path = \"../Experiments/AgAuCuPdPt_data/1_databases/relaxed/\"\n",
    "#sys.path.append()"
   ]
  },
  {
   "cell_type": "code",
   "execution_count": 9,
   "id": "65c1a6a3",
   "metadata": {},
   "outputs": [
    {
     "data": {
      "text/plain": [
       "['single_element_H_out.db',\n",
       " 'HCOOH_O_adsorbed_out.db',\n",
       " 'H_out.db',\n",
       " '.DS_Store',\n",
       " 'COOH_H_on_O_OO_adsorbed_out.db',\n",
       " 'single_element_COOH_COH_adsorbed_out.db',\n",
       " 'COOH_O_adsorbed_out.db',\n",
       " 'CO_out.db',\n",
       " 'single_element_COOH_H_CO_adsorbed_out.db',\n",
       " 'single_element_COOH_C_adsorbed_out.db',\n",
       " 'single_element_COOH_CO_adsorbed_out.db',\n",
       " 'single_element_CO_out.db',\n",
       " 'split_databases.py',\n",
       " 'single_elements_COOH_CO_adsorbed_out.db',\n",
       " 'molecules_out.db',\n",
       " 'single_element_COOH_H_on_O_OO_adsorbed_out.db',\n",
       " 'single_element_slabs_out.db',\n",
       " 'single_elements_COOH_COH_adsorbed_out.db',\n",
       " 'single_element_COOH_H_CO_and_H2O_like_out.db',\n",
       " 'single_element_HCOOH_O_adsorbed_out.db',\n",
       " 'slabs_out.db',\n",
       " 'single_element_COOH_O_adsorbed_out.db',\n",
       " 'single_element_COOH_H_COH_adsorbed_out.db',\n",
       " 'COOH_CO_adsorbed_out.db',\n",
       " 'COOH_H_on_C_OO_adsorbed_out.db',\n",
       " 'COOH_C_adsorbed_out.db',\n",
       " 'COOH_COH_adsorbed_out.db']"
      ]
     },
     "execution_count": 9,
     "metadata": {},
     "output_type": "execute_result"
    }
   ],
   "source": [
    "os.listdir(formic_acid_data_path)"
   ]
  },
  {
   "cell_type": "markdown",
   "id": "c3dffc56",
   "metadata": {},
   "source": [
    "### Sort through data"
   ]
  },
  {
   "cell_type": "code",
   "execution_count": 24,
   "id": "0d080450",
   "metadata": {},
   "outputs": [],
   "source": [
    "single_element_dbs = []\n",
    "HAE_dbs = []\n",
    "\n",
    "for filename in os.listdir(formic_acid_data_path):\n",
    "    if filename[-3:] == \".db\":\n",
    "        if filename[0:14] == \"single_element\":\n",
    "            single_element_dbs.append(filename)\n",
    "        if filename[0] == \"H\" or filename[0] == \"C\":\n",
    "            HAE_dbs.append(filename)"
   ]
  },
  {
   "cell_type": "code",
   "execution_count": 25,
   "id": "5405d645",
   "metadata": {},
   "outputs": [
    {
     "data": {
      "text/plain": [
       "['single_element_H_out.db',\n",
       " 'single_element_COOH_COH_adsorbed_out.db',\n",
       " 'single_element_COOH_H_CO_adsorbed_out.db',\n",
       " 'single_element_COOH_C_adsorbed_out.db',\n",
       " 'single_element_COOH_CO_adsorbed_out.db',\n",
       " 'single_element_CO_out.db',\n",
       " 'single_elements_COOH_CO_adsorbed_out.db',\n",
       " 'single_element_COOH_H_on_O_OO_adsorbed_out.db',\n",
       " 'single_element_slabs_out.db',\n",
       " 'single_elements_COOH_COH_adsorbed_out.db',\n",
       " 'single_element_COOH_H_CO_and_H2O_like_out.db',\n",
       " 'single_element_HCOOH_O_adsorbed_out.db',\n",
       " 'single_element_COOH_O_adsorbed_out.db',\n",
       " 'single_element_COOH_H_COH_adsorbed_out.db']"
      ]
     },
     "execution_count": 25,
     "metadata": {},
     "output_type": "execute_result"
    }
   ],
   "source": [
    "single_element_dbs"
   ]
  },
  {
   "cell_type": "code",
   "execution_count": 26,
   "id": "44c2e347",
   "metadata": {},
   "outputs": [
    {
     "data": {
      "text/plain": [
       "['HCOOH_O_adsorbed_out.db',\n",
       " 'H_out.db',\n",
       " 'COOH_H_on_O_OO_adsorbed_out.db',\n",
       " 'COOH_O_adsorbed_out.db',\n",
       " 'CO_out.db',\n",
       " 'COOH_CO_adsorbed_out.db',\n",
       " 'COOH_H_on_C_OO_adsorbed_out.db',\n",
       " 'COOH_C_adsorbed_out.db',\n",
       " 'COOH_COH_adsorbed_out.db']"
      ]
     },
     "execution_count": 26,
     "metadata": {},
     "output_type": "execute_result"
    }
   ],
   "source": [
    "HAE_dbs"
   ]
  },
  {
   "cell_type": "markdown",
   "id": "25329598",
   "metadata": {},
   "source": [
    "### Extract energy"
   ]
  },
  {
   "cell_type": "code",
   "execution_count": 32,
   "id": "09ec4ebf",
   "metadata": {},
   "outputs": [],
   "source": [
    "def fetch_energies(db_folder, filename):\n",
    "    Dbong = connect(db_folder + filename)\n",
    "    energy_list = []\n",
    "    for row in Dbong.select(\"energy\"):\n",
    "        energy_list.append(row.energy)\n",
    "    return energy_list"
   ]
  },
  {
   "cell_type": "code",
   "execution_count": 33,
   "id": "c62a01c9",
   "metadata": {},
   "outputs": [
    {
     "data": {
      "text/plain": [
       "[]"
      ]
     },
     "execution_count": 33,
     "metadata": {},
     "output_type": "execute_result"
    }
   ],
   "source": [
    "fetch_energies(formic_acid_data_path, HAE_dbs[0])"
   ]
  },
  {
   "cell_type": "code",
   "execution_count": 50,
   "id": "cbaae1ba",
   "metadata": {},
   "outputs": [
    {
     "name": "stdout",
     "output_type": "stream",
     "text": [
      "HCOOH_O_adsorbed_out.db\n",
      "H_out.db\n"
     ]
    }
   ],
   "source": [
    "print(HAE_dbs[0])\n",
    "print(HAE_dbs[1])"
   ]
  },
  {
   "cell_type": "code",
   "execution_count": 48,
   "id": "86ae7411",
   "metadata": {
    "scrolled": false
   },
   "outputs": [
    {
     "name": "stdout",
     "output_type": "stream",
     "text": [
      "<AtomsRow: formula=Ag5Au7Cu10Pd12Pt11CH2O2, keys=idx,slab_idx,site_idx>\n",
      "<AtomsRow: formula=Ag5Au7Cu10Pd12Pt11CH2O2, keys=idx,slab_idx,site_idx>\n",
      "<AtomsRow: formula=Ag5Au7Cu10Pd12Pt11CH2O2, keys=idx,slab_idx,site_idx>\n",
      "<AtomsRow: formula=Ag5Au7Cu10Pd12Pt11CH2O2, keys=idx,slab_idx,site_idx>\n",
      "<AtomsRow: formula=Ag5Au7Cu10Pd12Pt11CH2O2, keys=idx,slab_idx,site_idx>\n",
      "<AtomsRow: formula=Ag5Au7Cu10Pd12Pt11CH2O2, keys=idx,slab_idx,site_idx>\n",
      "<AtomsRow: formula=Ag5Au7Cu10Pd12Pt11CH2O2, keys=idx,slab_idx,site_idx>\n",
      "<AtomsRow: formula=Ag5Au7Cu10Pd12Pt11CH2O2, keys=idx,slab_idx,site_idx>\n",
      "<AtomsRow: formula=Ag5Au7Cu10Pd12Pt11CH2O2, keys=idx,slab_idx,site_idx>\n",
      "<AtomsRow: formula=Ag13Au5Cu12Pd7Pt8CH2O2, keys=idx,slab_idx,site_idx>\n",
      "<AtomsRow: formula=Ag13Au5Cu12Pd7Pt8CH2O2, keys=idx,slab_idx,site_idx>\n",
      "<AtomsRow: formula=Ag13Au5Cu12Pd7Pt8CH2O2, keys=idx,slab_idx,site_idx>\n",
      "<AtomsRow: formula=Ag13Au5Cu12Pd7Pt8CH2O2, keys=idx,slab_idx,site_idx>\n",
      "<AtomsRow: formula=Ag13Au5Cu12Pd7Pt8CH2O2, keys=idx,slab_idx,site_idx>\n",
      "<AtomsRow: formula=Ag13Au5Cu12Pd7Pt8CH2O2, keys=idx,slab_idx,site_idx>\n",
      "<AtomsRow: formula=Ag13Au5Cu12Pd7Pt8CH2O2, keys=idx,slab_idx,site_idx>\n",
      "<AtomsRow: formula=Ag13Au5Cu12Pd7Pt8CH2O2, keys=idx,slab_idx,site_idx>\n",
      "<AtomsRow: formula=Ag13Au5Cu12Pd7Pt8CH2O2, keys=idx,slab_idx,site_idx>\n",
      "<AtomsRow: formula=Ag10Au5Cu8Pd14Pt8CH2O2, keys=idx,slab_idx,site_idx>\n",
      "<AtomsRow: formula=Ag10Au5Cu8Pd14Pt8CH2O2, keys=idx,slab_idx,site_idx>\n",
      "<AtomsRow: formula=Ag10Au5Cu8Pd14Pt8CH2O2, keys=idx,slab_idx,site_idx>\n",
      "<AtomsRow: formula=Ag10Au5Cu8Pd14Pt8CH2O2, keys=idx,slab_idx,site_idx>\n",
      "<AtomsRow: formula=Ag10Au5Cu8Pd14Pt8CH2O2, keys=idx,slab_idx,site_idx>\n",
      "<AtomsRow: formula=Ag10Au5Cu8Pd14Pt8CH2O2, keys=idx,slab_idx,site_idx>\n",
      "<AtomsRow: formula=Ag10Au5Cu8Pd14Pt8CH2O2, keys=idx,slab_idx,site_idx>\n",
      "<AtomsRow: formula=Ag10Au5Cu8Pd14Pt8CH2O2, keys=idx,slab_idx,site_idx>\n",
      "<AtomsRow: formula=Ag10Au5Cu8Pd14Pt8CH2O2, keys=idx,slab_idx,site_idx>\n"
     ]
    }
   ],
   "source": [
    "Dbong = connect(formic_acid_data_path + HAE_dbs[0])\n",
    "energy_list = []\n",
    "for row in Dbong.select(\"energy\"):\n",
    "    print(row)\n",
    "    energy_list.append(row.energy)"
   ]
  },
  {
   "cell_type": "code",
   "execution_count": 51,
   "id": "21b703e6",
   "metadata": {},
   "outputs": [
    {
     "name": "stdout",
     "output_type": "stream",
     "text": [
      "27\n"
     ]
    }
   ],
   "source": [
    "print(len(energy_list))"
   ]
  },
  {
   "cell_type": "code",
   "execution_count": 42,
   "id": "693d9380",
   "metadata": {
    "scrolled": true
   },
   "outputs": [
    {
     "ename": "AttributeError",
     "evalue": "'SQLite3Database' object has no attribute 'keys'",
     "output_type": "error",
     "traceback": [
      "\u001b[0;31m---------------------------------------------------------------------------\u001b[0m",
      "\u001b[0;31mAttributeError\u001b[0m                            Traceback (most recent call last)",
      "Cell \u001b[0;32mIn [42], line 1\u001b[0m\n\u001b[0;32m----> 1\u001b[0m \u001b[43mDbong\u001b[49m\u001b[38;5;241;43m.\u001b[39;49m\u001b[43mkeys\u001b[49m()\n",
      "\u001b[0;31mAttributeError\u001b[0m: 'SQLite3Database' object has no attribute 'keys'"
     ]
    }
   ],
   "source": [
    "Dbong.keys()"
   ]
  },
  {
   "cell_type": "code",
   "execution_count": 46,
   "id": "4631f862",
   "metadata": {},
   "outputs": [
    {
     "ename": "KeyError",
     "evalue": "'no match'",
     "output_type": "error",
     "traceback": [
      "\u001b[0;31m---------------------------------------------------------------------------\u001b[0m",
      "\u001b[0;31mKeyError\u001b[0m                                  Traceback (most recent call last)",
      "Cell \u001b[0;32mIn [46], line 2\u001b[0m\n\u001b[1;32m      1\u001b[0m Dbong \u001b[38;5;241m=\u001b[39m connect(formic_acid_data_path \u001b[38;5;241m+\u001b[39m HAE_dbs[\u001b[38;5;241m0\u001b[39m])\n\u001b[0;32m----> 2\u001b[0m \u001b[38;5;28;01mfor\u001b[39;00m row \u001b[38;5;129;01min\u001b[39;00m \u001b[43mDbong\u001b[49m\u001b[38;5;241;43m.\u001b[39;49m\u001b[43mget\u001b[49m\u001b[43m(\u001b[49m\u001b[43m)\u001b[49m:\n\u001b[1;32m      3\u001b[0m     \u001b[38;5;28mprint\u001b[39m(row)\n",
      "File \u001b[0;32m~/miniforge3/envs/PUK/lib/python3.10/site-packages/ase/db/core.py:432\u001b[0m, in \u001b[0;36mDatabase.get\u001b[0;34m(self, selection, **kwargs)\u001b[0m\n\u001b[1;32m    430\u001b[0m rows \u001b[38;5;241m=\u001b[39m \u001b[38;5;28mlist\u001b[39m(\u001b[38;5;28mself\u001b[39m\u001b[38;5;241m.\u001b[39mselect(selection, limit\u001b[38;5;241m=\u001b[39m\u001b[38;5;241m2\u001b[39m, \u001b[38;5;241m*\u001b[39m\u001b[38;5;241m*\u001b[39mkwargs))\n\u001b[1;32m    431\u001b[0m \u001b[38;5;28;01mif\u001b[39;00m \u001b[38;5;129;01mnot\u001b[39;00m rows:\n\u001b[0;32m--> 432\u001b[0m     \u001b[38;5;28;01mraise\u001b[39;00m \u001b[38;5;167;01mKeyError\u001b[39;00m(\u001b[38;5;124m'\u001b[39m\u001b[38;5;124mno match\u001b[39m\u001b[38;5;124m'\u001b[39m)\n\u001b[1;32m    433\u001b[0m \u001b[38;5;28;01massert\u001b[39;00m \u001b[38;5;28mlen\u001b[39m(rows) \u001b[38;5;241m==\u001b[39m \u001b[38;5;241m1\u001b[39m, \u001b[38;5;124m'\u001b[39m\u001b[38;5;124mmore than one row matched\u001b[39m\u001b[38;5;124m'\u001b[39m\n\u001b[1;32m    434\u001b[0m \u001b[38;5;28;01mreturn\u001b[39;00m rows[\u001b[38;5;241m0\u001b[39m]\n",
      "\u001b[0;31mKeyError\u001b[0m: 'no match'"
     ]
    }
   ],
   "source": [
    "Dbong = connect(formic_acid_data_path + HAE_dbs[0])\n",
    "for row in Dbong.get():\n",
    "    print(row)"
   ]
  },
  {
   "cell_type": "code",
   "execution_count": 41,
   "id": "070467f0",
   "metadata": {},
   "outputs": [],
   "source": [
    "for row in Dbong.select(\"energy\"):\n",
    "    print(row)"
   ]
  },
  {
   "cell_type": "code",
   "execution_count": null,
   "id": "0add9fbd",
   "metadata": {},
   "outputs": [],
   "source": [
    "H_out = connect(db_folder + \"H_out.db\")\n",
    "\n",
    "for row in H_out.select(\"energy\"): #Select the rows that have an energy\n",
    "\n",
    "    energy_list.append(row.energy)"
   ]
  }
 ],
 "metadata": {
  "kernelspec": {
   "display_name": "Python 3 (ipykernel)",
   "language": "python",
   "name": "python3"
  },
  "language_info": {
   "codemirror_mode": {
    "name": "ipython",
    "version": 3
   },
   "file_extension": ".py",
   "mimetype": "text/x-python",
   "name": "python",
   "nbconvert_exporter": "python",
   "pygments_lexer": "ipython3",
   "version": "3.10.8"
  }
 },
 "nbformat": 4,
 "nbformat_minor": 5
}
