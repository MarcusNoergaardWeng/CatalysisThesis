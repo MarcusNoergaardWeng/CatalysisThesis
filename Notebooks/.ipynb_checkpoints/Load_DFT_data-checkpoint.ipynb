{
 "cells": [
  {
   "cell_type": "markdown",
   "id": "dda944f0",
   "metadata": {},
   "source": [
    "# Load DFT data into a more manageable format"
   ]
  },
  {
   "cell_type": "markdown",
   "id": "575af589",
   "metadata": {},
   "source": [
    "#### Import packages"
   ]
  },
  {
   "cell_type": "code",
   "execution_count": 7,
   "id": "424bca15",
   "metadata": {},
   "outputs": [],
   "source": [
    "import pandas as pd\n",
    "import numpy as np\n",
    "import matplotlib.pyplot as plt\n",
    "import ase\n",
    "from ase.db import connect\n",
    "import sys\n",
    "import os"
   ]
  },
  {
   "cell_type": "code",
   "execution_count": 8,
   "id": "4e58269b",
   "metadata": {},
   "outputs": [],
   "source": [
    "# Attach Jacks formic acid data\n",
    "formic_acid_data_path = \"../Experiments/AgAuCuPdPt_data/1_databases/relaxed\"\n",
    "#sys.path.append()"
   ]
  },
  {
   "cell_type": "code",
   "execution_count": 9,
   "id": "bfa5a374",
   "metadata": {},
   "outputs": [
    {
     "data": {
      "text/plain": [
       "['single_element_H_out.db',\n",
       " 'HCOOH_O_adsorbed_out.db',\n",
       " 'H_out.db',\n",
       " '.DS_Store',\n",
       " 'COOH_H_on_O_OO_adsorbed_out.db',\n",
       " 'single_element_COOH_COH_adsorbed_out.db',\n",
       " 'COOH_O_adsorbed_out.db',\n",
       " 'CO_out.db',\n",
       " 'single_element_COOH_H_CO_adsorbed_out.db',\n",
       " 'single_element_COOH_C_adsorbed_out.db',\n",
       " 'single_element_COOH_CO_adsorbed_out.db',\n",
       " 'single_element_CO_out.db',\n",
       " 'split_databases.py',\n",
       " 'single_elements_COOH_CO_adsorbed_out.db',\n",
       " 'molecules_out.db',\n",
       " 'single_element_COOH_H_on_O_OO_adsorbed_out.db',\n",
       " 'single_element_slabs_out.db',\n",
       " 'single_elements_COOH_COH_adsorbed_out.db',\n",
       " 'single_element_COOH_H_CO_and_H2O_like_out.db',\n",
       " 'single_element_HCOOH_O_adsorbed_out.db',\n",
       " 'slabs_out.db',\n",
       " 'single_element_COOH_O_adsorbed_out.db',\n",
       " 'single_element_COOH_H_COH_adsorbed_out.db',\n",
       " 'COOH_CO_adsorbed_out.db',\n",
       " 'COOH_H_on_C_OO_adsorbed_out.db',\n",
       " 'COOH_C_adsorbed_out.db',\n",
       " 'COOH_COH_adsorbed_out.db']"
      ]
     },
     "execution_count": 9,
     "metadata": {},
     "output_type": "execute_result"
    }
   ],
   "source": [
    "os.listdir(formic_acid_data_path)"
   ]
  },
  {
   "cell_type": "markdown",
   "id": "ed935698",
   "metadata": {},
   "source": [
    "### Sort through data"
   ]
  },
  {
   "cell_type": "code",
   "execution_count": null,
   "id": "9e7cc898",
   "metadata": {},
   "outputs": [],
   "source": [
    "single_element_dbs = []\n",
    "HAE_dbs = []\n",
    "\n",
    "for filename in os.listdir(formic_acid_data_path):\n",
    "    if filename[-3:] == \".db\":\n",
    "        if filename[0:14] == \"single_element\":\n",
    "            single_element_dbs.append(filename)\n",
    "        else:\n",
    "            "
   ]
  },
  {
   "cell_type": "code",
   "execution_count": 19,
   "id": "ab0a9070",
   "metadata": {},
   "outputs": [
    {
     "data": {
      "text/plain": [
       "'.db'"
      ]
     },
     "execution_count": 19,
     "metadata": {},
     "output_type": "execute_result"
    }
   ],
   "source": [
    "os.listdir(formic_acid_data_path)[0][-3:]"
   ]
  },
  {
   "cell_type": "code",
   "execution_count": 20,
   "id": "0d5b80f2",
   "metadata": {},
   "outputs": [
    {
     "data": {
      "text/plain": [
       "'single_element'"
      ]
     },
     "execution_count": 20,
     "metadata": {},
     "output_type": "execute_result"
    }
   ],
   "source": [
    "\"single_element\"[0:14]"
   ]
  }
 ],
 "metadata": {
  "kernelspec": {
   "display_name": "Python 3 (ipykernel)",
   "language": "python",
   "name": "python3"
  },
  "language_info": {
   "codemirror_mode": {
    "name": "ipython",
    "version": 3
   },
   "file_extension": ".py",
   "mimetype": "text/x-python",
   "name": "python",
   "nbconvert_exporter": "python",
   "pygments_lexer": "ipython3",
   "version": "3.10.8"
  }
 },
 "nbformat": 4,
 "nbformat_minor": 5
}
