{
 "cells": [
  {
   "cell_type": "markdown",
   "id": "91a639c9",
   "metadata": {},
   "source": [
    "# H + COOH Coverage"
   ]
  },
  {
   "cell_type": "markdown",
   "id": "eaafe7a2",
   "metadata": {},
   "source": [
    "#### Imports"
   ]
  },
  {
   "cell_type": "code",
   "execution_count": 11,
   "id": "aab8dc61",
   "metadata": {},
   "outputs": [],
   "source": [
    "import numpy as np\n",
    "import matplotlib.pyplot as plt\n",
    "import xgboost as xgb\n",
    "import csv\n",
    "import time\n",
    "from tqdm import tqdm\n",
    "import warnings\n",
    "warnings.simplefilter(action='ignore', category=FutureWarning)\n",
    "import pandas as pd\n",
    "\n",
    "np.random.seed(1)"
   ]
  },
  {
   "cell_type": "markdown",
   "id": "5774ce71",
   "metadata": {},
   "source": [
    "#### Load energy prediction models"
   ]
  },
  {
   "cell_type": "code",
   "execution_count": 3,
   "id": "000c493f",
   "metadata": {},
   "outputs": [],
   "source": [
    "#### Load models\n",
    "#hollow_site_model = xgb.Booster({'nthread': 8})\n",
    "#hollow_site_model.load_model(\"../models/\"+\"Hollow_site.model\")\n",
    "\n",
    "#on_top_site_model = xgb.Booster({'nthread': 8})\n",
    "#on_top_site_model.load_model(\"../models/\"+\"on_top_site.model\")\n",
    "\n",
    "#models = {\"H\": hollow_site_model, \"COOH\": on_top_site_model}"
   ]
  },
  {
   "cell_type": "markdown",
   "id": "801cfb42",
   "metadata": {},
   "source": [
    "#### Setup"
   ]
  },
  {
   "cell_type": "code",
   "execution_count": 180,
   "id": "7662958e",
   "metadata": {},
   "outputs": [],
   "source": [
    "# Size of the surface\n",
    "dim_x, dim_y = 100, 100\n",
    "\n",
    "# Metals\n",
    "metals = ['Ag', 'Au', 'Cu', 'Pd', 'Pt']\n",
    "site_types = {\"H\": \"ads_hol\", \"COOH\": \"ads_top\"}\n",
    "\n",
    "# Other parameters (Coming)\n",
    "# Voltages\n",
    "start = 0.025\n",
    "end = 1.05\n",
    "scan_rate = 0.005\n",
    "\n",
    "## Define the simulation name for the log file\n",
    "log_folder = \"../Coverage_logs/\"\n",
    "simulation_name = \"test_log_randomE\""
   ]
  },
  {
   "cell_type": "markdown",
   "id": "4d7a9020",
   "metadata": {},
   "source": [
    "### Run the simulation\n",
    "#### Seperate H and COOH - Precompute all binding energies "
   ]
  },
  {
   "cell_type": "code",
   "execution_count": 188,
   "id": "c44b05f6",
   "metadata": {},
   "outputs": [
    {
     "name": "stderr",
     "output_type": "stream",
     "text": [
      "100%|█████████████████████████████████████████████████| 205/205 [00:06<00:00, 33.50it/s]\n"
     ]
    }
   ],
   "source": [
    "## Create the log file with column names\n",
    "column_names = ['Adsorbate', 'Action', 'Gibbs E', 'Border_voltage', 'Voltage', 'Index x', 'Index y', 'site_type', 'Timestamp']\n",
    "create_log_file(log_folder + simulation_name + \".csv\", column_names)\n",
    "\n",
    "## Create the surface with: 'atoms', 'ads_top', 'ads_hol', 'COOH_G', 'H_G', 'COOH_V', 'H_V'\n",
    "surface = initialize_surface(dim_x, dim_y) # Combined with the occupance matrix in a dictionary\n",
    "\n",
    "## Initialize the statistics log\n",
    "statistics_log = initialize_statistics_log()\n",
    "\n",
    "## Precompute all binding energies\n",
    "surface = precompute_binding_energies(surface, dim_x, dim_y, models, predict_G)\n",
    "\n",
    "start_time = time.time()\n",
    "\n",
    "## Set a voltage\n",
    "for voltage in tqdm(voltage_sweep(start, end, scan_rate)): # Approximates the desired scan rate\n",
    "    \n",
    "    ## Look through the whole surface, both adsorbates, and ad/desorb as it should and log actions in log file\n",
    "    surface = look_at_all_sites_and_adsorbates(surface, dim_x, dim_y, site_types, voltage) ## I could REMOVE or ADD stuff right here for simplicity. I guess ideally I would add the most negative energy first, but if I just do small steps in voltage it shouldn't matter. I can avoid a huge complication by doing it like this\n",
    "\n",
    "    ## Log stats of the surface # Voltage, n_H, n_COOH, n_neighbours\n",
    "    statistics_log = count_statistics(surface, voltage, statistics_log)\n",
    "    "
   ]
  },
  {
   "cell_type": "code",
   "execution_count": 184,
   "id": "916b52e3",
   "metadata": {
    "scrolled": true
   },
   "outputs": [
    {
     "data": {
      "text/plain": [
       "{'atoms': array([[['Cu', 'Ag', 'Au'],\n",
       "         ['Pd', 'Au', 'Pt'],\n",
       "         ['Au', 'Ag', 'Pd'],\n",
       "         ...,\n",
       "         ['Ag', 'Ag', 'Ag'],\n",
       "         ['Au', 'Pd', 'Cu'],\n",
       "         ['Pd', 'Pd', 'Pt']],\n",
       " \n",
       "        [['Pd', 'Ag', 'Ag'],\n",
       "         ['Cu', 'Pd', 'Au'],\n",
       "         ['Pt', 'Pd', 'Cu'],\n",
       "         ...,\n",
       "         ['Pd', 'Cu', 'Au'],\n",
       "         ['Cu', 'Pd', 'Pt'],\n",
       "         ['Pt', 'Pd', 'Cu']],\n",
       " \n",
       "        [['Pt', 'Pt', 'Ag'],\n",
       "         ['Pd', 'Pd', 'Pt'],\n",
       "         ['Ag', 'Pd', 'Cu'],\n",
       "         ...,\n",
       "         ['Au', 'Cu', 'Au'],\n",
       "         ['Cu', 'Pd', 'Cu'],\n",
       "         ['Pt', 'Cu', 'Pd']],\n",
       " \n",
       "        ...,\n",
       " \n",
       "        [['Cu', 'Ag', 'Cu'],\n",
       "         ['Pt', 'Pd', 'Cu'],\n",
       "         ['Ag', 'Au', 'Pd'],\n",
       "         ...,\n",
       "         ['Au', 'Au', 'Pd'],\n",
       "         ['Au', 'Pd', 'Cu'],\n",
       "         ['Au', 'Ag', 'Cu']],\n",
       " \n",
       "        [['Pt', 'Ag', 'Pt'],\n",
       "         ['Pt', 'Pt', 'Au'],\n",
       "         ['Pt', 'Pt', 'Au'],\n",
       "         ...,\n",
       "         ['Ag', 'Pt', 'Au'],\n",
       "         ['Pt', 'Pd', 'Cu'],\n",
       "         ['Pt', 'Pt', 'Au']],\n",
       " \n",
       "        [['Pt', 'Ag', 'Ag'],\n",
       "         ['Pd', 'Pd', 'Pd'],\n",
       "         ['Au', 'Au', 'Au'],\n",
       "         ...,\n",
       "         ['Pt', 'Au', 'Ag'],\n",
       "         ['Au', 'Ag', 'Pd'],\n",
       "         ['Au', 'Cu', 'Au']]], dtype='<U2'),\n",
       " 'ads_top': array([['COOH', 'COOH', 'COOH', ..., 'COOH', 'COOH', 'COOH'],\n",
       "        ['COOH', 'COOH', 'COOH', ..., 'COOH', 'COOH', 'COOH'],\n",
       "        ['COOH', 'COOH', 'COOH', ..., 'COOH', 'COOH', 'COOH'],\n",
       "        ...,\n",
       "        ['COOH', 'COOH', 'COOH', ..., 'COOH', 'COOH', 'COOH'],\n",
       "        ['COOH', 'COOH', 'COOH', ..., 'COOH', 'COOH', 'COOH'],\n",
       "        ['COOH', 'COOH', 'COOH', ..., 'COOH', 'COOH', 'COOH']], dtype='<U5'),\n",
       " 'ads_hol': array([['empty', 'empty', 'empty', ..., 'empty', 'empty', 'empty'],\n",
       "        ['empty', 'empty', 'empty', ..., 'empty', 'empty', 'empty'],\n",
       "        ['empty', 'empty', 'empty', ..., 'empty', 'empty', 'empty'],\n",
       "        ...,\n",
       "        ['empty', 'empty', 'empty', ..., 'empty', 'empty', 'empty'],\n",
       "        ['empty', 'empty', 'empty', ..., 'empty', 'empty', 'empty'],\n",
       "        ['empty', 'empty', 'empty', ..., 'empty', 'empty', 'empty']],\n",
       "       dtype='<U5'),\n",
       " 'COOH_G': array([[0.77102768, 0.77102768, 0.77102768, ..., 0.77102768, 0.77102768,\n",
       "         0.77102768],\n",
       "        [0.77102768, 0.77102768, 0.77102768, ..., 0.77102768, 0.77102768,\n",
       "         0.77102768],\n",
       "        [0.77102768, 0.77102768, 0.77102768, ..., 0.77102768, 0.77102768,\n",
       "         0.77102768],\n",
       "        ...,\n",
       "        [0.77102768, 0.77102768, 0.77102768, ..., 0.77102768, 0.77102768,\n",
       "         0.77102768],\n",
       "        [0.77102768, 0.77102768, 0.77102768, ..., 0.77102768, 0.77102768,\n",
       "         0.77102768],\n",
       "        [0.77102768, 0.77102768, 0.77102768, ..., 0.77102768, 0.77102768,\n",
       "         0.77102768]]),\n",
       " 'H_G': array([[0.1943431, 0.1943431, 0.1943431, ..., 0.1943431, 0.1943431,\n",
       "         0.1943431],\n",
       "        [0.1943431, 0.1943431, 0.1943431, ..., 0.1943431, 0.1943431,\n",
       "         0.1943431],\n",
       "        [0.1943431, 0.1943431, 0.1943431, ..., 0.1943431, 0.1943431,\n",
       "         0.1943431],\n",
       "        ...,\n",
       "        [0.1943431, 0.1943431, 0.1943431, ..., 0.1943431, 0.1943431,\n",
       "         0.1943431],\n",
       "        [0.1943431, 0.1943431, 0.1943431, ..., 0.1943431, 0.1943431,\n",
       "         0.1943431],\n",
       "        [0.1943431, 0.1943431, 0.1943431, ..., 0.1943431, 0.1943431,\n",
       "         0.1943431]]),\n",
       " 'COOH_V': array([[0.77102768, 0.77102768, 0.77102768, ..., 0.77102768, 0.77102768,\n",
       "         0.77102768],\n",
       "        [0.77102768, 0.77102768, 0.77102768, ..., 0.77102768, 0.77102768,\n",
       "         0.77102768],\n",
       "        [0.77102768, 0.77102768, 0.77102768, ..., 0.77102768, 0.77102768,\n",
       "         0.77102768],\n",
       "        ...,\n",
       "        [0.77102768, 0.77102768, 0.77102768, ..., 0.77102768, 0.77102768,\n",
       "         0.77102768],\n",
       "        [0.77102768, 0.77102768, 0.77102768, ..., 0.77102768, 0.77102768,\n",
       "         0.77102768],\n",
       "        [0.77102768, 0.77102768, 0.77102768, ..., 0.77102768, 0.77102768,\n",
       "         0.77102768]]),\n",
       " 'H_V': array([[-0.1943431, -0.1943431, -0.1943431, ..., -0.1943431, -0.1943431,\n",
       "         -0.1943431],\n",
       "        [-0.1943431, -0.1943431, -0.1943431, ..., -0.1943431, -0.1943431,\n",
       "         -0.1943431],\n",
       "        [-0.1943431, -0.1943431, -0.1943431, ..., -0.1943431, -0.1943431,\n",
       "         -0.1943431],\n",
       "        ...,\n",
       "        [-0.1943431, -0.1943431, -0.1943431, ..., -0.1943431, -0.1943431,\n",
       "         -0.1943431],\n",
       "        [-0.1943431, -0.1943431, -0.1943431, ..., -0.1943431, -0.1943431,\n",
       "         -0.1943431],\n",
       "        [-0.1943431, -0.1943431, -0.1943431, ..., -0.1943431, -0.1943431,\n",
       "         -0.1943431]])}"
      ]
     },
     "execution_count": 184,
     "metadata": {},
     "output_type": "execute_result"
    }
   ],
   "source": [
    "surface # Soo, den gætter på samme energi hver gang"
   ]
  },
  {
   "cell_type": "markdown",
   "id": "bdd9204f",
   "metadata": {},
   "source": [
    "#### Plot the statistics"
   ]
  },
  {
   "cell_type": "markdown",
   "id": "c0fa4a8e",
   "metadata": {},
   "source": [
    "Ideas for statistics / data visualisation\n",
    "\n",
    "Plot with how many H and COOH there are on the surface at each voltage\n",
    "\n",
    "Gif with a number that shows the voltage and a surface, with \"H\" and \"COOH\" shown on the surface"
   ]
  },
  {
   "cell_type": "code",
   "execution_count": 37,
   "id": "ba5fb19e",
   "metadata": {},
   "outputs": [
    {
     "data": {
      "text/plain": [
       "dict_keys(['voltages', 'n_H', 'n_COOH', 'n_pairs'])"
      ]
     },
     "execution_count": 37,
     "metadata": {},
     "output_type": "execute_result"
    }
   ],
   "source": [
    "statistics_log.keys()"
   ]
  },
  {
   "cell_type": "code",
   "execution_count": 190,
   "id": "d329266f",
   "metadata": {},
   "outputs": [
    {
     "data": {
      "image/png": "[encoded data removed]",
      "text/plain": [
       "<Figure size 640x480 with 2 Axes>"
      ]
     },
     "metadata": {},
     "output_type": "display_data"
    }
   ],
   "source": [
    "# Make a nice plot showing how many neighbours, etc. there are at each voltage\n",
    "\n",
    "fig, ax1 = plt.subplots()\n",
    "plt.title('Coverage Simulation (H+COOH) (Simple)')\n",
    "\n",
    "ax1.plot(statistics_log[\"voltages\"], statistics_log[\"n_H\"], label = \"$^*H$\", c = \"royalblue\")\n",
    "ax1.plot(statistics_log[\"voltages\"], statistics_log[\"n_COOH\"], label = \"$^*COOH$\", c = \"cornflowerblue\")\n",
    "\n",
    "ax1.set_xlabel('Voltage')\n",
    "ax1.set_ylabel('Number of adsorbates', color='blue')\n",
    "ax1.tick_params('y', colors='blue')\n",
    "\n",
    "ax2 = ax1.twinx()\n",
    "\n",
    "ax2.plot(statistics_log[\"voltages\"], statistics_log[\"n_pairs\"], label = \"$^*H$+$^*COOH$ pairs\", c = \"tomato\")\n",
    "\n",
    "ax2.set_ylabel('Number of H+COOH pairs', color='tab:red')\n",
    "ax2.tick_params('y', colors='tab:red')\n",
    "\n",
    "## Add a legend\n",
    "#ax1.legend(['Y1-axis'], loc='upper left')\n",
    "ax1.legend(loc='upper left')\n",
    "#ax2.legend(['Y2-axis'], loc='upper right')\n",
    "plt.savefig(\"../figures/coverage_simulations/initial.png\", dpi = 300, bbox_inches = \"tight\")\n",
    "plt.show()"
   ]
  },
  {
   "cell_type": "markdown",
   "id": "97ac29d2",
   "metadata": {},
   "source": [
    "### Functions for initializing and running the coverage simulation\n",
    "\n",
    "(To be moved to seperate .py file)"
   ]
  },
  {
   "cell_type": "code",
   "execution_count": 187,
   "id": "4f2f9440",
   "metadata": {},
   "outputs": [],
   "source": [
    "def initialize_surface(dim_x, dim_y): #Is still random - could be used with a seed in the name of reproduceability\n",
    "    dim_z = 3\n",
    "    surface_list = np.array([int(dim_x*dim_y*dim_z/len(metals))*[metals[metal_number]] for metal_number in range(len(metals))]).flatten() #Jack had a way shorter way of doing this, but I think it was random drawing instead of ensuring a perfectly even split\n",
    "    np.random.shuffle(surface_list) #Shuffle list\n",
    "    surf_atoms = np.reshape(surface_list, (dim_x, dim_y, dim_z)) #Reshape list to the\n",
    "    \n",
    "    # Adsorbates\n",
    "    surf_ads_top = np.reshape([\"empty\"]*dim_x*dim_y, (dim_x, dim_y))\n",
    "    surf_ads_hol = np.reshape([\"empty\"]*dim_x*dim_y, (dim_x, dim_y))\n",
    "    \n",
    "    # Binding energies\n",
    "    surf_COOH_G = np.reshape([np.nan]*dim_x*dim_y, (dim_x, dim_y))# On-top sites\n",
    "    surf_H_G    = np.reshape([np.nan]*dim_x*dim_y, (dim_x, dim_y))# On-top sites# Hollow sites\n",
    "    \n",
    "    # Ad/desorbs at voltage (At which voltage is the binding energy 0?)\n",
    "    surf_COOH_V = np.reshape([np.nan]*dim_x*dim_y, (dim_x, dim_y))# On-top sites\n",
    "    surf_H_V    = np.reshape([np.nan]*dim_x*dim_y, (dim_x, dim_y))# On-top sites# Hollow sites\n",
    "    \n",
    "    surf = {\"atoms\": surf_atoms, \"ads_top\": surf_ads_top, \"ads_hol\": surf_ads_hol, \"COOH_G\": surf_COOH_G, \"H_G\": surf_H_G, \"COOH_V\": surf_COOH_V, \"H_V\": surf_H_V} #This line had a but that took me two days to find... Pass by reference is such a smart feature (y)\n",
    "    return surf\n",
    "\n",
    "def voltage_sweep(start, end, scan_rate):\n",
    "    return np.linspace(start, end, int(np.abs(start - end) / scan_rate))\n",
    "\n",
    "#def voltage_circle\n",
    "#def voltage_up_down (All these could be worked into a single function)\n",
    "\n",
    "def calc_V_border(ads, G):\n",
    "    \"\"\"This function returns the border-voltage, at which the adsorbate adsorbs or desorbs\"\"\"\n",
    "    \n",
    "    if ads == \"H\":\n",
    "        V_border = - G\n",
    "    if ads == \"COOH\":\n",
    "        V_border = G\n",
    "    \n",
    "    return V_border\n",
    "\n",
    "def precompute_binding_energies(surface, dim_x, dim_y, models, predict_G_function):\n",
    "    for x, y in [(x, y) for x in range(dim_x) for y in range(dim_y)]: # I could randomise this, so I go through all sites in a random order\n",
    "        ## What is the binding energy # With more adsorbates in future can be exchanged for a loop through the adsorbates\n",
    "        ads = \"H\"\n",
    "        surface[\"H_G\"][x][y] = predict_G_function(surface[\"atoms\"], x, y, ads, models) ## A new function that wraps/uses the XGBoost model\n",
    "        surface[\"H_V\"][x][y] = calc_V_border(ads = ads, G = surface[\"H_G\"][x][y])\n",
    "        \n",
    "    for x, y in [(x, y) for x in range(dim_x) for y in range(dim_y)]:\n",
    "        ads = \"COOH\"\n",
    "        surface[\"COOH_G\"][x][y] = predict_G_function(surface[\"atoms\"], x, y, ads, models) ## A new function that wraps/uses the XGBoost model\n",
    "        surface[\"COOH_V\"][x][y] = calc_V_border(ads = ads, G = surface[\"COOH_G\"][x][y])\n",
    "\n",
    "    return surface\n",
    "\n",
    "\n",
    "def create_log_file(file_name, column_names):\n",
    "    with open(file_name, 'w', newline='') as csvfile:\n",
    "        writer = csv.writer(csvfile)\n",
    "        writer.writerow(column_names)\n",
    "    return None\n",
    "\n",
    "def append_to_log_file(file_name, data):\n",
    "    with open(file_name, 'a', newline='') as csvfile:\n",
    "        writer = csv.writer(csvfile)\n",
    "        writer.writerow(data)\n",
    "    return None\n",
    "\n",
    "def look_at_all_sites_and_adsorbates(surface, dim_x, dim_y, site_types, voltage):\n",
    "    \n",
    "    ## Look through all sites (not bridge sites yet) by index\n",
    "    for site_x, site_y in [(x, y) for x in range(dim_x) for y in range(dim_y)]:\n",
    "        \n",
    "        ## Look through all adsorbates and their respective adsorption sites\n",
    "        for ads, site_type in [(ads, site_types[ads]) for ads in [\"H\", \"COOH\"]]:\n",
    "            #print(site_x, site_y, ads, site_type)\n",
    "            \n",
    "            # Make the decision to adsorb/desorb or do nothing with this function:\n",
    "            surface = decision_to_leave(surface, site_x, site_y, ads, site_type, voltage)\n",
    "    \n",
    "    return surface\n",
    "\n",
    "def decision_to_leave(surface, site_x, site_y, ads, site_type, voltage):\n",
    "    ## Figure out if anything should be ad or desorbed\n",
    "    \n",
    "    # Is the adsorbate sitting at the site already?\n",
    "    contents_of_site = surface[site_type][site_x][site_y]\n",
    "    is_ads_there = contents_of_site != \"empty\"\n",
    "    \n",
    "    # Should the adsorbate be there? #tested, seems to work\n",
    "    V_border = surface[ads+\"_V\"][site_x][site_y]\n",
    "    \n",
    "    # H adsorbs when the voltage is BELOW the border voltage\n",
    "    if ads == \"H\":\n",
    "        supposed_to = voltage < V_border\n",
    "    \n",
    "    # COOH adsorbs when the voltage is ABOVE the border voltage\n",
    "    if ads == \"COOH\":\n",
    "        supposed_to = voltage > V_border\n",
    "    \n",
    "    if (is_ads_there == False) and (supposed_to == True):\n",
    "        # Adsorb\n",
    "        surface[site_type][site_x][site_y] = ads\n",
    "        \n",
    "        # Save line to log file\n",
    "        append_to_log_file(log_folder + simulation_name + \".csv\", [ads, \"adsorb\", surface[ads+\"_G\"][site_x, site_y], surface[ads+\"_V\"][site_x, site_y], voltage, site_x, site_y, site_type, time.time() - start_time])\n",
    "        \n",
    "    if (is_ads_there == True) and (supposed_to == False):\n",
    "        # Desorb\n",
    "        surface[site_type][site_x][site_y] = \"empty\"\n",
    "        \n",
    "        # Save line to log file\n",
    "        append_to_log_file(log_folder + simulation_name + \".csv\", [ads, \"desorption\", surface[ads+\"_G\"][site_x, site_y], surface[ads+\"_V\"][site_x, site_y], voltage, site_x, site_y, site_type, time.time() - start_time])\n",
    "    return surface"
   ]
  },
  {
   "cell_type": "markdown",
   "id": "339fa8f8",
   "metadata": {},
   "source": [
    "### Functions for statistics and data visualisation\n",
    "\n",
    "Save something for each voltage:\n",
    "- Number of n_H, n_COOH, n_pairs"
   ]
  },
  {
   "cell_type": "code",
   "execution_count": 4,
   "id": "d43a63c5",
   "metadata": {},
   "outputs": [],
   "source": [
    "def count_pairs(surface):\n",
    "    '''This founction looks through a surface and returns the number of COOH + H pairs.\n",
    "    It loops through all on-top sites, if there is a COOH, it looks at the neighbouring FCC sites\n",
    "    If there'''\n",
    "    pairs = 0\n",
    "    # Look through all on-top sites for COOH species:\n",
    "    for x, y in [(x, y) for x in range(dim_x) for y in range(dim_y)]:\n",
    "        # Is there a COOH?\n",
    "        if surface[\"ads_top\"][x][y] == \"COOH\":\n",
    "            # Are there any H on the neighbouring positions?\n",
    "            for x_diff, y_diff in [(0, 0), (0, -1), (-1, 0)]:\n",
    "                FCC_neighbour = surface[\"ads_hol\"][(x + x_diff) % dim_x][(y + y_diff) % dim_y]\n",
    "                if FCC_neighbour == \"H\":\n",
    "                    pairs += 1          \n",
    "    return pairs\n",
    "\n",
    "def count_statistics(surface, voltage, statistics_log): # Should I input and return the statistics log each time or just append to it from inside the function? That's probably the way.\n",
    "    '''This function counts some important metrics on the surface'''\n",
    "    ## Log the voltage\n",
    "    statistics_log[\"voltages\"].append(voltage)\n",
    "    \n",
    "    ## Count number of the different adsorbates:\n",
    "    # Count H adsorbates\n",
    "    statistics_log[\"n_H\"].append(np.count_nonzero(surface[\"ads_hol\"] == 'H'))\n",
    "    \n",
    "    # Count COOH adsorbates\n",
    "    statistics_log[\"n_COOH\"].append(np.count_nonzero(surface[\"ads_top\"] == 'COOH'))\n",
    "    \n",
    "    # Count H + COOH pairs\n",
    "    statistics_log[\"n_pairs\"].append(count_pairs(surface))\n",
    "    \n",
    "    return statistics_log\n",
    "\n",
    "def initialize_statistics_log():\n",
    "    statistics_log = {\"voltages\": [], \"n_H\": [], \"n_COOH\": [], \"n_pairs\": []}\n",
    "    return statistics_log\n",
    "\n",
    "def plot_statistics_log(statistics_log):\n",
    "    \n",
    "    return None"
   ]
  },
  {
   "cell_type": "markdown",
   "id": "6727f89c",
   "metadata": {},
   "source": [
    "### Predicting binding energies"
   ]
  },
  {
   "cell_type": "code",
   "execution_count": 15,
   "id": "06203543",
   "metadata": {},
   "outputs": [],
   "source": [
    "import xgboost as xgb\n",
    "\n",
    "#### Load models\n",
    "H_model = xgb.Booster({'nthread': 8})\n",
    "H_model.load_model(\"../models/\"+\"H.model\")\n",
    "\n",
    "COOH_model = xgb.Booster({'nthread': 8})\n",
    "COOH_model.load_model(\"../models/\"+\"COOH.model\")\n",
    "\n",
    "models = {\"H\": H_model, \"COOH\": COOH_model}"
   ]
  },
  {
   "cell_type": "code",
   "execution_count": 169,
   "id": "5774f75f",
   "metadata": {
    "scrolled": true
   },
   "outputs": [
    {
     "data": {
      "text/plain": [
       "0.46407253"
      ]
     },
     "execution_count": 169,
     "metadata": {},
     "output_type": "execute_result"
    }
   ],
   "source": [
    "surface = initialize_surface(dim_x, dim_y)\n",
    "\n",
    "#site_x, site_y = 23, 41\n",
    "adsorbate = \"H\"\n",
    "predict_G(surface[\"atoms\"], site_x, site_y, adsorbate, models)"
   ]
  },
  {
   "cell_type": "code",
   "execution_count": 185,
   "id": "b35878e3",
   "metadata": {},
   "outputs": [],
   "source": [
    "del site_x\n",
    "del site_y"
   ]
  },
  {
   "cell_type": "code",
   "execution_count": 183,
   "id": "a9d8be98",
   "metadata": {},
   "outputs": [],
   "source": [
    "def predict_G(surface, site_x, site_y, adsorbate, models):\n",
    "    if adsorbate == \"H\":\n",
    "        vector_df = pd.DataFrame([hollow_site_vector(surface, site_x, site_y, adsorbate = \"H\")], columns = [f\"feature{n}\" for n in range(56)]) # Tjek - er det ikke \"adsorbate\" + features?\n",
    "        vector_DM = pandas_to_DMatrix(vector_df)\n",
    "        G = models[\"H\"].predict(vector_DM)[0]\n",
    "        #print(\"Jeg gættede lige på \")\n",
    "        return G\n",
    "    \n",
    "    if adsorbate == \"COOH\":\n",
    "        vector_df = pd.DataFrame([on_top_site_vector(surface, site_x, site_y)], columns = [f\"feature{n}\" for n in range(20)]) # Tjek - er det ikke \"adsorbate\" + features?\n",
    "        vector_DM = pandas_to_DMatrix(vector_df)\n",
    "        G = models[\"COOH\"].predict(vector_DM)[0]\n",
    "        return G\n",
    "\n",
    "def predict_G_TEST(ads, site_x, site_y, surface, models):\n",
    "    if ads == \"H\":\n",
    "        G = np.random.normal(0.25, 0.50) #mean 0.25 eV 1 sigma spread omkring 0.5 eV\n",
    "    if ads == \"COOH\":\n",
    "        G = np.random.normal(1.53, 0.44)\n",
    "    return G\n",
    "\n",
    "def on_top_site_vector(surface, site_x, site_y): # I should have done modulo to dim_x and dim_y\n",
    "    dim_x, dim_y = np.shape(surface)[0], np.shape(surface)[1]\n",
    "    site1 = [surface[site_x, site_y, 0]]# Make a one-hot encoded vector of the very site here! Add at the beginning\n",
    "    site1_count = [site1.count(metals[n]) for n in range(len(metals))]\n",
    "    \n",
    "    top6 = [surface[site_x % dim_x, (site_y-1) % dim_y, 0], surface[site_x % dim_x, (site_y+1) % dim_y, 0], surface[(site_x-1) % dim_x, site_y % dim_y, 0], surface[(site_x+1) % dim_x, site_y % dim_y, 0], surface[(site_x-1) % dim_x, (site_y+1) % dim_y, 0], surface[(site_x+1) % dim_x, (site_y-1) % dim_y, 0]]\n",
    "    top6_count = [top6.count(metals[n]) for n in range(len(metals))]\n",
    "    \n",
    "    mid3 = [surface[(site_x-1) % dim_x, (site_y-1) % dim_y,1], surface[site_x % dim_x, (site_y-1) % dim_y,1], surface[(site_x-1) % dim_x, site_y % dim_y,1]]\n",
    "    mid3_count = [mid3.count(metals[n]) for n in range(len(metals))]\n",
    "    \n",
    "    bot3 = [surface[(site_x-1) % dim_x, (site_y-1) % dim_y, 2], surface[(site_x-1) % dim_x, (site_y+1) % dim_y, 2], surface[(site_x+1) % dim_x, (site_y-1) % dim_y, 2]]\n",
    "    bot3_count = [bot3.count(metals[n]) for n in range(len(metals))]\n",
    "    \n",
    "    return site1_count + top6_count + mid3_count + bot3_count\n",
    "\n",
    "metals = ['Ag', 'Au', 'Cu', 'Pd', 'Pt']\n",
    "three_metals_combinations = [] #List of possible combinations of the three\n",
    "# Der skal være 35, ikke 125\n",
    "\n",
    "for a in metals:\n",
    "    for b in metals:\n",
    "        for c in metals:\n",
    "            three_metals_combinations.append(''.join(sorted([a, b, c])))\n",
    "            \n",
    "# Remove duplicates\n",
    "three_metals_combinations = list(dict.fromkeys(three_metals_combinations)) # Let's encode it in a better way later\n",
    "\n",
    "def hollow_site_vector(surface, site_x, site_y, adsorbate): #Now with adsorbate encoding\n",
    "    \n",
    "    if adsorbate == \"H\":\n",
    "        ads = [0]\n",
    "    elif adsorbate == \"O\":\n",
    "        ads = [1]\n",
    "    \n",
    "    # First encode the 3 neighbours\n",
    "    blues = [surface[(site_x+1) % dim_x, site_y, 0], surface[site_x, (site_y+1) % dim_y, 0], surface[(site_x+1) % dim_x, (site_y+1) % dim_y, 0]]\n",
    "    blues = \"\".join(sorted(blues))\n",
    "    idx = three_metals_combinations.index(blues)\n",
    "    blues = 35*[0]\n",
    "    blues[idx] = 1\n",
    "    \n",
    "    # Then the next neighbours (green)\n",
    "    greens = [surface[(site_x+2) % dim_x, site_y, 0], surface[site_x, (site_y+2) % dim_y, 0], surface[site_x, site_y, 0]]\n",
    "    greens_count = [greens.count(metals[n]) for n in range(len(metals))]\n",
    "    \n",
    "    # Then the next neighbours (brown) # Kunne gøres smartere med list comprehension og to lister med +- zipped\n",
    "    browns = [surface[(site_x + a) % dim_x, (site_y + b) % dim_y, c] for a, b, c in zip([1, 2, 2, 1, -1, -1], [2, 1, -1, -1, 1, 2], [0, 0, 0, 0, 0, 0])]\n",
    "    browns_count = [browns.count(metals[n]) for n in range(len(metals))]\n",
    "    \n",
    "    # Then the three downstairs neighbours\n",
    "    yellows = [surface[(site_x + a) % dim_x, (site_y + b) % dim_y, c] for a, b, c in zip([0, 1, 0], [0, 0, 1], [1, 1, 1])]\n",
    "    yellows_count = [yellows.count(metals[n]) for n in range(len(metals))]\n",
    "    \n",
    "    # Then the purples downstairs\n",
    "    purples = [surface[(site_x + a) % dim_x, (site_y + b) % dim_y, c] for a, b, c in zip([1, -1, 1], [-1, 1, 1], [1, 1, 1])]\n",
    "    purples_count = [purples.count(metals[n]) for n in range(len(metals))]\n",
    "    \n",
    "    return ads + blues + greens_count + browns_count + yellows_count + purples_count\n",
    "\n",
    "def pandas_to_DMatrix(df):\n",
    "    label = pd.DataFrame(np.random.randint(2, size=len(df)))\n",
    "    DMatrix = xgb.DMatrix(df, label=label)\n",
    "    return DMatrix\n",
    "\n",
    "def pandas_to_DMatrix(df):#, label):\n",
    "    label = pd.DataFrame(np.random.randint(2, size=len(df)))\n",
    "    DMatrix = xgb.DMatrix(df)#, label=label)\n",
    "    return DMatrix"
   ]
  },
  {
   "cell_type": "markdown",
   "id": "b315c60d",
   "metadata": {},
   "source": [
    "## Rewriting the decision to leave function"
   ]
  },
  {
   "cell_type": "code",
   "execution_count": 20,
   "id": "b517ee54",
   "metadata": {},
   "outputs": [
    {
     "data": {
      "text/plain": [
       "{'empty': 100}"
      ]
     },
     "execution_count": 20,
     "metadata": {},
     "output_type": "execute_result"
    }
   ],
   "source": [
    "def count_elements(arr):\n",
    "    unique_elements, counts = np.unique(arr, return_counts=True)\n",
    "    counts_dict = dict(zip(unique_elements, counts))\n",
    "    return counts_dict\n",
    "\n",
    "count_elements(surface[\"ads_top\"])"
   ]
  },
  {
   "cell_type": "markdown",
   "id": "d51945ff",
   "metadata": {},
   "source": [
    "#### Just quickly checking how the energies look"
   ]
  },
  {
   "cell_type": "code",
   "execution_count": 30,
   "id": "ac92ccfd",
   "metadata": {},
   "outputs": [
    {
     "name": "stdout",
     "output_type": "stream",
     "text": [
      "Mean: 1.5326902202380952\n",
      "Spread (Standard Deviation): 0.4410240645509031\n"
     ]
    }
   ],
   "source": [
    "import csv\n",
    "import statistics\n",
    "\n",
    "# Specify the file path and name\n",
    "csv_file = '../csv_features/COOH_features.csv'\n",
    "\n",
    "# Specify the target column header\n",
    "target_column = \"G_ads (eV)\"\n",
    "\n",
    "# Open the .csv file and read its contents using list comprehension\n",
    "with open(csv_file, 'r') as file:\n",
    "    # Create a CSV reader object\n",
    "    reader = csv.DictReader(file)\n",
    "    \n",
    "    # Extract the values of the target column using list comprehension\n",
    "    target_values = [float(row[target_column]) for row in reader]\n",
    "\n",
    "# Calculate the mean and spread (standard deviation) of the target values\n",
    "mean = statistics.mean(target_values)\n",
    "spread = statistics.stdev(target_values)\n",
    "\n",
    "# Print the mean and spread\n",
    "print(\"Mean:\", mean)\n",
    "print(\"Spread (Standard Deviation):\", spread)"
   ]
  },
  {
   "cell_type": "code",
   "execution_count": 28,
   "id": "cbfca984",
   "metadata": {},
   "outputs": [],
   "source": [
    "import csv\n",
    "\n",
    "# Specify the file path and name\n",
    "csv_file = '../csv_features/COOH_features.csv'\n",
    "\n",
    "# Open the .csv file and read its contents\n",
    "with open(csv_file, 'r') as file:\n",
    "    # Create a CSV reader object\n",
    "    reader = csv.DictReader(file)\n",
    "    \n",
    "    # Extract the header names\n",
    "    header_names = reader.fieldnames\n",
    "\n",
    "# Now you have the header names in the header_names list\n"
   ]
  },
  {
   "cell_type": "markdown",
   "id": "ab825743",
   "metadata": {},
   "source": [
    "#### Logik\n",
    "\n",
    "Oh shit, kunne man ikke bare predicte alle energier én gang? Det er simpelt i den model, hvor ingen nabointeraktioner tages med. Der skal også komme en model, som tager højde for H og COOH ved siden af hinanden. Men der kunne alle sites og så vinkel i alle retninger gemmes i et look-up table. Så predicter man først alle energier én gang, og så har man bare gemt en matrix med de spændinger, som ville få et adsorbat til at hoppe på/af.\n",
    "\n",
    "Måske gem alle.\n",
    "\n",
    "I surface dict kan jeg bare gemme ekstra lag, som hedder H_G, H_Voltage (hvor hvis voltage er UNDER hopper den på) og samme med COOH_G og COOH_Voltage (Hvor hvis voltage er OVER hopper den på) Så kan alt det preprocessing laves inden man \"kører simulationen\", som så bliver utroligt simpelt. Oh shit et speedup det kan blive til.\n",
    "\n",
    "Hvad er logikken når man sætter en *H ved siden af en *COOH eller en *COOH ved siden af en *H?\n",
    "Skal man for hver H der allerede sidder se, om der gerne vil sætte sig en COOH ved siden af, med den model der tager højde for begge?\n",
    "ELLER\n",
    "Skal sitet til en COOH ved siden af en *H som allerede sidder der først være favorabelt for en COOH, og så tjekker man med *H+*COOH-modellen om det er favorabelt, når man tager højde for nabointeraktion gennem modellen?\n",
    "\n",
    "**Om H+COOH energier:**\n",
    "\n",
    "Man kunne, for simplicitetens skyld indrette det sådan, at man sætter H og COOH uafhængigt med den rutine der kører nu, når så man har været igennem look_at_all_sites_and_adsorbates kan man lige kigge efter pairs, og når man så finder et par, så måler man lige bindingsenergien og ser, om det er favorabelt.\n",
    "Hvis det er favorabelt: Bliv siddende\n",
    "Hvis det ikke er favorabelt: Fjern begge?\n",
    "\n",
    "**Om \\*CO:**\n",
    "\n",
    "Kunne man gøre det sådan, at man kigger igennem overfladen og hvis man finder et par H+COOH, så laver man dem om til en $*CO$?\n",
    "\n",
    "**H på FCC sites:**\n",
    "Feature vektoren fra hollow sites virker kun til FCC sites, som er anderledes end (den anden slags), fordi de ikke er identiske. Indtil videre nøjes jeg med FCC sites. Vent er der ikke kun FCC sites"
   ]
  }
 ],
 "metadata": {
  "kernelspec": {
   "display_name": "Python 3 (ipykernel)",
   "language": "python",
   "name": "python3"
  },
  "language_info": {
   "codemirror_mode": {
    "name": "ipython",
    "version": 3
   },
   "file_extension": ".py",
   "mimetype": "text/x-python",
   "name": "python",
   "nbconvert_exporter": "python",
   "pygments_lexer": "ipython3",
   "version": "3.10.8"
  }
 },
 "nbformat": 4,
 "nbformat_minor": 5
}
