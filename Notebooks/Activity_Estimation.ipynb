{
 "cells": [
  {
   "attachments": {},
   "cell_type": "markdown",
   "metadata": {},
   "source": [
    "## Estimate the activity of a simulated surface"
   ]
  },
  {
   "attachments": {},
   "cell_type": "markdown",
   "metadata": {},
   "source": [
    "#### Imports"
   ]
  },
  {
   "cell_type": "code",
   "execution_count": 1,
   "metadata": {},
   "outputs": [],
   "source": [
    "import warnings\n",
    "warnings.simplefilter(action='ignore', category=FutureWarning)\n",
    "\n",
    "import sys\n",
    "sys.path.append('../scripts')\n",
    "from functions import *"
   ]
  },
  {
   "attachments": {},
   "cell_type": "markdown",
   "metadata": {},
   "source": [
    "#### Simulate HEA surface"
   ]
  },
  {
   "cell_type": "code",
   "execution_count": 2,
   "metadata": {},
   "outputs": [],
   "source": [
    "# Initialize a surface from a given stochiometry\n",
    "dim_x, dim_y, split = 200, 200, [0.2 , 0.2 , 0.2 , 0.2 , 0.2 ]\n",
    "\n",
    "HEA_surface = initialize_surface(dim_x, dim_y, metals, split)\n",
    "\n",
    "# Predict energies on all sites for both adsorbates + mixed_sites\n",
    "HEA_surface = precompute_binding_energies_SPEED(HEA_surface, dim_x, dim_y, models)"
   ]
  },
  {
   "attachments": {},
   "cell_type": "markdown",
   "metadata": {},
   "source": [
    "#### Estimate activity of each site"
   ]
  },
  {
   "cell_type": "code",
   "execution_count": null,
   "metadata": {},
   "outputs": [],
   "source": [
    "# Make a function, that takes a surface in and returns it with a new\n",
    "# matrix representing the activities on each site\n",
    "\n",
    "# Decisions based on deltaG I guess\n",
    "# Go through all indexes (x, y) and check for any negtive H neighb\n",
    "# binding energies"
   ]
  },
  {
   "cell_type": "code",
   "execution_count": 13,
   "metadata": {},
   "outputs": [],
   "source": [
    "def estimate_activity(surface, U):\n",
    "    surface[\"COOH_G\"] = surface[\"COOH_E\"] + corrections[\"COOH\"]\n",
    "    surface[\"H_G\"]    = surface[\"H_E\"]    + corrections[\"H\"]\n",
    "\n",
    "    surface[\"Site_Activities\"] = np.zeros([200, 200])\n",
    "\n",
    "    for idx_x in range(dim_x):\n",
    "        for idx_y in range(dim_y):\n",
    "            # Check if any of the neighbouring hollow sites could house an H\n",
    "\n",
    "            for x_diff, y_diff in [(0, 0), (-1, 0), (0, -1)]:\n",
    "                neighbour_H_G = surface[\"H_G\"][idx_x+x_diff, idx_y+y_diff]\n",
    "                if neighbour_H_G < 0:\n",
    "                    continue\n",
    "            \n",
    "            # If we get here it means no H + COOH disprop reac\n",
    "            # Now use COOH_G to estimate activity\n",
    "\n",
    "            surface[\"Site_Activities\"][idx_x][idx_y] = per_site_current(surface[\"COOH_G\"][idx_x][idx_y], U)\n",
    "\n",
    "    return surface\n",
    "\n",
    "def per_site_current(deltaG, U):\n",
    "    deltaG_RLS = np.abs(deltaG+0.17)-0.17-U # This term will be 0 in the most optimal case\n",
    "    kbT = 4.1164049935e-21\n",
    "    j_k = 1* np.e**(-deltaG_RLS/kbT)\n",
    "    return j_k"
   ]
  },
  {
   "cell_type": "code",
   "execution_count": 20,
   "metadata": {},
   "outputs": [],
   "source": [
    "HEA_surface = estimate_activity(HEA_surface, U = -0.5)"
   ]
  },
  {
   "cell_type": "code",
   "execution_count": 22,
   "metadata": {},
   "outputs": [
    {
     "data": {
      "text/plain": [
       "0.0"
      ]
     },
     "execution_count": 22,
     "metadata": {},
     "output_type": "execute_result"
    }
   ],
   "source": [
    "HEA_surface[\"Site_Activities\"]"
   ]
  },
  {
   "cell_type": "code",
   "execution_count": 19,
   "metadata": {},
   "outputs": [
    {
     "data": {
      "text/plain": [
       "array([[1.7004739 , 1.2640857 , 1.6628963 , ..., 0.93822813, 0.39652085,\n",
       "        1.3439863 ],\n",
       "       [0.88499385, 1.3212154 , 0.85029376, ..., 0.8686634 , 1.6988672 ,\n",
       "        1.2288053 ],\n",
       "       [0.82666576, 1.5859829 , 1.2794973 , ..., 1.419919  , 0.91659236,\n",
       "        0.9171337 ],\n",
       "       ...,\n",
       "       [0.87909913, 1.7064533 , 1.2674198 , ..., 1.319704  , 1.4416893 ,\n",
       "        1.2700175 ],\n",
       "       [1.6077666 , 1.3183583 , 1.6396664 , ..., 0.99981225, 1.365731  ,\n",
       "        1.3966595 ],\n",
       "       [1.2669193 , 0.5578434 , 1.3119998 , ..., 1.5039846 , 0.53246415,\n",
       "        0.9345758 ]], dtype=float32)"
      ]
     },
     "execution_count": 19,
     "metadata": {},
     "output_type": "execute_result"
    }
   ],
   "source": [
    "HEA_surface[\"COOH_G\"]"
   ]
  },
  {
   "cell_type": "code",
   "execution_count": 10,
   "metadata": {},
   "outputs": [
    {
     "name": "stdout",
     "output_type": "stream",
     "text": [
      "4.1164049935e-21\n"
     ]
    }
   ],
   "source": [
    "kbT = 1.380649e-23 * 298.15\n",
    "print(kbT)"
   ]
  },
  {
   "cell_type": "code",
   "execution_count": 7,
   "metadata": {},
   "outputs": [
    {
     "data": {
      "text/plain": [
       "array([[0., 0., 0., ..., 0., 0., 0.],\n",
       "       [0., 0., 0., ..., 0., 0., 0.],\n",
       "       [0., 0., 0., ..., 0., 0., 0.],\n",
       "       ...,\n",
       "       [0., 0., 0., ..., 0., 0., 0.],\n",
       "       [0., 0., 0., ..., 0., 0., 0.],\n",
       "       [0., 0., 0., ..., 0., 0., 0.]])"
      ]
     },
     "execution_count": 7,
     "metadata": {},
     "output_type": "execute_result"
    }
   ],
   "source": [
    "np.zeros([200, 200])"
   ]
  },
  {
   "cell_type": "code",
   "execution_count": 4,
   "metadata": {},
   "outputs": [
    {
     "data": {
      "text/plain": [
       "dict_keys(['atoms', 'stochiometry', 'ads_top', 'ads_hol', 'COOH_E', 'H_E', 'mixed_down', 'mixed_up_right', 'mixed_up_left', 'O_E', 'OH_E', 'H_V', 'O_V', 'COOH_V', 'OH_V', 'COOH_given_H_down', 'COOH_given_H_up_right', 'COOH_given_H_up_left', 'H_given_COOH_down', 'H_given_COOH_up_right', 'H_given_COOH_up_left'])"
      ]
     },
     "execution_count": 4,
     "metadata": {},
     "output_type": "execute_result"
    }
   ],
   "source": [
    "HEA_surface.keys()"
   ]
  },
  {
   "cell_type": "code",
   "execution_count": 5,
   "metadata": {},
   "outputs": [
    {
     "data": {
      "text/plain": [
       "0.4950000000000001"
      ]
     },
     "execution_count": 5,
     "metadata": {},
     "output_type": "execute_result"
    }
   ],
   "source": [
    "corrections[\"COOH\"]"
   ]
  }
 ],
 "metadata": {
  "kernelspec": {
   "display_name": "PUK",
   "language": "python",
   "name": "python3"
  },
  "language_info": {
   "codemirror_mode": {
    "name": "ipython",
    "version": 3
   },
   "file_extension": ".py",
   "mimetype": "text/x-python",
   "name": "python",
   "nbconvert_exporter": "python",
   "pygments_lexer": "ipython3",
   "version": "3.10.8"
  },
  "orig_nbformat": 4
 },
 "nbformat": 4,
 "nbformat_minor": 2
}
