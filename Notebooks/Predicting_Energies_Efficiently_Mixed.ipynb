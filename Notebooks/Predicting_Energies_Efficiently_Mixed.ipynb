{
 "cells": [
  {
   "attachments": {},
   "cell_type": "markdown",
   "metadata": {},
   "source": [
    "# Predicting energies efficiently and on mixed-sites"
   ]
  },
  {
   "cell_type": "code",
   "execution_count": null,
   "metadata": {},
   "outputs": [],
   "source": [
    "import xgboost as xgb\n",
    "import numpy as np\n",
    "import pandas as pd"
   ]
  },
  {
   "cell_type": "code",
   "execution_count": null,
   "metadata": {},
   "outputs": [],
   "source": [
    "#Load H binding energy prediction model\n",
    "H_DFT_model = xgb.Booster({'nthread': 8})\n",
    "H_DFT_model.load_model(\"../models/\"+\"H_DFT.model\")\n",
    "\n",
    "#Load COOH binding energy prediction model\n",
    "COOH_DFT_model = xgb.Booster({'nthread': 8})\n",
    "COOH_DFT_model.load_model(\"../models/\"+\"COOH_DFT.model\")\n",
    "\n",
    "models = {\"H\": H_DFT_model, \"COOH\": COOH_DFT_model}"
   ]
  },
  {
   "attachments": {},
   "cell_type": "markdown",
   "metadata": {},
   "source": [
    "### Compare time to make predictions of COOH and H on a 100 by 100 surface with the new way to predict energies"
   ]
  },
  {
   "attachments": {},
   "cell_type": "markdown",
   "metadata": {},
   "source": [
    "#### Old method:"
   ]
  },
  {
   "attachments": {},
   "cell_type": "markdown",
   "metadata": {},
   "source": [
    "#### New method:"
   ]
  }
 ],
 "metadata": {
  "kernelspec": {
   "display_name": "PUK",
   "language": "python",
   "name": "python3"
  },
  "language_info": {
   "codemirror_mode": {
    "name": "ipython",
    "version": 3
   },
   "file_extension": ".py",
   "mimetype": "text/x-python",
   "name": "python",
   "nbconvert_exporter": "python",
   "pygments_lexer": "ipython3",
   "version": "3.10.8"
  },
  "orig_nbformat": 4
 },
 "nbformat": 4,
 "nbformat_minor": 2
}
