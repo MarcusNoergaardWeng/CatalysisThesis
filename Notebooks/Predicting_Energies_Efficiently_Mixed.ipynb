{
 "cells": [
  {
   "attachments": {},
   "cell_type": "markdown",
   "metadata": {},
   "source": [
    "# Predicting energies efficiently and on mixed-sites"
   ]
  },
  {
   "cell_type": "code",
   "execution_count": 136,
   "metadata": {},
   "outputs": [],
   "source": [
    "import xgboost as xgb\n",
    "import numpy as np\n",
    "import pandas as pd\n",
    "from tqdm.notebook import tqdm\n",
    "from xgboost import XGBRegressor\n",
    "import warnings\n",
    "warnings.simplefilter(action='ignore', category=FutureWarning)\n",
    "import time\n",
    "import matplotlib.pyplot as plt"
   ]
  },
  {
   "cell_type": "code",
   "execution_count": 137,
   "metadata": {},
   "outputs": [],
   "source": [
    "#Load H binding energy prediction model\n",
    "H_DFT_model = xgb.Booster({'nthread': 8})\n",
    "H_DFT_model.load_model(\"../models/\"+\"H_DFT.model\")\n",
    "\n",
    "#Load COOH binding energy prediction model\n",
    "COOH_DFT_model = xgb.Booster({'nthread': 8})\n",
    "COOH_DFT_model.load_model(\"../models/\"+\"COOH_DFT.model\")\n",
    "\n",
    "#Load mixed site energy prediction model\n",
    "mixed_DFT_model = xgb.Booster({'nthread': 8})\n",
    "mixed_DFT_model.load_model(\"../models/\"+\"COOH_H.model\")\n",
    "\n",
    "models = {\"H\": H_DFT_model, \"COOH\": COOH_DFT_model, \"mixed\": mixed_DFT_model}"
   ]
  },
  {
   "cell_type": "code",
   "execution_count": 138,
   "metadata": {},
   "outputs": [
    {
     "name": "stdout",
     "output_type": "stream",
     "text": [
      "55\n",
      "20\n",
      "75\n",
      "{'best_iteration': '18', 'best_ntree_limit': '19', 'best_score': '0.150929', 'scikit_learn': '{\"n_estimators\": 500, \"objective\": \"reg:squarederror\", \"max_depth\": 5, \"learning_rate\": 0.1, \"verbosity\": null, \"booster\": null, \"tree_method\": null, \"gamma\": null, \"min_child_weight\": null, \"max_delta_step\": null, \"subsample\": null, \"colsample_bytree\": null, \"colsample_bylevel\": null, \"colsample_bynode\": null, \"reg_alpha\": null, \"reg_lambda\": null, \"scale_pos_weight\": null, \"base_score\": null, \"missing\": NaN, \"num_parallel_tree\": null, \"random_state\": null, \"n_jobs\": 8, \"monotone_constraints\": null, \"interaction_constraints\": null, \"importance_type\": null, \"gpu_id\": null, \"validate_parameters\": null, \"predictor\": null, \"enable_categorical\": false, \"kwargs\": {\"use_label_encoder\": false}, \"evals_result_\": {\"validation_0\": {\"mae\": [0.593315, 0.537968, 0.487932, 0.442318, 0.401622, 0.365934, 0.332539, 0.302993, 0.276135, 0.250841, 0.229254, 0.20982, 0.191445, 0.174601, 0.159716, 0.146139, 0.133887, 0.122421, 0.112256, 0.102825, 0.094677, 0.087148, 0.080087, 0.07393]}, \"validation_1\": {\"mae\": [0.740198, 0.66302, 0.590172, 0.526898, 0.472717, 0.428025, 0.377267, 0.338236, 0.305361, 0.269592, 0.240739, 0.215094, 0.189904, 0.173319, 0.161938, 0.154958, 0.155119, 0.153315, 0.150929, 0.152122, 0.15401, 0.156271, 0.156319, 0.159427]}}, \"_estimator_type\": \"regressor\"}'}\n"
     ]
    }
   ],
   "source": [
    "print(models[\"H\"].num_features())\n",
    "print(models[\"COOH\"].num_features())\n",
    "print(models[\"mixed\"].num_features())\n",
    "print(models[\"mixed\"].attributes())"
   ]
  },
  {
   "attachments": {},
   "cell_type": "markdown",
   "metadata": {},
   "source": [
    "### Compare time to make predictions of COOH and H on a 100 by 100 surface with the new way to predict energies"
   ]
  },
  {
   "attachments": {},
   "cell_type": "markdown",
   "metadata": {},
   "source": [
    "#### Old method:"
   ]
  },
  {
   "cell_type": "code",
   "execution_count": 139,
   "metadata": {},
   "outputs": [
    {
     "data": {
      "application/vnd.jupyter.widget-view+json": {
       "model_id": "eaf8c7654d314825831190e65cb1b0e2",
       "version_major": 2,
       "version_minor": 0
      },
      "text/plain": [
       "Predicting all ΔG:   0%|          | 0/10000 [00:00<?, ?it/s]"
      ]
     },
     "metadata": {},
     "output_type": "display_data"
    }
   ],
   "source": [
    "dim_x, dim_y, split = 100, 100, [1, 1, 1, 1, 1]\n",
    "\n",
    "# Note the stochiometry - used for plotting\n",
    "stochiometry = dict(zip(metals, np.array(split)/np.sum(split)))\n",
    "# Make the surface (empty surface)\n",
    "surface = initialize_surface(dim_x, dim_y, metals, split)\n",
    "\n",
    "# Predict energies on all sites for both adsorbates\n",
    "surface = precompute_binding_energies_TQDM(surface, dim_x, dim_y, models, predict_G)\n"
   ]
  },
  {
   "attachments": {},
   "cell_type": "markdown",
   "metadata": {},
   "source": [
    "#### New method:"
   ]
  },
  {
   "cell_type": "code",
   "execution_count": 141,
   "metadata": {},
   "outputs": [],
   "source": [
    "dim_x, dim_y, split = 1000, 100, [1, 1, 1, 1, 1]\n",
    "\n",
    "# Note the stochiometry - used for plotting\n",
    "stochiometry = dict(zip(metals, np.array(split)/np.sum(split)))\n",
    "# Make the surface (empty surface)\n",
    "surface = initialize_surface(dim_x, dim_y, metals, split)\n",
    "\n",
    "# Predict energies on all sites for both adsorbates\n",
    "surface = precompute_binding_energies_SPEED(surface, dim_x, dim_y, models)"
   ]
  },
  {
   "attachments": {},
   "cell_type": "markdown",
   "metadata": {},
   "source": [
    "### With mixed-site energies"
   ]
  },
  {
   "cell_type": "code",
   "execution_count": 133,
   "metadata": {},
   "outputs": [],
   "source": [
    "dim_x, dim_y, split = 100, 100, [1, 1, 1, 1, 1]\n",
    "\n",
    "# Note the stochiometry - used for plotting\n",
    "stochiometry = dict(zip(metals, np.array(split)/np.sum(split)))\n",
    "# Make the surface (empty surface)\n",
    "surface = initialize_surface(dim_x, dim_y, metals, split)\n",
    "\n",
    "# Predict energies on all sites for both adsorbates\n",
    "surface = precompute_binding_energies_SPEED(surface, dim_x, dim_y, models)\n",
    "\n",
    "# Predict energies on the mixed-sites\n",
    "surface = predict_mixed_energies(surface, dim_x, dim_y, models)"
   ]
  },
  {
   "cell_type": "code",
   "execution_count": 109,
   "metadata": {},
   "outputs": [],
   "source": [
    "# Efter man har fundet den mixed energi, så kan man både få \"COOH givet H\" energien ud og \"H givet COOH\" energien"
   ]
  },
  {
   "attachments": {},
   "cell_type": "markdown",
   "metadata": {},
   "source": [
    "$$ \\Delta G(*COOH(*H)) = \\Delta G(*COOH + *H) -  \\Delta G(*H) $$"
   ]
  },
  {
   "attachments": {},
   "cell_type": "markdown",
   "metadata": {},
   "source": [
    "$$ \\Delta G(*H(*COOH)) = \\Delta G(*COOH + *H) -  \\Delta G(*COOH) $$"
   ]
  },
  {
   "attachments": {},
   "cell_type": "markdown",
   "metadata": {},
   "source": [
    "**Down**\n",
    "\n",
    "COOH(*H) is equal to the mixed energy subtracted the H energy with y = -1\n",
    "\n",
    "H(*COOH) is equal to the mixed energy subtracted the COOH energy with y = +1\n",
    "\n",
    "**Up right**\n",
    "\n",
    "COOH(*H) is equal to the mixed energy subtracted the H energy with the *same index*\n",
    "\n",
    "H(*COOH) is equal to the mixed energy subtracted the COOH energy with the *same index*\n",
    "\n",
    "**Up left**\n",
    "\n",
    "COOH(*H) is equal to the mixed energy subtracted the H energy with x = -1\n",
    "\n",
    "H(*COOH) is equal to the mixed energy subtracted the COOH energy with x = +1"
   ]
  },
  {
   "attachments": {},
   "cell_type": "markdown",
   "metadata": {},
   "source": [
    "I up right situationen skal man trække den rene H energi fra som har samme index\n",
    "\n",
    "Med up left skulle man måske roll'e H energierne, så deres x-værdi bliver rykket én ned."
   ]
  },
  {
   "attachments": {},
   "cell_type": "markdown",
   "metadata": {},
   "source": [
    "#### Functions:"
   ]
  },
  {
   "cell_type": "code",
   "execution_count": 135,
   "metadata": {},
   "outputs": [],
   "source": [
    "def calc_given_energies(surface):\n",
    "    surface[\"COOH_given_H_down\"]     = surface[\"mixed_down\"]     - np.roll(surface[\"H_G\"], (-1,  0), axis=(0, 1))\n",
    "    surface[\"COOH_given_H_up_right\"] = surface[\"mixed_up_right\"] - np.roll(surface[\"H_G\"], ( 0,  0), axis=(0, 1))\n",
    "    surface[\"COOH_given_H_up_left\"]  = surface[\"mixed_up_left\"]  - np.roll(surface[\"H_G\"], ( 0, -1), axis=(0, 1))\n",
    "\n",
    "    surface[\"H_given_COOH_down\"]     = surface[\"mixed_down\"]     - np.roll(surface[\"COOH_G\"], (+1,  0), axis=(0, 1))\n",
    "    surface[\"H_given_COOH_up_right\"] = surface[\"mixed_up_right\"] - np.roll(surface[\"COOH_G\"], ( 0,  0), axis=(0, 1))\n",
    "    surface[\"H_given_COOH_up_left\"]  = surface[\"mixed_up_left\"]  - np.roll(surface[\"COOH_G\"], ( 0, +1), axis=(0, 1))\n",
    "    return surface\n",
    "\n",
    "def predict_mixed_energies(surface, dim_x, dim_y, models):\n",
    "    COOH_down_features     = []\n",
    "    COOH_up_right_features = []\n",
    "    COOH_up_left_features  = []\n",
    "\n",
    "    difs = {\"down\": {\"x\": 0, \"y\": -1}, \"up_right\": {\"x\": 0, \"y\": 0}, \"up_left\": {\"x\": -1, \"y\": 0}}\n",
    "    \n",
    "    # Make features for each site:\n",
    "    for top_site_x, top_site_y in [(top_site_x, top_site_y) for top_site_x in range(dim_x) for top_site_y in range(dim_y)]:\n",
    "\n",
    "        # Down \n",
    "        hol_site_x = top_site_x + difs[\"down\"][\"x\"]\n",
    "        hol_site_y = top_site_y + difs[\"down\"][\"y\"]\n",
    "        COOH_down_features.append(mixed_site_vector(surface[\"atoms\"], hol_site_x, hol_site_y, top_site_x, top_site_y))\n",
    "\n",
    "        # Up right\n",
    "        hol_site_x = top_site_x + difs[\"up_right\"][\"x\"]\n",
    "        hol_site_y = top_site_y + difs[\"up_right\"][\"y\"]\n",
    "        COOH_up_right_features.append(mixed_site_vector(surface[\"atoms\"], hol_site_x, hol_site_y, top_site_x, top_site_y))\n",
    "\n",
    "        # Up left\n",
    "        hol_site_x = top_site_x + difs[\"up_left\"][\"x\"]\n",
    "        hol_site_y = top_site_y + difs[\"up_left\"][\"y\"]\n",
    "        COOH_up_left_features.append(mixed_site_vector(surface[\"atoms\"], hol_site_x, hol_site_y, top_site_x, top_site_y))\n",
    "\n",
    "    # Remove the uneccesary singleton dimension\n",
    "    COOH_down_features     = np.squeeze(COOH_down_features)\n",
    "    COOH_up_right_features = np.squeeze(COOH_up_right_features)\n",
    "    COOH_up_left_features  = np.squeeze(COOH_up_left_features)\n",
    "\n",
    "    # Make the features into a big dataframe\n",
    "    COOH_down_features_df     = pd.DataFrame(COOH_down_features     , columns = [f\"feature{n}\" for n in range(75)]) #does the names have to line up? of the features\n",
    "    COOH_up_right_features_df = pd.DataFrame(COOH_up_right_features , columns = [f\"feature{n}\" for n in range(75)]) #does the names have to line up? of the features\n",
    "    COOH_up_left_features_df  = pd.DataFrame(COOH_up_left_features  , columns = [f\"feature{n}\" for n in range(75)]) #does the names have to line up? of the features\n",
    "\n",
    "    # Turn them into DMatrix\n",
    "    COOH_down_features_DM     = pandas_to_DMatrix(COOH_down_features_df)\n",
    "    COOH_up_right_features_DM = pandas_to_DMatrix(COOH_up_right_features_df)\n",
    "    COOH_up_left_features_DM  = pandas_to_DMatrix(COOH_up_left_features_df)\n",
    "    \n",
    "    # Predict energies in one long straight line\n",
    "    \n",
    "    COOH_down_G = models[\"mixed\"].predict(COOH_down_features_DM)\n",
    "    COOH_up_right_G = models[\"mixed\"].predict(COOH_up_right_features_DM)\n",
    "    COOH_up_left_G = models[\"mixed\"].predict(COOH_up_left_features_DM)\n",
    "\n",
    "    # Make them into a nice matrix shape - in a minute\n",
    "    COOH_down_G = np.reshape(COOH_down_G, (dim_x, dim_y))\n",
    "    COOH_up_right_G = np.reshape(COOH_up_right_G, (dim_x, dim_y))\n",
    "    COOH_up_left_G = np.reshape(COOH_up_left_G, (dim_x, dim_y))\n",
    "    \n",
    "    # Attach the energies to the matrices in the surface dictionary\n",
    "\n",
    "    surface[\"mixed_down\"]     = COOH_down_G\n",
    "    surface[\"mixed_up_right\"] = COOH_up_right_G\n",
    "    surface[\"mixed_up_left\"]  = COOH_up_left_G\n",
    "\n",
    "    surface = calc_given_energies(surface)\n",
    "    return surface"
   ]
  },
  {
   "cell_type": "code",
   "execution_count": 101,
   "metadata": {},
   "outputs": [],
   "source": [
    "def initialize_surface(dim_x, dim_y, metals, split): #Is still random - could be used with a seed in the name of reproduceability\n",
    "    dim_z = 3\n",
    "    \n",
    "    surf_atoms = create_surface(dim_x, dim_y, metals, split)\n",
    "    \n",
    "    # Binding energies\n",
    "    surf_COOH_G = np.reshape([np.nan]*dim_x*dim_y, (dim_x, dim_y))# On-top sites\n",
    "    surf_H_G    = np.reshape([np.nan]*dim_x*dim_y, (dim_x, dim_y))# Hollow sites\n",
    "\n",
    "    # Mixed-site energies\n",
    "    surf_COOH_down     = np.reshape([np.nan]*dim_x*dim_y, (dim_x, dim_y))\n",
    "    surf_COOH_up_right = np.reshape([np.nan]*dim_x*dim_y, (dim_x, dim_y))\n",
    "    surf_COOH_up_left  = np.reshape([np.nan]*dim_x*dim_y, (dim_x, dim_y))\n",
    "    \n",
    "    surf = {\"atoms\": surf_atoms,\\\n",
    "            \"COOH_G\": surf_COOH_G, \"H_G\": surf_H_G, \"mixed_down\": surf_COOH_down, \"mixed_up_right\": surf_COOH_up_right, \"mixed_up_left\": surf_COOH_up_left}\n",
    "    return surf\n",
    "\n",
    "def create_surface(dim_x, dim_y, metals, split):\n",
    "    dim_z = 3\n",
    "    num_atoms = dim_x*dim_y*dim_z\n",
    "    if np.sum(split) != 1.0:\n",
    "        # This split is not weighted properly, I'll fix it\n",
    "        split = split / np.sum(split)\n",
    "    if split == \"Even\":\n",
    "        proba = [1.0 / len(metals) for n in range(len(metals))] \n",
    "        surface = np.random.choice(metals, num_atoms, p=proba)\n",
    "    else:\n",
    "        surface = np.random.choice(metals, num_atoms, p=split)\n",
    "    surface = np.reshape(surface, (dim_x, dim_y, dim_z)) #Reshape list to the\n",
    "    return surface\n",
    "\n",
    "def precompute_binding_energies_TQDM(surface, dim_x, dim_y, models, predict_G_function): #TJEK I think this function can go faster if I make all the data first appended to a list, then to a PD and then \n",
    "    for x, y in tqdm([(x, y) for x in range(dim_x) for y in range(dim_y)], desc = r\"Predicting all ΔG\", leave = False): # I could randomise this, so I go through all sites in a random order\n",
    "        \n",
    "        ads = \"H\"\n",
    "        surface[\"H_G\"][x][y] = predict_G_function(surface[\"atoms\"], x, y, ads, models) ## A new function that wraps/uses the XGBoost model\n",
    "        \n",
    "        ads = \"COOH\"\n",
    "        surface[\"COOH_G\"][x][y] = predict_G_function(surface[\"atoms\"], x, y, ads, models) ## A new function that wraps/uses the XGBoost model\n",
    "\n",
    "    return surface\n",
    "\n",
    "def precompute_binding_energies_SPEED(surface, dim_x, dim_y, models):\n",
    "    H_features    = []\n",
    "    COOH_features = []\n",
    "    #index_pairs   = []\n",
    "\n",
    "    # Make features for each site:\n",
    "    for x, y in [(x, y) for x in range(dim_x) for y in range(dim_y)]:#, desc = r\"Making all feature vectors\", leave = True): # I could randomise this, so I go through all sites in a random order\n",
    "        # Append the features\n",
    "        H_features.append([hollow_site_vector(surface[\"atoms\"], x, y)])\n",
    "        COOH_features.append([on_top_site_vector(surface[\"atoms\"], x, y)])\n",
    "        #index_pairs.append([str(x)+\",\"+str(y)])\n",
    "\n",
    "    # Remove the uneccesary singleton dimension\n",
    "    H_features = np.squeeze(H_features)\n",
    "    COOH_features = np.squeeze(COOH_features)\n",
    "\n",
    "    # Make the features into a big dataframe\n",
    "    H_features_df    = pd.DataFrame(H_features   , columns = [f\"feature{n}\" for n in range(55)])\n",
    "    COOH_features_df = pd.DataFrame(COOH_features, columns = [f\"feature{n}\" for n in range(20)])\n",
    "\n",
    "    # Turn them into DMatrix\n",
    "    H_features_DM    = pandas_to_DMatrix(H_features_df)\n",
    "    COOH_features_DM = pandas_to_DMatrix(COOH_features_df)\n",
    "\n",
    "    # Predict energies in one long straight line\n",
    "    H_G    = models[\"H\"].predict(H_features_DM)\n",
    "    COOH_G = models[\"COOH\"].predict(COOH_features_DM)\n",
    "\n",
    "    # Make them into a nice matrix shape - in a minute\n",
    "    H_G    = np.reshape(H_G   , (dim_x, dim_y))\n",
    "    COOH_G = np.reshape(COOH_G, (dim_x, dim_y))\n",
    "    #index_pairs = np.reshape(index_pairs, (dim_x, dim_y))\n",
    "\n",
    "    # Attach the energies to the matrices in the surface dictionary\n",
    "    surface[\"H_G\"]    = H_G\n",
    "    surface[\"COOH_G\"] = COOH_G\n",
    "    return surface\n",
    "\n",
    "def predict_G(surface, site_x, site_y, adsorbate, models):\n",
    "    if adsorbate == \"H\":\n",
    "        vector_df = pd.DataFrame([hollow_site_vector(surface, site_x, site_y)], columns = [f\"feature{n}\" for n in range(55)])\n",
    "        vector_DM = pandas_to_DMatrix(vector_df)\n",
    "        G = models[\"H\"].predict(vector_DM)[0]\n",
    "        return G\n",
    "    \n",
    "    if adsorbate == \"COOH\":\n",
    "        vector_df = pd.DataFrame([on_top_site_vector(surface, site_x, site_y)], columns = [f\"feature{n}\" for n in range(20)])\n",
    "        vector_DM = pandas_to_DMatrix(vector_df)\n",
    "        G = models[\"COOH\"].predict(vector_DM)[0]\n",
    "        return G\n",
    "    \n",
    "def on_top_site_vector(surface, site_x, site_y): # I should have done modulo to dim_x and dim_y\n",
    "    dim_x, dim_y = np.shape(surface)[0], np.shape(surface)[1]\n",
    "    site1 = [surface[site_x, site_y, 0]]# Make a one-hot encoded vector of the very site here! Add at the beginning \n",
    "    site1_count = [site1.count(metals[n]) for n in range(len(metals))]\n",
    "    \n",
    "    top6 = [surface[site_x % dim_x, (site_y-1) % dim_y, 0], surface[site_x % dim_x, (site_y+1) % dim_y, 0], surface[(site_x-1) % dim_x, site_y % dim_y, 0], surface[(site_x+1) % dim_x, site_y % dim_y, 0], surface[(site_x-1) % dim_x, (site_y+1) % dim_y, 0], surface[(site_x+1) % dim_x, (site_y-1) % dim_y, 0]]\n",
    "    top6_count = [top6.count(metals[n]) for n in range(len(metals))]\n",
    "    \n",
    "    mid3 = [surface[(site_x-1) % dim_x, (site_y-1) % dim_y,1], surface[site_x % dim_x, (site_y-1) % dim_y,1], surface[(site_x-1) % dim_x, site_y % dim_y,1]]\n",
    "    mid3_count = [mid3.count(metals[n]) for n in range(len(metals))]\n",
    "    \n",
    "    bot3 = [surface[(site_x-1) % dim_x, (site_y-1) % dim_y, 2], surface[(site_x-1) % dim_x, (site_y+1) % dim_y, 2], surface[(site_x+1) % dim_x, (site_y-1) % dim_y, 2]]\n",
    "    bot3_count = [bot3.count(metals[n]) for n in range(len(metals))]\n",
    "    \n",
    "    return site1_count + top6_count + mid3_count + bot3_count\n",
    "\n",
    "metals = ['Ag', 'Au', 'Cu', 'Pd', 'Pt']\n",
    "three_metals_combinations = [] #List of possible combinations of the three\n",
    "# Der skal være 35, ikke 125\n",
    "\n",
    "for a in metals:\n",
    "    for b in metals:\n",
    "        for c in metals:\n",
    "            three_metals_combinations.append(''.join(sorted([a, b, c])))\n",
    "            \n",
    "# Remove duplicates\n",
    "three_metals_combinations = list(dict.fromkeys(three_metals_combinations)) # Let's encode it in a better way later\n",
    "\n",
    "def hollow_site_vector(surface, site_x, site_y):\n",
    "    \n",
    "    # First encode the 3 neighbours\n",
    "    blues = [surface[(site_x+1) % dim_x, site_y, 0], surface[site_x, (site_y+1) % dim_y, 0], surface[(site_x+1) % dim_x, (site_y+1) % dim_y, 0]]\n",
    "    blues = \"\".join(sorted(blues))\n",
    "    idx = three_metals_combinations.index(blues)\n",
    "    blues = 35*[0]\n",
    "    blues[idx] = 1\n",
    "    \n",
    "    # Then the next neighbours (green)\n",
    "    greens = [surface[(site_x+2) % dim_x, site_y, 0], surface[site_x, (site_y+2) % dim_y, 0], surface[site_x, site_y, 0]]\n",
    "    greens_count = [greens.count(metals[n]) for n in range(len(metals))]\n",
    "    \n",
    "    # Then the next neighbours (brown) # Kunne gøres smartere med list comprehension og to lister med +- zipped\n",
    "    browns = [surface[(site_x + a) % dim_x, (site_y + b) % dim_y, c] for a, b, c in zip([1, 2, 2, 1, -1, -1], [2, 1, -1, -1, 1, 2], [0, 0, 0, 0, 0, 0])]\n",
    "    browns_count = [browns.count(metals[n]) for n in range(len(metals))]\n",
    "    \n",
    "    # Then the three downstairs neighbours\n",
    "    yellows = [surface[(site_x + a) % dim_x, (site_y + b) % dim_y, c] for a, b, c in zip([0, 1, 0], [0, 0, 1], [1, 1, 1])]\n",
    "    yellows_count = [yellows.count(metals[n]) for n in range(len(metals))]\n",
    "    \n",
    "    # Then the purples downstairs\n",
    "    purples = [surface[(site_x + a) % dim_x, (site_y + b) % dim_y, c] for a, b, c in zip([1, -1, 1], [-1, 1, 1], [1, 1, 1])]\n",
    "    purples_count = [purples.count(metals[n]) for n in range(len(metals))]\n",
    "    \n",
    "    return blues + greens_count + browns_count + yellows_count + purples_count\n",
    "\n",
    "def mixed_site_vector(surface, hol_site_x, hol_site_y, top_site_x, top_site_y):\n",
    "    hol_site_vec = hollow_site_vector(surface, hol_site_x, hol_site_y)\n",
    "    top_site_vec = on_top_site_vector(surface, top_site_x, top_site_y)\n",
    "    mixed_site_vec = np.concatenate([hol_site_vec, top_site_vec])\n",
    "\n",
    "    return mixed_site_vec\n",
    "\n",
    "def pandas_to_DMatrix(df):#, label):\n",
    "    label = pd.DataFrame(np.random.randint(2, size=len(df)))\n",
    "    DMatrix = xgb.DMatrix(df)#, label=label)\n",
    "    return DMatrix"
   ]
  }
 ],
 "metadata": {
  "kernelspec": {
   "display_name": "PUK",
   "language": "python",
   "name": "python3"
  },
  "language_info": {
   "codemirror_mode": {
    "name": "ipython",
    "version": 3
   },
   "file_extension": ".py",
   "mimetype": "text/x-python",
   "name": "python",
   "nbconvert_exporter": "python",
   "pygments_lexer": "ipython3",
   "version": "3.10.8"
  },
  "orig_nbformat": 4
 },
 "nbformat": 4,
 "nbformat_minor": 2
}
