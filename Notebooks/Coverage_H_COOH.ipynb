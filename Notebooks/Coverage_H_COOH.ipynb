{
 "cells": [
  {
   "cell_type": "markdown",
   "id": "91a639c9",
   "metadata": {},
   "source": [
    "# H + COOH Coverage"
   ]
  },
  {
   "cell_type": "markdown",
   "id": "eaafe7a2",
   "metadata": {},
   "source": [
    "#### Imports"
   ]
  },
  {
   "cell_type": "code",
   "execution_count": 2,
   "id": "aab8dc61",
   "metadata": {},
   "outputs": [],
   "source": [
    "import numpy as np\n",
    "import matplotlib.pyplot as plt\n",
    "import xgboost as xgb\n",
    "import csv\n",
    "import time\n",
    "from tqdm import tqdm\n",
    "\n",
    "np.random.seed(1)"
   ]
  },
  {
   "cell_type": "markdown",
   "id": "5774ce71",
   "metadata": {},
   "source": [
    "#### Load energy prediction models"
   ]
  },
  {
   "cell_type": "code",
   "execution_count": 3,
   "id": "000c493f",
   "metadata": {},
   "outputs": [],
   "source": [
    "#### Load models\n",
    "#hollow_site_model = xgb.Booster({'nthread': 8})\n",
    "#hollow_site_model.load_model(\"../models/\"+\"Hollow_site.model\")\n",
    "\n",
    "#on_top_site_model = xgb.Booster({'nthread': 8})\n",
    "#on_top_site_model.load_model(\"../models/\"+\"on_top_site.model\")\n",
    "\n",
    "#models = {\"H\": hollow_site_model, \"COOH\": on_top_site_model}"
   ]
  },
  {
   "cell_type": "markdown",
   "id": "801cfb42",
   "metadata": {},
   "source": [
    "#### Setup"
   ]
  },
  {
   "cell_type": "code",
   "execution_count": 5,
   "id": "7662958e",
   "metadata": {},
   "outputs": [],
   "source": [
    "# Size of the surface\n",
    "dim_x, dim_y = 5, 5\n",
    "\n",
    "# Metals\n",
    "metals = ['Ag', 'Au', 'Cu', 'Pd', 'Pt']\n",
    "site_types = {\"H\": \"ads_hol\", \"COOH\": \"ads_top\"}\n",
    "\n",
    "# Other parameters (Coming)\n",
    "# Voltages\n",
    "start = 0.025\n",
    "end = 0.035\n",
    "scan_rate = 0.005\n",
    "\n",
    "## Define the simulation name for the log file\n",
    "log_folder = \"../Coverage_logs/\"\n",
    "simulation_name = \"test_log_bugsquash\""
   ]
  },
  {
   "cell_type": "markdown",
   "id": "4d7a9020",
   "metadata": {},
   "source": [
    "### Run the simulation\n",
    "#### Seperate H and COOH - Precompute all binding energies "
   ]
  },
  {
   "cell_type": "code",
   "execution_count": 9,
   "id": "c44b05f6",
   "metadata": {
    "scrolled": false
   },
   "outputs": [
    {
     "name": "stderr",
     "output_type": "stream",
     "text": [
      "100%|████████████████████████████████████████████████████████████████████████| 2/2 [00:00<00:00, 926.82it/s]\n"
     ]
    }
   ],
   "source": [
    "## Create the log file with column names\n",
    "column_names = ['Adsorbate', 'Action', 'Gibbs E', 'Border_voltage', 'Voltage', 'Index x', 'Index y', 'site_type', 'Timestamp']\n",
    "create_log_file(log_folder + simulation_name + \".csv\", column_names)\n",
    "\n",
    "## Create the surface with: 'atoms', 'ads_top', 'ads_hol', 'COOH_G', 'H_G', 'COOH_V', 'H_V'\n",
    "surface = initialize_surface(dim_x, dim_y) # Combined with the occupance matrix in a dictionary\n",
    "\n",
    "## Precompute all binding energies\n",
    "models = \"_\" #Put this here, when just using the quick and easy random guesses for G's. Now we can continue on the simulation!\n",
    "surface = precompute_binding_energies(surface, dim_x, dim_y, models, predict_G_TEST)\n",
    "\n",
    "start_time = time.time()\n",
    "\n",
    "## Set a voltage\n",
    "for voltage in tqdm(voltage_sweep(start, end, scan_rate)): # Approximates the desired scan rate\n",
    "    \n",
    "    ## Look through the whole surface, both adsorbates, and ad/desorb as it should and log actions in log file\n",
    "    surface = look_at_all_sites_and_adsorbates(surface, dim_x, dim_y, site_types, voltage) ## I could REMOVE or ADD stuff right here for simplicity. I guess ideally I would add the most negative energy first, but if I just do small steps in voltage it shouldn't matter. I can avoid a huge complication by doing it like this\n",
    "\n",
    "    ## Log stats of the surface # Voltage, n_H, n_COOH, n_neighbours\n",
    "    #statistics_log\n",
    "    "
   ]
  },
  {
   "cell_type": "code",
   "execution_count": null,
   "id": "cedd8c6f",
   "metadata": {},
   "outputs": [],
   "source": [
    "def initialize_statistics_log():\n",
    "    statistics_log = "
   ]
  },
  {
   "cell_type": "markdown",
   "id": "bdd9204f",
   "metadata": {},
   "source": [
    "#### Plot the statistics"
   ]
  },
  {
   "cell_type": "code",
   "execution_count": null,
   "id": "d329266f",
   "metadata": {},
   "outputs": [],
   "source": [
    "# Make a nice plot showing how many neighbours, etc. there are at each voltage"
   ]
  },
  {
   "cell_type": "markdown",
   "id": "97ac29d2",
   "metadata": {},
   "source": [
    "#### Functions (To be moved to seperate .py file)"
   ]
  },
  {
   "cell_type": "code",
   "execution_count": 7,
   "id": "4f2f9440",
   "metadata": {},
   "outputs": [],
   "source": [
    "def initialize_surface(dim_x, dim_y): #Is still random - could be used with a seed in the name of reproduceability\n",
    "    dim_z = 3\n",
    "    surface_list = np.array([int(dim_x*dim_y*dim_z/len(metals))*[metals[metal_number]] for metal_number in range(len(metals))]).flatten() #Jack had a way shorter way of doing this, but I think it was random drawing instead of ensuring a perfectly even split\n",
    "    np.random.shuffle(surface_list) #Shuffle list\n",
    "    surf_atoms = np.reshape(surface_list, (dim_x, dim_y, dim_z)) #Reshape list to the\n",
    "    \n",
    "    # Adsorbates\n",
    "    surf_ads_top = np.reshape([\"empty\"]*dim_x*dim_y, (dim_x, dim_y))\n",
    "    surf_ads_hol = np.reshape([\"empty\"]*dim_x*dim_y, (dim_x, dim_y))\n",
    "    \n",
    "    # Binding energies\n",
    "    surf_COOH_G = np.reshape([np.nan]*dim_x*dim_y, (dim_x, dim_y))# On-top sites\n",
    "    surf_H_G    = np.reshape([np.nan]*dim_x*dim_y, (dim_x, dim_y))# On-top sites# Hollow sites\n",
    "    \n",
    "    # Ad/desorbs at voltage (At which voltage is the binding energy 0?)\n",
    "    surf_COOH_V = np.reshape([np.nan]*dim_x*dim_y, (dim_x, dim_y))# On-top sites\n",
    "    surf_H_V    = np.reshape([np.nan]*dim_x*dim_y, (dim_x, dim_y))# On-top sites# Hollow sites\n",
    "    \n",
    "    surf = {\"atoms\": surf_atoms, \"ads_top\": surf_ads_top, \"ads_hol\": surf_ads_hol, \"COOH_G\": surf_COOH_G, \"H_G\": surf_H_G, \"COOH_V\": surf_COOH_V, \"H_V\": surf_H_V} #This line had a but that took me two days to find... Pass by reference is such a smart feature (y)\n",
    "    return surf\n",
    "\n",
    "def voltage_sweep(start, end, scan_rate):\n",
    "    return np.linspace(start, end, int(np.abs(start - end) / scan_rate))\n",
    "\n",
    "#def voltage_circle\n",
    "#def voltage_up_down (All these could be worked into a single function)\n",
    "\n",
    "def predict_G(ads, site_x, site_y, surface, models):\n",
    "    \"\"\"This function returns the predicted binding energy without taking the voltage into account\"\"\"\n",
    "    # Make vectors from the surface structure\n",
    "    if ads == \"H\":\n",
    "        input_vector = hollow_site_vector(surface[\"atoms\"], site_x, site_y)\n",
    "    if ads == \"COOH\":\n",
    "        input_vector = on_top_site_vector(surface[\"atoms\"], site_x, site_y)\n",
    "    \n",
    "    # Use the gibbs free energy prediction model\n",
    "    G = models[ads].predict(input_vector) #Check out, that this is the way to input\n",
    "\n",
    "    return G\n",
    "\n",
    "def predict_G_TEST(ads, site_x, site_y, surface, models):\n",
    "    if ads == \"H\":\n",
    "        G = np.random.normal(0.25, 0.25) #mean 0.25 eV 1 sigma spread omkring 0.5 eV\n",
    "    if ads == \"COOH\":\n",
    "        G = np.random.normal(1.53, 0.44)\n",
    "    return G\n",
    "\n",
    "def calc_V_border(ads, G):\n",
    "    \"\"\"This function returns the border-voltage, at which the adsorbate adsorbs or desorbs\"\"\"\n",
    "    \n",
    "    if ads == \"H\":\n",
    "        V_border = - G\n",
    "    if ads == \"COOH\":\n",
    "        V_border = G\n",
    "    \n",
    "    return V_border\n",
    "\n",
    "def precompute_binding_energies(surface, dim_x, dim_y, models, predict_G_function):\n",
    "    for x, y in [(x, y) for x in range(dim_x) for y in range(dim_y)]: # I could randomise this, so I go through all sites in a random order\n",
    "        ## What is the binding energy # With more adsorbates in future can be exchanged for a loop through the adsorbates\n",
    "        ads = \"H\"\n",
    "        surface[\"H_G\"][x][y] = predict_G_function(ads = ads, site_x = x, site_y = y, surface = surface, models = models) ## A new function that wraps/uses the XGBoost model\n",
    "        surface[\"H_V\"][x][y] = calc_V_border(ads = ads, G = surface[\"H_G\"][x][y])\n",
    "        \n",
    "    for x, y in [(x, y) for x in range(dim_x) for y in range(dim_y)]:\n",
    "        ads = \"COOH\"\n",
    "        surface[\"COOH_G\"][x][y] = predict_G_function(ads = ads, site_x = x, site_y = y, surface = surface, models = models) ## A new function that wraps/uses the XGBoost model\n",
    "        surface[\"COOH_V\"][x][y] = calc_V_border(ads = ads, G = surface[\"COOH_G\"][x][y])\n",
    "\n",
    "    return surface\n",
    "\n",
    "def count_pairs(surface):\n",
    "    \n",
    "    return pairs\n",
    "\n",
    "def create_log_file(file_name, column_names):\n",
    "    with open(file_name, 'w', newline='') as csvfile:\n",
    "        writer = csv.writer(csvfile)\n",
    "        writer.writerow(column_names)\n",
    "    return None\n",
    "\n",
    "def append_to_log_file(file_name, data):\n",
    "    with open(file_name, 'a', newline='') as csvfile:\n",
    "        writer = csv.writer(csvfile)\n",
    "        writer.writerow(data)\n",
    "    return None\n",
    "\n",
    "def count_statistics(surface, statistics_log): # Should I input and return the statistics log each time or just append to it from inside the function? That's probably the way.\n",
    "    ## Count number of the different adsorbates:\n",
    "    # Count H adsorbates\n",
    "    \n",
    "    # Count COOH adsorbates\n",
    "    \n",
    "    # Make a list of all id-pairs, where we should check for H and COOH\n",
    "    \n",
    "    return None"
   ]
  },
  {
   "cell_type": "markdown",
   "id": "b315c60d",
   "metadata": {},
   "source": [
    "## Rewriting the decision to leave function"
   ]
  },
  {
   "cell_type": "code",
   "execution_count": 8,
   "id": "52f60645",
   "metadata": {},
   "outputs": [],
   "source": [
    "#def decision_to_leave(voltage, dim_x, dim_y, surface):\n",
    "#    \"\"\"This function looks through all sites and both adsorbates and determines, based on the precomputed binding energies and border voltages\n",
    "#       The function also adsorbs and desorbs or does nothing, whichever is appropriate, and returns the surface.\n",
    "#       When an adsorbate is adsorbed or desorbed, a line is written to a log file. This is done in order to make debugging possible later, if needed\"\"\"\n",
    "#    \n",
    "#    ## Look through all sites (not bridge sites yet) by index\n",
    "#    for site_x, site_y in [(x, y) for x in range(dim_x) for y in range(dim_y)]:\n",
    "#        \n",
    "#        ## Look at both adsorbates\n",
    "#        for ads in [\"H\", \"COOH\"]: #These 5 lines could actually be done in 1 line (with zip), but this is more readable\n",
    "#            if ads == \"H\":\n",
    "#                site_type = \"ads_hol\"\n",
    "#                \n",
    "#                # Is something supposed to be there?\n",
    "#                V_border = surface[\"H_V\"][site_x][site_y]\n",
    "#                supposed_to  = voltage < V_border\n",
    "#                \n",
    "#                ## Is the adsorbant there?\n",
    "#                is_ads_there = surface[site_type][site_x][site_y] != \"empty\"\n",
    "#                \n",
    "#                ## There are two instances, where something should be changed:\n",
    "#                \n",
    "#                # 1) An adsorbate is not there, but it is supposed to!\n",
    "#                \n",
    "#                if (is_ads_there == False) and (supposed_to == True):\n",
    "#                \n",
    "#                    # Adsorb the adsorbates\n",
    "#                    surface[site_type][site_x][site_y] = ads\n",
    "#                    ## Write to log:\n",
    "#                    # column_names = ['Adsorbate', 'Action',    'Gibbs E',                          'Border_voltage',                 'Voltage','Index x', 'Index y', 'site_type' 'Timestamp']\n",
    "#                    data =           [ads,         \"adsorption\", surface[ads+\"_G\"][site_x, site_y], surface[ads+\"_V\"][site_x, site_y], voltage,  site_x,    site_y,    site_type,  time.time() - start_time]\n",
    "#                    append_to_log_file(log_folder + simulation_name + \".csv\", data)\n",
    "#                \n",
    "#                # 2) An adsorbate is there, and it is not supposed to!\n",
    "#                \n",
    "#                if (is_ads_there == True) and (supposed_to == False):\n",
    "#                    # Desorb the adsorbates\n",
    "#                    surface[site_type][site_x][site_y] = \"empty\"\n",
    "#                    # Write to log:\n",
    "#                     # column_names = ['Adsorbate', 'Action',    'Gibbs E',                          'Border_voltage',                 'Voltage','Index x', 'Index y', 'site_type' 'Timestamp']\n",
    "#                    data =           [ads,         \"desorption\", surface[ads+\"_G\"][site_x, site_y], surface[ads+\"_V\"][site_x, site_y], voltage,  site_x,    site_y,     site_type,  time.time() - start_time]\n",
    "#                    append_to_log_file(log_folder + simulation_name + \".csv\", data)\n",
    "#                \n",
    "#            if ads == \"COOH\":\n",
    "#                site_type = \"ads_top\"\n",
    "#                \n",
    "#                # Is something supposed to be there?\n",
    "#                V_border = surface[\"COOH_V\"][site_x][site_y]\n",
    "#                supposed_to  = voltage > V_border\n",
    "#                \n",
    "#                ## Is the adsorbant there?\n",
    "#                is_ads_there = surface[site_type][site_x][site_y] != \"empty\"\n",
    "#                ## There are two instances, where something should be changed:\n",
    "#                \n",
    "#                # 1) An adsorbate is not there, but it is supposed to!\n",
    "#                \n",
    "#                if (is_ads_there == False) and (supposed_to == True):\n",
    "#                \n",
    "#                    # Adsorb the adsorbates\n",
    "#                    surface[site_type][site_x][site_y] = ads\n",
    "#                    ## Write to log:\n",
    "#                    # column_names = ['Adsorbate', 'Action',    'Gibbs E',                          'Border_voltage',                 'Voltage','Index x', 'Index y', 'site_type' 'Timestamp']\n",
    "#                    data =           [ads,         \"adsorption\", surface[ads+\"_G\"][site_x, site_y], surface[ads+\"_V\"][site_x, site_y], voltage,  site_x,    site_y,    site_type,  time.time() - start_time]\n",
    "#                    append_to_log_file(log_folder + simulation_name + \".csv\", data)\n",
    "#                \n",
    "#                # 2) An adsorbate is there, and it is not supposed to!\n",
    "#                \n",
    "#                if (is_ads_there == True) and (supposed_to == False):\n",
    "#                    # Desorb the adsorbates\n",
    "#                    surface[site_type][site_x][site_y] = \"empty\"\n",
    "#                    # Write to log:\n",
    "#                     # column_names = ['Adsorbate', 'Action',    'Gibbs E',                          'Border_voltage',                 'Voltage','Index x', 'Index y', 'site_type' 'Timestamp']\n",
    "#                    data =           [ads,         \"desorption\", surface[ads+\"_G\"][site_x, site_y], surface[ads+\"_V\"][site_x, site_y], voltage,  site_x,    site_y,     site_type,  time.time() - start_time]\n",
    "#                    append_to_log_file(log_folder + simulation_name + \".csv\", data)\n",
    "#    \n",
    "#    return surface\n",
    "\n",
    "#################################### Here starts the new smaller functions #####################################\n",
    "\n",
    "def look_at_all_sites_and_adsorbates(surface, dim_x, dim_y, site_types, voltage):\n",
    "    \n",
    "    ## Look through all sites (not bridge sites yet) by index\n",
    "    for site_x, site_y in [(x, y) for x in range(dim_x) for y in range(dim_y)]:\n",
    "        \n",
    "        ## Look through all adsorbates and their respective adsorption sites\n",
    "        for ads, site_type in [(ads, site_types[ads]) for ads in [\"H\", \"COOH\"]]:\n",
    "            #print(site_x, site_y, ads, site_type)\n",
    "            \n",
    "            # Make the decision to adsorb/desorb or do nothing with this function:\n",
    "            surface = decision_to_leave(surface, site_x, site_y, ads, site_type, voltage)\n",
    "    \n",
    "    return surface\n",
    "\n",
    "def decision_to_leave(surface, site_x, site_y, ads, site_type, voltage):\n",
    "    ## Figure out if anything should be ad or desorbed\n",
    "    \n",
    "    # Is the adsorbate sitting at the site already?\n",
    "    contents_of_site = surface[site_type][site_x][site_y]\n",
    "    is_ads_there = contents_of_site != \"empty\"\n",
    "    \n",
    "    # Should the adsorbate be there? #tested, seems to work\n",
    "    V_border = surface[ads+\"_V\"][site_x][site_y]\n",
    "    supposed_to = voltage > V_border\n",
    "    \n",
    "    if (is_ads_there == False) and (supposed_to == True):\n",
    "        # Adsorb\n",
    "        surface[site_type][site_x][site_y] = ads\n",
    "        \n",
    "        # Save line to log file\n",
    "        append_to_log_file(log_folder + simulation_name + \".csv\", [ads, \"adsorb\", surface[ads+\"_G\"][site_x, site_y], surface[ads+\"_V\"][site_x, site_y], voltage, site_x, site_y, site_type, time.time() - start_time])\n",
    "        \n",
    "    if (is_ads_there == True) and (supposed_to == False):\n",
    "        # Desorb\n",
    "        surface[site_type][site_x][site_y] = \"empty\"\n",
    "        \n",
    "        # Save line to log file\n",
    "        append_to_log_file(log_folder + simulation_name + \".csv\", [ads, \"desorption\", surface[ads+\"_G\"][site_x, site_y], surface[ads+\"_V\"][site_x, site_y], voltage, site_x, site_y, site_type, time.time() - start_time])\n",
    "    return surface"
   ]
  },
  {
   "cell_type": "code",
   "execution_count": 24,
   "id": "ddcfdf5d",
   "metadata": {},
   "outputs": [
    {
     "name": "stdout",
     "output_type": "stream",
     "text": [
      "0 0 H ads_hol\n",
      "0 0 COOH ads_top\n",
      "0 1 H ads_hol\n",
      "0 1 COOH ads_top\n",
      "0 2 H ads_hol\n",
      "0 2 COOH ads_top\n",
      "0 3 H ads_hol\n",
      "0 3 COOH ads_top\n",
      "0 4 H ads_hol\n",
      "0 4 COOH ads_top\n",
      "1 0 H ads_hol\n",
      "1 0 COOH ads_top\n",
      "1 1 H ads_hol\n",
      "1 1 COOH ads_top\n",
      "1 2 H ads_hol\n",
      "1 2 COOH ads_top\n",
      "1 3 H ads_hol\n",
      "1 3 COOH ads_top\n",
      "1 4 H ads_hol\n",
      "1 4 COOH ads_top\n",
      "2 0 H ads_hol\n",
      "2 0 COOH ads_top\n",
      "2 1 H ads_hol\n",
      "2 1 COOH ads_top\n",
      "2 2 H ads_hol\n",
      "2 2 COOH ads_top\n",
      "2 3 H ads_hol\n",
      "2 3 COOH ads_top\n",
      "2 4 H ads_hol\n",
      "2 4 COOH ads_top\n",
      "3 0 H ads_hol\n",
      "3 0 COOH ads_top\n",
      "3 1 H ads_hol\n",
      "3 1 COOH ads_top\n",
      "3 2 H ads_hol\n",
      "3 2 COOH ads_top\n",
      "3 3 H ads_hol\n",
      "3 3 COOH ads_top\n",
      "3 4 H ads_hol\n",
      "3 4 COOH ads_top\n",
      "4 0 H ads_hol\n",
      "4 0 COOH ads_top\n",
      "4 1 H ads_hol\n",
      "4 1 COOH ads_top\n",
      "4 2 H ads_hol\n",
      "4 2 COOH ads_top\n",
      "4 3 H ads_hol\n",
      "4 3 COOH ads_top\n",
      "4 4 H ads_hol\n",
      "4 4 COOH ads_top\n"
     ]
    }
   ],
   "source": [
    "## Look through all sites (not bridge sites yet) by index\n",
    "for site_x, site_y in [(x, y) for x in range(dim_x) for y in range(dim_y)]:\n",
    "    \n",
    "    ## Look through all adsorbates and their respective adsorption sites\n",
    "    for ads, site_type in [(ads, site_types[ads]) for ads in [\"H\", \"COOH\"]]:\n",
    "        print(site_x, site_y, ads, site_type)"
   ]
  },
  {
   "cell_type": "code",
   "execution_count": 11,
   "id": "5916dece",
   "metadata": {},
   "outputs": [
    {
     "ename": "NameError",
     "evalue": "name 'surface' is not defined",
     "output_type": "error",
     "traceback": [
      "\u001b[0;31m---------------------------------------------------------------------------\u001b[0m",
      "\u001b[0;31mNameError\u001b[0m                                 Traceback (most recent call last)",
      "Cell \u001b[0;32mIn [11], line 1\u001b[0m\n\u001b[0;32m----> 1\u001b[0m \u001b[43msurface\u001b[49m[\u001b[38;5;124m\"\u001b[39m\u001b[38;5;124mads_top\u001b[39m\u001b[38;5;124m\"\u001b[39m][\u001b[38;5;241m2\u001b[39m][\u001b[38;5;241m3\u001b[39m] \u001b[38;5;241m=\u001b[39m \u001b[38;5;124m\"\u001b[39m\u001b[38;5;124mempty\u001b[39m\u001b[38;5;124m\"\u001b[39m\n\u001b[1;32m      2\u001b[0m contents_of_site \u001b[38;5;241m=\u001b[39m surface[\u001b[38;5;124m\"\u001b[39m\u001b[38;5;124mads_top\u001b[39m\u001b[38;5;124m\"\u001b[39m][\u001b[38;5;241m2\u001b[39m][\u001b[38;5;241m3\u001b[39m]\n\u001b[1;32m      3\u001b[0m is_ads_there \u001b[38;5;241m=\u001b[39m contents_of_site \u001b[38;5;241m!=\u001b[39m \u001b[38;5;124m\"\u001b[39m\u001b[38;5;124mempty\u001b[39m\u001b[38;5;124m\"\u001b[39m\n",
      "\u001b[0;31mNameError\u001b[0m: name 'surface' is not defined"
     ]
    }
   ],
   "source": [
    "surface[\"ads_top\"][2][3] = \"empty\"\n",
    "contents_of_site = surface[\"ads_top\"][2][3]\n",
    "is_ads_there = contents_of_site != \"empty\"\n",
    "print(\"is_ads_there:\", is_ads_there)\n",
    "\n",
    "# Should the adsorbate be there?\n",
    "V_border = surface[\"COOH_V\"][2][3]\n",
    "supposed_to = 1.5 > V_border\n",
    "print(\"supposed_to:\", supposed_to)\n",
    "\n",
    "if (is_ads_there == False) and (supposed_to == True):\n",
    "    print(\"let's adsorb\")\n",
    "        #ADSORB"
   ]
  },
  {
   "cell_type": "code",
   "execution_count": 47,
   "id": "885fc879",
   "metadata": {},
   "outputs": [
    {
     "name": "stdout",
     "output_type": "stream",
     "text": [
      "is_ads_there: False\n",
      "supposed_to: False\n"
     ]
    }
   ],
   "source": [
    "surface[\"ads_top\"][2][3] = \"empty\"\n",
    "contents_of_site = surface[\"ads_top\"][2][3]\n",
    "is_ads_there = contents_of_site != \"empty\"\n",
    "print(\"is_ads_there:\", is_ads_there)\n",
    "\n",
    "# Should the adsorbate be there?\n",
    "V_border = surface[\"COOH_V\"][2][3]\n",
    "supposed_to = 1.1 > V_border\n",
    "print(\"supposed_to:\", supposed_to)\n",
    "\n",
    "if (is_ads_there == True) and (supposed_to == False):\n",
    "    print(\"let's desorb\")\n",
    "        #ADSORB"
   ]
  },
  {
   "cell_type": "code",
   "execution_count": 40,
   "id": "0bdc3e9d",
   "metadata": {},
   "outputs": [
    {
     "data": {
      "text/plain": [
       "1.2455439482150428"
      ]
     },
     "execution_count": 40,
     "metadata": {},
     "output_type": "execute_result"
    }
   ],
   "source": [
    "surface[\"COOH_V\"][2][3]"
   ]
  },
  {
   "cell_type": "code",
   "execution_count": 17,
   "id": "c693bb32",
   "metadata": {},
   "outputs": [
    {
     "name": "stdout",
     "output_type": "stream",
     "text": [
      "Den bliver væk\n"
     ]
    }
   ],
   "source": [
    "ads = \"COOH\"\n",
    "site_type = \"ads_top\"\n",
    "site_x, site_y = 0, 0\n",
    "# Is something supposed to be there?\n",
    "V_border = surface[\"COOH_V\"][site_x][site_y]\n",
    "supposed_to  = voltage > V_border\n",
    "\n",
    "## Is the adsorbant there?\n",
    "is_ads_there = surface[site_type][site_x][site_y] != \"empty\"\n",
    "\n",
    "## There are two instances, where something should be changed:\n",
    "\n",
    "# 1) An adsorbate is not there, but it is supposed to!\n",
    "\n",
    "if (is_ads_there == False) and (supposed_to == True):\n",
    "    print(\"Vi tilføjer\")\n",
    "\n",
    "# 2) An adsorbate is there, and it is not supposed to!\n",
    "\n",
    "if (is_ads_there == True) and (supposed_to == False):\n",
    "    print(\"Vi fjerner\")\n",
    "    \n",
    "if (is_ads_there == True) and (supposed_to == True):\n",
    "    print(\"Den bliver på\")\n",
    "    \n",
    "if (is_ads_there == False) and (supposed_to == False):\n",
    "    print(\"Den bliver væk\")"
   ]
  },
  {
   "cell_type": "code",
   "execution_count": 20,
   "id": "b517ee54",
   "metadata": {},
   "outputs": [
    {
     "data": {
      "text/plain": [
       "{'empty': 100}"
      ]
     },
     "execution_count": 20,
     "metadata": {},
     "output_type": "execute_result"
    }
   ],
   "source": [
    "def count_elements(arr):\n",
    "    unique_elements, counts = np.unique(arr, return_counts=True)\n",
    "    counts_dict = dict(zip(unique_elements, counts))\n",
    "    return counts_dict\n",
    "\n",
    "count_elements(surface[\"ads_top\"])"
   ]
  },
  {
   "cell_type": "markdown",
   "id": "d776aa3e",
   "metadata": {},
   "source": [
    "### Debugging the coverage simulation:\n",
    "- SO: H actually does get adsorbed onto \"ads_top\" sites, even though the function decision to leave never even gets ads = \"H\" and site_type = \"ads_top\" at the same time\n",
    "\n",
    "- Figure out why H gets adsorbed onto \n",
    "\n",
    "\n",
    "\n",
    "I'll make the structure like this:\n",
    "\n",
    "An outer function that goes through all sites and for each site both [H, ads_hol] and [COOH, ads_top] # DONE\n",
    "\n",
    "An inner function, that makes decisions # DONE\n",
    "\n",
    "A function, that does the logging # Already made\n",
    "\n",
    "A function, that accepts a decision and actually adds or removes adsorbates. # Simply done in the preprevious function\n",
    "\n",
    "This way I can actually test them one at a time"
   ]
  },
  {
   "cell_type": "markdown",
   "id": "d51945ff",
   "metadata": {},
   "source": [
    "#### Just quickly checking how the energies look"
   ]
  },
  {
   "cell_type": "code",
   "execution_count": 30,
   "id": "ac92ccfd",
   "metadata": {},
   "outputs": [
    {
     "name": "stdout",
     "output_type": "stream",
     "text": [
      "Mean: 1.5326902202380952\n",
      "Spread (Standard Deviation): 0.4410240645509031\n"
     ]
    }
   ],
   "source": [
    "import csv\n",
    "import statistics\n",
    "\n",
    "# Specify the file path and name\n",
    "csv_file = '../csv_features/COOH_features.csv'\n",
    "\n",
    "# Specify the target column header\n",
    "target_column = \"G_ads (eV)\"\n",
    "\n",
    "# Open the .csv file and read its contents using list comprehension\n",
    "with open(csv_file, 'r') as file:\n",
    "    # Create a CSV reader object\n",
    "    reader = csv.DictReader(file)\n",
    "    \n",
    "    # Extract the values of the target column using list comprehension\n",
    "    target_values = [float(row[target_column]) for row in reader]\n",
    "\n",
    "# Calculate the mean and spread (standard deviation) of the target values\n",
    "mean = statistics.mean(target_values)\n",
    "spread = statistics.stdev(target_values)\n",
    "\n",
    "# Print the mean and spread\n",
    "print(\"Mean:\", mean)\n",
    "print(\"Spread (Standard Deviation):\", spread)"
   ]
  },
  {
   "cell_type": "code",
   "execution_count": 28,
   "id": "cbfca984",
   "metadata": {},
   "outputs": [],
   "source": [
    "import csv\n",
    "\n",
    "# Specify the file path and name\n",
    "csv_file = '../csv_features/COOH_features.csv'\n",
    "\n",
    "# Open the .csv file and read its contents\n",
    "with open(csv_file, 'r') as file:\n",
    "    # Create a CSV reader object\n",
    "    reader = csv.DictReader(file)\n",
    "    \n",
    "    # Extract the header names\n",
    "    header_names = reader.fieldnames\n",
    "\n",
    "# Now you have the header names in the header_names list\n"
   ]
  },
  {
   "cell_type": "code",
   "execution_count": 29,
   "id": "98d229b1",
   "metadata": {},
   "outputs": [
    {
     "data": {
      "text/plain": [
       "['feature0',\n",
       " 'feature1',\n",
       " 'feature2',\n",
       " 'feature3',\n",
       " 'feature4',\n",
       " 'feature5',\n",
       " 'feature6',\n",
       " 'feature7',\n",
       " 'feature8',\n",
       " 'feature9',\n",
       " 'feature10',\n",
       " 'feature11',\n",
       " 'feature12',\n",
       " 'feature13',\n",
       " 'feature14',\n",
       " 'feature15',\n",
       " 'feature16',\n",
       " 'feature17',\n",
       " 'feature18',\n",
       " 'feature19',\n",
       " 'G_ads(eV)',\n",
       " 'slab db row',\n",
       " 'COOH_C_adsorbed_out.dbrow']"
      ]
     },
     "execution_count": 29,
     "metadata": {},
     "output_type": "execute_result"
    }
   ],
   "source": [
    "header_names"
   ]
  },
  {
   "cell_type": "markdown",
   "id": "ab825743",
   "metadata": {},
   "source": [
    "#### Logik\n",
    "\n",
    "Oh shit, kunne man ikke bare predicte alle energier én gang? Det er simpelt i den model, hvor ingen nabointeraktioner tages med. Der skal også komme en model, som tager højde for H og COOH ved siden af hinanden. Men der kunne alle sites og så vinkel i alle retninger gemmes i et look-up table. Så predicter man først alle energier én gang, og så har man bare gemt en matrix med de spændinger, som ville få et adsorbat til at hoppe på/af.\n",
    "\n",
    "Måske gem alle.\n",
    "\n",
    "I surface dict kan jeg bare gemme ekstra lag, som hedder H_G, H_Voltage (hvor hvis voltage er UNDER hopper den på) og samme med COOH_G og COOH_Voltage (Hvor hvis voltage er OVER hopper den på) Så kan alt det preprocessing laves inden man \"kører simulationen\", som så bliver utroligt simpelt. Oh shit et speedup det kan blive til.\n",
    "\n",
    "Hvad er logikken når man sætter en *H ved siden af en *COOH eller en *COOH ved siden af en *H?\n",
    "Skal man for hver H der allerede sidder se, om der gerne vil sætte sig en COOH ved siden af, med den model der tager højde for begge?\n",
    "ELLER\n",
    "Skal sitet til en COOH ved siden af en *H som allerede sidder der først være favorabelt for en COOH, og så tjekker man med *H+*COOH-modellen om det er favorabelt, når man tager højde for nabointeraktion gennem modellen?"
   ]
  }
 ],
 "metadata": {
  "kernelspec": {
   "display_name": "Python 3 (ipykernel)",
   "language": "python",
   "name": "python3"
  },
  "language_info": {
   "codemirror_mode": {
    "name": "ipython",
    "version": 3
   },
   "file_extension": ".py",
   "mimetype": "text/x-python",
   "name": "python",
   "nbconvert_exporter": "python",
   "pygments_lexer": "ipython3",
   "version": "3.10.8"
  }
 },
 "nbformat": 4,
 "nbformat_minor": 5
}
