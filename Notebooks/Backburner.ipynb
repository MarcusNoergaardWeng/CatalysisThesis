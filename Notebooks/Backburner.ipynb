{
 "cells": [
  {
   "cell_type": "code",
   "execution_count": 18,
   "metadata": {},
   "outputs": [
    {
     "data": {
      "application/vnd.jupyter.widget-view+json": {
       "model_id": "3ccfe012b88047acb1df43f37c4f3496",
       "version_major": 2,
       "version_minor": 0
      },
      "text/plain": [
       "  0%|          | 0/10626 [00:00<?, ?it/s]"
      ]
     },
     "metadata": {},
     "output_type": "display_data"
    }
   ],
   "source": [
    "import warnings\n",
    "warnings.simplefilter(action='ignore', category=FutureWarning)\n",
    "\n",
    "import sys\n",
    "sys.path.append('../scripts')\n",
    "from functions import *\n",
    "\n",
    "from tqdm.notebook import tqdm\n",
    "\n",
    "molar_fractions_005 = get_molar_fractions(0.05, 5)\n",
    "\n",
    "active_list_list = []\n",
    "inactive_list_list = []\n",
    "blocked_list_list = []\n",
    "\n",
    "molar_fractions = molar_fractions_005\n",
    "Vmin, Vmax, n_points = 0.1, 0.4, 13\n",
    "\n",
    "for stoichiometry in tqdm(molar_fractions):\n",
    "    \n",
    "    HEA_surface = initialize_surface(dim_x, dim_y, metals, stoichiometry)\n",
    "    \n",
    "    # Predict energies on all sites for both adsorbates + mixed_sites\n",
    "    HEA_surface = precompute_binding_energies_SPEED2(HEA_surface, dim_x, dim_y, models)\n",
    "    \n",
    "    # Calculate\n",
    "    potential_range, active_list, inactive_list, blocked_list = counting_activity_scan(HEA_surface, Vmin, Vmax, n_points)\n",
    "    active_list_list.append(active_list)\n",
    "    inactive_list_list.append(inactive_list)\n",
    "    blocked_list_list.append(blocked_list)"
   ]
  },
  {
   "cell_type": "code",
   "execution_count": null,
   "metadata": {},
   "outputs": [],
   "source": [
    "column_names = metals + [\"Active\", \"Inactive\", \"Blocked\"]\n",
    "Ag_content = molar_fractions_005.T[0]\n",
    "Au_content = molar_fractions_005.T[1]\n",
    "Cu_content = molar_fractions_005.T[2]\n",
    "Pd_content = molar_fractions_005.T[3]\n",
    "Pt_content = molar_fractions_005.T[4]\n",
    "\n",
    "for n, eU_string in enumerate([str(eU) for eU in np.linspace(0.0, 1.0, 11)]):\n",
    "    write_to_csv(\"../Counting_Activity/All_Fracs005_eU\"+eU_string+\".csv\", column_names, Ag_content, Au_content, Cu_content, Pd_content, Pt_content, np.array(active_list_list).T[n], np.array(inactive_list_list).T[n], np.array(blocked_list_list).T[n])"
   ]
  },
  {
   "cell_type": "code",
   "execution_count": 17,
   "metadata": {},
   "outputs": [
    {
     "data": {
      "text/plain": [
       "array([0.1  , 0.125, 0.15 , 0.175, 0.2  , 0.225, 0.25 , 0.275, 0.3  ,\n",
       "       0.325, 0.35 , 0.375, 0.4  ])"
      ]
     },
     "execution_count": 17,
     "metadata": {},
     "output_type": "execute_result"
    }
   ],
   "source": [
    "Vmin, Vmax, n_points = 0.1, 0.4, 13\n",
    "np.linspace(Vmin, Vmax, n_points)"
   ]
  },
  {
   "cell_type": "code",
   "execution_count": 13,
   "metadata": {},
   "outputs": [
    {
     "data": {
      "text/plain": [
       "10"
      ]
     },
     "execution_count": 13,
     "metadata": {},
     "output_type": "execute_result"
    }
   ],
   "source": [
    "3*3+1"
   ]
  }
 ],
 "metadata": {
  "kernelspec": {
   "display_name": "PUK",
   "language": "python",
   "name": "python3"
  },
  "language_info": {
   "codemirror_mode": {
    "name": "ipython",
    "version": 3
   },
   "file_extension": ".py",
   "mimetype": "text/x-python",
   "name": "python",
   "nbconvert_exporter": "python",
   "pygments_lexer": "ipython3",
   "version": "3.10.8"
  },
  "orig_nbformat": 4
 },
 "nbformat": 4,
 "nbformat_minor": 2
}
