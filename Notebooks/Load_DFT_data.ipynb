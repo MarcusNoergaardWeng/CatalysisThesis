{
 "cells": [
  {
   "cell_type": "markdown",
   "id": "0c3acb91",
   "metadata": {},
   "source": [
    "# Load DFT data into a more manageable format"
   ]
  },
  {
   "cell_type": "markdown",
   "id": "f3d87318",
   "metadata": {},
   "source": [
    "#### Import packages"
   ]
  },
  {
   "cell_type": "code",
   "execution_count": 1,
   "id": "95f84e3e",
   "metadata": {},
   "outputs": [],
   "source": [
    "import pandas as pd\n",
    "import numpy as np\n",
    "import matplotlib.pyplot as plt\n",
    "import ase\n",
    "from ase.db import connect\n",
    "import sys\n",
    "import os"
   ]
  },
  {
   "cell_type": "code",
   "execution_count": 2,
   "id": "2501f4aa",
   "metadata": {},
   "outputs": [],
   "source": [
    "# Attach Jacks formic acid data\n",
    "formic_acid_data_path = \"../Experiments/AgAuCuPdPt_data/1_databases/relaxed/\"\n",
    "#sys.path.append()"
   ]
  },
  {
   "cell_type": "code",
   "execution_count": 3,
   "id": "6138f416",
   "metadata": {},
   "outputs": [
    {
     "data": {
      "text/plain": [
       "['single_element_H_out.db',\n",
       " 'HCOOH_O_adsorbed_out.db',\n",
       " 'H_out.db',\n",
       " '.DS_Store',\n",
       " 'COOH_H_on_O_OO_adsorbed_out.db',\n",
       " 'single_element_COOH_COH_adsorbed_out.db',\n",
       " 'COOH_O_adsorbed_out.db',\n",
       " 'CO_out.db',\n",
       " 'single_element_COOH_H_CO_adsorbed_out.db',\n",
       " 'single_element_COOH_C_adsorbed_out.db',\n",
       " 'single_element_COOH_CO_adsorbed_out.db',\n",
       " 'single_element_CO_out.db',\n",
       " 'split_databases.py',\n",
       " 'single_elements_COOH_CO_adsorbed_out.db',\n",
       " 'molecules_out.db',\n",
       " 'single_element_COOH_H_on_O_OO_adsorbed_out.db',\n",
       " 'single_element_slabs_out.db',\n",
       " 'single_elements_COOH_COH_adsorbed_out.db',\n",
       " 'single_element_COOH_H_CO_and_H2O_like_out.db',\n",
       " 'single_element_HCOOH_O_adsorbed_out.db',\n",
       " 'slabs_out.db',\n",
       " 'single_element_COOH_O_adsorbed_out.db',\n",
       " 'single_element_COOH_H_COH_adsorbed_out.db',\n",
       " 'COOH_CO_adsorbed_out.db',\n",
       " 'COOH_H_on_C_OO_adsorbed_out.db',\n",
       " 'COOH_C_adsorbed_out.db',\n",
       " 'COOH_COH_adsorbed_out.db']"
      ]
     },
     "execution_count": 3,
     "metadata": {},
     "output_type": "execute_result"
    }
   ],
   "source": [
    "os.listdir(formic_acid_data_path)"
   ]
  },
  {
   "cell_type": "markdown",
   "id": "1de4a6bf",
   "metadata": {},
   "source": [
    "### Sort through data"
   ]
  },
  {
   "cell_type": "code",
   "execution_count": 4,
   "id": "890f0cba",
   "metadata": {},
   "outputs": [],
   "source": [
    "single_element_dbs = []\n",
    "HEA_dbs = []\n",
    "\n",
    "for filename in os.listdir(formic_acid_data_path):\n",
    "    if filename[-3:] == \".db\":\n",
    "        if filename[0:14] == \"single_element\":\n",
    "            single_element_dbs.append(filename)\n",
    "        if filename[0] == \"H\" or filename[0] == \"C\":\n",
    "            HEA_dbs.append(filename)"
   ]
  },
  {
   "cell_type": "code",
   "execution_count": 5,
   "id": "0aca15e8",
   "metadata": {},
   "outputs": [
    {
     "data": {
      "text/plain": [
       "['single_element_H_out.db',\n",
       " 'HCOOH_O_adsorbed_out.db',\n",
       " 'H_out.db',\n",
       " '.DS_Store',\n",
       " 'COOH_H_on_O_OO_adsorbed_out.db',\n",
       " 'single_element_COOH_COH_adsorbed_out.db',\n",
       " 'COOH_O_adsorbed_out.db',\n",
       " 'CO_out.db',\n",
       " 'single_element_COOH_H_CO_adsorbed_out.db',\n",
       " 'single_element_COOH_C_adsorbed_out.db',\n",
       " 'single_element_COOH_CO_adsorbed_out.db',\n",
       " 'single_element_CO_out.db',\n",
       " 'split_databases.py',\n",
       " 'single_elements_COOH_CO_adsorbed_out.db',\n",
       " 'molecules_out.db',\n",
       " 'single_element_COOH_H_on_O_OO_adsorbed_out.db',\n",
       " 'single_element_slabs_out.db',\n",
       " 'single_elements_COOH_COH_adsorbed_out.db',\n",
       " 'single_element_COOH_H_CO_and_H2O_like_out.db',\n",
       " 'single_element_HCOOH_O_adsorbed_out.db',\n",
       " 'slabs_out.db',\n",
       " 'single_element_COOH_O_adsorbed_out.db',\n",
       " 'single_element_COOH_H_COH_adsorbed_out.db',\n",
       " 'COOH_CO_adsorbed_out.db',\n",
       " 'COOH_H_on_C_OO_adsorbed_out.db',\n",
       " 'COOH_C_adsorbed_out.db',\n",
       " 'COOH_COH_adsorbed_out.db']"
      ]
     },
     "execution_count": 5,
     "metadata": {},
     "output_type": "execute_result"
    }
   ],
   "source": [
    "os.listdir(formic_acid_data_path)"
   ]
  },
  {
   "cell_type": "code",
   "execution_count": 6,
   "id": "6f12a33c",
   "metadata": {},
   "outputs": [
    {
     "name": "stdout",
     "output_type": "stream",
     "text": [
      "Single element: \n",
      "['single_element_H_out.db', 'single_element_COOH_COH_adsorbed_out.db', 'single_element_COOH_H_CO_adsorbed_out.db', 'single_element_COOH_C_adsorbed_out.db', 'single_element_COOH_CO_adsorbed_out.db', 'single_element_CO_out.db', 'single_elements_COOH_CO_adsorbed_out.db', 'single_element_COOH_H_on_O_OO_adsorbed_out.db', 'single_element_slabs_out.db', 'single_elements_COOH_COH_adsorbed_out.db', 'single_element_COOH_H_CO_and_H2O_like_out.db', 'single_element_HCOOH_O_adsorbed_out.db', 'single_element_COOH_O_adsorbed_out.db', 'single_element_COOH_H_COH_adsorbed_out.db']\n",
      "\n",
      "HEA: \n",
      "['HCOOH_O_adsorbed_out.db', 'H_out.db', 'COOH_H_on_O_OO_adsorbed_out.db', 'COOH_O_adsorbed_out.db', 'CO_out.db', 'COOH_CO_adsorbed_out.db', 'COOH_H_on_C_OO_adsorbed_out.db', 'COOH_C_adsorbed_out.db', 'COOH_COH_adsorbed_out.db']\n"
     ]
    }
   ],
   "source": [
    "print(f\"Single element: \\n{single_element_dbs}\\n\")\n",
    "print(f\"HEA: \\n{HEA_dbs}\")"
   ]
  },
  {
   "cell_type": "markdown",
   "id": "ff0e224b",
   "metadata": {},
   "source": [
    "### Extract energy"
   ]
  },
  {
   "cell_type": "code",
   "execution_count": 7,
   "id": "83801ad1",
   "metadata": {},
   "outputs": [],
   "source": [
    "def fetch_energies(db_folder, filename):\n",
    "    Dbong = connect(db_folder + filename)\n",
    "    energy_list = []\n",
    "    for row in Dbong.select(\"energy\"):\n",
    "        energy_list.append(row.energy)\n",
    "    return np.array(energy_list)"
   ]
  },
  {
   "cell_type": "code",
   "execution_count": 8,
   "id": "e240c998",
   "metadata": {},
   "outputs": [],
   "source": [
    "def fetch_energies_database(db_folder, filename_list):\n",
    "    energies_dict= {}\n",
    "    for filename in filename_list:\n",
    "        energies_dict[filename] = fetch_energies(db_folder, filename)\n",
    "    return energies_dict"
   ]
  },
  {
   "cell_type": "code",
   "execution_count": 9,
   "id": "44f0c5fb",
   "metadata": {},
   "outputs": [],
   "source": [
    "def fetch_molecule_energies(db_folder):\n",
    "    Dbong = connect(db_folder + \"molecules_out.db\")\n",
    "    molecules_dict = {}\n",
    "    for row in Dbong.select(\"energy\"):\n",
    "        molecules_dict[row.formula] = row.energy\n",
    "    return molecules_dict"
   ]
  },
  {
   "cell_type": "code",
   "execution_count": 10,
   "id": "296c2136",
   "metadata": {},
   "outputs": [],
   "source": [
    "# Load the slabs_out.db energies and make 9 copies of each. Then it'll match up with the other data\n",
    "def fetch_slab_energies(db_folder):\n",
    "    Dbong = connect(db_folder + \"slabs_out.db\")\n",
    "    energy_list = []\n",
    "    for row in Dbong.select(\"energy\"):\n",
    "        energy_list.append(9*[row.energy])\n",
    "    return np.array(energy_list).flatten()"
   ]
  },
  {
   "cell_type": "code",
   "execution_count": 280,
   "id": "21a63e14",
   "metadata": {},
   "outputs": [],
   "source": [
    "def fetch_SE_slab_energies(db_folder):\n",
    "    Dbong = connect(db_folder + \"single_element_slabs_out.db\")\n",
    "    energy_list = []\n",
    "    formula_list = []\n",
    "    for row in Dbong.select(\"energy\"):\n",
    "        energy_list.append([row.energy])\n",
    "        formula_list.append(row.formula[0:2])\n",
    "    return np.array(energy_list).flatten(), formula_list"
   ]
  },
  {
   "cell_type": "markdown",
   "id": "433ae3df",
   "metadata": {},
   "source": [
    "### Loading energies etc."
   ]
  },
  {
   "cell_type": "code",
   "execution_count": 281,
   "id": "88d8db70",
   "metadata": {},
   "outputs": [],
   "source": [
    "# Single element energies\n",
    "SE_energies = fetch_energies_database(db_folder = formic_acid_data_path, filename_list = single_element_dbs)\n",
    "# High entropy alloy energies\n",
    "HEA_energies = fetch_energies_database(db_folder = formic_acid_data_path, filename_list = HEA_dbs) #I should remove .db, so it's more readable\n",
    "# Molecule energies\n",
    "molecules_dict = fetch_molecule_energies(formic_acid_data_path)\n",
    "# Slab energies\n",
    "slab_energies = fetch_slab_energies(db_folder = formic_acid_data_path)\n",
    "# Single element slab energies\n",
    "SE_slab_energies, SE_slab_atoms = fetch_SE_slab_energies(db_folder = formic_acid_data_path)"
   ]
  },
  {
   "cell_type": "code",
   "execution_count": 282,
   "id": "f8cf5a0f",
   "metadata": {},
   "outputs": [
    {
     "data": {
      "text/plain": [
       "['Ag', 'Au', 'Cu', 'Pd', 'Pt']"
      ]
     },
     "execution_count": 282,
     "metadata": {},
     "output_type": "execute_result"
    }
   ],
   "source": [
    "SE_slab_atoms"
   ]
  },
  {
   "cell_type": "code",
   "execution_count": 71,
   "id": "9881defe",
   "metadata": {},
   "outputs": [
    {
     "data": {
      "text/plain": [
       "{'CO': -12.848598765234707,\n",
       " 'CO2': -19.15168636258064,\n",
       " 'CH2O2': -25.7548327798152,\n",
       " 'C2H4O2': -41.95993780269195,\n",
       " 'H2': -6.67878491734772,\n",
       " 'H2O': -12.225511685485456,\n",
       " 'CH2O': -19.92286258910958,\n",
       " 'CH4O': -27.652189372849637,\n",
       " 'C2H6O': -43.67355392866396,\n",
       " 'C2H2O2': -32.92328015484662,\n",
       " 'C2H2O4': -44.117581976029946}"
      ]
     },
     "execution_count": 71,
     "metadata": {},
     "output_type": "execute_result"
    }
   ],
   "source": [
    "molecules_dict"
   ]
  },
  {
   "cell_type": "markdown",
   "id": "b05d2d6e",
   "metadata": {},
   "source": [
    "## Calibrating DFT energies"
   ]
  },
  {
   "cell_type": "markdown",
   "id": "fc7fbc0c",
   "metadata": {},
   "source": [
    "### Approximation of Gibbs free energy parameters (From Chan et. al.)"
   ]
  },
  {
   "cell_type": "code",
   "execution_count": 14,
   "id": "c2b3837e",
   "metadata": {},
   "outputs": [],
   "source": [
    "# I'll probably need a lot of dictionaries for the different parameters\n",
    "\n",
    "# Free (eV)\n",
    "CO2   = {\"ZPE\": 0.31, \"CpdT\": 0.10, \"minusTS\": -0.66}\n",
    "CO    = {\"ZPE\": 0.13, \"CpdT\": 0.09, \"minusTS\": -0.61}\n",
    "H2    = {\"ZPE\": 0.28, \"CpdT\": 0.09, \"minusTS\": -0.40}\n",
    "H2O   = {\"ZPE\": 0.57, \"CpdT\": 0.10, \"minusTS\": -0.67}\n",
    "HCOOH = {\"ZPE\": 0.90, \"CpdT\": 0.11, \"minusTS\": -0.99}\n",
    "Slab  = {\"ZPE\": 0.00, \"CpdT\": 0.00, \"minusTS\": -0.00}\n",
    "\n",
    "# *Bound to the surface (eV)\n",
    "# Bidentate *OOCH?\n",
    "bound_CO   = {\"ZPE\": 0.19, \"CpdT\": 0.08, \"minusTS\": -0.16}\n",
    "bound_OH   = {\"ZPE\": 0.36, \"CpdT\": 0.05, \"minusTS\": -0.08}\n",
    "bound_OCHO = {\"ZPE\": 0.62, \"CpdT\": 0.11, \"minusTS\": -0.24} #Either bidentate or monodentate. Use for both for now\n",
    "bound_O    = {\"ZPE\": 0.07, \"CpdT\": 0.03, \"minusTS\": -0.04}\n",
    "bound_COOH = {\"ZPE\": 0.62, \"CpdT\": 0.10, \"minusTS\": -0.19}\n",
    "bound_H    = {\"ZPE\": 0.23, \"CpdT\": 0.01, \"minusTS\": -0.01}\n",
    "\n",
    "# Approximation Factors (FA)\n",
    "AF = {\"CO2\": CO2, \"CO\": CO, \"H2\": H2, \"H2O\": H2O, \"HCOOH\": HCOOH, \\\n",
    "      \"bound_CO\": bound_CO, \"bound_OH\": bound_OH, \"bound_OCHO\": bound_OCHO, \\\n",
    "      \"bound_O\": bound_O, \"bound_COOH\": bound_COOH, \"bound_H\": bound_H, \\\n",
    "      \"Slab\": Slab}\n",
    "\n",
    "# Function, that turns DFT-E into G\n",
    "def App_gibbs(molecule, DFT_energy, AF): # Jeg burde proppe numpy arrays ind her, så den tager hele listen på én gang\n",
    "    Gibbs = DFT_energy + AF[molecule][\"ZPE\"] + AF[molecule][\"CpdT\"] + AF[molecule][\"minusTS\"] #TJEK I need to add the solvent thing here. Ask Jack where I can find it\n",
    "    return Gibbs\n",
    "\n",
    "## Find some kind of system, where I can semi-easily implement other reactions\n",
    "\n",
    "def binding_energy_reaction(reaction, n_HE, U, AF):\n",
    "    # Make a list of zeros\n",
    "    DeltaG = np.zeros(max(length(item) for item in reaction[\"products\"].values())) #Makes a DeltaG list as long as the longest list of energies in any product. This will fail if no product molecules have a list of DFT energies but just a single energy from molecules_out.db. Hopefully, this will never happen.\n",
    "    \n",
    "    # Converts a numpy array of all E to G for each product molecule and adds it to the DeltaG array\n",
    "    product_contribution = [App_gibbs(molecule, DFT_energy, AF) for (molecule, DFT_energy) in zip(list(reaction[\"products\"].keys()), list(reaction[\"products\"].values()))]\n",
    "    for contribution in product_contribution:\n",
    "        DeltaG += contribution\n",
    "    \n",
    "    # Converts a numpy array of all E to G for each reactant molecule and adds it to the DeltaG array\n",
    "    reactant_contribution = [App_gibbs(molecule, DFT_energy, AF) for (molecule, DFT_energy) in zip(list(reaction[\"reactants\"].keys()), list(reaction[\"reactants\"].values()))]\n",
    "    for contribution in reactant_contribution:\n",
    "        DeltaG -= contribution\n",
    "    \n",
    "    # Add contribution from the H+ and e- pairs produced\n",
    "    DeltaG += n_HE * (1/2*molecules_dict[\"H2\"] - 1*U) # I subbed e for 1 because we want the energy in eV, not Joule\n",
    "    \n",
    "    return DeltaG\n",
    "\n",
    "def length(meat):\n",
    "    if type(meat) == float:\n",
    "        return 1\n",
    "    else:\n",
    "        return len(meat)\n",
    "    \n",
    "def plot_BE(BE, reaction_string):\n",
    "    fig, ax = plt.subplots(1, 1, figsize = (7, 5))\n",
    "    \n",
    "    plt.hist(BE, 75, label = f\"{str(len(BE))} DFT energies\")\n",
    "    plt.text(0.5, 0.93, s = reaction_string, fontsize = \"large\", horizontalalignment='center', verticalalignment='center', transform = ax.transAxes)\n",
    "    ax.set_title(f\"Binding energies for the reaction\")\n",
    "    ax.set_yticks([])\n",
    "    #ax.set_ylabel(\"ylabel\")\n",
    "    ax.set_xlabel(\"Binding energies (eV)\")\n",
    "    #ax.legend()\n",
    "    #plt.savefig(\"../figures/CV/combined_voltammogram.png\", dpi = 300, bbox_inches = \"tight\")\n",
    "    #fig.show()\n",
    "    plt.show()\n",
    "    return None"
   ]
  },
  {
   "cell_type": "markdown",
   "id": "0894952b",
   "metadata": {},
   "source": [
    "### Loading binding energies of the reaction of adsorbing formic acid\n",
    "$$ HCOOH (l) + * \\rightleftharpoons *COOH + (H^+ e^-) $$"
   ]
  },
  {
   "cell_type": "code",
   "execution_count": 200,
   "id": "4014b76b",
   "metadata": {
    "scrolled": true
   },
   "outputs": [],
   "source": [
    "products = {\"bound_COOH\": HEA_energies[\"COOH_C_adsorbed_out.db\"]}\n",
    "reactants = {\"HCOOH\": molecules_dict[\"CH2O2\"], \"Slab\": slab_energies}\n",
    "\n",
    "# Maybe I should make another entry with the amount of H+ + e- pairs produced\n",
    "\n",
    "reaction1 = {\"products\": products, \"reactants\": reactants} # Carry on putting information into the reaction thing"
   ]
  },
  {
   "cell_type": "code",
   "execution_count": 201,
   "id": "e2d48d26",
   "metadata": {
    "scrolled": true
   },
   "outputs": [],
   "source": [
    "calibrated_binding_energies1 = binding_energy_reaction(reaction = reaction1, n_HE = 1, U = 0.0, AF = AF)"
   ]
  },
  {
   "cell_type": "code",
   "execution_count": 202,
   "id": "93962147",
   "metadata": {},
   "outputs": [
    {
     "data": {
      "image/png": "[encoded data removed]",
      "text/plain": [
       "<Figure size 700x500 with 1 Axes>"
      ]
     },
     "metadata": {},
     "output_type": "display_data"
    }
   ],
   "source": [
    "# I should make a plotting module that showcases a reaction\n",
    "reaction_string = r\"$HCOOH (l) + * \\rightleftharpoons *COOH + (H^+ + e^-)$\"\n",
    "\n",
    "plot_BE(calibrated_binding_energies1, reaction_string)"
   ]
  },
  {
   "cell_type": "markdown",
   "id": "841cdd36",
   "metadata": {},
   "source": [
    "### Loading binding energies of the reaction of formic acid turning into CO2\n",
    "$$ *COOH \\rightleftharpoons * + CO_2 (g) + (H^+ e^-) $$"
   ]
  },
  {
   "cell_type": "code",
   "execution_count": 203,
   "id": "db96f455",
   "metadata": {},
   "outputs": [],
   "source": [
    "products = {\"CO2\": molecules_dict[\"CO2\"], \"Slab\": slab_energies}\n",
    "reactants = {\"bound_COOH\": HEA_energies[\"COOH_C_adsorbed_out.db\"]}\n",
    "\n",
    "# Maybe I should make another entry with the amount of H+ + e- pairs produced\n",
    "\n",
    "reaction2 = {\"products\": products, \"reactants\": reactants}"
   ]
  },
  {
   "cell_type": "code",
   "execution_count": 204,
   "id": "90d22f43",
   "metadata": {},
   "outputs": [],
   "source": [
    "calibrated_binding_energies2 = binding_energy_reaction(reaction = reaction2, n_HE = 1, U = 0.0, AF = AF)"
   ]
  },
  {
   "cell_type": "code",
   "execution_count": 205,
   "id": "b69646f9",
   "metadata": {},
   "outputs": [
    {
     "data": {
      "image/png": "[encoded data removed]",
      "text/plain": [
       "<Figure size 700x500 with 1 Axes>"
      ]
     },
     "metadata": {},
     "output_type": "display_data"
    }
   ],
   "source": [
    "reaction_string = r\"$*COOH \\rightleftharpoons * + CO_2 (g) + (H^+ + e^-)$\"\n",
    "plot_BE(calibrated_binding_energies2, reaction_string)"
   ]
  },
  {
   "cell_type": "markdown",
   "id": "03d19365",
   "metadata": {},
   "source": [
    "### Reaction plots"
   ]
  },
  {
   "cell_type": "code",
   "execution_count": 206,
   "id": "0de353fd",
   "metadata": {},
   "outputs": [],
   "source": [
    "# FUNCTION\n",
    "def free_e_diagram(reaction_strings, calibrated_binding_energies, title_string, He_trans, filename):\n",
    "    fig, ax = plt.subplots(1, 1, figsize = (7, 5))\n",
    "    \n",
    "    HE_steps = len(reaction_strings)\n",
    "    cumsum_BE = np.cumsum(calibrated_binding_energies, axis = 0)\n",
    "    for idx, energies in enumerate(cumsum_BE):\n",
    "        if len(energies) == 27:\n",
    "            alpha = 0.50\n",
    "        if len(energies) == 504:\n",
    "            alpha = 0.13\n",
    "        ax.scatter([idx]*len(energies), energies, s=1000, marker = \"_\", alpha = alpha, label = reaction_strings[idx])\n",
    "    \n",
    "    ax.set_title(title_string)\n",
    "    #ax.set_xticks([num for num in range(HE_steps)], [\"0\"]+[f\"+{num}\"+r\"$(H^++ e^-)$\" for num in range(1, HE_steps)])\n",
    "    ax.set_xticks([num for num in range(len(He_trans)+1)], [\"0\"]+[f\"+{num}\"+r\"$(H^++ e^-)$\" for num in np.cumsum(He_trans)])\n",
    "\n",
    "    ax.set_ylabel(r\"$\\Delta G$\")\n",
    "    #ax.set_xlabel(\"xlabel\")\n",
    "    ax.set_xlim(-0.2, HE_steps-1+0.2)\n",
    "    leg = plt.legend()\n",
    "    for lh in leg.legendHandles:\n",
    "        lh.set_alpha(1)\n",
    "    #ax.legend()\n",
    "    \n",
    "    plt.savefig(\"../figures/free_energy_diagram/\" + filename + \".png\", dpi = 300, bbox_inches = \"tight\")\n",
    "    #fig.show()\n",
    "    plt.show()"
   ]
  },
  {
   "cell_type": "markdown",
   "id": "1be14777",
   "metadata": {},
   "source": [
    "### Two-step reaction from HCOOH to *COOH to CO2"
   ]
  },
  {
   "cell_type": "code",
   "execution_count": 245,
   "id": "f2ca894a",
   "metadata": {
    "scrolled": false
   },
   "outputs": [
    {
     "data": {
      "image/png": "[encoded data removed]",
      "text/plain": [
       "<Figure size 700x500 with 1 Axes>"
      ]
     },
     "metadata": {},
     "output_type": "display_data"
    }
   ],
   "source": [
    "# Determine U\n",
    "U = 1.5 # Volt\n",
    "\n",
    "# Load energies\n",
    "products = {\"bound_COOH\": HEA_energies[\"COOH_C_adsorbed_out.db\"]}\n",
    "reactants = {\"HCOOH\": molecules_dict[\"CH2O2\"], \"Slab\": slab_energies}\n",
    "reaction1 = {\"products\": products, \"reactants\": reactants} # Carry on putting information into the reaction thing\n",
    "calibrated_binding_energies1 = binding_energy_reaction(reaction = reaction1, n_HE = 1, U = U, AF = AF)\n",
    "\n",
    "products = {\"CO2\": molecules_dict[\"CO2\"], \"Slab\": slab_energies}\n",
    "reactants = {\"bound_COOH\": HEA_energies[\"COOH_C_adsorbed_out.db\"]}\n",
    "reaction2 = {\"products\": products, \"reactants\": reactants}\n",
    "calibrated_binding_energies2 = binding_energy_reaction(reaction = reaction2, n_HE = 1, U = U, AF = AF)\n",
    "\n",
    "\n",
    "title_string = \"Two-step microkinetic model for the oxidation of formic acid\"\n",
    "starting_string = r\"$HCOOH$\"\n",
    "second_string = r\"$*COOH$\"\n",
    "third_string = r\"$CO_2$\"\n",
    "reaction_strings = [starting_string, second_string, third_string]\n",
    "calibrated_binding_energies = [np.array([0 for n in range(len(calibrated_binding_energies1))]), calibrated_binding_energies1, calibrated_binding_energies2]\n",
    "He_trans = [1, 1] #How many H+ and e- are transferred for each step?\n",
    "filename = \"Two_step\"\n",
    "\n",
    "free_e_diagram(reaction_strings, calibrated_binding_energies, title_string, He_trans, filename)"
   ]
  },
  {
   "cell_type": "markdown",
   "id": "3549318a",
   "metadata": {},
   "source": [
    "### Loading a different reaction, maybe including the $^*CO_2$ step\n",
    "\n",
    "$$ HCOOH (l) + * \\rightleftharpoons *COOH + (H^+ e^-) $$\n",
    "\n",
    "$$ *COOH \\rightleftharpoons *CO_2 + (H^+ e^-) $$\n",
    "\n",
    "$$ *CO_2 \\rightleftharpoons CO_2 + * $$\n",
    "\n",
    "So I need $*CO_2$ data before I kan continue on this reaction :("
   ]
  },
  {
   "cell_type": "markdown",
   "id": "fbda6629",
   "metadata": {},
   "source": [
    "### Three-step reaction through bidentate and monodentate (Yellow route)\n",
    "\n",
    "$$ HCOOH (l) + * \\rightleftharpoons *O*OCH + (H^+ + e^-) $$\n",
    "\n",
    "$$ *O*OCH \\rightleftharpoons *OOCH $$\n",
    "\n",
    "$$ *OOCH \\rightleftharpoons CO_2 (g) + * + (H^+ + e^-) $$"
   ]
  },
  {
   "cell_type": "code",
   "execution_count": 157,
   "id": "69b97483",
   "metadata": {},
   "outputs": [],
   "source": [
    "# Unfortunately, only the first 3 slabs (3*9 = 27 energies) are present in the monodentate data\n",
    "# To solve this, I only loaded the first 27 energies\n",
    "\n",
    "# Formic acid to bidentate\n",
    "reactants = {\"HCOOH\": molecules_dict[\"CH2O2\"], \"Slab\": slab_energies[0:27]}\n",
    "products = {\"bound_OCHO\": HEA_energies[\"COOH_H_on_C_OO_adsorbed_out.db\"][0:27]} # Bidentate\n",
    "reaction1 = {\"products\": products, \"reactants\": reactants} # Carry on putting information into the reaction thing\n",
    "calibrated_binding_energies1 = binding_energy_reaction(reaction = reaction1, n_HE = 1, U = 0.0, AF = AF)\n",
    "\n",
    "# Bidentate to monodentate\n",
    "reactants = {\"bound_OCHO\": HEA_energies[\"COOH_H_on_C_OO_adsorbed_out.db\"][0:27]} # Bidentate\n",
    "products = {\"bound_OCHO\": HEA_energies[\"COOH_O_adsorbed_out.db\"]}  # Monodentate\n",
    "reaction2 = {\"products\": products, \"reactants\": reactants} # Carry on putting information into the reaction thing\n",
    "calibrated_binding_energies2 = binding_energy_reaction(reaction = reaction2, n_HE = 0, U = 0.0, AF = AF)\n",
    "\n",
    "# monodentate to CO2 (g)\n",
    "reactants = {\"bound_OCHO\": HEA_energies[\"COOH_O_adsorbed_out.db\"]} # Monodentate\n",
    "products = {\"CO2\": molecules_dict[\"CO2\"], \"Slab\": slab_energies[0:27]}  # free CO2 + slab\n",
    "reaction3 = {\"products\": products, \"reactants\": reactants} # Carry on putting information into the reaction thing\n",
    "calibrated_binding_energies3 = binding_energy_reaction(reaction = reaction3, n_HE = 1, U = 0.0, AF = AF)"
   ]
  },
  {
   "cell_type": "code",
   "execution_count": 161,
   "id": "7f30bb4e",
   "metadata": {
    "scrolled": false
   },
   "outputs": [
    {
     "data": {
      "image/png": "[encoded data removed]",
      "text/plain": [
       "<Figure size 700x500 with 1 Axes>"
      ]
     },
     "metadata": {},
     "output_type": "display_data"
    }
   ],
   "source": [
    "title_string = \"Three-step microkinetic model through dentates\"\n",
    "starting_string = r\"$HCOOH$ (g)\"\n",
    "second_string = r\"$*COOH$ Bidentate\"\n",
    "third_string = r\"$*COOH$ Monodentate\"\n",
    "fourth_string = r\"$CO_2 (g)$\"\n",
    "reaction_strings = [starting_string, second_string, third_string, fourth_string]\n",
    "calibrated_binding_energies = [np.array([0 for n in range(len(calibrated_binding_energies1))]), calibrated_binding_energies1, calibrated_binding_energies2, calibrated_binding_energies3]\n",
    "He_trans = [1, 0, 1] #How many H+ and e- are transferred for each step?\n",
    "filename = \"Dentates\"\n",
    "free_e_diagram(reaction_strings, calibrated_binding_energies, title_string, He_trans, filename)"
   ]
  },
  {
   "cell_type": "markdown",
   "id": "894497d6",
   "metadata": {},
   "source": [
    "## Activity estimation (via Current Density)"
   ]
  },
  {
   "cell_type": "markdown",
   "id": "c9a15c27",
   "metadata": {},
   "source": [
    "#### Finding per-site current"
   ]
  },
  {
   "cell_type": "code",
   "execution_count": 220,
   "id": "41e49879",
   "metadata": {},
   "outputs": [],
   "source": [
    "def arrhenius(dG, U):\n",
    "    # Constants\n",
    "    k = 1\n",
    "    kBT_eV = 0.025692508388298233\n",
    "    \n",
    "    # DeltaG_RLS\n",
    "    dG_RLS = np.abs(dG + 0.1728) - 0.1728 - U\n",
    "    \n",
    "    #Arrhenius equation\n",
    "    j_per_site = k * np.exp(-dG_RLS / kBT_eV)\n",
    "    \n",
    "    return j_per_site"
   ]
  },
  {
   "cell_type": "markdown",
   "id": "1177ef11",
   "metadata": {},
   "source": [
    "#### Diffusion-limiting the per-site current with the Koutecký-Levich equation"
   ]
  },
  {
   "cell_type": "code",
   "execution_count": 221,
   "id": "923c95f4",
   "metadata": {},
   "outputs": [],
   "source": [
    "def Koutecky(j_i, j_D):\n",
    "    # j_i can be a numpy array\n",
    "    # j_D is a constant value representing the diffusion\n",
    "    \n",
    "    j = np.average(1 /(1/j_i + 1/j_D))\n",
    "    return j"
   ]
  },
  {
   "cell_type": "markdown",
   "id": "6edd56c1",
   "metadata": {},
   "source": [
    "### Estimating the activity based on purely the DFT data"
   ]
  },
  {
   "cell_type": "code",
   "execution_count": 228,
   "id": "98e9b5bd",
   "metadata": {},
   "outputs": [
    {
     "data": {
      "text/plain": [
       "7.589613572349681e-08"
      ]
     },
     "execution_count": 228,
     "metadata": {},
     "output_type": "execute_result"
    }
   ],
   "source": [
    "Koutecky(arrhenius(calibrated_binding_energies[1], U = 0), j_D = 1)"
   ]
  },
  {
   "cell_type": "code",
   "execution_count": 237,
   "id": "903bf33b",
   "metadata": {},
   "outputs": [],
   "source": [
    "dG_list = [binding_energy_reaction(reaction = reaction1, n_HE = 1, U = U, AF = AF) for U in U_list]"
   ]
  },
  {
   "cell_type": "code",
   "execution_count": 266,
   "id": "a2e94dac",
   "metadata": {},
   "outputs": [],
   "source": [
    "# Loading the pure metals\n",
    "U = 0\n",
    "products = {\"bound_COOH\": SE_energies[\"single_element_COOH_C_adsorbed_out.db\"]}\n",
    "reactants = {\"HCOOH\": molecules_dict[\"CH2O2\"], \"Slab\": SE_slab_energies}\n",
    "reaction1_SE = {\"products\": products, \"reactants\": reactants} # Carry on putting information into the reaction thing\n",
    "calibrated_binding_energies_SE = binding_energy_reaction(reaction = reaction1_SE, n_HE = 1, U = U, AF = AF)"
   ]
  },
  {
   "cell_type": "code",
   "execution_count": 284,
   "id": "a1ba8074",
   "metadata": {
    "collapsed": true
   },
   "outputs": [
    {
     "ename": "ValueError",
     "evalue": "x and y must have same first dimension, but have shapes (100,) and (200,)",
     "output_type": "error",
     "traceback": [
      "\u001b[0;31m---------------------------------------------------------------------------\u001b[0m",
      "\u001b[0;31mValueError\u001b[0m                                Traceback (most recent call last)",
      "Cell \u001b[0;32mIn [284], line 32\u001b[0m\n\u001b[1;32m     29\u001b[0m     plt\u001b[38;5;241m.\u001b[39mshow()\n\u001b[1;32m     30\u001b[0m     \u001b[38;5;28;01mreturn\u001b[39;00m \u001b[38;5;28;01mNone\u001b[39;00m\n\u001b[0;32m---> 32\u001b[0m \u001b[43mpolarization_curve\u001b[49m\u001b[43m(\u001b[49m\u001b[43mU_list\u001b[49m\u001b[43m,\u001b[49m\u001b[43m \u001b[49m\u001b[43mj_list\u001b[49m\u001b[43m)\u001b[49m\n",
      "Cell \u001b[0;32mIn [284], line 20\u001b[0m, in \u001b[0;36mpolarization_curve\u001b[0;34m(U_list, j_list)\u001b[0m\n\u001b[1;32m     17\u001b[0m \u001b[38;5;28;01mdef\u001b[39;00m \u001b[38;5;21mpolarization_curve\u001b[39m(U_list, j_list):\n\u001b[1;32m     18\u001b[0m     fig, ax \u001b[38;5;241m=\u001b[39m plt\u001b[38;5;241m.\u001b[39msubplots(\u001b[38;5;241m1\u001b[39m, \u001b[38;5;241m1\u001b[39m, figsize \u001b[38;5;241m=\u001b[39m (\u001b[38;5;241m7\u001b[39m, \u001b[38;5;241m5\u001b[39m))\n\u001b[0;32m---> 20\u001b[0m     \u001b[43max\u001b[49m\u001b[38;5;241;43m.\u001b[39;49m\u001b[43mplot\u001b[49m\u001b[43m(\u001b[49m\u001b[43mU_list\u001b[49m\u001b[43m,\u001b[49m\u001b[43m \u001b[49m\u001b[43mj_list\u001b[49m\u001b[43m,\u001b[49m\u001b[43m \u001b[49m\u001b[43mlabel\u001b[49m\u001b[43m \u001b[49m\u001b[38;5;241;43m=\u001b[39;49m\u001b[43m \u001b[49m\u001b[38;5;124;43m\"\u001b[39;49m\u001b[38;5;124;43mHEA (Ag, Au, Cu, Pd, Pt)\u001b[39;49m\u001b[38;5;124;43m\"\u001b[39;49m\u001b[43m)\u001b[49m\n\u001b[1;32m     22\u001b[0m     ax\u001b[38;5;241m.\u001b[39mset_title(\u001b[38;5;124mf\u001b[39m\u001b[38;5;124m\"\u001b[39m\u001b[38;5;124mPolarization curve\u001b[39m\u001b[38;5;124m\"\u001b[39m)\n\u001b[1;32m     23\u001b[0m     ax\u001b[38;5;241m.\u001b[39mset_yticks([])\n",
      "File \u001b[0;32m~/miniforge3/envs/PUK/lib/python3.10/site-packages/matplotlib/axes/_axes.py:1635\u001b[0m, in \u001b[0;36mAxes.plot\u001b[0;34m(self, scalex, scaley, data, *args, **kwargs)\u001b[0m\n\u001b[1;32m   1393\u001b[0m \u001b[38;5;124;03m\"\"\"\u001b[39;00m\n\u001b[1;32m   1394\u001b[0m \u001b[38;5;124;03mPlot y versus x as lines and/or markers.\u001b[39;00m\n\u001b[1;32m   1395\u001b[0m \n\u001b[0;32m   (...)\u001b[0m\n\u001b[1;32m   1632\u001b[0m \u001b[38;5;124;03m(``'green'``) or hex strings (``'#008000'``).\u001b[39;00m\n\u001b[1;32m   1633\u001b[0m \u001b[38;5;124;03m\"\"\"\u001b[39;00m\n\u001b[1;32m   1634\u001b[0m kwargs \u001b[38;5;241m=\u001b[39m cbook\u001b[38;5;241m.\u001b[39mnormalize_kwargs(kwargs, mlines\u001b[38;5;241m.\u001b[39mLine2D)\n\u001b[0;32m-> 1635\u001b[0m lines \u001b[38;5;241m=\u001b[39m [\u001b[38;5;241m*\u001b[39m\u001b[38;5;28mself\u001b[39m\u001b[38;5;241m.\u001b[39m_get_lines(\u001b[38;5;241m*\u001b[39margs, data\u001b[38;5;241m=\u001b[39mdata, \u001b[38;5;241m*\u001b[39m\u001b[38;5;241m*\u001b[39mkwargs)]\n\u001b[1;32m   1636\u001b[0m \u001b[38;5;28;01mfor\u001b[39;00m line \u001b[38;5;129;01min\u001b[39;00m lines:\n\u001b[1;32m   1637\u001b[0m     \u001b[38;5;28mself\u001b[39m\u001b[38;5;241m.\u001b[39madd_line(line)\n",
      "File \u001b[0;32m~/miniforge3/envs/PUK/lib/python3.10/site-packages/matplotlib/axes/_base.py:312\u001b[0m, in \u001b[0;36m_process_plot_var_args.__call__\u001b[0;34m(self, data, *args, **kwargs)\u001b[0m\n\u001b[1;32m    310\u001b[0m     this \u001b[38;5;241m+\u001b[39m\u001b[38;5;241m=\u001b[39m args[\u001b[38;5;241m0\u001b[39m],\n\u001b[1;32m    311\u001b[0m     args \u001b[38;5;241m=\u001b[39m args[\u001b[38;5;241m1\u001b[39m:]\n\u001b[0;32m--> 312\u001b[0m \u001b[38;5;28;01myield from\u001b[39;00m \u001b[38;5;28;43mself\u001b[39;49m\u001b[38;5;241;43m.\u001b[39;49m\u001b[43m_plot_args\u001b[49m\u001b[43m(\u001b[49m\u001b[43mthis\u001b[49m\u001b[43m,\u001b[49m\u001b[43m \u001b[49m\u001b[43mkwargs\u001b[49m\u001b[43m)\u001b[49m\n",
      "File \u001b[0;32m~/miniforge3/envs/PUK/lib/python3.10/site-packages/matplotlib/axes/_base.py:498\u001b[0m, in \u001b[0;36m_process_plot_var_args._plot_args\u001b[0;34m(self, tup, kwargs, return_kwargs)\u001b[0m\n\u001b[1;32m    495\u001b[0m     \u001b[38;5;28mself\u001b[39m\u001b[38;5;241m.\u001b[39maxes\u001b[38;5;241m.\u001b[39myaxis\u001b[38;5;241m.\u001b[39mupdate_units(y)\n\u001b[1;32m    497\u001b[0m \u001b[38;5;28;01mif\u001b[39;00m x\u001b[38;5;241m.\u001b[39mshape[\u001b[38;5;241m0\u001b[39m] \u001b[38;5;241m!=\u001b[39m y\u001b[38;5;241m.\u001b[39mshape[\u001b[38;5;241m0\u001b[39m]:\n\u001b[0;32m--> 498\u001b[0m     \u001b[38;5;28;01mraise\u001b[39;00m \u001b[38;5;167;01mValueError\u001b[39;00m(\u001b[38;5;124mf\u001b[39m\u001b[38;5;124m\"\u001b[39m\u001b[38;5;124mx and y must have same first dimension, but \u001b[39m\u001b[38;5;124m\"\u001b[39m\n\u001b[1;32m    499\u001b[0m                      \u001b[38;5;124mf\u001b[39m\u001b[38;5;124m\"\u001b[39m\u001b[38;5;124mhave shapes \u001b[39m\u001b[38;5;132;01m{\u001b[39;00mx\u001b[38;5;241m.\u001b[39mshape\u001b[38;5;132;01m}\u001b[39;00m\u001b[38;5;124m and \u001b[39m\u001b[38;5;132;01m{\u001b[39;00my\u001b[38;5;241m.\u001b[39mshape\u001b[38;5;132;01m}\u001b[39;00m\u001b[38;5;124m\"\u001b[39m)\n\u001b[1;32m    500\u001b[0m \u001b[38;5;28;01mif\u001b[39;00m x\u001b[38;5;241m.\u001b[39mndim \u001b[38;5;241m>\u001b[39m \u001b[38;5;241m2\u001b[39m \u001b[38;5;129;01mor\u001b[39;00m y\u001b[38;5;241m.\u001b[39mndim \u001b[38;5;241m>\u001b[39m \u001b[38;5;241m2\u001b[39m:\n\u001b[1;32m    501\u001b[0m     \u001b[38;5;28;01mraise\u001b[39;00m \u001b[38;5;167;01mValueError\u001b[39;00m(\u001b[38;5;124mf\u001b[39m\u001b[38;5;124m\"\u001b[39m\u001b[38;5;124mx and y can be no greater than 2D, but have \u001b[39m\u001b[38;5;124m\"\u001b[39m\n\u001b[1;32m    502\u001b[0m                      \u001b[38;5;124mf\u001b[39m\u001b[38;5;124m\"\u001b[39m\u001b[38;5;124mshapes \u001b[39m\u001b[38;5;132;01m{\u001b[39;00mx\u001b[38;5;241m.\u001b[39mshape\u001b[38;5;132;01m}\u001b[39;00m\u001b[38;5;124m and \u001b[39m\u001b[38;5;132;01m{\u001b[39;00my\u001b[38;5;241m.\u001b[39mshape\u001b[38;5;132;01m}\u001b[39;00m\u001b[38;5;124m\"\u001b[39m)\n",
      "\u001b[0;31mValueError\u001b[0m: x and y must have same first dimension, but have shapes (100,) and (200,)"
     ]
    },
    {
     "data": {
      "image/png": "[encoded data removed]",
      "text/plain": [
       "<Figure size 700x500 with 1 Axes>"
      ]
     },
     "metadata": {},
     "output_type": "display_data"
    }
   ],
   "source": [
    "U_list = np.linspace(0, 1.5, 100)\n",
    "j_HEA_list = []\n",
    "j_SE_list = []\n",
    "\n",
    "for U in U_list:\n",
    "    dG_HEA = binding_energy_reaction(reaction = reaction1, n_HE = 1, U = U, AF = AF)\n",
    "    dG_SE_list = calibrated_binding_energies_SE = binding_energy_reaction(reaction = reaction1_SE, n_HE = 1, U = U, AF = AF)\n",
    "    dG_SE_noise = add_noise(dG_SE_list)\n",
    "    \n",
    "    for SE_energy in dG_SE_noise:\n",
    "        j = Koutecky(arrhenius(SE_energy, U = U), j_D = 1)\n",
    "        j_SE_list.append(j)\n",
    "        \n",
    "    j = Koutecky(arrhenius(dG_HEA, U = U), j_D = 1) #den her kunne have været list comprehension med (x, y).\n",
    "    j_list.append(j)\n",
    "\n",
    "def polarization_curve(U_list, j_list):\n",
    "    fig, ax = plt.subplots(1, 1, figsize = (7, 5))\n",
    "    \n",
    "    ax.plot(U_list, j_list, label = \"HEA (Ag, Au, Cu, Pd, Pt)\")\n",
    "    \n",
    "    ax.set_title(f\"Polarization curve\")\n",
    "    ax.set_yticks([])\n",
    "    ax.set_ylabel(r\"$i_{surface,tot}$\")\n",
    "    ax.set_xlabel(\"U / RHE [V]\")\n",
    "    ax.legend()\n",
    "    #plt.savefig(\"../figures/CV/combined_voltammogram.png\", dpi = 300, bbox_inches = \"tight\")\n",
    "    #fig.show()\n",
    "    plt.show()\n",
    "    return None\n",
    "    \n",
    "polarization_curve(U_list, j_list)"
   ]
  },
  {
   "cell_type": "code",
   "execution_count": 287,
   "id": "4f54710e",
   "metadata": {},
   "outputs": [
    {
     "data": {
      "text/plain": [
       "[array([-1.15670348e-01,  3.16590918e-04, -2.63699126e-02, -7.23543338e-02,\n",
       "         4.89760361e-02, -4.60366422e-02, -4.97136932e-02, -1.98600494e-02,\n",
       "        -7.30261231e-02, -5.51567330e-02,  4.09189628e-02, -4.97317103e-02,\n",
       "        -6.97843442e-02, -4.87480048e-04,  6.52273747e-02, -2.60169079e-02,\n",
       "        -9.22611847e-02, -5.82196870e-02, -4.40481806e-02, -2.63394130e-02,\n",
       "         6.12681165e-02, -8.97572442e-02, -9.96402192e-03,  6.76436887e-03,\n",
       "        -6.61745584e-02, -5.02949494e-02, -1.05495699e-02,  4.64114349e-02,\n",
       "        -1.28277697e-01,  3.87437669e-02, -2.95020958e-02, -1.06713048e-01,\n",
       "         2.27675663e-02, -3.44194577e-02, -8.16701180e-03, -2.79252653e-02,\n",
       "        -3.77101754e-04,  3.23918634e-03, -4.56583867e-02, -4.78350714e-02,\n",
       "        -5.92865192e-02, -2.79500119e-02,  5.57362691e-02,  1.77817636e-03,\n",
       "         3.41213107e-02,  4.90708853e-02, -1.09767256e-02, -1.32698870e-03,\n",
       "        -1.33196902e-02, -1.93901700e-02, -4.16587286e-02, -2.15447606e-02,\n",
       "        -9.57161159e-02,  1.74908508e-02, -4.29966484e-02,  4.58042014e-02,\n",
       "        -9.42414965e-02, -5.33637038e-02, -2.80752849e-02, -7.74070424e-02,\n",
       "         7.02277208e-04, -1.19042474e-01, -8.82230062e-02, -4.06563056e-02,\n",
       "        -8.61298260e-02, -3.93811480e-02, -1.06642664e-01,  1.14871794e-02,\n",
       "        -5.28100843e-02, -3.32519169e-02,  3.86941147e-02, -2.71689441e-02,\n",
       "        -6.25927211e-02, -1.88524408e-02,  4.97854300e-02, -8.20641470e-02,\n",
       "        -1.38106632e-02,  2.26654607e-02,  3.81542296e-02, -4.09641277e-02,\n",
       "         1.55366805e-02, -3.51195383e-02,  1.38433148e-02, -1.15707708e-01,\n",
       "        -3.86387425e-03, -2.90230998e-02, -1.23191721e-01, -3.35983933e-02,\n",
       "        -6.89296670e-02,  2.39662365e-02, -3.23649452e-03, -5.04109797e-02,\n",
       "        -8.08435824e-02, -6.08383254e-02,  4.55476298e-02, -6.97270754e-02,\n",
       "        -5.05013131e-02, -9.27560961e-02, -8.09152730e-02, -9.28168551e-02,\n",
       "        -4.58143569e-02, -2.44545266e-02,  1.19268500e-02, -3.13191207e-02,\n",
       "        -7.06602982e-02, -2.80954827e-02,  2.71881145e-02, -1.48302955e-01,\n",
       "        -3.35664821e-02, -3.04716351e-02, -2.21869731e-02, -7.86063722e-02,\n",
       "         1.62518424e-02, -4.69616995e-02,  6.77026296e-03, -4.19719477e-02,\n",
       "        -1.28603119e-01, -6.61254004e-02, -1.96423660e-02, -4.19963769e-02,\n",
       "        -1.10100945e-01,  1.57181092e-03, -7.32996002e-02,  1.93079563e-02,\n",
       "        -2.05569003e-02, -3.92129502e-02,  3.19233686e-02, -8.74380523e-02,\n",
       "        -4.01782516e-02,  5.40141337e-04, -5.59928328e-02,  9.60140320e-03,\n",
       "        -4.52713500e-02, -8.11650318e-02,  7.52063481e-02,  8.32974263e-02,\n",
       "        -2.40376324e-02, -3.49035619e-02, -8.21032870e-02,  4.92516349e-03,\n",
       "         3.51727411e-02,  2.38654615e-03,  8.08300054e-03, -4.81456389e-02,\n",
       "         1.29760458e-02, -5.84582556e-03, -2.96517373e-02,  1.34482659e-02,\n",
       "        -4.96875421e-02, -1.56061902e-02, -4.28082199e-02,  9.24430960e-03,\n",
       "         2.77740577e-03, -6.05515803e-02, -6.17263623e-03,  3.95582690e-03,\n",
       "        -7.24562309e-02, -2.44910036e-02, -4.27489460e-02, -1.78793153e-02,\n",
       "        -3.34290632e-02, -7.78571925e-02,  6.99093813e-04, -2.79491199e-02,\n",
       "        -3.14452724e-02,  1.10535355e-02, -7.84674453e-02,  5.61941591e-02,\n",
       "        -1.84499950e-02, -3.43288996e-02,  3.32757960e-02, -1.68217242e-02,\n",
       "        -2.41502945e-02, -5.86699571e-02, -1.05796231e-03, -8.25933449e-02,\n",
       "        -9.16101206e-02, -7.14251736e-03, -4.95291168e-02, -5.42568406e-02,\n",
       "        -1.62313643e-02,  5.58723939e-02,  2.60961403e-03, -3.16691373e-02,\n",
       "        -6.29878536e-02,  2.77021821e-02, -5.42174879e-02, -1.63055672e-02,\n",
       "        -1.23053667e-02, -2.33586207e-02, -2.32077247e-02,  3.93678904e-02,\n",
       "         9.56788283e-02,  3.34787142e-02, -8.71503229e-02, -3.41858466e-02,\n",
       "        -1.70877469e-02, -3.88794398e-02, -7.32019354e-03, -1.13099578e-01,\n",
       "         5.62019369e-04, -1.07907733e-02,  2.91436311e-02, -2.00475990e-03,\n",
       "         1.86854341e-02, -3.04910169e-02,  3.23381238e-04, -2.44893724e-02,\n",
       "        -3.52328393e-02,  6.61909409e-03, -6.65541902e-02, -7.18422472e-02,\n",
       "        -5.74338918e-02, -4.09878753e-02, -7.59550817e-02, -2.71817320e-02,\n",
       "        -1.09558891e-01,  5.14912270e-02, -8.23695212e-02, -1.03426768e-01,\n",
       "        -2.62639935e-02,  8.36104701e-02,  3.08493608e-02, -8.13854561e-02,\n",
       "        -7.74960895e-02, -1.72450120e-01, -7.05595365e-02,  2.89099207e-03,\n",
       "        -5.49129303e-02,  7.73481150e-03, -9.83165191e-02, -5.15548907e-02,\n",
       "        -1.74695221e-02, -5.48054439e-02, -5.40757812e-02, -5.39003929e-02,\n",
       "        -3.95569051e-03,  3.95466281e-02, -8.15021081e-02, -8.74910999e-02,\n",
       "         7.33525639e-02, -3.77115497e-02,  4.18108888e-02, -4.23788689e-02,\n",
       "        -2.83284638e-03, -8.33795069e-02, -3.45440845e-02,  1.65182984e-02,\n",
       "        -3.24891269e-02,  4.74609942e-02, -4.61002760e-02, -5.34531244e-02,\n",
       "         3.86652984e-02, -6.84762295e-02, -1.86676511e-02, -6.70170640e-02,\n",
       "        -7.01719781e-02, -6.02990627e-02, -2.79027652e-02, -3.55871440e-02,\n",
       "        -3.04259602e-02, -8.52508650e-02, -3.35483529e-02, -3.43673124e-02,\n",
       "         1.59946727e-02, -4.73246745e-02, -3.62013439e-02,  5.03188005e-02,\n",
       "         1.65301581e-03, -1.91156830e-02, -1.23276093e-02, -1.05745282e-01,\n",
       "        -2.90612703e-02, -5.73966342e-02, -9.61426425e-03, -8.82875130e-02,\n",
       "        -4.45773891e-02, -1.34628674e-02, -4.41709858e-02,  4.43285071e-02,\n",
       "         1.00036516e-02, -2.29041560e-02, -7.31020713e-02, -6.89428428e-02,\n",
       "         7.39788844e-02, -4.43204397e-02, -4.12466317e-02, -3.55803952e-02,\n",
       "        -1.06798099e-02,  1.84283093e-02, -2.65777855e-02, -1.17084528e-01,\n",
       "        -1.12248130e-01, -7.89357412e-02,  4.94658257e-03,  3.43678911e-02,\n",
       "        -6.52140827e-02, -6.44078629e-02, -1.95155689e-02, -1.13968266e-01,\n",
       "         1.07928949e-02,  6.38562564e-03, -8.82888712e-02, -7.10199772e-02,\n",
       "        -2.40794454e-02, -4.37490383e-02, -8.11403458e-02, -1.38597690e-01,\n",
       "        -4.16369971e-02,  1.72500167e-02,  5.62504045e-02, -2.43643090e-02,\n",
       "        -6.78552721e-02,  6.76029370e-03,  1.74107004e-02,  1.68774281e-02,\n",
       "         5.02927460e-02, -7.28145882e-03, -8.10789473e-02, -1.18194875e-01,\n",
       "         8.39350238e-03,  5.93782585e-02, -1.04859220e-01,  7.81726716e-02,\n",
       "         3.18840559e-02, -1.08875600e-01,  2.76340688e-03,  3.74798256e-02,\n",
       "        -4.75083653e-02,  4.50784566e-02, -1.12990795e-03, -4.74483514e-02,\n",
       "         6.76443108e-02, -3.11600508e-03, -4.36527983e-02,  2.58490633e-02,\n",
       "        -9.36879012e-02, -4.76386116e-02, -1.96855217e-02,  3.76199539e-02,\n",
       "        -1.00552337e-01, -8.60343021e-02, -8.67724599e-03, -3.44762519e-02,\n",
       "         3.22984718e-02, -1.30555618e-01,  3.53424185e-03, -1.36724519e-02,\n",
       "        -5.84513352e-02,  9.27252593e-03, -1.70313151e-02, -1.37472891e-02,\n",
       "        -3.99743544e-02, -5.23177643e-02,  8.77012524e-03,  2.45550698e-02,\n",
       "        -4.67652991e-02,  1.50587457e-02,  5.37240221e-04, -4.48891162e-02,\n",
       "         4.09179005e-02, -5.26269102e-02, -5.02132186e-02, -3.43709299e-02,\n",
       "         2.94912987e-02, -1.43347635e-01, -4.18989519e-02, -7.66486515e-02,\n",
       "        -1.65542594e-01, -4.09575563e-02, -2.71240231e-03,  6.42533865e-03,\n",
       "        -6.20474754e-03, -2.60954540e-02, -7.39869841e-03, -4.83753497e-02,\n",
       "         2.35148446e-02,  2.84003720e-02,  2.43447797e-02, -3.71952637e-02,\n",
       "        -5.78694702e-02,  4.26652235e-02,  2.03602121e-02, -1.28983430e-01,\n",
       "        -9.85144541e-03, -9.23163815e-02,  1.57244851e-02, -1.08262473e-02,\n",
       "        -1.15242050e-01,  3.28731411e-02,  8.15536638e-02,  2.17210069e-02,\n",
       "         3.70058177e-02,  7.14240871e-04, -5.49461350e-03,  7.38860382e-02,\n",
       "        -2.39967825e-02, -1.00729533e-01, -2.61560883e-02, -1.17461830e-02,\n",
       "         2.64233505e-02, -3.92569311e-02,  1.49625654e-02,  2.47329449e-02,\n",
       "         4.01245758e-02,  6.10059378e-03,  5.44738588e-03, -3.81786758e-02,\n",
       "        -7.63140984e-03, -6.06245009e-02, -1.94242450e-02, -1.87112700e-02,\n",
       "        -1.19108488e-01, -2.46966092e-02, -8.32741779e-02, -6.89379976e-02,\n",
       "        -3.82652379e-02,  8.76949720e-03,  1.51293297e-03, -7.02658378e-02,\n",
       "         2.45594897e-02,  2.87570538e-03, -3.79739778e-02, -1.08480077e-01,\n",
       "        -4.36296660e-02, -1.94774379e-02, -4.08750425e-03,  1.98786916e-02,\n",
       "         1.39654572e-02, -6.46001618e-02,  5.83513641e-03, -2.91097820e-02,\n",
       "        -8.01064699e-03, -2.49122271e-02, -2.08274621e-02, -4.79523374e-02,\n",
       "        -1.44573976e-01, -4.53832415e-02, -3.90825473e-03, -8.66227141e-02,\n",
       "         3.12414674e-02,  3.13023734e-03,  6.28256577e-04, -4.06178613e-02,\n",
       "        -1.00829831e-02, -1.12112403e-02, -1.13627670e-01,  2.85683957e-02,\n",
       "         1.76766398e-02, -4.44489161e-03, -1.34163498e-02, -2.77780598e-02,\n",
       "         8.14720999e-02, -1.15298821e-02, -5.84001997e-02,  2.76631406e-02,\n",
       "        -8.00956162e-02, -1.10555425e-01, -8.22578464e-02, -1.08705227e-01,\n",
       "        -4.82309871e-02,  5.56823879e-02,  1.07966846e-02,  1.85900642e-02,\n",
       "        -1.42825407e-01, -5.73351928e-03, -1.42509658e-01,  1.68115912e-02,\n",
       "         1.02616961e-02, -3.63334461e-02, -9.90286762e-02, -6.68627238e-02,\n",
       "        -8.92641433e-02,  3.04601257e-02,  7.62386223e-02, -7.43543545e-02,\n",
       "         4.28699514e-02,  1.09956874e-01,  4.06947887e-02,  7.12013719e-02,\n",
       "         2.27399415e-02, -9.87989505e-02, -7.77579028e-02, -6.62290264e-02,\n",
       "        -1.52551315e-02, -6.63759025e-02, -5.90012573e-02, -1.16255914e-01,\n",
       "         1.85415307e-03,  1.94090020e-02, -5.49641027e-02, -1.16185354e-01,\n",
       "        -7.69927701e-02,  5.58976544e-02, -3.67382800e-02, -8.49921124e-03,\n",
       "        -5.32608480e-03,  6.51833014e-05,  2.29354561e-02,  1.29739618e-02]),\n",
       " array([-1.82915909e-01, -1.58154644e-01, -2.26444298e-02, -1.16425597e-01,\n",
       "        -3.83113319e-02, -1.82434167e-01, -1.48512422e-01, -1.34055494e-01,\n",
       "        -1.09661308e-01, -8.39519373e-02, -1.93807773e-01, -2.22303903e-01,\n",
       "        -1.07138907e-01, -1.43916845e-01, -1.64651995e-01, -1.22150794e-01,\n",
       "        -1.48275362e-01, -1.21107994e-01, -1.28469268e-01, -1.54709894e-01,\n",
       "        -8.60226029e-02, -8.61788437e-02, -1.04271354e-01, -1.44265850e-01,\n",
       "        -1.19678575e-01, -1.49087602e-01, -1.81647746e-01, -1.45228711e-01,\n",
       "        -1.29431070e-01, -1.64389426e-01, -7.82860629e-02, -1.52477491e-01,\n",
       "        -1.31476643e-01, -1.55313949e-01, -1.32113228e-01, -2.02003996e-01,\n",
       "        -1.71885944e-01, -1.60552295e-01, -2.71162587e-02, -5.36759437e-02,\n",
       "        -1.57831719e-01, -8.37194903e-02, -1.32239938e-01, -1.24411855e-01,\n",
       "        -1.23005482e-01, -1.33796791e-01, -2.07713783e-01, -1.91695914e-01,\n",
       "        -1.73568476e-01, -1.04785483e-01, -7.97040599e-02, -9.70843121e-02,\n",
       "        -1.51078613e-01, -1.43431769e-01, -1.10069424e-01, -1.91722755e-01,\n",
       "        -2.01373621e-01, -1.32823082e-01, -1.24734182e-01, -1.95679319e-01,\n",
       "        -1.07752517e-01, -1.60068963e-01, -4.64640178e-02, -2.38369028e-01,\n",
       "        -5.56616386e-02, -1.40063726e-01, -1.63111913e-01, -2.07306356e-01,\n",
       "        -1.68118684e-01, -6.92361003e-02, -5.33212960e-02, -1.71178760e-01,\n",
       "        -8.76043752e-02, -1.89487422e-01, -9.43754758e-02, -9.33163448e-02,\n",
       "        -1.36340427e-01, -1.38119292e-01, -9.12829073e-02, -1.45567980e-01,\n",
       "        -1.08380105e-01, -1.15121977e-01, -1.63557490e-01, -1.28878862e-01,\n",
       "        -1.39181341e-01, -1.41563347e-01, -2.10248235e-01, -1.59331686e-01,\n",
       "        -1.15774085e-01, -1.60530631e-01, -1.81623738e-01, -8.44189141e-02,\n",
       "        -2.34586717e-01, -1.20402998e-01, -8.27273643e-02, -1.80412334e-01,\n",
       "        -7.10354264e-02, -1.42045174e-01, -1.97033756e-01, -5.69582836e-02,\n",
       "        -8.57238113e-02, -1.45462065e-01, -1.30491841e-01, -6.96858189e-02,\n",
       "        -1.59982937e-01, -8.15982779e-02, -1.19087338e-01, -1.05392826e-01,\n",
       "        -8.71019783e-02, -5.25133105e-02, -2.65295485e-01, -5.92553796e-02,\n",
       "        -9.60606302e-02, -1.88295094e-01, -1.34439806e-01, -9.07339396e-02,\n",
       "        -1.48755086e-01, -1.23873640e-01, -1.03297704e-01, -1.49239811e-01,\n",
       "        -1.30863604e-01, -1.63225572e-01, -1.29988702e-01, -8.93120118e-02,\n",
       "        -1.03502907e-01, -1.62290872e-01, -1.66528312e-02, -1.57929099e-01,\n",
       "        -6.81635524e-02, -2.39030355e-01, -1.11698167e-01, -1.13707599e-02,\n",
       "        -3.34982540e-02, -1.54446536e-01, -1.50252456e-01, -1.19510202e-01,\n",
       "        -1.34586007e-01, -1.14204798e-01, -1.13009857e-01, -1.35639698e-01,\n",
       "        -1.35828209e-01, -8.50356554e-02, -1.63514129e-01, -1.98058144e-01,\n",
       "        -9.34651366e-02, -3.55407264e-02, -1.18454103e-01, -1.53411098e-01,\n",
       "        -1.17538864e-01, -1.04310241e-01, -8.50855373e-02, -1.24422768e-01,\n",
       "        -1.45813113e-01, -1.09023829e-01, -1.26645969e-01, -2.14670309e-02,\n",
       "        -1.40540240e-01, -1.47201248e-01, -2.22092883e-01, -1.83293808e-01,\n",
       "        -9.12750752e-02, -1.46290488e-01, -1.35029921e-01, -1.44391736e-01,\n",
       "        -2.24403445e-02, -9.90664929e-02, -1.56859108e-01, -3.87223781e-02,\n",
       "        -1.47307443e-01, -1.11248112e-01, -1.15652933e-01, -1.31561253e-01,\n",
       "         1.60434947e-02, -9.36036266e-02, -2.03799569e-01, -1.16461319e-01,\n",
       "        -7.03291286e-02, -6.98503992e-05, -9.61872582e-02, -1.73610350e-01,\n",
       "        -1.72098044e-01, -1.39132913e-01, -1.50329180e-01, -2.89348400e-01,\n",
       "        -8.38593866e-02, -8.60328820e-02, -1.00216520e-01, -1.96244364e-01,\n",
       "        -1.39990285e-01, -1.37177928e-01, -1.37690354e-01, -5.52914462e-02,\n",
       "        -1.59434488e-01, -1.00565524e-01, -1.74618086e-01, -2.14287062e-01,\n",
       "        -1.82098549e-01, -5.75682115e-02, -1.94546438e-01, -1.15887615e-01,\n",
       "        -1.50493168e-01, -1.47369391e-01, -1.74688466e-01, -9.88997163e-02,\n",
       "        -1.42879545e-01, -1.69445239e-01, -2.00176799e-01, -2.23050363e-01,\n",
       "        -7.02607669e-02, -1.44665234e-01, -1.42378085e-01, -7.55597801e-02,\n",
       "        -1.77544780e-01, -9.80472562e-02, -8.27538573e-02, -6.61556468e-02,\n",
       "        -1.35730228e-01, -1.91585606e-01, -1.10174344e-01, -1.59311186e-01,\n",
       "        -1.67753690e-01, -5.68185189e-02, -1.88162692e-01, -1.16880873e-01,\n",
       "        -1.51847411e-01, -1.00676340e-01, -1.97668807e-01, -1.17030430e-01,\n",
       "        -1.97617713e-01, -1.28026647e-01, -1.23099680e-01, -1.07293739e-01,\n",
       "        -1.66047630e-01, -1.09285089e-01, -1.60209609e-01, -1.72421173e-01,\n",
       "        -9.03380422e-02, -1.43368310e-01, -8.55827607e-02, -1.53232865e-01,\n",
       "        -1.36708790e-01, -1.93935963e-01, -1.20955490e-01, -1.72466842e-01,\n",
       "        -1.37678858e-01, -1.21380737e-01, -1.18010668e-01, -1.26654172e-01,\n",
       "        -2.33368141e-01, -1.88518930e-01, -1.95376449e-01, -1.04030289e-01,\n",
       "        -1.34685643e-01, -1.27655722e-01, -1.47587775e-01, -1.31019003e-01,\n",
       "        -1.22261356e-01, -2.29479985e-01, -8.59223996e-02, -1.26613700e-01,\n",
       "        -1.90751252e-01, -1.48423021e-01, -9.12021737e-02, -1.46379938e-01,\n",
       "        -4.73168647e-02, -1.43410149e-01, -1.10829337e-01, -1.17535206e-01,\n",
       "        -5.93047107e-02, -2.01821610e-01, -1.72923185e-01, -1.55362764e-01,\n",
       "        -1.36428631e-01, -1.04978413e-01, -1.29644970e-01, -1.02570919e-01,\n",
       "        -1.00587272e-01, -3.84890396e-02, -1.50535126e-01, -2.10397271e-01,\n",
       "        -1.52607482e-01, -1.12568576e-01, -1.14385047e-01, -8.67436819e-02,\n",
       "        -1.91194158e-01, -1.75774336e-01, -9.10085478e-02, -7.01919472e-02,\n",
       "        -1.63842339e-01, -1.68813191e-01, -2.23874983e-01, -2.17135613e-01,\n",
       "        -1.86200833e-01, -8.73079039e-02, -9.92203715e-02, -1.22896879e-01,\n",
       "        -1.80803032e-01, -1.02726602e-01, -9.97229231e-02, -1.19102995e-01,\n",
       "        -1.69543849e-01, -8.40538530e-02, -1.12865903e-01, -7.86565208e-02,\n",
       "        -9.54112186e-02, -9.01967641e-02, -1.14866361e-01, -7.18045625e-02,\n",
       "        -1.23707948e-01, -1.61075834e-01, -1.46286630e-01, -1.75329966e-01,\n",
       "        -1.85960579e-01, -1.47363115e-01, -1.46021236e-01, -1.53339224e-01,\n",
       "        -1.47649245e-01, -1.47365938e-01, -1.54408580e-01, -1.38676532e-01,\n",
       "        -1.63363332e-01, -1.50388610e-01, -1.05042857e-01, -1.10030885e-01,\n",
       "        -1.70382279e-01, -1.24918083e-01, -1.09112944e-01, -1.36516700e-01,\n",
       "        -1.34302097e-01, -1.01267824e-01, -9.85446512e-02, -1.42486184e-01,\n",
       "        -1.50923850e-01, -9.14858675e-02, -8.88415827e-02, -6.88999432e-02,\n",
       "        -1.71619691e-01, -1.63408163e-01, -1.56773917e-01, -1.36363576e-01,\n",
       "        -1.26731738e-01, -1.26519016e-01, -1.15213991e-01, -1.55092602e-01,\n",
       "         6.52679763e-03, -4.42779304e-02, -4.17962530e-02, -9.11383561e-02,\n",
       "        -1.57644153e-01, -1.76092361e-01, -1.02878016e-01, -2.32988780e-01,\n",
       "        -2.08826318e-01, -2.06249247e-01, -8.47049214e-02, -1.95712081e-01,\n",
       "        -2.43127402e-04, -2.13012761e-01, -1.66880948e-01, -1.56756387e-01,\n",
       "        -1.34295196e-01, -2.05791080e-01, -1.42066937e-01, -1.67179249e-01,\n",
       "        -8.84073096e-02, -5.37302972e-02, -1.16133628e-01, -1.37880596e-01,\n",
       "        -1.76586061e-01, -1.49807843e-01, -9.20168860e-02, -1.82953892e-01,\n",
       "        -9.37896064e-02, -1.00230903e-01, -1.84330979e-01, -1.56563886e-01,\n",
       "        -1.58137529e-01, -1.47606142e-01, -1.06217311e-01, -1.95586780e-01,\n",
       "        -6.13840260e-02, -8.90197835e-02, -2.17411704e-01, -1.63654033e-01,\n",
       "        -1.36483836e-01, -1.39833161e-01, -1.51271041e-01, -6.40576360e-02,\n",
       "        -1.52240259e-01, -1.06427933e-01, -1.48266532e-01, -1.16259150e-01,\n",
       "        -1.00657411e-01, -1.31963180e-01, -1.39635971e-01, -1.03049669e-01,\n",
       "        -1.80340662e-01, -1.47212983e-01, -1.75283662e-01, -1.47678452e-01,\n",
       "        -1.68858215e-01, -9.83623061e-02, -1.15540051e-01, -1.77078188e-01,\n",
       "        -1.10563197e-01, -2.10620130e-01, -1.61558342e-01, -1.55383757e-01,\n",
       "        -9.42675391e-02, -1.58549542e-01, -1.67760864e-01, -9.34670466e-02,\n",
       "        -2.68388264e-02, -1.81774735e-01, -5.95842556e-02, -7.29945377e-02,\n",
       "        -1.36760791e-01, -8.89865442e-02, -1.51843165e-01, -1.34419740e-01,\n",
       "        -1.64097924e-01, -7.85049949e-02, -1.16305453e-01, -1.60535740e-01,\n",
       "        -5.98240739e-02, -6.57481705e-02, -1.76516654e-01, -1.19937374e-01,\n",
       "        -2.06324131e-01, -1.33958781e-01, -1.69038236e-01, -1.59685611e-01,\n",
       "        -1.33382352e-01, -1.43927918e-01, -9.86561385e-02, -1.39577769e-01,\n",
       "        -1.44071621e-01, -9.31011518e-02, -1.21382923e-01, -6.72397279e-02,\n",
       "        -5.75207813e-02, -1.04450535e-01, -1.19117057e-01, -1.48626749e-01,\n",
       "        -1.66809137e-01, -1.35856120e-01, -1.96328563e-01, -1.62045967e-01,\n",
       "        -1.79562565e-01, -1.02843478e-01, -1.81195529e-01, -1.38749285e-01,\n",
       "        -5.77833131e-02, -1.39545840e-01, -1.31877772e-01, -9.63550791e-02,\n",
       "        -1.35807821e-01, -1.30406752e-01, -8.66018369e-02, -1.48561665e-01,\n",
       "        -1.05834077e-01, -1.56315590e-01, -1.29041362e-01, -1.83728947e-01,\n",
       "        -9.02952641e-02, -1.97502189e-01, -1.39226175e-01, -1.36386071e-01,\n",
       "        -9.58987484e-02, -7.16198274e-02, -2.97220599e-02, -1.43125688e-01,\n",
       "        -1.23669502e-01, -1.51619154e-01, -1.49274442e-01, -1.05572833e-01,\n",
       "        -1.10872524e-01, -1.38779768e-01, -1.75931419e-01, -1.23240532e-01,\n",
       "        -2.14867325e-01, -2.02661666e-01, -1.70238945e-01, -1.41078532e-01,\n",
       "        -7.75433795e-02, -1.30959551e-01, -1.75183321e-01, -1.59888029e-01,\n",
       "        -1.52351622e-01, -1.01678468e-01, -5.56091022e-02, -1.52890478e-01,\n",
       "        -8.06940183e-02, -8.96220490e-02, -1.15976975e-01, -4.27673576e-02,\n",
       "        -9.34232273e-02, -1.74072794e-01, -1.75184060e-01, -1.85228540e-01]),\n",
       " array([-0.22676163, -0.25351371, -0.3191754 , -0.19260504, -0.25627458,\n",
       "        -0.21292637, -0.22684312, -0.2248178 , -0.28192563, -0.20049344,\n",
       "        -0.24992597, -0.24146377, -0.32873987, -0.28408985, -0.2900095 ,\n",
       "        -0.25122985, -0.16345976, -0.25523818, -0.22060723, -0.3449378 ,\n",
       "        -0.27270082, -0.32630548, -0.27466547, -0.2053512 , -0.21065292,\n",
       "        -0.22502048, -0.14413469, -0.27794885, -0.22052112, -0.27582512,\n",
       "        -0.32838396, -0.28026972, -0.24928408, -0.30263393, -0.19009582,\n",
       "        -0.24339602, -0.30656007, -0.26956412, -0.2961769 , -0.33195838,\n",
       "        -0.20438293, -0.28755385, -0.2845559 , -0.20057571, -0.14120957,\n",
       "        -0.27589296, -0.21730792, -0.22401033, -0.17231852, -0.25568748,\n",
       "        -0.19100189, -0.24940827, -0.2796774 , -0.31296012, -0.16350727,\n",
       "        -0.20809607, -0.28265867, -0.2180425 , -0.2018783 , -0.18693251,\n",
       "        -0.22985746, -0.3213376 , -0.18375493, -0.20350963, -0.2006846 ,\n",
       "        -0.24286456, -0.25870049, -0.14188545, -0.19413503, -0.24758918,\n",
       "        -0.25035939, -0.22791364, -0.24674428, -0.23221046, -0.19104475,\n",
       "        -0.14563707, -0.26595515, -0.28099382, -0.28274123, -0.22064365,\n",
       "        -0.29429258, -0.23805937, -0.30532774, -0.16030775, -0.18197683,\n",
       "        -0.33921114, -0.21717141, -0.29816275, -0.25184158, -0.2366878 ,\n",
       "        -0.27126291, -0.18848537, -0.21265022, -0.22454954, -0.2123396 ,\n",
       "        -0.1444263 , -0.24243226, -0.13947468, -0.24066858, -0.19367937,\n",
       "        -0.21078956, -0.24816523, -0.30374446, -0.33146831, -0.23951501,\n",
       "        -0.20857158, -0.16030806, -0.27813887, -0.2627001 , -0.29507504,\n",
       "        -0.27622191, -0.2878413 , -0.20864014, -0.23199459, -0.19264913,\n",
       "        -0.26246054, -0.35801739, -0.28776832, -0.22373918, -0.20857315,\n",
       "        -0.19963879, -0.1942479 , -0.26669471, -0.22569919, -0.28948421,\n",
       "        -0.26293655, -0.22730478, -0.22361553, -0.24452952, -0.29189832,\n",
       "        -0.20422973, -0.21074739, -0.27691649, -0.27225812, -0.23425618,\n",
       "        -0.23562547, -0.18807222, -0.22942462, -0.22107343, -0.27733423,\n",
       "        -0.25147732, -0.29124925, -0.28359198, -0.2022146 , -0.28638365,\n",
       "        -0.14509375, -0.24137583, -0.23744106, -0.20785038, -0.16967681,\n",
       "        -0.23812684, -0.1703751 , -0.21208348, -0.28195404, -0.20229484,\n",
       "        -0.28068513, -0.26916535, -0.21516183, -0.20181325, -0.21527483,\n",
       "        -0.28585147, -0.27177737, -0.28932445, -0.22398645, -0.32381332,\n",
       "        -0.21395909, -0.2029284 , -0.20073008, -0.2124877 , -0.14882747,\n",
       "        -0.27095194, -0.21729301, -0.18244804, -0.18507231, -0.19906318,\n",
       "        -0.18473522, -0.16350491, -0.20047857, -0.22373023, -0.29010473,\n",
       "        -0.22031914, -0.28857167, -0.27728153, -0.21669222, -0.21999499,\n",
       "        -0.22662654, -0.28874563, -0.23349541, -0.22199258, -0.27693385,\n",
       "        -0.23373416, -0.16462816, -0.29642263, -0.2023101 , -0.25688289,\n",
       "        -0.19553732, -0.3030331 , -0.26673579, -0.26476649, -0.22463632,\n",
       "        -0.23831296, -0.2468328 , -0.25800263, -0.13373776, -0.24855271,\n",
       "        -0.20429497, -0.28662363, -0.37495198, -0.27048484, -0.19930782,\n",
       "        -0.24635517, -0.19435759, -0.21319661, -0.28811719, -0.25327419,\n",
       "        -0.21181547, -0.2099255 , -0.23796386, -0.27649623, -0.2950432 ,\n",
       "        -0.30485472, -0.33213608, -0.26489981, -0.16501319, -0.20857334,\n",
       "        -0.19415083, -0.19981524, -0.12459403, -0.36095784, -0.24256022,\n",
       "        -0.18582282, -0.30906508, -0.21760703, -0.12209175, -0.26812204,\n",
       "        -0.21428535, -0.26131546, -0.14492042, -0.27103453, -0.22630054,\n",
       "        -0.20417858, -0.25310931, -0.23139802, -0.23505378, -0.35132073,\n",
       "        -0.26484155, -0.24059691, -0.20387216, -0.20656558, -0.29715784,\n",
       "        -0.24257021, -0.16519173, -0.34270614, -0.15915513, -0.33300373,\n",
       "        -0.28339469, -0.20779411, -0.24775634, -0.17886828, -0.12088852,\n",
       "        -0.13492365, -0.28602175, -0.25662865, -0.29097479, -0.2995915 ,\n",
       "        -0.23861306, -0.21845635, -0.23599767, -0.1985925 , -0.24888267,\n",
       "        -0.24855906, -0.27466047, -0.28011362, -0.17082591, -0.2793742 ,\n",
       "        -0.22307162, -0.17463686, -0.15350795, -0.25678363, -0.23263755,\n",
       "        -0.17468661, -0.18738557, -0.25254891, -0.27912892, -0.20856167,\n",
       "        -0.16889052, -0.32876718, -0.18920134, -0.09998553, -0.19639315,\n",
       "        -0.26933926, -0.27587926, -0.26773091, -0.24312861, -0.28215045,\n",
       "        -0.17208167, -0.33993205, -0.23827435, -0.23475488, -0.21208507,\n",
       "        -0.15756479, -0.16189896, -0.28988847, -0.19344579, -0.17694982,\n",
       "        -0.20335374, -0.22974247, -0.18936442, -0.16201947, -0.32338377,\n",
       "        -0.19274307, -0.16162472, -0.2246347 , -0.20078198, -0.2752699 ,\n",
       "        -0.24517871, -0.14882328, -0.2207602 , -0.30120982, -0.25956848,\n",
       "        -0.17564398, -0.21516991, -0.19817   , -0.26633331, -0.27946303,\n",
       "        -0.20356682, -0.22079303, -0.24709982, -0.24996276, -0.29625654,\n",
       "        -0.20306293, -0.21530973, -0.14042101, -0.1972519 , -0.23708349,\n",
       "        -0.2318722 , -0.24369726, -0.14528198, -0.25200919, -0.22221399,\n",
       "        -0.26964161, -0.26498187, -0.20108702, -0.2266508 , -0.19418313,\n",
       "        -0.20185329, -0.19013413, -0.16530422, -0.17987784, -0.28672267,\n",
       "        -0.18721876, -0.31140115, -0.28701095, -0.30958558, -0.26263034,\n",
       "        -0.25886819, -0.20035812, -0.18289282, -0.3604177 , -0.2910462 ,\n",
       "        -0.31463569, -0.33167624, -0.28083819, -0.21404227, -0.18491989,\n",
       "        -0.36162955, -0.28381722, -0.26579463, -0.12052249, -0.30711645,\n",
       "        -0.2789795 , -0.2182085 , -0.23501674, -0.30833082, -0.26517705,\n",
       "        -0.14906796, -0.25509142, -0.19743095, -0.18343226, -0.26239772,\n",
       "        -0.21312891, -0.17314331, -0.17372739, -0.26250755, -0.18969989,\n",
       "        -0.18416961, -0.23238208, -0.21849073, -0.20120669, -0.25756673,\n",
       "        -0.28248398, -0.2015716 , -0.18315617, -0.26948217, -0.29211276,\n",
       "        -0.20813127, -0.26050398, -0.32579508, -0.1974357 , -0.26991429,\n",
       "        -0.27007589, -0.26841166, -0.22001624, -0.13450643, -0.30566521,\n",
       "        -0.22034969, -0.33678154, -0.18939716, -0.2204078 , -0.21751337,\n",
       "        -0.32362867, -0.14738682, -0.19834231, -0.22529912, -0.18245755,\n",
       "        -0.2540374 , -0.19603717, -0.25317055, -0.28215765, -0.20926506,\n",
       "        -0.15857424, -0.23594143, -0.09520046, -0.29951524, -0.26242049,\n",
       "        -0.2485786 , -0.2697766 , -0.29823747, -0.31250556, -0.27042507,\n",
       "        -0.22842288, -0.24787719, -0.11339551, -0.21463913, -0.19874197,\n",
       "        -0.13925405, -0.1935188 , -0.17790964, -0.25374032, -0.22625835,\n",
       "        -0.18933245, -0.2258513 , -0.23347694, -0.18509141, -0.25891511,\n",
       "        -0.3707892 , -0.28084284, -0.25786216, -0.19499264, -0.18165351,\n",
       "        -0.20627174, -0.19266183, -0.25700822, -0.38900841, -0.16318508,\n",
       "        -0.28699215, -0.23214047, -0.25176394, -0.27934862, -0.18859556,\n",
       "        -0.23912841, -0.22519108, -0.27719986, -0.27059644, -0.16683153,\n",
       "        -0.30097194, -0.31104747, -0.26027943, -0.25118223, -0.28948682,\n",
       "        -0.2188548 , -0.16501258, -0.14052087, -0.22924878, -0.3306581 ,\n",
       "        -0.21830754, -0.21627575, -0.24707218, -0.26550596, -0.12029068,\n",
       "        -0.29776189, -0.20811002, -0.14035092, -0.24485348, -0.32391704,\n",
       "        -0.29101439, -0.29998032, -0.17500892, -0.30503105, -0.21037884,\n",
       "        -0.24248235, -0.25210348, -0.22123371, -0.30748308, -0.22957267,\n",
       "        -0.1983967 , -0.15646432, -0.22298639, -0.26184291, -0.26563531]),\n",
       " array([-0.68072783, -0.73771265, -0.67129634, -0.82092809, -0.75578241,\n",
       "        -0.62605461, -0.71635101, -0.71368661, -0.75232104, -0.72351679,\n",
       "        -0.7289185 , -0.70924805, -0.72202189, -0.81641075, -0.70823138,\n",
       "        -0.80845868, -0.65694306, -0.72321604, -0.81093107, -0.66893594,\n",
       "        -0.73804663, -0.71728809, -0.75555879, -0.71446793, -0.67747777,\n",
       "        -0.68189607, -0.66359094, -0.62504556, -0.73144346, -0.75413839,\n",
       "        -0.70783943, -0.6930899 , -0.74384954, -0.76797562, -0.70380183,\n",
       "        -0.77971471, -0.71041674, -0.74634128, -0.66227953, -0.74709553,\n",
       "        -0.75582006, -0.65926815, -0.78465629, -0.6431755 , -0.71137625,\n",
       "        -0.70436718, -0.64344465, -0.66922542, -0.72591816, -0.75138224,\n",
       "        -0.74663444, -0.67613379, -0.73056958, -0.68597296, -0.64868989,\n",
       "        -0.66516292, -0.79688232, -0.80615806, -0.73818284, -0.75145352,\n",
       "        -0.67730106, -0.73301804, -0.76736977, -0.72864499, -0.6608481 ,\n",
       "        -0.76139216, -0.68138193, -0.72224246, -0.74285929, -0.75670037,\n",
       "        -0.69815134, -0.79085085, -0.74179257, -0.79627763, -0.78901794,\n",
       "        -0.69667418, -0.7365834 , -0.73091903, -0.72128252, -0.64067709,\n",
       "        -0.69681381, -0.68186109, -0.71121342, -0.73001835, -0.73252293,\n",
       "        -0.75594108, -0.72602511, -0.71170672, -0.73652537, -0.68746159,\n",
       "        -0.71805686, -0.70968818, -0.70728416, -0.66752621, -0.70210512,\n",
       "        -0.73798632, -0.79047192, -0.66089583, -0.67965412, -0.61840917,\n",
       "        -0.66381325, -0.64569939, -0.64532005, -0.72731346, -0.66199587,\n",
       "        -0.69894725, -0.73380498, -0.7294912 , -0.737694  , -0.72124648,\n",
       "        -0.75287496, -0.68804405, -0.84192849, -0.70029875, -0.64746327,\n",
       "        -0.68726042, -0.74822682, -0.7035881 , -0.74974663, -0.75904707,\n",
       "        -0.72932249, -0.6848572 , -0.69864129, -0.70781553, -0.77541872,\n",
       "        -0.69555473, -0.69631784, -0.69763441, -0.74507793, -0.75630201,\n",
       "        -0.75052567, -0.8168943 , -0.63735401, -0.71727025, -0.73145559,\n",
       "        -0.72943259, -0.79092361, -0.73120537, -0.69846887, -0.73440036,\n",
       "        -0.7018093 , -0.72117036, -0.66431042, -0.68510719, -0.77809737,\n",
       "        -0.70263915, -0.72516372, -0.73256004, -0.653338  , -0.73300849,\n",
       "        -0.70325266, -0.71446167, -0.6989612 , -0.77900576, -0.65946666,\n",
       "        -0.71910594, -0.82640823, -0.65048684, -0.80626167, -0.6828307 ,\n",
       "        -0.72883187, -0.77674845, -0.67512239, -0.73057666, -0.81133593,\n",
       "        -0.68912374, -0.69190786, -0.74659025, -0.69704922, -0.72770491,\n",
       "        -0.72676779, -0.73155956, -0.77541919, -0.71799975, -0.66466626,\n",
       "        -0.68681629, -0.70541968, -0.75248757, -0.79479832, -0.70523371,\n",
       "        -0.78055231, -0.68532082, -0.70470259, -0.72645197, -0.67093584,\n",
       "        -0.76777264, -0.70603563, -0.68552578, -0.68326751, -0.79652618,\n",
       "        -0.71973118, -0.69489366, -0.7062201 , -0.71458215, -0.78586997,\n",
       "        -0.72567501, -0.70235122, -0.64154623, -0.71172185, -0.70613553,\n",
       "        -0.70728405, -0.6999104 , -0.7125051 , -0.76515525, -0.75514441,\n",
       "        -0.7277589 , -0.71024598, -0.81703757, -0.76094794, -0.7788232 ,\n",
       "        -0.77534536, -0.80711331, -0.77112903, -0.69889292, -0.75340563,\n",
       "        -0.70875567, -0.68644143, -0.71668119, -0.75264589, -0.75407481,\n",
       "        -0.71652411, -0.67657118, -0.68175358, -0.7032613 , -0.72457516,\n",
       "        -0.6718919 , -0.65939695, -0.68178208, -0.73939868, -0.7227375 ,\n",
       "        -0.68668286, -0.76989052, -0.64543749, -0.64481186, -0.71735226,\n",
       "        -0.67966282, -0.6720328 , -0.68250052, -0.69709395, -0.69894433,\n",
       "        -0.72098106, -0.70262039, -0.75768725, -0.70286882, -0.7290987 ,\n",
       "        -0.74294431, -0.70163419, -0.75269351, -0.66924371, -0.79341853,\n",
       "        -0.70348097, -0.76472672, -0.74379983, -0.68357669, -0.67153699,\n",
       "        -0.70462228, -0.69834578, -0.83161172, -0.71080522, -0.69550257,\n",
       "        -0.73085864, -0.75395966, -0.73000657, -0.7321765 , -0.70340329,\n",
       "        -0.72946986, -0.77740599, -0.69025423, -0.81619867, -0.76382941,\n",
       "        -0.68425381, -0.78009038, -0.80757093, -0.73094361, -0.69052771,\n",
       "        -0.74431556, -0.71547014, -0.75483786, -0.74483082, -0.60320121,\n",
       "        -0.71392131, -0.78966645, -0.72167802, -0.67367561, -0.7071875 ,\n",
       "        -0.66477442, -0.7644227 , -0.63682756, -0.62717539, -0.67532339,\n",
       "        -0.62312005, -0.77447997, -0.67167934, -0.73355102, -0.80009602,\n",
       "        -0.61680702, -0.77289702, -0.75091832, -0.64869802, -0.76208718,\n",
       "        -0.66839994, -0.75715944, -0.82099049, -0.72134545, -0.71397843,\n",
       "        -0.70005472, -0.66121118, -0.6919954 , -0.62842883, -0.70771567,\n",
       "        -0.74600604, -0.7758143 , -0.7337127 , -0.63233164, -0.68659319,\n",
       "        -0.8237661 , -0.65204933, -0.77640287, -0.76924863, -0.73924702,\n",
       "        -0.73315607, -0.70520352, -0.70219212, -0.6646605 , -0.69510544,\n",
       "        -0.70815186, -0.65317882, -0.69658778, -0.71800922, -0.65217333,\n",
       "        -0.82487972, -0.6714765 , -0.6855212 , -0.66852193, -0.67117955,\n",
       "        -0.71200835, -0.78331677, -0.7606775 , -0.65760792, -0.7149842 ,\n",
       "        -0.69330639, -0.74682776, -0.69521459, -0.69974805, -0.68623717,\n",
       "        -0.77315784, -0.71132274, -0.71243775, -0.65695428, -0.73505855,\n",
       "        -0.75031757, -0.72040831, -0.68821281, -0.72461502, -0.74318407,\n",
       "        -0.74029121, -0.64271859, -0.63442199, -0.74890768, -0.69931145,\n",
       "        -0.71270955, -0.72877537, -0.72169987, -0.72565285, -0.72407611,\n",
       "        -0.6402678 , -0.72479892, -0.69858902, -0.73627241, -0.75043622,\n",
       "        -0.69701017, -0.68027613, -0.72325479, -0.72609286, -0.77404027,\n",
       "        -0.72655084, -0.7031937 , -0.78566723, -0.6736992 , -0.77901451,\n",
       "        -0.65563745, -0.74410048, -0.66514002, -0.66514416, -0.66560544,\n",
       "        -0.66441326, -0.69834666, -0.59741332, -0.77909313, -0.69052919,\n",
       "        -0.71529386, -0.75862288, -0.71770109, -0.74072227, -0.70251021,\n",
       "        -0.6810814 , -0.64111043, -0.66842305, -0.76922592, -0.72796551,\n",
       "        -0.72185857, -0.73678037, -0.69683317, -0.78489722, -0.63215655,\n",
       "        -0.69246045, -0.73067934, -0.68623129, -0.72942077, -0.73361164,\n",
       "        -0.7043632 , -0.70671476, -0.76117636, -0.64665714, -0.76673325,\n",
       "        -0.66295933, -0.72127081, -0.679719  , -0.78548248, -0.80467603,\n",
       "        -0.69613761, -0.86496146, -0.68853373, -0.68691846, -0.74158769,\n",
       "        -0.69547072, -0.68851191, -0.6970218 , -0.73297897, -0.69291461,\n",
       "        -0.67559442, -0.6533442 , -0.69832157, -0.70908754, -0.69845868,\n",
       "        -0.75851528, -0.68227309, -0.72261604, -0.67767928, -0.65566676,\n",
       "        -0.70652146, -0.64887273, -0.74801166, -0.72400057, -0.66445185,\n",
       "        -0.7845431 , -0.75729474, -0.70892072, -0.77559674, -0.76255319,\n",
       "        -0.73698868, -0.7777883 , -0.7207241 , -0.67607781, -0.73454825,\n",
       "        -0.70828363, -0.78670772, -0.68145878, -0.7766321 , -0.68792197,\n",
       "        -0.69906279, -0.73450326, -0.78653659, -0.72660151, -0.68548897,\n",
       "        -0.65246264, -0.76529764, -0.67869655, -0.75528867, -0.73752961,\n",
       "        -0.83329445, -0.54752315, -0.66327224, -0.63535913, -0.72814065,\n",
       "        -0.70264062, -0.77708619, -0.68135038, -0.71795431, -0.69010517,\n",
       "        -0.66698621, -0.8068687 , -0.73273392, -0.71247863, -0.76970764,\n",
       "        -0.76419042, -0.64066967, -0.78411884, -0.75231957, -0.76932923,\n",
       "        -0.83264734, -0.73195584, -0.79930993, -0.69903555, -0.69745232,\n",
       "        -0.71850164, -0.70469748, -0.75830148, -0.71620593, -0.67964276]),\n",
       " array([-1.00009776, -0.98398531, -1.09445229, -0.9866639 , -1.01825753,\n",
       "        -1.06518513, -0.97885478, -0.96237482, -0.99657208, -0.99166616,\n",
       "        -1.04516402, -0.94591381, -1.06414652, -1.06109922, -0.96736772,\n",
       "        -1.03051772, -0.94987522, -1.01583471, -1.04643322, -1.09505565,\n",
       "        -1.12885446, -1.03679879, -0.97995968, -0.91645845, -1.03709693,\n",
       "        -0.97850254, -1.06542646, -1.13594744, -1.11650853, -1.03809868,\n",
       "        -0.95965993, -1.06108115, -0.92565177, -1.04615735, -1.01926638,\n",
       "        -1.00391023, -1.06939807, -0.94066314, -0.97347354, -1.017     ,\n",
       "        -0.9693791 , -1.0988636 , -1.05132954, -1.00424669, -1.04268255,\n",
       "        -1.03486321, -0.92573301, -0.98970245, -1.01402017, -0.97321061,\n",
       "        -1.11793309, -0.96253694, -1.02961092, -1.05590665, -1.01967272,\n",
       "        -1.01515055, -1.0296123 , -1.05144375, -1.05577973, -0.97965581,\n",
       "        -1.06579001, -1.05550084, -1.01577322, -1.05918352, -0.99279969,\n",
       "        -1.04445317, -1.06958159, -1.04918876, -1.10344925, -1.03124666,\n",
       "        -0.97230774, -0.99439888, -0.91558303, -1.04570793, -1.08218958,\n",
       "        -0.97023983, -0.95521475, -1.05945221, -0.97945445, -1.09024978,\n",
       "        -1.06250058, -1.07438137, -1.03057147, -1.11792897, -0.9745197 ,\n",
       "        -0.97642283, -0.91935274, -0.9983279 , -1.08977746, -1.03278235,\n",
       "        -0.96352593, -1.0155246 , -0.99090318, -1.01924398, -0.98741135,\n",
       "        -1.07577062, -1.08599014, -0.98473274, -0.94248286, -0.99386887,\n",
       "        -0.9535893 , -1.03945521, -1.05469755, -1.04625403, -1.00732395,\n",
       "        -0.9759776 , -0.93751079, -1.00263242, -1.09918866, -1.13766912,\n",
       "        -0.98069696, -0.95776005, -1.02789331, -0.94652712, -1.02005546,\n",
       "        -0.99716235, -1.06057846, -0.94780265, -0.92449688, -1.01030037,\n",
       "        -0.99058935, -0.9717912 , -0.99526578, -0.95669804, -1.06058896,\n",
       "        -0.99773267, -1.12840482, -0.99955529, -0.95757035, -1.04516321,\n",
       "        -0.91528447, -1.10896442, -0.9904102 , -0.91711199, -1.06309298,\n",
       "        -1.00056232, -1.00084291, -0.94440495, -1.0564344 , -1.1048667 ,\n",
       "        -1.04854161, -1.05127043, -0.91184877, -0.94779855, -1.09797139,\n",
       "        -1.02756606, -1.00771198, -1.00346647, -0.95994883, -1.03295779,\n",
       "        -1.07951898, -0.95715807, -0.97029485, -0.96758571, -1.00108339,\n",
       "        -1.01069676, -0.96602038, -1.03260608, -1.05090523, -1.03584363,\n",
       "        -0.97819035, -1.11114651, -0.95577059, -1.00479378, -1.04160589,\n",
       "        -1.08262246, -1.02930602, -1.06640251, -1.11036239, -0.99559092,\n",
       "        -1.06263954, -1.01756923, -0.99097985, -0.97471709, -1.0518745 ,\n",
       "        -1.04656439, -1.05084342, -0.98492495, -0.97993214, -1.0215751 ,\n",
       "        -1.01634494, -1.01104106, -0.96387226, -1.04953854, -1.04206867,\n",
       "        -0.96241156, -1.01829256, -1.0336811 , -1.01171973, -0.9946724 ,\n",
       "        -0.98275807, -1.02870243, -1.0056982 , -1.02883174, -1.04478892,\n",
       "        -1.03945645, -1.06497965, -1.02753568, -1.02316696, -0.89740201,\n",
       "        -0.94305976, -0.99949788, -1.00315337, -1.05212706, -0.99644304,\n",
       "        -0.97455978, -1.12787657, -0.91217047, -1.0509433 , -1.03428564,\n",
       "        -1.03699939, -0.94799195, -0.94169593, -0.99685469, -0.97080854,\n",
       "        -0.98893566, -1.01035525, -1.02022644, -1.06915091, -0.98262282,\n",
       "        -0.98644452, -0.99462551, -1.08422699, -1.06653259, -0.97162442,\n",
       "        -1.08203268, -1.04284299, -0.92717286, -1.04818212, -0.98646208,\n",
       "        -1.12436512, -0.98153917, -1.06296069, -0.94161857, -0.9765496 ,\n",
       "        -1.0696151 , -0.99394337, -0.92366567, -1.07544108, -0.97019413,\n",
       "        -0.93761216, -1.04671985, -1.09098174, -1.010492  , -1.06172252,\n",
       "        -1.02881406, -1.04740609, -1.08929674, -0.98304793, -1.01329925,\n",
       "        -1.01762114, -0.99148825, -1.02011883, -1.09258489, -1.02139725,\n",
       "        -1.07898968, -0.98832473, -1.01760429, -1.01129551, -1.06597457,\n",
       "        -1.01660297, -1.05685831, -1.0284952 , -1.08787103, -1.04882996,\n",
       "        -1.03839729, -1.04469234, -0.99616336, -0.97396106, -1.04313905,\n",
       "        -0.98208931, -0.99447355, -1.01113978, -1.0265483 , -1.04717466,\n",
       "        -0.99338097, -1.0223298 , -1.02596919, -0.9883102 , -0.95989835,\n",
       "        -1.02806835, -0.98975634, -1.02332182, -1.08584932, -0.991648  ,\n",
       "        -1.08033218, -1.06138954, -1.06274623, -1.06852732, -1.10954433,\n",
       "        -1.05232697, -0.97142123, -0.97478904, -1.03818332, -1.00073896,\n",
       "        -1.05467824, -1.04341934, -1.02713926, -1.07063213, -1.02140594,\n",
       "        -0.9958874 , -1.00923073, -1.03932323, -1.09967179, -1.03321887,\n",
       "        -0.9785078 , -1.00173754, -1.00824875, -1.05509317, -1.00164881,\n",
       "        -0.97950881, -0.95371397, -0.98220383, -0.99820655, -1.08744358,\n",
       "        -1.01179691, -1.08607412, -1.08914078, -1.08239316, -1.00468372,\n",
       "        -0.97541206, -0.90331676, -0.99555782, -1.09157116, -1.04564475,\n",
       "        -1.06863229, -0.98521855, -1.07592836, -0.99222988, -0.96526032,\n",
       "        -1.00010551, -1.05801429, -0.95869043, -1.0853816 , -1.10303215,\n",
       "        -0.94778597, -1.10292622, -1.05293915, -0.90015286, -1.00469236,\n",
       "        -1.02356198, -1.08087303, -1.02366322, -0.91844427, -0.97571247,\n",
       "        -1.0054915 , -1.04550943, -0.996649  , -0.95923929, -1.03587606,\n",
       "        -1.06696801, -1.06056448, -0.96550602, -1.01959393, -1.00899107,\n",
       "        -0.91779422, -1.10543392, -1.00339531, -1.02084306, -0.97754151,\n",
       "        -1.05905495, -1.06406013, -0.95475034, -1.00262334, -1.06099362,\n",
       "        -1.03121725, -1.06938716, -0.94520035, -1.08050417, -1.05263296,\n",
       "        -1.0396143 , -1.04728098, -1.19097101, -1.07641335, -1.06755597,\n",
       "        -1.01923488, -0.98170812, -0.96913452, -1.05807201, -0.95781739,\n",
       "        -1.01035872, -1.08194398, -1.00779019, -0.94069271, -1.10014418,\n",
       "        -1.02164627, -1.04010432, -1.0736316 , -1.03585013, -1.02136181,\n",
       "        -1.05581029, -1.02534437, -1.00318485, -0.96259474, -0.98977907,\n",
       "        -0.96598429, -0.99228331, -1.01737261, -1.01272792, -0.95742776,\n",
       "        -1.0761642 , -1.01433018, -1.07754601, -0.98561794, -1.01823263,\n",
       "        -0.95574049, -1.01554204, -1.04255784, -0.97389333, -1.08490548,\n",
       "        -0.89047571, -1.03000473, -0.99999028, -1.08246651, -1.03134576,\n",
       "        -0.93552963, -0.98079208, -1.03076597, -1.09367242, -0.98593964,\n",
       "        -0.94343381, -0.97058458, -0.98619982, -1.10505702, -1.03424375,\n",
       "        -1.04915747, -0.98253182, -1.02378468, -1.07209662, -0.9917701 ,\n",
       "        -1.06299399, -1.0405809 , -1.05830481, -0.97768065, -1.00660102,\n",
       "        -1.07608222, -1.05410801, -1.00620073, -1.03993185, -1.03716727,\n",
       "        -0.98301314, -1.04788275, -1.00440607, -0.9429366 , -0.99180086,\n",
       "        -1.03732554, -1.03859508, -1.05086163, -1.10614157, -1.00779561,\n",
       "        -1.0139225 , -1.03194057, -1.06654959, -0.99376305, -1.03406897,\n",
       "        -1.09532197, -1.00290622, -0.96324543, -1.09523254, -1.07184021,\n",
       "        -0.94524041, -0.9943873 , -1.04001331, -1.07185376, -1.07174286,\n",
       "        -0.99585208, -0.99561627, -1.04992418, -0.94341393, -1.00668702,\n",
       "        -1.00270582, -1.03365046, -1.00872859, -1.08500628, -0.98431555,\n",
       "        -1.05735506, -1.05160453, -0.97311419, -1.07682639, -0.98164379,\n",
       "        -0.95413079, -1.07251645, -1.00613789, -0.87170028, -1.03350501,\n",
       "        -0.98827066, -0.93034801, -1.02400556, -1.02336687, -1.04992684,\n",
       "        -1.06794353, -1.05285586, -0.98343484, -0.92625455, -1.0015632 ,\n",
       "        -1.05408452, -0.92182289, -1.06467248, -1.01007871, -0.9412408 ])]"
      ]
     },
     "execution_count": 287,
     "metadata": {},
     "output_type": "execute_result"
    }
   ],
   "source": [
    "j_all_SE = []\n",
    "for metal_Es in add_noise(calibrated_binding_energies_SE):\n",
    "    j_single_metal = []\n",
    "    for U in U_list:\n",
    "        j = Koutecky(arrhenius(metal_Es, U = U), j_D = 1)\n",
    "        j_single_metal.append(j)\n",
    "    j_all_SE.append(j_single_metal) #Lav det til et dictionary, så bliver det lettere at folde ud i en plotting funktion"
   ]
  },
  {
   "cell_type": "code",
   "execution_count": 270,
   "id": "f880afbc",
   "metadata": {
    "scrolled": true
   },
   "outputs": [
    {
     "data": {
      "text/plain": [
       "[array([1.52133418, 1.46441481, 1.44758631, 1.46282002, 1.48066892,\n",
       "        1.32871597, 1.43009094, 1.51296112, 1.48033611, 1.36820363,\n",
       "        1.44093188, 1.4464727 , 1.43283059, 1.47259059, 1.50964457,\n",
       "        1.42991497, 1.4635497 , 1.5645869 , 1.45190729, 1.49244808,\n",
       "        1.43801284, 1.49484089, 1.46345486, 1.49882267, 1.46308269,\n",
       "        1.49433931, 1.50792569, 1.44199145, 1.48131208, 1.45435556,\n",
       "        1.50426559, 1.51402237, 1.34393389, 1.48836018, 1.52803217,\n",
       "        1.47995128, 1.48644338, 1.50058571, 1.49911726, 1.43909398,\n",
       "        1.47924373, 1.48241656, 1.46469088, 1.3713495 , 1.43669339,\n",
       "        1.49050857, 1.49141466, 1.43917548, 1.52832688, 1.50616529,\n",
       "        1.52989504, 1.43986478, 1.37857156, 1.53885944, 1.55126404,\n",
       "        1.53990969, 1.53271157, 1.52679446, 1.35440692, 1.47842946,\n",
       "        1.46989387, 1.49366655, 1.51669639, 1.52292596, 1.4868787 ,\n",
       "        1.447986  , 1.50075246, 1.53468759, 1.47235881, 1.52792131,\n",
       "        1.42683934, 1.45104141, 1.44440575, 1.51927484, 1.50082009,\n",
       "        1.47490443, 1.41694671, 1.51244245, 1.38205801, 1.40896044,\n",
       "        1.53866973, 1.47018609, 1.44941607, 1.46961042, 1.50767612,\n",
       "        1.4609001 , 1.48028476, 1.42242847, 1.44163153, 1.48615975,\n",
       "        1.55730887, 1.42288349, 1.46161416, 1.36105514, 1.52949427,\n",
       "        1.52876755, 1.5267572 , 1.45247721, 1.48853092, 1.45889947,\n",
       "        1.44314889, 1.36649046, 1.48209301, 1.46031297, 1.40607777,\n",
       "        1.4674628 , 1.54746953, 1.4352683 , 1.43246724, 1.47680591,\n",
       "        1.46287377, 1.46606435, 1.45434352, 1.42846652, 1.47135839,\n",
       "        1.46405916, 1.4979977 , 1.46803799, 1.5185873 , 1.45745989,\n",
       "        1.53768205, 1.49585272, 1.39000951, 1.47024266, 1.42006619,\n",
       "        1.45851077, 1.42043096, 1.38215275, 1.52977918, 1.48094298,\n",
       "        1.43298026, 1.39444917, 1.50673964, 1.47440019, 1.46910813,\n",
       "        1.47810657, 1.4994106 , 1.49457298, 1.53790752, 1.42605646,\n",
       "        1.50667989, 1.37853741, 1.5281605 , 1.46227361, 1.46546652,\n",
       "        1.50947319, 1.44071301, 1.50028702, 1.47836423, 1.51965558,\n",
       "        1.50900367, 1.50706942, 1.52512542, 1.56266904, 1.49674537,\n",
       "        1.44615821, 1.46437365, 1.4522453 , 1.56832396, 1.48654006,\n",
       "        1.50160019, 1.44379379, 1.37182173, 1.41741078, 1.43838847,\n",
       "        1.49767605, 1.37758815, 1.54316825, 1.45391233, 1.4324016 ,\n",
       "        1.44758742, 1.39645317, 1.41164777, 1.49402983, 1.45663243,\n",
       "        1.5580985 , 1.42361946, 1.43560245, 1.39005535, 1.44675488,\n",
       "        1.43600345, 1.54100652, 1.52825923, 1.43204831, 1.52297209,\n",
       "        1.52018205, 1.4797083 , 1.43503273, 1.44530904, 1.54497034,\n",
       "        1.42583363, 1.55100582, 1.47331208, 1.43678056, 1.4888241 ,\n",
       "        1.50030971, 1.55880634, 1.43600507, 1.4239493 , 1.46435315,\n",
       "        1.43015272, 1.50405428, 1.45259703, 1.4769479 , 1.42763019,\n",
       "        1.53392973, 1.53515527, 1.45925858, 1.39398851, 1.4369239 ,\n",
       "        1.46588882, 1.55466756, 1.50756211, 1.43810295, 1.44948635,\n",
       "        1.4454686 , 1.45133882, 1.50339334, 1.40606374, 1.42480941,\n",
       "        1.43758357, 1.42976573, 1.5101795 , 1.49383012, 1.46313823,\n",
       "        1.53012931, 1.4114639 , 1.49087037, 1.40579125, 1.58373413,\n",
       "        1.49595297, 1.51923586, 1.52391411, 1.4870348 , 1.49736987,\n",
       "        1.42547755, 1.51890592, 1.53715094, 1.49987431, 1.38922941,\n",
       "        1.38839693, 1.51713246, 1.49410205, 1.42628663, 1.42740153,\n",
       "        1.50190467, 1.41232248, 1.43439568, 1.54434033, 1.43689024,\n",
       "        1.45602108, 1.40978844, 1.45614247, 1.42855312, 1.41407195,\n",
       "        1.50249203, 1.42044872, 1.49794478, 1.4831686 , 1.46877964,\n",
       "        1.52391056, 1.37429277, 1.44625132, 1.46549743, 1.44660579,\n",
       "        1.39514908, 1.48033819, 1.46649308, 1.50096923, 1.5098605 ,\n",
       "        1.40703404, 1.5348516 , 1.45816072, 1.45624944, 1.49453832,\n",
       "        1.48734309, 1.44869285, 1.45872117, 1.48859973, 1.49997453,\n",
       "        1.48675865, 1.36677345, 1.50690469, 1.43214074, 1.44110934,\n",
       "        1.37930127, 1.45624361, 1.49027155, 1.44118797, 1.45378735,\n",
       "        1.38365444, 1.54342506, 1.57691369, 1.52190323, 1.44509684,\n",
       "        1.48354128, 1.49879777, 1.49370163, 1.47756969, 1.50264545,\n",
       "        1.51292923, 1.4373961 , 1.400784  , 1.61921192, 1.42105732,\n",
       "        1.51541898, 1.3965266 , 1.41653865, 1.4899836 , 1.4950596 ,\n",
       "        1.41135157, 1.53393447, 1.55977802, 1.4453782 , 1.4628297 ,\n",
       "        1.37167319, 1.49975396, 1.39940402, 1.47454157, 1.41803832,\n",
       "        1.3652904 , 1.45237023, 1.47063878, 1.41397974, 1.44993633,\n",
       "        1.53903271, 1.44189308, 1.56785452, 1.43518726, 1.53982361,\n",
       "        1.48802616, 1.48233701, 1.46469195, 1.39187095, 1.5022931 ,\n",
       "        1.48940677, 1.5224925 , 1.38775817, 1.51536487, 1.50359217,\n",
       "        1.46899447, 1.511156  , 1.55931083, 1.5953694 , 1.50535983,\n",
       "        1.51156042, 1.49857455, 1.43541559, 1.42252307, 1.49172861,\n",
       "        1.43445805, 1.51476679, 1.47248261, 1.53957866, 1.52572786,\n",
       "        1.42207243, 1.45744282, 1.56351525, 1.44917856, 1.4655881 ,\n",
       "        1.46303347, 1.411909  , 1.51805205, 1.4853927 , 1.39036927,\n",
       "        1.41103735, 1.45915561, 1.52471692, 1.48859641, 1.47003741,\n",
       "        1.49660781, 1.50661276, 1.41333676, 1.47934257, 1.59154085,\n",
       "        1.5199488 , 1.47762635, 1.36750554, 1.45492522, 1.40358221,\n",
       "        1.51267365, 1.42137627, 1.51378741, 1.47674243, 1.45686648,\n",
       "        1.39723751, 1.51420989, 1.42300364, 1.53075241, 1.48438295,\n",
       "        1.55539805, 1.50506777, 1.37622507, 1.55707658, 1.43777153,\n",
       "        1.4606105 , 1.55124448, 1.38351228, 1.48388129, 1.58111253,\n",
       "        1.53534355, 1.47500684, 1.41440332, 1.51972912, 1.48142624,\n",
       "        1.35613381, 1.4203269 , 1.50417598, 1.50683622, 1.52315742,\n",
       "        1.48711542, 1.44254468, 1.4609161 , 1.4913348 , 1.48420135,\n",
       "        1.42973914, 1.40111804, 1.48136758, 1.42693246, 1.46166847,\n",
       "        1.45212094, 1.47720171, 1.54465933, 1.49273336, 1.47047051,\n",
       "        1.45511521, 1.38365628, 1.47611832, 1.46159924, 1.49455935,\n",
       "        1.5041397 , 1.47861385, 1.43446458, 1.41452465, 1.42046469,\n",
       "        1.51897747, 1.48066509, 1.5497867 , 1.41942754, 1.47920597,\n",
       "        1.51402419, 1.50244771, 1.51756961, 1.40174454, 1.5044496 ,\n",
       "        1.56478002, 1.39603711, 1.42610847, 1.46331268, 1.4224678 ,\n",
       "        1.41792961, 1.50548313, 1.44995596, 1.50866689, 1.41728498,\n",
       "        1.48404505, 1.50691333, 1.51352072, 1.50192182, 1.481152  ,\n",
       "        1.44569042, 1.48464978, 1.42543133, 1.46513268, 1.49346483,\n",
       "        1.4815435 , 1.46319321, 1.41586389, 1.40887361, 1.47145493,\n",
       "        1.4712986 , 1.50080046, 1.47069292, 1.52777464, 1.60139486,\n",
       "        1.47428683, 1.46310209, 1.50222073, 1.47069007, 1.31565662,\n",
       "        1.48079739, 1.4181653 , 1.4138908 , 1.44699714, 1.44282745,\n",
       "        1.39558547, 1.46222309, 1.47903477, 1.44354025, 1.44177663,\n",
       "        1.44314942, 1.4504945 , 1.47715486, 1.46329218, 1.44230931,\n",
       "        1.47179133, 1.43569198, 1.40780959, 1.38898541, 1.43760794]),\n",
       " array([1.40137978, 1.44057064, 1.3497485 , 1.33070286, 1.34688546,\n",
       "        1.34220825, 1.35007581, 1.39177503, 1.4485874 , 1.35269808,\n",
       "        1.33444024, 1.36787321, 1.38977717, 1.30458074, 1.32514381,\n",
       "        1.3759556 , 1.33501248, 1.23894698, 1.33580591, 1.35841736,\n",
       "        1.38381837, 1.41685961, 1.35804231, 1.45280557, 1.34365827,\n",
       "        1.43255181, 1.42434457, 1.30379102, 1.40874795, 1.33300817,\n",
       "        1.31523849, 1.39939899, 1.43280288, 1.33693858, 1.37854897,\n",
       "        1.42294948, 1.43967985, 1.29867991, 1.32411161, 1.30032551,\n",
       "        1.29350823, 1.42515543, 1.31947832, 1.42517693, 1.40220821,\n",
       "        1.3485805 , 1.40093291, 1.36779305, 1.41311442, 1.35092957,\n",
       "        1.42775965, 1.41236031, 1.2906072 , 1.43866604, 1.42503002,\n",
       "        1.36704264, 1.30624529, 1.42116108, 1.40185681, 1.32121884,\n",
       "        1.36275106, 1.41623714, 1.33908812, 1.4193005 , 1.38855366,\n",
       "        1.3778004 , 1.34118622, 1.36042906, 1.35396521, 1.41264184,\n",
       "        1.36335528, 1.31999695, 1.3385875 , 1.3040671 , 1.28072018,\n",
       "        1.38257988, 1.34921858, 1.334922  , 1.31916604, 1.35297009,\n",
       "        1.42989787, 1.37360142, 1.32749749, 1.40147599, 1.33910412,\n",
       "        1.3476702 , 1.35441812, 1.36385585, 1.42058162, 1.33844754,\n",
       "        1.43202583, 1.44517823, 1.3550133 , 1.37515332, 1.2971413 ,\n",
       "        1.32993367, 1.36750501, 1.43313557, 1.28398081, 1.37932079,\n",
       "        1.3802675 , 1.38453615, 1.35682044, 1.38812315, 1.40433281,\n",
       "        1.35158661, 1.41451414, 1.35754284, 1.35966284, 1.3223601 ,\n",
       "        1.44799947, 1.3127148 , 1.34874918, 1.38314168, 1.40043641,\n",
       "        1.30270885, 1.29795927, 1.36282412, 1.40449087, 1.42891715,\n",
       "        1.36278263, 1.3365216 , 1.40123095, 1.42598226, 1.45265912,\n",
       "        1.38917497, 1.34174652, 1.40321126, 1.36381692, 1.35820925,\n",
       "        1.38233639, 1.37805441, 1.39670447, 1.3385406 , 1.34201996,\n",
       "        1.34000655, 1.37932556, 1.32222584, 1.37834536, 1.42801075,\n",
       "        1.39751509, 1.46110706, 1.35118446, 1.40189966, 1.46035523,\n",
       "        1.3231459 , 1.25121516, 1.34848478, 1.32391207, 1.28611697,\n",
       "        1.34035784, 1.37254878, 1.35286298, 1.4227996 , 1.3590096 ,\n",
       "        1.34388971, 1.42253786, 1.38248592, 1.43690706, 1.38110994,\n",
       "        1.34319875, 1.29680562, 1.39134493, 1.32124124, 1.36919541,\n",
       "        1.39777768, 1.30740055, 1.32841078, 1.43937929, 1.4094124 ,\n",
       "        1.35806658, 1.44163349, 1.43202696, 1.34746108, 1.37322422,\n",
       "        1.34825458, 1.40564236, 1.29328676, 1.42913398, 1.31416058,\n",
       "        1.42603723, 1.35995319, 1.38447607, 1.3328728 , 1.38323134,\n",
       "        1.32571251, 1.31235581, 1.39894281, 1.37039525, 1.36036465,\n",
       "        1.39864886, 1.4282587 , 1.33956234, 1.39038683, 1.4205169 ,\n",
       "        1.45104984, 1.35503611, 1.30360122, 1.49632035, 1.25315622,\n",
       "        1.30672169, 1.41173963, 1.34222283, 1.37780646, 1.32404135,\n",
       "        1.42354076, 1.2248821 , 1.35312945, 1.40556734, 1.3852924 ,\n",
       "        1.29545049, 1.34641881, 1.35153249, 1.35307949, 1.40493577,\n",
       "        1.24921625, 1.45296351, 1.38928531, 1.36423525, 1.39350192,\n",
       "        1.38894754, 1.42002812, 1.29606014, 1.30202497, 1.41507006,\n",
       "        1.35700175, 1.37837012, 1.35583754, 1.37514446, 1.37593893,\n",
       "        1.34394004, 1.39567914, 1.36146484, 1.42488455, 1.30441277,\n",
       "        1.37527691, 1.38821563, 1.38256647, 1.30447809, 1.3062852 ,\n",
       "        1.3490751 , 1.40603957, 1.44531531, 1.38798495, 1.35802344,\n",
       "        1.37106594, 1.33687861, 1.30397012, 1.40292545, 1.31823887,\n",
       "        1.41706663, 1.40353146, 1.38069014, 1.28340899, 1.30769279,\n",
       "        1.35473704, 1.34119935, 1.43489828, 1.3940044 , 1.39021311,\n",
       "        1.32719213, 1.28829442, 1.3794481 , 1.46781285, 1.29756954,\n",
       "        1.29777505, 1.43093039, 1.35513566, 1.34750874, 1.41113581,\n",
       "        1.43049994, 1.38018855, 1.3682064 , 1.28411044, 1.45524197,\n",
       "        1.39460579, 1.3811562 , 1.44036081, 1.38547893, 1.36974982,\n",
       "        1.39575538, 1.31644935, 1.37832026, 1.3389358 , 1.40752133,\n",
       "        1.41834929, 1.25822787, 1.35455777, 1.37731478, 1.401113  ,\n",
       "        1.41327755, 1.42086674, 1.39480898, 1.35621457, 1.34029249,\n",
       "        1.28387035, 1.39242824, 1.39943691, 1.28857414, 1.41799038,\n",
       "        1.32160923, 1.42278973, 1.39292943, 1.44436042, 1.43038907,\n",
       "        1.29746176, 1.25679988, 1.29010403, 1.347184  , 1.35870276,\n",
       "        1.3220487 , 1.3862681 , 1.36964697, 1.31438412, 1.30445177,\n",
       "        1.3313776 , 1.39686075, 1.34238378, 1.3677053 , 1.42290376,\n",
       "        1.34874923, 1.35859913, 1.35361363, 1.44155154, 1.36624612,\n",
       "        1.30501176, 1.31310277, 1.39277212, 1.48198408, 1.29588033,\n",
       "        1.41868533, 1.27765862, 1.36697656, 1.29373829, 1.36023553,\n",
       "        1.41066777, 1.29059705, 1.42777778, 1.38540629, 1.38950456,\n",
       "        1.20409541, 1.391671  , 1.34243249, 1.40479652, 1.42724569,\n",
       "        1.35505245, 1.4302158 , 1.28524975, 1.40964444, 1.34263252,\n",
       "        1.36811187, 1.35682825, 1.29851985, 1.410127  , 1.41330898,\n",
       "        1.46838029, 1.36989527, 1.38848632, 1.42428908, 1.34268631,\n",
       "        1.43607862, 1.39855332, 1.36440106, 1.37141718, 1.37384354,\n",
       "        1.3550208 , 1.33043082, 1.36382208, 1.39591661, 1.40266457,\n",
       "        1.30494173, 1.2527721 , 1.37882874, 1.32504875, 1.28341354,\n",
       "        1.35459097, 1.40339245, 1.40553207, 1.3504242 , 1.35175464,\n",
       "        1.34705371, 1.32254396, 1.3861917 , 1.38428312, 1.32000117,\n",
       "        1.39466379, 1.51954166, 1.33913289, 1.41472936, 1.27229903,\n",
       "        1.3687984 , 1.34234868, 1.34649666, 1.36982759, 1.29094166,\n",
       "        1.34778706, 1.38984409, 1.34407246, 1.36332557, 1.3252825 ,\n",
       "        1.44084646, 1.30359588, 1.29940422, 1.35304335, 1.46094701,\n",
       "        1.32088003, 1.37831458, 1.36093679, 1.43091377, 1.28283839,\n",
       "        1.30226533, 1.34069356, 1.36453965, 1.31997088, 1.35139133,\n",
       "        1.42311223, 1.43704814, 1.39253013, 1.33661767, 1.47285894,\n",
       "        1.3553306 , 1.36409938, 1.33749746, 1.44377932, 1.39915461,\n",
       "        1.33594209, 1.35608561, 1.30692241, 1.30500494, 1.40684257,\n",
       "        1.49216315, 1.34425509, 1.37779062, 1.30957025, 1.38801674,\n",
       "        1.34946767, 1.39623484, 1.3538822 , 1.30978103, 1.3491489 ,\n",
       "        1.30683686, 1.40277288, 1.41541884, 1.35506533, 1.48284387,\n",
       "        1.35706819, 1.3116858 , 1.38747718, 1.335461  , 1.39046183,\n",
       "        1.38549581, 1.33064429, 1.5176353 , 1.37096382, 1.33454659,\n",
       "        1.39170141, 1.41390703, 1.43843037, 1.33648115, 1.37793381,\n",
       "        1.33416283, 1.32912208, 1.35547023, 1.4527375 , 1.40080608,\n",
       "        1.30219578, 1.37326998, 1.30421046, 1.4113474 , 1.38559033,\n",
       "        1.39626931, 1.43848549, 1.29536484, 1.32272701, 1.34908685,\n",
       "        1.43264009, 1.32504412, 1.30420656, 1.37286873, 1.43734973,\n",
       "        1.33775572, 1.30903198, 1.41186645, 1.28375747, 1.37910877,\n",
       "        1.39312904, 1.38458524, 1.28937582, 1.37753058, 1.3831538 ,\n",
       "        1.35016363, 1.36792124, 1.32954942, 1.38854524, 1.34360674,\n",
       "        1.25486105, 1.33649468, 1.39804641, 1.30860417, 1.31595831]),\n",
       " array([1.21228541, 1.29037779, 1.32461944, 1.20229958, 1.2149971 ,\n",
       "        1.31633775, 1.23158134, 1.28661394, 1.32580321, 1.29411477,\n",
       "        1.19362264, 1.32048321, 1.23005819, 1.24341148, 1.27431197,\n",
       "        1.19479829, 1.21556579, 1.27263666, 1.1597693 , 1.26841914,\n",
       "        1.27546691, 1.27341259, 1.27702748, 1.30544388, 1.29340216,\n",
       "        1.26758015, 1.28946149, 1.17796638, 1.31295265, 1.28660063,\n",
       "        1.32716402, 1.27143019, 1.26002305, 1.24216328, 1.22545892,\n",
       "        1.25843237, 1.34662172, 1.32039096, 1.28202288, 1.24595917,\n",
       "        1.23998118, 1.24913179, 1.25955754, 1.31672551, 1.27989035,\n",
       "        1.19769857, 1.19833416, 1.21813945, 1.29389204, 1.27205106,\n",
       "        1.27090857, 1.16771952, 1.29148448, 1.22108093, 1.2578844 ,\n",
       "        1.26523993, 1.1803356 , 1.31676628, 1.14897496, 1.30725348,\n",
       "        1.26209047, 1.24949849, 1.21390256, 1.28131725, 1.23015548,\n",
       "        1.27420706, 1.22160483, 1.26181136, 1.29334763, 1.23629692,\n",
       "        1.32141801, 1.19661723, 1.21285557, 1.34774791, 1.3258726 ,\n",
       "        1.19051182, 1.28433925, 1.2211927 , 1.25048125, 1.24708674,\n",
       "        1.26812282, 1.20543035, 1.25011491, 1.26896459, 1.18114786,\n",
       "        1.25443538, 1.2854857 , 1.22347243, 1.27361898, 1.29154472,\n",
       "        1.14546169, 1.22211559, 1.31504404, 1.22794868, 1.31793008,\n",
       "        1.2663702 , 1.2281281 , 1.19596078, 1.33121251, 1.15678281,\n",
       "        1.2511603 , 1.25803774, 1.24993493, 1.2904602 , 1.27047398,\n",
       "        1.23827134, 1.24883694, 1.17886766, 1.31497916, 1.2684631 ,\n",
       "        1.26323916, 1.23415623, 1.26533292, 1.33510485, 1.24970848,\n",
       "        1.27509581, 1.32982278, 1.29408584, 1.29350082, 1.23270185,\n",
       "        1.24790907, 1.20255105, 1.31613632, 1.19478429, 1.20077641,\n",
       "        1.29537814, 1.2377504 , 1.24304617, 1.29583298, 1.26669253,\n",
       "        1.14946627, 1.25674233, 1.24820685, 1.29529227, 1.22983628,\n",
       "        1.32165797, 1.21608356, 1.22424852, 1.2488422 , 1.26381735,\n",
       "        1.35973286, 1.29426091, 1.15764328, 1.3064079 , 1.23091882,\n",
       "        1.26880663, 1.21153846, 1.27070927, 1.25588418, 1.25147544,\n",
       "        1.31143841, 1.22583185, 1.29575383, 1.199614  , 1.24317842,\n",
       "        1.27862182, 1.26310337, 1.21369148, 1.24636058, 1.28294586,\n",
       "        1.22659077, 1.25912387, 1.23118157, 1.23809757, 1.27276799,\n",
       "        1.2278422 , 1.19685916, 1.12911981, 1.2780211 , 1.17741567,\n",
       "        1.27784125, 1.30174647, 1.35017664, 1.23296743, 1.22959718,\n",
       "        1.27506354, 1.30049701, 1.33021039, 1.23990875, 1.18882556,\n",
       "        1.25894078, 1.33422631, 1.29165151, 1.27659219, 1.25985878,\n",
       "        1.28340921, 1.24557815, 1.29268076, 1.35002064, 1.30276601,\n",
       "        1.29458869, 1.20054162, 1.41978513, 1.23224885, 1.22850587,\n",
       "        1.20832722, 1.232145  , 1.25713636, 1.29638442, 1.17106169,\n",
       "        1.23481945, 1.28358754, 1.25620224, 1.31749809, 1.22630378,\n",
       "        1.33619535, 1.24551262, 1.31920349, 1.30335878, 1.1620783 ,\n",
       "        1.29558757, 1.26107326, 1.23072101, 1.30694221, 1.28378989,\n",
       "        1.22315659, 1.14850854, 1.2944695 , 1.3273007 , 1.28870312,\n",
       "        1.26139189, 1.29420064, 1.23118764, 1.23524478, 1.28016521,\n",
       "        1.35099572, 1.23839909, 1.33906028, 1.29115229, 1.29733281,\n",
       "        1.25606405, 1.24668598, 1.1884685 , 1.24288995, 1.30598165,\n",
       "        1.28160231, 1.29372554, 1.32732437, 1.31802352, 1.26136297,\n",
       "        1.32032526, 1.21207283, 1.23364768, 1.14269176, 1.23599609,\n",
       "        1.33028154, 1.20521976, 1.25993473, 1.26447786, 1.27036903,\n",
       "        1.18885649, 1.25601536, 1.31716447, 1.28623091, 1.17308877,\n",
       "        1.2561971 , 1.23787165, 1.25194734, 1.29048479, 1.28446671,\n",
       "        1.17571278, 1.31690204, 1.16827528, 1.29952584, 1.19924966,\n",
       "        1.32270083, 1.2381626 , 1.2670501 , 1.30434609, 1.25295385,\n",
       "        1.35357937, 1.24057881, 1.2958899 , 1.23168247, 1.29120817,\n",
       "        1.38955642, 1.21583006, 1.28811893, 1.24649542, 1.24930229,\n",
       "        1.27071915, 1.2426255 , 1.28894341, 1.22815765, 1.1969432 ,\n",
       "        1.18552795, 1.25348076, 1.18336741, 1.24347161, 1.29231079,\n",
       "        1.27963349, 1.35422377, 1.32898476, 1.32435938, 1.24188407,\n",
       "        1.29789373, 1.27727491, 1.32056353, 1.27455219, 1.28586254,\n",
       "        1.28614512, 1.27158031, 1.18735089, 1.27655384, 1.25427744,\n",
       "        1.28973127, 1.30246877, 1.34159137, 1.21788541, 1.27617577,\n",
       "        1.26295053, 1.24939795, 1.2713544 , 1.22141181, 1.28580514,\n",
       "        1.27570566, 1.27609263, 1.29355387, 1.3003489 , 1.21176724,\n",
       "        1.32795481, 1.24833474, 1.21519197, 1.3066051 , 1.27408889,\n",
       "        1.22250262, 1.2799569 , 1.3127585 , 1.28516568, 1.31714923,\n",
       "        1.25571983, 1.29640549, 1.27596035, 1.22520968, 1.22424727,\n",
       "        1.29713544, 1.25458487, 1.26334722, 1.26773396, 1.32442501,\n",
       "        1.20539994, 1.19817367, 1.20454275, 1.18453655, 1.3147486 ,\n",
       "        1.31839165, 1.23619044, 1.2645748 , 1.25612847, 1.15689265,\n",
       "        1.33737231, 1.30128326, 1.18090773, 1.25949428, 1.39731467,\n",
       "        1.1714166 , 1.28623547, 1.26478234, 1.24774071, 1.32732938,\n",
       "        1.29597635, 1.29375584, 1.29737217, 1.2285973 , 1.22828395,\n",
       "        1.43316479, 1.26784633, 1.28380461, 1.28721427, 1.21094989,\n",
       "        1.35589226, 1.23125593, 1.30444157, 1.26586575, 1.31387123,\n",
       "        1.16534541, 1.32842661, 1.25312311, 1.27591425, 1.27496741,\n",
       "        1.24498919, 1.22258404, 1.25402453, 1.23606051, 1.31768889,\n",
       "        1.29099571, 1.2814884 , 1.26727544, 1.31481667, 1.27417465,\n",
       "        1.26747601, 1.28014607, 1.32839162, 1.20283487, 1.26656583,\n",
       "        1.18531065, 1.21357842, 1.22196514, 1.31292414, 1.33163291,\n",
       "        1.30706951, 1.26671898, 1.31161793, 1.33371568, 1.31177941,\n",
       "        1.26289791, 1.24970637, 1.37088973, 1.26288469, 1.30606271,\n",
       "        1.25437106, 1.22302413, 1.28609207, 1.31922637, 1.19366274,\n",
       "        1.24540294, 1.33951561, 1.22419897, 1.31905936, 1.23699403,\n",
       "        1.24100905, 1.26203375, 1.26700623, 1.30789326, 1.2444418 ,\n",
       "        1.22517529, 1.24968986, 1.22556874, 1.24745715, 1.3661032 ,\n",
       "        1.2403383 , 1.2972979 , 1.13786222, 1.19565187, 1.34626191,\n",
       "        1.26170064, 1.32853342, 1.36975732, 1.29512378, 1.23561214,\n",
       "        1.348221  , 1.35103655, 1.32114612, 1.26149333, 1.25109875,\n",
       "        1.25764405, 1.28515071, 1.25145494, 1.30426062, 1.24209315,\n",
       "        1.32802633, 1.23554315, 1.22466329, 1.27014329, 1.33098508,\n",
       "        1.30021117, 1.17403771, 1.21136442, 1.28122863, 1.22061411,\n",
       "        1.25719146, 1.2544979 , 1.20310438, 1.19837388, 1.25302967,\n",
       "        1.2262709 , 1.16680902, 1.26016821, 1.18416087, 1.18231415,\n",
       "        1.24993709, 1.20939055, 1.16545301, 1.32646531, 1.35036959,\n",
       "        1.28257174, 1.274244  , 1.31875367, 1.24805195, 1.28238201,\n",
       "        1.29429025, 1.3280613 , 1.31908977, 1.26689225, 1.32096538,\n",
       "        1.23735248, 1.27869488, 1.16553626, 1.29653165, 1.25888127,\n",
       "        1.2137685 , 1.27612638, 1.33367599, 1.28449183, 1.23521151,\n",
       "        1.2325042 , 1.22380029, 1.18334593, 1.29260734, 1.2310093 ]),\n",
       " array([0.76824032, 0.77254703, 0.70951213, 0.83875533, 0.79457553,\n",
       "        0.70690385, 0.7953579 , 0.74352582, 0.80862073, 0.80321495,\n",
       "        0.7557445 , 0.7384916 , 0.73347823, 0.77032489, 0.77051427,\n",
       "        0.79167463, 0.76518648, 0.79654298, 0.76403792, 0.79119007,\n",
       "        0.73853175, 0.82143297, 0.76981664, 0.75449972, 0.89207886,\n",
       "        0.67566426, 0.7845682 , 0.72409461, 0.82021971, 0.74274898,\n",
       "        0.69712863, 0.72469755, 0.7622734 , 0.7746503 , 0.70528666,\n",
       "        0.86660115, 0.81578993, 0.71195316, 0.72911523, 0.78308732,\n",
       "        0.78944632, 0.86587194, 0.75728765, 0.82818085, 0.80730668,\n",
       "        0.73769066, 0.71304492, 0.72002471, 0.82407344, 0.7802352 ,\n",
       "        0.80532503, 0.74812942, 0.77250063, 0.76763307, 0.71786704,\n",
       "        0.81227286, 0.79953579, 0.81929619, 0.80069187, 0.78129935,\n",
       "        0.77783531, 0.70442542, 0.80909836, 0.69831601, 0.73281689,\n",
       "        0.81451451, 0.78457612, 0.8592114 , 0.72177204, 0.72444139,\n",
       "        0.75147873, 0.75346222, 0.84585434, 0.71186367, 0.83380558,\n",
       "        0.80056275, 0.75212375, 0.79999293, 0.82311326, 0.76456926,\n",
       "        0.81239704, 0.77006499, 0.85679234, 0.80652945, 0.81848586,\n",
       "        0.85105904, 0.73929115, 0.74033562, 0.82439899, 0.72590559,\n",
       "        0.8078969 , 0.84403615, 0.83549461, 0.8105377 , 0.72602702,\n",
       "        0.76682512, 0.82131174, 0.80186677, 0.82076292, 0.72804185,\n",
       "        0.83735125, 0.75454117, 0.72091595, 0.82403566, 0.72731063,\n",
       "        0.84817142, 0.77671866, 0.84665365, 0.7842852 , 0.75749591,\n",
       "        0.7714457 , 0.77313872, 0.73394789, 0.73000578, 0.80462223,\n",
       "        0.77316178, 0.83229628, 0.80799127, 0.75081981, 0.81036119,\n",
       "        0.77669852, 0.75522574, 0.82016849, 0.8026807 , 0.87044925,\n",
       "        0.75339662, 0.75626045, 0.75080706, 0.80669612, 0.79766798,\n",
       "        0.79967239, 0.73401349, 0.86262681, 0.76079669, 0.67924315,\n",
       "        0.83152859, 0.7715415 , 0.71343767, 0.80492324, 0.76817346,\n",
       "        0.76316966, 0.86780533, 0.82641702, 0.78010133, 0.76309872,\n",
       "        0.73541445, 0.75865721, 0.78116687, 0.78107736, 0.87314008,\n",
       "        0.75804988, 0.82262436, 0.85045245, 0.77510592, 0.7969265 ,\n",
       "        0.80105357, 0.7467903 , 0.7830325 , 0.88401507, 0.82365981,\n",
       "        0.70480787, 0.78809304, 0.84319003, 0.77864161, 0.74145545,\n",
       "        0.77169222, 0.76424543, 0.83892971, 0.77817471, 0.84003818,\n",
       "        0.8283001 , 0.8098273 , 0.81258356, 0.75533301, 0.77891619,\n",
       "        0.869812  , 0.83612247, 0.92044385, 0.70431238, 0.85215232,\n",
       "        0.85434608, 0.78137492, 0.76546415, 0.83407053, 0.7499021 ,\n",
       "        0.83099149, 0.85054057, 0.83314808, 0.7955611 , 0.83709454,\n",
       "        0.81060737, 0.74331264, 0.80237334, 0.7781099 , 0.8365371 ,\n",
       "        0.75872097, 0.86190278, 0.79277792, 0.7689525 , 0.80636871,\n",
       "        0.78169789, 0.8007417 , 0.82940851, 0.81780042, 0.73035026,\n",
       "        0.72519714, 0.73875421, 0.86843876, 0.85058907, 0.77852002,\n",
       "        0.79407464, 0.88128277, 0.73255635, 0.8157331 , 0.79087005,\n",
       "        0.805272  , 0.77203843, 0.72434006, 0.78260944, 0.86730225,\n",
       "        0.85723746, 0.81938631, 0.85463301, 0.80456257, 0.83095555,\n",
       "        0.70666734, 0.72959902, 0.59670987, 0.82356406, 0.78038447,\n",
       "        0.77472106, 0.72280123, 0.79833821, 0.7582522 , 0.79935614,\n",
       "        0.82362525, 0.82197501, 0.85152822, 0.83237861, 0.7386034 ,\n",
       "        0.81346564, 0.85537985, 0.73097535, 0.73836378, 0.79249038,\n",
       "        0.77656929, 0.73926358, 0.77593084, 0.72282205, 0.80264404,\n",
       "        0.75098582, 0.83104761, 0.88341707, 0.72147596, 0.82213705,\n",
       "        0.78039271, 0.77247106, 0.78971547, 0.86509404, 0.85537889,\n",
       "        0.79809505, 0.72465928, 0.73198391, 0.78344059, 0.74011643,\n",
       "        0.85867208, 0.75338399, 0.79507563, 0.81543358, 0.74535804,\n",
       "        0.82742069, 0.82201531, 0.79809305, 0.76831473, 0.77079797,\n",
       "        0.81994205, 0.77407007, 0.75154779, 0.78813919, 0.75233479,\n",
       "        0.80134035, 0.79574447, 0.8496783 , 0.7612475 , 0.82279604,\n",
       "        0.79189249, 0.69572864, 0.81764183, 0.7949606 , 0.84933921,\n",
       "        0.70309442, 0.8841539 , 0.82379421, 0.77023859, 0.79652973,\n",
       "        0.8007136 , 0.80950505, 0.71283556, 0.73703751, 0.73844084,\n",
       "        0.75052482, 0.79993408, 0.77095161, 0.75475735, 0.81617491,\n",
       "        0.77536087, 0.77869616, 0.74242472, 0.75606455, 0.79992439,\n",
       "        0.82833812, 0.77643039, 0.83988571, 0.76647681, 0.76593995,\n",
       "        0.71716645, 0.7586562 , 0.80216865, 0.79525311, 0.76312223,\n",
       "        0.86975522, 0.80520892, 0.75819461, 0.73701048, 0.78181736,\n",
       "        0.7249458 , 0.75432901, 0.78413421, 0.78932936, 0.79385674,\n",
       "        0.79729243, 0.75781971, 0.78596024, 0.79266657, 0.84231541,\n",
       "        0.82798135, 0.78280331, 0.79332739, 0.83992615, 0.84141399,\n",
       "        0.72966403, 0.7729571 , 0.78300671, 0.8231975 , 0.81091883,\n",
       "        0.78242807, 0.82960301, 0.74964192, 0.7703935 , 0.74897707,\n",
       "        0.81739923, 0.74633411, 0.88371619, 0.7176836 , 0.81036093,\n",
       "        0.74457598, 0.7710875 , 0.74627942, 0.83683341, 0.79766944,\n",
       "        0.80692951, 0.77840083, 0.79570308, 0.79881387, 0.81529391,\n",
       "        0.75468883, 0.75536284, 0.7760725 , 0.79577709, 0.67142484,\n",
       "        0.85717025, 0.7642066 , 0.76885395, 0.7752574 , 0.84807407,\n",
       "        0.72749551, 0.76199968, 0.78302132, 0.87281979, 0.7825423 ,\n",
       "        0.753247  , 0.82899661, 0.8591768 , 0.78780799, 0.78091633,\n",
       "        0.84268468, 0.78657253, 0.81442875, 0.85140675, 0.81583928,\n",
       "        0.85219693, 0.80180452, 0.81774018, 0.75996003, 0.7417618 ,\n",
       "        0.82324826, 0.84294851, 0.79464249, 0.73918947, 0.76941867,\n",
       "        0.76425183, 0.89827371, 0.73897331, 0.7100524 , 0.85252938,\n",
       "        0.82412422, 0.75190166, 0.77054778, 0.8118507 , 0.76009453,\n",
       "        0.76238664, 0.73772443, 0.6875001 , 0.85738323, 0.78701598,\n",
       "        0.81874734, 0.7593372 , 0.69696576, 0.68226719, 0.77307145,\n",
       "        0.85030025, 0.72069881, 0.78691918, 0.82298572, 0.66316852,\n",
       "        0.72828769, 0.79233   , 0.84059679, 0.77911723, 0.8620339 ,\n",
       "        0.81573415, 0.83148892, 0.76001574, 0.82854139, 0.76536381,\n",
       "        0.76915478, 0.88828426, 0.88255281, 0.70831377, 0.79578892,\n",
       "        0.82441801, 0.68418117, 0.84774281, 0.81685058, 0.81110864,\n",
       "        0.78125157, 0.70331424, 0.76176161, 0.75872041, 0.7047899 ,\n",
       "        0.74136455, 0.83104786, 0.83209466, 0.85384012, 0.83690035,\n",
       "        0.83467921, 0.79369657, 0.78264672, 0.87990584, 0.86877151,\n",
       "        0.80038402, 0.77972897, 0.77040971, 0.78513639, 0.86374002,\n",
       "        0.84650799, 0.78120057, 0.74601409, 0.7693145 , 0.79418467,\n",
       "        0.81978096, 0.75118521, 0.78673849, 0.73208998, 0.78217492,\n",
       "        0.76903042, 0.78353544, 0.73217955, 0.80588585, 0.72791414,\n",
       "        0.83224465, 0.81452274, 0.75535048, 0.78729321, 0.72216253,\n",
       "        0.80099286, 0.72244554, 0.707193  , 0.7527792 , 0.70382913,\n",
       "        0.83023193, 0.77083571, 0.86721338, 0.76809957, 0.70551787,\n",
       "        0.69868779, 0.70941483, 0.74794075, 0.78771942, 0.75261636]),\n",
       " array([0.4368483 , 0.52438452, 0.60026282, 0.46663363, 0.5262094 ,\n",
       "        0.63721871, 0.51672513, 0.46403847, 0.48222032, 0.51575037,\n",
       "        0.49228051, 0.51856349, 0.49337699, 0.50825462, 0.36971026,\n",
       "        0.44913359, 0.54330809, 0.51802262, 0.55454171, 0.38950614,\n",
       "        0.49027454, 0.56933969, 0.46910628, 0.5084767 , 0.50742362,\n",
       "        0.56434438, 0.43977256, 0.46011894, 0.50538042, 0.39050948,\n",
       "        0.48591104, 0.42961816, 0.50268954, 0.43838945, 0.51520461,\n",
       "        0.46468007, 0.52769905, 0.47686489, 0.50739603, 0.47490635,\n",
       "        0.49106428, 0.51948221, 0.43315128, 0.49601318, 0.45401428,\n",
       "        0.44361413, 0.47247078, 0.49882722, 0.47902236, 0.49895674,\n",
       "        0.47488328, 0.47156008, 0.51972403, 0.44981166, 0.49277576,\n",
       "        0.47720411, 0.4785581 , 0.45357438, 0.46907137, 0.50066096,\n",
       "        0.52331199, 0.48355725, 0.49220263, 0.44519462, 0.50352395,\n",
       "        0.45511936, 0.45736126, 0.48757204, 0.48417585, 0.48103512,\n",
       "        0.50453011, 0.51422488, 0.5418618 , 0.48610226, 0.47314275,\n",
       "        0.60643085, 0.53800335, 0.41108766, 0.46099962, 0.48753162,\n",
       "        0.39055574, 0.44278307, 0.56866957, 0.48910287, 0.46662496,\n",
       "        0.52125954, 0.55197104, 0.542083  , 0.45182316, 0.63194651,\n",
       "        0.54162084, 0.53681019, 0.50780417, 0.49027388, 0.56680802,\n",
       "        0.52118484, 0.49742826, 0.51732286, 0.48184671, 0.56446231,\n",
       "        0.47034104, 0.39460514, 0.46557473, 0.5356615 , 0.39091797,\n",
       "        0.47598331, 0.60345312, 0.49819705, 0.55958432, 0.52171656,\n",
       "        0.59895292, 0.55846422, 0.40602331, 0.45569975, 0.48717792,\n",
       "        0.44559035, 0.49742623, 0.39171868, 0.54940961, 0.40026534,\n",
       "        0.48171559, 0.48760519, 0.54189742, 0.58019483, 0.41825268,\n",
       "        0.50158486, 0.54975557, 0.50782715, 0.57647203, 0.54029406,\n",
       "        0.52768959, 0.51889862, 0.44457545, 0.4281896 , 0.45002853,\n",
       "        0.50394486, 0.52343629, 0.56420275, 0.54265253, 0.45494629,\n",
       "        0.49714406, 0.48020741, 0.50416215, 0.44810904, 0.55368992,\n",
       "        0.48670752, 0.58002174, 0.48208114, 0.49537696, 0.48388855,\n",
       "        0.50543802, 0.41011406, 0.4390703 , 0.54893592, 0.43012523,\n",
       "        0.51382182, 0.52582962, 0.44562434, 0.51187961, 0.44709183,\n",
       "        0.46439456, 0.56679684, 0.47572429, 0.45715513, 0.45859895,\n",
       "        0.51948093, 0.45512508, 0.46723747, 0.54792911, 0.45850599,\n",
       "        0.48787891, 0.48411314, 0.4597473 , 0.43950089, 0.50785444,\n",
       "        0.4846696 , 0.46087524, 0.45602074, 0.43427602, 0.51674222,\n",
       "        0.47733629, 0.54317237, 0.48635865, 0.4332591 , 0.41438001,\n",
       "        0.54950104, 0.56945444, 0.38088464, 0.43759631, 0.51187596,\n",
       "        0.46937887, 0.45926742, 0.45353088, 0.43363651, 0.47123728,\n",
       "        0.54939075, 0.43928862, 0.49572575, 0.5156756 , 0.48409771,\n",
       "        0.47750318, 0.4291076 , 0.40734407, 0.4470382 , 0.37504426,\n",
       "        0.53060914, 0.47795488, 0.48096422, 0.50938861, 0.55644139,\n",
       "        0.49515986, 0.49197309, 0.55581659, 0.54250875, 0.4213742 ,\n",
       "        0.4311064 , 0.57607099, 0.46989805, 0.62746487, 0.44290456,\n",
       "        0.45271613, 0.53656324, 0.5338922 , 0.52176042, 0.49247299,\n",
       "        0.54611698, 0.43071014, 0.56501849, 0.49390199, 0.50520785,\n",
       "        0.51945657, 0.49853225, 0.46844608, 0.48517995, 0.46580319,\n",
       "        0.46275758, 0.45735271, 0.52171861, 0.44323656, 0.41273943,\n",
       "        0.50395981, 0.52151528, 0.42284293, 0.47509923, 0.41864238,\n",
       "        0.42554013, 0.48243084, 0.52304469, 0.52597504, 0.48111184,\n",
       "        0.44416217, 0.54912923, 0.47691156, 0.45480733, 0.48045718,\n",
       "        0.48899924, 0.46498572, 0.52323811, 0.4861964 , 0.4954848 ,\n",
       "        0.46370425, 0.52699769, 0.42931918, 0.50308082, 0.47063827,\n",
       "        0.55866139, 0.48418991, 0.52066698, 0.42687483, 0.44101003,\n",
       "        0.45755175, 0.53050457, 0.47927027, 0.49375272, 0.5071419 ,\n",
       "        0.54046479, 0.44655051, 0.45702265, 0.49689626, 0.47686643,\n",
       "        0.4911589 , 0.48070019, 0.54239998, 0.41295127, 0.54249792,\n",
       "        0.56796443, 0.44356089, 0.51943764, 0.52249776, 0.47065336,\n",
       "        0.51046292, 0.54094729, 0.44869663, 0.45966508, 0.5028688 ,\n",
       "        0.52657382, 0.40896079, 0.5908806 , 0.46627702, 0.52078177,\n",
       "        0.48668571, 0.37665302, 0.41691896, 0.47619744, 0.5158555 ,\n",
       "        0.52442547, 0.45779826, 0.43482129, 0.52869762, 0.4645324 ,\n",
       "        0.52101795, 0.52379869, 0.50903478, 0.47514039, 0.54082756,\n",
       "        0.50787668, 0.48511548, 0.51646738, 0.51068464, 0.47981459,\n",
       "        0.53171171, 0.55581749, 0.52795665, 0.53902239, 0.54584039,\n",
       "        0.46998909, 0.39086784, 0.54483725, 0.50453537, 0.53448744,\n",
       "        0.51561356, 0.49216316, 0.4627621 , 0.53865996, 0.46023109,\n",
       "        0.4130005 , 0.56473233, 0.46997552, 0.40993309, 0.42105523,\n",
       "        0.4852767 , 0.47396376, 0.43455079, 0.54851814, 0.44656824,\n",
       "        0.42080738, 0.38378676, 0.49084172, 0.47221192, 0.43209307,\n",
       "        0.42807055, 0.4481033 , 0.56605147, 0.51850377, 0.39563423,\n",
       "        0.4379614 , 0.50256509, 0.51451008, 0.52189492, 0.4623422 ,\n",
       "        0.46392443, 0.43029232, 0.48152229, 0.44573259, 0.47097503,\n",
       "        0.45659274, 0.57523994, 0.41423712, 0.43322226, 0.48666252,\n",
       "        0.44024534, 0.4511516 , 0.52827772, 0.47814135, 0.42648758,\n",
       "        0.50435019, 0.50117537, 0.45325348, 0.486307  , 0.49500217,\n",
       "        0.47194399, 0.49707495, 0.44979499, 0.5394229 , 0.4686547 ,\n",
       "        0.51497257, 0.49070031, 0.4754262 , 0.5600205 , 0.49406651,\n",
       "        0.42357665, 0.50803718, 0.57866755, 0.43673708, 0.44100387,\n",
       "        0.48599205, 0.51174686, 0.46591895, 0.49647763, 0.40596   ,\n",
       "        0.45729884, 0.52603016, 0.4213479 , 0.38709762, 0.48469155,\n",
       "        0.47594604, 0.50668712, 0.54801302, 0.47948116, 0.53778386,\n",
       "        0.61094297, 0.55004771, 0.51058851, 0.52699284, 0.42399912,\n",
       "        0.51417053, 0.54482725, 0.6030124 , 0.45269696, 0.52714197,\n",
       "        0.52506895, 0.47562993, 0.45672659, 0.45453988, 0.41127363,\n",
       "        0.4662015 , 0.52630716, 0.46381041, 0.5102494 , 0.4303372 ,\n",
       "        0.51494919, 0.5150837 , 0.5107246 , 0.44649992, 0.47544238,\n",
       "        0.43244826, 0.52406774, 0.51328209, 0.49218377, 0.49468713,\n",
       "        0.44213687, 0.55608982, 0.49936957, 0.50282428, 0.44299714,\n",
       "        0.48965769, 0.54697893, 0.4816148 , 0.53781824, 0.54160368,\n",
       "        0.44590214, 0.50131342, 0.42968169, 0.53642925, 0.43141938,\n",
       "        0.57263702, 0.44501715, 0.50589776, 0.50640924, 0.42580447,\n",
       "        0.47036509, 0.42823895, 0.4793948 , 0.53270836, 0.4545346 ,\n",
       "        0.4440173 , 0.47480697, 0.52081813, 0.52464366, 0.48027823,\n",
       "        0.52258571, 0.44910518, 0.47320036, 0.52643072, 0.4029459 ,\n",
       "        0.49016073, 0.55105032, 0.45526057, 0.47013183, 0.42595257,\n",
       "        0.53552286, 0.48261087, 0.48847092, 0.44977365, 0.4186168 ,\n",
       "        0.54528101, 0.56609359, 0.42994675, 0.52981998, 0.47268883,\n",
       "        0.36878484, 0.48770076, 0.63977955, 0.47485324, 0.51388922,\n",
       "        0.49872261, 0.4839816 , 0.39442982, 0.53408616, 0.47707294])]"
      ]
     },
     "execution_count": 270,
     "metadata": {},
     "output_type": "execute_result"
    }
   ],
   "source": [
    "import random\n",
    "import numpy as np\n",
    "\n",
    "def add_noise(values): #Skrevet af ChatGPT\n",
    "    \"\"\"Add small noise drawn from a normal distribution to a list of values.\"\"\"\n",
    "    # Create an empty list to hold the noisy versions of the values\n",
    "    noisy_values = []\n",
    "    # Loop over each value in the input list\n",
    "    for value in values:\n",
    "        # Create an array of 500 values drawn from a normal distribution with mean 0 and standard deviation 0.05\n",
    "        noise = np.random.normal(0, 0.05, 500)\n",
    "        # Add the noise to the original value\n",
    "        noisy_value = value + noise\n",
    "        # Append the noisy value to the list of noisy values\n",
    "        noisy_values.append(noisy_value)\n",
    "    return noisy_values\n",
    "\n",
    "add_noise(calibrated_binding_energies_SE)"
   ]
  },
  {
   "cell_type": "code",
   "execution_count": null,
   "id": "b0a9b6e8",
   "metadata": {},
   "outputs": [],
   "source": []
  },
  {
   "cell_type": "markdown",
   "id": "feee1385",
   "metadata": {},
   "source": [
    "### Not used"
   ]
  },
  {
   "cell_type": "code",
   "execution_count": 198,
   "id": "e7f40399",
   "metadata": {},
   "outputs": [],
   "source": [
    "def sigmoid(dGn):\n",
    "    '''Takes one energy for each reaction step energy and returns the i_site for the largest energy step'''\n",
    "    kBT_eV = 0.025692508388298233\n",
    "    max_dGn = np.max(dGn)\n",
    "    i_site = 1 / (1 + np.exp( max_dGn / kBT_eV))\n",
    "    return i_site"
   ]
  },
  {
   "cell_type": "code",
   "execution_count": null,
   "id": "89932846",
   "metadata": {},
   "outputs": [],
   "source": []
  },
  {
   "cell_type": "code",
   "execution_count": 183,
   "id": "9af23999",
   "metadata": {},
   "outputs": [
    {
     "data": {
      "text/plain": [
       "0.9999999999949928"
      ]
     },
     "execution_count": 183,
     "metadata": {},
     "output_type": "execute_result"
    }
   ],
   "source": [
    "## Her skal jeg så bruge første entry i hver liste med reaction energies\n",
    "\n",
    "np.array(calibrated_binding_energies).T\n",
    "\n",
    "np.average([sigmoid(dGn) for dGn in np.array(calibrated_binding_energies).T])"
   ]
  },
  {
   "cell_type": "code",
   "execution_count": 209,
   "id": "9e922f5e",
   "metadata": {},
   "outputs": [
    {
     "data": {
      "text/plain": [
       "array([[ 0.        ,  0.        ,  0.        , ...,  0.        ,\n",
       "         0.        ,  0.        ],\n",
       "       [ 0.85412706,  1.49511488,  0.47153772, ...,  1.56466782,\n",
       "         1.41513061,  0.57729254],\n",
       "       [-0.3456385 , -0.3456385 , -0.3456385 , ..., -0.3456385 ,\n",
       "        -0.3456385 , -0.3456385 ]])"
      ]
     },
     "execution_count": 209,
     "metadata": {},
     "output_type": "execute_result"
    }
   ],
   "source": [
    "cumsum_BE = np.cumsum(calibrated_binding_energies, axis = 0)\n",
    "cumsum_BE"
   ]
  },
  {
   "cell_type": "code",
   "execution_count": 210,
   "id": "6f103617",
   "metadata": {},
   "outputs": [
    {
     "data": {
      "text/plain": [
       "-0.17281925"
      ]
     },
     "execution_count": 210,
     "metadata": {},
     "output_type": "execute_result"
    }
   ],
   "source": [
    "-0.3456385 / 2"
   ]
  },
  {
   "cell_type": "code",
   "execution_count": 197,
   "id": "b2e05718",
   "metadata": {},
   "outputs": [
    {
     "data": {
      "text/plain": [
       "array([[ 0.        ,  0.60533594,  0.76520584, -1.71618028],\n",
       "       [ 0.        ,  0.59086088,  0.80750316, -1.74400254],\n",
       "       [ 0.        ,  0.67912048,  0.65998565, -1.68474463],\n",
       "       [ 0.        ,  0.6114855 ,  0.76029681, -1.7174208 ],\n",
       "       [ 0.        ,  0.68318311,  0.62129606, -1.65011767],\n",
       "       [ 0.        ,  0.82419861,  0.96464577, -2.13448287],\n",
       "       [ 0.        ,  0.53457107,  0.8563597 , -1.73656927],\n",
       "       [ 0.        ,  0.54379836,  0.74765623, -1.63709309],\n",
       "       [ 0.        ,  0.58848867,  0.58797377, -1.52210094],\n",
       "       [ 0.        ,  0.65089557,  0.53202949, -1.52856357],\n",
       "       [ 0.        ,  0.81691801,  0.59865528, -1.76121179],\n",
       "       [ 0.        ,  0.66117389,  0.87129801, -1.8781104 ],\n",
       "       [ 0.        ,  0.67297565,  1.03640445, -2.0550186 ],\n",
       "       [ 0.        ,  0.69199243,  0.5509508 , -1.58858174],\n",
       "       [ 0.        ,  0.92616777,  0.74823549, -2.02004176],\n",
       "       [ 0.        ,  0.68636463,  0.57468615, -1.60668929],\n",
       "       [ 0.        ,  1.03864423,  0.68082837, -2.0651111 ],\n",
       "       [ 0.        ,  0.78029134,  0.89778401, -2.02371385],\n",
       "       [ 0.        ,  0.90930669,  0.92538496, -2.18033016],\n",
       "       [ 0.        ,  0.97993113,  0.5368402 , -1.86240983],\n",
       "       [ 0.        ,  1.15250075,  0.63134581, -2.12948506],\n",
       "       [ 0.        ,  0.70660807,  0.63454751, -1.68679408],\n",
       "       [ 0.        ,  0.73688289,  0.81371469, -1.89623608],\n",
       "       [ 0.        ,  0.62362884,  0.79897234, -1.76823968],\n",
       "       [ 0.        ,  0.8457713 ,  0.91208824, -2.10349804],\n",
       "       [ 0.        ,  0.79144112,  0.44921453, -1.58629415],\n",
       "       [ 0.        ,  1.15822999,  0.64983535, -2.15370384]])"
      ]
     },
     "execution_count": 197,
     "metadata": {},
     "output_type": "execute_result"
    }
   ],
   "source": [
    "np.array(calibrated_binding_energies).T"
   ]
  },
  {
   "cell_type": "code",
   "execution_count": 185,
   "id": "2433a19e",
   "metadata": {},
   "outputs": [
    {
     "data": {
      "text/plain": [
       "[0.7652058387206466,\n",
       " 0.8075031566704638,\n",
       " 0.6791204792697947,\n",
       " 0.7602968078541323,\n",
       " 0.6831831059223639,\n",
       " 0.9646457692483352,\n",
       " 0.8563596998404819,\n",
       " 0.7476562288475179,\n",
       " 0.588488669012559,\n",
       " 0.6508955746436236,\n",
       " 0.8169180146522415,\n",
       " 0.8712980052511057,\n",
       " 1.0364044460300192,\n",
       " 0.6919924347863677,\n",
       " 0.9261677687728813,\n",
       " 0.6863646310963638,\n",
       " 1.0386442347963047,\n",
       " 0.8977840114771141,\n",
       " 0.925384964856022,\n",
       " 0.9799311305003862,\n",
       " 1.1525007479736011,\n",
       " 0.7066080702102049,\n",
       " 0.8137146851326804,\n",
       " 0.7989723397663511,\n",
       " 0.9120882361074791,\n",
       " 0.791441119558197,\n",
       " 1.1582299890121242]"
      ]
     },
     "execution_count": 185,
     "metadata": {},
     "output_type": "execute_result"
    }
   ],
   "source": [
    "[np.max(dGn) for dGn in np.array(calibrated_binding_energies).T]"
   ]
  },
  {
   "cell_type": "code",
   "execution_count": 187,
   "id": "d2f26df3",
   "metadata": {
    "scrolled": false
   },
   "outputs": [
    {
     "data": {
      "text/plain": [
       "[0.9999999999998839,\n",
       " 0.9999999999999776,\n",
       " 0.9999999999966869,\n",
       " 0.9999999999998594,\n",
       " 0.9999999999971716,\n",
       " 1.0,\n",
       " 0.9999999999999967,\n",
       " 0.99999999999977,\n",
       " 0.9999999998872131,\n",
       " 0.9999999999900611,\n",
       " 0.9999999999999845,\n",
       " 0.9999999999999982,\n",
       " 1.0,\n",
       " 0.9999999999979925,\n",
       " 0.9999999999999998,\n",
       " 0.9999999999975009,\n",
       " 1.0,\n",
       " 0.9999999999999993,\n",
       " 0.9999999999999998,\n",
       " 1.0,\n",
       " 1.0,\n",
       " 0.9999999999988636,\n",
       " 0.9999999999999825,\n",
       " 0.9999999999999687,\n",
       " 0.9999999999999996,\n",
       " 0.9999999999999583,\n",
       " 1.0]"
      ]
     },
     "execution_count": 187,
     "metadata": {},
     "output_type": "execute_result"
    }
   ],
   "source": [
    "[1 / (1 + np.exp(- np.max(dGn) / 0.025692)) for dGn in np.array(calibrated_binding_energies).T]"
   ]
  },
  {
   "cell_type": "code",
   "execution_count": 186,
   "id": "d936e505",
   "metadata": {},
   "outputs": [
    {
     "data": {
      "text/plain": [
       "0.9999999999998577"
      ]
     },
     "execution_count": 186,
     "metadata": {},
     "output_type": "execute_result"
    }
   ],
   "source": [
    "1 / (1 + np.exp(- 0.76 / 0.025692)) # Er det meningen at det altid skal give 1?"
   ]
  },
  {
   "cell_type": "code",
   "execution_count": 181,
   "id": "bcf0de7f",
   "metadata": {},
   "outputs": [
    {
     "data": {
      "text/plain": [
       "0.025692508388298233"
      ]
     },
     "execution_count": 181,
     "metadata": {},
     "output_type": "execute_result"
    }
   ],
   "source": [
    "# We will precompute kB*T in units of eV\n",
    "kB = 1.3806452*10**(-23) # J/K unit\n",
    "T = 25+273.15 # K unit\n",
    "J_to_eV = 6.24150907*10**18\n",
    "kB*T*J_to_eV"
   ]
  },
  {
   "cell_type": "code",
   "execution_count": 199,
   "id": "4d74d9f1",
   "metadata": {},
   "outputs": [
    {
     "data": {
      "image/png": "[encoded data removed]",
      "text/plain": [
       "<Figure size 640x480 with 1 Axes>"
      ]
     },
     "metadata": {},
     "output_type": "display_data"
    }
   ],
   "source": [
    "plt.plot(np.linspace(-0.5, 0.5, 200), [sigmoid(n) for n in np.linspace(-0.5, 0.5, 200)])\n",
    "plt.show()"
   ]
  },
  {
   "cell_type": "code",
   "execution_count": 191,
   "id": "bc5d4434",
   "metadata": {},
   "outputs": [
    {
     "data": {
      "text/plain": [
       "1.0"
      ]
     },
     "execution_count": 191,
     "metadata": {},
     "output_type": "execute_result"
    }
   ],
   "source": [
    "sigmoid(np.linspace(-2, 2, 200))"
   ]
  },
  {
   "cell_type": "code",
   "execution_count": null,
   "id": "dd1b7173",
   "metadata": {},
   "outputs": [],
   "source": [
    "# Lav en automatisk \"Save to figures folder\" ting i plotte-tingene, så jeg kan se dem på GitHub Mobile"
   ]
  },
  {
   "cell_type": "code",
   "execution_count": 20,
   "id": "602bf8c1",
   "metadata": {
    "scrolled": false
   },
   "outputs": [
    {
     "data": {
      "image/png": "[encoded data removed]",
      "text/plain": [
       "<Figure size 640x480 with 1 Axes>"
      ]
     },
     "metadata": {},
     "output_type": "display_data"
    }
   ],
   "source": [
    "# The slab_energies and HEA energies match up! Yay!\n",
    "plt.plot(HEA_energies[\"COOH_C_adsorbed_out.db\"])\n",
    "plt.plot(slab_energies)\n",
    "plt.show()"
   ]
  },
  {
   "cell_type": "markdown",
   "id": "e14d4cb2",
   "metadata": {},
   "source": [
    "### Plotting energies (No corrections)"
   ]
  },
  {
   "cell_type": "code",
   "execution_count": 62,
   "id": "1b793831",
   "metadata": {
    "scrolled": false
   },
   "outputs": [
    {
     "data": {
      "image/png": "[encoded data removed]",
      "text/plain": [
       "<Figure size 700x500 with 1 Axes>"
      ]
     },
     "metadata": {},
     "output_type": "display_data"
    }
   ],
   "source": [
    "def plot_something(energy_dict):\n",
    "    fig, ax = plt.subplots(1, 1, figsize = (7, 5))\n",
    "    \n",
    "    for key in energy_dict.keys():\n",
    "        if key  \n",
    "        ax.hist(energy_dict[key], label = f\"{key}\"[:-3], bins=25, alpha = 0.5)\n",
    "    \n",
    "    ax.set_title(f\"Title\")\n",
    "    ax.set_yticks([])\n",
    "    ax.set_ylabel(\"ylabel\")\n",
    "    ax.set_xlabel(\"xlabel\")\n",
    "    ax.legend()\n",
    "    #plt.savefig(\"../figures/CV/combined_voltammogram.png\", dpi = 300, bbox_inches = \"tight\")\n",
    "    #fig.show()\n",
    "    plt.show()\n",
    "    return None\n",
    "    \n",
    "plot_something(HEA_energies)"
   ]
  },
  {
   "cell_type": "code",
   "execution_count": 63,
   "id": "73e7e058",
   "metadata": {},
   "outputs": [
    {
     "data": {
      "image/png": "[encoded data removed]",
      "text/plain": [
       "<Figure size 700x500 with 1 Axes>"
      ]
     },
     "metadata": {},
     "output_type": "display_data"
    }
   ],
   "source": [
    "plot_something(SE_energies)"
   ]
  },
  {
   "cell_type": "code",
   "execution_count": 52,
   "id": "d79d6677",
   "metadata": {},
   "outputs": [
    {
     "data": {
      "text/plain": [
       "dict_keys(['HCOOH_O_adsorbed_out.db', 'H_out.db', 'COOH_H_on_O_OO_adsorbed_out.db', 'COOH_O_adsorbed_out.db', 'CO_out.db', 'COOH_CO_adsorbed_out.db', 'COOH_H_on_C_OO_adsorbed_out.db', 'COOH_C_adsorbed_out.db', 'COOH_COH_adsorbed_out.db'])"
      ]
     },
     "execution_count": 52,
     "metadata": {},
     "output_type": "execute_result"
    }
   ],
   "source": [
    "HEA_energies.keys()"
   ]
  },
  {
   "cell_type": "markdown",
   "id": "b88dc219",
   "metadata": {},
   "source": [
    "### Fiddling with ase.db"
   ]
  },
  {
   "cell_type": "code",
   "execution_count": 48,
   "id": "6b88f8b1",
   "metadata": {
    "scrolled": false
   },
   "outputs": [
    {
     "name": "stdout",
     "output_type": "stream",
     "text": [
      "<AtomsRow: formula=Ag5Au7Cu10Pd12Pt11CH2O2, keys=idx,slab_idx,site_idx>\n",
      "<AtomsRow: formula=Ag5Au7Cu10Pd12Pt11CH2O2, keys=idx,slab_idx,site_idx>\n",
      "<AtomsRow: formula=Ag5Au7Cu10Pd12Pt11CH2O2, keys=idx,slab_idx,site_idx>\n",
      "<AtomsRow: formula=Ag5Au7Cu10Pd12Pt11CH2O2, keys=idx,slab_idx,site_idx>\n",
      "<AtomsRow: formula=Ag5Au7Cu10Pd12Pt11CH2O2, keys=idx,slab_idx,site_idx>\n",
      "<AtomsRow: formula=Ag5Au7Cu10Pd12Pt11CH2O2, keys=idx,slab_idx,site_idx>\n",
      "<AtomsRow: formula=Ag5Au7Cu10Pd12Pt11CH2O2, keys=idx,slab_idx,site_idx>\n",
      "<AtomsRow: formula=Ag5Au7Cu10Pd12Pt11CH2O2, keys=idx,slab_idx,site_idx>\n",
      "<AtomsRow: formula=Ag5Au7Cu10Pd12Pt11CH2O2, keys=idx,slab_idx,site_idx>\n",
      "<AtomsRow: formula=Ag13Au5Cu12Pd7Pt8CH2O2, keys=idx,slab_idx,site_idx>\n",
      "<AtomsRow: formula=Ag13Au5Cu12Pd7Pt8CH2O2, keys=idx,slab_idx,site_idx>\n",
      "<AtomsRow: formula=Ag13Au5Cu12Pd7Pt8CH2O2, keys=idx,slab_idx,site_idx>\n",
      "<AtomsRow: formula=Ag13Au5Cu12Pd7Pt8CH2O2, keys=idx,slab_idx,site_idx>\n",
      "<AtomsRow: formula=Ag13Au5Cu12Pd7Pt8CH2O2, keys=idx,slab_idx,site_idx>\n",
      "<AtomsRow: formula=Ag13Au5Cu12Pd7Pt8CH2O2, keys=idx,slab_idx,site_idx>\n",
      "<AtomsRow: formula=Ag13Au5Cu12Pd7Pt8CH2O2, keys=idx,slab_idx,site_idx>\n",
      "<AtomsRow: formula=Ag13Au5Cu12Pd7Pt8CH2O2, keys=idx,slab_idx,site_idx>\n",
      "<AtomsRow: formula=Ag13Au5Cu12Pd7Pt8CH2O2, keys=idx,slab_idx,site_idx>\n",
      "<AtomsRow: formula=Ag10Au5Cu8Pd14Pt8CH2O2, keys=idx,slab_idx,site_idx>\n",
      "<AtomsRow: formula=Ag10Au5Cu8Pd14Pt8CH2O2, keys=idx,slab_idx,site_idx>\n",
      "<AtomsRow: formula=Ag10Au5Cu8Pd14Pt8CH2O2, keys=idx,slab_idx,site_idx>\n",
      "<AtomsRow: formula=Ag10Au5Cu8Pd14Pt8CH2O2, keys=idx,slab_idx,site_idx>\n",
      "<AtomsRow: formula=Ag10Au5Cu8Pd14Pt8CH2O2, keys=idx,slab_idx,site_idx>\n",
      "<AtomsRow: formula=Ag10Au5Cu8Pd14Pt8CH2O2, keys=idx,slab_idx,site_idx>\n",
      "<AtomsRow: formula=Ag10Au5Cu8Pd14Pt8CH2O2, keys=idx,slab_idx,site_idx>\n",
      "<AtomsRow: formula=Ag10Au5Cu8Pd14Pt8CH2O2, keys=idx,slab_idx,site_idx>\n",
      "<AtomsRow: formula=Ag10Au5Cu8Pd14Pt8CH2O2, keys=idx,slab_idx,site_idx>\n"
     ]
    }
   ],
   "source": [
    "Dbong = connect(formic_acid_data_path + HAE_dbs[0])\n",
    "energy_list = []\n",
    "for row in Dbong.select(\"energy\"):\n",
    "    print(row)\n",
    "    energy_list.append(row.energy)"
   ]
  },
  {
   "cell_type": "code",
   "execution_count": 40,
   "id": "fe3c75bb",
   "metadata": {
    "collapsed": true
   },
   "outputs": [
    {
     "name": "stdout",
     "output_type": "stream",
     "text": [
      "Atoms(symbols='CuPdCuAuPdPt2CuAuPdAuPdPtPdAuAgPt2AuPtPdCuAgPd2AgPdPtAuCuPdAuAgPt2CuPdCuPtCuPtAgPdCu2OCOH2', pbc=[True, True, False], cell=[[8.231123626854087, 0.0, 0.0], [4.1155618134270435, 7.128362162545943, 0.0], [0.0, 0.0, 28.96091239802638]], tags=..., constraint=FixAtoms(indices=[0, 1, 2, 3, 4, 5, 6, 7, 8, 9, 10, 11, 12, 13, 14, 15, 16, 17, 18, 19, 20, 21, 22, 23, 24, 25, 26]), calculator=SinglePointCalculator(...))\n",
      "Atoms(symbols='CuPdCuAuPdPt2CuAuPdAuPdPtPdAuAgPt2AuPtPdCuAgPd2AgPdPtAuCuPdAuAgPt2CuPdCuPtCuPtAgPdCu2OCOH2', pbc=[True, True, False], cell=[[8.231123626854087, 0.0, 0.0], [4.1155618134270435, 7.128362162545943, 0.0], [0.0, 0.0, 28.96091239802638]], tags=..., constraint=FixAtoms(indices=[0, 1, 2, 3, 4, 5, 6, 7, 8, 9, 10, 11, 12, 13, 14, 15, 16, 17, 18, 19, 20, 21, 22, 23, 24, 25, 26]), calculator=SinglePointCalculator(...))\n",
      "Atoms(symbols='CuPdCuAuPdPt2CuAuPdAuPdPtPdAuAgPt2AuPtPdCuAgPd2AgPdPtAuCuPdAuAgPt2CuPdCuPtCuPtAgPdCu2OCOH2', pbc=[True, True, False], cell=[[8.231123626854087, 0.0, 0.0], [4.1155618134270435, 7.128362162545943, 0.0], [0.0, 0.0, 28.96091239802638]], tags=..., constraint=FixAtoms(indices=[0, 1, 2, 3, 4, 5, 6, 7, 8, 9, 10, 11, 12, 13, 14, 15, 16, 17, 18, 19, 20, 21, 22, 23, 24, 25, 26]), calculator=SinglePointCalculator(...))\n",
      "Atoms(symbols='CuPdCuAuPdPt2CuAuPdAuPdPtPdAuAgPt2AuPtPdCuAgPd2AgPdPtAuCuPdAuAgPt2CuPdCuPtCuPtAgPdCu2OCOH2', pbc=[True, True, False], cell=[[8.231123626854087, 0.0, 0.0], [4.1155618134270435, 7.128362162545943, 0.0], [0.0, 0.0, 28.96091239802638]], tags=..., constraint=FixAtoms(indices=[0, 1, 2, 3, 4, 5, 6, 7, 8, 9, 10, 11, 12, 13, 14, 15, 16, 17, 18, 19, 20, 21, 22, 23, 24, 25, 26]), calculator=SinglePointCalculator(...))\n",
      "Atoms(symbols='CuPdCuAuPdPt2CuAuPdAuPdPtPdAuAgPt2AuPtPdCuAgPd2AgPdPtAuCuPdAuAgPt2CuPdCuPtCuPtAgPdCu2OCOH2', pbc=[True, True, False], cell=[[8.231123626854087, 0.0, 0.0], [4.1155618134270435, 7.128362162545943, 0.0], [0.0, 0.0, 28.96091239802638]], tags=..., constraint=FixAtoms(indices=[0, 1, 2, 3, 4, 5, 6, 7, 8, 9, 10, 11, 12, 13, 14, 15, 16, 17, 18, 19, 20, 21, 22, 23, 24, 25, 26]), calculator=SinglePointCalculator(...))\n",
      "Atoms(symbols='CuPdCuAuPdPt2CuAuPdAuPdPtPdAuAgPt2AuPtPdCuAgPd2AgPdPtAuCuPdAuAgPt2CuPdCuPtCuPtAgPdCu2OCOH2', pbc=[True, True, False], cell=[[8.231123626854087, 0.0, 0.0], [4.1155618134270435, 7.128362162545943, 0.0], [0.0, 0.0, 28.96091239802638]], tags=..., constraint=FixAtoms(indices=[0, 1, 2, 3, 4, 5, 6, 7, 8, 9, 10, 11, 12, 13, 14, 15, 16, 17, 18, 19, 20, 21, 22, 23, 24, 25, 26]), calculator=SinglePointCalculator(...))\n",
      "Atoms(symbols='CuPdCuAuPdPt2CuAuPdAuPdPtPdAuAgPt2AuPtPdCuAgPd2AgPdPtAuCuPdAuAgPt2CuPdCuPtCuPtAgPdCu2OCOH2', pbc=[True, True, False], cell=[[8.231123626854087, 0.0, 0.0], [4.1155618134270435, 7.128362162545943, 0.0], [0.0, 0.0, 28.96091239802638]], tags=..., constraint=FixAtoms(indices=[0, 1, 2, 3, 4, 5, 6, 7, 8, 9, 10, 11, 12, 13, 14, 15, 16, 17, 18, 19, 20, 21, 22, 23, 24, 25, 26]), calculator=SinglePointCalculator(...))\n",
      "Atoms(symbols='CuPdCuAuPdPt2CuAuPdAuPdPtPdAuAgPt2AuPtPdCuAgPd2AgPdPtAuCuPdAuAgPt2CuPdCuPtCuPtAgPdCu2OCOH2', pbc=[True, True, False], cell=[[8.231123626854087, 0.0, 0.0], [4.1155618134270435, 7.128362162545943, 0.0], [0.0, 0.0, 28.96091239802638]], tags=..., constraint=FixAtoms(indices=[0, 1, 2, 3, 4, 5, 6, 7, 8, 9, 10, 11, 12, 13, 14, 15, 16, 17, 18, 19, 20, 21, 22, 23, 24, 25, 26]), calculator=SinglePointCalculator(...))\n",
      "Atoms(symbols='CuPdCuAuPdPt2CuAuPdAuPdPtPdAuAgPt2AuPtPdCuAgPd2AgPdPtAuCuPdAuAgPt2CuPdCuPtCuPtAgPdCu2OCOH2', pbc=[True, True, False], cell=[[8.231123626854087, 0.0, 0.0], [4.1155618134270435, 7.128362162545943, 0.0], [0.0, 0.0, 28.96091239802638]], tags=..., constraint=FixAtoms(indices=[0, 1, 2, 3, 4, 5, 6, 7, 8, 9, 10, 11, 12, 13, 14, 15, 16, 17, 18, 19, 20, 21, 22, 23, 24, 25, 26]), calculator=SinglePointCalculator(...))\n",
      "Atoms(symbols='PdPt2Cu2PtAuPtCuPdCuPtPdAg2AuPdAuAg4PdAg2CuAgPdCu2AuPtCu3AgCuPtPdAgPtAgCuAgAuOCOH2', pbc=[True, True, False], cell=[[8.531856140892724, 0.0, 0.0], [4.265928070446362, 7.388804159447362, 0.0], [0.0, 0.0, 29.288308490674844]], tags=..., constraint=FixAtoms(indices=[0, 1, 2, 3, 4, 5, 6, 7, 8, 9, 10, 11, 12, 13, 14, 15, 16, 17, 18, 19, 20, 21, 22, 23, 24, 25, 26]), calculator=SinglePointCalculator(...))\n",
      "Atoms(symbols='PdPt2Cu2PtAuPtCuPdCuPtPdAg2AuPdAuAg4PdAg2CuAgPdCu2AuPtCu3AgCuPtPdAgPtAgCuAgAuOCOH2', pbc=[True, True, False], cell=[[8.531856140892724, 0.0, 0.0], [4.265928070446362, 7.388804159447362, 0.0], [0.0, 0.0, 29.288308490674844]], tags=..., constraint=FixAtoms(indices=[0, 1, 2, 3, 4, 5, 6, 7, 8, 9, 10, 11, 12, 13, 14, 15, 16, 17, 18, 19, 20, 21, 22, 23, 24, 25, 26]), calculator=SinglePointCalculator(...))\n",
      "Atoms(symbols='PdPt2Cu2PtAuPtCuPdCuPtPdAg2AuPdAuAg4PdAg2CuAgPdCu2AuPtCu3AgCuPtPdAgPtAgCuAgAuOCOH2', pbc=[True, True, False], cell=[[8.531856140892724, 0.0, 0.0], [4.265928070446362, 7.388804159447362, 0.0], [0.0, 0.0, 29.288308490674844]], tags=..., constraint=FixAtoms(indices=[0, 1, 2, 3, 4, 5, 6, 7, 8, 9, 10, 11, 12, 13, 14, 15, 16, 17, 18, 19, 20, 21, 22, 23, 24, 25, 26]), calculator=SinglePointCalculator(...))\n",
      "Atoms(symbols='PdPt2Cu2PtAuPtCuPdCuPtPdAg2AuPdAuAg4PdAg2CuAgPdCu2AuPtCu3AgCuPtPdAgPtAgCuAgAuOCOH2', pbc=[True, True, False], cell=[[8.531856140892724, 0.0, 0.0], [4.265928070446362, 7.388804159447362, 0.0], [0.0, 0.0, 29.288308490674844]], tags=..., constraint=FixAtoms(indices=[0, 1, 2, 3, 4, 5, 6, 7, 8, 9, 10, 11, 12, 13, 14, 15, 16, 17, 18, 19, 20, 21, 22, 23, 24, 25, 26]), calculator=SinglePointCalculator(...))\n",
      "Atoms(symbols='PdPt2Cu2PtAuPtCuPdCuPtPdAg2AuPdAuAg4PdAg2CuAgPdCu2AuPtCu3AgCuPtPdAgPtAgCuAgAuOCOH2', pbc=[True, True, False], cell=[[8.531856140892724, 0.0, 0.0], [4.265928070446362, 7.388804159447362, 0.0], [0.0, 0.0, 29.288308490674844]], tags=..., constraint=FixAtoms(indices=[0, 1, 2, 3, 4, 5, 6, 7, 8, 9, 10, 11, 12, 13, 14, 15, 16, 17, 18, 19, 20, 21, 22, 23, 24, 25, 26]), calculator=SinglePointCalculator(...))\n",
      "Atoms(symbols='PdPt2Cu2PtAuPtCuPdCuPtPdAg2AuPdAuAg4PdAg2CuAgPdCu2AuPtCu3AgCuPtPdAgPtAgCuAgAuOCOH2', pbc=[True, True, False], cell=[[8.531856140892724, 0.0, 0.0], [4.265928070446362, 7.388804159447362, 0.0], [0.0, 0.0, 29.288308490674844]], tags=..., constraint=FixAtoms(indices=[0, 1, 2, 3, 4, 5, 6, 7, 8, 9, 10, 11, 12, 13, 14, 15, 16, 17, 18, 19, 20, 21, 22, 23, 24, 25, 26]), calculator=SinglePointCalculator(...))\n",
      "Atoms(symbols='PdPt2Cu2PtAuPtCuPdCuPtPdAg2AuPdAuAg4PdAg2CuAgPdCu2AuPtCu3AgCuPtPdAgPtAgCuAgAuOCOH2', pbc=[True, True, False], cell=[[8.531856140892724, 0.0, 0.0], [4.265928070446362, 7.388804159447362, 0.0], [0.0, 0.0, 29.288308490674844]], tags=..., constraint=FixAtoms(indices=[0, 1, 2, 3, 4, 5, 6, 7, 8, 9, 10, 11, 12, 13, 14, 15, 16, 17, 18, 19, 20, 21, 22, 23, 24, 25, 26]), calculator=SinglePointCalculator(...))\n",
      "Atoms(symbols='PdPt2Cu2PtAuPtCuPdCuPtPdAg2AuPdAuAg4PdAg2CuAgPdCu2AuPtCu3AgCuPtPdAgPtAgCuAgAuOCOH2', pbc=[True, True, False], cell=[[8.531856140892724, 0.0, 0.0], [4.265928070446362, 7.388804159447362, 0.0], [0.0, 0.0, 29.288308490674844]], tags=..., constraint=FixAtoms(indices=[0, 1, 2, 3, 4, 5, 6, 7, 8, 9, 10, 11, 12, 13, 14, 15, 16, 17, 18, 19, 20, 21, 22, 23, 24, 25, 26]), calculator=SinglePointCalculator(...))\n",
      "Atoms(symbols='PdPt2Cu2PtAuPtCuPdCuPtPdAg2AuPdAuAg4PdAg2CuAgPdCu2AuPtCu3AgCuPtPdAgPtAgCuAgAuOCOH2', pbc=[True, True, False], cell=[[8.531856140892724, 0.0, 0.0], [4.265928070446362, 7.388804159447362, 0.0], [0.0, 0.0, 29.288308490674844]], tags=..., constraint=FixAtoms(indices=[0, 1, 2, 3, 4, 5, 6, 7, 8, 9, 10, 11, 12, 13, 14, 15, 16, 17, 18, 19, 20, 21, 22, 23, 24, 25, 26]), calculator=SinglePointCalculator(...))\n",
      "Atoms(symbols='AgPd2AgCuPd2PtPdPtAg2Pd2AgPtCu2PtCuPtCuAgPdPtCuPd2AgAuAgCuAu2PtPdAgPdAuCuPd2AuPtAgOCOH2', pbc=[True, True, False], cell=[[8.598489169906536, 0.0, 0.0], [4.299244584953268, 7.44651005530443, 0.0], [0.0, 0.0, 29.360849344497026]], tags=..., constraint=FixAtoms(indices=[0, 1, 2, 3, 4, 5, 6, 7, 8, 9, 10, 11, 12, 13, 14, 15, 16, 17, 18, 19, 20, 21, 22, 23, 24, 25, 26]), calculator=SinglePointCalculator(...))\n",
      "Atoms(symbols='AgPd2AgCuPd2PtPdPtAg2Pd2AgPtCu2PtCuPtCuAgPdPtCuPd2AgAuAgCuAu2PtPdAgPdAuCuPd2AuPtAgOCOH2', pbc=[True, True, False], cell=[[8.598489169906536, 0.0, 0.0], [4.299244584953268, 7.44651005530443, 0.0], [0.0, 0.0, 29.360849344497026]], tags=..., constraint=FixAtoms(indices=[0, 1, 2, 3, 4, 5, 6, 7, 8, 9, 10, 11, 12, 13, 14, 15, 16, 17, 18, 19, 20, 21, 22, 23, 24, 25, 26]), calculator=SinglePointCalculator(...))\n",
      "Atoms(symbols='AgPd2AgCuPd2PtPdPtAg2Pd2AgPtCu2PtCuPtCuAgPdPtCuPd2AgAuAgCuAu2PtPdAgPdAuCuPd2AuPtAgOCOH2', pbc=[True, True, False], cell=[[8.598489169906536, 0.0, 0.0], [4.299244584953268, 7.44651005530443, 0.0], [0.0, 0.0, 29.360849344497026]], tags=..., constraint=FixAtoms(indices=[0, 1, 2, 3, 4, 5, 6, 7, 8, 9, 10, 11, 12, 13, 14, 15, 16, 17, 18, 19, 20, 21, 22, 23, 24, 25, 26]), calculator=SinglePointCalculator(...))\n",
      "Atoms(symbols='AgPd2AgCuPd2PtPdPtAg2Pd2AgPtCu2PtCuPtCuAgPdPtCuPd2AgAuAgCuAu2PtPdAgPdAuCuPd2AuPtAgOCOH2', pbc=[True, True, False], cell=[[8.598489169906536, 0.0, 0.0], [4.299244584953268, 7.44651005530443, 0.0], [0.0, 0.0, 29.360849344497026]], tags=..., constraint=FixAtoms(indices=[0, 1, 2, 3, 4, 5, 6, 7, 8, 9, 10, 11, 12, 13, 14, 15, 16, 17, 18, 19, 20, 21, 22, 23, 24, 25, 26]), calculator=SinglePointCalculator(...))\n",
      "Atoms(symbols='AgPd2AgCuPd2PtPdPtAg2Pd2AgPtCu2PtCuPtCuAgPdPtCuPd2AgAuAgCuAu2PtPdAgPdAuCuPd2AuPtAgOCOH2', pbc=[True, True, False], cell=[[8.598489169906536, 0.0, 0.0], [4.299244584953268, 7.44651005530443, 0.0], [0.0, 0.0, 29.360849344497026]], tags=..., constraint=FixAtoms(indices=[0, 1, 2, 3, 4, 5, 6, 7, 8, 9, 10, 11, 12, 13, 14, 15, 16, 17, 18, 19, 20, 21, 22, 23, 24, 25, 26]), calculator=SinglePointCalculator(...))\n",
      "Atoms(symbols='AgPd2AgCuPd2PtPdPtAg2Pd2AgPtCu2PtCuPtCuAgPdPtCuPd2AgAuAgCuAu2PtPdAgPdAuCuPd2AuPtAgOCOH2', pbc=[True, True, False], cell=[[8.598489169906536, 0.0, 0.0], [4.299244584953268, 7.44651005530443, 0.0], [0.0, 0.0, 29.360849344497026]], tags=..., constraint=FixAtoms(indices=[0, 1, 2, 3, 4, 5, 6, 7, 8, 9, 10, 11, 12, 13, 14, 15, 16, 17, 18, 19, 20, 21, 22, 23, 24, 25, 26]), calculator=SinglePointCalculator(...))\n",
      "Atoms(symbols='AgPd2AgCuPd2PtPdPtAg2Pd2AgPtCu2PtCuPtCuAgPdPtCuPd2AgAuAgCuAu2PtPdAgPdAuCuPd2AuPtAgOCOH2', pbc=[True, True, False], cell=[[8.598489169906536, 0.0, 0.0], [4.299244584953268, 7.44651005530443, 0.0], [0.0, 0.0, 29.360849344497026]], tags=..., constraint=FixAtoms(indices=[0, 1, 2, 3, 4, 5, 6, 7, 8, 9, 10, 11, 12, 13, 14, 15, 16, 17, 18, 19, 20, 21, 22, 23, 24, 25, 26]), calculator=SinglePointCalculator(...))\n",
      "Atoms(symbols='AgPd2AgCuPd2PtPdPtAg2Pd2AgPtCu2PtCuPtCuAgPdPtCuPd2AgAuAgCuAu2PtPdAgPdAuCuPd2AuPtAgOCOH2', pbc=[True, True, False], cell=[[8.598489169906536, 0.0, 0.0], [4.299244584953268, 7.44651005530443, 0.0], [0.0, 0.0, 29.360849344497026]], tags=..., constraint=FixAtoms(indices=[0, 1, 2, 3, 4, 5, 6, 7, 8, 9, 10, 11, 12, 13, 14, 15, 16, 17, 18, 19, 20, 21, 22, 23, 24, 25, 26]), calculator=SinglePointCalculator(...))\n",
      "Atoms(symbols='AgPd2AgCuPd2PtPdPtAg2Pd2AgPtCu2PtCuPtCuAgPdPtCuPd2AgAuAgCuAu2PtPdAgPdAuCuPd2AuPtAgOCOH2', pbc=[True, True, False], cell=[[8.598489169906536, 0.0, 0.0], [4.299244584953268, 7.44651005530443, 0.0], [0.0, 0.0, 29.360849344497026]], tags=..., constraint=FixAtoms(indices=[0, 1, 2, 3, 4, 5, 6, 7, 8, 9, 10, 11, 12, 13, 14, 15, 16, 17, 18, 19, 20, 21, 22, 23, 24, 25, 26]), calculator=SinglePointCalculator(...))\n"
     ]
    }
   ],
   "source": [
    "Dbong = connect(formic_acid_data_path + HAE_dbs[0])\n",
    "energy_list = []\n",
    "for row in Dbong.select():\n",
    "    #print(row.formula) #De keys man kan se med ase db er: id|age|user|formula|calculator|energy|natoms|fmax|pbc|volume|charge|mass|magmom\n",
    "    print(Dbong.get_atoms(row.id))\n",
    "    energy_list.append(row.energy)"
   ]
  },
  {
   "cell_type": "code",
   "execution_count": 38,
   "id": "fd846b76",
   "metadata": {
    "scrolled": true
   },
   "outputs": [
    {
     "data": {
      "text/plain": [
       "Atoms(symbols='CuPdCuAuPdPt2CuAuPdAuPdPtPdAuAgPt2AuPtPdCuAgPd2AgPdPtAuCuPdAuAgPt2CuPdCuPtCuPtAgPdCu2OCOH2', pbc=[True, True, False], cell=[[8.231123626854087, 0.0, 0.0], [4.1155618134270435, 7.128362162545943, 0.0], [0.0, 0.0, 28.96091239802638]], tags=..., constraint=FixAtoms(indices=[0, 1, 2, 3, 4, 5, 6, 7, 8, 9, 10, 11, 12, 13, 14, 15, 16, 17, 18, 19, 20, 21, 22, 23, 24, 25, 26]), calculator=SinglePointCalculator(...))"
      ]
     },
     "execution_count": 38,
     "metadata": {},
     "output_type": "execute_result"
    }
   ],
   "source": [
    "Dbong.get_atoms(2)"
   ]
  },
  {
   "cell_type": "code",
   "execution_count": 37,
   "id": "b9b55c76",
   "metadata": {
    "scrolled": true
   },
   "outputs": [
    {
     "data": {
      "text/plain": [
       "Cell([[8.231123626854087, 0.0, 0.0], [4.1155618134270435, 7.128362162545943, 0.0], [0.0, 0.0, 28.96091239802638]])"
      ]
     },
     "execution_count": 37,
     "metadata": {},
     "output_type": "execute_result"
    }
   ],
   "source": [
    "Dbong.get_atoms(2).cell"
   ]
  },
  {
   "cell_type": "markdown",
   "id": "cf0558c3",
   "metadata": {},
   "source": [
    "### Plotting template"
   ]
  },
  {
   "cell_type": "code",
   "execution_count": 49,
   "id": "38b92fbd",
   "metadata": {
    "collapsed": true
   },
   "outputs": [
    {
     "name": "stderr",
     "output_type": "stream",
     "text": [
      "No artists with labels found to put in legend.  Note that artists whose label start with an underscore are ignored when legend() is called with no argument.\n"
     ]
    },
    {
     "data": {
      "image/png": "[encoded data removed]",
      "text/plain": [
       "<Figure size 700x500 with 1 Axes>"
      ]
     },
     "metadata": {},
     "output_type": "display_data"
    }
   ],
   "source": [
    "def plot_something():\n",
    "    fig, ax = plt.subplots(1, 1, figsize = (7, 5))\n",
    "    \n",
    "    ax.set_title(f\"Title\")\n",
    "    ax.set_yticks([])\n",
    "    ax.set_ylabel(\"ylabel\")\n",
    "    ax.set_xlabel(\"xlabel\")\n",
    "    ax.legend()\n",
    "    #plt.savefig(\"../figures/CV/combined_voltammogram.png\", dpi = 300, bbox_inches = \"tight\")\n",
    "    #fig.show()\n",
    "    plt.show()\n",
    "    return None\n",
    "    \n",
    "plot_something()"
   ]
  }
 ],
 "metadata": {
  "kernelspec": {
   "display_name": "Python 3 (ipykernel)",
   "language": "python",
   "name": "python3"
  },
  "language_info": {
   "codemirror_mode": {
    "name": "ipython",
    "version": 3
   },
   "file_extension": ".py",
   "mimetype": "text/x-python",
   "name": "python",
   "nbconvert_exporter": "python",
   "pygments_lexer": "ipython3",
   "version": "3.10.8"
  }
 },
 "nbformat": 4,
 "nbformat_minor": 5
}
